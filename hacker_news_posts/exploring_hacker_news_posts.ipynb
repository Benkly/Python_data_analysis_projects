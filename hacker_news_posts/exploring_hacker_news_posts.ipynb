{
 "cells": [
  {
   "cell_type": "markdown",
   "id": "acb4acf4",
   "metadata": {},
   "source": [
    "# Timing Engagement: Analyzing the Hourly Impact on Social Media Comment Volume"
   ]
  },
  {
   "cell_type": "markdown",
   "id": "238dc1e3",
   "metadata": {},
   "source": [
    "### Abstract\n",
    "\n",
    "Analysis of posts from the Hacker News (HN) Forum was conducted on a sample of 20,000 posts scraped from the site during Sep. 2015 - Sep. 2016. Posts were separated into three distinct categories (`Ask HN`, `Show HN` and `Other`) and the data was explored to identify the impact of post submission hour on the comment volume. For a complete picture of the analysis process and conclusions, refer to the full analysis.\n",
    "\n",
    "*The main findings are outlined below:*\n",
    "\n",
    "* Posts falling into the `Ask HN` category generally accrued a greater average number of comments per post (**cpp**). `Ask` posts accrued an average of 14.04 cpp, compared to `Show` posts, receiving 10.32 cpp. \n",
    "\n",
    "* It was also noted that `Ask HN` posts with the greatest comment volume were typically posted between 3pm - 4pm EST, acquring an average of 38.59 cpp. This is a 60% increase compared to the second greatest posting hour of 2am - 3am EST (with an average of 23.81 cpp). \n",
    "\n",
    "* `Show` posts typically received a smaller comment volume than `Ask` posts. `Show` posts showing the largest comment volume (15.77 cpp) were posted between 6pm - 7pm EST.\n",
    "\n",
    "* Although `Other` posts received a smaller comment volume than some of the top performing posts in the `Ask` category, it was noted that `Other` posts often received a large number of comments regardless of the time of day the post was published."
   ]
  },
  {
   "cell_type": "markdown",
   "id": "0bd04803",
   "metadata": {},
   "source": [
    ">### Purpose of this Project\n",
    ">\n",
    ">The following portfolio project is designed to apply the skills listed below into a real-world context:\n",
    ">\n",
    ">* Manipulating strings for data analysis\n",
    ">* Object-oriented programming (OOP)\n",
    ">* Handling dates and times in the data anlysis process\n",
    ">* Functional programming (specifically, passing existing functions as arguments to other functions)\n",
    "\n",
    "## Project Background\n",
    "\n",
    "Hacker News (HN) is a website started by the startup incubator [Y Combinator](https://www.ycombinator.com), where users submit posts, receiving votes and comments (similar to how [Reddit](https://www.reddit.com) operates). HN is extremely popular in technology and startup circles, with posts making it to the top of the listings often receiving hundreds of thousands of visitors and impressions as a result. \n",
    "\n",
    "Users are able to submit posts to the HN community. Two of the common categories of post include:\n",
    "* `Ask HN` - where users ask the HN community a question or introduce a topic of discussion \n",
    "* `Show HN` - where users show the HN community a product, project or an interesting piece of media they have found\n",
    "\n",
    ">The goal of this data analysis process is to compare the above types of post to determine the following:\n",
    ">* Do `Ask HN` or `Show HN` posts receive more comments on average?\n",
    ">* Do posts created at a certain time of day receive more comments on average?\n",
    "\n",
    "## About the Dataset\n",
    "\n",
    "The original dataset can be found [here](https://www.kaggle.com/datasets/hacker-news/hacker-news-posts), a scrape of a year's worth of HN posts from September 2015 - September 2016. The raw dataset contains over 300,000 records.\n",
    "\n",
    "For the purposes of this portfolio project, the original dataset has been downsampled to contain 20,000 records by removing all posts from the original dataset that received no comments and taking a random-sample of the remaining records. \n",
    "\n",
    "#### Dataset Schema\n",
    "\n",
    "The following table summarises the fields found in the dataset:\n",
    "\n",
    "|Column name |Description                                                                                                   |\n",
    "|------------|--------------------------------------------------------------------------------------------------------------|\n",
    "|id          |The unique identifier for each post                                                                           |\n",
    "|title       |The title of the post                                                                                         |\n",
    "|url         |The url the post links to (if post has a linked url)                                                          |\n",
    "|num_points  |The number of points the post acquired (total number of downvotes subtracted from the total number of upvotes)|\n",
    "|num_comments|The number of comments on the post                                                                            |\n",
    "|author      |The username of the person who submitted the post                                                             |\n",
    "|created_at  |The date and time (**EST Timezone**) of a post's creation.                                                    |\n"
   ]
  },
  {
   "cell_type": "markdown",
   "id": "fa836ff9",
   "metadata": {},
   "source": [
    "## Reading in the data\n",
    "\n",
    "We begin by opening and reading the contents of the associated csv file. A **context manager** is used to handle file opening/closing to prevent data leaks. The `reader()` function from the csv module is imported from the [Python Standard Library](https://docs.python.org/3/library/csv.html) and the dataset is stored in a list of lists format, assigned to the variable `hn`."
   ]
  },
  {
   "cell_type": "code",
   "execution_count": 1,
   "id": "7a746cf7",
   "metadata": {},
   "outputs": [
    {
     "data": {
      "text/plain": [
       "[['id', 'title', 'url', 'num_points', 'num_comments', 'author', 'created_at'],\n",
       " ['12224879',\n",
       "  'Interactive Dynamic Video',\n",
       "  'http://www.interactivedynamicvideo.com/',\n",
       "  '386',\n",
       "  '52',\n",
       "  'ne0phyte',\n",
       "  '8/4/2016 11:52'],\n",
       " ['10975351',\n",
       "  'How to Use Open Source and Shut the Fuck Up at the Same Time',\n",
       "  'http://hueniverse.com/2016/01/26/how-to-use-open-source-and-shut-the-fuck-up-at-the-same-time/',\n",
       "  '39',\n",
       "  '10',\n",
       "  'josep2',\n",
       "  '1/26/2016 19:30'],\n",
       " ['11964716',\n",
       "  \"Florida DJs May Face Felony for April Fools' Water Joke\",\n",
       "  'http://www.thewire.com/entertainment/2013/04/florida-djs-april-fools-water-joke/63798/',\n",
       "  '2',\n",
       "  '1',\n",
       "  'vezycash',\n",
       "  '6/23/2016 22:20']]"
      ]
     },
     "execution_count": 1,
     "metadata": {},
     "output_type": "execute_result"
    }
   ],
   "source": [
    "# open the csv file and read in the data, converting to a list of lists.\n",
    "from csv import reader\n",
    "\n",
    "with open(\"hacker_news.csv\") as file:\n",
    "  read_file = reader(file)\n",
    "  hn = list(read_file)\n",
    "  \n",
    "hn[:4]"
   ]
  },
  {
   "cell_type": "markdown",
   "id": "c2f5928a",
   "metadata": {},
   "source": [
    "The header row is removed from the dataset, assigned to the `headers` variable, reassigning the `hn` varible to contain only the data."
   ]
  },
  {
   "cell_type": "code",
   "execution_count": 2,
   "id": "e6d724d0",
   "metadata": {},
   "outputs": [
    {
     "data": {
      "text/plain": [
       "['id', 'title', 'url', 'num_points', 'num_comments', 'author', 'created_at']"
      ]
     },
     "execution_count": 2,
     "metadata": {},
     "output_type": "execute_result"
    }
   ],
   "source": [
    "headers = hn[0]\n",
    "hn = hn[1:]  # remove the header row from the data\n",
    "\n",
    "headers"
   ]
  },
  {
   "cell_type": "code",
   "execution_count": 3,
   "id": "82a97a86",
   "metadata": {},
   "outputs": [
    {
     "data": {
      "text/plain": [
       "[['12224879',\n",
       "  'Interactive Dynamic Video',\n",
       "  'http://www.interactivedynamicvideo.com/',\n",
       "  '386',\n",
       "  '52',\n",
       "  'ne0phyte',\n",
       "  '8/4/2016 11:52'],\n",
       " ['10975351',\n",
       "  'How to Use Open Source and Shut the Fuck Up at the Same Time',\n",
       "  'http://hueniverse.com/2016/01/26/how-to-use-open-source-and-shut-the-fuck-up-at-the-same-time/',\n",
       "  '39',\n",
       "  '10',\n",
       "  'josep2',\n",
       "  '1/26/2016 19:30'],\n",
       " ['11964716',\n",
       "  \"Florida DJs May Face Felony for April Fools' Water Joke\",\n",
       "  'http://www.thewire.com/entertainment/2013/04/florida-djs-april-fools-water-joke/63798/',\n",
       "  '2',\n",
       "  '1',\n",
       "  'vezycash',\n",
       "  '6/23/2016 22:20']]"
      ]
     },
     "execution_count": 3,
     "metadata": {},
     "output_type": "execute_result"
    }
   ],
   "source": [
    "hn[:3]  # show the first three rows"
   ]
  },
  {
   "cell_type": "markdown",
   "id": "7fdbf03e",
   "metadata": {},
   "source": [
    "## Organising the Dataset\n",
    "\n",
    "Since we are only concerned with posts that have titles beginning with `Ask HN` and `Show HN`, we can filter the dataset to separate each of these types of posts into their own lists. \n",
    "\n",
    "The string methods `.startswith()` and `.lower()` can be used to achieve this."
   ]
  },
  {
   "cell_type": "code",
   "execution_count": 4,
   "id": "a659f0cf",
   "metadata": {},
   "outputs": [],
   "source": [
    "ask_posts = []\n",
    "show_posts = []\n",
    "other_posts = []\n",
    "\n",
    "for row in hn:\n",
    "  title = row[1]\n",
    "  \n",
    "  if title.lower().startswith('ask hn'): # add any posts starting with 'ask hn' to the ask_posts list\n",
    "    ask_posts.append(row)\n",
    "    \n",
    "  elif title.lower().startswith('show hn'): # add any posts starting with 'show hn' to the show_posts list\n",
    "    show_posts.append(row)\n",
    "    \n",
    "  else:\n",
    "    other_posts.append(row)"
   ]
  },
  {
   "cell_type": "code",
   "execution_count": 5,
   "id": "fec364c9",
   "metadata": {},
   "outputs": [
    {
     "data": {
      "text/plain": [
       "[['12296411',\n",
       "  'Ask HN: How to improve my personal website?',\n",
       "  '',\n",
       "  '2',\n",
       "  '6',\n",
       "  'ahmedbaracat',\n",
       "  '8/16/2016 9:55'],\n",
       " ['10610020',\n",
       "  'Ask HN: Am I the only one outraged by Twitter shutting down share counts?',\n",
       "  '',\n",
       "  '28',\n",
       "  '29',\n",
       "  'tkfx',\n",
       "  '11/22/2015 13:43']]"
      ]
     },
     "execution_count": 5,
     "metadata": {},
     "output_type": "execute_result"
    }
   ],
   "source": [
    "ask_posts[:2]"
   ]
  },
  {
   "cell_type": "code",
   "execution_count": 6,
   "id": "63b05dec",
   "metadata": {},
   "outputs": [
    {
     "data": {
      "text/plain": [
       "[['10627194',\n",
       "  'Show HN: Wio Link  ESP8266 Based Web of Things Hardware Development Platform',\n",
       "  'https://iot.seeed.cc',\n",
       "  '26',\n",
       "  '22',\n",
       "  'kfihihc',\n",
       "  '11/25/2015 14:03'],\n",
       " ['10646440',\n",
       "  'Show HN: Something pointless I made',\n",
       "  'http://dn.ht/picklecat/',\n",
       "  '747',\n",
       "  '102',\n",
       "  'dhotson',\n",
       "  '11/29/2015 22:46']]"
      ]
     },
     "execution_count": 6,
     "metadata": {},
     "output_type": "execute_result"
    }
   ],
   "source": [
    "show_posts[:2]"
   ]
  },
  {
   "cell_type": "code",
   "execution_count": 7,
   "id": "4b7c578f",
   "metadata": {},
   "outputs": [
    {
     "data": {
      "text/plain": [
       "[['12224879',\n",
       "  'Interactive Dynamic Video',\n",
       "  'http://www.interactivedynamicvideo.com/',\n",
       "  '386',\n",
       "  '52',\n",
       "  'ne0phyte',\n",
       "  '8/4/2016 11:52'],\n",
       " ['10975351',\n",
       "  'How to Use Open Source and Shut the Fuck Up at the Same Time',\n",
       "  'http://hueniverse.com/2016/01/26/how-to-use-open-source-and-shut-the-fuck-up-at-the-same-time/',\n",
       "  '39',\n",
       "  '10',\n",
       "  'josep2',\n",
       "  '1/26/2016 19:30']]"
      ]
     },
     "execution_count": 7,
     "metadata": {},
     "output_type": "execute_result"
    }
   ],
   "source": [
    "other_posts[:2]"
   ]
  },
  {
   "cell_type": "code",
   "execution_count": 8,
   "id": "827b294f",
   "metadata": {},
   "outputs": [
    {
     "name": "stdout",
     "output_type": "stream",
     "text": [
      "Number of ask posts: 1744\n",
      "\n",
      "\n",
      "Number of show posts: 1162\n",
      "\n",
      "\n",
      "Number of other posts: 17194\n"
     ]
    }
   ],
   "source": [
    "print(\"Number of ask posts:\", len(ask_posts))\n",
    "print(\"\\n\")\n",
    "print(\"Number of show posts:\", len(show_posts))\n",
    "print(\"\\n\")\n",
    "print(\"Number of other posts:\", len(other_posts))"
   ]
  },
  {
   "cell_type": "markdown",
   "id": "10f8c5e4",
   "metadata": {},
   "source": [
    "## Determining Average Number of Comments for each Category of Post"
   ]
  },
  {
   "cell_type": "code",
   "execution_count": 9,
   "id": "95b47269",
   "metadata": {},
   "outputs": [
    {
     "name": "stdout",
     "output_type": "stream",
     "text": [
      "The average number of comments for Ask HN posts is 14.04\n"
     ]
    }
   ],
   "source": [
    "total_ask_comments = 0\n",
    "\n",
    "for row in ask_posts:\n",
    "  num_comments = int(row[-3])\n",
    "  total_ask_comments += num_comments # iterate through all the ask posts and add the number of comments to the total\n",
    "\n",
    "avg_ask_comments = total_ask_comments / len(ask_posts) # calculate the average\n",
    "\n",
    "print(f\"The average number of comments for Ask HN posts is {avg_ask_comments:.2f}\")"
   ]
  },
  {
   "cell_type": "code",
   "execution_count": 10,
   "id": "af78d56a",
   "metadata": {},
   "outputs": [
    {
     "name": "stdout",
     "output_type": "stream",
     "text": [
      "The average number of comments for Show HN posts is 10.32\n"
     ]
    }
   ],
   "source": [
    "total_show_comments = 0\n",
    "\n",
    "for row in show_posts:\n",
    "  num_comments = int(row[-3])\n",
    "  total_show_comments += num_comments\n",
    "\n",
    "avg_show_comments = total_show_comments / len(show_posts)\n",
    "\n",
    "print(f\"The average number of comments for Show HN posts is {avg_show_comments:.2f}\")"
   ]
  },
  {
   "cell_type": "markdown",
   "id": "44da1f3e",
   "metadata": {},
   "source": [
    "On average, of the posts receiving at least one comment, we see **engagement is slightly greater for Ask HN posts**, indicating the user base may be more inclined to comment on posts when the author of the post is looking for advice or poses a question. \n",
    "\n",
    "It is important to consider that this conclusion has been drawn from a relatively small sample of the available dataset, so there is likely some variability in these calculated averages when compared to the true population means.\n",
    "\n",
    "Despite this, it is fair to expect the trend to be similar for the entire population, with ask posts receiving a larger number of comments on average.\n",
    "\n",
    "---\n",
    "\n",
    "*Note, since we have removed posts from the dataset that did not receive any comments, we have lost some of the finer detail. Including these would skew the mean values, hence their removal, but it does prevent us from making a more complete conclusion.*\n",
    "\n",
    "*For instance, we cannot confidently conclude that **all** Ask HN posts are more successful on average than Show HN posts; the reality could be that many more Ask HN posts with zero comments are present in the dataset than Show HN posts with zero comments (meaning writing the more engaging Ask posts is more challenging when compared to writing an engaging show post).* \n",
    "\n",
    "*Further analysis would be required to make a more informed conclusion here, but this lies outside of the initial scope of the project, so will not be covered here.*"
   ]
  },
  {
   "cell_type": "code",
   "execution_count": 11,
   "id": "8da8c238",
   "metadata": {},
   "outputs": [
    {
     "name": "stdout",
     "output_type": "stream",
     "text": [
      "The average number of comments for 'Other' posts is 26.87\n"
     ]
    }
   ],
   "source": [
    "total_other_comments = 0\n",
    "\n",
    "for row in other_posts:\n",
    "  num_comments = int(row[-3])\n",
    "  total_other_comments += num_comments\n",
    "\n",
    "avg_other_comments = total_other_comments / len(other_posts)\n",
    "\n",
    "print(f\"The average number of comments for 'Other' posts is {avg_other_comments:.2f}\")"
   ]
  },
  {
   "cell_type": "markdown",
   "id": "4589fada",
   "metadata": {},
   "source": [
    "Briefly looking at the average for posts falling into the `other` category, we see a much greater average than either Ask or Show posts."
   ]
  },
  {
   "cell_type": "markdown",
   "id": "c74b4e34",
   "metadata": {},
   "source": [
    "## Frequency of Posts and Comments by Hour Created\n",
    "\n",
    "To get an insight into whether posts created at a specific time of day have a higher number of comments on average, we can first determine the frequency of posts created at each hour during the day (alongside the total number of comments received from all posts for each hour of the day).\n",
    "\n",
    "To do this, we first import the `datetime` module from the [Python Standard Library](https://docs.python.org/3/library/datetime.html). The alias `dt` is used to refer to the module in the script for improved legibility and to ensure the module name is distinct from the `datetime` class contained within the module. \n",
    "\n",
    "The datetime module contains three classes (`datetime`, `time` and `timedelta`) for handling date and time data. In the code block below, we utilise the `.strptime()` method from the `datetime` class to parse the date and time from the `created_at` field in the dataset, extracting the 24-hour representation of the time from each string using the `.strftime()` method. \n",
    "\n",
    "Parsing the hour that each post was created from the dataset allows us to create two dictionaries with keys corresponding to all hours in a given day (in 24-hour format). The `posts_by_hour` dictionary stores the number of posts created for each hour in a given day (hour : number_of_posts). The `comments_by_hour` dictionary is similar, but showcases the total number of comments received by all posts created during that hour of the day (hour : total_number_of_comments_for_all_posts).\n",
    "\n",
    "---\n",
    "\n",
    "*Ideas from functional programming were implemented in the code below. The `post_creation_and_comments` function is passed as a keyword argument into the following `posts_by_hour` function, enabling the `posts_by_hour` function to be used directly on the original dataset to summarise posts_by_hour or comments_by_hour without the need to write additional code.*"
   ]
  },
  {
   "cell_type": "code",
   "execution_count": 12,
   "id": "b1b78395",
   "metadata": {},
   "outputs": [],
   "source": [
    "import datetime as dt\n",
    "\n",
    "def post_creation_and_comments(dataset):  # a function that returns a list of lists containing only the post creation date and number of comments for a given dataset\n",
    "  results_list =  []\n",
    "  \n",
    "  for row in dataset:\n",
    "    creation_date = row[-1]\n",
    "    num_comments = int(row[-3])\n",
    "    \n",
    "    results_list.append([creation_date, num_comments])\n",
    "    \n",
    "  return results_list "
   ]
  },
  {
   "cell_type": "markdown",
   "id": "e4ddc83b",
   "metadata": {},
   "source": [
    "The first five creation dates and times and number of comments for posts in the `ask_posts` dataset outputted from the `post_creation_and_comments` function:"
   ]
  },
  {
   "cell_type": "code",
   "execution_count": 13,
   "id": "0fe41308",
   "metadata": {},
   "outputs": [
    {
     "data": {
      "text/plain": [
       "[['8/16/2016 9:55', 6],\n",
       " ['11/22/2015 13:43', 29],\n",
       " ['5/2/2016 10:14', 1],\n",
       " ['8/2/2016 14:20', 3],\n",
       " ['10/15/2015 16:38', 17]]"
      ]
     },
     "execution_count": 13,
     "metadata": {},
     "output_type": "execute_result"
    }
   ],
   "source": [
    "post_creation_and_comments(ask_posts)[:5]"
   ]
  },
  {
   "cell_type": "code",
   "execution_count": 14,
   "id": "4a6d32b3",
   "metadata": {},
   "outputs": [],
   "source": [
    "# the posts_by_hour function returns the number of posts created at each hour of the day. \n",
    "# if the 'comments' parameter is set to True, the function returns the number of comments received on all posts created at that hour\n",
    "def posts_by_hour(dataset, func = post_creation_and_comments, comments = False): \n",
    "  counts_by_hour = {}\n",
    "  comments_by_hour = {}\n",
    "  \n",
    "  post_info = post_creation_and_comments(dataset) # assigns creation-date/time and number of comments for each post in the specified dataset to a variable by calling the post_creation_and_comments function\n",
    "  \n",
    "  for element in post_info:\n",
    "    creation_date = element[0]\n",
    "    num_comments = element[1]\n",
    "    date_format = \"%m/%d/%Y %H:%M\"\n",
    "    creation_hour = dt.datetime.strptime(creation_date, date_format).strftime(\"%H\") # converts the creation date to a string in the desired format and extracts the hour only\n",
    "    \n",
    "    if creation_hour not in counts_by_hour: # iterate through the creation hours for all posts and count the number of posts and number of comments by hour\n",
    "      counts_by_hour[creation_hour] = 1 \n",
    "      comments_by_hour[creation_hour] = num_comments\n",
    "      \n",
    "    else:\n",
    "      counts_by_hour[creation_hour] += 1\n",
    "      comments_by_hour[creation_hour] += num_comments\n",
    "      \n",
    "  if comments: # if the 'comments' parameter is set to True, function outputs the number of comments by hour\n",
    "    return comments_by_hour\n",
    "  \n",
    "  else: # if the 'comments' parameter is set to False, function outputs the number of posts by hour\n",
    "    return counts_by_hour\n"
   ]
  },
  {
   "cell_type": "markdown",
   "id": "d78ec7d5",
   "metadata": {},
   "source": [
    "The result of passing the `ask_posts` dataset to the `posts_by_hour` function. The 'comments' parameter is set to `False`, meaning the dictionary returned shows the number of posts created at the specified hour of the day."
   ]
  },
  {
   "cell_type": "code",
   "execution_count": 15,
   "id": "4690f800",
   "metadata": {},
   "outputs": [
    {
     "data": {
      "text/plain": [
       "{'09': 45,\n",
       " '13': 85,\n",
       " '10': 59,\n",
       " '14': 107,\n",
       " '16': 108,\n",
       " '23': 68,\n",
       " '12': 73,\n",
       " '17': 100,\n",
       " '15': 116,\n",
       " '21': 109,\n",
       " '20': 80,\n",
       " '02': 58,\n",
       " '18': 109,\n",
       " '03': 54,\n",
       " '05': 46,\n",
       " '19': 110,\n",
       " '01': 60,\n",
       " '22': 71,\n",
       " '08': 48,\n",
       " '04': 47,\n",
       " '00': 55,\n",
       " '06': 44,\n",
       " '07': 34,\n",
       " '11': 58}"
      ]
     },
     "execution_count": 15,
     "metadata": {},
     "output_type": "execute_result"
    }
   ],
   "source": [
    "posts_by_hour(ask_posts, comments=False)"
   ]
  },
  {
   "cell_type": "markdown",
   "id": "bdb94ea1",
   "metadata": {},
   "source": [
    "As above, but the 'comments' parameter is set to `True`, meaning the dictionary returned shows the total number of comments for all posts created during the specified hour of the day."
   ]
  },
  {
   "cell_type": "code",
   "execution_count": 16,
   "id": "bbaeb1c3",
   "metadata": {},
   "outputs": [
    {
     "data": {
      "text/plain": [
       "{'09': 251,\n",
       " '13': 1253,\n",
       " '10': 793,\n",
       " '14': 1416,\n",
       " '16': 1814,\n",
       " '23': 543,\n",
       " '12': 687,\n",
       " '17': 1146,\n",
       " '15': 4477,\n",
       " '21': 1745,\n",
       " '20': 1722,\n",
       " '02': 1381,\n",
       " '18': 1439,\n",
       " '03': 421,\n",
       " '05': 464,\n",
       " '19': 1188,\n",
       " '01': 683,\n",
       " '22': 479,\n",
       " '08': 492,\n",
       " '04': 337,\n",
       " '00': 447,\n",
       " '06': 397,\n",
       " '07': 267,\n",
       " '11': 641}"
      ]
     },
     "execution_count": 16,
     "metadata": {},
     "output_type": "execute_result"
    }
   ],
   "source": [
    "posts_by_hour(ask_posts, comments=True)"
   ]
  },
  {
   "cell_type": "markdown",
   "id": "33be5645",
   "metadata": {},
   "source": [
    "## Organising the Results\n",
    "\n",
    "To improve the presentation of these results, further functions are defined to organise the `key : value` pairs (with the midnight hour `00` appearing at the top of the output through to 11 pm `23` at the bottom).\n",
    "\n",
    "As dictionaries are inherently an **unordered** data structure in Python, the `key : value` pairs from each dictionary are first converted to a tuple (as tuples are ordered data structures) enabling the sorted() function to be applied. The resulting output arranges the results found above into a logical order."
   ]
  },
  {
   "cell_type": "code",
   "execution_count": 17,
   "id": "e0943452",
   "metadata": {},
   "outputs": [],
   "source": [
    "def ordered_posts_by_hour(dataset, func = posts_by_hour): # outputs the number of posts by hour in an ordered list\n",
    "  posts_by_hour = func(dataset) # calls the posts_by_hour function on the specified dataset, returning a dictionary like the one above\n",
    "  posts_by_hour_display = []\n",
    "  \n",
    "  for key in posts_by_hour: # converts key:value pairs from the posts_by_hour dictionary into tuples, adds them to a list and then orders the list of tuples by the key value within each tuple\n",
    "    key_val_as_tuple = (key, posts_by_hour[key]) \n",
    "    posts_by_hour_display.append(key_val_as_tuple)\n",
    "    posts_by_hour_sorted = sorted(posts_by_hour_display, reverse = False) \n",
    "    \n",
    "  for entry in posts_by_hour_sorted: # iterates over the ordered list of tuples and outputs the key and value in the specified format\n",
    "    print(entry[0], \":\", entry[1])"
   ]
  },
  {
   "cell_type": "markdown",
   "id": "3e78ecee",
   "metadata": {},
   "source": [
    "### Ask HN - Daily Post Frequency and Comments Received"
   ]
  },
  {
   "cell_type": "code",
   "execution_count": 18,
   "id": "15e61023",
   "metadata": {},
   "outputs": [
    {
     "name": "stdout",
     "output_type": "stream",
     "text": [
      "A breakdown of the number of Ask HN posts created at each hour of the day: \n",
      "\n",
      "00 : 55\n",
      "01 : 60\n",
      "02 : 58\n",
      "03 : 54\n",
      "04 : 47\n",
      "05 : 46\n",
      "06 : 44\n",
      "07 : 34\n",
      "08 : 48\n",
      "09 : 45\n",
      "10 : 59\n",
      "11 : 58\n",
      "12 : 73\n",
      "13 : 85\n",
      "14 : 107\n",
      "15 : 116\n",
      "16 : 108\n",
      "17 : 100\n",
      "18 : 109\n",
      "19 : 110\n",
      "20 : 80\n",
      "21 : 109\n",
      "22 : 71\n",
      "23 : 68\n"
     ]
    }
   ],
   "source": [
    "print(\"A breakdown of the number of Ask HN posts created at each hour of the day: \\n\")\n",
    "\n",
    "ordered_posts_by_hour(ask_posts)"
   ]
  },
  {
   "cell_type": "markdown",
   "id": "99f23404",
   "metadata": {},
   "source": [
    "These results indicate a greater number of Ask HN posts are submitted onto the site during the early afternoon to the late evening (between the hours of 2pm - 9pm EST)."
   ]
  },
  {
   "cell_type": "markdown",
   "id": "c9269887",
   "metadata": {},
   "source": [
    "To create the same functionality for the comments by hour, a new function `comments_by_hour` is defined based on the `posts_by_hour` function, except the comments parameter defaults to True. This enables the same code block above to be used on the `comments_by_hour` function to generate an ordered list of comments by hour."
   ]
  },
  {
   "cell_type": "code",
   "execution_count": 19,
   "id": "e04cfa89",
   "metadata": {},
   "outputs": [],
   "source": [
    "def comments_by_hour(dataset, comments = True): # outputs the number of comments by hour\n",
    "  comments_by_hour = posts_by_hour(dataset, comments = True) # calls the posts_by_hour function on the specified dataset wiht the comments parameter set to True\n",
    "  \n",
    "  return comments_by_hour"
   ]
  },
  {
   "cell_type": "code",
   "execution_count": 20,
   "id": "8269a614",
   "metadata": {},
   "outputs": [],
   "source": [
    "def ordered_comments_by_hour(dataset, func = comments_by_hour): # outputs the number of comments by hour in an ordered list using the same logic as previous\n",
    "  posts_by_hour = func(dataset)\n",
    "  posts_by_hour_display = []\n",
    "  \n",
    "  for key in posts_by_hour:\n",
    "    key_val_as_tuple = (key, posts_by_hour[key])\n",
    "    posts_by_hour_display.append(key_val_as_tuple)\n",
    "    \n",
    "    posts_by_hour_sorted = sorted(posts_by_hour_display, reverse = False)\n",
    "    \n",
    "  for entry in posts_by_hour_sorted:\n",
    "    print(entry[0], \":\", entry[1])"
   ]
  },
  {
   "cell_type": "code",
   "execution_count": 21,
   "id": "938baa8d",
   "metadata": {},
   "outputs": [
    {
     "name": "stdout",
     "output_type": "stream",
     "text": [
      "A breakdown of the number of comments Ask HN posts created at each hour of the day received: \n",
      "\n",
      "00 : 447\n",
      "01 : 683\n",
      "02 : 1381\n",
      "03 : 421\n",
      "04 : 337\n",
      "05 : 464\n",
      "06 : 397\n",
      "07 : 267\n",
      "08 : 492\n",
      "09 : 251\n",
      "10 : 793\n",
      "11 : 641\n",
      "12 : 687\n",
      "13 : 1253\n",
      "14 : 1416\n",
      "15 : 4477\n",
      "16 : 1814\n",
      "17 : 1146\n",
      "18 : 1439\n",
      "19 : 1188\n",
      "20 : 1722\n",
      "21 : 1745\n",
      "22 : 479\n",
      "23 : 543\n"
     ]
    }
   ],
   "source": [
    "print(\"A breakdown of the number of comments Ask HN posts created at each hour of the day received: \\n\")\n",
    "\n",
    "ordered_comments_by_hour(ask_posts)"
   ]
  },
  {
   "cell_type": "markdown",
   "id": "5044d56a",
   "metadata": {},
   "source": [
    "A similar pattern seems to exist when looking at the total number of comments `Ask HN` posts received. Those that were authored in the early afternoon to late evening (1pm - 9pm EST) received the greatest number of comments.\n",
    "\n",
    "This is is partly because of the elevated number of `Ask HN` posts created during these hours, but will also likely coincide with the times where there are the greatest number of users engaging with content on the site.\n"
   ]
  },
  {
   "cell_type": "markdown",
   "id": "19704ee0",
   "metadata": {},
   "source": [
    "### Show HN - Daily Post Frequency and Comments Received"
   ]
  },
  {
   "cell_type": "code",
   "execution_count": 22,
   "id": "43b77f3f",
   "metadata": {},
   "outputs": [
    {
     "name": "stdout",
     "output_type": "stream",
     "text": [
      "A breakdown of the number of Show HN posts created at each hour of the day: \n",
      "\n",
      "00 : 31\n",
      "01 : 28\n",
      "02 : 30\n",
      "03 : 27\n",
      "04 : 26\n",
      "05 : 19\n",
      "06 : 16\n",
      "07 : 26\n",
      "08 : 34\n",
      "09 : 30\n",
      "10 : 36\n",
      "11 : 44\n",
      "12 : 61\n",
      "13 : 99\n",
      "14 : 86\n",
      "15 : 78\n",
      "16 : 93\n",
      "17 : 93\n",
      "18 : 61\n",
      "19 : 55\n",
      "20 : 60\n",
      "21 : 47\n",
      "22 : 46\n",
      "23 : 36\n"
     ]
    }
   ],
   "source": [
    "print(\"A breakdown of the number of Show HN posts created at each hour of the day: \\n\")\n",
    "\n",
    "ordered_posts_by_hour(show_posts)"
   ]
  },
  {
   "cell_type": "markdown",
   "id": "f1b4dfbf",
   "metadata": {},
   "source": [
    "Comparing the `Show HN` posts with the `Ask HN` posts, a similar trend is uncovered, with the majority of posts being authored in the early afternoon to early evening (1pm - 5pm EST)."
   ]
  },
  {
   "cell_type": "code",
   "execution_count": 23,
   "id": "854e8338",
   "metadata": {},
   "outputs": [
    {
     "name": "stdout",
     "output_type": "stream",
     "text": [
      "A breakdown of the number of comments Show HN posts created at each hour of the day received: \n",
      "\n",
      "00 : 487\n",
      "01 : 246\n",
      "02 : 127\n",
      "03 : 287\n",
      "04 : 247\n",
      "05 : 58\n",
      "06 : 142\n",
      "07 : 299\n",
      "08 : 165\n",
      "09 : 291\n",
      "10 : 297\n",
      "11 : 491\n",
      "12 : 720\n",
      "13 : 946\n",
      "14 : 1156\n",
      "15 : 632\n",
      "16 : 1084\n",
      "17 : 911\n",
      "18 : 962\n",
      "19 : 539\n",
      "20 : 612\n",
      "21 : 272\n",
      "22 : 570\n",
      "23 : 447\n"
     ]
    }
   ],
   "source": [
    "print(\"A breakdown of the number of comments Show HN posts created at each hour of the day received: \\n\")\n",
    "\n",
    "ordered_comments_by_hour(show_posts)"
   ]
  },
  {
   "cell_type": "markdown",
   "id": "819f4e72",
   "metadata": {},
   "source": [
    "Extracting the total number of comments for `Show HN` posts authored each hour suggests there are fewer hours during the day where there are a larger than average number of comments flooding into the `Show HN` posts. We observe posts submitted at 2pm and 4pm EST specifically seem to acquire a larger share of the total comments, with more notable drop-offs outside of this range. \n",
    "\n",
    "This is partly because there are a greater number of `Show HN` posts being authored during these times, but is likely also because these times are when the largest number of users are engaging with content on the site."
   ]
  },
  {
   "cell_type": "markdown",
   "id": "a5259f86",
   "metadata": {},
   "source": [
    "### Calculating the Average Number of Comments for Posts by Hour"
   ]
  },
  {
   "cell_type": "markdown",
   "id": "148d53a5",
   "metadata": {},
   "source": [
    "The `avg_number_comments_by_hour` function is defined by passing a `dataset` parameter and the `comments_by_hour` function as a default keyword argument. The dictionary resulting from the `comments_by_hour` function passed on the given dataset is assigned to the variable `comments_by_hour`.\n",
    "\n",
    "The contents of the comments_by_hour dictionary is iterated over, appending the hour with its associated average number of comments (calculated by `comments_by_hour[key] / posts_by_hour(dataset)[key]`)."
   ]
  },
  {
   "cell_type": "code",
   "execution_count": 24,
   "id": "0c1dce2e",
   "metadata": {},
   "outputs": [
    {
     "data": {
      "text/plain": [
       "[['09', 5.5777777777777775],\n",
       " ['13', 14.741176470588234],\n",
       " ['10', 13.440677966101696],\n",
       " ['14', 13.233644859813085],\n",
       " ['16', 16.796296296296298],\n",
       " ['23', 7.985294117647059],\n",
       " ['12', 9.41095890410959],\n",
       " ['17', 11.46],\n",
       " ['15', 38.5948275862069],\n",
       " ['21', 16.009174311926607],\n",
       " ['20', 21.525],\n",
       " ['02', 23.810344827586206],\n",
       " ['18', 13.20183486238532],\n",
       " ['03', 7.796296296296297],\n",
       " ['05', 10.08695652173913],\n",
       " ['19', 10.8],\n",
       " ['01', 11.383333333333333],\n",
       " ['22', 6.746478873239437],\n",
       " ['08', 10.25],\n",
       " ['04', 7.170212765957447],\n",
       " ['00', 8.127272727272727],\n",
       " ['06', 9.022727272727273],\n",
       " ['07', 7.852941176470588],\n",
       " ['11', 11.051724137931034]]"
      ]
     },
     "execution_count": 24,
     "metadata": {},
     "output_type": "execute_result"
    }
   ],
   "source": [
    "def avg_number_comments_by_hour(dataset, func=comments_by_hour): # outputs the average number of comments for each hour\n",
    "  comments_by_hour = func(dataset) # calls the comments_by_hour function on the specified dataset\n",
    "  avg_by_hour = []\n",
    "  \n",
    "  for key in comments_by_hour:\n",
    "    avg_by_hour.append([key, comments_by_hour[key] / posts_by_hour(dataset)[key]]) # iterates through the comments_by_hour dictionary and calculates the average number of comments for each hour\n",
    "    \n",
    "  return avg_by_hour\n",
    "\n",
    "avg_number_comments_by_hour(ask_posts)"
   ]
  },
  {
   "cell_type": "markdown",
   "id": "4d98ca49",
   "metadata": {},
   "source": [
    "The output generated by the above `avg_number_comments_by_hour` function is then formatted by reversing the items indexed within each inner list and sorting the inner lists such that the greatest average is placed at the start of the list, down to the smallest average at the end of the list."
   ]
  },
  {
   "cell_type": "code",
   "execution_count": 25,
   "id": "cc5e0edc",
   "metadata": {},
   "outputs": [
    {
     "data": {
      "text/plain": [
       "[[38.5948275862069, '15'],\n",
       " [23.810344827586206, '02'],\n",
       " [21.525, '20'],\n",
       " [16.796296296296298, '16'],\n",
       " [16.009174311926607, '21'],\n",
       " [14.741176470588234, '13'],\n",
       " [13.440677966101696, '10'],\n",
       " [13.233644859813085, '14'],\n",
       " [13.20183486238532, '18'],\n",
       " [11.46, '17'],\n",
       " [11.383333333333333, '01'],\n",
       " [11.051724137931034, '11'],\n",
       " [10.8, '19'],\n",
       " [10.25, '08'],\n",
       " [10.08695652173913, '05'],\n",
       " [9.41095890410959, '12'],\n",
       " [9.022727272727273, '06'],\n",
       " [8.127272727272727, '00'],\n",
       " [7.985294117647059, '23'],\n",
       " [7.852941176470588, '07'],\n",
       " [7.796296296296297, '03'],\n",
       " [7.170212765957447, '04'],\n",
       " [6.746478873239437, '22'],\n",
       " [5.5777777777777775, '09']]"
      ]
     },
     "execution_count": 25,
     "metadata": {},
     "output_type": "execute_result"
    }
   ],
   "source": [
    "def ordered_avg_comments_by_hour(dataset, func=avg_number_comments_by_hour): # outputs the average number of comments for each hour in an ordered list, again using the sorted method as previous\n",
    "  avg_by_hour = func(dataset)\n",
    "  reversed_avg_by_hour = []\n",
    "  \n",
    "  for entry in avg_by_hour:\n",
    "    hour = entry[0]\n",
    "    avg_comments = entry[1]\n",
    "    reversed_avg_by_hour.append([avg_comments, hour])\n",
    "    \n",
    "    sorted_avg_by_hour = sorted(reversed_avg_by_hour, reverse = True)\n",
    "    \n",
    "  return sorted_avg_by_hour\n",
    "    \n",
    "ordered_avg_comments_by_hour(ask_posts)"
   ]
  },
  {
   "cell_type": "markdown",
   "id": "b02ef513",
   "metadata": {},
   "source": [
    "The final results for the `Ask HN` and `Show HN` datasets are summarised below, returning the top 5 most active hours for comments on each type of post."
   ]
  },
  {
   "cell_type": "code",
   "execution_count": null,
   "id": "036df0d2",
   "metadata": {},
   "outputs": [
    {
     "name": "stdout",
     "output_type": "stream",
     "text": [
      "The top 5 hours for comments on 'Ask HN' posts: \n",
      "\n",
      "- 15:00: 38.59 average comments per post\n",
      "\n",
      "\n",
      "- 02:00: 23.81 average comments per post\n",
      "\n",
      "\n",
      "- 20:00: 21.52 average comments per post\n",
      "\n",
      "\n",
      "- 16:00: 16.80 average comments per post\n",
      "\n",
      "\n",
      "- 21:00: 16.01 average comments per post\n",
      "\n",
      "\n"
     ]
    }
   ],
   "source": [
    "print(\"The top 5 hours for comments on 'Ask HN' posts: \\n\")\n",
    "for avg, hour in ordered_avg_comments_by_hour(ask_posts)[:5]:\n",
    "  print(f\"- {dt.datetime.strptime(hour, '%H').strftime('%H:%M')}: {avg:.2f} average comments per post\") # converts the hour to a string in the desired format and prints the associated average\n",
    "  print(\"\\n\")"
   ]
  },
  {
   "cell_type": "markdown",
   "id": "25dbbebc",
   "metadata": {},
   "source": [
    "Posts created at 3pm EST generate the highest number of comments on average (at 38.59) for posts falling in the `Ask HN` category. This is about a 60% increase in the average number of comments from the second most active hour (2am EST at 23.81 average comments per post)."
   ]
  },
  {
   "cell_type": "code",
   "execution_count": 27,
   "id": "59902e31",
   "metadata": {},
   "outputs": [
    {
     "name": "stdout",
     "output_type": "stream",
     "text": [
      "The top 5 hours for comments on 'Show HN' posts: \n",
      "\n",
      "- 18:00: 15.77 average comments per post\n",
      "\n",
      "\n",
      "- 00:00: 15.71 average comments per post\n",
      "\n",
      "\n",
      "- 14:00: 13.44 average comments per post\n",
      "\n",
      "\n",
      "- 23:00: 12.42 average comments per post\n",
      "\n",
      "\n",
      "- 22:00: 12.39 average comments per post\n",
      "\n",
      "\n"
     ]
    }
   ],
   "source": [
    "print(\"The top 5 hours for comments on 'Show HN' posts: \\n\")\n",
    "for avg, hour in ordered_avg_comments_by_hour(show_posts)[:5]:\n",
    "  print(f\"- {dt.datetime.strptime(hour, '%H').strftime('%H:%M')}: {avg:.2f} average comments per post\")\n",
    "  print(\"\\n\")"
   ]
  },
  {
   "cell_type": "markdown",
   "id": "aeccc71b",
   "metadata": {},
   "source": [
    "Turning our attention to the `Show HN` posts, we see a marked decrease in the number of average comments per post when compared to the `Ask HN` category. \n",
    "\n",
    "Unlike `Ask HN` posts, the highest number of comments on average for the `Show HN` appear on posts created during 6pm EST (at 15.77 average comments per post). This is very closely followed by posts created at 12am EST (at 15.71). \n",
    "\n",
    "The reasoning for this difference between the two styles of post is not clear based on this simple analysis alone, but the pattern itself is interesting."
   ]
  },
  {
   "cell_type": "code",
   "execution_count": 28,
   "id": "d800b41d",
   "metadata": {},
   "outputs": [
    {
     "name": "stdout",
     "output_type": "stream",
     "text": [
      "Hourly breakdown of average comments on 'other' posts: \n",
      "\n",
      "- 14:00: 32.33 average comments per post\n",
      "\n",
      "\n",
      "- 13:00: 30.90 average comments per post\n",
      "\n",
      "\n",
      "- 12:00: 30.35 average comments per post\n",
      "\n",
      "\n",
      "- 11:00: 29.59 average comments per post\n",
      "\n",
      "\n",
      "- 15:00: 29.52 average comments per post\n",
      "\n",
      "\n",
      "- 17:00: 28.00 average comments per post\n",
      "\n",
      "\n",
      "- 02:00: 27.79 average comments per post\n",
      "\n",
      "\n",
      "- 09:00: 27.59 average comments per post\n",
      "\n",
      "\n",
      "- 00:00: 27.08 average comments per post\n",
      "\n",
      "\n",
      "- 08:00: 27.03 average comments per post\n",
      "\n",
      "\n",
      "- 18:00: 26.92 average comments per post\n",
      "\n",
      "\n",
      "- 03:00: 26.83 average comments per post\n",
      "\n",
      "\n",
      "- 07:00: 26.81 average comments per post\n",
      "\n",
      "\n",
      "- 19:00: 26.70 average comments per post\n",
      "\n",
      "\n",
      "- 10:00: 26.61 average comments per post\n",
      "\n",
      "\n",
      "- 16:00: 25.39 average comments per post\n",
      "\n",
      "\n",
      "- 05:00: 25.18 average comments per post\n",
      "\n",
      "\n",
      "- 23:00: 24.62 average comments per post\n",
      "\n",
      "\n",
      "- 04:00: 24.13 average comments per post\n",
      "\n",
      "\n",
      "- 21:00: 23.61 average comments per post\n",
      "\n",
      "\n",
      "- 22:00: 23.27 average comments per post\n",
      "\n",
      "\n",
      "- 20:00: 23.14 average comments per post\n",
      "\n",
      "\n",
      "- 01:00: 23.07 average comments per post\n",
      "\n",
      "\n",
      "- 06:00: 21.36 average comments per post\n",
      "\n",
      "\n"
     ]
    }
   ],
   "source": [
    "print(\"Hourly breakdown of average comments on 'other' posts: \\n\")\n",
    "for avg, hour in ordered_avg_comments_by_hour(other_posts):\n",
    "  print(f\"- {dt.datetime.strptime(hour, '%H').strftime('%H:%M')}: {avg:.2f} average comments per post\")\n",
    "  print(\"\\n\")"
   ]
  },
  {
   "cell_type": "markdown",
   "id": "46acc3dd",
   "metadata": {},
   "source": [
    "Finally, briefly examining the 17,000 posts belonging to the `other` dataset (posts that do not fall into either Ask or Show), we see posts generally receive a similar number of comments throughout most of the day since the average number of comments remain fairly consistent across all hours of the day."
   ]
  },
  {
   "cell_type": "markdown",
   "id": "dfd0de39",
   "metadata": {},
   "source": [
    "### Conclusions"
   ]
  },
  {
   "cell_type": "markdown",
   "id": "d529cb1d",
   "metadata": {},
   "source": [
    "Based on this analysis, **of the posts that received comments**, it would seem in order to produce a HN post that maximizes the likelihood of a large number of comments, it may be best to author an `Ask HN` post and publish it between 3pm - 4pm EST. \n",
    "\n",
    "`Show HN` posts appear to produce a lower number of comments on average regardless of the hour the post is published. \n",
    "\n",
    "Additionally, it appears posts that do not fall in either the Ask or Show categories seem to lead to more consistent engagement across the board, regardless of the time of day published."
   ]
  }
 ],
 "metadata": {
  "kernelspec": {
   "display_name": "Python 3",
   "language": "python",
   "name": "python3"
  },
  "language_info": {
   "codemirror_mode": {
    "name": "ipython",
    "version": 3
   },
   "file_extension": ".py",
   "mimetype": "text/x-python",
   "name": "python",
   "nbconvert_exporter": "python",
   "pygments_lexer": "ipython3",
   "version": "3.12.5"
  }
 },
 "nbformat": 4,
 "nbformat_minor": 5
}
