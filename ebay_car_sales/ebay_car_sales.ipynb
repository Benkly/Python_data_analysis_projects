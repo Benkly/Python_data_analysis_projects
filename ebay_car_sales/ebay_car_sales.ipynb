{
 "cells": [
  {
   "cell_type": "markdown",
   "id": "a08d5343",
   "metadata": {},
   "source": [
    "# Gearing Up for Deals — Analyzing Trends in Germany’s eBay Used Car Market"
   ]
  },
  {
   "cell_type": "markdown",
   "id": "25ae24af",
   "metadata": {},
   "source": [
    "### Purpose of this Project\n",
    ">This portfolio project is designed to run through an initial exploratory data analysis workflow, leveraging Python's `NumPy` and `pandas` libraries. A dataset containing 50,000 records is to be cleaned and prepared, followed by an initial analysis.\n"
   ]
  },
  {
   "cell_type": "markdown",
   "id": "eae10e0b",
   "metadata": {},
   "source": [
    "## Project Background\n",
    "The project involves handling a dataset containing information on used cars from *eBay Kleinanzeigen*, a [classifieds](https://en.wikipedia.org/wiki/Classified_advertising) section of the German eBay marketplace. \n",
    "\n",
    ">The main aim of the project is to clean and prepare the dataset for analysis and perform some initial exploratory data analysis (EDA) on the prepared data. "
   ]
  },
  {
   "cell_type": "markdown",
   "id": "9a272751",
   "metadata": {},
   "source": [
    "## About the Dataset\n",
    "The dataset was originally scraped and uploaded to [Kaggle](https://www.kaggle.com/datasets/sijovm/used-cars-data-from-ebay-kleinanzeigen). For this project, we are handling a sample of 50,000 records prepared by [Dataquest](https://www.dataquest.io) which have been 'dirtied' to simulate a more realistic version of a raw data file.\n",
    "\n",
    "The following `data dictionary` describes each field contained within the original dataset:\n",
    ">* `dateCrawled`: when the ad was first crawled (i.e., first recorded into the dataset). All field-values are taken from this date.\n",
    ">\n",
    ">* `name`: the complete name description of the vehicle.\n",
    ">\n",
    ">* `seller`: whether the seller is private or a dealer.\n",
    ">\n",
    ">* `offerType`: the type of listing ('offer' or 'wanted').\n",
    ">\n",
    ">* `price`: the price of the car listed on the ad.\n",
    ">\n",
    ">* `abtest`: whether the listing is included in an A/B test.\n",
    ">\n",
    ">* `vehicleType`: the type of vehicle.\n",
    ">\n",
    ">* `yearOfRegistration`: the year in which the vehicle was first registered.\n",
    ">\n",
    ">* `gearbox`: the vehicle's transmission type.\n",
    ">\n",
    ">* `powerPS`: the power of the car in horsepower (since dataset is in German, horsepower is known as **pferdestärke**).\n",
    ">\n",
    ">* `model`: the vehicle's model name.\n",
    ">\n",
    ">* `odometer`: the total number of kilometres the vehicle has driven as displayed on the odometer.\n",
    ">\n",
    ">* `monthOfRegistration`: the month in which the vehicle was first registered.\n",
    ">\n",
    ">* `fuelType`: the type of fuel the vehicle uses.\n",
    ">\n",
    ">* `brand`: the brand of vehicle.\n",
    ">\n",
    ">* `notRepairedDamage`: if the vehicle has damage that has not been repaired.\n",
    ">\n",
    ">* `dateCreated`: the date the eBay listing was created.\n",
    ">\n",
    ">* `nrOfPictures`: the number of pictures in the ad.\n",
    ">\n",
    ">* `postalCode`: the postal code for the location of the vehicle.\n",
    ">\n",
    ">* `lastSeenOnline`: when the crawler last saw this ad online.\n",
    "\n"
   ]
  },
  {
   "cell_type": "markdown",
   "id": "a57e7e53",
   "metadata": {},
   "source": [
    "### Loading the Dataset into a DataFrame"
   ]
  },
  {
   "cell_type": "code",
   "execution_count": 1,
   "id": "d2eb8007",
   "metadata": {},
   "outputs": [],
   "source": [
    "import numpy as np\n",
    "import pandas as pd"
   ]
  },
  {
   "cell_type": "markdown",
   "id": "9afbce42",
   "metadata": {},
   "source": [
    "The dataset is loaded, specifying `Latin-1` encoding since the raw CSV file uses this encoding (rather than UTF-8 which is standard)."
   ]
  },
  {
   "cell_type": "code",
   "execution_count": 2,
   "id": "22c69c41",
   "metadata": {},
   "outputs": [],
   "source": [
    "autos = pd.read_csv(\"autos.csv\", encoding=\"Latin-1\")"
   ]
  },
  {
   "cell_type": "code",
   "execution_count": 3,
   "id": "71a2461e",
   "metadata": {},
   "outputs": [
    {
     "name": "stdout",
     "output_type": "stream",
     "text": [
      "<class 'pandas.core.frame.DataFrame'>\n",
      "RangeIndex: 50000 entries, 0 to 49999\n",
      "Data columns (total 20 columns):\n",
      " #   Column               Non-Null Count  Dtype \n",
      "---  ------               --------------  ----- \n",
      " 0   dateCrawled          50000 non-null  object\n",
      " 1   name                 50000 non-null  object\n",
      " 2   seller               50000 non-null  object\n",
      " 3   offerType            50000 non-null  object\n",
      " 4   price                50000 non-null  object\n",
      " 5   abtest               50000 non-null  object\n",
      " 6   vehicleType          44905 non-null  object\n",
      " 7   yearOfRegistration   50000 non-null  int64 \n",
      " 8   gearbox              47320 non-null  object\n",
      " 9   powerPS              50000 non-null  int64 \n",
      " 10  model                47242 non-null  object\n",
      " 11  odometer             50000 non-null  object\n",
      " 12  monthOfRegistration  50000 non-null  int64 \n",
      " 13  fuelType             45518 non-null  object\n",
      " 14  brand                50000 non-null  object\n",
      " 15  notRepairedDamage    40171 non-null  object\n",
      " 16  dateCreated          50000 non-null  object\n",
      " 17  nrOfPictures         50000 non-null  int64 \n",
      " 18  postalCode           50000 non-null  int64 \n",
      " 19  lastSeen             50000 non-null  object\n",
      "dtypes: int64(5), object(15)\n",
      "memory usage: 44.0 MB\n"
     ]
    }
   ],
   "source": [
    "autos.info(memory_usage=\"deep\")"
   ]
  },
  {
   "cell_type": "markdown",
   "id": "277eb53f",
   "metadata": {},
   "source": [
    "The `info()` method shows the dataframe contains 20 columns and 50,000 rows. Five of the fields store data using the `int64` datatype and 15 store data as the `object` type (likely text data). There are a handful of columns which contain null values, but no columns have more than ~20% null values.\n",
    "\n",
    "Passing the argument `memory_usage=\"deep\"` reveals the dataframe occupies 44MB of storage space. This is a **small** dataset - pandas can comfortably handle datasets of sizes up to around 3GB before modifications to the pandas workflow need to be considered."
   ]
  },
  {
   "cell_type": "markdown",
   "id": "7202c47d",
   "metadata": {},
   "source": [
    "The top 5 rows of the dataframe:"
   ]
  },
  {
   "cell_type": "code",
   "execution_count": 4,
   "id": "d28688d4",
   "metadata": {},
   "outputs": [
    {
     "data": {
      "text/html": [
       "<div>\n",
       "<style scoped>\n",
       "    .dataframe tbody tr th:only-of-type {\n",
       "        vertical-align: middle;\n",
       "    }\n",
       "\n",
       "    .dataframe tbody tr th {\n",
       "        vertical-align: top;\n",
       "    }\n",
       "\n",
       "    .dataframe thead th {\n",
       "        text-align: right;\n",
       "    }\n",
       "</style>\n",
       "<table border=\"1\" class=\"dataframe\">\n",
       "  <thead>\n",
       "    <tr style=\"text-align: right;\">\n",
       "      <th></th>\n",
       "      <th>dateCrawled</th>\n",
       "      <th>name</th>\n",
       "      <th>seller</th>\n",
       "      <th>offerType</th>\n",
       "      <th>price</th>\n",
       "      <th>abtest</th>\n",
       "      <th>vehicleType</th>\n",
       "      <th>yearOfRegistration</th>\n",
       "      <th>gearbox</th>\n",
       "      <th>powerPS</th>\n",
       "      <th>model</th>\n",
       "      <th>odometer</th>\n",
       "      <th>monthOfRegistration</th>\n",
       "      <th>fuelType</th>\n",
       "      <th>brand</th>\n",
       "      <th>notRepairedDamage</th>\n",
       "      <th>dateCreated</th>\n",
       "      <th>nrOfPictures</th>\n",
       "      <th>postalCode</th>\n",
       "      <th>lastSeen</th>\n",
       "    </tr>\n",
       "  </thead>\n",
       "  <tbody>\n",
       "    <tr>\n",
       "      <th>0</th>\n",
       "      <td>2016-03-26 17:47:46</td>\n",
       "      <td>Peugeot_807_160_NAVTECH_ON_BOARD</td>\n",
       "      <td>privat</td>\n",
       "      <td>Angebot</td>\n",
       "      <td>$5,000</td>\n",
       "      <td>control</td>\n",
       "      <td>bus</td>\n",
       "      <td>2004</td>\n",
       "      <td>manuell</td>\n",
       "      <td>158</td>\n",
       "      <td>andere</td>\n",
       "      <td>150,000km</td>\n",
       "      <td>3</td>\n",
       "      <td>lpg</td>\n",
       "      <td>peugeot</td>\n",
       "      <td>nein</td>\n",
       "      <td>2016-03-26 00:00:00</td>\n",
       "      <td>0</td>\n",
       "      <td>79588</td>\n",
       "      <td>2016-04-06 06:45:54</td>\n",
       "    </tr>\n",
       "    <tr>\n",
       "      <th>1</th>\n",
       "      <td>2016-04-04 13:38:56</td>\n",
       "      <td>BMW_740i_4_4_Liter_HAMANN_UMBAU_Mega_Optik</td>\n",
       "      <td>privat</td>\n",
       "      <td>Angebot</td>\n",
       "      <td>$8,500</td>\n",
       "      <td>control</td>\n",
       "      <td>limousine</td>\n",
       "      <td>1997</td>\n",
       "      <td>automatik</td>\n",
       "      <td>286</td>\n",
       "      <td>7er</td>\n",
       "      <td>150,000km</td>\n",
       "      <td>6</td>\n",
       "      <td>benzin</td>\n",
       "      <td>bmw</td>\n",
       "      <td>nein</td>\n",
       "      <td>2016-04-04 00:00:00</td>\n",
       "      <td>0</td>\n",
       "      <td>71034</td>\n",
       "      <td>2016-04-06 14:45:08</td>\n",
       "    </tr>\n",
       "    <tr>\n",
       "      <th>2</th>\n",
       "      <td>2016-03-26 18:57:24</td>\n",
       "      <td>Volkswagen_Golf_1.6_United</td>\n",
       "      <td>privat</td>\n",
       "      <td>Angebot</td>\n",
       "      <td>$8,990</td>\n",
       "      <td>test</td>\n",
       "      <td>limousine</td>\n",
       "      <td>2009</td>\n",
       "      <td>manuell</td>\n",
       "      <td>102</td>\n",
       "      <td>golf</td>\n",
       "      <td>70,000km</td>\n",
       "      <td>7</td>\n",
       "      <td>benzin</td>\n",
       "      <td>volkswagen</td>\n",
       "      <td>nein</td>\n",
       "      <td>2016-03-26 00:00:00</td>\n",
       "      <td>0</td>\n",
       "      <td>35394</td>\n",
       "      <td>2016-04-06 20:15:37</td>\n",
       "    </tr>\n",
       "    <tr>\n",
       "      <th>3</th>\n",
       "      <td>2016-03-12 16:58:10</td>\n",
       "      <td>Smart_smart_fortwo_coupe_softouch/F1/Klima/Pan...</td>\n",
       "      <td>privat</td>\n",
       "      <td>Angebot</td>\n",
       "      <td>$4,350</td>\n",
       "      <td>control</td>\n",
       "      <td>kleinwagen</td>\n",
       "      <td>2007</td>\n",
       "      <td>automatik</td>\n",
       "      <td>71</td>\n",
       "      <td>fortwo</td>\n",
       "      <td>70,000km</td>\n",
       "      <td>6</td>\n",
       "      <td>benzin</td>\n",
       "      <td>smart</td>\n",
       "      <td>nein</td>\n",
       "      <td>2016-03-12 00:00:00</td>\n",
       "      <td>0</td>\n",
       "      <td>33729</td>\n",
       "      <td>2016-03-15 03:16:28</td>\n",
       "    </tr>\n",
       "    <tr>\n",
       "      <th>4</th>\n",
       "      <td>2016-04-01 14:38:50</td>\n",
       "      <td>Ford_Focus_1_6_Benzin_TÜV_neu_ist_sehr_gepfleg...</td>\n",
       "      <td>privat</td>\n",
       "      <td>Angebot</td>\n",
       "      <td>$1,350</td>\n",
       "      <td>test</td>\n",
       "      <td>kombi</td>\n",
       "      <td>2003</td>\n",
       "      <td>manuell</td>\n",
       "      <td>0</td>\n",
       "      <td>focus</td>\n",
       "      <td>150,000km</td>\n",
       "      <td>7</td>\n",
       "      <td>benzin</td>\n",
       "      <td>ford</td>\n",
       "      <td>nein</td>\n",
       "      <td>2016-04-01 00:00:00</td>\n",
       "      <td>0</td>\n",
       "      <td>39218</td>\n",
       "      <td>2016-04-01 14:38:50</td>\n",
       "    </tr>\n",
       "  </tbody>\n",
       "</table>\n",
       "</div>"
      ],
      "text/plain": [
       "           dateCrawled                                               name  \\\n",
       "0  2016-03-26 17:47:46                   Peugeot_807_160_NAVTECH_ON_BOARD   \n",
       "1  2016-04-04 13:38:56         BMW_740i_4_4_Liter_HAMANN_UMBAU_Mega_Optik   \n",
       "2  2016-03-26 18:57:24                         Volkswagen_Golf_1.6_United   \n",
       "3  2016-03-12 16:58:10  Smart_smart_fortwo_coupe_softouch/F1/Klima/Pan...   \n",
       "4  2016-04-01 14:38:50  Ford_Focus_1_6_Benzin_TÜV_neu_ist_sehr_gepfleg...   \n",
       "\n",
       "   seller offerType   price   abtest vehicleType  yearOfRegistration  \\\n",
       "0  privat   Angebot  $5,000  control         bus                2004   \n",
       "1  privat   Angebot  $8,500  control   limousine                1997   \n",
       "2  privat   Angebot  $8,990     test   limousine                2009   \n",
       "3  privat   Angebot  $4,350  control  kleinwagen                2007   \n",
       "4  privat   Angebot  $1,350     test       kombi                2003   \n",
       "\n",
       "     gearbox  powerPS   model   odometer  monthOfRegistration fuelType  \\\n",
       "0    manuell      158  andere  150,000km                    3      lpg   \n",
       "1  automatik      286     7er  150,000km                    6   benzin   \n",
       "2    manuell      102    golf   70,000km                    7   benzin   \n",
       "3  automatik       71  fortwo   70,000km                    6   benzin   \n",
       "4    manuell        0   focus  150,000km                    7   benzin   \n",
       "\n",
       "        brand notRepairedDamage          dateCreated  nrOfPictures  \\\n",
       "0     peugeot              nein  2016-03-26 00:00:00             0   \n",
       "1         bmw              nein  2016-04-04 00:00:00             0   \n",
       "2  volkswagen              nein  2016-03-26 00:00:00             0   \n",
       "3       smart              nein  2016-03-12 00:00:00             0   \n",
       "4        ford              nein  2016-04-01 00:00:00             0   \n",
       "\n",
       "   postalCode             lastSeen  \n",
       "0       79588  2016-04-06 06:45:54  \n",
       "1       71034  2016-04-06 14:45:08  \n",
       "2       35394  2016-04-06 20:15:37  \n",
       "3       33729  2016-03-15 03:16:28  \n",
       "4       39218  2016-04-01 14:38:50  "
      ]
     },
     "execution_count": 4,
     "metadata": {},
     "output_type": "execute_result"
    }
   ],
   "source": [
    "autos.head()"
   ]
  },
  {
   "cell_type": "markdown",
   "id": "c3ba38f6",
   "metadata": {},
   "source": [
    "### Cleaning Column Labels"
   ]
  },
  {
   "cell_type": "markdown",
   "id": "bda4986a",
   "metadata": {},
   "source": [
    "Reviewing the columns, it would be best to convert the column labels into the `snake_case` format rather than `camelCase` since this is convention for variable naming in Python. \n",
    "\n",
    "Some labels can also be shortened and clarified to improve readibility of code and the data."
   ]
  },
  {
   "cell_type": "code",
   "execution_count": 5,
   "id": "2117f533",
   "metadata": {},
   "outputs": [
    {
     "data": {
      "text/plain": [
       "Index(['dateCrawled', 'name', 'seller', 'offerType', 'price', 'abtest',\n",
       "       'vehicleType', 'yearOfRegistration', 'gearbox', 'powerPS', 'model',\n",
       "       'odometer', 'monthOfRegistration', 'fuelType', 'brand',\n",
       "       'notRepairedDamage', 'dateCreated', 'nrOfPictures', 'postalCode',\n",
       "       'lastSeen'],\n",
       "      dtype='object')"
      ]
     },
     "execution_count": 5,
     "metadata": {},
     "output_type": "execute_result"
    }
   ],
   "source": [
    "autos.columns"
   ]
  },
  {
   "cell_type": "code",
   "execution_count": 6,
   "id": "a3b8cb47",
   "metadata": {},
   "outputs": [],
   "source": [
    "autos.columns = ['date_crawled', 'name', 'seller', 'offer_type', 'price', 'ab_test', 'vehicle_type', 'registration_year', 'gearbox', 'power_ps', 'model', 'odometer', 'registration_month', 'fuel_type', 'brand', 'unrepaired_damage', 'ad_created', 'num_photos', 'postal_code', 'last_seen']"
   ]
  },
  {
   "cell_type": "code",
   "execution_count": 7,
   "id": "13f0be8d",
   "metadata": {},
   "outputs": [
    {
     "data": {
      "text/html": [
       "<div>\n",
       "<style scoped>\n",
       "    .dataframe tbody tr th:only-of-type {\n",
       "        vertical-align: middle;\n",
       "    }\n",
       "\n",
       "    .dataframe tbody tr th {\n",
       "        vertical-align: top;\n",
       "    }\n",
       "\n",
       "    .dataframe thead th {\n",
       "        text-align: right;\n",
       "    }\n",
       "</style>\n",
       "<table border=\"1\" class=\"dataframe\">\n",
       "  <thead>\n",
       "    <tr style=\"text-align: right;\">\n",
       "      <th></th>\n",
       "      <th>date_crawled</th>\n",
       "      <th>name</th>\n",
       "      <th>seller</th>\n",
       "      <th>offer_type</th>\n",
       "      <th>price</th>\n",
       "      <th>ab_test</th>\n",
       "      <th>vehicle_type</th>\n",
       "      <th>registration_year</th>\n",
       "      <th>gearbox</th>\n",
       "      <th>power_ps</th>\n",
       "      <th>model</th>\n",
       "      <th>odometer</th>\n",
       "      <th>registration_month</th>\n",
       "      <th>fuel_type</th>\n",
       "      <th>brand</th>\n",
       "      <th>unrepaired_damage</th>\n",
       "      <th>ad_created</th>\n",
       "      <th>num_photos</th>\n",
       "      <th>postal_code</th>\n",
       "      <th>last_seen</th>\n",
       "    </tr>\n",
       "  </thead>\n",
       "  <tbody>\n",
       "    <tr>\n",
       "      <th>0</th>\n",
       "      <td>2016-03-26 17:47:46</td>\n",
       "      <td>Peugeot_807_160_NAVTECH_ON_BOARD</td>\n",
       "      <td>privat</td>\n",
       "      <td>Angebot</td>\n",
       "      <td>$5,000</td>\n",
       "      <td>control</td>\n",
       "      <td>bus</td>\n",
       "      <td>2004</td>\n",
       "      <td>manuell</td>\n",
       "      <td>158</td>\n",
       "      <td>andere</td>\n",
       "      <td>150,000km</td>\n",
       "      <td>3</td>\n",
       "      <td>lpg</td>\n",
       "      <td>peugeot</td>\n",
       "      <td>nein</td>\n",
       "      <td>2016-03-26 00:00:00</td>\n",
       "      <td>0</td>\n",
       "      <td>79588</td>\n",
       "      <td>2016-04-06 06:45:54</td>\n",
       "    </tr>\n",
       "    <tr>\n",
       "      <th>1</th>\n",
       "      <td>2016-04-04 13:38:56</td>\n",
       "      <td>BMW_740i_4_4_Liter_HAMANN_UMBAU_Mega_Optik</td>\n",
       "      <td>privat</td>\n",
       "      <td>Angebot</td>\n",
       "      <td>$8,500</td>\n",
       "      <td>control</td>\n",
       "      <td>limousine</td>\n",
       "      <td>1997</td>\n",
       "      <td>automatik</td>\n",
       "      <td>286</td>\n",
       "      <td>7er</td>\n",
       "      <td>150,000km</td>\n",
       "      <td>6</td>\n",
       "      <td>benzin</td>\n",
       "      <td>bmw</td>\n",
       "      <td>nein</td>\n",
       "      <td>2016-04-04 00:00:00</td>\n",
       "      <td>0</td>\n",
       "      <td>71034</td>\n",
       "      <td>2016-04-06 14:45:08</td>\n",
       "    </tr>\n",
       "    <tr>\n",
       "      <th>2</th>\n",
       "      <td>2016-03-26 18:57:24</td>\n",
       "      <td>Volkswagen_Golf_1.6_United</td>\n",
       "      <td>privat</td>\n",
       "      <td>Angebot</td>\n",
       "      <td>$8,990</td>\n",
       "      <td>test</td>\n",
       "      <td>limousine</td>\n",
       "      <td>2009</td>\n",
       "      <td>manuell</td>\n",
       "      <td>102</td>\n",
       "      <td>golf</td>\n",
       "      <td>70,000km</td>\n",
       "      <td>7</td>\n",
       "      <td>benzin</td>\n",
       "      <td>volkswagen</td>\n",
       "      <td>nein</td>\n",
       "      <td>2016-03-26 00:00:00</td>\n",
       "      <td>0</td>\n",
       "      <td>35394</td>\n",
       "      <td>2016-04-06 20:15:37</td>\n",
       "    </tr>\n",
       "    <tr>\n",
       "      <th>3</th>\n",
       "      <td>2016-03-12 16:58:10</td>\n",
       "      <td>Smart_smart_fortwo_coupe_softouch/F1/Klima/Pan...</td>\n",
       "      <td>privat</td>\n",
       "      <td>Angebot</td>\n",
       "      <td>$4,350</td>\n",
       "      <td>control</td>\n",
       "      <td>kleinwagen</td>\n",
       "      <td>2007</td>\n",
       "      <td>automatik</td>\n",
       "      <td>71</td>\n",
       "      <td>fortwo</td>\n",
       "      <td>70,000km</td>\n",
       "      <td>6</td>\n",
       "      <td>benzin</td>\n",
       "      <td>smart</td>\n",
       "      <td>nein</td>\n",
       "      <td>2016-03-12 00:00:00</td>\n",
       "      <td>0</td>\n",
       "      <td>33729</td>\n",
       "      <td>2016-03-15 03:16:28</td>\n",
       "    </tr>\n",
       "    <tr>\n",
       "      <th>4</th>\n",
       "      <td>2016-04-01 14:38:50</td>\n",
       "      <td>Ford_Focus_1_6_Benzin_TÜV_neu_ist_sehr_gepfleg...</td>\n",
       "      <td>privat</td>\n",
       "      <td>Angebot</td>\n",
       "      <td>$1,350</td>\n",
       "      <td>test</td>\n",
       "      <td>kombi</td>\n",
       "      <td>2003</td>\n",
       "      <td>manuell</td>\n",
       "      <td>0</td>\n",
       "      <td>focus</td>\n",
       "      <td>150,000km</td>\n",
       "      <td>7</td>\n",
       "      <td>benzin</td>\n",
       "      <td>ford</td>\n",
       "      <td>nein</td>\n",
       "      <td>2016-04-01 00:00:00</td>\n",
       "      <td>0</td>\n",
       "      <td>39218</td>\n",
       "      <td>2016-04-01 14:38:50</td>\n",
       "    </tr>\n",
       "  </tbody>\n",
       "</table>\n",
       "</div>"
      ],
      "text/plain": [
       "          date_crawled                                               name  \\\n",
       "0  2016-03-26 17:47:46                   Peugeot_807_160_NAVTECH_ON_BOARD   \n",
       "1  2016-04-04 13:38:56         BMW_740i_4_4_Liter_HAMANN_UMBAU_Mega_Optik   \n",
       "2  2016-03-26 18:57:24                         Volkswagen_Golf_1.6_United   \n",
       "3  2016-03-12 16:58:10  Smart_smart_fortwo_coupe_softouch/F1/Klima/Pan...   \n",
       "4  2016-04-01 14:38:50  Ford_Focus_1_6_Benzin_TÜV_neu_ist_sehr_gepfleg...   \n",
       "\n",
       "   seller offer_type   price  ab_test vehicle_type  registration_year  \\\n",
       "0  privat    Angebot  $5,000  control          bus               2004   \n",
       "1  privat    Angebot  $8,500  control    limousine               1997   \n",
       "2  privat    Angebot  $8,990     test    limousine               2009   \n",
       "3  privat    Angebot  $4,350  control   kleinwagen               2007   \n",
       "4  privat    Angebot  $1,350     test        kombi               2003   \n",
       "\n",
       "     gearbox  power_ps   model   odometer  registration_month fuel_type  \\\n",
       "0    manuell       158  andere  150,000km                   3       lpg   \n",
       "1  automatik       286     7er  150,000km                   6    benzin   \n",
       "2    manuell       102    golf   70,000km                   7    benzin   \n",
       "3  automatik        71  fortwo   70,000km                   6    benzin   \n",
       "4    manuell         0   focus  150,000km                   7    benzin   \n",
       "\n",
       "        brand unrepaired_damage           ad_created  num_photos  postal_code  \\\n",
       "0     peugeot              nein  2016-03-26 00:00:00           0        79588   \n",
       "1         bmw              nein  2016-04-04 00:00:00           0        71034   \n",
       "2  volkswagen              nein  2016-03-26 00:00:00           0        35394   \n",
       "3       smart              nein  2016-03-12 00:00:00           0        33729   \n",
       "4        ford              nein  2016-04-01 00:00:00           0        39218   \n",
       "\n",
       "             last_seen  \n",
       "0  2016-04-06 06:45:54  \n",
       "1  2016-04-06 14:45:08  \n",
       "2  2016-04-06 20:15:37  \n",
       "3  2016-03-15 03:16:28  \n",
       "4  2016-04-01 14:38:50  "
      ]
     },
     "execution_count": 7,
     "metadata": {},
     "output_type": "execute_result"
    }
   ],
   "source": [
    "autos.head()"
   ]
  },
  {
   "cell_type": "markdown",
   "id": "c72c3241",
   "metadata": {},
   "source": [
    "### Initial Summary Stats and Cleaning"
   ]
  },
  {
   "cell_type": "code",
   "execution_count": 8,
   "id": "b233b896",
   "metadata": {},
   "outputs": [
    {
     "data": {
      "text/html": [
       "<div>\n",
       "<style scoped>\n",
       "    .dataframe tbody tr th:only-of-type {\n",
       "        vertical-align: middle;\n",
       "    }\n",
       "\n",
       "    .dataframe tbody tr th {\n",
       "        vertical-align: top;\n",
       "    }\n",
       "\n",
       "    .dataframe thead th {\n",
       "        text-align: right;\n",
       "    }\n",
       "</style>\n",
       "<table border=\"1\" class=\"dataframe\">\n",
       "  <thead>\n",
       "    <tr style=\"text-align: right;\">\n",
       "      <th></th>\n",
       "      <th>registration_year</th>\n",
       "      <th>power_ps</th>\n",
       "      <th>registration_month</th>\n",
       "      <th>num_photos</th>\n",
       "      <th>postal_code</th>\n",
       "    </tr>\n",
       "  </thead>\n",
       "  <tbody>\n",
       "    <tr>\n",
       "      <th>count</th>\n",
       "      <td>50000.000000</td>\n",
       "      <td>50000.000000</td>\n",
       "      <td>50000.000000</td>\n",
       "      <td>50000.0</td>\n",
       "      <td>50000.000000</td>\n",
       "    </tr>\n",
       "    <tr>\n",
       "      <th>mean</th>\n",
       "      <td>2005.073280</td>\n",
       "      <td>116.355920</td>\n",
       "      <td>5.723360</td>\n",
       "      <td>0.0</td>\n",
       "      <td>50813.627300</td>\n",
       "    </tr>\n",
       "    <tr>\n",
       "      <th>std</th>\n",
       "      <td>105.712813</td>\n",
       "      <td>209.216627</td>\n",
       "      <td>3.711984</td>\n",
       "      <td>0.0</td>\n",
       "      <td>25779.747957</td>\n",
       "    </tr>\n",
       "    <tr>\n",
       "      <th>min</th>\n",
       "      <td>1000.000000</td>\n",
       "      <td>0.000000</td>\n",
       "      <td>0.000000</td>\n",
       "      <td>0.0</td>\n",
       "      <td>1067.000000</td>\n",
       "    </tr>\n",
       "    <tr>\n",
       "      <th>25%</th>\n",
       "      <td>1999.000000</td>\n",
       "      <td>70.000000</td>\n",
       "      <td>3.000000</td>\n",
       "      <td>0.0</td>\n",
       "      <td>30451.000000</td>\n",
       "    </tr>\n",
       "    <tr>\n",
       "      <th>50%</th>\n",
       "      <td>2003.000000</td>\n",
       "      <td>105.000000</td>\n",
       "      <td>6.000000</td>\n",
       "      <td>0.0</td>\n",
       "      <td>49577.000000</td>\n",
       "    </tr>\n",
       "    <tr>\n",
       "      <th>75%</th>\n",
       "      <td>2008.000000</td>\n",
       "      <td>150.000000</td>\n",
       "      <td>9.000000</td>\n",
       "      <td>0.0</td>\n",
       "      <td>71540.000000</td>\n",
       "    </tr>\n",
       "    <tr>\n",
       "      <th>max</th>\n",
       "      <td>9999.000000</td>\n",
       "      <td>17700.000000</td>\n",
       "      <td>12.000000</td>\n",
       "      <td>0.0</td>\n",
       "      <td>99998.000000</td>\n",
       "    </tr>\n",
       "  </tbody>\n",
       "</table>\n",
       "</div>"
      ],
      "text/plain": [
       "       registration_year      power_ps  registration_month  num_photos  \\\n",
       "count       50000.000000  50000.000000        50000.000000     50000.0   \n",
       "mean         2005.073280    116.355920            5.723360         0.0   \n",
       "std           105.712813    209.216627            3.711984         0.0   \n",
       "min          1000.000000      0.000000            0.000000         0.0   \n",
       "25%          1999.000000     70.000000            3.000000         0.0   \n",
       "50%          2003.000000    105.000000            6.000000         0.0   \n",
       "75%          2008.000000    150.000000            9.000000         0.0   \n",
       "max          9999.000000  17700.000000           12.000000         0.0   \n",
       "\n",
       "        postal_code  \n",
       "count  50000.000000  \n",
       "mean   50813.627300  \n",
       "std    25779.747957  \n",
       "min     1067.000000  \n",
       "25%    30451.000000  \n",
       "50%    49577.000000  \n",
       "75%    71540.000000  \n",
       "max    99998.000000  "
      ]
     },
     "execution_count": 8,
     "metadata": {},
     "output_type": "execute_result"
    }
   ],
   "source": [
    "autos.describe() # includes only numeric columns"
   ]
  },
  {
   "cell_type": "code",
   "execution_count": 9,
   "id": "3194b8ee",
   "metadata": {},
   "outputs": [
    {
     "data": {
      "text/html": [
       "<div>\n",
       "<style scoped>\n",
       "    .dataframe tbody tr th:only-of-type {\n",
       "        vertical-align: middle;\n",
       "    }\n",
       "\n",
       "    .dataframe tbody tr th {\n",
       "        vertical-align: top;\n",
       "    }\n",
       "\n",
       "    .dataframe thead th {\n",
       "        text-align: right;\n",
       "    }\n",
       "</style>\n",
       "<table border=\"1\" class=\"dataframe\">\n",
       "  <thead>\n",
       "    <tr style=\"text-align: right;\">\n",
       "      <th></th>\n",
       "      <th>date_crawled</th>\n",
       "      <th>name</th>\n",
       "      <th>seller</th>\n",
       "      <th>offer_type</th>\n",
       "      <th>price</th>\n",
       "      <th>ab_test</th>\n",
       "      <th>vehicle_type</th>\n",
       "      <th>gearbox</th>\n",
       "      <th>model</th>\n",
       "      <th>odometer</th>\n",
       "      <th>fuel_type</th>\n",
       "      <th>brand</th>\n",
       "      <th>unrepaired_damage</th>\n",
       "      <th>ad_created</th>\n",
       "      <th>last_seen</th>\n",
       "    </tr>\n",
       "  </thead>\n",
       "  <tbody>\n",
       "    <tr>\n",
       "      <th>count</th>\n",
       "      <td>50000</td>\n",
       "      <td>50000</td>\n",
       "      <td>50000</td>\n",
       "      <td>50000</td>\n",
       "      <td>50000</td>\n",
       "      <td>50000</td>\n",
       "      <td>44905</td>\n",
       "      <td>47320</td>\n",
       "      <td>47242</td>\n",
       "      <td>50000</td>\n",
       "      <td>45518</td>\n",
       "      <td>50000</td>\n",
       "      <td>40171</td>\n",
       "      <td>50000</td>\n",
       "      <td>50000</td>\n",
       "    </tr>\n",
       "    <tr>\n",
       "      <th>unique</th>\n",
       "      <td>48213</td>\n",
       "      <td>38754</td>\n",
       "      <td>2</td>\n",
       "      <td>2</td>\n",
       "      <td>2357</td>\n",
       "      <td>2</td>\n",
       "      <td>8</td>\n",
       "      <td>2</td>\n",
       "      <td>245</td>\n",
       "      <td>13</td>\n",
       "      <td>7</td>\n",
       "      <td>40</td>\n",
       "      <td>2</td>\n",
       "      <td>76</td>\n",
       "      <td>39481</td>\n",
       "    </tr>\n",
       "    <tr>\n",
       "      <th>top</th>\n",
       "      <td>2016-03-29 23:42:13</td>\n",
       "      <td>Ford_Fiesta</td>\n",
       "      <td>privat</td>\n",
       "      <td>Angebot</td>\n",
       "      <td>$0</td>\n",
       "      <td>test</td>\n",
       "      <td>limousine</td>\n",
       "      <td>manuell</td>\n",
       "      <td>golf</td>\n",
       "      <td>150,000km</td>\n",
       "      <td>benzin</td>\n",
       "      <td>volkswagen</td>\n",
       "      <td>nein</td>\n",
       "      <td>2016-04-03 00:00:00</td>\n",
       "      <td>2016-04-07 06:17:27</td>\n",
       "    </tr>\n",
       "    <tr>\n",
       "      <th>freq</th>\n",
       "      <td>3</td>\n",
       "      <td>78</td>\n",
       "      <td>49999</td>\n",
       "      <td>49999</td>\n",
       "      <td>1421</td>\n",
       "      <td>25756</td>\n",
       "      <td>12859</td>\n",
       "      <td>36993</td>\n",
       "      <td>4024</td>\n",
       "      <td>32424</td>\n",
       "      <td>30107</td>\n",
       "      <td>10687</td>\n",
       "      <td>35232</td>\n",
       "      <td>1946</td>\n",
       "      <td>8</td>\n",
       "    </tr>\n",
       "  </tbody>\n",
       "</table>\n",
       "</div>"
      ],
      "text/plain": [
       "               date_crawled         name  seller offer_type  price ab_test  \\\n",
       "count                 50000        50000   50000      50000  50000   50000   \n",
       "unique                48213        38754       2          2   2357       2   \n",
       "top     2016-03-29 23:42:13  Ford_Fiesta  privat    Angebot     $0    test   \n",
       "freq                      3           78   49999      49999   1421   25756   \n",
       "\n",
       "       vehicle_type  gearbox  model   odometer fuel_type       brand  \\\n",
       "count         44905    47320  47242      50000     45518       50000   \n",
       "unique            8        2    245         13         7          40   \n",
       "top       limousine  manuell   golf  150,000km    benzin  volkswagen   \n",
       "freq          12859    36993   4024      32424     30107       10687   \n",
       "\n",
       "       unrepaired_damage           ad_created            last_seen  \n",
       "count              40171                50000                50000  \n",
       "unique                 2                   76                39481  \n",
       "top                 nein  2016-04-03 00:00:00  2016-04-07 06:17:27  \n",
       "freq               35232                 1946                    8  "
      ]
     },
     "execution_count": 9,
     "metadata": {},
     "output_type": "execute_result"
    }
   ],
   "source": [
    "autos.describe(include=[\"O\"]) # includes only object columns"
   ]
  },
  {
   "cell_type": "markdown",
   "id": "a8a14f45",
   "metadata": {},
   "source": [
    "#### Reviewing the summary table above, there are a number of things to note:\n",
    "\n",
    "---\n",
    "**Columns which can be removed:**\n",
    "\n",
    "* The `seller` column almost entirely contains the value 'privat' which indicates the listing is from a private seller rather than a dealership company. \n",
    "\n",
    "* The same applies to `offer_type` where nearly all values are the same ('Angebot', meaning the listing is an offer).\n",
    "\n",
    "**Columns requiring additional investigation:**\n",
    "\n",
    "* The `num_photos` column is odd since all values are zero.\n",
    "\n",
    "* The extrema values in `registration_year` are nonsense (a vehicle cannot possibly be registered in the year 1000 or 9999).\n",
    "\n",
    "* The extrema values in `power_ps` also require additional investigation as they seem unrealistic.\n",
    "\n",
    "**Columns requiring a data type change:**\n",
    "* `odometer` and `price` are stored in the `object` data type. These are much better suited to be stored as integers for sorting and calculations.\n"
   ]
  },
  {
   "cell_type": "markdown",
   "id": "87ee1d7a",
   "metadata": {},
   "source": [
    "### Dropping Columns"
   ]
  },
  {
   "cell_type": "code",
   "execution_count": 10,
   "id": "6765b66c",
   "metadata": {},
   "outputs": [
    {
     "data": {
      "text/plain": [
       "num_photos\n",
       "0    50000\n",
       "Name: count, dtype: int64"
      ]
     },
     "execution_count": 10,
     "metadata": {},
     "output_type": "execute_result"
    }
   ],
   "source": [
    "autos[\"num_photos\"].value_counts()"
   ]
  },
  {
   "cell_type": "markdown",
   "id": "bcf3be6b",
   "metadata": {},
   "source": [
    "Since we have no way to know or infer what the `num_photos` values should be, it is best to drop this column entirely. We can also drop the `seller` and `offer_type` columns since these data are practically redundant. "
   ]
  },
  {
   "cell_type": "code",
   "execution_count": 11,
   "id": "0d853a10",
   "metadata": {},
   "outputs": [],
   "source": [
    "autos.drop([\"num_photos\", \"seller\", \"offer_type\"], axis=1, inplace=True)"
   ]
  },
  {
   "cell_type": "markdown",
   "id": "cd401cef",
   "metadata": {},
   "source": [
    "### Casting `price` and `odometer` Columns to Numeric"
   ]
  },
  {
   "cell_type": "code",
   "execution_count": 12,
   "id": "5a25562d",
   "metadata": {},
   "outputs": [
    {
     "data": {
      "text/plain": [
       "array(['$5,000', '$8,500', '$8,990', ..., '$385', '$22,200', '$16,995'],\n",
       "      dtype=object)"
      ]
     },
     "execution_count": 12,
     "metadata": {},
     "output_type": "execute_result"
    }
   ],
   "source": [
    "autos[\"price\"].unique()"
   ]
  },
  {
   "cell_type": "markdown",
   "id": "099e9cd5",
   "metadata": {},
   "source": [
    "Reviewing the unique values in the pre-cleaned `price` show prices are preceded by a `$` symbol and use commas as thousands separators. \n",
    "\n",
    "These can be stripped using the pandas str accessor to call the Python `replace` string method as a vectorized operation. The column can then be casted to an `int` dtype using the `.astype()` method.\n",
    "\n",
    "Since we have removed the currency symbol, it is best to rename the column to reflect this information. This is done using the `.rename()` method."
   ]
  },
  {
   "cell_type": "code",
   "execution_count": 13,
   "id": "a847ee62",
   "metadata": {},
   "outputs": [
    {
     "data": {
      "text/plain": [
       "0    5000\n",
       "1    8500\n",
       "2    8990\n",
       "3    4350\n",
       "4    1350\n",
       "5    7900\n",
       "6     300\n",
       "7    1990\n",
       "8     250\n",
       "9     590\n",
       "Name: price_usd, dtype: int64"
      ]
     },
     "execution_count": 13,
     "metadata": {},
     "output_type": "execute_result"
    }
   ],
   "source": [
    "autos[\"price\"] = autos[\"price\"].str.replace(\"$\", \"\").str.replace(\",\", \"\").astype(int) \n",
    "\n",
    "autos.rename({\"price\":\"price_usd\"}, axis=1, inplace=True)\n",
    "\n",
    "autos[\"price_usd\"].head(10)"
   ]
  },
  {
   "cell_type": "markdown",
   "id": "34c2181c",
   "metadata": {},
   "source": [
    "The same process is repeated for the `odometer` column:"
   ]
  },
  {
   "cell_type": "code",
   "execution_count": 14,
   "id": "31a6ea5f",
   "metadata": {},
   "outputs": [
    {
     "data": {
      "text/plain": [
       "array(['150,000km', '70,000km', '50,000km', '80,000km', '10,000km',\n",
       "       '30,000km', '125,000km', '90,000km', '20,000km', '60,000km',\n",
       "       '5,000km', '100,000km', '40,000km'], dtype=object)"
      ]
     },
     "execution_count": 14,
     "metadata": {},
     "output_type": "execute_result"
    }
   ],
   "source": [
    "autos[\"odometer\"].unique()"
   ]
  },
  {
   "cell_type": "code",
   "execution_count": 15,
   "id": "61ff3708",
   "metadata": {},
   "outputs": [
    {
     "data": {
      "text/plain": [
       "0    150000\n",
       "1    150000\n",
       "2     70000\n",
       "3     70000\n",
       "4    150000\n",
       "5    150000\n",
       "6    150000\n",
       "7    150000\n",
       "8    150000\n",
       "9    150000\n",
       "Name: odometer_km, dtype: int64"
      ]
     },
     "execution_count": 15,
     "metadata": {},
     "output_type": "execute_result"
    }
   ],
   "source": [
    "autos[\"odometer\"] = autos[\"odometer\"].str.replace(\"km\", \"\").str.replace(\",\", \"\").astype(int)\n",
    "\n",
    "autos.rename({\"odometer\":\"odometer_km\"}, axis=1, inplace=True)\n",
    "\n",
    "autos[\"odometer_km\"].head(10)"
   ]
  },
  {
   "cell_type": "markdown",
   "id": "872d4cf1",
   "metadata": {},
   "source": [
    "### Visualizing the Updated DataFrame"
   ]
  },
  {
   "cell_type": "code",
   "execution_count": 16,
   "id": "80108c7e",
   "metadata": {},
   "outputs": [
    {
     "data": {
      "text/html": [
       "<div>\n",
       "<style scoped>\n",
       "    .dataframe tbody tr th:only-of-type {\n",
       "        vertical-align: middle;\n",
       "    }\n",
       "\n",
       "    .dataframe tbody tr th {\n",
       "        vertical-align: top;\n",
       "    }\n",
       "\n",
       "    .dataframe thead th {\n",
       "        text-align: right;\n",
       "    }\n",
       "</style>\n",
       "<table border=\"1\" class=\"dataframe\">\n",
       "  <thead>\n",
       "    <tr style=\"text-align: right;\">\n",
       "      <th></th>\n",
       "      <th>date_crawled</th>\n",
       "      <th>name</th>\n",
       "      <th>price_usd</th>\n",
       "      <th>ab_test</th>\n",
       "      <th>vehicle_type</th>\n",
       "      <th>registration_year</th>\n",
       "      <th>gearbox</th>\n",
       "      <th>power_ps</th>\n",
       "      <th>model</th>\n",
       "      <th>odometer_km</th>\n",
       "      <th>registration_month</th>\n",
       "      <th>fuel_type</th>\n",
       "      <th>brand</th>\n",
       "      <th>unrepaired_damage</th>\n",
       "      <th>ad_created</th>\n",
       "      <th>postal_code</th>\n",
       "      <th>last_seen</th>\n",
       "    </tr>\n",
       "  </thead>\n",
       "  <tbody>\n",
       "    <tr>\n",
       "      <th>0</th>\n",
       "      <td>2016-03-26 17:47:46</td>\n",
       "      <td>Peugeot_807_160_NAVTECH_ON_BOARD</td>\n",
       "      <td>5000</td>\n",
       "      <td>control</td>\n",
       "      <td>bus</td>\n",
       "      <td>2004</td>\n",
       "      <td>manuell</td>\n",
       "      <td>158</td>\n",
       "      <td>andere</td>\n",
       "      <td>150000</td>\n",
       "      <td>3</td>\n",
       "      <td>lpg</td>\n",
       "      <td>peugeot</td>\n",
       "      <td>nein</td>\n",
       "      <td>2016-03-26 00:00:00</td>\n",
       "      <td>79588</td>\n",
       "      <td>2016-04-06 06:45:54</td>\n",
       "    </tr>\n",
       "    <tr>\n",
       "      <th>1</th>\n",
       "      <td>2016-04-04 13:38:56</td>\n",
       "      <td>BMW_740i_4_4_Liter_HAMANN_UMBAU_Mega_Optik</td>\n",
       "      <td>8500</td>\n",
       "      <td>control</td>\n",
       "      <td>limousine</td>\n",
       "      <td>1997</td>\n",
       "      <td>automatik</td>\n",
       "      <td>286</td>\n",
       "      <td>7er</td>\n",
       "      <td>150000</td>\n",
       "      <td>6</td>\n",
       "      <td>benzin</td>\n",
       "      <td>bmw</td>\n",
       "      <td>nein</td>\n",
       "      <td>2016-04-04 00:00:00</td>\n",
       "      <td>71034</td>\n",
       "      <td>2016-04-06 14:45:08</td>\n",
       "    </tr>\n",
       "    <tr>\n",
       "      <th>2</th>\n",
       "      <td>2016-03-26 18:57:24</td>\n",
       "      <td>Volkswagen_Golf_1.6_United</td>\n",
       "      <td>8990</td>\n",
       "      <td>test</td>\n",
       "      <td>limousine</td>\n",
       "      <td>2009</td>\n",
       "      <td>manuell</td>\n",
       "      <td>102</td>\n",
       "      <td>golf</td>\n",
       "      <td>70000</td>\n",
       "      <td>7</td>\n",
       "      <td>benzin</td>\n",
       "      <td>volkswagen</td>\n",
       "      <td>nein</td>\n",
       "      <td>2016-03-26 00:00:00</td>\n",
       "      <td>35394</td>\n",
       "      <td>2016-04-06 20:15:37</td>\n",
       "    </tr>\n",
       "    <tr>\n",
       "      <th>3</th>\n",
       "      <td>2016-03-12 16:58:10</td>\n",
       "      <td>Smart_smart_fortwo_coupe_softouch/F1/Klima/Pan...</td>\n",
       "      <td>4350</td>\n",
       "      <td>control</td>\n",
       "      <td>kleinwagen</td>\n",
       "      <td>2007</td>\n",
       "      <td>automatik</td>\n",
       "      <td>71</td>\n",
       "      <td>fortwo</td>\n",
       "      <td>70000</td>\n",
       "      <td>6</td>\n",
       "      <td>benzin</td>\n",
       "      <td>smart</td>\n",
       "      <td>nein</td>\n",
       "      <td>2016-03-12 00:00:00</td>\n",
       "      <td>33729</td>\n",
       "      <td>2016-03-15 03:16:28</td>\n",
       "    </tr>\n",
       "    <tr>\n",
       "      <th>4</th>\n",
       "      <td>2016-04-01 14:38:50</td>\n",
       "      <td>Ford_Focus_1_6_Benzin_TÜV_neu_ist_sehr_gepfleg...</td>\n",
       "      <td>1350</td>\n",
       "      <td>test</td>\n",
       "      <td>kombi</td>\n",
       "      <td>2003</td>\n",
       "      <td>manuell</td>\n",
       "      <td>0</td>\n",
       "      <td>focus</td>\n",
       "      <td>150000</td>\n",
       "      <td>7</td>\n",
       "      <td>benzin</td>\n",
       "      <td>ford</td>\n",
       "      <td>nein</td>\n",
       "      <td>2016-04-01 00:00:00</td>\n",
       "      <td>39218</td>\n",
       "      <td>2016-04-01 14:38:50</td>\n",
       "    </tr>\n",
       "  </tbody>\n",
       "</table>\n",
       "</div>"
      ],
      "text/plain": [
       "          date_crawled                                               name  \\\n",
       "0  2016-03-26 17:47:46                   Peugeot_807_160_NAVTECH_ON_BOARD   \n",
       "1  2016-04-04 13:38:56         BMW_740i_4_4_Liter_HAMANN_UMBAU_Mega_Optik   \n",
       "2  2016-03-26 18:57:24                         Volkswagen_Golf_1.6_United   \n",
       "3  2016-03-12 16:58:10  Smart_smart_fortwo_coupe_softouch/F1/Klima/Pan...   \n",
       "4  2016-04-01 14:38:50  Ford_Focus_1_6_Benzin_TÜV_neu_ist_sehr_gepfleg...   \n",
       "\n",
       "   price_usd  ab_test vehicle_type  registration_year    gearbox  power_ps  \\\n",
       "0       5000  control          bus               2004    manuell       158   \n",
       "1       8500  control    limousine               1997  automatik       286   \n",
       "2       8990     test    limousine               2009    manuell       102   \n",
       "3       4350  control   kleinwagen               2007  automatik        71   \n",
       "4       1350     test        kombi               2003    manuell         0   \n",
       "\n",
       "    model  odometer_km  registration_month fuel_type       brand  \\\n",
       "0  andere       150000                   3       lpg     peugeot   \n",
       "1     7er       150000                   6    benzin         bmw   \n",
       "2    golf        70000                   7    benzin  volkswagen   \n",
       "3  fortwo        70000                   6    benzin       smart   \n",
       "4   focus       150000                   7    benzin        ford   \n",
       "\n",
       "  unrepaired_damage           ad_created  postal_code            last_seen  \n",
       "0              nein  2016-03-26 00:00:00        79588  2016-04-06 06:45:54  \n",
       "1              nein  2016-04-04 00:00:00        71034  2016-04-06 14:45:08  \n",
       "2              nein  2016-03-26 00:00:00        35394  2016-04-06 20:15:37  \n",
       "3              nein  2016-03-12 00:00:00        33729  2016-03-15 03:16:28  \n",
       "4              nein  2016-04-01 00:00:00        39218  2016-04-01 14:38:50  "
      ]
     },
     "execution_count": 16,
     "metadata": {},
     "output_type": "execute_result"
    }
   ],
   "source": [
    "autos.head()"
   ]
  },
  {
   "cell_type": "code",
   "execution_count": 17,
   "id": "cfadea28",
   "metadata": {},
   "outputs": [
    {
     "name": "stdout",
     "output_type": "stream",
     "text": [
      "<class 'pandas.core.frame.DataFrame'>\n",
      "RangeIndex: 50000 entries, 0 to 49999\n",
      "Data columns (total 17 columns):\n",
      " #   Column              Non-Null Count  Dtype \n",
      "---  ------              --------------  ----- \n",
      " 0   date_crawled        50000 non-null  object\n",
      " 1   name                50000 non-null  object\n",
      " 2   price_usd           50000 non-null  int64 \n",
      " 3   ab_test             50000 non-null  object\n",
      " 4   vehicle_type        44905 non-null  object\n",
      " 5   registration_year   50000 non-null  int64 \n",
      " 6   gearbox             47320 non-null  object\n",
      " 7   power_ps            50000 non-null  int64 \n",
      " 8   model               47242 non-null  object\n",
      " 9   odometer_km         50000 non-null  int64 \n",
      " 10  registration_month  50000 non-null  int64 \n",
      " 11  fuel_type           45518 non-null  object\n",
      " 12  brand               50000 non-null  object\n",
      " 13  unrepaired_damage   40171 non-null  object\n",
      " 14  ad_created          50000 non-null  object\n",
      " 15  postal_code         50000 non-null  int64 \n",
      " 16  last_seen           50000 non-null  object\n",
      "dtypes: int64(6), object(11)\n",
      "memory usage: 33.7 MB\n"
     ]
    }
   ],
   "source": [
    "autos.info(memory_usage=\"deep\")"
   ]
  },
  {
   "cell_type": "markdown",
   "id": "1e72dd66",
   "metadata": {},
   "source": [
    "*Note, we have reduced the memory usage by just over 10MB by removing redundant/unusable columns.*\n",
    "\n",
    "Null values still need to be investigated further and the extreme values in `power_ps` and `registration_year` need to be addressed, but the dataset is in a good position to do some initial exploratory analysis on the `price_usd` and `odometer_km` columns."
   ]
  },
  {
   "cell_type": "markdown",
   "id": "737902a0",
   "metadata": {},
   "source": [
    "### Exploring `odometer_km` and `price_usd`"
   ]
  },
  {
   "cell_type": "code",
   "execution_count": 18,
   "id": "7ecf919c",
   "metadata": {},
   "outputs": [
    {
     "data": {
      "text/plain": [
       "odometer_km\n",
       "150000    32424\n",
       "125000     5170\n",
       "100000     2169\n",
       "90000      1757\n",
       "80000      1436\n",
       "70000      1230\n",
       "60000      1164\n",
       "50000      1027\n",
       "5000        967\n",
       "40000       819\n",
       "30000       789\n",
       "20000       784\n",
       "10000       264\n",
       "Name: count, dtype: int64"
      ]
     },
     "execution_count": 18,
     "metadata": {},
     "output_type": "execute_result"
    }
   ],
   "source": [
    "autos[\"odometer_km\"].value_counts()"
   ]
  },
  {
   "cell_type": "markdown",
   "id": "e2ad0c54",
   "metadata": {},
   "source": [
    "The `odometer_km` data values are all rounded to the nearest thousand. It is likely sellers had to select from a pre-filled drop-down list.\n",
    "\n",
    "The distribution is skewed towards high mileage. ~79.5% of all vehicles in the dataset have mileages over 100,000 km."
   ]
  },
  {
   "cell_type": "code",
   "execution_count": 19,
   "id": "4c9e979d",
   "metadata": {},
   "outputs": [
    {
     "data": {
      "text/plain": [
       "(2357,)"
      ]
     },
     "execution_count": 19,
     "metadata": {},
     "output_type": "execute_result"
    }
   ],
   "source": [
    "autos[\"price_usd\"].unique().shape"
   ]
  },
  {
   "cell_type": "code",
   "execution_count": 20,
   "id": "71a0a6e8",
   "metadata": {},
   "outputs": [
    {
     "data": {
      "text/plain": [
       "count    5.000000e+04\n",
       "mean     9.840044e+03\n",
       "std      4.811044e+05\n",
       "min      0.000000e+00\n",
       "25%      1.100000e+03\n",
       "50%      2.950000e+03\n",
       "75%      7.200000e+03\n",
       "max      1.000000e+08\n",
       "Name: price_usd, dtype: float64"
      ]
     },
     "execution_count": 20,
     "metadata": {},
     "output_type": "execute_result"
    }
   ],
   "source": [
    "autos[\"price_usd\"].describe()"
   ]
  },
  {
   "cell_type": "markdown",
   "id": "b1d7cf3a",
   "metadata": {},
   "source": [
    "There are 2357 unique prices listed in the dataset. The minimum listed price is $0 USD whilst the maximum is $100 million USD. \n",
    "\n",
    "The minimum value is realistic considering the context as sellers may list old/unwanted or damaged cars to be claimed for free (as a means to dispose of junk). \n",
    "\n",
    "The maximum value seems highly irregular however."
   ]
  },
  {
   "cell_type": "code",
   "execution_count": 21,
   "id": "5f044303",
   "metadata": {},
   "outputs": [
    {
     "data": {
      "text/plain": [
       "price_usd\n",
       "0       1421\n",
       "500      781\n",
       "1500     734\n",
       "2500     643\n",
       "1000     639\n",
       "1200     639\n",
       "600      531\n",
       "800      498\n",
       "3500     498\n",
       "2000     460\n",
       "999      434\n",
       "750      433\n",
       "900      420\n",
       "650      419\n",
       "850      410\n",
       "700      395\n",
       "4500     394\n",
       "300      384\n",
       "2200     382\n",
       "950      379\n",
       "Name: count, dtype: int64"
      ]
     },
     "execution_count": 21,
     "metadata": {},
     "output_type": "execute_result"
    }
   ],
   "source": [
    "autos[\"price_usd\"].value_counts().head(20)"
   ]
  },
  {
   "cell_type": "markdown",
   "id": "3d4d71d7",
   "metadata": {},
   "source": [
    "1421 listings in the dataset have a price of $0, which is the most frequent listed price. This makes up just under 2% of the entire dataset, but does suggest a notable portion of sellers may use the marketplace as a means to dispose of unwanted vehicles."
   ]
  },
  {
   "cell_type": "code",
   "execution_count": 22,
   "id": "04066adb",
   "metadata": {},
   "outputs": [
    {
     "data": {
      "text/plain": [
       "price_usd\n",
       "99999999    1\n",
       "27322222    1\n",
       "12345678    3\n",
       "11111111    2\n",
       "10000000    1\n",
       "3890000     1\n",
       "1300000     1\n",
       "1234566     1\n",
       "999999      2\n",
       "999990      1\n",
       "350000      1\n",
       "345000      1\n",
       "299000      1\n",
       "295000      1\n",
       "265000      1\n",
       "259000      1\n",
       "250000      1\n",
       "220000      1\n",
       "198000      1\n",
       "197000      1\n",
       "Name: count, dtype: int64"
      ]
     },
     "execution_count": 22,
     "metadata": {},
     "output_type": "execute_result"
    }
   ],
   "source": [
    "autos[\"price_usd\"].value_counts().sort_index(ascending=False).head(20) # returns the top 20 listings with the highest prices, along with the number of listings with each price"
   ]
  },
  {
   "cell_type": "markdown",
   "id": "590f6cd0",
   "metadata": {},
   "source": [
    "Sorting by price in descending order reveals the frequency of listings with the largest prices. \n",
    "\n",
    "Looking at the prices, we see a steady price increase up to $350,000 USD and then a sudden jump up to $999,990 USD. Based on the context and this pattern in the data, it makes sense to discard the 14 records with prices exceeding $350,000 USD as these values are highly unrealistic (and likely are due to hoax/joke listings)."
   ]
  },
  {
   "cell_type": "code",
   "execution_count": 23,
   "id": "17017fb4",
   "metadata": {},
   "outputs": [
    {
     "data": {
      "text/plain": [
       "price_usd\n",
       "0     1421\n",
       "1      156\n",
       "2        3\n",
       "3        1\n",
       "5        2\n",
       "8        1\n",
       "9        1\n",
       "10       7\n",
       "11       2\n",
       "12       3\n",
       "13       2\n",
       "14       1\n",
       "15       2\n",
       "17       3\n",
       "18       1\n",
       "20       4\n",
       "25       5\n",
       "29       1\n",
       "30       7\n",
       "35       1\n",
       "Name: count, dtype: int64"
      ]
     },
     "execution_count": 23,
     "metadata": {},
     "output_type": "execute_result"
    }
   ],
   "source": [
    "(autos[\"price_usd\"]             # returns the top 20 listings with the lowest prices, along with the number of listings with each price\n",
    " .value_counts()\n",
    " .sort_index(ascending=True)\n",
    " .head(20)\n",
    " )"
   ]
  },
  {
   "cell_type": "markdown",
   "id": "ccecbe1c",
   "metadata": {},
   "source": [
    "There are a number of listings with prices below $30 USD. Given eBay is primarily an auction site, it is reasonable to expect items to be featured with an opening bid as low as $1 USD.\n",
    "\n",
    "For our price analysis, we should discard rows with prices exceeding $350,000 USD as well as $0 USD listings:"
   ]
  },
  {
   "cell_type": "code",
   "execution_count": 24,
   "id": "41a65d1e",
   "metadata": {},
   "outputs": [
    {
     "data": {
      "text/plain": [
       "count     48565.000000\n",
       "mean       5888.935591\n",
       "std        9059.854754\n",
       "min           1.000000\n",
       "25%        1200.000000\n",
       "50%        3000.000000\n",
       "75%        7490.000000\n",
       "max      350000.000000\n",
       "Name: price_usd, dtype: float64"
      ]
     },
     "execution_count": 24,
     "metadata": {},
     "output_type": "execute_result"
    }
   ],
   "source": [
    "autos = autos[autos[\"price_usd\"].between(1, 350000)]\n",
    "\n",
    "autos[\"price_usd\"].describe()"
   ]
  },
  {
   "cell_type": "markdown",
   "id": "89873125",
   "metadata": {},
   "source": [
    "We remove all rows from the `autos DataFrame` with prices falling outside of the 1-350,000 USD range. This is done by passing a Boolean mask (using the `.between()` method) to the dataframe and reassigning the result to the `autos` variable where the DataFrame is stored.\n",
    "\n",
    "Using the `.desrcibe()` method on the `price_usd` column of the updated dataframe generates summary statistics for the cleaned `price_usd` column.\n",
    "\n",
    "From the count vale, we can see we have removed 1435 listings: \n",
    "\n",
    ">* The resulting **median price** is `$3,000 USD`. \n",
    ">\n",
    ">* The **IQR (Q3-Q1)** is `$6,290 USD` - the range of the central 50% of the data.\n",
    "\n",
    "*Using the median and IQR in this case are more robust measures due to the wide spread of datapoints. The mean and std are far more sensitive to extrema, leading to less reliable measures of central tendency and spread respectively.*"
   ]
  },
  {
   "cell_type": "markdown",
   "id": "f70d87db",
   "metadata": {},
   "source": [
    "### Cleaning the `unrepaired_damage` and `model` Columns"
   ]
  },
  {
   "cell_type": "code",
   "execution_count": 25,
   "id": "5523466f",
   "metadata": {},
   "outputs": [
    {
     "name": "stdout",
     "output_type": "stream",
     "text": [
      "<class 'pandas.core.frame.DataFrame'>\n",
      "Index: 48565 entries, 0 to 49999\n",
      "Data columns (total 17 columns):\n",
      " #   Column              Non-Null Count  Dtype \n",
      "---  ------              --------------  ----- \n",
      " 0   date_crawled        48565 non-null  object\n",
      " 1   name                48565 non-null  object\n",
      " 2   price_usd           48565 non-null  int64 \n",
      " 3   ab_test             48565 non-null  object\n",
      " 4   vehicle_type        43979 non-null  object\n",
      " 5   registration_year   48565 non-null  int64 \n",
      " 6   gearbox             46222 non-null  object\n",
      " 7   power_ps            48565 non-null  int64 \n",
      " 8   model               46107 non-null  object\n",
      " 9   odometer_km         48565 non-null  int64 \n",
      " 10  registration_month  48565 non-null  int64 \n",
      " 11  fuel_type           44535 non-null  object\n",
      " 12  brand               48565 non-null  object\n",
      " 13  unrepaired_damage   39464 non-null  object\n",
      " 14  ad_created          48565 non-null  object\n",
      " 15  postal_code         48565 non-null  int64 \n",
      " 16  last_seen           48565 non-null  object\n",
      "dtypes: int64(6), object(11)\n",
      "memory usage: 6.7+ MB\n"
     ]
    }
   ],
   "source": [
    "autos.info()"
   ]
  },
  {
   "cell_type": "markdown",
   "id": "bea70c5f",
   "metadata": {},
   "source": [
    "The `unrepaired_damage` column contains 9,101 null values. These can be made more descriptive by replacing them with the string \"not_specified\"."
   ]
  },
  {
   "cell_type": "code",
   "execution_count": 26,
   "id": "918d3b09",
   "metadata": {},
   "outputs": [
    {
     "data": {
      "text/plain": [
       "unrepaired_damage\n",
       "nein             34775\n",
       "not_specified     9101\n",
       "ja                4689\n",
       "Name: count, dtype: int64"
      ]
     },
     "execution_count": 26,
     "metadata": {},
     "output_type": "execute_result"
    }
   ],
   "source": [
    "autos.loc[autos[\"unrepaired_damage\"].isnull(), \"unrepaired_damage\"] = \"not_specified\"\n",
    "\n",
    "autos[\"unrepaired_damage\"].value_counts(dropna=False)"
   ]
  },
  {
   "cell_type": "markdown",
   "id": "9a1462c3",
   "metadata": {},
   "source": [
    "Filling null values in the `model` column is far more involved. Many of the null values within the model column should not be null values since the model of the vehicle is known from the `name` field in the record. \n",
    "\n",
    "We can partly address this below, filling the majority of the `model` null values with the correct vehicle model for the row (based on the `name` column). \n",
    "\n",
    "To do this, we first define the Series object `vehicle_names_with_null_models` which pulls the `name` column from the dataframe for every record containing a null value in the `model` column. Since the name column uses underscores to separate words, we can split the value of the name column about the underscore to generate an array of split names for every record."
   ]
  },
  {
   "cell_type": "code",
   "execution_count": 27,
   "id": "8cd297e1",
   "metadata": {},
   "outputs": [
    {
     "data": {
      "text/plain": [
       "10                      [VW, Golf, Tuning, in, siber/grau]\n",
       "11                          [Mercedes, A140, Motorschaden]\n",
       "15       [Corvette, C3, Coupe, T, Top, Crossfire, Injec...\n",
       "23       [Peugeot, Boxer, 2, 2, HDi, 120, Ps, 9, Sitzer...\n",
       "25       [Ford, escort, kombi, an, bastler, mit, ghia, ...\n",
       "                               ...                        \n",
       "49941                [Maserati, Ghibli, Diesel, Automatik]\n",
       "49950    [Volvo, V70, 2, II, , 2002, , AHK, , Klima, , ...\n",
       "49954                              [328, Cabrio, Schalter]\n",
       "49985                       [Verkaufe, meinen, vw, vento!]\n",
       "49993    [Audi, A3, , 1, 8l, , Silber;, schoenes, Fahrz...\n",
       "Name: name, Length: 2458, dtype: object"
      ]
     },
     "execution_count": 27,
     "metadata": {},
     "output_type": "execute_result"
    }
   ],
   "source": [
    "vehicle_names_with_null_models = autos[autos[\"model\"].isnull()][\"name\"]\n",
    "\n",
    "split_names = vehicle_names_with_null_models.str.split(\"_\")\n",
    "\n",
    "split_names"
   ]
  },
  {
   "cell_type": "markdown",
   "id": "802dea77",
   "metadata": {},
   "source": [
    "We then assign a new variable `models` to store all unique vehicle models present in the dataset, casting this as a string datatype. We then append an array of models identified from the `name` field of vehicles which have null model values (see the `before_mapping` variable below to see how these models where determined).\n",
    "\n",
    "The items in the `models` array are all made lowercase and then we loop over each row in the split_names series assigned in the code cell above. A variable `model_match` is assigned to \"not_specified\" as a default for every row. The inner loop then executes, updating the model_match variable to the item in the row array if it matches with one of the models in the `models` ndarray.\n",
    "\n",
    "We then append all of the model_match strings to the mappings list. This is an ordered list, with each element corresponding to a model determined from the `name` field for that particular row. This `mappings` list can simply be assigned to the `model` column for all rows containing null values."
   ]
  },
  {
   "cell_type": "code",
   "execution_count": 28,
   "id": "8ab870eb",
   "metadata": {},
   "outputs": [],
   "source": [
    "models = autos[\"model\"].unique().astype(str)\n",
    "\n",
    "models = np.append(models, [\"vento\", \"a140\", \"ghibli\", \"h2\", \"dakota\", \"206\", \"626\", \"deville\", \"nitro\", \"cabrio\", \"challenger\", \"318\", \"spitfire\", \"tr3\", \"353\", \"explorer\", \"525\", \"grandis\", \"carens\", \"b12\", \"bonneville\", \"firebird\", \"c6\", \"gallardo\", \"demio\", \"530d\", \"330\", \"boxer\", \"caliber\"])\n",
    "\n",
    "models = np.char.lower(models)\n",
    "\n",
    "mappings = []\n",
    "\n",
    "for row in split_names:\n",
    "  \n",
    "  model_match = \"not_specified\"\n",
    "  \n",
    "  for item in row:\n",
    "    \n",
    "    if item.lower() in models:\n",
    "      \n",
    "      model_match = item\n",
    "      \n",
    "      break\n",
    "     \n",
    "  mappings.append(model_match)"
   ]
  },
  {
   "cell_type": "code",
   "execution_count": 29,
   "id": "16584fc1",
   "metadata": {},
   "outputs": [
    {
     "data": {
      "text/plain": [
       "name\n",
       "Peugeot_206              9\n",
       "Renault_Twingo           7\n",
       "Dodge_RAM                6\n",
       "Zu_verkaufen             5\n",
       "MG_MGF_1.8i              5\n",
       "Suche_ein_Auto           4\n",
       "Hummer_H2                4\n",
       "Mazda_626                4\n",
       "Opel_Astra               4\n",
       "Cadillac_Deville         3\n",
       "Ford_mondeo              3\n",
       "Opel_Vectra_B            3\n",
       "Abarth_Grande_Punto      3\n",
       "Renault_Megane_Scenic    3\n",
       "Dodge_Nitro              3\n",
       "Opel_vectra              3\n",
       "Opel_corsa               3\n",
       "Dodge_Challenger         2\n",
       "Lincoln_Town_Car         2\n",
       "Piaggio_Porter           2\n",
       "Name: count, dtype: int64"
      ]
     },
     "execution_count": 29,
     "metadata": {},
     "output_type": "execute_result"
    }
   ],
   "source": [
    "autos.loc[autos[\"model\"].isnull(), \"model\"] = \"not_specified\" # replaces all null values in the \"model\" column with \"not_specified\"\n",
    "\n",
    "before_mapping = autos[autos[\"model\"] == \"not_specified\"][\"name\"].value_counts().head(20) # returns the top 20 vehicle names with null values in the \"model\" column. we can clearly see model names in many of the vehicle names\n",
    "before_mapping"
   ]
  },
  {
   "cell_type": "code",
   "execution_count": 30,
   "id": "dba4b859",
   "metadata": {},
   "outputs": [
    {
     "name": "stdout",
     "output_type": "stream",
     "text": [
      "['Golf', 'A140', 'C3', 'Boxer', 'escort', 'Passat', 'not_specified', 'Vento', 'not_specified', 'not_specified', 'not_specified', 'not_specified', 'not_specified', 'STILO', 'not_specified', 'not_specified', 'not_specified', 'vectra', 'not_specified', 'Nitro', '206', 'Focus', 'not_specified', '601', 'not_specified', 'not_specified', 'A6', 'not_specified', 'C4', 'not_specified', 'not_specified', '200', 'not_specified', 'not_specified', 'not_specified', 'not_specified', 'not_specified', 'mondeo', 'Escort', 'omega', 'Firebird', 'Cabrio', 'sportage', 'Cherokee', 'not_specified', 'Polo', 'Polo', 'not_specified', 'Niva', 'not_specified']\n",
      "2458\n"
     ]
    }
   ],
   "source": [
    "print(mappings[:50]) # displays the first 50 elements in the mappings list which can be assigned to the model column to fill many of the missing values\n",
    "\n",
    "print(len(mappings)) # the length of the mappings list indicates 2458 unspecified model values were present in the dataset. these are to be updated with the values in the mappings list"
   ]
  },
  {
   "cell_type": "code",
   "execution_count": 31,
   "id": "3cbe182e",
   "metadata": {},
   "outputs": [],
   "source": [
    "autos.loc[autos[\"model\"] == \"not_specified\", \"model\"] = mappings # replaces all null values in the \"model\" column with the values in the mappings list"
   ]
  },
  {
   "cell_type": "code",
   "execution_count": 32,
   "id": "51a08e5c",
   "metadata": {},
   "outputs": [
    {
     "data": {
      "text/plain": [
       "name\n",
       "Dodge_RAM                                          6\n",
       "MG_MGF_1.8i                                        5\n",
       "Zu_verkaufen                                       5\n",
       "Suche_ein_Auto                                     4\n",
       "Ersatzteilspender_mit_Rest_TÜV_bis_Mai             2\n",
       "Lexus_IS_250_Sport_Line                            2\n",
       "MG_MGB                                             2\n",
       "UNFAL_Auto                                         2\n",
       "Mercedes_benz_ml_320_lpg                           2\n",
       "Piaggio_Porter                                     2\n",
       "Suche_Auto                                         2\n",
       "Sommerreifen                                       2\n",
       "Lincoln_Town_Car                                   2\n",
       "MG_MG_TF_135                                       2\n",
       "Auto_gesucht                                       2\n",
       "Lexus_IS_220d_DPNR_Luxury_Line                     2\n",
       "Wartburg_1.3                                       2\n",
       "Aixam_City_Premium__LEDER__45km/h__ab_16_Jahren    1\n",
       "Peugeot_106_1_4_55kw_Nuer_heute!!!!!!              1\n",
       "Verkaufe_meinen_vw_vento!                          1\n",
       "Name: count, dtype: int64"
      ]
     },
     "execution_count": 32,
     "metadata": {},
     "output_type": "execute_result"
    }
   ],
   "source": [
    "after_mapping = autos[autos[\"model\"] == \"not_specified\"][\"name\"].value_counts().head(20) # returns the top 20 vehicle names with null values in the \"model\" column after mapping.\n",
    "after_mapping"
   ]
  },
  {
   "cell_type": "markdown",
   "id": "c60e292d",
   "metadata": {},
   "source": [
    "We see many of the remaining names with null `model` values after the mapping are more difficult to extract a model name from. \n",
    "\n",
    "Some listing names (e.g., Suche_ein_Auto) are not vehicle listings and are instead listings where people are expressing interest in finding a car:"
   ]
  },
  {
   "cell_type": "code",
   "execution_count": 33,
   "id": "64489181",
   "metadata": {},
   "outputs": [
    {
     "data": {
      "text/html": [
       "<div>\n",
       "<style scoped>\n",
       "    .dataframe tbody tr th:only-of-type {\n",
       "        vertical-align: middle;\n",
       "    }\n",
       "\n",
       "    .dataframe tbody tr th {\n",
       "        vertical-align: top;\n",
       "    }\n",
       "\n",
       "    .dataframe thead th {\n",
       "        text-align: right;\n",
       "    }\n",
       "</style>\n",
       "<table border=\"1\" class=\"dataframe\">\n",
       "  <thead>\n",
       "    <tr style=\"text-align: right;\">\n",
       "      <th></th>\n",
       "      <th>date_crawled</th>\n",
       "      <th>name</th>\n",
       "      <th>price_usd</th>\n",
       "      <th>ab_test</th>\n",
       "      <th>vehicle_type</th>\n",
       "      <th>registration_year</th>\n",
       "      <th>gearbox</th>\n",
       "      <th>power_ps</th>\n",
       "      <th>model</th>\n",
       "      <th>odometer_km</th>\n",
       "      <th>registration_month</th>\n",
       "      <th>fuel_type</th>\n",
       "      <th>brand</th>\n",
       "      <th>unrepaired_damage</th>\n",
       "      <th>ad_created</th>\n",
       "      <th>postal_code</th>\n",
       "      <th>last_seen</th>\n",
       "    </tr>\n",
       "  </thead>\n",
       "  <tbody>\n",
       "    <tr>\n",
       "      <th>3894</th>\n",
       "      <td>2016-03-25 13:25:22</td>\n",
       "      <td>Suche_ein_Auto</td>\n",
       "      <td>2800</td>\n",
       "      <td>test</td>\n",
       "      <td>NaN</td>\n",
       "      <td>2005</td>\n",
       "      <td>NaN</td>\n",
       "      <td>150</td>\n",
       "      <td>not_specified</td>\n",
       "      <td>150000</td>\n",
       "      <td>0</td>\n",
       "      <td>NaN</td>\n",
       "      <td>sonstige_autos</td>\n",
       "      <td>not_specified</td>\n",
       "      <td>2016-03-25 00:00:00</td>\n",
       "      <td>35641</td>\n",
       "      <td>2016-04-07 07:16:12</td>\n",
       "    </tr>\n",
       "    <tr>\n",
       "      <th>5883</th>\n",
       "      <td>2016-03-28 12:56:23</td>\n",
       "      <td>Suche_ein_Auto</td>\n",
       "      <td>1</td>\n",
       "      <td>test</td>\n",
       "      <td>NaN</td>\n",
       "      <td>2005</td>\n",
       "      <td>NaN</td>\n",
       "      <td>0</td>\n",
       "      <td>not_specified</td>\n",
       "      <td>5000</td>\n",
       "      <td>0</td>\n",
       "      <td>NaN</td>\n",
       "      <td>volkswagen</td>\n",
       "      <td>not_specified</td>\n",
       "      <td>2016-03-28 00:00:00</td>\n",
       "      <td>61118</td>\n",
       "      <td>2016-04-02 16:48:00</td>\n",
       "    </tr>\n",
       "    <tr>\n",
       "      <th>41537</th>\n",
       "      <td>2016-03-18 23:47:25</td>\n",
       "      <td>Suche_ein_Auto</td>\n",
       "      <td>350</td>\n",
       "      <td>test</td>\n",
       "      <td>NaN</td>\n",
       "      <td>2000</td>\n",
       "      <td>NaN</td>\n",
       "      <td>0</td>\n",
       "      <td>not_specified</td>\n",
       "      <td>5000</td>\n",
       "      <td>0</td>\n",
       "      <td>NaN</td>\n",
       "      <td>sonstige_autos</td>\n",
       "      <td>not_specified</td>\n",
       "      <td>2016-03-18 00:00:00</td>\n",
       "      <td>44359</td>\n",
       "      <td>2016-03-28 02:44:40</td>\n",
       "    </tr>\n",
       "    <tr>\n",
       "      <th>43516</th>\n",
       "      <td>2016-03-16 12:37:15</td>\n",
       "      <td>Suche_ein_Auto</td>\n",
       "      <td>2000</td>\n",
       "      <td>test</td>\n",
       "      <td>NaN</td>\n",
       "      <td>2000</td>\n",
       "      <td>NaN</td>\n",
       "      <td>0</td>\n",
       "      <td>not_specified</td>\n",
       "      <td>150000</td>\n",
       "      <td>0</td>\n",
       "      <td>NaN</td>\n",
       "      <td>sonstige_autos</td>\n",
       "      <td>not_specified</td>\n",
       "      <td>2016-03-16 00:00:00</td>\n",
       "      <td>78662</td>\n",
       "      <td>2016-04-06 06:16:23</td>\n",
       "    </tr>\n",
       "  </tbody>\n",
       "</table>\n",
       "</div>"
      ],
      "text/plain": [
       "              date_crawled            name  price_usd ab_test vehicle_type  \\\n",
       "3894   2016-03-25 13:25:22  Suche_ein_Auto       2800    test          NaN   \n",
       "5883   2016-03-28 12:56:23  Suche_ein_Auto          1    test          NaN   \n",
       "41537  2016-03-18 23:47:25  Suche_ein_Auto        350    test          NaN   \n",
       "43516  2016-03-16 12:37:15  Suche_ein_Auto       2000    test          NaN   \n",
       "\n",
       "       registration_year gearbox  power_ps          model  odometer_km  \\\n",
       "3894                2005     NaN       150  not_specified       150000   \n",
       "5883                2005     NaN         0  not_specified         5000   \n",
       "41537               2000     NaN         0  not_specified         5000   \n",
       "43516               2000     NaN         0  not_specified       150000   \n",
       "\n",
       "       registration_month fuel_type           brand unrepaired_damage  \\\n",
       "3894                    0       NaN  sonstige_autos     not_specified   \n",
       "5883                    0       NaN      volkswagen     not_specified   \n",
       "41537                   0       NaN  sonstige_autos     not_specified   \n",
       "43516                   0       NaN  sonstige_autos     not_specified   \n",
       "\n",
       "                ad_created  postal_code            last_seen  \n",
       "3894   2016-03-25 00:00:00        35641  2016-04-07 07:16:12  \n",
       "5883   2016-03-28 00:00:00        61118  2016-04-02 16:48:00  \n",
       "41537  2016-03-18 00:00:00        44359  2016-03-28 02:44:40  \n",
       "43516  2016-03-16 00:00:00        78662  2016-04-06 06:16:23  "
      ]
     },
     "execution_count": 33,
     "metadata": {},
     "output_type": "execute_result"
    }
   ],
   "source": [
    "autos.loc[autos[\"name\"] == \"Suche_ein_Auto\",:]"
   ]
  },
  {
   "cell_type": "code",
   "execution_count": 34,
   "id": "55821885",
   "metadata": {},
   "outputs": [
    {
     "name": "stdout",
     "output_type": "stream",
     "text": [
      "<class 'pandas.core.frame.DataFrame'>\n",
      "Index: 48565 entries, 0 to 49999\n",
      "Data columns (total 17 columns):\n",
      " #   Column              Non-Null Count  Dtype \n",
      "---  ------              --------------  ----- \n",
      " 0   date_crawled        48565 non-null  object\n",
      " 1   name                48565 non-null  object\n",
      " 2   price_usd           48565 non-null  int64 \n",
      " 3   ab_test             48565 non-null  object\n",
      " 4   vehicle_type        43979 non-null  object\n",
      " 5   registration_year   48565 non-null  int64 \n",
      " 6   gearbox             46222 non-null  object\n",
      " 7   power_ps            48565 non-null  int64 \n",
      " 8   model               48565 non-null  object\n",
      " 9   odometer_km         48565 non-null  int64 \n",
      " 10  registration_month  48565 non-null  int64 \n",
      " 11  fuel_type           44535 non-null  object\n",
      " 12  brand               48565 non-null  object\n",
      " 13  unrepaired_damage   48565 non-null  object\n",
      " 14  ad_created          48565 non-null  object\n",
      " 15  postal_code         48565 non-null  int64 \n",
      " 16  last_seen           48565 non-null  object\n",
      "dtypes: int64(6), object(11)\n",
      "memory usage: 6.7+ MB\n"
     ]
    }
   ],
   "source": [
    "autos.info()"
   ]
  },
  {
   "cell_type": "code",
   "execution_count": 35,
   "id": "8c0d8380",
   "metadata": {},
   "outputs": [
    {
     "data": {
      "text/plain": [
       "model\n",
       "not_specified    1157\n",
       "Name: count, dtype: int64"
      ]
     },
     "execution_count": 35,
     "metadata": {},
     "output_type": "execute_result"
    }
   ],
   "source": [
    "autos[autos[\"model\"] == \"not_specified\"][\"model\"].value_counts() # after mapping, there are 1157 unspecified values in the \"model\" column"
   ]
  },
  {
   "cell_type": "markdown",
   "id": "afb40127",
   "metadata": {},
   "source": [
    "We have reduced now completely eliminated all null values in the model column (by replacing unknowns with not_specified) and filling in 1,301 null values with the actual model of the vehicle."
   ]
  },
  {
   "cell_type": "markdown",
   "id": "b467f744",
   "metadata": {},
   "source": [
    "Depending on the future analysis goals, we would consider dropping these records, but for now we will leave them in place and move on to exploring other areas of the dataset.\n",
    "___"
   ]
  },
  {
   "cell_type": "markdown",
   "id": "abd0c434",
   "metadata": {},
   "source": [
    "### Filling Null Values in the Remaining Columns"
   ]
  },
  {
   "cell_type": "markdown",
   "id": "bd846085",
   "metadata": {},
   "source": [
    "Since it is impossible to accurately fill null values with the correct data for the `vehicle_type`, `gearbox` and `fuel_type` columns, we can fill these with \"not_specified\" to more accurately describe the status of the missing values. \n",
    "\n",
    "Depending on the course the analysis takes, records containing \"not_specified\" values could be dropped from the dataset if we are interested in drawing conclusions using these fields. For now, they can be left in place as we explore other areas of the dataset."
   ]
  },
  {
   "cell_type": "code",
   "execution_count": 36,
   "id": "56adb289",
   "metadata": {},
   "outputs": [
    {
     "name": "stdout",
     "output_type": "stream",
     "text": [
      "<class 'pandas.core.frame.DataFrame'>\n",
      "Index: 48565 entries, 0 to 49999\n",
      "Data columns (total 17 columns):\n",
      " #   Column              Non-Null Count  Dtype \n",
      "---  ------              --------------  ----- \n",
      " 0   date_crawled        48565 non-null  object\n",
      " 1   name                48565 non-null  object\n",
      " 2   price_usd           48565 non-null  int64 \n",
      " 3   ab_test             48565 non-null  object\n",
      " 4   vehicle_type        48565 non-null  object\n",
      " 5   registration_year   48565 non-null  int64 \n",
      " 6   gearbox             48565 non-null  object\n",
      " 7   power_ps            48565 non-null  int64 \n",
      " 8   model               48565 non-null  object\n",
      " 9   odometer_km         48565 non-null  int64 \n",
      " 10  registration_month  48565 non-null  int64 \n",
      " 11  fuel_type           48565 non-null  object\n",
      " 12  brand               48565 non-null  object\n",
      " 13  unrepaired_damage   48565 non-null  object\n",
      " 14  ad_created          48565 non-null  object\n",
      " 15  postal_code         48565 non-null  int64 \n",
      " 16  last_seen           48565 non-null  object\n",
      "dtypes: int64(6), object(11)\n",
      "memory usage: 6.7+ MB\n"
     ]
    }
   ],
   "source": [
    "autos.loc[autos[\"vehicle_type\"].isnull(), \"vehicle_type\"] = \"not_specified\"\n",
    "autos.loc[autos[\"gearbox\"].isnull(), \"gearbox\"] = \"not_specified\"\n",
    "autos.loc[autos[\"fuel_type\"].isnull(), \"fuel_type\"] = \"not_specified\"\n",
    "\n",
    "autos.info()"
   ]
  },
  {
   "cell_type": "markdown",
   "id": "071fed13",
   "metadata": {},
   "source": [
    "Filling these null values has put the dataset into a state where there are no remaining null values. \n",
    "\n",
    "Cleaning is not yet complete since there are still unrealistic values within some fields that have not been investigated (such as the extreme values in the `registration_year` and `power_ps` columns highlighted in the section above). These will be addressed in due course as we explore the dataset further."
   ]
  },
  {
   "cell_type": "markdown",
   "id": "6314dd83",
   "metadata": {},
   "source": [
    "## Exploring the Date Columns"
   ]
  },
  {
   "cell_type": "markdown",
   "id": "da6c515f",
   "metadata": {},
   "source": [
    "**There are a handful of columns with date information, two are meta-data from the crawler and the other three are dates and times that were part of each listing:**\n",
    "\n",
    "* `date_crawled` - the date and time when the web crawler recorded the listing into the dataset.\n",
    "* `last_seen` - the date and time when the web crawler last saw the listing on eBay.\n",
    "---\n",
    "* `ad_created` - the date and time when the listing was posted as recorded by eBay.\n",
    "* `registration_month` - the month when the vehicle was first registered for the road, recorded on the eBay listing.\n",
    "* `registration_year` - the year when the vehicle was first registered for the road, recorded on the eBay listing."
   ]
  },
  {
   "cell_type": "markdown",
   "id": "6717238f",
   "metadata": {},
   "source": [
    "The `date_crawled`, `last_seen` and `ad_created` columns are all defined as objects in the pandas df. These will need to be converted to numeric to understand them quantitatively."
   ]
  },
  {
   "cell_type": "code",
   "execution_count": 37,
   "id": "aa9cdf6c",
   "metadata": {},
   "outputs": [
    {
     "data": {
      "text/html": [
       "<div>\n",
       "<style scoped>\n",
       "    .dataframe tbody tr th:only-of-type {\n",
       "        vertical-align: middle;\n",
       "    }\n",
       "\n",
       "    .dataframe tbody tr th {\n",
       "        vertical-align: top;\n",
       "    }\n",
       "\n",
       "    .dataframe thead th {\n",
       "        text-align: right;\n",
       "    }\n",
       "</style>\n",
       "<table border=\"1\" class=\"dataframe\">\n",
       "  <thead>\n",
       "    <tr style=\"text-align: right;\">\n",
       "      <th></th>\n",
       "      <th>date_crawled</th>\n",
       "      <th>last_seen</th>\n",
       "      <th>ad_created</th>\n",
       "    </tr>\n",
       "  </thead>\n",
       "  <tbody>\n",
       "    <tr>\n",
       "      <th>0</th>\n",
       "      <td>2016-03-26 17:47:46</td>\n",
       "      <td>2016-04-06 06:45:54</td>\n",
       "      <td>2016-03-26 00:00:00</td>\n",
       "    </tr>\n",
       "    <tr>\n",
       "      <th>1</th>\n",
       "      <td>2016-04-04 13:38:56</td>\n",
       "      <td>2016-04-06 14:45:08</td>\n",
       "      <td>2016-04-04 00:00:00</td>\n",
       "    </tr>\n",
       "    <tr>\n",
       "      <th>2</th>\n",
       "      <td>2016-03-26 18:57:24</td>\n",
       "      <td>2016-04-06 20:15:37</td>\n",
       "      <td>2016-03-26 00:00:00</td>\n",
       "    </tr>\n",
       "    <tr>\n",
       "      <th>3</th>\n",
       "      <td>2016-03-12 16:58:10</td>\n",
       "      <td>2016-03-15 03:16:28</td>\n",
       "      <td>2016-03-12 00:00:00</td>\n",
       "    </tr>\n",
       "    <tr>\n",
       "      <th>4</th>\n",
       "      <td>2016-04-01 14:38:50</td>\n",
       "      <td>2016-04-01 14:38:50</td>\n",
       "      <td>2016-04-01 00:00:00</td>\n",
       "    </tr>\n",
       "  </tbody>\n",
       "</table>\n",
       "</div>"
      ],
      "text/plain": [
       "          date_crawled            last_seen           ad_created\n",
       "0  2016-03-26 17:47:46  2016-04-06 06:45:54  2016-03-26 00:00:00\n",
       "1  2016-04-04 13:38:56  2016-04-06 14:45:08  2016-04-04 00:00:00\n",
       "2  2016-03-26 18:57:24  2016-04-06 20:15:37  2016-03-26 00:00:00\n",
       "3  2016-03-12 16:58:10  2016-03-15 03:16:28  2016-03-12 00:00:00\n",
       "4  2016-04-01 14:38:50  2016-04-01 14:38:50  2016-04-01 00:00:00"
      ]
     },
     "execution_count": 37,
     "metadata": {},
     "output_type": "execute_result"
    }
   ],
   "source": [
    "autos[[\"date_crawled\", \"last_seen\", \"ad_created\"]][:5]"
   ]
  },
  {
   "cell_type": "markdown",
   "id": "9aee7dd3",
   "metadata": {},
   "source": [
    "The first ten characters for each field represent the date. We can extract just the date values and use the `.value_counts()` method to generate a distribution."
   ]
  },
  {
   "cell_type": "markdown",
   "id": "eb5a5216",
   "metadata": {},
   "source": [
    "### `date_crawled` Column"
   ]
  },
  {
   "cell_type": "code",
   "execution_count": 38,
   "id": "c5d58083",
   "metadata": {},
   "outputs": [
    {
     "data": {
      "text/plain": [
       "date_crawled\n",
       "2016-03-05    0.025327\n",
       "2016-03-06    0.014043\n",
       "2016-03-07    0.036014\n",
       "2016-03-08    0.033296\n",
       "2016-03-09    0.033090\n",
       "2016-03-10    0.032184\n",
       "2016-03-11    0.032575\n",
       "2016-03-12    0.036920\n",
       "2016-03-13    0.015670\n",
       "2016-03-14    0.036549\n",
       "2016-03-15    0.034284\n",
       "2016-03-16    0.029610\n",
       "2016-03-17    0.031628\n",
       "2016-03-18    0.012911\n",
       "2016-03-19    0.034778\n",
       "2016-03-20    0.037887\n",
       "2016-03-21    0.037373\n",
       "2016-03-22    0.032987\n",
       "2016-03-23    0.032225\n",
       "2016-03-24    0.029342\n",
       "2016-03-25    0.031607\n",
       "2016-03-26    0.032204\n",
       "2016-03-27    0.031092\n",
       "2016-03-28    0.034860\n",
       "2016-03-29    0.034099\n",
       "2016-03-30    0.033687\n",
       "2016-03-31    0.031834\n",
       "2016-04-01    0.033687\n",
       "2016-04-02    0.035478\n",
       "2016-04-03    0.038608\n",
       "2016-04-04    0.036487\n",
       "2016-04-05    0.013096\n",
       "2016-04-06    0.003171\n",
       "2016-04-07    0.001400\n",
       "Name: proportion, dtype: float64"
      ]
     },
     "execution_count": 38,
     "metadata": {},
     "output_type": "execute_result"
    }
   ],
   "source": [
    "(autos[\"date_crawled\"]\n",
    " .str[:10]\n",
    " .value_counts(normalize=True, dropna=False)\n",
    " .sort_index(ascending=True)\n",
    " )"
   ]
  },
  {
   "cell_type": "code",
   "execution_count": 39,
   "id": "1713bc92",
   "metadata": {},
   "outputs": [
    {
     "data": {
      "text/plain": [
       "date_crawled\n",
       "2016-04-07    0.001400\n",
       "2016-04-06    0.003171\n",
       "2016-03-18    0.012911\n",
       "2016-04-05    0.013096\n",
       "2016-03-06    0.014043\n",
       "2016-03-13    0.015670\n",
       "2016-03-05    0.025327\n",
       "2016-03-24    0.029342\n",
       "2016-03-16    0.029610\n",
       "2016-03-27    0.031092\n",
       "2016-03-25    0.031607\n",
       "2016-03-17    0.031628\n",
       "2016-03-31    0.031834\n",
       "2016-03-10    0.032184\n",
       "2016-03-26    0.032204\n",
       "2016-03-23    0.032225\n",
       "2016-03-11    0.032575\n",
       "2016-03-22    0.032987\n",
       "2016-03-09    0.033090\n",
       "2016-03-08    0.033296\n",
       "2016-04-01    0.033687\n",
       "2016-03-30    0.033687\n",
       "2016-03-29    0.034099\n",
       "2016-03-15    0.034284\n",
       "2016-03-19    0.034778\n",
       "2016-03-28    0.034860\n",
       "2016-04-02    0.035478\n",
       "2016-03-07    0.036014\n",
       "2016-04-04    0.036487\n",
       "2016-03-14    0.036549\n",
       "2016-03-12    0.036920\n",
       "2016-03-21    0.037373\n",
       "2016-03-20    0.037887\n",
       "2016-04-03    0.038608\n",
       "Name: proportion, dtype: float64"
      ]
     },
     "execution_count": 39,
     "metadata": {},
     "output_type": "execute_result"
    }
   ],
   "source": [
    "(autos[\"date_crawled\"]\n",
    " .str[:10]\n",
    " .value_counts(normalize=True, dropna=False)\n",
    " .sort_values(ascending=True)\n",
    " )"
   ]
  },
  {
   "cell_type": "markdown",
   "id": "2c8d85d6",
   "metadata": {},
   "source": [
    "We see the listings were crawled over a period of around one month (5th March - 7th April 2016). The proprotion of listings crawled each day remains fairly consistent: **around 3% of the total listings were recorded each day**. The distribution is uniform. \n",
    "\n",
    "We do note an **apparent drop in listings recorded on the final three days** (down to around 1% on the 5th and then less than 0.5% on the 6th and 7th of April). This is **likely due to the crawling period ending** (presumably the crawler was instructed to scrape the site for a month) rather than a decline in the number of new listings being posted to the site."
   ]
  },
  {
   "cell_type": "markdown",
   "id": "1e83f253",
   "metadata": {},
   "source": [
    "### `last_seen` Column"
   ]
  },
  {
   "cell_type": "code",
   "execution_count": 40,
   "id": "2b68eee2",
   "metadata": {},
   "outputs": [
    {
     "data": {
      "text/plain": [
       "last_seen\n",
       "2016-03-05    0.001071\n",
       "2016-03-06    0.004324\n",
       "2016-03-07    0.005395\n",
       "2016-03-08    0.007413\n",
       "2016-03-09    0.009595\n",
       "2016-03-10    0.010666\n",
       "2016-03-11    0.012375\n",
       "2016-03-12    0.023783\n",
       "2016-03-13    0.008895\n",
       "2016-03-14    0.012602\n",
       "2016-03-15    0.015876\n",
       "2016-03-16    0.016452\n",
       "2016-03-17    0.028086\n",
       "2016-03-18    0.007351\n",
       "2016-03-19    0.015834\n",
       "2016-03-20    0.020653\n",
       "2016-03-21    0.020632\n",
       "2016-03-22    0.021373\n",
       "2016-03-23    0.018532\n",
       "2016-03-24    0.019767\n",
       "2016-03-25    0.019211\n",
       "2016-03-26    0.016802\n",
       "2016-03-27    0.015649\n",
       "2016-03-28    0.020859\n",
       "2016-03-29    0.022341\n",
       "2016-03-30    0.024771\n",
       "2016-03-31    0.023783\n",
       "2016-04-01    0.022794\n",
       "2016-04-02    0.024915\n",
       "2016-04-03    0.025203\n",
       "2016-04-04    0.024483\n",
       "2016-04-05    0.124761\n",
       "2016-04-06    0.221806\n",
       "2016-04-07    0.131947\n",
       "Name: proportion, dtype: float64"
      ]
     },
     "execution_count": 40,
     "metadata": {},
     "output_type": "execute_result"
    }
   ],
   "source": [
    "(autos[\"last_seen\"]\n",
    " .str[:10]\n",
    " .value_counts(normalize=True, dropna=False)\n",
    " .sort_index(ascending=True)\n",
    " )"
   ]
  },
  {
   "cell_type": "markdown",
   "id": "75167923",
   "metadata": {},
   "source": [
    "The crawler recorded the last date it saw any of the listings in the dataset, which acts as a proxy to determine the day at which a vehicle listing was removed from the site (presumably because it was sold).\n",
    "\n",
    "Similar to the trend in the `date_crawled` column, we see a disproportionate amount of \"last seen\" values on the final three listed days. Again, this is likely due to the crawling period ending since the values are abnormally high (between 6-10x the values for the previous days) rather than an indicator of a huge sales spike."
   ]
  },
  {
   "cell_type": "markdown",
   "id": "4d03640e",
   "metadata": {},
   "source": [
    "### `ad_created` Column"
   ]
  },
  {
   "cell_type": "code",
   "execution_count": 41,
   "id": "12470275",
   "metadata": {},
   "outputs": [
    {
     "data": {
      "text/plain": [
       "ad_created\n",
       "2015-06-11    0.000021\n",
       "2015-08-10    0.000021\n",
       "2015-09-09    0.000021\n",
       "2015-11-10    0.000021\n",
       "2015-12-05    0.000021\n",
       "2015-12-30    0.000021\n",
       "2016-01-03    0.000021\n",
       "2016-01-07    0.000021\n",
       "2016-01-10    0.000041\n",
       "2016-01-13    0.000021\n",
       "2016-01-14    0.000021\n",
       "2016-01-16    0.000021\n",
       "2016-01-22    0.000021\n",
       "2016-01-27    0.000062\n",
       "2016-01-29    0.000021\n",
       "2016-02-01    0.000021\n",
       "2016-02-02    0.000041\n",
       "2016-02-05    0.000041\n",
       "2016-02-07    0.000021\n",
       "2016-02-08    0.000021\n",
       "Name: proportion, dtype: float64"
      ]
     },
     "execution_count": 41,
     "metadata": {},
     "output_type": "execute_result"
    }
   ],
   "source": [
    "(autos[\"ad_created\"]\n",
    " .str[:10]\n",
    " .value_counts(normalize=True, dropna=False)\n",
    " .sort_index(ascending=True)\n",
    " .head(20)\n",
    " )"
   ]
  },
  {
   "cell_type": "code",
   "execution_count": 42,
   "id": "4b03fd21",
   "metadata": {},
   "outputs": [
    {
     "data": {
      "text/plain": [
       "ad_created\n",
       "2016-03-09    0.033151\n",
       "2016-03-10    0.031895\n",
       "2016-03-11    0.032904\n",
       "2016-03-12    0.036755\n",
       "2016-03-13    0.017008\n",
       "2016-03-14    0.035190\n",
       "2016-03-15    0.034016\n",
       "2016-03-16    0.030125\n",
       "2016-03-17    0.031278\n",
       "2016-03-18    0.013590\n",
       "2016-03-19    0.033687\n",
       "2016-03-20    0.037949\n",
       "2016-03-21    0.037579\n",
       "2016-03-22    0.032801\n",
       "2016-03-23    0.032060\n",
       "2016-03-24    0.029280\n",
       "2016-03-25    0.031751\n",
       "2016-03-26    0.032266\n",
       "2016-03-27    0.030989\n",
       "2016-03-28    0.034984\n",
       "2016-03-29    0.034037\n",
       "2016-03-30    0.033501\n",
       "2016-03-31    0.031875\n",
       "2016-04-01    0.033687\n",
       "2016-04-02    0.035149\n",
       "2016-04-03    0.038855\n",
       "2016-04-04    0.036858\n",
       "2016-04-05    0.011819\n",
       "2016-04-06    0.003253\n",
       "2016-04-07    0.001256\n",
       "Name: proportion, dtype: float64"
      ]
     },
     "execution_count": 42,
     "metadata": {},
     "output_type": "execute_result"
    }
   ],
   "source": [
    "(autos[\"ad_created\"]\n",
    " .str[:10]\n",
    " .value_counts(normalize=True, dropna=False)\n",
    " .sort_index(ascending=True)\n",
    " .tail(30)\n",
    " )"
   ]
  },
  {
   "cell_type": "code",
   "execution_count": 43,
   "id": "0d54c3e0",
   "metadata": {},
   "outputs": [
    {
     "data": {
      "text/plain": [
       "(76,)"
      ]
     },
     "execution_count": 43,
     "metadata": {},
     "output_type": "execute_result"
    }
   ],
   "source": [
    "(autos[\"ad_created\"]\n",
    " .str[:10]\n",
    " .value_counts(normalize=True, dropna=False)\n",
    " .shape\n",
    " )"
   ]
  },
  {
   "cell_type": "markdown",
   "id": "a5532553",
   "metadata": {},
   "source": [
    "There are 76 distinct \"ad created\" dates in the dataset, with most falling within 1-2 months of the crawling period. There are some older listings featured in the dataset, with the oldest (11th June 2015) being around 9 months outside of the crawling period.\n",
    "\n",
    "Looking at the oldest listing in the dataset, we see the vehicle on offer is a Mercedes Benz C220, with a listed price of $47,900 USD. This is clearly not a budget option, which may explain why the vehicle has not been sold after 9 months of being featured on the site."
   ]
  },
  {
   "cell_type": "code",
   "execution_count": 44,
   "id": "b60867c7",
   "metadata": {},
   "outputs": [
    {
     "data": {
      "text/html": [
       "<div>\n",
       "<style scoped>\n",
       "    .dataframe tbody tr th:only-of-type {\n",
       "        vertical-align: middle;\n",
       "    }\n",
       "\n",
       "    .dataframe tbody tr th {\n",
       "        vertical-align: top;\n",
       "    }\n",
       "\n",
       "    .dataframe thead th {\n",
       "        text-align: right;\n",
       "    }\n",
       "</style>\n",
       "<table border=\"1\" class=\"dataframe\">\n",
       "  <thead>\n",
       "    <tr style=\"text-align: right;\">\n",
       "      <th></th>\n",
       "      <th>date_crawled</th>\n",
       "      <th>name</th>\n",
       "      <th>price_usd</th>\n",
       "      <th>ab_test</th>\n",
       "      <th>vehicle_type</th>\n",
       "      <th>registration_year</th>\n",
       "      <th>gearbox</th>\n",
       "      <th>power_ps</th>\n",
       "      <th>model</th>\n",
       "      <th>odometer_km</th>\n",
       "      <th>registration_month</th>\n",
       "      <th>fuel_type</th>\n",
       "      <th>brand</th>\n",
       "      <th>unrepaired_damage</th>\n",
       "      <th>ad_created</th>\n",
       "      <th>postal_code</th>\n",
       "      <th>last_seen</th>\n",
       "    </tr>\n",
       "  </thead>\n",
       "  <tbody>\n",
       "    <tr>\n",
       "      <th>22781</th>\n",
       "      <td>2016-03-23 01:48:59</td>\n",
       "      <td>Mercedes_Benz_C220_BT__7G_Tronic_AMG__Modellja...</td>\n",
       "      <td>47900</td>\n",
       "      <td>test</td>\n",
       "      <td>limousine</td>\n",
       "      <td>2014</td>\n",
       "      <td>automatik</td>\n",
       "      <td>0</td>\n",
       "      <td>c_klasse</td>\n",
       "      <td>20000</td>\n",
       "      <td>2</td>\n",
       "      <td>diesel</td>\n",
       "      <td>mercedes_benz</td>\n",
       "      <td>not_specified</td>\n",
       "      <td>2015-06-11 00:00:00</td>\n",
       "      <td>46145</td>\n",
       "      <td>2016-04-06 09:47:02</td>\n",
       "    </tr>\n",
       "  </tbody>\n",
       "</table>\n",
       "</div>"
      ],
      "text/plain": [
       "              date_crawled                                               name  \\\n",
       "22781  2016-03-23 01:48:59  Mercedes_Benz_C220_BT__7G_Tronic_AMG__Modellja...   \n",
       "\n",
       "       price_usd ab_test vehicle_type  registration_year    gearbox  power_ps  \\\n",
       "22781      47900    test    limousine               2014  automatik         0   \n",
       "\n",
       "          model  odometer_km  registration_month fuel_type          brand  \\\n",
       "22781  c_klasse        20000                   2    diesel  mercedes_benz   \n",
       "\n",
       "      unrepaired_damage           ad_created  postal_code            last_seen  \n",
       "22781     not_specified  2015-06-11 00:00:00        46145  2016-04-06 09:47:02  "
      ]
     },
     "execution_count": 44,
     "metadata": {},
     "output_type": "execute_result"
    }
   ],
   "source": [
    "autos[autos[\"ad_created\"].str[:10] == \"2015-06-11\"]"
   ]
  },
  {
   "cell_type": "markdown",
   "id": "afa5e067",
   "metadata": {},
   "source": [
    "### `registration_year` Column"
   ]
  },
  {
   "cell_type": "code",
   "execution_count": 45,
   "id": "c74537eb",
   "metadata": {},
   "outputs": [
    {
     "data": {
      "text/plain": [
       "count    48565.000000\n",
       "mean      2004.755421\n",
       "std         88.643887\n",
       "min       1000.000000\n",
       "25%       1999.000000\n",
       "50%       2004.000000\n",
       "75%       2008.000000\n",
       "max       9999.000000\n",
       "Name: registration_year, dtype: float64"
      ]
     },
     "execution_count": 45,
     "metadata": {},
     "output_type": "execute_result"
    }
   ],
   "source": [
    "autos[\"registration_year\"].describe()"
   ]
  },
  {
   "cell_type": "markdown",
   "id": "90fdc58c",
   "metadata": {},
   "source": [
    "The year a vehicle was first registered will likely indicate the age of the car. \n",
    "\n",
    "As mentioned previously, we have highly abnormal extrema values (`1000` and `9999`) which will need handling before drawing conclusions from our initial descriptive analysis."
   ]
  },
  {
   "cell_type": "markdown",
   "id": "f02d7052",
   "metadata": {},
   "source": [
    "## Handling Inaccurate Registration Year Data"
   ]
  },
  {
   "cell_type": "markdown",
   "id": "04bb9b14",
   "metadata": {},
   "source": [
    "Vehicles that have registration years greater than 2016 are certainly inaccurate as all records from the dataset were collected in the first few months of 2016. \n",
    "\n",
    "Determining the earliest valid registration year is more difficult. Realistically, a vehicle could have been first registered as far back as the first few decades of the 1900s, so we can use 1900 as a conservative lower bound for the earliest valid registration year.\n",
    "\n",
    "To begin, we can identify records with registration years outside of the range 1900-2016 and drop these rows."
   ]
  },
  {
   "cell_type": "code",
   "execution_count": 46,
   "id": "57795ade",
   "metadata": {},
   "outputs": [
    {
     "data": {
      "text/plain": [
       "registration_year\n",
       "2017    1392\n",
       "2018     470\n",
       "2019       2\n",
       "2800       1\n",
       "4100       1\n",
       "4500       1\n",
       "4800       1\n",
       "5000       4\n",
       "5911       1\n",
       "6200       1\n",
       "8888       1\n",
       "9000       1\n",
       "9999       3\n",
       "Name: count, dtype: int64"
      ]
     },
     "execution_count": 46,
     "metadata": {},
     "output_type": "execute_result"
    }
   ],
   "source": [
    "autos[\"registration_year\"].value_counts().sort_index(ascending=True).tail(13) # returns all unique registration year values in the dataset that exceed the upper limit for valid year"
   ]
  },
  {
   "cell_type": "code",
   "execution_count": 47,
   "id": "68a18e9d",
   "metadata": {},
   "outputs": [
    {
     "data": {
      "text/plain": [
       "np.float64(0.03869041490785545)"
      ]
     },
     "execution_count": 47,
     "metadata": {},
     "output_type": "execute_result"
    }
   ],
   "source": [
    "(~autos[\"registration_year\"].between(1000, 2016)).sum() / autos.shape[0] # returns the proportion of all data points that are above the upper limit for valid registration year"
   ]
  },
  {
   "cell_type": "markdown",
   "id": "e79af013",
   "metadata": {},
   "source": [
    "There are 13 unique registration year values above the upper bound for valid registration years. This corresponds to ~3.9% of all data in the dataset."
   ]
  },
  {
   "cell_type": "code",
   "execution_count": 48,
   "id": "a7a87c13",
   "metadata": {},
   "outputs": [
    {
     "data": {
      "text/plain": [
       "registration_year\n",
       "1910    5\n",
       "1800    2\n",
       "1111    1\n",
       "1001    1\n",
       "1000    1\n",
       "Name: count, dtype: int64"
      ]
     },
     "execution_count": 48,
     "metadata": {},
     "output_type": "execute_result"
    }
   ],
   "source": [
    "autos[\"registration_year\"].value_counts().sort_index(ascending=False).tail()"
   ]
  },
  {
   "cell_type": "markdown",
   "id": "6f2acb8d",
   "metadata": {},
   "source": [
    "Repeating this for the lower limit, there are five total records with registration years falling below 1900. \n",
    "\n",
    "Since the combined percentage of invalid values in this column is **less than 4%**, we can safely **drop these rows** without affecting our sample size too significantly:"
   ]
  },
  {
   "cell_type": "code",
   "execution_count": 49,
   "id": "ad00e52a",
   "metadata": {},
   "outputs": [],
   "source": [
    "autos = autos[autos[\"registration_year\"].between(1900, 2016)]"
   ]
  },
  {
   "cell_type": "code",
   "execution_count": 50,
   "id": "55f432b0",
   "metadata": {},
   "outputs": [
    {
     "data": {
      "text/plain": [
       "registration_year\n",
       "1910       5\n",
       "1927       1\n",
       "1929       1\n",
       "1931       1\n",
       "1934       2\n",
       "        ... \n",
       "2012    1310\n",
       "2013     803\n",
       "2014     663\n",
       "2015     392\n",
       "2016    1220\n",
       "Name: count, Length: 78, dtype: int64"
      ]
     },
     "execution_count": 50,
     "metadata": {},
     "output_type": "execute_result"
    }
   ],
   "source": [
    "autos[\"registration_year\"].value_counts().sort_index(ascending=True)"
   ]
  },
  {
   "cell_type": "markdown",
   "id": "20d1c42d",
   "metadata": {},
   "source": [
    "The earliest registration year that falls within the 1900-2016 year range is 1910 with five records containing this value.\n",
    "\n",
    "We can retrieve these records to check whether the year is accurate:"
   ]
  },
  {
   "cell_type": "code",
   "execution_count": 51,
   "id": "6dc930fc",
   "metadata": {},
   "outputs": [
    {
     "data": {
      "text/plain": [
       "3679                           Suche_Auto\n",
       "22659                        Opel_Corsa_B\n",
       "28693                      Renault_Twingo\n",
       "30781    Opel_Calibra_V6_DTM_Bausatz_1:24\n",
       "45157                          Motorhaube\n",
       "Name: name, dtype: object"
      ]
     },
     "execution_count": 51,
     "metadata": {},
     "output_type": "execute_result"
    }
   ],
   "source": [
    "autos[autos[\"registration_year\"] == 1910][\"name\"]"
   ]
  },
  {
   "cell_type": "code",
   "execution_count": 52,
   "id": "bf60eefb",
   "metadata": {},
   "outputs": [
    {
     "data": {
      "text/html": [
       "<div>\n",
       "<style scoped>\n",
       "    .dataframe tbody tr th:only-of-type {\n",
       "        vertical-align: middle;\n",
       "    }\n",
       "\n",
       "    .dataframe tbody tr th {\n",
       "        vertical-align: top;\n",
       "    }\n",
       "\n",
       "    .dataframe thead th {\n",
       "        text-align: right;\n",
       "    }\n",
       "</style>\n",
       "<table border=\"1\" class=\"dataframe\">\n",
       "  <thead>\n",
       "    <tr style=\"text-align: right;\">\n",
       "      <th></th>\n",
       "      <th>date_crawled</th>\n",
       "      <th>name</th>\n",
       "      <th>price_usd</th>\n",
       "      <th>ab_test</th>\n",
       "      <th>vehicle_type</th>\n",
       "      <th>registration_year</th>\n",
       "      <th>gearbox</th>\n",
       "      <th>power_ps</th>\n",
       "      <th>model</th>\n",
       "      <th>odometer_km</th>\n",
       "      <th>registration_month</th>\n",
       "      <th>fuel_type</th>\n",
       "      <th>brand</th>\n",
       "      <th>unrepaired_damage</th>\n",
       "      <th>ad_created</th>\n",
       "      <th>postal_code</th>\n",
       "      <th>last_seen</th>\n",
       "    </tr>\n",
       "  </thead>\n",
       "  <tbody>\n",
       "    <tr>\n",
       "      <th>3679</th>\n",
       "      <td>2016-04-04 00:36:17</td>\n",
       "      <td>Suche_Auto</td>\n",
       "      <td>1</td>\n",
       "      <td>test</td>\n",
       "      <td>not_specified</td>\n",
       "      <td>1910</td>\n",
       "      <td>not_specified</td>\n",
       "      <td>0</td>\n",
       "      <td>not_specified</td>\n",
       "      <td>5000</td>\n",
       "      <td>0</td>\n",
       "      <td>not_specified</td>\n",
       "      <td>sonstige_autos</td>\n",
       "      <td>not_specified</td>\n",
       "      <td>2016-04-04 00:00:00</td>\n",
       "      <td>40239</td>\n",
       "      <td>2016-04-04 07:49:15</td>\n",
       "    </tr>\n",
       "    <tr>\n",
       "      <th>45157</th>\n",
       "      <td>2016-03-11 22:37:01</td>\n",
       "      <td>Motorhaube</td>\n",
       "      <td>15</td>\n",
       "      <td>control</td>\n",
       "      <td>not_specified</td>\n",
       "      <td>1910</td>\n",
       "      <td>not_specified</td>\n",
       "      <td>0</td>\n",
       "      <td>not_specified</td>\n",
       "      <td>5000</td>\n",
       "      <td>0</td>\n",
       "      <td>not_specified</td>\n",
       "      <td>trabant</td>\n",
       "      <td>not_specified</td>\n",
       "      <td>2016-03-11 00:00:00</td>\n",
       "      <td>90491</td>\n",
       "      <td>2016-03-25 11:18:57</td>\n",
       "    </tr>\n",
       "  </tbody>\n",
       "</table>\n",
       "</div>"
      ],
      "text/plain": [
       "              date_crawled        name  price_usd  ab_test   vehicle_type  \\\n",
       "3679   2016-04-04 00:36:17  Suche_Auto          1     test  not_specified   \n",
       "45157  2016-03-11 22:37:01  Motorhaube         15  control  not_specified   \n",
       "\n",
       "       registration_year        gearbox  power_ps          model  odometer_km  \\\n",
       "3679                1910  not_specified         0  not_specified         5000   \n",
       "45157               1910  not_specified         0  not_specified         5000   \n",
       "\n",
       "       registration_month      fuel_type           brand unrepaired_damage  \\\n",
       "3679                    0  not_specified  sonstige_autos     not_specified   \n",
       "45157                   0  not_specified         trabant     not_specified   \n",
       "\n",
       "                ad_created  postal_code            last_seen  \n",
       "3679   2016-04-04 00:00:00        40239  2016-04-04 07:49:15  \n",
       "45157  2016-03-11 00:00:00        90491  2016-03-25 11:18:57  "
      ]
     },
     "execution_count": 52,
     "metadata": {},
     "output_type": "execute_result"
    }
   ],
   "source": [
    "autos[(autos[\"registration_year\"] == 1910) & ((autos[\"name\"] == \"Suche_Auto\") | (autos[\"name\"] == \"Motorhaube\"))]"
   ]
  },
  {
   "cell_type": "markdown",
   "id": "093d28c8",
   "metadata": {},
   "source": [
    "* From these listings names, the three vehicles with row indexes `22659`, `28693` and `30781` are far more modern than 1910.\n",
    "\n",
    "* The \"Suche_Auto\" listing is not a listing for an actual vehicle, instead an expression of interest in aquiring a car. It is unclear why the registration year was filled as 1910 by the poster in this case.\n",
    "\n",
    "* The \"Motorhaube\" listing is similar to the \"Suche_Auto\" listing - it seems to be someone expressing a desire to purchase a car. In this case, the desired car brand is listed as a \"trabant\" which is a much older car brand, though these were manufacturered in 1957 at the earliest. \n",
    "\n",
    "**Therefore, all of these registration years are inaccurate too.** We can drop these rows from the dataset as well:"
   ]
  },
  {
   "cell_type": "code",
   "execution_count": 53,
   "id": "a87ab67b",
   "metadata": {},
   "outputs": [],
   "source": [
    "autos = autos[autos[\"registration_year\"].between(1911, 2016)]"
   ]
  },
  {
   "cell_type": "code",
   "execution_count": 54,
   "id": "f80cde93",
   "metadata": {},
   "outputs": [
    {
     "data": {
      "text/plain": [
       "registration_year\n",
       "1927    1\n",
       "1929    1\n",
       "1931    1\n",
       "1934    2\n",
       "1937    4\n",
       "1938    1\n",
       "1939    1\n",
       "1941    2\n",
       "1943    1\n",
       "1948    1\n",
       "Name: count, dtype: int64"
      ]
     },
     "execution_count": 54,
     "metadata": {},
     "output_type": "execute_result"
    }
   ],
   "source": [
    "autos[\"registration_year\"].value_counts().sort_index(ascending=True).head(10)"
   ]
  },
  {
   "cell_type": "code",
   "execution_count": 55,
   "id": "ec93398a",
   "metadata": {},
   "outputs": [
    {
     "data": {
      "text/html": [
       "<div>\n",
       "<style scoped>\n",
       "    .dataframe tbody tr th:only-of-type {\n",
       "        vertical-align: middle;\n",
       "    }\n",
       "\n",
       "    .dataframe tbody tr th {\n",
       "        vertical-align: top;\n",
       "    }\n",
       "\n",
       "    .dataframe thead th {\n",
       "        text-align: right;\n",
       "    }\n",
       "</style>\n",
       "<table border=\"1\" class=\"dataframe\">\n",
       "  <thead>\n",
       "    <tr style=\"text-align: right;\">\n",
       "      <th></th>\n",
       "      <th>registration_year</th>\n",
       "      <th>name</th>\n",
       "    </tr>\n",
       "  </thead>\n",
       "  <tbody>\n",
       "    <tr>\n",
       "      <th>2221</th>\n",
       "      <td>1934</td>\n",
       "      <td>Sehr_seltener_Oldtimer_Opel_1210_zum_Restaurieren</td>\n",
       "    </tr>\n",
       "    <tr>\n",
       "      <th>2573</th>\n",
       "      <td>1934</td>\n",
       "      <td>Hanomag_rekord_15k_Suche_ersatz_teile</td>\n",
       "    </tr>\n",
       "    <tr>\n",
       "      <th>11047</th>\n",
       "      <td>1948</td>\n",
       "      <td>Andere_Simca_5_Fourgonette_Kombilimousine</td>\n",
       "    </tr>\n",
       "    <tr>\n",
       "      <th>11246</th>\n",
       "      <td>1931</td>\n",
       "      <td>Ford_Model_A_Roadster_Deluxe_1931</td>\n",
       "    </tr>\n",
       "    <tr>\n",
       "      <th>11585</th>\n",
       "      <td>1943</td>\n",
       "      <td>Volkswagen__VW_Typ_82</td>\n",
       "    </tr>\n",
       "    <tr>\n",
       "      <th>13963</th>\n",
       "      <td>1941</td>\n",
       "      <td>Mercedes_Benz_L1500S_Wehrmacht_/_Luftwaffe___F...</td>\n",
       "    </tr>\n",
       "    <tr>\n",
       "      <th>21416</th>\n",
       "      <td>1927</td>\n",
       "      <td>Essex_super_six__Ford_A</td>\n",
       "    </tr>\n",
       "    <tr>\n",
       "      <th>21421</th>\n",
       "      <td>1937</td>\n",
       "      <td>Ford_Business_Coupe_Hotrod_Projekt.1937</td>\n",
       "    </tr>\n",
       "    <tr>\n",
       "      <th>22101</th>\n",
       "      <td>1929</td>\n",
       "      <td>BMW_Andere</td>\n",
       "    </tr>\n",
       "    <tr>\n",
       "      <th>23804</th>\n",
       "      <td>1937</td>\n",
       "      <td>Mercedes_Benz_170V</td>\n",
       "    </tr>\n",
       "    <tr>\n",
       "      <th>24855</th>\n",
       "      <td>1939</td>\n",
       "      <td>Andere_DKW_F8_Cabrio_Limosine</td>\n",
       "    </tr>\n",
       "    <tr>\n",
       "      <th>25792</th>\n",
       "      <td>1941</td>\n",
       "      <td>Andere_GAZ_Oldtimergelaendewagen_1941</td>\n",
       "    </tr>\n",
       "    <tr>\n",
       "      <th>26103</th>\n",
       "      <td>1938</td>\n",
       "      <td>Oldtimer_Sport___Cabrio_Georges_Irat</td>\n",
       "    </tr>\n",
       "    <tr>\n",
       "      <th>26607</th>\n",
       "      <td>1937</td>\n",
       "      <td>MG_Andere</td>\n",
       "    </tr>\n",
       "    <tr>\n",
       "      <th>39725</th>\n",
       "      <td>1937</td>\n",
       "      <td>Dodge_1937_Hotrod_Flathead_Scheunenfund_Oldtim...</td>\n",
       "    </tr>\n",
       "  </tbody>\n",
       "</table>\n",
       "</div>"
      ],
      "text/plain": [
       "       registration_year                                               name\n",
       "2221                1934  Sehr_seltener_Oldtimer_Opel_1210_zum_Restaurieren\n",
       "2573                1934              Hanomag_rekord_15k_Suche_ersatz_teile\n",
       "11047               1948          Andere_Simca_5_Fourgonette_Kombilimousine\n",
       "11246               1931                  Ford_Model_A_Roadster_Deluxe_1931\n",
       "11585               1943                              Volkswagen__VW_Typ_82\n",
       "13963               1941  Mercedes_Benz_L1500S_Wehrmacht_/_Luftwaffe___F...\n",
       "21416               1927                            Essex_super_six__Ford_A\n",
       "21421               1937            Ford_Business_Coupe_Hotrod_Projekt.1937\n",
       "22101               1929                                         BMW_Andere\n",
       "23804               1937                                 Mercedes_Benz_170V\n",
       "24855               1939                      Andere_DKW_F8_Cabrio_Limosine\n",
       "25792               1941              Andere_GAZ_Oldtimergelaendewagen_1941\n",
       "26103               1938               Oldtimer_Sport___Cabrio_Georges_Irat\n",
       "26607               1937                                          MG_Andere\n",
       "39725               1937  Dodge_1937_Hotrod_Flathead_Scheunenfund_Oldtim..."
      ]
     },
     "execution_count": 55,
     "metadata": {},
     "output_type": "execute_result"
    }
   ],
   "source": [
    "autos[autos[\"registration_year\"].between(1927, 1948)][[\"registration_year\", \"name\"]]"
   ]
  },
  {
   "cell_type": "markdown",
   "id": "6ef45453",
   "metadata": {},
   "source": [
    "Briefly reviewing the remaining earliest registration years, we see these listings are for older cars manufactured around the timeframe listed in the registration year field. Based on the name field for the listing, these registration years appear to be accurate.  "
   ]
  },
  {
   "cell_type": "markdown",
   "id": "24ebce4f",
   "metadata": {},
   "source": [
    "### Distribution of the Cleaned `registration_year` Column"
   ]
  },
  {
   "cell_type": "code",
   "execution_count": 56,
   "id": "810402af",
   "metadata": {},
   "outputs": [
    {
     "data": {
      "text/plain": [
       "registration_year\n",
       "2000    0.067615\n",
       "2005    0.062902\n",
       "1999    0.062066\n",
       "2004    0.057910\n",
       "2003    0.057824\n",
       "2006    0.057203\n",
       "2001    0.056474\n",
       "2002    0.053261\n",
       "1998    0.050626\n",
       "2007    0.048783\n",
       "Name: proportion, dtype: float64"
      ]
     },
     "execution_count": 56,
     "metadata": {},
     "output_type": "execute_result"
    }
   ],
   "source": [
    "autos[\"registration_year\"].value_counts(normalize=True).head(10)"
   ]
  },
  {
   "cell_type": "code",
   "execution_count": 57,
   "id": "995d680c",
   "metadata": {},
   "outputs": [
    {
     "data": {
      "text/plain": [
       "np.float64(0.5746636387008313)"
      ]
     },
     "execution_count": 57,
     "metadata": {},
     "output_type": "execute_result"
    }
   ],
   "source": [
    "autos[\"registration_year\"].value_counts(normalize=True).head(10).sum()"
   ]
  },
  {
   "cell_type": "markdown",
   "id": "a9de8dee",
   "metadata": {},
   "source": [
    "The majority of the vehicles in the dataset were first registered in the past 25 years. The top 10 registration years featured in the dataset fall within the range 1998-2007, comprising of 57% of all vehicle listings in the dataset."
   ]
  },
  {
   "cell_type": "code",
   "execution_count": 58,
   "id": "a6be70a4",
   "metadata": {},
   "outputs": [
    {
     "data": {
      "text/plain": [
       "count    46676.000000\n",
       "mean      2002.920709\n",
       "std          7.120843\n",
       "min       1927.000000\n",
       "25%       1999.000000\n",
       "50%       2003.000000\n",
       "75%       2008.000000\n",
       "max       2016.000000\n",
       "Name: registration_year, dtype: float64"
      ]
     },
     "execution_count": 58,
     "metadata": {},
     "output_type": "execute_result"
    }
   ],
   "source": [
    "autos[\"registration_year\"].describe()"
   ]
  },
  {
   "cell_type": "markdown",
   "id": "1b6bdabb",
   "metadata": {},
   "source": [
    "We see the mean and median of the registration year column are approximately the same, `2003`. \n",
    "\n",
    "The mean is slightly lower than the median, indicating a left skewed distribution. This makes sense in the context of the data - there are few listings with old registration years (<1970), the majority fall within the years 1998-2007."
   ]
  },
  {
   "cell_type": "markdown",
   "id": "3e7bb24c",
   "metadata": {},
   "source": [
    "### Exploring the `power_ps` Column"
   ]
  },
  {
   "cell_type": "markdown",
   "id": "d6bd8127",
   "metadata": {},
   "source": [
    "After handling the registration year column, we have dropped another chunk of records. We can further clean the dataset by addressing the extreme values in the `power_ps` (horsepower) column."
   ]
  },
  {
   "cell_type": "code",
   "execution_count": 59,
   "id": "dc89050c",
   "metadata": {},
   "outputs": [
    {
     "name": "stdout",
     "output_type": "stream",
     "text": [
      "<class 'pandas.core.frame.DataFrame'>\n",
      "Index: 46676 entries, 0 to 49999\n",
      "Data columns (total 17 columns):\n",
      " #   Column              Non-Null Count  Dtype \n",
      "---  ------              --------------  ----- \n",
      " 0   date_crawled        46676 non-null  object\n",
      " 1   name                46676 non-null  object\n",
      " 2   price_usd           46676 non-null  int64 \n",
      " 3   ab_test             46676 non-null  object\n",
      " 4   vehicle_type        46676 non-null  object\n",
      " 5   registration_year   46676 non-null  int64 \n",
      " 6   gearbox             46676 non-null  object\n",
      " 7   power_ps            46676 non-null  int64 \n",
      " 8   model               46676 non-null  object\n",
      " 9   odometer_km         46676 non-null  int64 \n",
      " 10  registration_month  46676 non-null  int64 \n",
      " 11  fuel_type           46676 non-null  object\n",
      " 12  brand               46676 non-null  object\n",
      " 13  unrepaired_damage   46676 non-null  object\n",
      " 14  ad_created          46676 non-null  object\n",
      " 15  postal_code         46676 non-null  int64 \n",
      " 16  last_seen           46676 non-null  object\n",
      "dtypes: int64(6), object(11)\n",
      "memory usage: 6.4+ MB\n"
     ]
    }
   ],
   "source": [
    "autos.info()"
   ]
  },
  {
   "cell_type": "code",
   "execution_count": 60,
   "id": "eeebffce",
   "metadata": {},
   "outputs": [
    {
     "data": {
      "text/plain": [
       "count    46676.000000\n",
       "mean       117.905562\n",
       "std        184.928789\n",
       "min          0.000000\n",
       "25%         75.000000\n",
       "50%        109.000000\n",
       "75%        150.000000\n",
       "max      17700.000000\n",
       "Name: power_ps, dtype: float64"
      ]
     },
     "execution_count": 60,
     "metadata": {},
     "output_type": "execute_result"
    }
   ],
   "source": [
    "autos[\"power_ps\"].describe()"
   ]
  },
  {
   "cell_type": "markdown",
   "id": "3e5c3b82",
   "metadata": {},
   "source": [
    "We can set upper and lower bounds for acceptable horsepower values. \n",
    "\n",
    "* Generally, top of the range supercars can have up to 900 break-horsepower, so this is a good starting point as an upper bound. \n",
    "* Vehicles with the lowest horsepower are typically micro-cars which can have as little as 4 break-horsepower.\n",
    "\n",
    "Before making a decision on the range, we should first assess the accuracy of each of these horsepower values."
   ]
  },
  {
   "cell_type": "code",
   "execution_count": 61,
   "id": "af7b4e58",
   "metadata": {},
   "outputs": [
    {
     "data": {
      "text/plain": [
       "power_ps\n",
       "0     4502\n",
       "1        4\n",
       "2        2\n",
       "3        2\n",
       "4        4\n",
       "5       13\n",
       "6        3\n",
       "8        2\n",
       "9        1\n",
       "10       2\n",
       "11       4\n",
       "14       1\n",
       "15       5\n",
       "16       1\n",
       "18       6\n",
       "19       2\n",
       "20       4\n",
       "21       1\n",
       "23       3\n",
       "24       1\n",
       "Name: count, dtype: int64"
      ]
     },
     "execution_count": 61,
     "metadata": {},
     "output_type": "execute_result"
    }
   ],
   "source": [
    "autos[\"power_ps\"].value_counts().sort_index(ascending=True).head(20)"
   ]
  },
  {
   "cell_type": "markdown",
   "id": "0096b0a8",
   "metadata": {},
   "source": [
    "There are a disproportionately large number of listings with zero horsepower. This should be investigated:"
   ]
  },
  {
   "cell_type": "code",
   "execution_count": 62,
   "id": "3cca4941",
   "metadata": {},
   "outputs": [
    {
     "data": {
      "text/html": [
       "<div>\n",
       "<style scoped>\n",
       "    .dataframe tbody tr th:only-of-type {\n",
       "        vertical-align: middle;\n",
       "    }\n",
       "\n",
       "    .dataframe tbody tr th {\n",
       "        vertical-align: top;\n",
       "    }\n",
       "\n",
       "    .dataframe thead th {\n",
       "        text-align: right;\n",
       "    }\n",
       "</style>\n",
       "<table border=\"1\" class=\"dataframe\">\n",
       "  <thead>\n",
       "    <tr style=\"text-align: right;\">\n",
       "      <th></th>\n",
       "      <th>date_crawled</th>\n",
       "      <th>name</th>\n",
       "      <th>price_usd</th>\n",
       "      <th>ab_test</th>\n",
       "      <th>vehicle_type</th>\n",
       "      <th>registration_year</th>\n",
       "      <th>gearbox</th>\n",
       "      <th>power_ps</th>\n",
       "      <th>model</th>\n",
       "      <th>odometer_km</th>\n",
       "      <th>registration_month</th>\n",
       "      <th>fuel_type</th>\n",
       "      <th>brand</th>\n",
       "      <th>unrepaired_damage</th>\n",
       "      <th>ad_created</th>\n",
       "      <th>postal_code</th>\n",
       "      <th>last_seen</th>\n",
       "    </tr>\n",
       "  </thead>\n",
       "  <tbody>\n",
       "    <tr>\n",
       "      <th>4</th>\n",
       "      <td>2016-04-01 14:38:50</td>\n",
       "      <td>Ford_Focus_1_6_Benzin_TÜV_neu_ist_sehr_gepfleg...</td>\n",
       "      <td>1350</td>\n",
       "      <td>test</td>\n",
       "      <td>kombi</td>\n",
       "      <td>2003</td>\n",
       "      <td>manuell</td>\n",
       "      <td>0</td>\n",
       "      <td>focus</td>\n",
       "      <td>150000</td>\n",
       "      <td>7</td>\n",
       "      <td>benzin</td>\n",
       "      <td>ford</td>\n",
       "      <td>nein</td>\n",
       "      <td>2016-04-01 00:00:00</td>\n",
       "      <td>39218</td>\n",
       "      <td>2016-04-01 14:38:50</td>\n",
       "    </tr>\n",
       "    <tr>\n",
       "      <th>8</th>\n",
       "      <td>2016-03-22 16:51:34</td>\n",
       "      <td>Seat_Arosa</td>\n",
       "      <td>250</td>\n",
       "      <td>test</td>\n",
       "      <td>not_specified</td>\n",
       "      <td>2000</td>\n",
       "      <td>manuell</td>\n",
       "      <td>0</td>\n",
       "      <td>arosa</td>\n",
       "      <td>150000</td>\n",
       "      <td>10</td>\n",
       "      <td>not_specified</td>\n",
       "      <td>seat</td>\n",
       "      <td>nein</td>\n",
       "      <td>2016-03-22 00:00:00</td>\n",
       "      <td>7426</td>\n",
       "      <td>2016-03-26 18:18:10</td>\n",
       "    </tr>\n",
       "    <tr>\n",
       "      <th>11</th>\n",
       "      <td>2016-03-16 18:45:34</td>\n",
       "      <td>Mercedes_A140_Motorschaden</td>\n",
       "      <td>350</td>\n",
       "      <td>control</td>\n",
       "      <td>not_specified</td>\n",
       "      <td>2000</td>\n",
       "      <td>not_specified</td>\n",
       "      <td>0</td>\n",
       "      <td>A140</td>\n",
       "      <td>150000</td>\n",
       "      <td>0</td>\n",
       "      <td>benzin</td>\n",
       "      <td>mercedes_benz</td>\n",
       "      <td>not_specified</td>\n",
       "      <td>2016-03-16 00:00:00</td>\n",
       "      <td>17498</td>\n",
       "      <td>2016-03-16 18:45:34</td>\n",
       "    </tr>\n",
       "    <tr>\n",
       "      <th>32</th>\n",
       "      <td>2016-03-20 05:03:03</td>\n",
       "      <td>Corsa_mit_TÜV_5.2016</td>\n",
       "      <td>350</td>\n",
       "      <td>control</td>\n",
       "      <td>kleinwagen</td>\n",
       "      <td>1999</td>\n",
       "      <td>manuell</td>\n",
       "      <td>0</td>\n",
       "      <td>corsa</td>\n",
       "      <td>150000</td>\n",
       "      <td>7</td>\n",
       "      <td>benzin</td>\n",
       "      <td>opel</td>\n",
       "      <td>not_specified</td>\n",
       "      <td>2016-03-20 00:00:00</td>\n",
       "      <td>27619</td>\n",
       "      <td>2016-04-06 03:15:20</td>\n",
       "    </tr>\n",
       "    <tr>\n",
       "      <th>35</th>\n",
       "      <td>2016-03-29 21:52:56</td>\n",
       "      <td>Ford_Mondeo</td>\n",
       "      <td>1200</td>\n",
       "      <td>test</td>\n",
       "      <td>kombi</td>\n",
       "      <td>1998</td>\n",
       "      <td>manuell</td>\n",
       "      <td>0</td>\n",
       "      <td>mondeo</td>\n",
       "      <td>150000</td>\n",
       "      <td>12</td>\n",
       "      <td>benzin</td>\n",
       "      <td>ford</td>\n",
       "      <td>nein</td>\n",
       "      <td>2016-03-29 00:00:00</td>\n",
       "      <td>52428</td>\n",
       "      <td>2016-04-06 08:45:35</td>\n",
       "    </tr>\n",
       "    <tr>\n",
       "      <th>46</th>\n",
       "      <td>2016-03-31 10:53:28</td>\n",
       "      <td>BMW_mit__Lpg</td>\n",
       "      <td>9000</td>\n",
       "      <td>control</td>\n",
       "      <td>not_specified</td>\n",
       "      <td>2005</td>\n",
       "      <td>automatik</td>\n",
       "      <td>0</td>\n",
       "      <td>not_specified</td>\n",
       "      <td>150000</td>\n",
       "      <td>0</td>\n",
       "      <td>not_specified</td>\n",
       "      <td>bmw</td>\n",
       "      <td>not_specified</td>\n",
       "      <td>2016-03-31 00:00:00</td>\n",
       "      <td>12351</td>\n",
       "      <td>2016-04-06 03:44:41</td>\n",
       "    </tr>\n",
       "    <tr>\n",
       "      <th>52</th>\n",
       "      <td>2016-03-25 18:50:03</td>\n",
       "      <td>Senator_A_3.0E_Karosserie_restauriert_m._viele...</td>\n",
       "      <td>3500</td>\n",
       "      <td>test</td>\n",
       "      <td>limousine</td>\n",
       "      <td>1985</td>\n",
       "      <td>not_specified</td>\n",
       "      <td>0</td>\n",
       "      <td>andere</td>\n",
       "      <td>5000</td>\n",
       "      <td>0</td>\n",
       "      <td>benzin</td>\n",
       "      <td>opel</td>\n",
       "      <td>nein</td>\n",
       "      <td>2016-03-25 00:00:00</td>\n",
       "      <td>63500</td>\n",
       "      <td>2016-04-07 00:46:00</td>\n",
       "    </tr>\n",
       "    <tr>\n",
       "      <th>59</th>\n",
       "      <td>2016-03-17 17:50:54</td>\n",
       "      <td>Mercedes_A_Klasse_W_168__A_140_gruen</td>\n",
       "      <td>700</td>\n",
       "      <td>control</td>\n",
       "      <td>not_specified</td>\n",
       "      <td>2016</td>\n",
       "      <td>manuell</td>\n",
       "      <td>0</td>\n",
       "      <td>a_klasse</td>\n",
       "      <td>150000</td>\n",
       "      <td>0</td>\n",
       "      <td>benzin</td>\n",
       "      <td>mercedes_benz</td>\n",
       "      <td>not_specified</td>\n",
       "      <td>2016-03-17 00:00:00</td>\n",
       "      <td>95356</td>\n",
       "      <td>2016-03-19 17:46:47</td>\n",
       "    </tr>\n",
       "    <tr>\n",
       "      <th>64</th>\n",
       "      <td>2016-04-05 07:36:19</td>\n",
       "      <td>Autotransport__Abschlepp_Schlepper</td>\n",
       "      <td>40</td>\n",
       "      <td>test</td>\n",
       "      <td>not_specified</td>\n",
       "      <td>2011</td>\n",
       "      <td>not_specified</td>\n",
       "      <td>0</td>\n",
       "      <td>5er</td>\n",
       "      <td>150000</td>\n",
       "      <td>5</td>\n",
       "      <td>not_specified</td>\n",
       "      <td>bmw</td>\n",
       "      <td>not_specified</td>\n",
       "      <td>2016-04-05 00:00:00</td>\n",
       "      <td>40591</td>\n",
       "      <td>2016-04-07 12:16:01</td>\n",
       "    </tr>\n",
       "    <tr>\n",
       "      <th>74</th>\n",
       "      <td>2016-03-06 02:00:38</td>\n",
       "      <td>Opel_Kombi</td>\n",
       "      <td>1500</td>\n",
       "      <td>control</td>\n",
       "      <td>kombi</td>\n",
       "      <td>2006</td>\n",
       "      <td>manuell</td>\n",
       "      <td>0</td>\n",
       "      <td>astra</td>\n",
       "      <td>150000</td>\n",
       "      <td>3</td>\n",
       "      <td>benzin</td>\n",
       "      <td>opel</td>\n",
       "      <td>nein</td>\n",
       "      <td>2016-03-06 00:00:00</td>\n",
       "      <td>23627</td>\n",
       "      <td>2016-04-06 01:46:40</td>\n",
       "    </tr>\n",
       "  </tbody>\n",
       "</table>\n",
       "</div>"
      ],
      "text/plain": [
       "           date_crawled                                               name  \\\n",
       "4   2016-04-01 14:38:50  Ford_Focus_1_6_Benzin_TÜV_neu_ist_sehr_gepfleg...   \n",
       "8   2016-03-22 16:51:34                                         Seat_Arosa   \n",
       "11  2016-03-16 18:45:34                         Mercedes_A140_Motorschaden   \n",
       "32  2016-03-20 05:03:03                               Corsa_mit_TÜV_5.2016   \n",
       "35  2016-03-29 21:52:56                                        Ford_Mondeo   \n",
       "46  2016-03-31 10:53:28                                       BMW_mit__Lpg   \n",
       "52  2016-03-25 18:50:03  Senator_A_3.0E_Karosserie_restauriert_m._viele...   \n",
       "59  2016-03-17 17:50:54               Mercedes_A_Klasse_W_168__A_140_gruen   \n",
       "64  2016-04-05 07:36:19                 Autotransport__Abschlepp_Schlepper   \n",
       "74  2016-03-06 02:00:38                                         Opel_Kombi   \n",
       "\n",
       "    price_usd  ab_test   vehicle_type  registration_year        gearbox  \\\n",
       "4        1350     test          kombi               2003        manuell   \n",
       "8         250     test  not_specified               2000        manuell   \n",
       "11        350  control  not_specified               2000  not_specified   \n",
       "32        350  control     kleinwagen               1999        manuell   \n",
       "35       1200     test          kombi               1998        manuell   \n",
       "46       9000  control  not_specified               2005      automatik   \n",
       "52       3500     test      limousine               1985  not_specified   \n",
       "59        700  control  not_specified               2016        manuell   \n",
       "64         40     test  not_specified               2011  not_specified   \n",
       "74       1500  control          kombi               2006        manuell   \n",
       "\n",
       "    power_ps          model  odometer_km  registration_month      fuel_type  \\\n",
       "4          0          focus       150000                   7         benzin   \n",
       "8          0          arosa       150000                  10  not_specified   \n",
       "11         0           A140       150000                   0         benzin   \n",
       "32         0          corsa       150000                   7         benzin   \n",
       "35         0         mondeo       150000                  12         benzin   \n",
       "46         0  not_specified       150000                   0  not_specified   \n",
       "52         0         andere         5000                   0         benzin   \n",
       "59         0       a_klasse       150000                   0         benzin   \n",
       "64         0            5er       150000                   5  not_specified   \n",
       "74         0          astra       150000                   3         benzin   \n",
       "\n",
       "            brand unrepaired_damage           ad_created  postal_code  \\\n",
       "4            ford              nein  2016-04-01 00:00:00        39218   \n",
       "8            seat              nein  2016-03-22 00:00:00         7426   \n",
       "11  mercedes_benz     not_specified  2016-03-16 00:00:00        17498   \n",
       "32           opel     not_specified  2016-03-20 00:00:00        27619   \n",
       "35           ford              nein  2016-03-29 00:00:00        52428   \n",
       "46            bmw     not_specified  2016-03-31 00:00:00        12351   \n",
       "52           opel              nein  2016-03-25 00:00:00        63500   \n",
       "59  mercedes_benz     not_specified  2016-03-17 00:00:00        95356   \n",
       "64            bmw     not_specified  2016-04-05 00:00:00        40591   \n",
       "74           opel              nein  2016-03-06 00:00:00        23627   \n",
       "\n",
       "              last_seen  \n",
       "4   2016-04-01 14:38:50  \n",
       "8   2016-03-26 18:18:10  \n",
       "11  2016-03-16 18:45:34  \n",
       "32  2016-04-06 03:15:20  \n",
       "35  2016-04-06 08:45:35  \n",
       "46  2016-04-06 03:44:41  \n",
       "52  2016-04-07 00:46:00  \n",
       "59  2016-03-19 17:46:47  \n",
       "64  2016-04-07 12:16:01  \n",
       "74  2016-04-06 01:46:40  "
      ]
     },
     "execution_count": 62,
     "metadata": {},
     "output_type": "execute_result"
    }
   ],
   "source": [
    "autos[autos[\"power_ps\"] == 0].head(10)"
   ]
  },
  {
   "cell_type": "markdown",
   "id": "c7bcea96",
   "metadata": {},
   "source": [
    "It appears records with a `power_ps` value of 0 are likely to be placeholder values where the crawler could not retrieve an accurate horsepower for a listing (this may be because the seller did not provide this information or if the crawler could not identify the value).\n",
    "\n",
    "Since 4,502 records have this value, it would be better to fill these with a null value rather than dropping these rows entirely (as this is almost 10% of the remaining data). "
   ]
  },
  {
   "cell_type": "code",
   "execution_count": 63,
   "id": "acab61a1",
   "metadata": {},
   "outputs": [],
   "source": [
    "autos.loc[autos[\"power_ps\"] == 0, \"power_ps\"] = np.nan"
   ]
  },
  {
   "cell_type": "code",
   "execution_count": 64,
   "id": "5de34470",
   "metadata": {},
   "outputs": [
    {
     "data": {
      "text/plain": [
       "power_ps\n",
       "1.0      4\n",
       "2.0      2\n",
       "3.0      2\n",
       "4.0      4\n",
       "5.0     13\n",
       "6.0      3\n",
       "8.0      2\n",
       "9.0      1\n",
       "10.0     2\n",
       "11.0     4\n",
       "14.0     1\n",
       "15.0     5\n",
       "16.0     1\n",
       "18.0     6\n",
       "19.0     2\n",
       "20.0     4\n",
       "21.0     1\n",
       "23.0     3\n",
       "24.0     1\n",
       "25.0     2\n",
       "Name: count, dtype: int64"
      ]
     },
     "execution_count": 64,
     "metadata": {},
     "output_type": "execute_result"
    }
   ],
   "source": [
    "autos[\"power_ps\"].value_counts().sort_index(ascending=True).head(20)"
   ]
  },
  {
   "cell_type": "code",
   "execution_count": 65,
   "id": "d5b4c1bb",
   "metadata": {},
   "outputs": [
    {
     "data": {
      "text/plain": [
       "power_ps\n",
       "1781.0     1\n",
       "1793.0     1\n",
       "1796.0     1\n",
       "1800.0     1\n",
       "1988.0     1\n",
       "1998.0     1\n",
       "2729.0     1\n",
       "3500.0     1\n",
       "3750.0     1\n",
       "4400.0     1\n",
       "5867.0     1\n",
       "6045.0     1\n",
       "6226.0     1\n",
       "6512.0     1\n",
       "7511.0     1\n",
       "8404.0     1\n",
       "14009.0    1\n",
       "15001.0    1\n",
       "16312.0    1\n",
       "17700.0    1\n",
       "Name: count, dtype: int64"
      ]
     },
     "execution_count": 65,
     "metadata": {},
     "output_type": "execute_result"
    }
   ],
   "source": [
    "autos[\"power_ps\"].value_counts().sort_index(ascending=True).tail(20)"
   ]
  },
  {
   "cell_type": "markdown",
   "id": "3b90d7f1",
   "metadata": {},
   "source": [
    "There are a number of listings with very low or extremely large horsepower values which are very likely to be inaccurate (refer to the four records with a `power_ps` value of 1 below). "
   ]
  },
  {
   "cell_type": "code",
   "execution_count": 66,
   "id": "ca1ee0b1",
   "metadata": {},
   "outputs": [
    {
     "data": {
      "text/html": [
       "<div>\n",
       "<style scoped>\n",
       "    .dataframe tbody tr th:only-of-type {\n",
       "        vertical-align: middle;\n",
       "    }\n",
       "\n",
       "    .dataframe tbody tr th {\n",
       "        vertical-align: top;\n",
       "    }\n",
       "\n",
       "    .dataframe thead th {\n",
       "        text-align: right;\n",
       "    }\n",
       "</style>\n",
       "<table border=\"1\" class=\"dataframe\">\n",
       "  <thead>\n",
       "    <tr style=\"text-align: right;\">\n",
       "      <th></th>\n",
       "      <th>date_crawled</th>\n",
       "      <th>name</th>\n",
       "      <th>price_usd</th>\n",
       "      <th>ab_test</th>\n",
       "      <th>vehicle_type</th>\n",
       "      <th>registration_year</th>\n",
       "      <th>gearbox</th>\n",
       "      <th>power_ps</th>\n",
       "      <th>model</th>\n",
       "      <th>odometer_km</th>\n",
       "      <th>registration_month</th>\n",
       "      <th>fuel_type</th>\n",
       "      <th>brand</th>\n",
       "      <th>unrepaired_damage</th>\n",
       "      <th>ad_created</th>\n",
       "      <th>postal_code</th>\n",
       "      <th>last_seen</th>\n",
       "    </tr>\n",
       "  </thead>\n",
       "  <tbody>\n",
       "    <tr>\n",
       "      <th>485</th>\n",
       "      <td>2016-03-22 17:57:58</td>\n",
       "      <td>Super_Chrysler_neon_2.0</td>\n",
       "      <td>490</td>\n",
       "      <td>control</td>\n",
       "      <td>limousine</td>\n",
       "      <td>2002</td>\n",
       "      <td>manuell</td>\n",
       "      <td>1.0</td>\n",
       "      <td>andere</td>\n",
       "      <td>100000</td>\n",
       "      <td>11</td>\n",
       "      <td>not_specified</td>\n",
       "      <td>chrysler</td>\n",
       "      <td>nein</td>\n",
       "      <td>2016-03-22 00:00:00</td>\n",
       "      <td>40233</td>\n",
       "      <td>2016-03-22 17:57:58</td>\n",
       "    </tr>\n",
       "    <tr>\n",
       "      <th>844</th>\n",
       "      <td>2016-03-22 13:38:51</td>\n",
       "      <td>Golf_Cabrio_zum_Schlachten_ohne_Motor</td>\n",
       "      <td>300</td>\n",
       "      <td>control</td>\n",
       "      <td>cabrio</td>\n",
       "      <td>1997</td>\n",
       "      <td>manuell</td>\n",
       "      <td>1.0</td>\n",
       "      <td>golf</td>\n",
       "      <td>5000</td>\n",
       "      <td>4</td>\n",
       "      <td>diesel</td>\n",
       "      <td>volkswagen</td>\n",
       "      <td>ja</td>\n",
       "      <td>2016-03-22 00:00:00</td>\n",
       "      <td>83395</td>\n",
       "      <td>2016-04-04 01:15:36</td>\n",
       "    </tr>\n",
       "    <tr>\n",
       "      <th>32820</th>\n",
       "      <td>2016-03-08 11:38:54</td>\n",
       "      <td>**_Golf_3**_in_Klassikrot_LA3G_91_98__3_Tuerig...</td>\n",
       "      <td>200</td>\n",
       "      <td>control</td>\n",
       "      <td>limousine</td>\n",
       "      <td>1992</td>\n",
       "      <td>manuell</td>\n",
       "      <td>1.0</td>\n",
       "      <td>golf</td>\n",
       "      <td>100000</td>\n",
       "      <td>12</td>\n",
       "      <td>benzin</td>\n",
       "      <td>volkswagen</td>\n",
       "      <td>ja</td>\n",
       "      <td>2016-03-08 00:00:00</td>\n",
       "      <td>47506</td>\n",
       "      <td>2016-03-10 02:46:26</td>\n",
       "    </tr>\n",
       "    <tr>\n",
       "      <th>46817</th>\n",
       "      <td>2016-03-07 19:53:06</td>\n",
       "      <td>Opel_Kadett_C_Scheunenfund_1._Serie_Trommelbre...</td>\n",
       "      <td>990</td>\n",
       "      <td>control</td>\n",
       "      <td>coupe</td>\n",
       "      <td>1974</td>\n",
       "      <td>manuell</td>\n",
       "      <td>1.0</td>\n",
       "      <td>kadett</td>\n",
       "      <td>5000</td>\n",
       "      <td>3</td>\n",
       "      <td>benzin</td>\n",
       "      <td>opel</td>\n",
       "      <td>ja</td>\n",
       "      <td>2016-03-07 00:00:00</td>\n",
       "      <td>94036</td>\n",
       "      <td>2016-03-10 04:44:22</td>\n",
       "    </tr>\n",
       "  </tbody>\n",
       "</table>\n",
       "</div>"
      ],
      "text/plain": [
       "              date_crawled                                               name  \\\n",
       "485    2016-03-22 17:57:58                            Super_Chrysler_neon_2.0   \n",
       "844    2016-03-22 13:38:51              Golf_Cabrio_zum_Schlachten_ohne_Motor   \n",
       "32820  2016-03-08 11:38:54  **_Golf_3**_in_Klassikrot_LA3G_91_98__3_Tuerig...   \n",
       "46817  2016-03-07 19:53:06  Opel_Kadett_C_Scheunenfund_1._Serie_Trommelbre...   \n",
       "\n",
       "       price_usd  ab_test vehicle_type  registration_year  gearbox  power_ps  \\\n",
       "485          490  control    limousine               2002  manuell       1.0   \n",
       "844          300  control       cabrio               1997  manuell       1.0   \n",
       "32820        200  control    limousine               1992  manuell       1.0   \n",
       "46817        990  control        coupe               1974  manuell       1.0   \n",
       "\n",
       "        model  odometer_km  registration_month      fuel_type       brand  \\\n",
       "485    andere       100000                  11  not_specified    chrysler   \n",
       "844      golf         5000                   4         diesel  volkswagen   \n",
       "32820    golf       100000                  12         benzin  volkswagen   \n",
       "46817  kadett         5000                   3         benzin        opel   \n",
       "\n",
       "      unrepaired_damage           ad_created  postal_code            last_seen  \n",
       "485                nein  2016-03-22 00:00:00        40233  2016-03-22 17:57:58  \n",
       "844                  ja  2016-03-22 00:00:00        83395  2016-04-04 01:15:36  \n",
       "32820                ja  2016-03-08 00:00:00        47506  2016-03-10 02:46:26  \n",
       "46817                ja  2016-03-07 00:00:00        94036  2016-03-10 04:44:22  "
      ]
     },
     "execution_count": 66,
     "metadata": {},
     "output_type": "execute_result"
    }
   ],
   "source": [
    "autos[autos[\"power_ps\"] == 1].head()"
   ]
  },
  {
   "cell_type": "markdown",
   "id": "4b6f1dec",
   "metadata": {},
   "source": [
    "To summarise the horsepower data, we can exclude the anomalously large/small values from the calculation without the need to drop all these records from the dataset.\n",
    "\n",
    "This is a good compromise to better assess the status of the accurate horsepower values whilst also keeping data for the records with unreliable horsepower values (for other analyses that do not require accurate `power_ps` values)."
   ]
  },
  {
   "cell_type": "markdown",
   "id": "999d9780",
   "metadata": {},
   "source": [
    "To ensure the horsepower values are most likely reliable, we can restrict the range in our summary calculation to 70-700. This covers the typical range of many modern vehicles from small cars up to heavy-duty trucks."
   ]
  },
  {
   "cell_type": "code",
   "execution_count": 67,
   "id": "66ed073a",
   "metadata": {},
   "outputs": [
    {
     "data": {
      "text/plain": [
       "power_ps\n",
       "True     35574\n",
       "False    11102\n",
       "Name: count, dtype: int64"
      ]
     },
     "execution_count": 67,
     "metadata": {},
     "output_type": "execute_result"
    }
   ],
   "source": [
    "autos[\"power_ps\"].between(70, 700).value_counts()"
   ]
  },
  {
   "cell_type": "markdown",
   "id": "8b48180f",
   "metadata": {},
   "source": [
    "Limiting the values to this range excludes 11,102 records from the calculation, though this is warranted considering the unreliable nature of this field."
   ]
  },
  {
   "cell_type": "code",
   "execution_count": 68,
   "id": "d4134c5a",
   "metadata": {},
   "outputs": [
    {
     "data": {
      "text/plain": [
       "count    35574.000000\n",
       "mean       139.340136\n",
       "std         59.430756\n",
       "min         70.000000\n",
       "25%        101.000000\n",
       "50%        125.000000\n",
       "75%        163.000000\n",
       "max        696.000000\n",
       "Name: power_ps, dtype: float64"
      ]
     },
     "execution_count": 68,
     "metadata": {},
     "output_type": "execute_result"
    }
   ],
   "source": [
    "autos.loc[autos[\"power_ps\"].between(70, 700), \"power_ps\"].describe()"
   ]
  },
  {
   "cell_type": "markdown",
   "id": "d451cf99",
   "metadata": {},
   "source": [
    "From the ~35k records, the `median horsepower is 125` - right around the range of typical mid-sized family cars. \n",
    "\n",
    "The `mean of 139` is notably larger than the median value indicating the distribution is right skewed (i.e., a greater number of lower horsepower vehicles are listed on the site).\n",
    "\n",
    "The spread of the data is relatively compact, with an `IQR of 62`. This means the central 50% of the datapoint differ over a range of 62 horsepower values."
   ]
  },
  {
   "cell_type": "markdown",
   "id": "8a85ac7d",
   "metadata": {},
   "source": [
    "### Exploring Price by Vehicle Brand"
   ]
  },
  {
   "cell_type": "code",
   "execution_count": 69,
   "id": "b36c0a4b",
   "metadata": {},
   "outputs": [
    {
     "data": {
      "text/plain": [
       "brand\n",
       "volkswagen        0.211286\n",
       "bmw               0.110057\n",
       "opel              0.107550\n",
       "mercedes_benz     0.096474\n",
       "audi              0.086576\n",
       "ford              0.069907\n",
       "renault           0.047133\n",
       "peugeot           0.029844\n",
       "fiat              0.025645\n",
       "seat              0.018275\n",
       "skoda             0.016411\n",
       "nissan            0.015276\n",
       "mazda             0.015190\n",
       "smart             0.014161\n",
       "citroen           0.014011\n",
       "toyota            0.012705\n",
       "hyundai           0.010027\n",
       "sonstige_autos    0.009791\n",
       "volvo             0.009148\n",
       "mini              0.008763\n",
       "mitsubishi        0.008227\n",
       "honda             0.007841\n",
       "kia               0.007070\n",
       "alfa_romeo        0.006642\n",
       "porsche           0.006127\n",
       "suzuki            0.005935\n",
       "chevrolet         0.005699\n",
       "chrysler          0.003514\n",
       "dacia             0.002635\n",
       "daihatsu          0.002507\n",
       "jeep              0.002271\n",
       "subaru            0.002142\n",
       "land_rover        0.002100\n",
       "saab              0.001650\n",
       "jaguar            0.001564\n",
       "daewoo            0.001500\n",
       "trabant           0.001371\n",
       "rover             0.001328\n",
       "lancia            0.001071\n",
       "lada              0.000578\n",
       "Name: proportion, dtype: float64"
      ]
     },
     "execution_count": 69,
     "metadata": {},
     "output_type": "execute_result"
    }
   ],
   "source": [
    "brand_proportions = autos[\"brand\"].value_counts(normalize=True)\n",
    "\n",
    "brand_proportions"
   ]
  },
  {
   "cell_type": "markdown",
   "id": "c5024342",
   "metadata": {},
   "source": [
    "Looking at the breakdown of brands in the dataset, German manufacturers make up four of the top five brands with almost 50% of the total listings from German brands. Volkswagen is the most popular brand by a large margin, making up 21.1% of all listings.\n",
    "\n",
    "Since there are many brands that are less common, we can just take a look at the most common brands - those which make up more than 5% of total listings:"
   ]
  },
  {
   "cell_type": "code",
   "execution_count": 70,
   "id": "b393a3b1",
   "metadata": {},
   "outputs": [
    {
     "data": {
      "text/plain": [
       "Index(['volkswagen', 'bmw', 'opel', 'mercedes_benz', 'audi', 'ford'], dtype='object', name='brand')"
      ]
     },
     "execution_count": 70,
     "metadata": {},
     "output_type": "execute_result"
    }
   ],
   "source": [
    "common_brands = brand_proportions[brand_proportions > 0.05].index\n",
    "\n",
    "common_brands"
   ]
  },
  {
   "cell_type": "code",
   "execution_count": 71,
   "id": "3f3c89a5",
   "metadata": {},
   "outputs": [
    {
     "data": {
      "text/plain": [
       "{'volkswagen': '5402',\n",
       " 'bmw': '8333',\n",
       " 'opel': '2976',\n",
       " 'mercedes_benz': '8628',\n",
       " 'audi': '9337',\n",
       " 'ford': '3749'}"
      ]
     },
     "execution_count": 71,
     "metadata": {},
     "output_type": "execute_result"
    }
   ],
   "source": [
    "price_by_brand = {}\n",
    "\n",
    "for brand in common_brands:\n",
    "  \n",
    "  selected_rows = autos[autos[\"brand\"] == brand]\n",
    "  \n",
    "  mean_price_usd = selected_rows[\"price_usd\"].mean()\n",
    "  \n",
    "  price_by_brand[brand] = f\"{mean_price_usd:.0f}\"\n",
    "  \n",
    "price_by_brand"
   ]
  },
  {
   "cell_type": "code",
   "execution_count": 72,
   "id": "5797ffd7",
   "metadata": {},
   "outputs": [
    {
     "data": {
      "text/html": [
       "<div>\n",
       "<style scoped>\n",
       "    .dataframe tbody tr th:only-of-type {\n",
       "        vertical-align: middle;\n",
       "    }\n",
       "\n",
       "    .dataframe tbody tr th {\n",
       "        vertical-align: top;\n",
       "    }\n",
       "\n",
       "    .dataframe thead th {\n",
       "        text-align: right;\n",
       "    }\n",
       "</style>\n",
       "<table border=\"1\" class=\"dataframe\">\n",
       "  <thead>\n",
       "    <tr style=\"text-align: right;\">\n",
       "      <th></th>\n",
       "      <th>mean_price_usd</th>\n",
       "    </tr>\n",
       "  </thead>\n",
       "  <tbody>\n",
       "    <tr>\n",
       "      <th>volkswagen</th>\n",
       "      <td>5402</td>\n",
       "    </tr>\n",
       "    <tr>\n",
       "      <th>bmw</th>\n",
       "      <td>8333</td>\n",
       "    </tr>\n",
       "    <tr>\n",
       "      <th>opel</th>\n",
       "      <td>2976</td>\n",
       "    </tr>\n",
       "    <tr>\n",
       "      <th>mercedes_benz</th>\n",
       "      <td>8628</td>\n",
       "    </tr>\n",
       "    <tr>\n",
       "      <th>audi</th>\n",
       "      <td>9337</td>\n",
       "    </tr>\n",
       "    <tr>\n",
       "      <th>ford</th>\n",
       "      <td>3749</td>\n",
       "    </tr>\n",
       "  </tbody>\n",
       "</table>\n",
       "</div>"
      ],
      "text/plain": [
       "              mean_price_usd\n",
       "volkswagen              5402\n",
       "bmw                     8333\n",
       "opel                    2976\n",
       "mercedes_benz           8628\n",
       "audi                    9337\n",
       "ford                    3749"
      ]
     },
     "execution_count": 72,
     "metadata": {},
     "output_type": "execute_result"
    }
   ],
   "source": [
    "price_by_brand = pd.Series(price_by_brand)\n",
    "\n",
    "brand_aggregate_data = pd.DataFrame(price_by_brand, columns=[\"mean_price_usd\"])\n",
    "\n",
    "brand_aggregate_data"
   ]
  },
  {
   "cell_type": "markdown",
   "id": "25dcbcff",
   "metadata": {},
   "source": [
    "Of the most common brands:\n",
    "\n",
    ">* BMW, Mercedes and Audi are much more expensive options.\n",
    ">\n",
    ">* Opel and Ford are more affordable choices.\n",
    ">\n",
    ">* Volkswagen is intermediary, offering a balance between higher-end quality and price. This (along with the fact that VW is a German manufacturer) could explain the high popularity."
   ]
  },
  {
   "cell_type": "markdown",
   "id": "d662c7d6",
   "metadata": {},
   "source": [
    "### Exploring Mileage by Brand"
   ]
  },
  {
   "cell_type": "code",
   "execution_count": 73,
   "id": "a52ae335",
   "metadata": {},
   "outputs": [
    {
     "data": {
      "text/plain": [
       "{'volkswagen': '79975',\n",
       " 'bmw': '82377',\n",
       " 'opel': '80351',\n",
       " 'mercedes_benz': '81268',\n",
       " 'audi': '80255',\n",
       " 'ford': '77215'}"
      ]
     },
     "execution_count": 73,
     "metadata": {},
     "output_type": "execute_result"
    }
   ],
   "source": [
    "mileage_by_brand = {}\n",
    "\n",
    "for brand in common_brands:\n",
    "  \n",
    "  selected_rows = autos[autos[\"brand\"] == brand]\n",
    "  \n",
    "  mean_mileage = (selected_rows[\"odometer_km\"] * 0.621371).mean() # convert km to miles\n",
    "  \n",
    "  mileage_by_brand[brand] = f\"{mean_mileage:.0f}\"\n",
    "  \n",
    "mileage_by_brand"
   ]
  },
  {
   "cell_type": "code",
   "execution_count": 74,
   "id": "b8a6fcc1",
   "metadata": {},
   "outputs": [
    {
     "data": {
      "text/html": [
       "<div>\n",
       "<style scoped>\n",
       "    .dataframe tbody tr th:only-of-type {\n",
       "        vertical-align: middle;\n",
       "    }\n",
       "\n",
       "    .dataframe tbody tr th {\n",
       "        vertical-align: top;\n",
       "    }\n",
       "\n",
       "    .dataframe thead th {\n",
       "        text-align: right;\n",
       "    }\n",
       "</style>\n",
       "<table border=\"1\" class=\"dataframe\">\n",
       "  <thead>\n",
       "    <tr style=\"text-align: right;\">\n",
       "      <th></th>\n",
       "      <th>mean_price_usd</th>\n",
       "      <th>mean_mileage</th>\n",
       "    </tr>\n",
       "  </thead>\n",
       "  <tbody>\n",
       "    <tr>\n",
       "      <th>audi</th>\n",
       "      <td>9337</td>\n",
       "      <td>80255</td>\n",
       "    </tr>\n",
       "    <tr>\n",
       "      <th>mercedes_benz</th>\n",
       "      <td>8628</td>\n",
       "      <td>81268</td>\n",
       "    </tr>\n",
       "    <tr>\n",
       "      <th>bmw</th>\n",
       "      <td>8333</td>\n",
       "      <td>82377</td>\n",
       "    </tr>\n",
       "    <tr>\n",
       "      <th>volkswagen</th>\n",
       "      <td>5402</td>\n",
       "      <td>79975</td>\n",
       "    </tr>\n",
       "    <tr>\n",
       "      <th>ford</th>\n",
       "      <td>3749</td>\n",
       "      <td>77215</td>\n",
       "    </tr>\n",
       "    <tr>\n",
       "      <th>opel</th>\n",
       "      <td>2976</td>\n",
       "      <td>80351</td>\n",
       "    </tr>\n",
       "  </tbody>\n",
       "</table>\n",
       "</div>"
      ],
      "text/plain": [
       "              mean_price_usd mean_mileage\n",
       "audi                    9337        80255\n",
       "mercedes_benz           8628        81268\n",
       "bmw                     8333        82377\n",
       "volkswagen              5402        79975\n",
       "ford                    3749        77215\n",
       "opel                    2976        80351"
      ]
     },
     "execution_count": 74,
     "metadata": {},
     "output_type": "execute_result"
    }
   ],
   "source": [
    "mileage_by_brand = pd.Series(mileage_by_brand)\n",
    "\n",
    "brand_aggregate_data[\"mean_mileage\"] = mileage_by_brand\n",
    "\n",
    "brand_aggregate_data.sort_values(by=\"mean_price_usd\", ascending=False)"
   ]
  },
  {
   "cell_type": "markdown",
   "id": "ada2ca03",
   "metadata": {},
   "source": [
    "Mean mileage by brand does not vary to the extent that mean price does. By simple inspection, there does seem to be a very slight tendency for less expensive brands to have a lower mileage on average."
   ]
  },
  {
   "cell_type": "markdown",
   "id": "c946b124",
   "metadata": {},
   "source": [
    "### Conclusions"
   ]
  },
  {
   "cell_type": "markdown",
   "id": "728dbff5",
   "metadata": {},
   "source": [
    "The `autos.csv` dataset has been cleaned and some initial exploratory data analysis has been conducted to gain insight into the nature of the dataset. \n",
    "\n",
    "* Through the cleaning process, an understanding of the date and horsepower fields has been developed, and many of the missing/inaccurate values have been handled ready for further data analysis.\n",
    "\n",
    "* Some initial analysis was conducted on the price and mileage of vehicles, aggregating by brand to identify trends.\n",
    "\n",
    "* Depending on the direction of the analysis, further cleaning may be necessary. If we wanted to explore potential trends regarding the vehicle horsepower, further cleaning of the `power_ps` field would be required. "
   ]
  },
  {
   "cell_type": "code",
   "execution_count": 75,
   "id": "86d73e8a",
   "metadata": {},
   "outputs": [
    {
     "name": "stdout",
     "output_type": "stream",
     "text": [
      "<class 'pandas.core.frame.DataFrame'>\n",
      "Index: 46676 entries, 0 to 49999\n",
      "Data columns (total 17 columns):\n",
      " #   Column              Non-Null Count  Dtype  \n",
      "---  ------              --------------  -----  \n",
      " 0   date_crawled        46676 non-null  object \n",
      " 1   name                46676 non-null  object \n",
      " 2   price_usd           46676 non-null  int64  \n",
      " 3   ab_test             46676 non-null  object \n",
      " 4   vehicle_type        46676 non-null  object \n",
      " 5   registration_year   46676 non-null  int64  \n",
      " 6   gearbox             46676 non-null  object \n",
      " 7   power_ps            42174 non-null  float64\n",
      " 8   model               46676 non-null  object \n",
      " 9   odometer_km         46676 non-null  int64  \n",
      " 10  registration_month  46676 non-null  int64  \n",
      " 11  fuel_type           46676 non-null  object \n",
      " 12  brand               46676 non-null  object \n",
      " 13  unrepaired_damage   46676 non-null  object \n",
      " 14  ad_created          46676 non-null  object \n",
      " 15  postal_code         46676 non-null  int64  \n",
      " 16  last_seen           46676 non-null  object \n",
      "dtypes: float64(1), int64(5), object(11)\n",
      "memory usage: 32.5 MB\n"
     ]
    }
   ],
   "source": [
    "autos.info(memory_usage=\"deep\")"
   ]
  },
  {
   "cell_type": "code",
   "execution_count": 76,
   "id": "2bb786f8",
   "metadata": {},
   "outputs": [],
   "source": [
    "autos.to_csv(\"autos_cleaned_v1.csv\", index=False)"
   ]
  },
  {
   "cell_type": "markdown",
   "id": "aed6dfeb",
   "metadata": {},
   "source": [
    "To end the cleaning process, it is best practice to save a copy of the cleaned dataset as a separate file format. The index parameter is set to false since our data already has numeric index labels, so these do not need to be added to the csv file."
   ]
  }
 ],
 "metadata": {
  "kernelspec": {
   "display_name": "Python 3",
   "language": "python",
   "name": "python3"
  },
  "language_info": {
   "codemirror_mode": {
    "name": "ipython",
    "version": 3
   },
   "file_extension": ".py",
   "mimetype": "text/x-python",
   "name": "python",
   "nbconvert_exporter": "python",
   "pygments_lexer": "ipython3",
   "version": "3.12.10"
  }
 },
 "nbformat": 4,
 "nbformat_minor": 5
}
