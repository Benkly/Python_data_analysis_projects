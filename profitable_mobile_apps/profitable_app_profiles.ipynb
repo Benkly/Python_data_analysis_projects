{
 "cells": [
  {
   "cell_type": "markdown",
   "id": "e670356b",
   "metadata": {},
   "source": [
    "# Profitable App Profiles for the Apple iOS App Store and Google Play Markets \n",
    "\n",
    "### Purpose of this Project\n",
    "This project is designed to demonstrate my progress and competency with Python and Jupyter functionalities to produce a professional data analysis report. \n",
    "The style of this document follows the principles of **literate programming**, a coding paradigm first adopted in 1984 by Donald Knuth where code is accompanied by natural human language for enhanced code annotation and discussion of outputs. This style of workflow is highly advantageous in the context of data analysis as code can be easily annotated and clarified in markdown cells and results can be directly discussed in the same document. It also offers a huge advantage when combined with data visualization, as figures and graphs can be directly integrated into the same document (though this project does not focus on this aspect of the data analysis process).\n",
    "\n",
    "### Project Background\n",
    "I am acting as a data analyst working for a company that builds Android and iOS mobile apps. The company only builds apps that are *free* to download/install and for English-speaking audiences. Therefore, the company business model relies on in-app ads as the main source of revenue. Consequently, revenue for any given app the company builds is primarily controlled by the number of users of the app (and the amount of engagement users make with ads within the app).\n",
    "\n",
    ">The main goal of this project is to gain an insight into what kinds of apps are most likely to attract the largest user base so that our developers can make more informed decisions on the directions they could take when building new applications.\n",
    "\n",
    "\n"
   ]
  },
  {
   "cell_type": "markdown",
   "id": "516c9616",
   "metadata": {},
   "source": [
    "### About the Datasets\n",
    "As of September 2018, roughly 2 million iOS apps were available for purchase on the app store with 2.1 million available on Google Play. This data is outdated now and we can expect there to be an even larger number of apps available on both marketplaces.\n",
    "\n",
    "![img](https://s3.amazonaws.com/dq-content/350/py1m8_statista.png) \n",
    "\n",
    "Source: [Statista](https://www.statista.com/statistics/276623/number-of-apps-available-in-leading-app-stores/)\n",
    "\n",
    "Analyzing data over 4 million unique records would require a significant amount of time and money, so we can turn our attention to analyzing a sample of the data instead. To avoid wasting resources on data collection, we can find relevant existing data at no cost. The two datasets below are suitable for initial exploration:\n",
    "\n",
    ">* Android app [Dataset](https://www.kaggle.com/datasets/lava18/google-play-store-apps) from Google Play containing ~10,800 apps, collected in August 2018\n",
    "\n",
    ">| Column name      | Description                              |\n",
    ">| ---------------- | ---------------------------------------- |\n",
    ">| App              | Application name                         |\n",
    ">| Category         | Category app belongs to                  |\n",
    ">| Rating           | Overall user rating of the app           |\n",
    ">| Reviews          | Number of user reviews for the app       |\n",
    ">| Size             | Size of the app (MB)                     |\n",
    ">| Installs         | Number of user downloads/installs        |\n",
    ">| Type             | Paid or Free                             |\n",
    ">| Price            | Price of app                             |\n",
    ">| Content Rating   | Age group that the app targets           |\n",
    ">| Genres           | A more detailed category breakdown       |\n",
    ">| Last Updated     | Date of last update                      |\n",
    ">| Current Ver      | Current app version                      |\n",
    ">| Android Ver      | Oldest compatible android OS version     |\n",
    "---\n",
    "\n",
    "\n",
    ">* iOS app [Dataset](https://www.kaggle.com/datasets/ramamet4/app-store-apple-data-set-10k-apps) from the App Store containing ~7,200 apps, collected in July 2017\n",
    "\n",
    ">| Column name      | Description                              |\n",
    ">| ---------------- | ---------------------------------------- |\n",
    ">| id               | App ID                                   |\n",
    ">| track_name       | App Name                                 |\n",
    ">| size_bytes       | Size (in Bytes)                          |\n",
    ">| id               | App ID                                   |\n",
    ">| currency         | Currency Type                            |\n",
    ">| price            | Price Amount                             |\n",
    ">| rating_count_tot | User rating count (All versions)         |\n",
    ">| rating_count_ver | User rating count (Current version)      |\n",
    ">| user_rating      | Average User Rating (All versions)       |\n",
    ">| user_rating_ver  | Average User Rating (Current version)    |\n",
    ">| ver              | Latest version code                      |\n",
    ">| cont_rating      | Content Rating                           |\n",
    ">| prime_genre      | Primary Genre                            |\n",
    ">| sup_devices.num  | Number of supporting devices             |\n",
    ">| ipadSc_urls.num  | Number of screenshots showed for display |\n",
    ">| lang.num         | Number of supported languages            |\n",
    ">| vpp_lic          | Vpp Device Based Licensing Enabled       |\n",
    "\n",
    "*Obviously, this data is quite outdated for the current year (2025), so any conclusions drawn may only be relevant to the digital landscape back in 2018.*"
   ]
  },
  {
   "cell_type": "markdown",
   "id": "8c6a0215",
   "metadata": {},
   "source": [
    "## Opening, Loading and Exploring the Datasets\n",
    "Each dataset of interest is first opened and stored in their respective variables (`opened_apple_file` and `opened_google_file`). The csv `reader` function from the csv module us then imported (from the Python Standard Library), allowing the opened file objects to be read and converted into nested list data structures for analysis.\n",
    "\n",
    "A **context manager** is used to handle the file operations using the `with` and `as` keywords to ensure the files are opened and closed as intended (this helps to prevent resource leaks). These leaks can occur if a program doesn't release resources (such as opened files) properly which may lead to performance issues or crashes."
   ]
  },
  {
   "cell_type": "code",
   "execution_count": 1,
   "id": "ef3414d9",
   "metadata": {},
   "outputs": [],
   "source": [
    "from csv import reader\n",
    "\n",
    "with open(\"AppleStore.csv\", encoding=\"utf8\") as opened_apple_file:\n",
    "  read_apple_file = reader(opened_apple_file)\n",
    "  apple_data = list(read_apple_file)\n",
    "  \n",
    "apple_header = apple_data[0]\n",
    "ios_app_data = apple_data[1:]\n",
    "\n",
    "with open(\"googleplaystore.csv\", encoding=\"utf8\") as opened_google_file:\n",
    "  read_google_file = reader(opened_google_file)\n",
    "  google_data = list(read_google_file)\n",
    "  \n",
    "google_header = google_data[0]\n",
    "android_app_data = google_data[1:]"
   ]
  },
  {
   "cell_type": "markdown",
   "id": "4bee8f0e",
   "metadata": {},
   "source": [
    "To make it simple to explore each dataset, we first define a function `explore_data()` which can be used repeatedly to retrieve rows presented in a digestible manner. The function takes any dataset as a nested list alongside a start row and an end row, outputting each row in the slice created from the start and end row. The `rows_and_columns` parameter is added to the function to give us the option to return the number of rows and columns within any dataset passed to it. The `header` parameter is included to ensure the header row is not included in the number of rows calculation."
   ]
  },
  {
   "cell_type": "code",
   "execution_count": 2,
   "id": "b70b8c65",
   "metadata": {},
   "outputs": [],
   "source": [
    "def explore_data(dataset, start, end, show_rows_and_columns=False, header=False):\n",
    "    dataset_slice = dataset[start:end]    \n",
    "    for row in dataset_slice:\n",
    "        print(row)\n",
    "        print('\\n') # adds new line after each row\n",
    "\n",
    "    if show_rows_and_columns and header:\n",
    "        print('Number of rows:', len(dataset) - 1) # if dataset contains header, remove one from row count\n",
    "        print('Number of columns:', len(dataset[0]))\n",
    "        \n",
    "    elif show_rows_and_columns and not header:\n",
    "        print('Number of rows:', len(dataset))\n",
    "        print('Number of columns:', len(dataset[0]))"
   ]
  },
  {
   "cell_type": "code",
   "execution_count": 3,
   "id": "c54eaf6f",
   "metadata": {},
   "outputs": [
    {
     "name": "stdout",
     "output_type": "stream",
     "text": [
      "['id', 'track_name', 'size_bytes', 'currency', 'price', 'rating_count_tot', 'rating_count_ver', 'user_rating', 'user_rating_ver', 'ver', 'cont_rating', 'prime_genre', 'sup_devices.num', 'ipadSc_urls.num', 'lang.num', 'vpp_lic']\n",
      "\n",
      "\n",
      "['284882215', 'Facebook', '389879808', 'USD', '0.0', '2974676', '212', '3.5', '3.5', '95.0', '4+', 'Social Networking', '37', '1', '29', '1']\n",
      "\n",
      "\n",
      "['389801252', 'Instagram', '113954816', 'USD', '0.0', '2161558', '1289', '4.5', '4.0', '10.23', '12+', 'Photo & Video', '37', '0', '29', '1']\n",
      "\n",
      "\n",
      "['529479190', 'Clash of Clans', '116476928', 'USD', '0.0', '2130805', '579', '4.5', '4.5', '9.24.12', '9+', 'Games', '38', '5', '18', '1']\n",
      "\n",
      "\n",
      "Number of rows: 7197\n",
      "Number of columns: 16\n"
     ]
    }
   ],
   "source": [
    "explore_data(apple_data, 0, 4, show_rows_and_columns=True, header=True)"
   ]
  },
  {
   "cell_type": "code",
   "execution_count": 4,
   "id": "ed7c1c4b",
   "metadata": {},
   "outputs": [
    {
     "name": "stdout",
     "output_type": "stream",
     "text": [
      "['App', 'Category', 'Rating', 'Reviews', 'Size', 'Installs', 'Type', 'Price', 'Content Rating', 'Genres', 'Last Updated', 'Current Ver', 'Android Ver']\n",
      "\n",
      "\n",
      "['Photo Editor & Candy Camera & Grid & ScrapBook', 'ART_AND_DESIGN', '4.1', '159', '19M', '10,000+', 'Free', '0', 'Everyone', 'Art & Design', 'January 7, 2018', '1.0.0', '4.0.3 and up']\n",
      "\n",
      "\n",
      "['Coloring book moana', 'ART_AND_DESIGN', '3.9', '967', '14M', '500,000+', 'Free', '0', 'Everyone', 'Art & Design;Pretend Play', 'January 15, 2018', '2.0.0', '4.0.3 and up']\n",
      "\n",
      "\n",
      "['U Launcher Lite – FREE Live Cool Themes, Hide Apps', 'ART_AND_DESIGN', '4.7', '87510', '8.7M', '5,000,000+', 'Free', '0', 'Everyone', 'Art & Design', 'August 1, 2018', '1.2.4', '4.0.3 and up']\n",
      "\n",
      "\n",
      "Number of rows: 10841\n",
      "Number of columns: 13\n"
     ]
    }
   ],
   "source": [
    "explore_data(google_data, 0, 4, show_rows_and_columns=True, header=True)"
   ]
  },
  {
   "cell_type": "markdown",
   "id": "42f1bb71",
   "metadata": {},
   "source": [
    "## Cleaning the datasets\n",
    "\n",
    "### Removal of inaccurate datapoints\n",
    "We begin by cleaning the datasets to ensure all records contain all of the relevant data for the analysis, removing any records that contain missing/incorrect data. \n",
    "\n",
    "The iOS dataset is free of any duplicate values and there is no known issues with inaccurate data according to users of the dataset from the original source."
   ]
  },
  {
   "cell_type": "code",
   "execution_count": 5,
   "id": "b7887ed1",
   "metadata": {},
   "outputs": [
    {
     "name": "stdout",
     "output_type": "stream",
     "text": [
      "Number of unique apps: 7197\n",
      "\n",
      "\n",
      "Number of duplicate apps: 0\n"
     ]
    }
   ],
   "source": [
    "unique_ids = []\n",
    "duplicate_ids = []\n",
    "\n",
    "for app in ios_app_data:\n",
    "  app_id = app[0]\n",
    "  if app_id not in unique_ids:\n",
    "    unique_ids.append(app_id)\n",
    "  else:\n",
    "    duplicate_ids.append(app_id)\n",
    "    \n",
    "print(\"Number of unique apps: \" + str(len(unique_ids)))\n",
    "print(\"\\n\")\n",
    "print(\"Number of duplicate apps: \" + str(len(duplicate_ids)))\n",
    "  "
   ]
  },
  {
   "cell_type": "markdown",
   "id": "1c7a088f",
   "metadata": {},
   "source": [
    "The Google Play dataset however does have some known issues and duplicate datapoints, which will be addressed below."
   ]
  },
  {
   "cell_type": "code",
   "execution_count": 6,
   "id": "ce95ac68",
   "metadata": {},
   "outputs": [
    {
     "name": "stdout",
     "output_type": "stream",
     "text": [
      "['Life Made WI-Fi Touchscreen Photo Frame', '1.9', '19', '3.0M', '1,000+', 'Free', '0', 'Everyone', '', 'February 11, 2018', '1.0.19', '4.0 and up']\n",
      "\n",
      "\n"
     ]
    }
   ],
   "source": [
    "explore_data(google_data, 10473, 10474)"
   ]
  },
  {
   "cell_type": "code",
   "execution_count": 7,
   "id": "1f2ba98c",
   "metadata": {},
   "outputs": [
    {
     "name": "stdout",
     "output_type": "stream",
     "text": [
      "['Command & Conquer: Rivals', 'FAMILY', 'NaN', '0', 'Varies with device', '0', 'NaN', '0', 'Everyone 10+', 'Strategy', 'June 28, 2018', 'Varies with device', 'Varies with device']\n",
      "\n",
      "\n"
     ]
    }
   ],
   "source": [
    "explore_data(google_data, 9149, 9150)"
   ]
  },
  {
   "cell_type": "markdown",
   "id": "cbe9ee28",
   "metadata": {},
   "source": [
    "The row at index 10473 in the raw googleplay dataset: ['Life Made WI-Fi Touchscreen Photo Frame', '1.9', '19', '3.0M', '1,000+', 'Free', '0', 'Everyone', ' ', 'February 11, 2018', '1.0.19', '4.0 and up'] is missing a category and hence caused column misalignment with the datapoints. Rather than guessing what the correct category should be, it is safer to delete this record.\n",
    "\n",
    "The row at index 9149 in the raw googleplay dataset: ['Command & Conquer: Rivals', 'FAMILY', 'NaN', '0', 'Varies with device', '0', 'NaN', '0', 'Everyone 10+', 'Strategy', 'June 28, 2018', 'Varies with device', 'Varies with device'] has a missing rating and price (labelled with not a number - NaN). Again, it is safer to delete this record.\n",
    "\n",
    "*These are known issues with the dataset (found in the Discussion tab from the original data source on Kaggle).*"
   ]
  },
  {
   "cell_type": "code",
   "execution_count": 8,
   "id": "9a35b615",
   "metadata": {},
   "outputs": [
    {
     "data": {
      "text/plain": [
       "[['Life Made WI-Fi Touchscreen Photo Frame',\n",
       "  '1.9',\n",
       "  '19',\n",
       "  '3.0M',\n",
       "  '1,000+',\n",
       "  'Free',\n",
       "  '0',\n",
       "  'Everyone',\n",
       "  '',\n",
       "  'February 11, 2018',\n",
       "  '1.0.19',\n",
       "  '4.0 and up'],\n",
       " ['Command & Conquer: Rivals',\n",
       "  'FAMILY',\n",
       "  'NaN',\n",
       "  '0',\n",
       "  'Varies with device',\n",
       "  '0',\n",
       "  'NaN',\n",
       "  '0',\n",
       "  'Everyone 10+',\n",
       "  'Strategy',\n",
       "  'June 28, 2018',\n",
       "  'Varies with device',\n",
       "  'Varies with device']]"
      ]
     },
     "execution_count": 8,
     "metadata": {},
     "output_type": "execute_result"
    }
   ],
   "source": [
    "deleted_google_data = [google_data.pop(10473), google_data.pop(9149)]\n",
    "\n",
    "deleted_google_data"
   ]
  },
  {
   "cell_type": "markdown",
   "id": "8c01b077",
   "metadata": {},
   "source": [
    "Confirm removal of the two records below by checking the new items at the indexes with inaccurate data:"
   ]
  },
  {
   "cell_type": "code",
   "execution_count": 9,
   "id": "3868e72b",
   "metadata": {},
   "outputs": [
    {
     "name": "stdout",
     "output_type": "stream",
     "text": [
      "['Sat-Fi Voice', 'COMMUNICATION', '3.4', '37', '14M', '1,000+', 'Free', '0', 'Everyone', 'Communication', 'November 21, 2014', '2.2.1.5', '2.2 and up']\n",
      "\n",
      "\n"
     ]
    }
   ],
   "source": [
    "explore_data(google_data, 10473, 10474)"
   ]
  },
  {
   "cell_type": "code",
   "execution_count": 10,
   "id": "c7656a0a",
   "metadata": {},
   "outputs": [
    {
     "name": "stdout",
     "output_type": "stream",
     "text": [
      "['Star Wars™: Galaxy of Heroes', 'FAMILY', '4.5', '1461698', '67M', '10,000,000+', 'Free', '0', 'Everyone 10+', 'Role Playing', 'May 21, 2018', '0.12.334385', '4.1 and up']\n",
      "\n",
      "\n"
     ]
    }
   ],
   "source": [
    "explore_data(google_data, 9149, 9150)"
   ]
  },
  {
   "cell_type": "markdown",
   "id": "2dbbd980",
   "metadata": {},
   "source": [
    "Running the `explore_data()` function on the googleplay dataset below confirms the deletion of the two records (the dataset now contains 10,839 records with the deleted records stored in the `deleted_google_data` variable)."
   ]
  },
  {
   "cell_type": "code",
   "execution_count": 11,
   "id": "cc19bf23",
   "metadata": {},
   "outputs": [
    {
     "name": "stdout",
     "output_type": "stream",
     "text": [
      "['App', 'Category', 'Rating', 'Reviews', 'Size', 'Installs', 'Type', 'Price', 'Content Rating', 'Genres', 'Last Updated', 'Current Ver', 'Android Ver']\n",
      "\n",
      "\n",
      "['Photo Editor & Candy Camera & Grid & ScrapBook', 'ART_AND_DESIGN', '4.1', '159', '19M', '10,000+', 'Free', '0', 'Everyone', 'Art & Design', 'January 7, 2018', '1.0.0', '4.0.3 and up']\n",
      "\n",
      "\n",
      "['Coloring book moana', 'ART_AND_DESIGN', '3.9', '967', '14M', '500,000+', 'Free', '0', 'Everyone', 'Art & Design;Pretend Play', 'January 15, 2018', '2.0.0', '4.0.3 and up']\n",
      "\n",
      "\n",
      "['U Launcher Lite – FREE Live Cool Themes, Hide Apps', 'ART_AND_DESIGN', '4.7', '87510', '8.7M', '5,000,000+', 'Free', '0', 'Everyone', 'Art & Design', 'August 1, 2018', '1.2.4', '4.0.3 and up']\n",
      "\n",
      "\n",
      "Number of rows: 10839\n",
      "Number of columns: 13\n"
     ]
    }
   ],
   "source": [
    "explore_data(google_data, 0, 4, show_rows_and_columns=True, header=True)"
   ]
  },
  {
   "cell_type": "markdown",
   "id": "0193318e",
   "metadata": {},
   "source": [
    "### Handling duplicate datapoints\n",
    "Additional known issues exist in the Google Play dataset (mentioned in the discussion section of the original source) - specifically the occurrence of multiple entries for the same app. \n",
    "\n",
    "For instance, there are four total entries for the Instagram app, likely because the data was scraped on four separate occasions. \n",
    "\n",
    "*Since the only difference between these entries are the total ratings for the app, we can remove entries with **fewer** total reviews. By keeping the entry with the greatest total reviews, this gives the highest likelihood that we are keeping the most recently collected datapoint for the app (which is preferable over randomly deleting duplicate entries).*"
   ]
  },
  {
   "cell_type": "code",
   "execution_count": 12,
   "id": "1b770485",
   "metadata": {},
   "outputs": [
    {
     "name": "stdout",
     "output_type": "stream",
     "text": [
      "['Instagram', 'SOCIAL', '4.5', '66577313', 'Varies with device', '1,000,000,000+', 'Free', '0', 'Teen', 'Social', 'July 31, 2018', 'Varies with device', 'Varies with device']\n",
      "['Instagram', 'SOCIAL', '4.5', '66577446', 'Varies with device', '1,000,000,000+', 'Free', '0', 'Teen', 'Social', 'July 31, 2018', 'Varies with device', 'Varies with device']\n",
      "['Instagram', 'SOCIAL', '4.5', '66577313', 'Varies with device', '1,000,000,000+', 'Free', '0', 'Teen', 'Social', 'July 31, 2018', 'Varies with device', 'Varies with device']\n",
      "['Instagram', 'SOCIAL', '4.5', '66509917', 'Varies with device', '1,000,000,000+', 'Free', '0', 'Teen', 'Social', 'July 31, 2018', 'Varies with device', 'Varies with device']\n"
     ]
    }
   ],
   "source": [
    "for app in android_app_data:\n",
    "  name = app[0]\n",
    "  if name == \"Instagram\":\n",
    "    print(app)"
   ]
  },
  {
   "cell_type": "markdown",
   "id": "7ba89c82",
   "metadata": {},
   "source": [
    "To get a full understanding of the state of the dataset, we create a list of all unique apps and a dictionary to contain all apps that have more than one entry in the database (with a key to indicate how many extra copies exist). \n",
    "\n",
    "The code below loops over all rows in the google play dataset, assigning the app name to the `name` variable. If the app name is not found in the `duplicate_apps` dictionary, the app is added to the `unique_apps` list. If the app is already found in the `unique_apps` list and is not already in the `duplicate_apps` dictionary, it will be instantiated in the dictionary with a value of 1 (for the first instance of a repeated entry). If the app is already present in the duplicate dictionary, +1 will be added to the value stored for that app to give the total number of extra entries of the app.\n",
    "\n",
    "The number of unique apps in the dataset can be found by simply returning the length of the `unique_apps` list. The number of unique apps with extra entries is found by returning the length of the `duplicate_apps` dictionary, with the total number of duplicates to be removed calculated by taking the sum of all values within the dictionary."
   ]
  },
  {
   "cell_type": "code",
   "execution_count": 13,
   "id": "2a947af1",
   "metadata": {},
   "outputs": [
    {
     "name": "stdout",
     "output_type": "stream",
     "text": [
      "Number of unique apps: 9658\n",
      "\n",
      "\n",
      "Number of apps with duplicate entries: 798\n",
      "\n",
      "\n",
      "Number of duplicates to remove: 1181\n"
     ]
    }
   ],
   "source": [
    "duplicate_apps = {}\n",
    "unique_apps = []\n",
    "\n",
    "for app in google_data[1:]:\n",
    "  name = app[0]\n",
    "  \n",
    "  if name not in unique_apps: \n",
    "    unique_apps.append(name)\n",
    "  else:\n",
    "    if name not in duplicate_apps:\n",
    "      duplicate_apps[name] = 1\n",
    "    else:\n",
    "      duplicate_apps[name] += 1\n",
    "    \n",
    "print(\"Number of unique apps: \" + str(len(unique_apps)))\n",
    "print(\"\\n\")\n",
    "print(\"Number of apps with duplicate entries: \" + str(len(duplicate_apps)))\n",
    "print(\"\\n\")\n",
    "print(\"Number of duplicates to remove: \" + str(sum(duplicate_apps.values())))"
   ]
  },
  {
   "cell_type": "markdown",
   "id": "ef59fc66",
   "metadata": {},
   "source": [
    "Based on our criterion for removing duplicate entries (*removing all duplicates with fewer total reviews*), we can create a dictionary `max_reviews` to store app names as keys with the apps highest number of reviews stored as the value for each app. The length of this dictionary matches the expected number of unique apps found above."
   ]
  },
  {
   "cell_type": "code",
   "execution_count": 14,
   "id": "fa0914d3",
   "metadata": {},
   "outputs": [
    {
     "name": "stdout",
     "output_type": "stream",
     "text": [
      "9658\n"
     ]
    }
   ],
   "source": [
    "max_reviews = {}\n",
    "\n",
    "for app in google_data[1:]:\n",
    "  name = app[0]\n",
    "  n_reviews = float(app[3])\n",
    "  \n",
    "  if name in max_reviews and max_reviews[name] < n_reviews:\n",
    "    max_reviews[name] = n_reviews\n",
    "  elif name not in max_reviews:\n",
    "    max_reviews[name] = n_reviews\n",
    "    \n",
    "print(len(max_reviews))"
   ]
  },
  {
   "cell_type": "markdown",
   "id": "47a8157d",
   "metadata": {},
   "source": [
    "We can use this `max_reviews` dictionary to create a cleaned dataset where all duplicate entries have been removed to leave only the entries with the greatest number of user reviews. \n",
    "\n",
    "We create two empty lists `android_data_cleaned` to store the app data with no duplicates and an `already_added` list to track the app names that have already been added to the cleaned dataset. For each app in the original `google_data` dataset (with header omitted), we assign the name of the app as `name` and number of reviews for the app as `n_reviews`. If the app is not present in the `already_added` list AND has the same number of reviews as the entry with the maximum number (stored in the `max_reviews` dictionary created above) then the row for that app will be appended to the `android_data_cleaned` list and the app name will be added to the `already_added` list to ensure no duplicate entries can be stored. \n",
    "\n",
    "We then verify that the expected number of datapoints are present in the final cleaned list (9,658)."
   ]
  },
  {
   "cell_type": "code",
   "execution_count": 15,
   "id": "6df0885d",
   "metadata": {},
   "outputs": [
    {
     "name": "stdout",
     "output_type": "stream",
     "text": [
      "Number of apps after cleaning: 9658\n",
      "\n",
      "\n",
      "First 3 rows of cleaned dataset: \n",
      " [['Photo Editor & Candy Camera & Grid & ScrapBook', 'ART_AND_DESIGN', '4.1', '159', '19M', '10,000+', 'Free', '0', 'Everyone', 'Art & Design', 'January 7, 2018', '1.0.0', '4.0.3 and up'], ['U Launcher Lite – FREE Live Cool Themes, Hide Apps', 'ART_AND_DESIGN', '4.7', '87510', '8.7M', '5,000,000+', 'Free', '0', 'Everyone', 'Art & Design', 'August 1, 2018', '1.2.4', '4.0.3 and up'], ['Sketch - Draw & Paint', 'ART_AND_DESIGN', '4.5', '215644', '25M', '50,000,000+', 'Free', '0', 'Teen', 'Art & Design', 'June 8, 2018', 'Varies with device', '4.2 and up']]\n"
     ]
    }
   ],
   "source": [
    "android_data_cleaned = []\n",
    "already_added = []\n",
    "\n",
    "for app in google_data[1:]:\n",
    "  name = app[0]\n",
    "  n_reviews = float(app[3])\n",
    "  \n",
    "  if name not in already_added and float(max_reviews[name]) == n_reviews:\n",
    "    android_data_cleaned.append(app)\n",
    "    already_added.append(name)\n",
    "    \n",
    "print(\"Number of apps after cleaning: \" + str(len(android_data_cleaned)))\n",
    "print(\"\\n\")\n",
    "print(f\"First 3 rows of cleaned dataset: \\n {android_data_cleaned[:3]}\")"
   ]
  },
  {
   "cell_type": "markdown",
   "id": "117c5998",
   "metadata": {},
   "source": [
    "### Removal of Non-English apps\n",
    "As we are only interested in insights about apps designed for an English-speaking audience, we can remove any apps with names that indicate they are not designed for English-speakers. Both datasets contain apps that fall into this criteria, and since we are not interested in these apps, we can remove them from the datasets.\n",
    "\n",
    "To do this, we can use the built-in `ord()` function to return the Unicode code point of characters in app-names. Numbers corresponding to the most common English characters in text are in the range 0-127 according to the ASCII system (American Standard Code for Information Interchange). Based on this range, we can define a function to detect whether a character belongs to the set of common English characters or not."
   ]
  },
  {
   "cell_type": "code",
   "execution_count": 16,
   "id": "b9a1bdcf",
   "metadata": {},
   "outputs": [
    {
     "name": "stdout",
     "output_type": "stream",
     "text": [
      "True\n",
      "False\n",
      "False\n",
      "False\n"
     ]
    }
   ],
   "source": [
    "def is_common_english(string):\n",
    "  for char in string:\n",
    "    if ord(char) > 127:\n",
    "      return False\n",
    "  return True\n",
    "\n",
    "print(is_common_english(\"Instagram\"))\n",
    "print(is_common_english(\"爱奇艺PPS -《欢乐颂2》电视剧热播\"))\n",
    "print(is_common_english(\"Docs To Go™ Free Office Suite\"))\n",
    "print(is_common_english(\"Instachat 😜\"))"
   ]
  },
  {
   "cell_type": "markdown",
   "id": "f7f99fc2",
   "metadata": {},
   "source": [
    "To improve the quality of our function, we can add an additional check such that if there are more than 3 characters that fall outside of the ASCII range, then the function will return False. This will minimise the likelihood of wrongly identifying English apps as non-English. The filter is not perfect, with English apps containing more than 3 non-ASCII characters being wrongly assigned. \n",
    "\n",
    "For our purposes, this is an acceptable level of data loss (since very few English apps are likely to have more than 3 non-ASCII characters).\n",
    "\n",
    "A count variable is assigned as 0 outside of the loop, and for every character in the input string, if the character falls outside of the allowed ASCII range, +1 is added to the count. If the count is greater than 3, the string is deemed non-English otherwise, it is deemed to be English."
   ]
  },
  {
   "cell_type": "code",
   "execution_count": 17,
   "id": "58a2c9d0",
   "metadata": {},
   "outputs": [
    {
     "name": "stdout",
     "output_type": "stream",
     "text": [
      "True\n",
      "False\n",
      "True\n",
      "True\n"
     ]
    }
   ],
   "source": [
    "def is_common_english(string):\n",
    "  count = 0\n",
    "  \n",
    "  for char in string:\n",
    "    if ord(char) > 127:\n",
    "      count += 1\n",
    "  \n",
    "  if count > 3:\n",
    "    return False\n",
    "  else:\n",
    "    return True\n",
    "\n",
    "print(is_common_english(\"Instagram\"))\n",
    "print(is_common_english(\"爱奇艺PPS -《欢乐颂2》电视剧热播\"))\n",
    "print(is_common_english(\"Docs To Go™ Free Office Suite\"))\n",
    "print(is_common_english(\"Instachat 😜\"))"
   ]
  },
  {
   "cell_type": "markdown",
   "id": "54a5facc",
   "metadata": {},
   "source": [
    "The `is_common_english()` function is used to filter the App Store and Google Play datasets, creating new nested lists for both datasets (`english_apple_data_cleaned` and `english_android_data_cleaned`) which contain only apps designed for English speaking audiences. \n",
    "\n",
    "This is done by looping over the apps in both datasets and appending each app's data to the list of english apps if the `is_common_english()` returns true for the name of the app. If the `is_common_english()` returns false, the app name is appended to the non_english app name list. A sample of the non_english app name lists is printed to help verify the identified apps are indeed not designed for English speakers."
   ]
  },
  {
   "cell_type": "code",
   "execution_count": 18,
   "id": "eea2f2aa",
   "metadata": {},
   "outputs": [
    {
     "name": "stdout",
     "output_type": "stream",
     "text": [
      "Number of English apps in App Store dataset: 6183\n",
      "\n",
      "\n",
      "Number of non-English apps removed from the App Store dataset: 1014\n",
      "\n",
      "\n",
      "Sample of non-English apps from the App Store dataset: ['爱奇艺PPS -《欢乐颂2》电视剧热播', '聚力视频HD-人民的名义,跨界歌王全网热播', '优酷视频', '网易新闻 - 精选好内容，算出你的兴趣', '淘宝 - 随时随地，想淘就淘', '搜狐视频HD-欢乐颂2 全网首播', '阴阳师-全区互通现世集结', '百度贴吧-全球最大兴趣交友社区', '百度网盘', '爱奇艺HD -《欢乐颂2》电视剧热播', '乐视视频HD-白鹿原,欢乐颂,奔跑吧全网热播', '万年历-值得信赖的日历黄历查询工具', '新浪新闻-阅读最新时事热门头条资讯视频', '喜马拉雅FM（听书社区）电台有声小说相声英语', '央视影音-海量央视内容高清直播']\n",
      "\n",
      "\n",
      "-----------------------------------------------------------------------------------------------------------------------------------------------------------------------------------------------------------------------------------------------------------------------------------------------------------------------------------------------------------------------------------------------------------------------------------------------------------------------------------------------------------------------------------\n",
      "\n",
      "\n",
      "Number of English apps in Google Play dataset: 9613\n",
      "\n",
      "\n",
      "Number of non-English apps removed from the cleaned Google Play dataset: 45\n",
      "\n",
      "\n",
      "Sample of non-English apps from the Google Play dataset: ['Flame - درب عقلك يوميا', 'သိင်္ Astrology - Min Thein Kha BayDin', 'РИА Новости', 'صور حرف H', 'L.POINT - 엘포인트 [ 포인트, 멤버십, 적립, 사용, 모바일 카드, 쿠폰, 롯데]', 'RMEduS - 음성인식을 활용한 R 프로그래밍 실습 시스템', 'AJ렌터카 법인 카셰어링', 'Al Quran Free - القرآن (Islam)', '中国語 AQリスニング', '日本AV历史', 'Ay Yıldız Duvar Kağıtları', 'বাংলা টিভি প্রো BD Bangla TV', 'Cъновник BG', 'CSCS BG (в български)', '뽕티비 - 개인방송, 인터넷방송, BJ방송']\n"
     ]
    }
   ],
   "source": [
    "english_apple_data_cleaned = []\n",
    "non_english_apple_apps = []\n",
    "\n",
    "english_android_data_cleaned = []\n",
    "non_english_android_apps = []\n",
    "\n",
    "for app in apple_data[1:]:\n",
    "  name = app[1]\n",
    "  if is_common_english(name):\n",
    "    english_apple_data_cleaned.append(app)\n",
    "  else:\n",
    "    non_english_apple_apps.append(name)\n",
    "    \n",
    "for app in android_data_cleaned:\n",
    "  name = app[0]\n",
    "  if is_common_english(name):\n",
    "    english_android_data_cleaned.append(app)\n",
    "  else:\n",
    "    non_english_android_apps.append(name)\n",
    "  \n",
    "line_break = \"-\" * 515  \n",
    " \n",
    "print(\"Number of English apps in App Store dataset: \" + str(len(english_apple_data_cleaned)))\n",
    "print(\"\\n\")\n",
    "print(\"Number of non-English apps removed from the App Store dataset: \" + str(len(non_english_apple_apps)))\n",
    "print(\"\\n\")\n",
    "print(\"Sample of non-English apps from the App Store dataset: \" + str(non_english_apple_apps[:15]))\n",
    "print(\"\\n\")\n",
    "print(line_break)\n",
    "print(\"\\n\")\n",
    "print(\"Number of English apps in Google Play dataset: \" + str(len(english_android_data_cleaned)))\n",
    "print(\"\\n\")\n",
    "print(\"Number of non-English apps removed from the cleaned Google Play dataset: \" + str(len(non_english_android_apps)))\n",
    "print(\"\\n\")\n",
    "print(\"Sample of non-English apps from the Google Play dataset: \" + str(non_english_android_apps[:15]))\n",
    "\n"
   ]
  },
  {
   "cell_type": "code",
   "execution_count": 19,
   "id": "45dce226",
   "metadata": {},
   "outputs": [
    {
     "name": "stdout",
     "output_type": "stream",
     "text": [
      "First 3 rows of the cleaned App Store dataset: \n",
      "\n",
      "['284882215', 'Facebook', '389879808', 'USD', '0.0', '2974676', '212', '3.5', '3.5', '95.0', '4+', 'Social Networking', '37', '1', '29', '1']\n",
      "\n",
      "\n",
      "['389801252', 'Instagram', '113954816', 'USD', '0.0', '2161558', '1289', '4.5', '4.0', '10.23', '12+', 'Photo & Video', '37', '0', '29', '1']\n",
      "\n",
      "\n",
      "['529479190', 'Clash of Clans', '116476928', 'USD', '0.0', '2130805', '579', '4.5', '4.5', '9.24.12', '9+', 'Games', '38', '5', '18', '1']\n",
      "\n",
      "\n",
      "Number of rows: 6183\n",
      "Number of columns: 16\n",
      "---------------------------------------------------------------------------------------------------------------------------------------------------------------------------------------------------\n",
      "First 3 rows of the cleaned Google Play dataset: \n",
      "\n",
      "['Photo Editor & Candy Camera & Grid & ScrapBook', 'ART_AND_DESIGN', '4.1', '159', '19M', '10,000+', 'Free', '0', 'Everyone', 'Art & Design', 'January 7, 2018', '1.0.0', '4.0.3 and up']\n",
      "\n",
      "\n",
      "['U Launcher Lite – FREE Live Cool Themes, Hide Apps', 'ART_AND_DESIGN', '4.7', '87510', '8.7M', '5,000,000+', 'Free', '0', 'Everyone', 'Art & Design', 'August 1, 2018', '1.2.4', '4.0.3 and up']\n",
      "\n",
      "\n",
      "['Sketch - Draw & Paint', 'ART_AND_DESIGN', '4.5', '215644', '25M', '50,000,000+', 'Free', '0', 'Teen', 'Art & Design', 'June 8, 2018', 'Varies with device', '4.2 and up']\n",
      "\n",
      "\n",
      "Number of rows: 9613\n",
      "Number of columns: 13\n"
     ]
    }
   ],
   "source": [
    "line_break = \"-\" * 195\n",
    "\n",
    "print(\"First 3 rows of the cleaned App Store dataset: \\n\")\n",
    "explore_data(english_apple_data_cleaned, 0, 3, show_rows_and_columns=True, header=False)\n",
    "print(line_break)\n",
    "print(\"First 3 rows of the cleaned Google Play dataset: \\n\")\n",
    "explore_data(english_android_data_cleaned, 0, 3, show_rows_and_columns=True, header=False)"
   ]
  },
  {
   "cell_type": "markdown",
   "id": "86df1121",
   "metadata": {},
   "source": [
    "This cleaning process has left us with 6,183 unique App Store apps and 9,613 unique Android apps. "
   ]
  },
  {
   "cell_type": "markdown",
   "id": "685704dd",
   "metadata": {},
   "source": [
    "### Isolating Free Apps\n",
    "As mentioned in the introduction, the company is only interested in building apps which are *Free* to download and install, so we need to filter the cleaned data up to this point such that only free apps remain for our analysis.\n",
    "\n",
    "To do this, we initialise two more lists to hold the free english iOS apps and the free english Android apps, looping through the `english_apple_data_cleaned` and `english_android_data_cleaned` datasets to extract the apps that are free into each list."
   ]
  },
  {
   "cell_type": "code",
   "execution_count": 20,
   "id": "e66664bd",
   "metadata": {},
   "outputs": [
    {
     "name": "stdout",
     "output_type": "stream",
     "text": [
      "Number of free English apps in the App Store dataset: 3222\n",
      "\n",
      "\n",
      "Number of paid English apps in the App Store dataset: 2961\n",
      "\n",
      "\n",
      "Number of free English apps in the Google Play dataset: 8863\n",
      "\n",
      "\n",
      "Number of paid English apps in the Google Play dataset: 750\n"
     ]
    }
   ],
   "source": [
    "free_english_apple_data_cleaned = []\n",
    "paid_english_apple_data_cleaned = []\n",
    "\n",
    "for app in english_apple_data_cleaned:\n",
    "  price = app[4]\n",
    "  if price == \"0.0\":\n",
    "    free_english_apple_data_cleaned.append(app)\n",
    "  else:\n",
    "    paid_english_apple_data_cleaned.append(app)\n",
    "    \n",
    "free_english_android_data_cleaned = []\n",
    "paid_english_android_data_cleaned = []\n",
    "\n",
    "for app in english_android_data_cleaned:\n",
    "  price = app[7]\n",
    "  if price == \"0\":\n",
    "    free_english_android_data_cleaned.append(app)\n",
    "  else:\n",
    "    paid_english_android_data_cleaned.append(app)\n",
    "    \n",
    "print(\"Number of free English apps in the App Store dataset: \" + str(len(free_english_apple_data_cleaned)))\n",
    "print(\"\\n\")\n",
    "print(\"Number of paid English apps in the App Store dataset: \" + str(len(paid_english_apple_data_cleaned)))\n",
    "print(\"\\n\")\n",
    "print(\"Number of free English apps in the Google Play dataset: \" + str(len(free_english_android_data_cleaned)))\n",
    "print(\"\\n\")\n",
    "print(\"Number of paid English apps in the Google Play dataset: \" + str(len(paid_english_android_data_cleaned)))"
   ]
  },
  {
   "cell_type": "code",
   "execution_count": 21,
   "id": "d6e0d2d4",
   "metadata": {},
   "outputs": [
    {
     "name": "stdout",
     "output_type": "stream",
     "text": [
      "['284882215', 'Facebook', '389879808', 'USD', '0.0', '2974676', '212', '3.5', '3.5', '95.0', '4+', 'Social Networking', '37', '1', '29', '1']\n",
      "\n",
      "\n",
      "['389801252', 'Instagram', '113954816', 'USD', '0.0', '2161558', '1289', '4.5', '4.0', '10.23', '12+', 'Photo & Video', '37', '0', '29', '1']\n",
      "\n",
      "\n",
      "['529479190', 'Clash of Clans', '116476928', 'USD', '0.0', '2130805', '579', '4.5', '4.5', '9.24.12', '9+', 'Games', '38', '5', '18', '1']\n",
      "\n",
      "\n",
      "Number of rows: 3222\n",
      "Number of columns: 16\n",
      "--------------------------------------------------------------------------------------------------------------------------------------------------------------------------------------------------------\n",
      "['Photo Editor & Candy Camera & Grid & ScrapBook', 'ART_AND_DESIGN', '4.1', '159', '19M', '10,000+', 'Free', '0', 'Everyone', 'Art & Design', 'January 7, 2018', '1.0.0', '4.0.3 and up']\n",
      "\n",
      "\n",
      "['U Launcher Lite – FREE Live Cool Themes, Hide Apps', 'ART_AND_DESIGN', '4.7', '87510', '8.7M', '5,000,000+', 'Free', '0', 'Everyone', 'Art & Design', 'August 1, 2018', '1.2.4', '4.0.3 and up']\n",
      "\n",
      "\n",
      "['Sketch - Draw & Paint', 'ART_AND_DESIGN', '4.5', '215644', '25M', '50,000,000+', 'Free', '0', 'Teen', 'Art & Design', 'June 8, 2018', 'Varies with device', '4.2 and up']\n",
      "\n",
      "\n",
      "Number of rows: 8863\n",
      "Number of columns: 13\n"
     ]
    }
   ],
   "source": [
    "line_break = \"-\" * 200\n",
    "\n",
    "explore_data(free_english_apple_data_cleaned, 0, 3, show_rows_and_columns=True, header=False)\n",
    "print(line_break)\n",
    "explore_data(free_english_android_data_cleaned, 0, 3, show_rows_and_columns=True, header=False)"
   ]
  },
  {
   "cell_type": "markdown",
   "id": "d2110182",
   "metadata": {},
   "source": [
    "After filtering to ensure all of the apps are free, we are left with 3,222 iOS apps and 8,863 Android apps for our analysis."
   ]
  },
  {
   "cell_type": "markdown",
   "id": "ecf91886",
   "metadata": {},
   "source": [
    "## Analysis: Profitable App Profiles\n",
    "\n",
    "To minimize risk and overhead, the company suggests a **validation strategy** for an app idea:\n",
    "\n",
    ">1. Build a minimal Android version of the app and add it to the Google Play market.\n",
    ">\n",
    ">2. If the app receieves a good response from users, further develop the app.\n",
    ">\n",
    ">3. If the app is profitable after the first 6-month period, build an iOS version of the app and add it to the Apple App Store.\n",
    "\n",
    "\n",
    "Since the end goal is to add apps to both marketplaces, we need to identify app profiles that are likely to be successful in both markets. \n",
    "\n",
    "#### We can begin our analysis by determining the most common genres for each marketplace.\n",
    "\n",
    "We first define a `freq_table()` function with parameters `dataset` (a list of lists), `column` (the column number) and  a kwarg `percentage` which is set to False by default. The function generates a dictionary with keys that correspond to all unique datapoints in the specified column. The value of each of the keys in the dictionary is an integer value representing the number of occurences of the key in the specified column (*i.e.,* the frequency). \n",
    "\n",
    "If the `percentage` kwarg is set to true, the frequency values will be converted into percentages.\n"
   ]
  },
  {
   "cell_type": "code",
   "execution_count": 22,
   "id": "8c667427",
   "metadata": {},
   "outputs": [
    {
     "data": {
      "text/plain": [
       "{'Social Networking': '3.29%',\n",
       " 'Photo & Video': '4.97%',\n",
       " 'Games': '58.16%',\n",
       " 'Music': '2.05%',\n",
       " 'Reference': '0.56%',\n",
       " 'Health & Fitness': '2.02%',\n",
       " 'Weather': '0.87%',\n",
       " 'Utilities': '2.51%',\n",
       " 'Travel': '1.24%',\n",
       " 'Shopping': '2.61%',\n",
       " 'News': '1.33%',\n",
       " 'Navigation': '0.19%',\n",
       " 'Lifestyle': '1.58%',\n",
       " 'Entertainment': '7.88%',\n",
       " 'Food & Drink': '0.81%',\n",
       " 'Sports': '2.14%',\n",
       " 'Book': '0.43%',\n",
       " 'Finance': '1.12%',\n",
       " 'Education': '3.66%',\n",
       " 'Productivity': '1.74%',\n",
       " 'Business': '0.53%',\n",
       " 'Catalogs': '0.12%',\n",
       " 'Medical': '0.19%'}"
      ]
     },
     "execution_count": 22,
     "metadata": {},
     "output_type": "execute_result"
    }
   ],
   "source": [
    "def freq_table(dataset, column, percentage=False):\n",
    "  frequency_table = {}\n",
    "  for row in dataset:\n",
    "    value = row[column]\n",
    "    if value in frequency_table:\n",
    "      frequency_table[value] += 1\n",
    "    else:\n",
    "      frequency_table[value] = 1\n",
    "      \n",
    "  if percentage:\n",
    "    total_frequency = sum(frequency_table.values())\n",
    "    for key in frequency_table:\n",
    "      frequency_table[key] = str(round((frequency_table[key] / total_frequency) * 100, 2)) + \"%\"\n",
    "      \n",
    "  return frequency_table\n",
    "\n",
    "freq_table(free_english_apple_data_cleaned, column=11, percentage=True) \n",
    "# generates a frequency table for the prime_genre column in the App Store dataset, listing the results as a percentage of the total number of apps"
   ]
  },
  {
   "cell_type": "markdown",
   "id": "116a5b55",
   "metadata": {},
   "source": [
    "To improve the clarity of the `freq_table()` output, we define another function `display_table()` to display the same results as the `freq_table()` function in descending order. Since dictionaries are not ordered, we must convert the data structure into another type that can be sorted.\n",
    "\n",
    "To do this, we first initiate the `table` variable which is the frequency table produced for a given dataset, column and percentage (True/False) followed by a `table_display` list. We then write a for loop to iterate over the keys of `table` dictionary, creating a value-key tuple pair for every key:value pair in the `table` dictionary. These tuple pairs are then appended to the `table_display` list. \n",
    "\n",
    "If the percentage parameter is assigned to False, the `table_display` list is sorted (using the `sorted()` function). This list consists of tuples as elements in the form `(value, key)`, meaning the sorted function will order the elements with the largest value to the smallest value (since the `reverse` parameter is set to True). We then print `key : value` for each entry in the `table_sorted` variable to give the desired result.\n",
    "\n",
    "The same logic applies if the percentage parameter is assigned to False, except the values in the `table` dictionary must first be converted to floats (and have the `%` character removed) such that the values can be sorted numerically to give the desired output."
   ]
  },
  {
   "cell_type": "code",
   "execution_count": 23,
   "id": "74f630b6",
   "metadata": {},
   "outputs": [],
   "source": [
    "def display_table(dataset, column, percentage):\n",
    "    table = freq_table(dataset, column, percentage)\n",
    "    table_display = []\n",
    "    \n",
    "    for key in table:\n",
    "        key_val_as_tuple = (table[key], key)\n",
    "        table_display.append(key_val_as_tuple)\n",
    "    \n",
    "    if not percentage:\n",
    "            table_sorted = sorted(table_display, reverse = True)\n",
    "            for entry in table_sorted:\n",
    "                print(entry[1], ':', entry[0])\n",
    "                \n",
    "    else:   # the else clause runs if percentage = True. the logic is the same as above, except the values are converted to floats and stripped of the \"%\" character to be sorted numerically. \n",
    "        table_display = []\n",
    "        \n",
    "        for key in table:\n",
    "            key_val_as_tuple = (float(table[key].strip(\"%\")), key)\n",
    "            table_display.append(key_val_as_tuple)\n",
    "            table_sorted = sorted(table_display, reverse = True)\n",
    "            \n",
    "        for entry in table_sorted:\n",
    "            print(entry[1], ':', str(entry[0]) + \"%\")\n"
   ]
  },
  {
   "cell_type": "markdown",
   "id": "72d45e49",
   "metadata": {},
   "source": [
    "#### App Store: Most Common Genres"
   ]
  },
  {
   "cell_type": "code",
   "execution_count": 24,
   "id": "0023024b",
   "metadata": {},
   "outputs": [
    {
     "name": "stdout",
     "output_type": "stream",
     "text": [
      "Games : 1874\n",
      "Entertainment : 254\n",
      "Photo & Video : 160\n",
      "Education : 118\n",
      "Social Networking : 106\n",
      "Shopping : 84\n",
      "Utilities : 81\n",
      "Sports : 69\n",
      "Music : 66\n",
      "Health & Fitness : 65\n",
      "Productivity : 56\n",
      "Lifestyle : 51\n",
      "News : 43\n",
      "Travel : 40\n",
      "Finance : 36\n",
      "Weather : 28\n",
      "Food & Drink : 26\n",
      "Reference : 18\n",
      "Business : 17\n",
      "Book : 14\n",
      "Navigation : 6\n",
      "Medical : 6\n",
      "Catalogs : 4\n"
     ]
    }
   ],
   "source": [
    "free_english_apple_genres_frequencies = display_table(free_english_apple_data_cleaned, column=11, percentage=False) # generates a frequency table for the prime_genre column in the App Store dataset"
   ]
  },
  {
   "cell_type": "code",
   "execution_count": 25,
   "id": "f54ae53e",
   "metadata": {},
   "outputs": [
    {
     "name": "stdout",
     "output_type": "stream",
     "text": [
      "Games : 58.16%\n",
      "Entertainment : 7.88%\n",
      "Photo & Video : 4.97%\n",
      "Education : 3.66%\n",
      "Social Networking : 3.29%\n",
      "Shopping : 2.61%\n",
      "Utilities : 2.51%\n",
      "Sports : 2.14%\n",
      "Music : 2.05%\n",
      "Health & Fitness : 2.02%\n",
      "Productivity : 1.74%\n",
      "Lifestyle : 1.58%\n",
      "News : 1.33%\n",
      "Travel : 1.24%\n",
      "Finance : 1.12%\n",
      "Weather : 0.87%\n",
      "Food & Drink : 0.81%\n",
      "Reference : 0.56%\n",
      "Business : 0.53%\n",
      "Book : 0.43%\n",
      "Navigation : 0.19%\n",
      "Medical : 0.19%\n",
      "Catalogs : 0.12%\n"
     ]
    }
   ],
   "source": [
    "free_english_apple_genre_percentages = display_table(free_english_apple_data_cleaned, column=11, percentage=True) # generates a percentage breakdown for the prime_genre column in the App Store dataset"
   ]
  },
  {
   "cell_type": "markdown",
   "id": "7bec3aa0",
   "metadata": {},
   "source": [
    "Among **Free English Apps** on the App Store, over half of all apps in this subset (58.16%) fall into the gaming genre. Entertainment apps are close to 8%, followed by Photo & Video apps which are just under 5%. Only 3.66% of apps are designed for Education, followed by Social Networking apps, making up only 3.29% of the Free English app market.\n",
    "\n",
    "The general impression this breakdown provides is that Free English apps on the App Store are dominated by apps designed for gaming and entertainment rather than apps designed for practical purposes/utility (such as education, shopping, productivity, lifestyle). \n",
    "\n",
    "This does not necessarily mean that apps falling into these largest genres also have the greatest number of users however. We do not have any insight into the number of users within each genre (we will probe into this more deeply below)."
   ]
  },
  {
   "cell_type": "markdown",
   "id": "6efa72f9",
   "metadata": {},
   "source": [
    "#### Google Play Store: Most Common Categories"
   ]
  },
  {
   "cell_type": "code",
   "execution_count": 26,
   "id": "db18af15",
   "metadata": {},
   "outputs": [
    {
     "name": "stdout",
     "output_type": "stream",
     "text": [
      "FAMILY : 1675\n",
      "GAME : 862\n",
      "TOOLS : 750\n",
      "BUSINESS : 407\n",
      "LIFESTYLE : 346\n",
      "PRODUCTIVITY : 345\n",
      "FINANCE : 328\n",
      "MEDICAL : 313\n",
      "SPORTS : 301\n",
      "PERSONALIZATION : 294\n",
      "COMMUNICATION : 287\n",
      "HEALTH_AND_FITNESS : 273\n",
      "PHOTOGRAPHY : 261\n",
      "NEWS_AND_MAGAZINES : 248\n",
      "SOCIAL : 236\n",
      "TRAVEL_AND_LOCAL : 207\n",
      "SHOPPING : 199\n",
      "BOOKS_AND_REFERENCE : 190\n",
      "DATING : 165\n",
      "VIDEO_PLAYERS : 159\n",
      "MAPS_AND_NAVIGATION : 124\n",
      "FOOD_AND_DRINK : 110\n",
      "EDUCATION : 103\n",
      "ENTERTAINMENT : 85\n",
      "LIBRARIES_AND_DEMO : 83\n",
      "AUTO_AND_VEHICLES : 82\n",
      "HOUSE_AND_HOME : 73\n",
      "WEATHER : 71\n",
      "EVENTS : 63\n",
      "PARENTING : 58\n",
      "ART_AND_DESIGN : 57\n",
      "COMICS : 55\n",
      "BEAUTY : 53\n"
     ]
    }
   ],
   "source": [
    "free_english_android_category_frequencies = display_table(free_english_android_data_cleaned, column=1, percentage=False) # generates a frequency table for the Category column in the Google Play dataset"
   ]
  },
  {
   "cell_type": "code",
   "execution_count": 27,
   "id": "092644ec",
   "metadata": {},
   "outputs": [
    {
     "name": "stdout",
     "output_type": "stream",
     "text": [
      "FAMILY : 18.9%\n",
      "GAME : 9.73%\n",
      "TOOLS : 8.46%\n",
      "BUSINESS : 4.59%\n",
      "LIFESTYLE : 3.9%\n",
      "PRODUCTIVITY : 3.89%\n",
      "FINANCE : 3.7%\n",
      "MEDICAL : 3.53%\n",
      "SPORTS : 3.4%\n",
      "PERSONALIZATION : 3.32%\n",
      "COMMUNICATION : 3.24%\n",
      "HEALTH_AND_FITNESS : 3.08%\n",
      "PHOTOGRAPHY : 2.94%\n",
      "NEWS_AND_MAGAZINES : 2.8%\n",
      "SOCIAL : 2.66%\n",
      "TRAVEL_AND_LOCAL : 2.34%\n",
      "SHOPPING : 2.25%\n",
      "BOOKS_AND_REFERENCE : 2.14%\n",
      "DATING : 1.86%\n",
      "VIDEO_PLAYERS : 1.79%\n",
      "MAPS_AND_NAVIGATION : 1.4%\n",
      "FOOD_AND_DRINK : 1.24%\n",
      "EDUCATION : 1.16%\n",
      "ENTERTAINMENT : 0.96%\n",
      "LIBRARIES_AND_DEMO : 0.94%\n",
      "AUTO_AND_VEHICLES : 0.93%\n",
      "HOUSE_AND_HOME : 0.82%\n",
      "WEATHER : 0.8%\n",
      "EVENTS : 0.71%\n",
      "PARENTING : 0.65%\n",
      "ART_AND_DESIGN : 0.64%\n",
      "COMICS : 0.62%\n",
      "BEAUTY : 0.6%\n"
     ]
    }
   ],
   "source": [
    "free_english_android_category_percentages = display_table(free_english_android_data_cleaned, column=1, percentage=True) # generates a percentage breakdown for the Category column in the Google Play dataset"
   ]
  },
  {
   "cell_type": "markdown",
   "id": "d7a4e9d3",
   "metadata": {},
   "source": [
    "The landscape of the **Free English apps** on the Google Play marketplace seems notably different than the App Store. There are fewer apps designed for fun (Games, Entertaiment etc.) with a larger proportion designed for practical purposes (Tools, Business, Lifestyle, Productivity). The largest categories include `FAMILY` and `GAME`, making up just over one quarter of all Free English apps analysed (28.63%). \n",
    "\n",
    "Investigating more deeply into the types of apps with the `FAMILY` category, we note that the majority are games designed for young children (see code cell below), meaning around a quarter of all Free English apps in the sample fall into the gaming genre.\n",
    "\n",
    "Even so, it is still interesting to note that practical apps do seem to have a better representation on the Google Play store than the apps featured in the App Store dataset."
   ]
  },
  {
   "cell_type": "code",
   "execution_count": 28,
   "id": "68de875c",
   "metadata": {},
   "outputs": [
    {
     "data": {
      "text/plain": [
       "['Jewels Crush- Match 3 Puzzle',\n",
       " 'Coloring & Learn',\n",
       " 'Mahjong',\n",
       " 'Super ABC! Learning games for kids! Preschool apps',\n",
       " 'Toy Pop Cubes',\n",
       " 'Educational Games 4 Kids',\n",
       " 'Candy Pop Story',\n",
       " 'Princess Coloring Book',\n",
       " 'Hello Kitty Nail Salon',\n",
       " 'Candy Smash',\n",
       " 'Happy Fruits Bomb - Cube Blast',\n",
       " 'Princess Adventures Puzzles',\n",
       " 'Kids Educational Game 3 Free',\n",
       " 'Puzzle Kids - Animals Shapes and Jigsaw Puzzles',\n",
       " 'Coloring book moana',\n",
       " 'Baby Panda Care',\n",
       " 'Kids Educational :All in One',\n",
       " 'Number Counting games for toddler preschool kids',\n",
       " 'Learn To Draw Glow Flower',\n",
       " 'No. Color - Color by Number, Number Coloring',\n",
       " 'Draw.ly - Color by Number Pixel Art Coloring',\n",
       " 'Baby puzzles',\n",
       " 'Garden Fruit Legend',\n",
       " 'Barbie™ Fashion Closet',\n",
       " 'Candy Day']"
      ]
     },
     "execution_count": 28,
     "metadata": {},
     "output_type": "execute_result"
    }
   ],
   "source": [
    "android_family_apps = []\n",
    "\n",
    "for app in free_english_android_data_cleaned:\n",
    "  app_name = app[0]\n",
    "  category = app[1]\n",
    "  if category == \"FAMILY\":\n",
    "    android_family_apps.append(app_name)\n",
    "\n",
    "android_family_apps[:25]"
   ]
  },
  {
   "cell_type": "markdown",
   "id": "38ee3df5",
   "metadata": {},
   "source": [
    "#### Google Play Store: Most Common Genres"
   ]
  },
  {
   "cell_type": "code",
   "execution_count": 29,
   "id": "95b0ab6d",
   "metadata": {},
   "outputs": [
    {
     "name": "stdout",
     "output_type": "stream",
     "text": [
      "Tools : 749\n",
      "Entertainment : 538\n",
      "Education : 474\n",
      "Business : 407\n",
      "Productivity : 345\n",
      "Lifestyle : 345\n",
      "Finance : 328\n",
      "Medical : 313\n",
      "Sports : 307\n",
      "Personalization : 294\n",
      "Communication : 287\n",
      "Action : 275\n",
      "Health & Fitness : 273\n",
      "Photography : 261\n",
      "News & Magazines : 248\n",
      "Social : 236\n",
      "Travel & Local : 206\n",
      "Shopping : 199\n",
      "Books & Reference : 190\n",
      "Simulation : 181\n",
      "Dating : 165\n",
      "Arcade : 164\n",
      "Video Players & Editors : 157\n",
      "Casual : 156\n",
      "Maps & Navigation : 124\n",
      "Food & Drink : 110\n",
      "Puzzle : 100\n",
      "Racing : 88\n",
      "Role Playing : 83\n",
      "Libraries & Demo : 83\n",
      "Auto & Vehicles : 82\n",
      "Strategy : 80\n",
      "House & Home : 73\n",
      "Weather : 71\n",
      "Events : 63\n",
      "Adventure : 60\n",
      "Comics : 54\n",
      "Beauty : 53\n",
      "Art & Design : 53\n",
      "Parenting : 44\n",
      "Card : 40\n",
      "Casino : 38\n",
      "Trivia : 37\n",
      "Educational;Education : 35\n",
      "Board : 34\n",
      "Educational : 33\n",
      "Education;Education : 30\n",
      "Word : 23\n",
      "Casual;Pretend Play : 21\n",
      "Music : 18\n",
      "Racing;Action & Adventure : 15\n",
      "Puzzle;Brain Games : 15\n",
      "Entertainment;Music & Video : 15\n",
      "Casual;Brain Games : 12\n",
      "Casual;Action & Adventure : 12\n",
      "Arcade;Action & Adventure : 11\n",
      "Action;Action & Adventure : 9\n",
      "Educational;Pretend Play : 8\n",
      "Simulation;Action & Adventure : 7\n",
      "Parenting;Education : 7\n",
      "Entertainment;Brain Games : 7\n",
      "Board;Brain Games : 7\n",
      "Parenting;Music & Video : 6\n",
      "Educational;Brain Games : 6\n",
      "Casual;Creativity : 6\n",
      "Art & Design;Creativity : 6\n",
      "Education;Pretend Play : 5\n",
      "Role Playing;Pretend Play : 4\n",
      "Education;Creativity : 4\n",
      "Role Playing;Action & Adventure : 3\n",
      "Puzzle;Action & Adventure : 3\n",
      "Entertainment;Creativity : 3\n",
      "Entertainment;Action & Adventure : 3\n",
      "Educational;Creativity : 3\n",
      "Educational;Action & Adventure : 3\n",
      "Education;Music & Video : 3\n",
      "Education;Brain Games : 3\n",
      "Education;Action & Adventure : 3\n",
      "Adventure;Action & Adventure : 3\n",
      "Video Players & Editors;Music & Video : 2\n",
      "Sports;Action & Adventure : 2\n",
      "Simulation;Pretend Play : 2\n",
      "Puzzle;Creativity : 2\n",
      "Music;Music & Video : 2\n",
      "Entertainment;Pretend Play : 2\n",
      "Casual;Education : 2\n",
      "Board;Action & Adventure : 2\n",
      "Video Players & Editors;Creativity : 1\n",
      "Trivia;Education : 1\n",
      "Travel & Local;Action & Adventure : 1\n",
      "Tools;Education : 1\n",
      "Strategy;Education : 1\n",
      "Strategy;Creativity : 1\n",
      "Strategy;Action & Adventure : 1\n",
      "Simulation;Education : 1\n",
      "Role Playing;Brain Games : 1\n",
      "Racing;Pretend Play : 1\n",
      "Puzzle;Education : 1\n",
      "Parenting;Brain Games : 1\n",
      "Music & Audio;Music & Video : 1\n",
      "Lifestyle;Pretend Play : 1\n",
      "Lifestyle;Education : 1\n",
      "Health & Fitness;Education : 1\n",
      "Health & Fitness;Action & Adventure : 1\n",
      "Entertainment;Education : 1\n",
      "Communication;Creativity : 1\n",
      "Comics;Creativity : 1\n",
      "Casual;Music & Video : 1\n",
      "Card;Action & Adventure : 1\n",
      "Books & Reference;Education : 1\n",
      "Art & Design;Pretend Play : 1\n",
      "Art & Design;Action & Adventure : 1\n",
      "Arcade;Pretend Play : 1\n",
      "Adventure;Education : 1\n"
     ]
    }
   ],
   "source": [
    "free_english_android_genres_frequencies = display_table(free_english_android_data_cleaned, column=9, percentage=False) # generates a frequency table for the Genres column in the Google Play dataset"
   ]
  },
  {
   "cell_type": "code",
   "execution_count": 30,
   "id": "e046767b",
   "metadata": {},
   "outputs": [
    {
     "name": "stdout",
     "output_type": "stream",
     "text": [
      "Tools : 8.45%\n",
      "Entertainment : 6.07%\n",
      "Education : 5.35%\n",
      "Business : 4.59%\n",
      "Productivity : 3.89%\n",
      "Lifestyle : 3.89%\n",
      "Finance : 3.7%\n",
      "Medical : 3.53%\n",
      "Sports : 3.46%\n",
      "Personalization : 3.32%\n",
      "Communication : 3.24%\n",
      "Action : 3.1%\n",
      "Health & Fitness : 3.08%\n",
      "Photography : 2.94%\n",
      "News & Magazines : 2.8%\n",
      "Social : 2.66%\n",
      "Travel & Local : 2.32%\n",
      "Shopping : 2.25%\n",
      "Books & Reference : 2.14%\n",
      "Simulation : 2.04%\n",
      "Dating : 1.86%\n",
      "Arcade : 1.85%\n",
      "Video Players & Editors : 1.77%\n",
      "Casual : 1.76%\n",
      "Maps & Navigation : 1.4%\n",
      "Food & Drink : 1.24%\n",
      "Puzzle : 1.13%\n",
      "Racing : 0.99%\n",
      "Role Playing : 0.94%\n",
      "Libraries & Demo : 0.94%\n",
      "Auto & Vehicles : 0.93%\n",
      "Strategy : 0.9%\n",
      "House & Home : 0.82%\n",
      "Weather : 0.8%\n",
      "Events : 0.71%\n",
      "Adventure : 0.68%\n",
      "Comics : 0.61%\n",
      "Beauty : 0.6%\n",
      "Art & Design : 0.6%\n",
      "Parenting : 0.5%\n",
      "Card : 0.45%\n",
      "Casino : 0.43%\n",
      "Trivia : 0.42%\n",
      "Educational;Education : 0.39%\n",
      "Board : 0.38%\n",
      "Educational : 0.37%\n",
      "Education;Education : 0.34%\n",
      "Word : 0.26%\n",
      "Casual;Pretend Play : 0.24%\n",
      "Music : 0.2%\n",
      "Racing;Action & Adventure : 0.17%\n",
      "Puzzle;Brain Games : 0.17%\n",
      "Entertainment;Music & Video : 0.17%\n",
      "Casual;Brain Games : 0.14%\n",
      "Casual;Action & Adventure : 0.14%\n",
      "Arcade;Action & Adventure : 0.12%\n",
      "Action;Action & Adventure : 0.1%\n",
      "Educational;Pretend Play : 0.09%\n",
      "Simulation;Action & Adventure : 0.08%\n",
      "Parenting;Education : 0.08%\n",
      "Entertainment;Brain Games : 0.08%\n",
      "Board;Brain Games : 0.08%\n",
      "Parenting;Music & Video : 0.07%\n",
      "Educational;Brain Games : 0.07%\n",
      "Casual;Creativity : 0.07%\n",
      "Art & Design;Creativity : 0.07%\n",
      "Education;Pretend Play : 0.06%\n",
      "Role Playing;Pretend Play : 0.05%\n",
      "Education;Creativity : 0.05%\n",
      "Role Playing;Action & Adventure : 0.03%\n",
      "Puzzle;Action & Adventure : 0.03%\n",
      "Entertainment;Creativity : 0.03%\n",
      "Entertainment;Action & Adventure : 0.03%\n",
      "Educational;Creativity : 0.03%\n",
      "Educational;Action & Adventure : 0.03%\n",
      "Education;Music & Video : 0.03%\n",
      "Education;Brain Games : 0.03%\n",
      "Education;Action & Adventure : 0.03%\n",
      "Adventure;Action & Adventure : 0.03%\n",
      "Video Players & Editors;Music & Video : 0.02%\n",
      "Sports;Action & Adventure : 0.02%\n",
      "Simulation;Pretend Play : 0.02%\n",
      "Puzzle;Creativity : 0.02%\n",
      "Music;Music & Video : 0.02%\n",
      "Entertainment;Pretend Play : 0.02%\n",
      "Casual;Education : 0.02%\n",
      "Board;Action & Adventure : 0.02%\n",
      "Video Players & Editors;Creativity : 0.01%\n",
      "Trivia;Education : 0.01%\n",
      "Travel & Local;Action & Adventure : 0.01%\n",
      "Tools;Education : 0.01%\n",
      "Strategy;Education : 0.01%\n",
      "Strategy;Creativity : 0.01%\n",
      "Strategy;Action & Adventure : 0.01%\n",
      "Simulation;Education : 0.01%\n",
      "Role Playing;Brain Games : 0.01%\n",
      "Racing;Pretend Play : 0.01%\n",
      "Puzzle;Education : 0.01%\n",
      "Parenting;Brain Games : 0.01%\n",
      "Music & Audio;Music & Video : 0.01%\n",
      "Lifestyle;Pretend Play : 0.01%\n",
      "Lifestyle;Education : 0.01%\n",
      "Health & Fitness;Education : 0.01%\n",
      "Health & Fitness;Action & Adventure : 0.01%\n",
      "Entertainment;Education : 0.01%\n",
      "Communication;Creativity : 0.01%\n",
      "Comics;Creativity : 0.01%\n",
      "Casual;Music & Video : 0.01%\n",
      "Card;Action & Adventure : 0.01%\n",
      "Books & Reference;Education : 0.01%\n",
      "Art & Design;Pretend Play : 0.01%\n",
      "Art & Design;Action & Adventure : 0.01%\n",
      "Arcade;Pretend Play : 0.01%\n",
      "Adventure;Education : 0.01%\n"
     ]
    }
   ],
   "source": [
    "free_english_android_genres_percentages = display_table(free_english_android_data_cleaned, column=9, percentage=True)"
   ]
  },
  {
   "cell_type": "markdown",
   "id": "e2e89737",
   "metadata": {},
   "source": [
    "Comparing the results of the `Genres` column to the `Catgeory` column within the Google Play dataset, we note that the `Genres` column is more granular, containing more categories. The exact difference between the two is not obvious, but the most common genres in the `Genres` column seem to generally align with the most common categories listed above from the `Categories` column. Since we are only interested in insights at a higher level, we can just focus on the `Category` column as this is more coarse (i.e., less granular).\n",
    "\n",
    "We can now turn our attention to analysing the most popular apps by genre on both marketplaces."
   ]
  },
  {
   "cell_type": "markdown",
   "id": "70c2a7da",
   "metadata": {},
   "source": [
    "### Most Popular Apps by Genre on the App Store\n",
    "One route we can take to determine what genres have the largest user base is to calculate the average number of installs for each app genre. We can use the `Installs` column when working with the Google Play dataset, but this information is not readily available for the App Store data.\n",
    "\n",
    "As a workaround, we can use the total number of user ratings (`rating_count_tot`) as a proxy."
   ]
  },
  {
   "cell_type": "code",
   "execution_count": 31,
   "id": "c82b1f6d",
   "metadata": {},
   "outputs": [
    {
     "name": "stdout",
     "output_type": "stream",
     "text": [
      "Social Networking : 71548.35\n",
      "Photo & Video : 28441.54\n",
      "Games : 22788.67\n",
      "Music : 57326.53\n",
      "Reference : 74942.11\n",
      "Health & Fitness : 23298.02\n",
      "Weather : 52279.89\n",
      "Utilities : 18684.46\n",
      "Travel : 28243.8\n",
      "Shopping : 26919.69\n",
      "News : 21248.02\n",
      "Navigation : 86090.33\n",
      "Lifestyle : 16485.76\n",
      "Entertainment : 14029.83\n",
      "Food & Drink : 33333.92\n",
      "Sports : 23008.9\n",
      "Book : 39758.5\n",
      "Finance : 31467.94\n",
      "Education : 7003.98\n",
      "Productivity : 21028.41\n",
      "Business : 7491.12\n",
      "Catalogs : 4004.0\n",
      "Medical : 612.0\n"
     ]
    }
   ],
   "source": [
    "free_english_apple_genres_frequencies = freq_table(free_english_apple_data_cleaned, column=11, percentage=False)\n",
    "\n",
    "for genre in free_english_apple_genres_frequencies:\n",
    "  total = 0\n",
    "  len_genre = 0\n",
    "  for app in free_english_apple_data_cleaned:\n",
    "    genre_app = app[11]\n",
    "    if genre_app == genre:\n",
    "      n_ratings = float(app[5])\n",
    "      total += n_ratings\n",
    "      len_genre += 1\n",
    "      \n",
    "  avg_n_ratings = round(total / len_genre, 2)\n",
    "  print(genre, ':', avg_n_ratings)"
   ]
  },
  {
   "cell_type": "markdown",
   "id": "46187bce",
   "metadata": {},
   "source": [
    "On average, navigation apps have the greatest average number of user ratings. The average is heavily influenced by Waze and Google Maps, which almost have half a million reviews together. Considering the median is preferable to negate the influence of these extreme values. \n",
    "\n",
    "A median of just under 8,200 ratings is still relatively **large** for a genre as a whole, so there could be some potential here. It is worth noting however that there are only 5 datapoints for this genre over the entire dataset, so it is difficult to confidently state the median value of 8,200 is representative of the true average if this was repeated with a larger sample size. \n",
    "\n",
    ">Even so, it could still be worth looking into for the company as the market is definitely not oversaturated in this genre!"
   ]
  },
  {
   "cell_type": "code",
   "execution_count": 32,
   "id": "64d0daf3",
   "metadata": {},
   "outputs": [
    {
     "name": "stdout",
     "output_type": "stream",
     "text": [
      "Waze - GPS Navigation, Maps & Real-time Traffic : 345046\n",
      "Google Maps - Navigation & Transit : 154911\n",
      "Geocaching® : 12811\n",
      "CoPilot GPS – Car Navigation & Offline Maps : 3582\n",
      "ImmobilienScout24: Real Estate Search in Germany : 187\n",
      "Railway Route Search : 5\n",
      "\n",
      "\n",
      "Median: 8196.5\n"
     ]
    }
   ],
   "source": [
    "for app in free_english_apple_data_cleaned:\n",
    "  if app[11] == \"Navigation\":\n",
    "    print(app[1], ':', app[5])\n",
    "\n",
    "print(\"\\n\")    \n",
    "print(\"Median: \" + str((12811+3582)/2))"
   ]
  },
  {
   "cell_type": "markdown",
   "id": "c782ebd5",
   "metadata": {},
   "source": [
    "The Social Networking genre is similarly challenging to break into as the highest rated networking apps (Facebook, Pinterest, Skype, Messenger, etc.) disproportionately drive up the mean total user ratings. \n",
    "\n",
    "If we take the median for the Social Networking genre, we have a smaller middling value of 4,199 total ratings. The market is also far more saturated in this particular genre, so we can expect a Social Networking app to be a lot more challenging to make work.\n",
    "\n",
    "A similar story applies to other big genres like the Music genre (Pandora, Spotify and Shazam all significantly skew the average). We could remove the extremely popular apps within each genre for a more balanced picture, but this level of detail can be implemented at a later date."
   ]
  },
  {
   "cell_type": "code",
   "execution_count": 33,
   "id": "3bdc6bc3",
   "metadata": {},
   "outputs": [
    {
     "name": "stdout",
     "output_type": "stream",
     "text": [
      "Facebook : 2974676\n",
      "Pinterest : 1061624\n",
      "Skype for iPhone : 373519\n",
      "Messenger : 351466\n",
      "Tumblr : 334293\n",
      "WhatsApp Messenger : 287589\n",
      "Kik : 260965\n",
      "ooVoo – Free Video Call, Text and Voice : 177501\n",
      "TextNow - Unlimited Text + Calls : 164963\n",
      "Viber Messenger – Text & Call : 164249\n",
      "Followers - Social Analytics For Instagram : 112778\n",
      "MeetMe - Chat and Meet New People : 97072\n",
      "We Heart It - Fashion, wallpapers, quotes, tattoos : 90414\n",
      "InsTrack for Instagram - Analytics Plus More : 85535\n",
      "Tango - Free Video Call, Voice and Chat : 75412\n",
      "LinkedIn : 71856\n",
      "Match™ - #1 Dating App. : 60659\n",
      "Skype for iPad : 60163\n",
      "POF - Best Dating App for Conversations : 52642\n",
      "Timehop : 49510\n",
      "Find My Family, Friends & iPhone - Life360 Locator : 43877\n",
      "Whisper - Share, Express, Meet : 39819\n",
      "Hangouts : 36404\n",
      "LINE PLAY - Your Avatar World : 34677\n",
      "WeChat : 34584\n",
      "Badoo - Meet New People, Chat, Socialize. : 34428\n",
      "Followers + for Instagram - Follower Analytics : 28633\n",
      "GroupMe : 28260\n",
      "Marco Polo Video Walkie Talkie : 27662\n",
      "Miitomo : 23965\n",
      "SimSimi : 23530\n",
      "Grindr - Gay and same sex guys chat, meet and date : 23201\n",
      "Wishbone - Compare Anything : 20649\n",
      "imo video calls and chat : 18841\n",
      "After School - Funny Anonymous School News : 18482\n",
      "Quick Reposter - Repost, Regram and Reshare Photos : 17694\n",
      "Weibo HD : 16772\n",
      "Repost for Instagram : 15185\n",
      "Live.me – Live Video Chat & Make Friends Nearby : 14724\n",
      "Nextdoor : 14402\n",
      "Followers Analytics for Instagram - InstaReport : 13914\n",
      "YouNow: Live Stream Video Chat : 12079\n",
      "FollowMeter for Instagram - Followers Tracking : 11976\n",
      "LINE : 11437\n",
      "eHarmony™ Dating App - Meet Singles : 11124\n",
      "Discord - Chat for Gamers : 9152\n",
      "QQ : 9109\n",
      "Telegram Messenger : 7573\n",
      "Weibo : 7265\n",
      "Periscope - Live Video Streaming Around the World : 6062\n",
      "Chat for Whatsapp - iPad Version : 5060\n",
      "QQ HD : 5058\n",
      "Followers Analysis Tool For Instagram App Free : 4253\n",
      "live.ly - live video streaming : 4145\n",
      "Houseparty - Group Video Chat : 3991\n",
      "SOMA Messenger : 3232\n",
      "Monkey : 3060\n",
      "Down To Lunch : 2535\n",
      "Flinch - Video Chat Staring Contest : 2134\n",
      "Highrise - Your Avatar Community : 2011\n",
      "LOVOO - Dating Chat : 1985\n",
      "PlayStation®Messages : 1918\n",
      "BOO! - Video chat camera with filters & stickers : 1805\n",
      "Qzone : 1649\n",
      "Chatous - Chat with new people : 1609\n",
      "Kiwi - Q&A : 1538\n",
      "GhostCodes - a discovery app for Snapchat : 1313\n",
      "Jodel : 1193\n",
      "FireChat : 1037\n",
      "Google Duo - simple video calling : 1033\n",
      "Fiesta by Tango - Chat & Meet New People : 885\n",
      "Google Allo — smart messaging : 862\n",
      "Peach — share vividly : 727\n",
      "Hey! VINA - Where Women Meet New Friends : 719\n",
      "Battlefield™ Companion : 689\n",
      "All Devices for WhatsApp - Messenger for iPad : 682\n",
      "Chat for Pokemon Go - GoChat : 500\n",
      "IAmNaughty – Dating App to Meet New People Online : 463\n",
      "Qzone HD : 458\n",
      "Zenly - Locate your friends in realtime : 427\n",
      "League of Legends Friends : 420\n",
      "豆瓣 : 407\n",
      "Candid - Speak Your Mind Freely : 398\n",
      "知乎 : 397\n",
      "Selfeo : 366\n",
      "Fake-A-Location Free ™ : 354\n",
      "Popcorn Buzz - Free Group Calls : 281\n",
      "Fam — Group video calling for iMessage : 279\n",
      "QQ International : 274\n",
      "Ameba : 269\n",
      "SoundCloud Pulse: for creators : 240\n",
      "Tantan : 235\n",
      "Cougar Dating & Life Style App for Mature Women : 213\n",
      "Rawr Messenger - Dab your chat : 180\n",
      "WhenToPost: Best Time to Post Photos for Instagram : 158\n",
      "Inke—Broadcast an amazing life : 147\n",
      "Mustknow - anonymous video Q&A : 53\n",
      "CTFxCmoji : 39\n",
      "Lobi : 36\n",
      "Chain: Collaborate On MyVideo Story/Group Video : 35\n",
      "botman - Real time video chat : 7\n",
      "BestieBox : 0\n",
      "MATCH ON LINE chat : 0\n",
      "niconico ch : 0\n",
      "LINE BLOG : 0\n",
      "bit-tube - Live Stream Video Chat : 0\n",
      "\n",
      "\n",
      "Number of social networking apps: 106\n",
      "Median: 4199.0\n"
     ]
    }
   ],
   "source": [
    "social_networking_apple_apps = []\n",
    "for app in free_english_apple_data_cleaned:\n",
    "  if app[11] == \"Social Networking\":\n",
    "    social_networking_apple_apps.append(app)\n",
    "    print(app[1], ':', app[5])\n",
    "\n",
    "print(\"\\n\")    \n",
    "print(\"Number of social networking apps: \" + str(len(social_networking_apple_apps)))\n",
    "print(\"Median: \" + str((4253+4145)/2))"
   ]
  },
  {
   "cell_type": "markdown",
   "id": "58c84387",
   "metadata": {},
   "source": [
    "Reference apps have a mean number of ratings of 74,942 - though this is skewed upwards by the Bible and Dictionary.com apps. There does seem to be some potential in this genre however, with a median of 6,614 ratings. It is also not an overly saturated market, with only 18 apps falling within this category.\n",
    "\n",
    "One avenue to explore could be to take a popular book and build this into an app, adding additional features beyond the raw digital book. This could be along the lines of providing the user with daily quotes from the book, an audio version of the book or integrated study materials (e.g., quizzes, flash cards, an annotation feature) if the book is a text commonly studied as part of a school course/university course etc. \n",
    "\n",
    "We could also integrate extra features such as an in-built dictionary/pronunciation guide, include user stats (such as reading speed), include reminders to read for a specified amount of time each day and so on.\n",
    "\n",
    "This idea does seem to be somewhat promising, especially considering that the App Store has a large emphasis on gaming and 'for-fun' style apps. To give us the best chance at success, the app should ideally not be launched into a saturated genre and offer features that break-the-mould of the apps within that genre."
   ]
  },
  {
   "cell_type": "code",
   "execution_count": 34,
   "id": "f7e69bac",
   "metadata": {},
   "outputs": [
    {
     "name": "stdout",
     "output_type": "stream",
     "text": [
      "Bible : 985920\n",
      "Dictionary.com Dictionary & Thesaurus : 200047\n",
      "Dictionary.com Dictionary & Thesaurus for iPad : 54175\n",
      "Google Translate : 26786\n",
      "Muslim Pro: Ramadan 2017 Prayer Times, Azan, Quran : 18418\n",
      "New Furniture Mods - Pocket Wiki & Game Tools for Minecraft PC Edition : 17588\n",
      "Merriam-Webster Dictionary : 16849\n",
      "Night Sky : 12122\n",
      "City Maps for Minecraft PE - The Best Maps for Minecraft Pocket Edition (MCPE) : 8535\n",
      "LUCKY BLOCK MOD ™ for Minecraft PC Edition - The Best Pocket Wiki & Mods Installer Tools : 4693\n",
      "GUNS MODS for Minecraft PC Edition - Mods Tools : 1497\n",
      "Guides for Pokémon GO - Pokemon GO News and Cheats : 826\n",
      "WWDC : 762\n",
      "Horror Maps for Minecraft PE - Download The Scariest Maps for Minecraft Pocket Edition (MCPE) Free : 718\n",
      "VPN Express : 14\n",
      "Real Bike Traffic Rider Virtual Reality Glasses : 8\n",
      "教えて!goo : 0\n",
      "Jishokun-Japanese English Dictionary & Translator : 0\n",
      "\n",
      "\n",
      "Number of reference apps: 18\n",
      "Median: 6614.0\n"
     ]
    }
   ],
   "source": [
    "reference_apple_apps = []\n",
    "for app in free_english_apple_data_cleaned:\n",
    "  if app[11] == \"Reference\":\n",
    "    reference_apple_apps.append(app)\n",
    "    print(app[1], ':', app[5])\n",
    "\n",
    "print(\"\\n\")    \n",
    "print(\"Number of reference apps: \" + str(len(reference_apple_apps)))\n",
    "print(\"Median: \" + str((8535+4693)/2))"
   ]
  },
  {
   "cell_type": "markdown",
   "id": "0a605750",
   "metadata": {},
   "source": [
    "Some other genres that appear to be large include `Food & Drink`, `Weather` and `Finance`. \n",
    "\n",
    "These genres are not likely to be of interest to us:\n",
    "\n",
    "* `Food & Drink`: Starbucks, Dunkin' Donuts, McDonald's, ... Making a popular app in this genre would require a vast amount of work and domain knowledge outside of the scope of a start-up app developing company.\n",
    "\n",
    "* `Weather`: people generally do not spend much time in-app and there are alternatives in the market that will not present the user with any ads. There is no good reason to believe building a weather app with in-app ads would do better than competitors on the market.\n",
    "\n",
    "* `Finance`: these apps involve personal banking, bill payment, money transfers and so on. This would require domain knowledge outside of the scope of the company."
   ]
  },
  {
   "cell_type": "markdown",
   "id": "2437f049",
   "metadata": {},
   "source": [
    "### Most Popular Apps by Genre on the Google Play Store\n",
    "\n",
    "As was mentioned above, we have a `Installs` column within the Google Play dataset, so we can get a more accurate picture of app popularity."
   ]
  },
  {
   "cell_type": "code",
   "execution_count": 35,
   "id": "a38cd273",
   "metadata": {},
   "outputs": [
    {
     "name": "stdout",
     "output_type": "stream",
     "text": [
      "1,000,000+ : 15.73%\n",
      "100,000+ : 11.55%\n",
      "10,000,000+ : 10.55%\n",
      "10,000+ : 10.2%\n",
      "1,000+ : 8.39%\n",
      "100+ : 6.92%\n",
      "5,000,000+ : 6.83%\n",
      "500,000+ : 5.56%\n",
      "50,000+ : 4.77%\n",
      "5,000+ : 4.51%\n",
      "10+ : 3.54%\n",
      "500+ : 3.25%\n",
      "50,000,000+ : 2.3%\n",
      "100,000,000+ : 2.13%\n",
      "50+ : 1.92%\n",
      "5+ : 0.79%\n",
      "1+ : 0.51%\n",
      "500,000,000+ : 0.27%\n",
      "1,000,000,000+ : 0.23%\n",
      "0+ : 0.05%\n"
     ]
    }
   ],
   "source": [
    "display_table(free_english_android_data_cleaned, column=5, percentage=True)"
   ]
  },
  {
   "cell_type": "markdown",
   "id": "e122aa14",
   "metadata": {},
   "source": [
    "Unfortunately, we lose some precision in the numbers as the install numbers are grouped over a wide range. An app falling into the 100,000+ install range could have installs ranging from anywhere between 100,000 to 999,999 - we cannot know. We can still use this data as we are interested moreso in the bigger picture."
   ]
  },
  {
   "cell_type": "markdown",
   "id": "2d2f4474",
   "metadata": {},
   "source": [
    "In the same manner as we calculated the average total ratings of the genres for the App Store, we do the same for the `Category` column of the Google Play dataset. We handle the imprecision noted above by converting an app with, say, 100,000+ installs to 100,000. To do this, we replace the \",\" and \"+\" characters from the `Installs` strings and convert the data type to a float to perform arithmetic operations to find the mean."
   ]
  },
  {
   "cell_type": "code",
   "execution_count": 36,
   "id": "fa396d4a",
   "metadata": {},
   "outputs": [
    {
     "name": "stdout",
     "output_type": "stream",
     "text": [
      "ART_AND_DESIGN : 1986335.09\n",
      "AUTO_AND_VEHICLES : 647317.82\n",
      "BEAUTY : 513151.89\n",
      "BOOKS_AND_REFERENCE : 8767811.89\n",
      "BUSINESS : 1712290.15\n",
      "COMICS : 817657.27\n",
      "COMMUNICATION : 38456119.17\n",
      "DATING : 854028.83\n",
      "EDUCATION : 1833495.15\n",
      "ENTERTAINMENT : 11640705.88\n",
      "EVENTS : 253542.22\n",
      "FINANCE : 1387692.48\n",
      "FOOD_AND_DRINK : 1924897.74\n",
      "HEALTH_AND_FITNESS : 4188821.99\n",
      "HOUSE_AND_HOME : 1331540.56\n",
      "LIBRARIES_AND_DEMO : 638503.73\n",
      "LIFESTYLE : 1437816.27\n",
      "GAME : 15588015.6\n",
      "FAMILY : 3697848.17\n",
      "MEDICAL : 120550.62\n",
      "SOCIAL : 23253652.13\n",
      "SHOPPING : 7036877.31\n",
      "PHOTOGRAPHY : 17840110.4\n",
      "SPORTS : 3638640.14\n",
      "TRAVEL_AND_LOCAL : 13984077.71\n",
      "TOOLS : 10801391.3\n",
      "PERSONALIZATION : 5201482.61\n",
      "PRODUCTIVITY : 16787331.34\n",
      "PARENTING : 542603.62\n",
      "WEATHER : 5074486.2\n",
      "VIDEO_PLAYERS : 24727872.45\n",
      "NEWS_AND_MAGAZINES : 9549178.47\n",
      "MAPS_AND_NAVIGATION : 4056941.77\n"
     ]
    }
   ],
   "source": [
    "free_english_android_category_frequencies = freq_table(free_english_android_data_cleaned, column=1, percentage=False)\n",
    "\n",
    "for category in free_english_android_category_frequencies:\n",
    "  total = 0\n",
    "  len_category = 0\n",
    "  for app in free_english_android_data_cleaned:\n",
    "    category_app = app[1]\n",
    "    if category_app == category:\n",
    "      n_installs = app[5]\n",
    "      n_installs = n_installs.replace(\",\", \"\")\n",
    "      n_installs = n_installs.replace(\"+\", \"\")\n",
    "      n_installs = float(n_installs)\n",
    "      total += n_installs\n",
    "      len_category += 1\n",
    "      \n",
    "  avg_n_ratings = round(total / len_category, 2)\n",
    "  print(category, ':', avg_n_ratings)"
   ]
  },
  {
   "cell_type": "markdown",
   "id": "9a7f2012",
   "metadata": {},
   "source": [
    "On average, of the Free English apps on the Google Play store, `Communications` apps have the greatest number of installs (38,456,119). This number is heavily skewed upwards by a select few apps (WhatsApp, Messenger, Skype, Google Chrome, Gmail, Hangouts, ...). If we removed all apps with over 100 million installs, the average would drop by roughly 10 times (to around 3-4 million installs)."
   ]
  },
  {
   "cell_type": "code",
   "execution_count": 37,
   "id": "0a908682",
   "metadata": {},
   "outputs": [
    {
     "name": "stdout",
     "output_type": "stream",
     "text": [
      "WhatsApp Messenger : 1,000,000,000+\n",
      "Google Duo - High Quality Video Calls : 500,000,000+\n",
      "Messenger – Text and Video Chat for Free : 1,000,000,000+\n",
      "imo free video calls and chat : 500,000,000+\n",
      "Skype - free IM & video calls : 1,000,000,000+\n",
      "LINE: Free Calls & Messages : 500,000,000+\n",
      "Google Chrome: Fast & Secure : 1,000,000,000+\n",
      "UC Browser - Fast Download Private & Secure : 500,000,000+\n",
      "Gmail : 1,000,000,000+\n",
      "Hangouts : 1,000,000,000+\n",
      "Viber Messenger : 500,000,000+\n"
     ]
    }
   ],
   "source": [
    "for app in free_english_android_data_cleaned:\n",
    "  if app[1] == \"COMMUNICATION\" and (app[5] == \"1,000,000,000+\" or app[5] == \"500,000,000+\"):\n",
    "    print(app[0], ':', app[5])"
   ]
  },
  {
   "cell_type": "markdown",
   "id": "286712cc",
   "metadata": {},
   "source": [
    "It is a similar story for the `VIDEO_PLAYERS` category at 24,727,872 installs. The market is dominated by giants such as YouTube, Google Play Movies & TV and MX Player. "
   ]
  },
  {
   "cell_type": "code",
   "execution_count": 38,
   "id": "d5a5d66a",
   "metadata": {},
   "outputs": [
    {
     "name": "stdout",
     "output_type": "stream",
     "text": [
      "YouTube : 1,000,000,000+\n",
      "Google Play Movies & TV : 1,000,000,000+\n",
      "MX Player : 500,000,000+\n"
     ]
    }
   ],
   "source": [
    "for app in free_english_android_data_cleaned:\n",
    "  if app[1] == \"VIDEO_PLAYERS\" and (app[5] == \"1,000,000,000+\" or app[5] == \"500,000,000+\"):\n",
    "    print(app[0], ':', app[5])"
   ]
  },
  {
   "cell_type": "markdown",
   "id": "69a0a138",
   "metadata": {},
   "source": [
    "The pattern is repeated for other categories including `SOCIAL`, `PHOTOGRAPHY` and `PRODUCTIVITY`, all having skewed averages due to the extreme number of installations of app giants in these genres. The main concern is that these markets are saturated and it will be very challenging to see success when up against the big titans.\n",
    "\n",
    "The `GAME` genre is popular, but as expected, is quite oversaturated."
   ]
  },
  {
   "cell_type": "code",
   "execution_count": 39,
   "id": "5a3a299d",
   "metadata": {},
   "outputs": [
    {
     "name": "stdout",
     "output_type": "stream",
     "text": [
      "Sonic Dash : 100,000,000+\n",
      "PAC-MAN : 100,000,000+\n",
      "Roll the Ball® - slide puzzle : 100,000,000+\n",
      "Piano Tiles 2™ : 100,000,000+\n",
      "Pokémon GO : 100,000,000+\n",
      "Extreme Car Driving Simulator : 100,000,000+\n",
      "Trivia Crack : 100,000,000+\n",
      "Angry Birds 2 : 100,000,000+\n",
      "Candy Crush Saga : 500,000,000+\n",
      "8 Ball Pool : 100,000,000+\n",
      "Subway Surfers : 1,000,000,000+\n",
      "Candy Crush Soda Saga : 100,000,000+\n",
      "Clash Royale : 100,000,000+\n",
      "Clash of Clans : 100,000,000+\n",
      "Plants vs. Zombies FREE : 100,000,000+\n",
      "Pou : 500,000,000+\n",
      "Flow Free : 100,000,000+\n",
      "My Talking Angela : 100,000,000+\n",
      "slither.io : 100,000,000+\n",
      "Cooking Fever : 100,000,000+\n",
      "Yes day : 100,000,000+\n",
      "Score! Hero : 100,000,000+\n",
      "Dream League Soccer 2018 : 100,000,000+\n",
      "My Talking Tom : 500,000,000+\n",
      "Sniper 3D Gun Shooter: Free Shooting Games - FPS : 100,000,000+\n",
      "Zombie Tsunami : 100,000,000+\n",
      "Helix Jump : 100,000,000+\n",
      "Crossy Road : 100,000,000+\n",
      "Temple Run 2 : 500,000,000+\n",
      "Talking Tom Gold Run : 100,000,000+\n",
      "Agar.io : 100,000,000+\n",
      "Bus Rush: Subway Edition : 100,000,000+\n",
      "Traffic Racer : 100,000,000+\n",
      "Hill Climb Racing : 100,000,000+\n",
      "Angry Birds Rio : 100,000,000+\n",
      "Cut the Rope FULL FREE : 100,000,000+\n",
      "Hungry Shark Evolution : 100,000,000+\n",
      "Angry Birds Classic : 100,000,000+\n",
      "Hill Climb Racing 2 : 100,000,000+\n",
      "Jetpack Joyride : 100,000,000+\n",
      "Super Mario Run : 100,000,000+\n",
      "Glow Hockey : 100,000,000+\n",
      "Asphalt 8: Airborne : 100,000,000+\n",
      "Lep's World 2 🍀🍀 : 100,000,000+\n",
      "Fruit Ninja® : 100,000,000+\n",
      "Vector : 100,000,000+\n",
      "Dr. Driving : 100,000,000+\n",
      "Bike Race Free - Top Motorcycle Racing Games : 100,000,000+\n",
      "Smash Hit : 100,000,000+\n",
      "Temple Run : 100,000,000+\n",
      "Geometry Dash Lite : 100,000,000+\n",
      "Ant Smasher by Best Cool & Fun Games : 100,000,000+\n",
      "Angry Birds Star Wars : 100,000,000+\n",
      "Mobile Legends: Bang Bang : 100,000,000+\n",
      "Banana Kong : 100,000,000+\n",
      "Skater Boy : 100,000,000+\n",
      "Shadow Fight 2 : 100,000,000+\n",
      "Modern Combat 5: eSports FPS : 100,000,000+\n",
      "Garena Free Fire : 100,000,000+\n"
     ]
    }
   ],
   "source": [
    "for app in free_english_android_data_cleaned:\n",
    "  if app[1] == \"GAME\" and (app[5] == \"1,000,000,000+\" or app[5] == \"500,000,000+\" or app[5] == \"100,000,000+\"):\n",
    "    print(app[0], ':', app[5])"
   ]
  },
  {
   "cell_type": "markdown",
   "id": "adf3e940",
   "metadata": {},
   "source": [
    "The `BOOKS_AND_REFERENCE` genre is also relatively popular (8,767,812 installs) and as a stand-out candidate from the App Store dataset, is definitely worth looking into."
   ]
  },
  {
   "cell_type": "code",
   "execution_count": 40,
   "id": "2db1ee25",
   "metadata": {},
   "outputs": [
    {
     "name": "stdout",
     "output_type": "stream",
     "text": [
      "E-Book Read - Read Book for free : 50,000+\n",
      "Download free book with green book : 100,000+\n",
      "Wikipedia : 10,000,000+\n",
      "Cool Reader : 10,000,000+\n",
      "Free Panda Radio Music : 100,000+\n",
      "Book store : 1,000,000+\n",
      "FBReader: Favorite Book Reader : 10,000,000+\n",
      "English Grammar Complete Handbook : 500,000+\n",
      "Free Books - Spirit Fanfiction and Stories : 1,000,000+\n",
      "Google Play Books : 1,000,000,000+\n",
      "AlReader -any text book reader : 5,000,000+\n",
      "Offline English Dictionary : 100,000+\n",
      "Offline: English to Tagalog Dictionary : 500,000+\n",
      "FamilySearch Tree : 1,000,000+\n",
      "Cloud of Books : 1,000,000+\n",
      "Recipes of Prophetic Medicine for free : 500,000+\n",
      "ReadEra – free ebook reader : 1,000,000+\n",
      "Anonymous caller detection : 10,000+\n",
      "Ebook Reader : 5,000,000+\n",
      "Litnet - E-books : 100,000+\n",
      "Read books online : 5,000,000+\n",
      "English to Urdu Dictionary : 500,000+\n",
      "eBoox: book reader fb2 epub zip : 1,000,000+\n",
      "English Persian Dictionary : 500,000+\n",
      "Flybook : 500,000+\n",
      "All Maths Formulas : 1,000,000+\n",
      "Ancestry : 5,000,000+\n",
      "HTC Help : 10,000,000+\n",
      "English translation from Bengali : 100,000+\n",
      "Pdf Book Download - Read Pdf Book : 100,000+\n",
      "Free Book Reader : 100,000+\n",
      "eBoox new: Reader for fb2 epub zip books : 50,000+\n",
      "Only 30 days in English, the guideline is guaranteed : 500,000+\n",
      "Moon+ Reader : 10,000,000+\n",
      "SH-02J Owner's Manual (Android 8.0) : 50,000+\n",
      "English-Myanmar Dictionary : 1,000,000+\n",
      "Golden Dictionary (EN-AR) : 1,000,000+\n",
      "All Language Translator Free : 1,000,000+\n",
      "Azpen eReader : 500,000+\n",
      "URBANO V 02 instruction manual : 100,000+\n",
      "Bible : 100,000,000+\n",
      "C Programs and Reference : 50,000+\n",
      "C Offline Tutorial : 1,000+\n",
      "C Programs Handbook : 50,000+\n",
      "Amazon Kindle : 100,000,000+\n",
      "Aab e Hayat Full Novel : 100,000+\n",
      "Aldiko Book Reader : 10,000,000+\n",
      "Google I/O 2018 : 500,000+\n",
      "R Language Reference Guide : 10,000+\n",
      "Learn R Programming Full : 5,000+\n",
      "R Programing Offline Tutorial : 1,000+\n",
      "Guide for R Programming : 5+\n",
      "Learn R Programming : 10+\n",
      "R Quick Reference Big Data : 1,000+\n",
      "V Made : 100,000+\n",
      "Wattpad 📖 Free Books : 100,000,000+\n",
      "Dictionary - WordWeb : 5,000,000+\n",
      "Guide (for X-MEN) : 100,000+\n",
      "AC Air condition Troubleshoot,Repair,Maintenance : 5,000+\n",
      "AE Bulletins : 1,000+\n",
      "Ae Allah na Dai (Rasa) : 10,000+\n",
      "50000 Free eBooks & Free AudioBooks : 5,000,000+\n",
      "Ag PhD Field Guide : 10,000+\n",
      "Ag PhD Deficiencies : 10,000+\n",
      "Ag PhD Planting Population Calculator : 1,000+\n",
      "Ag PhD Soybean Diseases : 1,000+\n",
      "Fertilizer Removal By Crop : 50,000+\n",
      "A-J Media Vault : 50+\n",
      "Al-Quran (Free) : 10,000,000+\n",
      "Al Quran (Tafsir & by Word) : 500,000+\n",
      "Al Quran Indonesia : 10,000,000+\n",
      "Al'Quran Bahasa Indonesia : 10,000,000+\n",
      "Al Quran Al karim : 1,000,000+\n",
      "Al-Muhaffiz : 50,000+\n",
      "Al Quran : EAlim - Translations & MP3 Offline : 5,000,000+\n",
      "Al-Quran 30 Juz free copies : 500,000+\n",
      "Koran Read &MP3 30 Juz Offline : 1,000,000+\n",
      "Hafizi Quran 15 lines per page : 1,000,000+\n",
      "Quran for Android : 10,000,000+\n",
      "Surah Al-Waqiah : 100,000+\n",
      "Hisnul Al Muslim - Hisn Invocations & Adhkaar : 100,000+\n",
      "Satellite AR : 1,000,000+\n",
      "Audiobooks from Audible : 100,000,000+\n",
      "Kinot & Eichah for Tisha B'Av : 10,000+\n",
      "AW Tozer Devotionals - Daily : 5,000+\n",
      "Tozer Devotional -Series 1 : 1,000+\n",
      "The Pursuit of God : 1,000+\n",
      "AY Sing : 5,000+\n",
      "Ay Hasnain k Nana Milad Naat : 10,000+\n",
      "Ay Mohabbat Teri Khatir Novel : 10,000+\n",
      "Arizona Statutes, ARS (AZ Law) : 1,000+\n",
      "Oxford A-Z of English Usage : 1,000,000+\n",
      "BD Fishpedia : 1,000+\n",
      "BD All Sim Offer : 10,000+\n",
      "Youboox - Livres, BD et magazines : 500,000+\n",
      "B&H Kids AR : 10,000+\n",
      "B y H Niños ES : 5,000+\n",
      "Dictionary.com: Find Definitions for English Words : 10,000,000+\n",
      "English Dictionary - Offline : 10,000,000+\n",
      "Bible KJV : 5,000,000+\n",
      "Borneo Bible, BM Bible : 10,000+\n",
      "MOD Black for BM : 100+\n",
      "BM Box : 1,000+\n",
      "Anime Mod for BM : 100+\n",
      "NOOK: Read eBooks & Magazines : 10,000,000+\n",
      "NOOK Audiobooks : 500,000+\n",
      "NOOK App for NOOK Devices : 500,000+\n",
      "Browsery by Barnes & Noble : 5,000+\n",
      "bp e-store : 1,000+\n",
      "Brilliant Quotes: Life, Love, Family & Motivation : 1,000,000+\n",
      "BR Ambedkar Biography & Quotes : 10,000+\n",
      "BU Alsace : 100+\n",
      "Catholic La Bu Zo Kam : 500+\n",
      "Khrifa Hla Bu (Solfa) : 10+\n",
      "Kristian Hla Bu : 10,000+\n",
      "SA HLA BU : 1,000+\n",
      "Learn SAP BW : 500+\n",
      "Learn SAP BW on HANA : 500+\n",
      "CA Laws 2018 (California Laws and Codes) : 5,000+\n",
      "Bootable Methods(USB-CD-DVD) : 10,000+\n",
      "cloudLibrary : 100,000+\n",
      "SDA Collegiate Quarterly : 500+\n",
      "Sabbath School : 100,000+\n",
      "Cypress College Library : 100+\n",
      "Stats Royale for Clash Royale : 1,000,000+\n",
      "GATE 21 years CS Papers(2011-2018 Solved) : 50+\n",
      "Learn CT Scan Of Head : 5,000+\n",
      "Easy Cv maker 2018 : 10,000+\n",
      "How to Write CV : 100,000+\n",
      "CW Nuclear : 1,000+\n",
      "CY Spray nozzle : 10+\n",
      "BibleRead En Cy Zh Yue : 5+\n",
      "CZ-Help : 5+\n",
      "Modlitební knížka CZ : 500+\n",
      "Guide for DB Xenoverse : 10,000+\n",
      "Guide for DB Xenoverse 2 : 10,000+\n",
      "Guide for IMS DB : 10+\n",
      "DC HSEMA : 5,000+\n",
      "DC Public Library : 1,000+\n",
      "Painting Lulu DC Super Friends : 1,000+\n",
      "Dictionary : 10,000,000+\n",
      "Fix Error Google Playstore : 1,000+\n",
      "D. H. Lawrence Poems FREE : 1,000+\n",
      "Bilingual Dictionary Audio App : 5,000+\n",
      "DM Screen : 10,000+\n",
      "wikiHow: how to do anything : 1,000,000+\n",
      "Dr. Doug's Tips : 1,000+\n",
      "Bible du Semeur-BDS (French) : 50,000+\n",
      "La citadelle du musulman : 50,000+\n",
      "DV 2019 Entry Guide : 10,000+\n",
      "DV 2019 - EDV Photo & Form : 50,000+\n",
      "DV 2018 Winners Guide : 1,000+\n",
      "EB Annual Meetings : 1,000+\n",
      "EC - AP & Telangana : 5,000+\n",
      "TN Patta Citta & EC : 10,000+\n",
      "AP Stamps and Registration : 10,000+\n",
      "CompactiMa EC pH Calibration : 100+\n",
      "EGW Writings 2 : 100,000+\n",
      "EGW Writings : 1,000,000+\n",
      "Bible with EGW Comments : 100,000+\n",
      "My Little Pony AR Guide : 1,000,000+\n",
      "SDA Sabbath School Quarterly : 500,000+\n",
      "Duaa Ek Ibaadat : 5,000+\n",
      "Spanish English Translator : 10,000,000+\n",
      "Dictionary - Merriam-Webster : 10,000,000+\n",
      "JW Library : 10,000,000+\n",
      "Oxford Dictionary of English : Free : 10,000,000+\n",
      "English Hindi Dictionary : 10,000,000+\n",
      "English to Hindi Dictionary : 5,000,000+\n",
      "EP Research Service : 1,000+\n",
      "Hymnes et Louanges : 100,000+\n",
      "EU Charter : 1,000+\n",
      "EU Data Protection : 1,000+\n",
      "EU IP Codes : 100+\n",
      "EW PDF : 5+\n",
      "BakaReader EX : 100,000+\n",
      "EZ Quran : 50,000+\n",
      "FA Part 1 & 2 Past Papers Solved Free – Offline : 5,000+\n",
      "La Fe de Jesus : 1,000+\n",
      "La Fe de Jesús : 500+\n",
      "Le Fe de Jesus : 500+\n",
      "Florida - Pocket Brainbook : 1,000+\n",
      "Florida Statutes (FL Code) : 1,000+\n",
      "English To Shona Dictionary : 10,000+\n",
      "Greek Bible FP (Audio) : 1,000+\n",
      "Golden Dictionary (FR-AR) : 500,000+\n",
      "Fanfic-FR : 5,000+\n",
      "Bulgarian French Dictionary Fr : 10,000+\n",
      "Chemin (fr) : 1,000+\n",
      "The SCP Foundation DB fr nn5n : 1,000+\n",
      "\n",
      "\n",
      "Number of books and reference apps: 190\n"
     ]
    }
   ],
   "source": [
    "books_and_reference_apps = []\n",
    "for app in free_english_android_data_cleaned:\n",
    "  if app[1] == \"BOOKS_AND_REFERENCE\":\n",
    "    books_and_reference_apps.append(app)\n",
    "    print(app[0], ':', app[5])\n",
    "    \n",
    "print(\"\\n\")\n",
    "print(\"Number of books and reference apps: \" + str(len(books_and_reference_apps)))"
   ]
  },
  {
   "cell_type": "code",
   "execution_count": 41,
   "id": "fbf38cf7",
   "metadata": {},
   "outputs": [
    {
     "name": "stdout",
     "output_type": "stream",
     "text": [
      "Google Play Books : 1,000,000,000+\n",
      "Bible : 100,000,000+\n",
      "Amazon Kindle : 100,000,000+\n",
      "Wattpad 📖 Free Books : 100,000,000+\n",
      "Audiobooks from Audible : 100,000,000+\n"
     ]
    }
   ],
   "source": [
    "for app in free_english_android_data_cleaned:\n",
    "  if app[1] == \"BOOKS_AND_REFERENCE\" and (app[5] == \"1,000,000,000+\" or app[5] == \"500,000,000+\" or app[5] == \"100,000,000+\"):\n",
    "    print(app[0], ':', app[5])"
   ]
  },
  {
   "cell_type": "markdown",
   "id": "65bd04cf",
   "metadata": {},
   "source": [
    "Only a small number of very popular apps skew the average, so this market does show some potential. \n",
    "\n",
    "We can look into the types of apps that lie in the middle range for installs (say 1,000,000 to 50,000,000):"
   ]
  },
  {
   "cell_type": "code",
   "execution_count": 42,
   "id": "570a8ada",
   "metadata": {},
   "outputs": [
    {
     "name": "stdout",
     "output_type": "stream",
     "text": [
      "Wikipedia : 10,000,000+\n",
      "Cool Reader : 10,000,000+\n",
      "Book store : 1,000,000+\n",
      "FBReader: Favorite Book Reader : 10,000,000+\n",
      "Free Books - Spirit Fanfiction and Stories : 1,000,000+\n",
      "AlReader -any text book reader : 5,000,000+\n",
      "FamilySearch Tree : 1,000,000+\n",
      "Cloud of Books : 1,000,000+\n",
      "ReadEra – free ebook reader : 1,000,000+\n",
      "Ebook Reader : 5,000,000+\n",
      "Read books online : 5,000,000+\n",
      "eBoox: book reader fb2 epub zip : 1,000,000+\n",
      "All Maths Formulas : 1,000,000+\n",
      "Ancestry : 5,000,000+\n",
      "HTC Help : 10,000,000+\n",
      "Moon+ Reader : 10,000,000+\n",
      "English-Myanmar Dictionary : 1,000,000+\n",
      "Golden Dictionary (EN-AR) : 1,000,000+\n",
      "All Language Translator Free : 1,000,000+\n",
      "Aldiko Book Reader : 10,000,000+\n",
      "Dictionary - WordWeb : 5,000,000+\n",
      "50000 Free eBooks & Free AudioBooks : 5,000,000+\n",
      "Al-Quran (Free) : 10,000,000+\n",
      "Al Quran Indonesia : 10,000,000+\n",
      "Al'Quran Bahasa Indonesia : 10,000,000+\n",
      "Al Quran Al karim : 1,000,000+\n",
      "Al Quran : EAlim - Translations & MP3 Offline : 5,000,000+\n",
      "Koran Read &MP3 30 Juz Offline : 1,000,000+\n",
      "Hafizi Quran 15 lines per page : 1,000,000+\n",
      "Quran for Android : 10,000,000+\n",
      "Satellite AR : 1,000,000+\n",
      "Oxford A-Z of English Usage : 1,000,000+\n",
      "Dictionary.com: Find Definitions for English Words : 10,000,000+\n",
      "English Dictionary - Offline : 10,000,000+\n",
      "Bible KJV : 5,000,000+\n",
      "NOOK: Read eBooks & Magazines : 10,000,000+\n",
      "Brilliant Quotes: Life, Love, Family & Motivation : 1,000,000+\n",
      "Stats Royale for Clash Royale : 1,000,000+\n",
      "Dictionary : 10,000,000+\n",
      "wikiHow: how to do anything : 1,000,000+\n",
      "EGW Writings : 1,000,000+\n",
      "My Little Pony AR Guide : 1,000,000+\n",
      "Spanish English Translator : 10,000,000+\n",
      "Dictionary - Merriam-Webster : 10,000,000+\n",
      "JW Library : 10,000,000+\n",
      "Oxford Dictionary of English : Free : 10,000,000+\n",
      "English Hindi Dictionary : 10,000,000+\n",
      "English to Hindi Dictionary : 5,000,000+\n"
     ]
    }
   ],
   "source": [
    "for app in free_english_android_data_cleaned:\n",
    "  if app[1] == \"BOOKS_AND_REFERENCE\" and (app[5] == \"50,000,000+\" or app[5] == \"10,000,000+\" or app[5] == \"5,000,000+\" or app[5] == \"1,000,000+\"):\n",
    "    print(app[0], ':', app[5])"
   ]
  },
  {
   "cell_type": "markdown",
   "id": "edab3994",
   "metadata": {},
   "source": [
    "The category seems to be dominated by software for processing and reading ebooks, as well as various collections of libraries and dictionaries. If venturing down this category of app, we should not build apps that need to directly compete with these subcategories of app as it will make it more challenging to succeed.\n",
    "\n",
    "There are also many apps built around a highly popular book (such as the Qu'ran), which supports the initial idea discussed in the App Store analysis section above. A potential profitable app could come in the form of taking a more recent popular book and building it into an app with additional features to enhance the user experience. This aligns quite nicely with the landscapes of both the App Store and Google Play marketplaces."
   ]
  }
 ],
 "metadata": {
  "kernelspec": {
   "display_name": "Python 3",
   "language": "python",
   "name": "python3"
  },
  "language_info": {
   "codemirror_mode": {
    "name": "ipython",
    "version": 3
   },
   "file_extension": ".py",
   "mimetype": "text/x-python",
   "name": "python",
   "nbconvert_exporter": "python",
   "pygments_lexer": "ipython3",
   "version": "3.12.5"
  }
 },
 "nbformat": 4,
 "nbformat_minor": 5
}
