{
 "cells": [
  {
   "cell_type": "markdown",
   "id": "e670356b",
   "metadata": {},
   "source": [
    "# Profitable App Profiles for the Apple iOS App Store and Google Play Markets \n",
    "\n",
    "### Purpose of this Project\n",
    "This project is designed to demonstrate my progress and competency with Python and Jupyter functionalities to produce a professional data analysis report. \n",
    "The style of this document follows the principles of **literate programming**, a coding paradigm first adopted in 1984 by Donald Knuth where code is accompanied by natural human language for enhanced code annotation and discussion of outputs. This style of workflow is highly advantageous in the context of data analysis as code can be easily annotated and clarified in markdown cells and results can be directly discussed in the same document. It also offers a huge advantage when combined with data visualization, as figures and graphs can be directly integrated into the same document (though this project does not focus on this aspect of the data analysis process).\n",
    "\n",
    "### Project Background\n",
    "I am acting as a data analyst working for a company that builds Android and iOS mobile apps. The company only builds apps that are *free* to download/install and for English-speaking audiences. Therefore, the company business model relies on in-app ads as the main source of revenue. Consequently, revenue for any given app the company builds is primarily controlled by the number of users of the app (and the amount of engagement users make with ads within the app).\n",
    "\n",
    ">The main goal of this project is to gain an insight into what kinds of apps are most likely to attract the largest user base so that our developers can make more informed decisions on the directions they could take when building new applications.\n",
    "\n",
    "\n"
   ]
  },
  {
   "cell_type": "markdown",
   "id": "516c9616",
   "metadata": {},
   "source": [
    "### About the Datasets\n",
    "As of September 2018, roughly 2 million iOS apps were available for purchase on the app store with 2.1 million available on Google Play. This data is outdated now and we can expect there to be an even larger number of apps available on both marketplaces.\n",
    "\n",
    "![img](https://s3.amazonaws.com/dq-content/350/py1m8_statista.png) \n",
    "\n",
    "Source: [Statista](https://www.statista.com/statistics/276623/number-of-apps-available-in-leading-app-stores/)\n",
    "\n",
    "Analyzing data over 4 million unique records would require a significant amount of time and money, so we can turn our attention to analyzing a sample of the data instead. To avoid wasting resources on data collection, we can find relevant existing data at no cost. The two datasets below are suitable for initial exploration:\n",
    "\n",
    ">* Android app [Dataset](https://www.kaggle.com/datasets/lava18/google-play-store-apps) from Google Play containing ~10,800 apps, collected in August 2018\n",
    "\n",
    ">| Column name      | Description                              |\n",
    ">| ---------------- | ---------------------------------------- |\n",
    ">| App              | Application name                         |\n",
    ">| Category         | Category app belongs to                  |\n",
    ">| Rating           | Overall user rating of the app           |\n",
    ">| Reviews          | Number of user reviews for the app       |\n",
    ">| Size             | Size of the app (MB)                     |\n",
    ">| Installs         | Number of user downloads/installs        |\n",
    ">| Type             | Paid or Free                             |\n",
    ">| Price            | Price of app                             |\n",
    ">| Content Rating   | Age group that the app targets           |\n",
    ">| Genres           | A more detailed category breakdown       |\n",
    ">| Last Updated     | Date of last update                      |\n",
    ">| Current Ver      | Current app version                      |\n",
    ">| Android Ver      | Oldest compatible android OS version     |\n",
    "---\n",
    "\n",
    "\n",
    ">* iOS app [Dataset](https://www.kaggle.com/datasets/ramamet4/app-store-apple-data-set-10k-apps) from the App Store containing ~7,200 apps, collected in July 2017\n",
    "\n",
    ">| Column name      | Description                              |\n",
    ">| ---------------- | ---------------------------------------- |\n",
    ">| id               | App ID                                   |\n",
    ">| track_name       | App Name                                 |\n",
    ">| size_bytes       | Size (in Bytes)                          |\n",
    ">| id               | App ID                                   |\n",
    ">| currency         | Currency Type                            |\n",
    ">| price            | Price Amount                             |\n",
    ">| rating_count_tot | User rating count (All versions)         |\n",
    ">| rating_count_ver | User rating count (Current version)      |\n",
    ">| user_rating      | Average User Rating (All versions)       |\n",
    ">| user_rating_ver  | Average User Rating (Current version)    |\n",
    ">| ver              | Latest version code                      |\n",
    ">| cont_rating      | Content Rating                           |\n",
    ">| prime_genre      | Primary Genre                            |\n",
    ">| sup_devices.num  | Number of supporting devices             |\n",
    ">| ipadSc_urls.num  | Number of screenshots showed for display |\n",
    ">| lang.num         | Number of supported languages            |\n",
    ">| vpp_lic          | Vpp Device Based Licensing Enabled       |\n",
    "\n",
    "*Obviously, this data is quite outdated for the current year (2025), so any conclusions drawn may only be relevant to the digital landscape back in 2018.*"
   ]
  },
  {
   "cell_type": "markdown",
   "id": "8c6a0215",
   "metadata": {},
   "source": [
    "## Opening, Loading and Exploring the Datasets\n",
    "Each dataset of interest is first opened and stored in their respective variables (`opened_apple_file` and `opened_google_file`). The csv `reader` function from the csv module us then imported (from the Python Standard Library), allowing the opened file objects to be read and converted into nested list data structures for analysis."
   ]
  },
  {
   "cell_type": "code",
   "execution_count": 1,
   "id": "ef3414d9",
   "metadata": {},
   "outputs": [],
   "source": [
    "opened_apple_file = open(\"AppleStore.csv\", encoding=\"utf8\")\n",
    "opened_google_file = open(\"googleplaystore.csv\", encoding=\"utf8\")\n",
    "\n",
    "from csv import reader\n",
    "\n",
    "read_apple_file = reader(opened_apple_file)\n",
    "apple_data = list(read_apple_file)\n",
    "apple_header = apple_data[0]\n",
    "ios_app_data = apple_data[1:]\n",
    "\n",
    "read_google_file = reader(opened_google_file)\n",
    "google_data = list(read_google_file)\n",
    "google_header = google_data[0]\n",
    "android_app_data = google_data[1:]"
   ]
  },
  {
   "cell_type": "markdown",
   "id": "4bee8f0e",
   "metadata": {},
   "source": [
    "To make it simple to explore each dataset, we first define a function `explore_data()` which can be used repeatedly to retrieve rows presented in a digestible manner. The function takes any dataset as a nested list alongside a start row and an end row, outputting each row in the slice created from the start and end row. The `rows_and_columns` parameter is added to the function to give us the option to return the number of rows and columns within any dataset passed to it. The `header` parameter is included to ensure the header row is not included in the number of rows calculation."
   ]
  },
  {
   "cell_type": "code",
   "execution_count": 2,
   "id": "b70b8c65",
   "metadata": {},
   "outputs": [],
   "source": [
    "def explore_data(dataset, start, end, show_rows_and_columns=False, header=False):\n",
    "    dataset_slice = dataset[start:end]    \n",
    "    for row in dataset_slice:\n",
    "        print(row)\n",
    "        print('\\n') # adds new line after each row\n",
    "\n",
    "    if show_rows_and_columns and header:\n",
    "        print('Number of rows:', len(dataset) - 1) # if dataset contains header, remove one from row count\n",
    "        print('Number of columns:', len(dataset[0]))\n",
    "        \n",
    "    elif show_rows_and_columns and not header:\n",
    "        print('Number of rows:', len(dataset))\n",
    "        print('Number of columns:', len(dataset[0]))"
   ]
  },
  {
   "cell_type": "code",
   "execution_count": 3,
   "id": "c54eaf6f",
   "metadata": {},
   "outputs": [
    {
     "name": "stdout",
     "output_type": "stream",
     "text": [
      "['id', 'track_name', 'size_bytes', 'currency', 'price', 'rating_count_tot', 'rating_count_ver', 'user_rating', 'user_rating_ver', 'ver', 'cont_rating', 'prime_genre', 'sup_devices.num', 'ipadSc_urls.num', 'lang.num', 'vpp_lic']\n",
      "\n",
      "\n",
      "['284882215', 'Facebook', '389879808', 'USD', '0.0', '2974676', '212', '3.5', '3.5', '95.0', '4+', 'Social Networking', '37', '1', '29', '1']\n",
      "\n",
      "\n",
      "['389801252', 'Instagram', '113954816', 'USD', '0.0', '2161558', '1289', '4.5', '4.0', '10.23', '12+', 'Photo & Video', '37', '0', '29', '1']\n",
      "\n",
      "\n",
      "['529479190', 'Clash of Clans', '116476928', 'USD', '0.0', '2130805', '579', '4.5', '4.5', '9.24.12', '9+', 'Games', '38', '5', '18', '1']\n",
      "\n",
      "\n",
      "Number of rows: 7197\n",
      "Number of columns: 16\n"
     ]
    }
   ],
   "source": [
    "explore_data(apple_data, 0, 4, show_rows_and_columns=True, header=True)"
   ]
  },
  {
   "cell_type": "code",
   "execution_count": 4,
   "id": "ed7c1c4b",
   "metadata": {},
   "outputs": [
    {
     "name": "stdout",
     "output_type": "stream",
     "text": [
      "['App', 'Category', 'Rating', 'Reviews', 'Size', 'Installs', 'Type', 'Price', 'Content Rating', 'Genres', 'Last Updated', 'Current Ver', 'Android Ver']\n",
      "\n",
      "\n",
      "['Photo Editor & Candy Camera & Grid & ScrapBook', 'ART_AND_DESIGN', '4.1', '159', '19M', '10,000+', 'Free', '0', 'Everyone', 'Art & Design', 'January 7, 2018', '1.0.0', '4.0.3 and up']\n",
      "\n",
      "\n",
      "['Coloring book moana', 'ART_AND_DESIGN', '3.9', '967', '14M', '500,000+', 'Free', '0', 'Everyone', 'Art & Design;Pretend Play', 'January 15, 2018', '2.0.0', '4.0.3 and up']\n",
      "\n",
      "\n",
      "['U Launcher Lite – FREE Live Cool Themes, Hide Apps', 'ART_AND_DESIGN', '4.7', '87510', '8.7M', '5,000,000+', 'Free', '0', 'Everyone', 'Art & Design', 'August 1, 2018', '1.2.4', '4.0.3 and up']\n",
      "\n",
      "\n",
      "Number of rows: 10841\n",
      "Number of columns: 13\n"
     ]
    }
   ],
   "source": [
    "explore_data(google_data, 0, 4, show_rows_and_columns=True, header=True)"
   ]
  },
  {
   "cell_type": "markdown",
   "id": "42f1bb71",
   "metadata": {},
   "source": [
    "## Cleaning the datasets\n",
    "\n",
    "### Removal of inaccurate datapoints\n",
    "We begin by cleaning the datasets to ensure all records contain all of the relevant data for the analysis, removing any records that contain missing/incorrect data. \n",
    "\n",
    "The iOS dataset is free of any duplicate values and there is no known issues with inaccurate data according to users of the dataset from the original source."
   ]
  },
  {
   "cell_type": "code",
   "execution_count": 5,
   "id": "b7887ed1",
   "metadata": {},
   "outputs": [
    {
     "name": "stdout",
     "output_type": "stream",
     "text": [
      "Number of unique apps: 7197\n",
      "\n",
      "\n",
      "Number of duplicate apps: 0\n"
     ]
    }
   ],
   "source": [
    "unique_ids = []\n",
    "duplicate_ids = []\n",
    "\n",
    "for app in ios_app_data:\n",
    "  app_id = app[0]\n",
    "  if app_id not in unique_ids:\n",
    "    unique_ids.append(app_id)\n",
    "  else:\n",
    "    duplicate_ids.append(app_id)\n",
    "    \n",
    "print(\"Number of unique apps: \" + str(len(unique_ids)))\n",
    "print(\"\\n\")\n",
    "print(\"Number of duplicate apps: \" + str(len(duplicate_ids)))\n",
    "  "
   ]
  },
  {
   "cell_type": "markdown",
   "id": "1c7a088f",
   "metadata": {},
   "source": [
    "The Google Play dataset however does have some known issues and duplicate datapoints, which will be addressed below."
   ]
  },
  {
   "cell_type": "code",
   "execution_count": 6,
   "id": "ce95ac68",
   "metadata": {},
   "outputs": [
    {
     "name": "stdout",
     "output_type": "stream",
     "text": [
      "['Life Made WI-Fi Touchscreen Photo Frame', '1.9', '19', '3.0M', '1,000+', 'Free', '0', 'Everyone', '', 'February 11, 2018', '1.0.19', '4.0 and up']\n",
      "\n",
      "\n"
     ]
    }
   ],
   "source": [
    "explore_data(google_data, 10473, 10474)"
   ]
  },
  {
   "cell_type": "code",
   "execution_count": 7,
   "id": "1f2ba98c",
   "metadata": {},
   "outputs": [
    {
     "name": "stdout",
     "output_type": "stream",
     "text": [
      "['Command & Conquer: Rivals', 'FAMILY', 'NaN', '0', 'Varies with device', '0', 'NaN', '0', 'Everyone 10+', 'Strategy', 'June 28, 2018', 'Varies with device', 'Varies with device']\n",
      "\n",
      "\n"
     ]
    }
   ],
   "source": [
    "explore_data(google_data, 9149, 9150)"
   ]
  },
  {
   "cell_type": "markdown",
   "id": "cbe9ee28",
   "metadata": {},
   "source": [
    "The row at index 10473 in the raw googleplay dataset: ['Life Made WI-Fi Touchscreen Photo Frame', '1.9', '19', '3.0M', '1,000+', 'Free', '0', 'Everyone', ' ', 'February 11, 2018', '1.0.19', '4.0 and up'] is missing a category and hence caused column misalignment with the datapoints. Rather than guessing what the correct category should be, it is safer to delete this record.\n",
    "\n",
    "The row at index 9149 in the raw googleplay dataset: ['Command & Conquer: Rivals', 'FAMILY', 'NaN', '0', 'Varies with device', '0', 'NaN', '0', 'Everyone 10+', 'Strategy', 'June 28, 2018', 'Varies with device', 'Varies with device'] has a missing rating and price (labelled with not a number - NaN). Again, it is safer to delete this record.\n",
    "\n",
    "##### *These are known issues with the dataset (found in the Discussion tab from the original data source on Kaggle).*"
   ]
  },
  {
   "cell_type": "code",
   "execution_count": 8,
   "id": "9a35b615",
   "metadata": {},
   "outputs": [
    {
     "data": {
      "text/plain": [
       "[['Life Made WI-Fi Touchscreen Photo Frame',\n",
       "  '1.9',\n",
       "  '19',\n",
       "  '3.0M',\n",
       "  '1,000+',\n",
       "  'Free',\n",
       "  '0',\n",
       "  'Everyone',\n",
       "  '',\n",
       "  'February 11, 2018',\n",
       "  '1.0.19',\n",
       "  '4.0 and up'],\n",
       " ['Command & Conquer: Rivals',\n",
       "  'FAMILY',\n",
       "  'NaN',\n",
       "  '0',\n",
       "  'Varies with device',\n",
       "  '0',\n",
       "  'NaN',\n",
       "  '0',\n",
       "  'Everyone 10+',\n",
       "  'Strategy',\n",
       "  'June 28, 2018',\n",
       "  'Varies with device',\n",
       "  'Varies with device']]"
      ]
     },
     "execution_count": 8,
     "metadata": {},
     "output_type": "execute_result"
    }
   ],
   "source": [
    "deleted_google_data = [google_data.pop(10473), google_data.pop(9149)]\n",
    "\n",
    "deleted_google_data"
   ]
  },
  {
   "cell_type": "markdown",
   "id": "8c01b077",
   "metadata": {},
   "source": [
    "Confirm removal of the two records below by checking the new items at the indexes with inaccurate data:"
   ]
  },
  {
   "cell_type": "code",
   "execution_count": 9,
   "id": "3868e72b",
   "metadata": {},
   "outputs": [
    {
     "name": "stdout",
     "output_type": "stream",
     "text": [
      "['Sat-Fi Voice', 'COMMUNICATION', '3.4', '37', '14M', '1,000+', 'Free', '0', 'Everyone', 'Communication', 'November 21, 2014', '2.2.1.5', '2.2 and up']\n",
      "\n",
      "\n"
     ]
    }
   ],
   "source": [
    "explore_data(google_data, 10473, 10474)"
   ]
  },
  {
   "cell_type": "code",
   "execution_count": 10,
   "id": "c7656a0a",
   "metadata": {},
   "outputs": [
    {
     "name": "stdout",
     "output_type": "stream",
     "text": [
      "['Star Wars™: Galaxy of Heroes', 'FAMILY', '4.5', '1461698', '67M', '10,000,000+', 'Free', '0', 'Everyone 10+', 'Role Playing', 'May 21, 2018', '0.12.334385', '4.1 and up']\n",
      "\n",
      "\n"
     ]
    }
   ],
   "source": [
    "explore_data(google_data, 9149, 9150)"
   ]
  },
  {
   "cell_type": "markdown",
   "id": "2dbbd980",
   "metadata": {},
   "source": [
    "Running the `explore_data()` function on the googleplay dataset below confirms the deletion of the two records (the dataset now contains 10,839 records with the deleted records stored in the `deleted_google_data` variable)."
   ]
  },
  {
   "cell_type": "code",
   "execution_count": 11,
   "id": "cc19bf23",
   "metadata": {},
   "outputs": [
    {
     "name": "stdout",
     "output_type": "stream",
     "text": [
      "['App', 'Category', 'Rating', 'Reviews', 'Size', 'Installs', 'Type', 'Price', 'Content Rating', 'Genres', 'Last Updated', 'Current Ver', 'Android Ver']\n",
      "\n",
      "\n",
      "['Photo Editor & Candy Camera & Grid & ScrapBook', 'ART_AND_DESIGN', '4.1', '159', '19M', '10,000+', 'Free', '0', 'Everyone', 'Art & Design', 'January 7, 2018', '1.0.0', '4.0.3 and up']\n",
      "\n",
      "\n",
      "['Coloring book moana', 'ART_AND_DESIGN', '3.9', '967', '14M', '500,000+', 'Free', '0', 'Everyone', 'Art & Design;Pretend Play', 'January 15, 2018', '2.0.0', '4.0.3 and up']\n",
      "\n",
      "\n",
      "['U Launcher Lite – FREE Live Cool Themes, Hide Apps', 'ART_AND_DESIGN', '4.7', '87510', '8.7M', '5,000,000+', 'Free', '0', 'Everyone', 'Art & Design', 'August 1, 2018', '1.2.4', '4.0.3 and up']\n",
      "\n",
      "\n",
      "Number of rows: 10839\n",
      "Number of columns: 13\n"
     ]
    }
   ],
   "source": [
    "explore_data(google_data, 0, 4, show_rows_and_columns=True, header=True)"
   ]
  },
  {
   "cell_type": "markdown",
   "id": "0193318e",
   "metadata": {},
   "source": [
    "### Handling duplicate datapoints\n",
    "Additional known issues exist in the Google Play dataset (mentioned in the discussion section of the original source) - specifically the occurrence of multiple entries for the same app. \n",
    "\n",
    "For instance, there are four total entries for the Instagram app, likely because the data was scraped on four separate occasions. \n",
    "\n",
    "#### *Since the only difference between these entries are the total ratings for the app, we can remove entries with **fewer** total reviews. By keeping the entry with the greatest total reviews, this gives the highest likelihood that we are keeping the most recently collected datapoint for the app (which is preferable over randomly deleting duplicate entries).*"
   ]
  },
  {
   "cell_type": "code",
   "execution_count": 12,
   "id": "1b770485",
   "metadata": {},
   "outputs": [
    {
     "name": "stdout",
     "output_type": "stream",
     "text": [
      "['Instagram', 'SOCIAL', '4.5', '66577313', 'Varies with device', '1,000,000,000+', 'Free', '0', 'Teen', 'Social', 'July 31, 2018', 'Varies with device', 'Varies with device']\n",
      "['Instagram', 'SOCIAL', '4.5', '66577446', 'Varies with device', '1,000,000,000+', 'Free', '0', 'Teen', 'Social', 'July 31, 2018', 'Varies with device', 'Varies with device']\n",
      "['Instagram', 'SOCIAL', '4.5', '66577313', 'Varies with device', '1,000,000,000+', 'Free', '0', 'Teen', 'Social', 'July 31, 2018', 'Varies with device', 'Varies with device']\n",
      "['Instagram', 'SOCIAL', '4.5', '66509917', 'Varies with device', '1,000,000,000+', 'Free', '0', 'Teen', 'Social', 'July 31, 2018', 'Varies with device', 'Varies with device']\n"
     ]
    }
   ],
   "source": [
    "for app in android_app_data:\n",
    "  name = app[0]\n",
    "  if name == \"Instagram\":\n",
    "    print(app)"
   ]
  },
  {
   "cell_type": "markdown",
   "id": "7ba89c82",
   "metadata": {},
   "source": [
    "To get a full understanding of the state of the dataset, we create a list of all unique apps and a dictionary to contain all apps that have more than one entry in the database (with a key to indicate how many extra copies exist). \n",
    "\n",
    "The code below loops over all rows in the google play dataset, assigning the app name to the `name` variable. If the app name is not found in the `duplicate_apps` dictionary, the app is added to the `unique_apps` list. If the app is already found in the `unique_apps` list and is not already in the `duplicate_apps` dictionary, it will be instantiated in the dictionary with a value of 1 (for the first instance of a repeated entry). If the app is already present in the duplicate dictionary, +1 will be added to the value stored for that app to give the total number of extra entries of the app.\n",
    "\n",
    "The number of unique apps in the dataset can be found by simply returning the length of the `unique_apps` list. The number of unique apps with extra entries is found by returning the length of the `duplicate_apps` dictionary, with the total number of duplicates to be removed calculated by taking the sum of all values within the dictionary."
   ]
  },
  {
   "cell_type": "code",
   "execution_count": 13,
   "id": "2a947af1",
   "metadata": {},
   "outputs": [
    {
     "name": "stdout",
     "output_type": "stream",
     "text": [
      "Unique apps: ['Photo Editor & Candy Camera & Grid & ScrapBook', 'Coloring book moana', 'U Launcher Lite – FREE Live Cool Themes, Hide Apps', 'Sketch - Draw & Paint', 'Pixel Draw - Number Art Coloring Book', 'Paper flowers instructions', 'Smoke Effect Photo Maker - Smoke Editor', 'Infinite Painter', 'Garden Coloring Book', 'Kids Paint Free - Drawing Fun', 'Text on Photo - Fonteee', 'Name Art Photo Editor - Focus n Filters', 'Tattoo Name On My Photo Editor', 'Mandala Coloring Book', '3D Color Pixel by Number - Sandbox Art Coloring', 'Learn To Draw Kawaii Characters', 'Photo Designer - Write your name with shapes', '350 Diy Room Decor Ideas', 'FlipaClip - Cartoon animation', 'ibis Paint X', 'Logo Maker - Small Business', \"Boys Photo Editor - Six Pack & Men's Suit\", 'Superheroes Wallpapers | 4K Backgrounds', 'Mcqueen Coloring pages', 'HD Mickey Minnie Wallpapers', 'Harley Quinn wallpapers HD', 'Colorfit - Drawing & Coloring', 'Animated Photo Editor', 'Pencil Sketch Drawing', 'Easy Realistic Drawing Tutorial', 'Pink Silver Bow Keyboard Theme', 'Art Drawing Ideas', 'Anime Manga Coloring Book', 'Easy Origami Ideas', 'I Creative Idea', 'How to draw Ladybug and Cat Noir', 'UNICORN - Color By Number & Pixel Art Coloring', 'Floor Plan Creator', 'PIP Camera - PIP Collage Maker', 'How To Color Disney Princess - Coloring Pages', 'Drawing Clothes Fashion Ideas', 'Sad Poetry Photo Frames 2018', 'Textgram - write on photos', 'Paint Splash!', 'Popsicle Sticks and Similar DIY Craft Ideas', 'Canva: Poster, banner, card maker & graphic design', 'Install images with music to make video without Net - 2018', 'Little Teddy Bear Colouring Book Game', 'How To Draw Food', 'Monster Truck Stunt 3D 2019', 'Real Tractor Farming', 'Ultimate F1 Racing Championship', 'Used Cars and Trucks for Sale', 'American Muscle Car Race', 'Offroad Oil Tanker Driver Transport Truck 2019', 'Tickets SDA 2018 and Exam from the State Traffic Safety Inspectorate with Drom.ru', 'Gas Prices (Germany only)', 'Extreme Rally Championship', 'Restart Navigator', 'REG - Check the regnumber, find information about Swedish vehicles', 'CityBus Lviv', 'CDL Practice Test 2018 Edition', 'ezETC (ETC balance inquiry, meter trial, real-time traffic)', 'Free VIN Report for Used Cars', 'DMV Permit Practice Test 2018 Edition', 'Check Vehicle Tax', 'Used Cars Mexico', 'Ulysse Speedometer', 'REPUVE', 'Used cars for sale - Trovit', 'Fines of the State Traffic Safety Inspectorate are official: inspection, payment of fines', 'SK Enca Direct Malls - Used Cars Search', 'Android Auto - Maps, Media, Messaging & Voice', 'PDD-UA', 'Tickets SDA 2019 + Exam RF', 'Super Cars Wallpapers And Backgrounds', 'Police Lights, Sirens & Follow Me', 'Police Detector (Speed Camera Radar)', 'Best Car Wallpapers', 'Tickets + PDA 2018 Exam', 'Pick Your Part Garage', 'PakWheels: Buy & Sell Cars', 'Supervision service', 'Speed Camera Detector - Traffic & Speed Alert', 'Used car search Goo net whole car Go to net', 'CarMax – Cars for Sale: Search Used Car Inventory', 'BEST CAR SOUNDS', 'RST - Sale of cars on the PCT', 'AutoScout24 Switzerland – Find your new car', 'Zona Azul Digital Fácil SP CET - OFFICIAL São Paulo', 'SMS Park', 'SKencar', 'Fuelio: Gas log & costs', 'auto fines', 'Used car is the first car - used car purchase, used car quotation, dealer information to', 'All of the parking lot - National Park application (parking lot search / parking sharing / discount payment)', 'Inquiry Fines and Debits of Vehicles', 'Gas Station', 'Hush - Beauty for Everyone', 'ipsy: Makeup, Beauty, and Tips', 'Natural recipes for your beauty', 'BestCam Selfie-selfie, beauty camera, photo editor', 'Mirror - Zoom & Exposure -', 'Beauty Selfie Camera', 'Hairstyles step by step', 'Filters for Selfie', 'Tie - Always be happy', 'Ulta Beauty', 'Prom MakeUp Tutorial', 'Selfie Camera', 'Sweet Selfie Beauty Camera', 'Colors of white in Urdu', 'Selfie Camera Photo Editor & Filter & Sticker', 'Wrinkles and rejuvenation', 'Eyes Makeup Beauty Tips', 'Photo Editor 2018', 'Step By Step Eyes Makeup Tutorial', 'Beauty Camera - Selfie Camera', 'Girls Hairstyles', 'Mirror Camera (Mirror + Selfie Camera)', 'Beauty Tips - Beauty Tips in Sinhala', 'Haircut Tutorials/Haircut Videos', 'Sephora: Skin Care, Beauty Makeup & Fragrance Shop', 'Manicure - nail design', 'Sticker Camera - Selfie Filters, Beauty Camera', 'Filters for B Live', 'Skin Care and Natural Beauty', 'Facial Wrinkle Reduction', 'Makeup Videos', 'Secrets of beauty, youth and health', 'Recipes and tips for losing weight', 'Discover Color', 'Eyeliner step by step 2018', 'Dresses Ideas & Fashions +3000', 'Lady adviser (beauty, health)', 'Step By Step Hairstyles For Women', 'Rainbow Camera', 'Methods of teeth whitening', 'Girls hairstyles 2018', 'Wattpad 📖 Free Books', 'E-Book Read - Read Book for free', 'Download free book with green book', 'Wikipedia', 'Amazon Kindle', 'Cool Reader', 'Dictionary - Merriam-Webster', 'NOOK: Read eBooks & Magazines', 'Free Panda Radio Music', 'Book store', 'FBReader: Favorite Book Reader', 'English Grammar Complete Handbook', 'Free Books - Spirit Fanfiction and Stories', 'Google Play Books', 'AlReader -any text book reader', 'Offline English Dictionary', 'Oxford Dictionary of English : Free', 'Offline: English to Tagalog Dictionary', 'Spanish English Translator', 'FamilySearch Tree', 'Cloud of Books', 'Recipes of Prophetic Medicine for free', 'ReadEra – free ebook reader', 'NOOK App for NOOK Devices', 'Anonymous caller detection', 'Ebook Reader', 'Litnet - E-books', 'Read books online', 'English to Urdu Dictionary', 'eBoox: book reader fb2 epub zip', 'English Persian Dictionary', 'Flybook', 'All Maths Formulas', 'Ancestry', 'HTC Help', 'English translation from Bengali', 'Pdf Book Download - Read Pdf Book', 'Free Book Reader', 'eBoox new: Reader for fb2 epub zip books', 'Only 30 days in English, the guideline is guaranteed', 'Moon+ Reader', \"SH-02J Owner's Manual (Android 8.0)\", 'English-Myanmar Dictionary', 'Golden Dictionary (EN-AR)', 'All Language Translator Free', 'Azpen eReader', 'URBANO V 02 instruction manual', 'English Dictionary - Offline', 'Visual Voicemail by MetroPCS', 'Indeed Job Search', 'Uber Driver', 'ADP Mobile Solutions', 'Snag - Jobs Hiring Now', 'Docs To Go™ Free Office Suite', 'Google My Business', 'OfficeSuite : Free Office + PDF Editor', 'USPS MOBILE®', 'Job Search by ZipRecruiter', 'Curriculum vitae App CV Builder Free Resume Maker', 'Google Primer', 'Alba Heaven - Alvarez Job Portal Services', 'SuperLivePro', 'Facebook Pages Manager', 'OfficeSuite Pro + PDF (Trial)', 'My Space - Employment Center', 'Box', 'Polaris Office for LG', 'Call Blocker', 'Jobs in Alabama - Jobs in Alba', 'Square Point of Sale - POS', 'Plugin:AOT v5.0', 'Kariyer.net', 'SEEK Job Search', 'Become a Job - Find a job or advertise', 'ZOOM Cloud Meetings', 'Easy Installer - Apps On SD', 'Facebook Ads Manager', 'IndiaMART: Search Products, Buy, Sell & Trade', 'ViettelPost express delivery', 'MyASUS - Service Center', 'Job Korea - Career Jobs', '104 Looking for a job - looking for a job, looking for a job, looking for a part-time job, health checkup, resume, treatment room', 'Myanmar 2D/3D', 'Quick PDF Scanner + OCR FREE', 'sABN', 'ATI Cargoes and Transportation', 'Secure Folder', 'UPS Mobile', 'Y! Mobile menu', 'SignEasy | Sign and Fill PDF and other Documents', 'Genius Scan - PDF Scanner', 'Tiny Scanner - PDF Scanner App', 'Fast Scanner : Free PDF Scan', 'Mobile Doc Scanner (MDScan) Lite', 'TurboScan: scan documents and receipts in PDF', 'Tiny Scanner Pro: PDF Doc Scan', 'Zenefits', 'Google Ads', 'Slack', 'FreshBooks Classic', 'Insightly CRM', 'QuickBooks Accounting: Invoicing & Expenses', 'HipChat - Chat Built for Teams', 'Xero Accounting Software', 'MailChimp - Email, Marketing Automation', 'Crew - Free Messaging and Scheduling', 'Asana: organize team projects', 'Google Analytics', 'AdWords Express', 'Accounting App - Zoho Books', 'Invoice & Time Tracking - Zoho', 'join.me - Simple Meetings', 'Invoice 2go — Professional Invoices and Estimates', 'Cisco Webex Meetings', 'ScreenMeet. Easy Phone Meeting', 'Cisco Webex Teams', 'Microsoft Remote Desktop', 'Start Meeting', 'ClickMeeting Webinars', 'BlueJeans for Android', 'Skype for Business for Android', 'Verify - Receipts & Expenses', 'LINE WEBTOON - Free Comics', 'Manga Master - Best manga & comic reader', 'GANMA! - All original stories free of charge for all original comics', 'Röhrich Werner Soundboard', 'Unicorn Pokez - Color By Number', 'MangaToon - Comics updated Daily', 'Manga Net – Best Online Manga Reader', 'Manga Rock - Best Manga Reader', 'Manga - read Thai translation', 'The Vietnam Story - Fun Stories', 'Dragon Ball Wallpaper - Ringtones', 'Funny Jokes Photos', 'Truyện Vui Tý Quậy', 'Comic Es - Shojo manga / love comics free of charge ♪ ♪', 'comico Popular Original Cartoon Updated Everyday Comico', 'Daily Manga - Comic & Webtoon', '漫咖 Comics - Manga,Novel and Stories', 'Emmanuella Funny Videos 2018', 'DC Comics', 'Manga Zero - Japanese cartoon and comic reader', 'Marvel Unlimited', 'Tapas – Comics, Novels, and Stories', \"Children's cartoons (Mithu-Mina-Raju)\", \"Narrator's Voice\", '【Ranobbe complete free】 Novelba - Free app that you can read and write novels', 'Faustop Sounds', 'Manga Mania - Best online manga reader', '- Free Comics - Comic Apps', 'Manga AZ - Manga Comic Reader', 'Buff Thun - Daily Free Webtoon / Comics / Web Fiction / Mini Game', \"pixiv comic - everyone's manga app\", 'Funny Jokes and Stories 2018', 'Hojiboy Tojiboyev Life Hacks', 'Perfect Viewer', 'Best Wallpapers Backgrounds(100,000+ 4K HD)', 'think Comics', 'Memes Button', 'Laftel - Watching and Announcing Snooping, Streaming', 'Messenger – Text and Video Chat for Free', 'WhatsApp Messenger', 'Messenger for SMS', 'Google Chrome: Fast & Secure', 'Messenger Lite: Free Calls & Messages', 'Gmail', 'Hangouts', 'Viber Messenger', 'My Tele2', 'Firefox Browser fast & private', 'Yahoo Mail – Stay Organized', 'imo beta free calls and text', 'imo free video calls and chat', 'Contacts', 'Call Free – Free Call', 'Web Browser & Explorer', 'Opera Mini - fast web browser', 'Browser 4G', 'MegaFon Dashboard', 'ZenUI Dialer & Contacts', 'Cricket Visual Voicemail', 'Opera Browser: Fast and Secure', 'TracFone My Account', 'Firefox Focus: The privacy browser', 'Google Voice', 'Chrome Dev', 'Xperia Link™', 'TouchPal Keyboard - Fun Emoji & Android Keyboard', 'Who', 'Skype Lite - Free Video Call & Chat', 'WeChat', 'UC Browser Mini -Tiny Fast Private & Secure', 'WhatsApp Business', 'My magenta', 'Android Messages', 'Telegram', 'Google Duo - High Quality Video Calls', 'Puffin Web Browser', 'Seznam.cz', 'Antillean Gold Telegram (original version)', 'AT&T Visual Voicemail', 'GMX Mail', 'Omlet Chat', 'UC Browser - Fast Download Private & Secure', 'My Vodacom SA', 'Microsoft Edge', 'Hangouts Dialer - Call Phones', 'Talkatone: Free Texts, Calls & Phone Number', 'Calls & Text by Mo+', 'free video calls and chat', 'Skype - free IM & video calls', 'GO SMS Pro - Messenger, Free Themes, Emoji', 'Messaging+ SMS, MMS Free', 'chomp SMS', 'Glide - Video Chat Messenger', 'Text SMS', 'Google Allo', 'Talkray - Free Calls & Texts', 'LINE: Free Calls & Messages', 'GroupMe', 'mysms SMS Text Messaging Sync', 'BBM - Free Calls & Messages', 'KakaoTalk: Free Calls & Text', '2ndLine - Second Phone Number', 'CM Browser - Ad Blocker , Fast Download , Privacy', 'Ninesky Browser', 'Dolphin Browser - Fast, Private & Adblock🐬', 'Ghostery Privacy Browser', 'InBrowser - Incognito Browsing', 'Web Browser for Android', 'DU Browser—Browse fast & fun', 'Lightning Web Browser', 'Web Browser', 'Puffin Browser Pro', 'Contacts+', 'ExDialer - Dialer & Contacts', 'PHONE for Google Voice & GTalk', 'Safest Call Blocker', 'Full Screen Caller ID', 'Hiya - Caller ID & Block', 'Mr. Number-Block calls & spam', 'Should I Answer?', 'RocketDial Dialer & Contacts', 'CallApp: Caller ID, Blocker & Phone Call Recorder', 'Whoscall - Caller ID & Block', 'CIA - Caller ID & Call Blocker', 'Calls Blacklist - Call Blocker', 'Call Control - Call Blocker', 'True Contact - Real Caller ID', 'Video Caller Id', 'Sync.ME – Caller ID & Block', 'Burner - Free Phone Number', 'Truecaller: Caller ID, SMS spam blocking & Dialer', 'Caller ID +', 'K-9 Mail', 'myMail – Email for Hotmail, Gmail and Outlook Mail', 'Email TypeApp - Mail App', 'All Email Providers', 'Newton Mail - Email App for Gmail, Outlook, IMAP', 'GO Notifier', 'Mail.Ru - Email App', 'Mail1Click - Secure Mail', 'Daum Mail - Next Mail', 'mail.com mail', 'SolMail - All-in-One email app', 'Vonage Mobile® Call Video Text', 'JusTalk - Free Video Calls and Fun Video Chat', 'Moco+ - Chat, Meet People', 'Calculator', 'Truth or Dare Pro', 'Private Dating, Hide App- Blue for PrivacyHider', 'Ad Blocker for SayHi', 'AMBW Dating App: Asian Men Black Women Interracial', 'Zoosk Dating App: Meet Singles', 'OkCupid Dating', 'Match™ Dating - Meet Singles', 'Hily: Dating, Chat, Match, Meet & Hook up', 'Hinge: Dating & Relationships', 'Casual Dating & Adult Singles - Joyride', 'BBW Dating & Plus Size Chat', 'Moco - Chat, Meet People', 'CMB Free Dating App', 'Hot or Not - Find someone right now', 'eharmony - Online Dating App', 'Free Dating App & Flirt Chat - Match with Singles', 'Chispa, the Dating App for Latino, Latina Singles', 'Clover Dating App', 'Black People Meet Singles Date', 'Mingle2 - Free Online Dating & Singles Chat Rooms', 'Free Dating App & Flirt Chat - Cheers', 'stranger chat - anonymous chat', 'Blendr - Chat, Flirt & Meet', 'Free Dating Hook Up Messenger', 'Find Real Love — YouLove Premium Dating', 'Once - Quality Matches Every day', 'BLK - Swipe. Match. Chat.', 'Cougar Dating Life : Date Older Women Sugar Mummy', 'Howlr', 'Stranger Chat & Date', 'Free Dating & Flirt Chat - Choice of Love', 'RandoChat - Chat roulette', 'BeWild Free Dating & Chat App', 'FastMeet: Chat, Dating, Love', 'Free Dating App - YoCutie - Flirt, Chat & Meet', 'OurTime Dating for Singles 50+', 'FarmersOnly Dating', 'Dating for 50 plus Mature Singles – FINALLY', 'Sudy – Meet Elite & Rich Single', 'Christian Dating For Free App', 'Just She - Top Lesbian Dating', 'Single Parent Meet #1 Dating', 'EliteSingles – Dating for Single Professionals', 'Millionaire Match: Rich Singles Dating App', 'InterracialCupid - Interracial Dating App', 'Sugar Mommas Dating And Single Search', 'Hide App, Private Dating, Safe Chat - PrivacyHider', 'muzmatch: Muslim & Arab Singles, Marriage & Dating', 'NoBuffDating - Free Dating App', 'Sugar Daddy Dating App', 'Adult Dirty Emojis', 'Free Dating App - Meet Local Singles - Flirt Chat', 'Meet4U - Chat, Love, Singles!', 'SnpCupid Dating', 'Chat Rooms, Avatars, Date - Galaxy', 'Adult Dating - AdultFinder', 'Gay Sugar Daddy Dating & Hookup – Sudy Gay', 'Meet24 - Love, Chat, Singles', 'BBWCupid - BBW Dating App', 'ChatVideo Meet new people', 'TryDate - Free Online Dating App, Chat Meet Adults', 'Black White Interracial Dating - Interracial Match', 'USA Singles Meet, Match and Date Free - Date', 'FlirtChat - ♥Free Dating/Flirting App♥', 'The League', 'Herpes Dating: 1,000K+ Singles', 'Heart mill', '95Live -SG#1 Live Streaming App', 'Mutual - LDS Dating', '2RedBeans', 'SweetRing - Meet, Match, Date', 'BiggerCity: Chat for gay bears, chubs & chasers', 'SilverSingles: The 50+ Dating App', 'Herpes Positive Singles Dating', 'Glam - Premium Dating App', 'iDates - Chats, Flirts, Dating, Love & Relations', 'JustDating', 'Interracial Match Dating App', 'Russian Dating & Chat for Russian speaking RusDate', 'Sky People (SPI): A secure blind date through authentication by Seoul National University', 'Sweet mi - unlimited hunnam hunting blind date', 'Mingle - Online Dating App to Chat & Meet People', 'BBW Dating & Curvy Singles Chat- LargeFriends', 'Hitwe - meet people and chat', 'A hundred', 'JustSayHi- Dating App. Chat & Meet Singles Nearby', 'FERZU - Furries Social Network', 'WannaMeet – Dating & Chat App', 'Luxy Pro- Elite Dating Single', 'Dating Network', 'Chatting - Free chat, random chat, boyfriend, girlfriend', 'iPair-Meet, Chat, Dating', 'Meet, chat & date. Free dating app - Chocolate app', 'Transenger – Ts Dating and Chat for Free', 'O-Star', 'Free Cam Girls - Live Webcam', 'Cardi B Live Stream Video Chat - Prank', 'Live Girls Talk - Free Video Chat', 'Live Talk - Free Text and Video Chat', 'Chat Kids - Chat Room For Kids', 'Girls Live Chat - Free Text & Video Chat', 'Random Video Chat', 'MouseMingle', 'American Girls Mobile Numbers', 'Random Video Chat App With Strangers', 'FREE VIDEO CHAT - LIVE VIDEO AND TEXT CHAT', 'Awake Dating', 'Live Chat - Free Video Chat Rooms', 'Meet With Strangers: Video Chat & Dating', 'FREE LIVE TALK', 'Random Chat App with Strangers', 'Ost. Zombies Cast - New Music and Lyrics', 'Dating White Girls', 'Live Chat - Free Video Talk', 'Geeks Dating', 'Live chat - free video chat', 'House party - live chat', 'Fishing Brain & Boating Maps Marine', 'CAM5678 Video Chat', 'Video chat live advices', 'chat live chat', 'Pet Lovers Dating', 'Friend Find: free chat + flirt dating app', 'Latin Dating', 'Spine- The dating app', 'Online Chat Girls Meet', 'Wifi Mingle', 'Girls Live Talk - Free Text and Video Chat', 'Soy Luna - Top Music And Lyrics', 'When Will You Get Married', 'HOW TO ASK A GIRL OUT', 'Online Girls Chat Group', 'The DJ - Match with People', 'Toronto Dating', 'i miss you quotes and photos', 'JoJo Siwa Top Hits Music', 'UK Girls Mobile Numbers', 'chat saudi arabia', 'Chat Click - Dating Search', 'Iraq love chat', 'Healthy Relationships Guide', 'following', 'Gods by Night', 'PlusOne', 'Love Calendar - Couple Sharing Calendar & CoupleDay', 'Speeding Joyride & Car Meet App', 'LOBSTR - go on a lunch date', 'Titanic App - Feminist Dating Application', 'French Chat Room', 'Soul Mate', 'Diamond Engagement Rings', 'Dating Tips For Men', 'Halalguur', 'Find Lover', '2Date Dating App, Love and matching', 'Teenage Chat & Dating', 'Girls Online Talk - Free Text and Video Chat', 'Online Girls Chat', 'LIVE VIDEO TALK', 'SkyLove – Dating and chat', 'Free Live Talk-Video Call', 'FindLoving', 'Sugar Daddies Dating App', 'Chat Mexico: meet people, flirt and friendship', 'Duolingo: Learn Languages Free', 'TED', 'English Communication - Learn English for Chinese (Learn English for Chinese)', 'Khan Academy', 'Learn English with Wlingua', 'Ai La Trieu Phu - ALTP Free', 'Princess Coloring Book', 'Learn Spanish - Español', 'English Grammar Test', 'Speed Reading', 'English for beginners', 'Flame - درب عقلك يوميا', 'Mermaids', 'Learn Japanese, Korean, Chinese Offline & Free', 'Kids Mode', 'PBS KIDS Video', 'Dinosaurs Coloring Pages', 'Cars Coloring Pages', 'Babbel – Learn Languages', 'Math Tricks', 'Monster Truck Driver & Racing', 'Learn English Words Free', 'Japanese / English one-shop search dictionary - Free Japanese - English - Japanese dictionary application', 'English speaking texts', 'Thai Handwriting', 'THAI DICT 2018', 'Kanji test · Han search Kanji training (free version)', \"Game for KIDS: KIDS match'em\", 'Flippy Campus - Buy & sell on campus at a discount', 'Free intellectual training game application |', 'ABC Preschool Free', 'PINKFONG Baby Shark', 'English words application mikan', 'Learn English for beginners', 'Listen and learn English in seven days', 'Lumosity: #1 Brain Games & Cognitive Training App', 'Learn English from Persian: Persian to English', 'English with Lingualeo', 'Learn languages, grammar & vocabulary with Memrise', 'Quizlet: Learn Languages & Vocab with Flashcards', 'Udemy - Online Courses', 'Coursera: Online courses', 'edX - Online Courses by Harvard, MIT & more', 'Elevate - Brain Training Games', 'NeuroNation - Focus and Brain Training', 'Peak – Brain Games & Training', 'Memorado - Brain Games', 'Lynda - Online Training Videos', 'Brilliant', 'CppDroid - C/C++ IDE', 'Quiz&Learn Python', 'C++ Tutorials', 'C++ Programming', 'C Programming', 'Udacity - Lifelong Learning', 'Learn C++', 'Learn programming', 'Learn JavaScript', 'Learn Java', 'Learn HTML', 'Programming Hub, Learn to code', 'Learn SQL', 'Ready4 SAT (Prep4 SAT)', 'Socratic - Math Answers & Homework Help', 'Ready4 GMAT (Prep4 GMAT)', 'Pocket GMAT Math', 'GMAT Question Bank', 'GRE Tutor', 'GRE Flashcards', 'play2prep: ACT, SAT prep', 'SAT Test', 'GMAT Math Flashcards', 'Pocket SAT Math', 'TOEFL Prep & Practice from Magoosh', 'GRE Prep & Practice by Magoosh', 'GRE® Flashcards by Kaplan', 'SAT Vocabulary', 'Magoosh GMAT Prep & Practice', 'SAT Flashcards: Prep & Vocabulary', 'Rosetta Stone: Learn to Speak & Read New Languages', 'Google Classroom', 'LinkedIn Learning: Online Courses to Learn Skills', 'Learn English with Phrases', 'Free english course', 'Learn 50 languages', 'Babbel – Learn Spanish', 'Mango Languages: Lovable Language Courses', 'Learn English with Aco', 'Learn to Speak English', 'busuu: Learn Languages - Spanish, English & More', 'My Class Schedule: Timetable', 'Study Checker', 'My Study Life - School Planner', 'HomeWork', 'Next Gen Science Standards', 'myHomework Student Planner', \"Teacher's Gradebook - Additio\", 'Common Core', 'Homework Planner', 'TeachersPayTeachers', 'Edmodo', 'Socrative Teacher', 'Training schedule - AllUniver', 'Remind: School Communication', 'ClassDojo', 'Lerni. Learn languages.', 'HelloTalk — Chat, Speak & Learn Foreign Languages', 'Innovative: Learn 34 Languages', 'Chegg Study - Homework Help', 'Canvas Student', 'Timetable', 'EasyBib: Citation Generator', 'SoloLearn: Learn to Code for Free', 'Kids Learn Languages by Mondly', 'Blinkist - Nonfiction Books', 'Sago Mini Hat Maker', 'Fuzzy Numbers: Pre-K Number Foundation', 'Toca Life: City', 'Toca Life: Hospital', 'Netflix', 'Complete Spanish Movies', 'Pluto TV - It’s Free TV', 'Tubi TV - Free Movies & TV', 'YouTube Kids', 'Mobile TV', 'TV+', 'Digital TV', 'Motorola Spotlight Player™', 'Vigo Lite', 'Google Play Games', 'Hotstar', 'Peers.TV: broadcast TV channels First, Match TV, TNT ...', 'The green alien dance', 'Spectrum TV', 'H TV', 'StarTimes - Live International Champions Cup', 'Cinematic Cinematic', 'MEGOGO - Cinema and TV', 'Talking Angela', 'DStv Now', 'ivi - movies and TV shows in HD', 'Radio Javan', 'Viki: Asian TV Dramas & Movies', 'Talking Ginger 2', 'Girly Lock Screen Wallpaper with Quotes', 'No.Draw - Colors by Number 2018', '🔥 Football Wallpapers 4K | Full HD Backgrounds 😍', 'Movies by Flixster, with Rotten Tomatoes', 'Low Poly – Puzzle art game', 'BBC Media Player', 'Amazon Prime Video', 'Adult Glitter Color by Number Book - Sandbox Pages', 'IMDb Movies & TV', 'Twitch: Livestream Multiplayer Games & Esports', 'Ziggo GO', 'YouTube Gaming', 'PlayStation App', 'Talking Ben the Dog', 'Red Bull TV: Live Sports, Music & Entertainment', 'Trailer Addict Movie Trailers', 'Cinemark Theatres', 'Regal Cinemas', 'Fandango Movies - Times + Tickets', 'Marcus Theatres', 'Harkins Theatres', 'AMC Theatres', 'Food Network', 'Cooking Channel', 'Animal Planet GO', 'VRV: Anime, game videos & more', 'DramaFever: Stream Asian Drama Shows & Movies', 'Crunchyroll - Everything Anime', 'Investigation Discovery GO', 'Crackle - Free TV & Movies', 'CBS - Full Episodes & Live TV', 'STARZ', 'Acorn TV: World-class TV from Britain and Beyond', 'HISTORY: Watch TV Show Full Episodes & Specials', 'Nick', 'VH1', 'FOX NOW - On Demand & Live TV', 'A&E - Watch Full Episodes of TV Shows', 'The CW', 'BET NOW - Watch Shows', 'Hulu: Stream TV, Movies & more', 'HBO NOW: Stream TV & Movies', 'Univision NOW - Live TV and On Demand', 'SHOWTIME', 'Lifetime - Watch Full Episodes & Original Movies', 'SeriesGuide – Show & Movie Manager', 'Comedy Central', 'CW Seed', 'The NBC App - Watch Live TV and Full Episodes', 'WWE', 'Universal Kids', 'MTV', 'LEGO® TV', 'HBO GO: Stream with TV Package', 'Showtime Anytime', 'PlayKids - Educational cartoons and games for kids', 'FOX', 'Telemundo Now', 'Vudu Movies & TV', 'Yidio: TV Show & Movie Guide', 'Redbox', 'Tribeca Shortlist - Handpicked Movies', 'Nick Jr. - Shows & Games', 'Sticker Market: Emoji keyboard', 'Kidjo TV Kids Have Fun & Learn', 'Laugh Out Loud by Kevin Hart', 'ColorFul - Adult Coloring Book', 'Hamilton — The Official App', 'My Talking Pet', 'Funny Pics', 'Funny Quotes Free', 'LOL Pics (Funny Pictures)', 'Meme Creator', 'Imgur: Find funny GIFs, memes & watch viral videos', 'Meme Generator', 'SketchBook - draw and paint', 'Colorfy: Coloring Book for Adults - Free', 'All Events in City', 'Ticketmaster Event Tickets', 'Reminder', 'Birdays - Birthday reminder', 'StubHub - Tickets to Sports, Concerts & Events', 'Fever', 'DroidAdmin for Android - Advice', 'SeatGeek – Tickets to Sports, Concerts, Broadway', 'my4D', 'VAN NIAN 2018 - Vietnamese Calendar', 'Vivid Seats – Event Tickets', 'Name days', 'LBB - Find New & Unique Things To Do Around You', 'Happy Birthday Songs Offline', 'Series Valley of the Wolves full of part', 'Mummatikabalkuragi', 'Gametime - Tickets to Sports, Concerts, Theater', 'PTI Flex Maker, Photo Frame Editor & Songs 2018', 'Wipe out', 'Birthdays & Other Events', 'Sarajevo Film Festival - Official', 'Summer Madness', 'Events High - Meet Your City!', 'vide-greniers.org', 'SUMMER SONIC app', 'Quake & Volcanoes: 3D Globe of Volcanic Eruptions', 'Prosperity', \"Picktrainer: India's largest photo contest app\", 'AAS-IN-ASIA 2018', 'Moot Peru 2018', 'FM News', 'Goldstar: Live Event Tickets', 'Emmabodafestivalen', 'KudaGo - things to do in NY', 'Mindvalley U Tallinn 2018', 'Rockmaraton Info', 'Freitas Auctioneer Official', 'mobLee Events', 'Xceed - Clubs, DJs, Festivals & Tickets', 'AMM Events & CPD', 'Arab Halls - For Wedding & Events', 'MeAuDote - An act of love that saves a life', 'TCF National Conference', 'Endurance Lifestyle', 'K PLUS', 'ING Banking', 'Citibanamex Movil', 'The postal bank', 'KTB Netbank', 'Mobile Bancomer', 'Nedbank Money', 'SCB EASY', 'CASHIER', 'Rabo Banking', 'Capitec Remote Banking', 'Itau bank', 'Nubank', 'The Societe Generale App', 'IKO', 'Cash App', 'Standard Bank / Stanbic Bank', 'Bualuang mBanking', 'Intesa Sanpaolo Mobile', 'UBA Mobile Banking', 'BBVA Spain', 'MyMo by GSB', 'VTB-Online', 'Ecobank Mobile Banking', 'Banorte Movil', 'Wells Fargo Mobile', 'Credit Karma', 'BZWBK24 mobile', 'PayPal', 'Capital One® Mobile', 'Zenith Bank Mobile App', 'GCash - Buy Load, Pay Bills, Send Money', 'Post Bank', 'İşCep', \"People's Bank\", 'Google Pay', 'Transfer', 'T-Mobile in', 'TrueMoney Wallet', 'Alfa-Bank (Alfa-Bank)', 'Bank of Brazil', 'WiseBanyan - Invest For Free', 'Robinhood - Investing, No Fees', 'Wells Fargo Daily Change', 'Even - organize your money, get paid early', 'Digit Save Money Automatically', 'Stash: Invest. Learn. Save.', 'Acorns - Invest Spare Change', 'Money Lover: Expense Tracker, Budget Planner', 'Expense IQ Money Manager', 'Money Manager Expense & Budget', 'Prism Pay Bills, Track Money, Personal Finance', 'Monefy - Money Manager', 'Simple - Better Banking', 'Chime - Mobile Banking', 'Bluebird by American Express', 'Walmart MoneyCard', 'Moven - Smart Finances', 'Qapital - Save Small. Live Large', 'Experian - Free Credit Report', 'Branch', 'WalletHub - Free Credit Score, Report & Monitoring', 'CreditWise from Capital One', 'NerdWallet: Personal Finance, Credit Score & Cash', 'my face', 'Credit Sesame', 'Mint: Budget, Bills, Finance', 'Fresh EBT - Food Stamp Balance', 'Hurdlr: Track Mileage, Expenses, and Log Receipts', 'Mobills: Budget Planner', 'Everlance: Free Mileage Log', 'MileIQ - Free Mileage Tracker for Business', 'QuickBooks Self-Employed:Mileage Tracker and Taxes', 'FREE Stock Market Trading Tips', 'MetaTrader 5', 'MetaTrader 4', 'Stock Quote', 'Seeking Alpha', 'Stock Trainer: Virtual Trading (Stock Markets)', 'Stocks: Realtime Quotes Charts', 'Stocks, Forex, Bitcoin, Ethereum: Portfolio & News', 'CNBC: Breaking Business News & Live Market Data', 'US Stock Market', 'Bloomberg Professional', 'E*TRADE Mobile', 'MSN Money- Stock Quotes & News', 'Fox Business', 'NSE Mobile Trading', 'Yahoo Finance', 'JStock - Stock Market, Portfolio & News', 'Webull - Stock Quotes & Free Stock Trading', 'Trading 212 - Forex, Stocks, CFDs', 'Moneycontrol – Stocks, Sensex, Mutual Funds, IPO', 'Current debit card and app made for teens', 'Betterment', 'Citizens Bank Mobile Banking', 'GoBank', 'NetSpend Prepaid', 'BBVA Compass Banking', 'BankMobile Vibe App', 'Netspend Skylight ONE', 'ACE Elite', 'U.S. Bank', 'Huntington Mobile', 'USAA Mobile', 'Associated Credit Union Mobile', 'Bank of America Mobile Banking', 'USE Credit Union Mobile', 'Discover Mobile', 'Amex Mobile', 'Citi Mobile®', 'Navy Federal Credit Union', 'Chase Mobile', 'HDFC Bank MobileBanking', 'Barclays US for Android', \"McDonald's\", 'Easy and Fast Recipes', 'Cookpad - FREE recipe search makes fun cooking · musical making!', 'DELISH KITCHEN - FREE recipe movies make food fun and easy!', 'Sumine side dish - dish recipe side dish', 'Easy Recipes', 'Delicious Recipes', 'Tastely', 'Pastry & Cooking (Without Net)', 'Frigo Magic: Easy recipe idea and anti-waste', \"McDonald's - McDonald's Japan\", 'Debonairs Pizza', 'Popeyes® App', \"Dunkin' Donuts\", 'Pyaterochka', 'Refreshing app Free application that can use deal coupons', 'Simple Recipes', 'Grubhub: Food Delivery', 'Panera Bread', 'Chick-fil-A', 'hellofood - Food Delivery', 'Starbucks', 'Easy and quick desserts', \"Domino's Pizza USA\", 'Chef - Recipes & Cooking', 'Delivery Club-food delivery: pizza, sushi, burger, salad', 'HungerStation', 'Delivery yogi.', 'Delivery trough - delivery trough delivery trough', 'Dr. Oetker recipe ideas', 'SONIC Drive-In', 'SUBWAY®', 'GialloZafferano: Recipes', 'Dairy Queen', '9th stage', 'OpenRice', 'SarashpazPapion (Cooking with Chef Bowls)', 'Little Caesars', 'Recipes Pastries and homemade pies More than 500 recipes for pastries', 'Om Waleed Sweets', 'Eat Fast Prepare \"Without Internet\"', 'Wendy’s – Food and Offers', 'My Recipes Cookbook : RecetteTek', 'Healthy Recipes Free', 'Cookbook Recipes', 'ChefTap Recipes & Grocery List', 'Recipe Keeper', 'My CookBook (Recipe Manager)', '50 Healthy Slow Cooker Recipes', 'Easy Healthy Recipes', 'Allrecipes Dinner Spinner', 'My CookBook Pro (Ad Free)', 'Paprika Recipe Manager', 'Yummly Recipes & Shopping List', 'Kitchen Stories - Recipes & Cooking', 'Cookpad', 'BigOven Recipes, Meal Planner, Grocery List & More', 'Postmates Food Delivery: Order Eats & Alcohol', 'Instacart: Grocery Delivery', 'OpenTable: Restaurants Near Me', 'Foursquare City Guide', 'Zomato - Restaurant Finder and Food Delivery App', 'Munchery: Chef Crafted Fresh Food Delivered', 'delivery.com: Order Food, Alcohol & Laundry', 'Eat24 Food Delivery & Takeout', 'BeyondMenu Food Delivery', 'EatStreet Food Delivery App', 'Pizza Hut', 'Caviar - Food Delivery', 'DoorDash - Food Delivery', 'Uber Eats: Local Food Delivery', 'Seamless Food Delivery/Takeout', 'Talabat: Food Delivery', 'TheFork - Restaurants booking and special offers', 'foodpanda - Local Food Delivery', 'Home Workout - No Equipment', 'Step Counter - Calorie Counter', 'Lose Belly Fat in 30 Days - Flat Stomach', 'Pedometer - Step Counter Free & Calorie Burner', 'Six Pack in 30 Days - Abs Workout', 'Lose Weight in 30 Days', 'Pedometer', 'LG Health', 'Step Counter - Pedometer Free & Calorie Counter', 'Pedometer, Step Counter & Weight Loss Tracker App', 'Sportractive GPS Running Cycling Distance Tracker', '30 Day Fitness Challenge - Workout at Home', 'Home Workout for Men - Bodybuilding', 'Fat Burning Workout - Home Weight lose', 'Buttocks and Abdomen', 'Walking for Weight Loss - Walk Tracker', 'Running & Jogging', 'Walk with Map My Walk', 'Sleep Sounds', 'Fitbit', 'Lose Belly Fat-Home Abs Fitness Workout', 'Runtastic Running App & Mile Tracker', 'Cycling - Bike Tracker', 'Abs Training-Burn belly fat', 'Calorie Counter - EasyFit free', 'Nike+ Run Club', 'Aunjai i lert u', 'Garmin Connect™', 'BetterMe: Weight Loss Workouts', 'Bike Computer - GPS Cycling Tracker', 'Calorie Counter - MyFitnessPal', 'Six Packs for Man–Body Building with No Equipment', 'Weight Watchers Mobile', 'Endomondo - Running & Walking', 'Running Distance Tracker +', 'The TK-App - everything under control', 'Runkeeper - GPS Track Run Walk', 'Walking: Pedometer diet', 'Recipes for hair and face tried', 'Abs Workout - 30 Days Fitness App for Six Pack Abs', '8fit Workouts & Meal Planner', 'Keep Trainer - Workout Trainer & Fitness Coach', 'Run with Map My Run', 'Weight Loss Running by Verv', 'Couch to 10K Running Trainer', 'PumpUp — Fitness Community', 'Home workouts - fat burning, abs, legs, arms,chest', 'Running Weight Loss Walking Jogging Hiking FITAPP', 'Strava Training: Track Running, Cycling & Swimming', 'Workout Trainer: fitness coach', 'Fabulous: Motivate Me! Meditate, Relax, Sleep', 'StrongLifts 5x5 Workout Gym Log & Personal Trainer', '7 Minute Workout', 'Workout Tracker & Gym Trainer - Fitness Log Book', 'Freeletics: Personal Trainer & Fitness Workouts', 'Nike Training Club - Workouts & Fitness Plans', 'Fitbit Coach', 'JEFIT Workout Tracker, Weight Lifting, Gym Log App', 'Map My Ride GPS Cycling Riding', 'Daily Workouts - Exercise Fitness Routine Trainer', 'Google Fit - Fitness Tracking', 'Sworkit: Workouts & Fitness Plans', 'Map My Fitness Workout Trainer', 'Sports Tracker Running Cycling', 'Seven - 7 Minute Workout Training Challenge', 'Daily Yoga - Yoga Fitness Plans', 'Pocket Yoga', 'Relax Meditation: Sleep with Sleep Sounds', 'Free Meditation - Take a Break', 'Meditate OM', 'Yoga - Track Yoga', 'My Chakra Meditation', 'Relax with Andrew Johnson Lite', 'Meditation Music - Relax, Yoga', 'Meditation Studio', 'Down Dog: Great Yoga Anywhere', '21-Day Meditation Experience', 'My Chakra Meditation 2', 'Simply Yoga - Fitness Trainer for Workouts & Poses', 'Calm - Meditate, Sleep, Relax', 'Relax Melodies P: Sleep Sounds', 'Relax Melodies: Sleep Sounds', 'Simple Habit Meditation', 'Headspace: Meditation & Mindfulness', 'Yoga Studio: Mind & Body', 'Pregnancy & Baby Tracker', 'My Cycles Period and Ovulation', 'I’m Expecting - Pregnancy App', 'The Bump Pregnancy Tracker', 'My Days - Ovulation Calendar & Period Tracker ™', 'Best Ovulation Tracker Fertility Calendar App Glow', 'Eve Period Tracker - Love, Sex & Relationships App', 'Fertility Friend Ovulation App', 'Pregnancy Tracker', 'Period Tracker', 'Spot On Period, Birth Control, & Cycle Tracker', 'OvuView: Ovulation and Fertility', 'Period Tracker - Period Calendar Ovulation Tracker', 'Period Tracker Clue: Period and Ovulation Tracker', 'WomanLog Calendar', 'Geocaching®', 'Map My Hike GPS Hiking', 'ViewRanger - Hike, Ride or Walk', 'Runtastic Mountain Bike GPS Tracker', 'AllTrails: Hiking, Running & Mountain Bike Trails', 'Water Drink Reminder', 'Zombies, Run! 5k Training (Free)', 'Tracks', 'YAZIO Calorie Counter, Nutrition Diary & Diet Plan', 'Technutri - calorie counter, diet and carb tracker', 'Couch to 5K by RunDouble', 'Fooducate Healthy Weight Loss & Calorie Counter', 'My Diet Coach - Weight Loss Motivation & Tracker', 'Lose It! - Calorie Counter', 'Calorie Counter - MyNetDiary', '10 Best Foods for You', 'MyPlate Calorie Tracker', 'My Diet Diary Calorie Counter', 'Calorie Counter - Macros', 'Calorie Counter by FatSecret', 'Weight Loss Tracker - RecStyle', 'Lark - 24/7 Health Coach', 'MealLogger-Photo Food Journal', 'Health and Nutrition Guide', 'Calorie Counter & Diet Tracker', 'Food Calorie Calculator', 'Monitor Your Weight', 'Eat Fit - Diet and Health Free', 'Self Healing', 'Happify', 'Binaural Beats Therapy', 'Pacifica - Stress & Anxiety', 'Relaxing Sounds', 'White Sound Pro', 'Insight Timer - Free Meditation App', 'Self-help Anxiety Management', 'Brain Waves - Binaural Beats', 'Prana Breath: Calm & Meditate', '7 Cups: Anxiety & Stress Chat', 'Runtastic Sleep Better: Sleep Cycle & Smart Alarm', 'White Noise Lite', 'Stop, Breathe & Think: Meditation & Mindfulness', 'Zillow: Find Houses for Sale & Apartments for Rent', 'Viva Decora - Decoration, Photos, Architecture, House', 'Apartments & Rentals - Zillow', 'Realtor.com Real Estate: Homes for Sale and Rent', 'Real Estate sale & rent Trovit', '591 housing transactions - renting houses, middle-class houses, new cases, real-time registration, villas through the sky, apartment suites, MRT, buying a house selling prices, housing mortgages', 'Homes.com 🏠 For Sale, Rent', 'CYANOGEN. Rent, buy an apartment, a room, a cottage 3+', 'Trulia Real Estate & Rentals', 'Latest 2018 Home Designs', 'Houzz Interior Design Ideas', 'Good room network fast rent', 'Yongqing fast search', \"LIFULL HOME'S\", 'Apartment List: Housing, Apt, and Property Rentals', 'Gold Butterfly Keyboard Theme', 'Apartment, Home Rental Search: Realtor.com Rentals', 'Living Smart Home', '591 Housing Trading - Hong Kong', 'Trulia Rent Apartments & Homes', 'Redfin Real Estate', 'Domofond Real Estate. Buy, rent an apartment.', 'realestate.com.au - Buy, Rent & Sell Property', 'Yes319 real price login query', 'DaBang - Rental Homes in Korea', 'DIY On A Budget', 'Free Foreclosure Real Estate Search by USHUD.com', 'Mortgage by Zillow: Calculator & Rates', 'Home Security Camera WardenCam - reuse old phones', 'Room planner: Interior & Floorplan Design for IKEA', 'Rent.com Apartment Homes', 'Good house to buy a house', 'LH Housing Promotion Notice', 'Apartments.com Rental Search', 'Hemnet', 'At home - rental · real estate · room finding application such as apartment · apartment', 'Alfred Home Security Camera', 'House app: beautiful everyday ~', 'Home tips and advice', 'N1.RU - Real estate: apartments, new buildings, lodging', 'Ruler', 'Home Decor Showpiece Art making: Medium Difficulty', '乐屋网: Buying a house, selling a house, renting a house', 'Real estate court auction information site - Hyundai court auction', 'iProperty Malaysia', 'ColorSnap® Visualizer', 'Apartment Decorating Ideas', 'Bedroom Decorating Ideas', 'Room Painting Ideas', 'Kitchen Island Ideas', 'Living Room Decorating Ideas', 'Bathroom Decorating Ideas', 'Wall Decorating Ideas', 'Zumper - Apartment Rental Finder', 'RadPad: Apartment Finder App', 'Homesnap Real Estate & Rentals', 'Trulia Mortgage Calculators', 'Public Digital Library', 'Quotes', 'Best New Ringtones 2018 Free 🔥 For Android™', 'Lamp detector', 'SUDOKU', 'General culture', 'Luffs', 'Aviary Effects: Classic', 'Chakra Cleansing', 'Aviary Stickers: Free Pack', 'Call Recorder', 'Pink Water Sakura Keyboard Theme', 'auto Call Recorder 2018', 'converter video to mp3', 'eBiblio', 'chicken song', 'Words (188 Category)', 'Binaural Beats Meditation', 'Essential Resources', 'MOMOLAND BBoom BBoom', 'Cold Spirits', 'Cardboard', 'How to sew & make the easiest pattern', 'I will return his eggs', 'Bird Sounds & Bird Ringtones for Free 2018', 'Benefits of olive oil with garlic', 'Sad hair without net', 'Top Popular Ringtones 2018 Free 🔥', 'Wifi Connect Library', 'Super Funny Ringtones 2018 🔔', 'Apk Installer', 'SAMSUNG RETAILMODE 2018', 'OpenCV Manager', 'Eternal life', 'V380s', 'Cool Popular Ringtones 2018 🔥', \"Blackpink as if it's your last\", 'Wifi Test', 'Patience Words', 'Market Update Helper', 'Ayyush wih wih new without Net', 'Girls Nancy Ajram Without Net', 'R M Lock Screen', \"Mama Lala 's song\", 'Barcode Scanner', 'Young Speeches', 'New Ringtones 2018', 'EyeCloud', 'Dollhouse Decorating Games', 'metroZONE', 'Easy Hair Style Design', 'Talking Babsy Baby: Baby Games', 'Black Wallpaper, AMOLED, Dark Background: Darkify', 'Girly Wallpapers Backgrounds', 'Chart - Myanmar Keyboard', 'Easy Makeup Tutorials', 'Horoscopes – Daily Zodiac Horoscope and Astrology', 'Entel', 'ZenUI Safeguard', 'Live 4D Results ! (MY & SG)', 'Diary with lock', 'FOSSIL Q: DESIGN YOUR DIAL', 'Telstra', 'Family Locator - GPS Tracker', 'Van Nien 2018 - Lich Van su & Lich Am', 'Safeway', 'HTC Speak', 'Kawaii Easy Drawing : How to draw Step by Step', 'Tattoodo - Find your next tattoo', 'H&M', 'Samsung+', 'Anime Avatar Creator: Make Your Own Avatar', 'Beautiful Design Birthday Cake', 'Pronunciation and know the name of the caller from his number', 'Super Slime Simulator - Satisfying Slime App', 'Caf - My Account', 'H Pack', 'Family convenience store FamilyMart', 'သိင်္ Astrology - Min Thein Kha BayDin', 'w UN map', 'Official Matsumoto Kiyoshi application', 'Galaxy Gift', 'PASS by KT (formerly KT certified)', 'Safety stepping stone', 'Rate Guide Bill Letter', 'US Mission - buy gourmet movie KTV', 'OK cashbag [point of pleasure]', 'JOANN - Crafts & Coupons', 'MK eCatalog', 'Vaniday - Beauty Booking App', 'Fashion in Vogue', 'Mirror', 'StyleSeat', 'Wedding Countdown Widget', 'My Day - Countdown Calendar 🗓️', 'justWink Greeting Cards', 'Wedding LookBook by The Knot', 'Big Days - Events Countdown', 'Wedding Planner by WeddingWire - Venues, Checklist', 'Been Together (Ad) - D-day', 'WedMeGood - Wedding Planner', 'DIY Garden Ideas', 'Brit + Co', 'Creative Ideas - DIY & Craft', 'Homestyler Interior Design & Decorating Ideas', 'Wheretoget: Shop in style', 'My Dressing - Fashion closet', 'Chictopia', 'Scarf Fashion Designer', 'Zara', 'Real Estate by Movoto', 'Etta Homes', 'Houlihan Lawrence', 'Home Scouting® MLS Mobile', 'Housing-Real Estate & Property', 'ZipRealty Real Estate & Homes', \"Sotheby's International Realty\", 'Zoopla Property Search UK - Home to buy & rent', 'Neighborhoods & Apartments', 'Keller Williams Real Estate', 'Relax Rain ~ Rain Sounds', 'Relax Ocean ~ Nature Sounds', 'Bed Time Fan - White Noise Sleep Sounds', 'Nature Sounds', 'SleepyTime: Bedtime Calculator', 'White Noise Baby', 'White Noise ~ Sleeping Sounds', 'Journey - Diary, Journal', '7 Day Food Journal Challenge', 'ROBLOX', 'Subway Surfers', 'Candy Crush Saga', 'Solitaire', 'Bubble Shooter', 'Hello Kitty Nail Salon', 'slither.io', 'Clash Royale', 'Temple Run 2', 'Pou', 'Helix Jump', 'Block Puzzle', 'Angry Birds Rio', 'Plants vs. Zombies FREE', 'Sonic Dash', 'Candy Crush Soda Saga', 'Zombie Hunter King', 'Clash of Clans', 'Kick the Buddy', 'Block Puzzle Classic Legend !', 'PAC-MAN', 'Super Jim Jump - pixel 3d', '8 Ball Pool', 'Magic Tiles 3', 'Bubble Witch 3 Saga', 'Word Search', 'Granny', 'Angry Birds Classic', 'Flow Free', 'Race the Traffic Moto', 'Fishdom', 'Galaxy Attack: Alien Shooter', 'Zombie Tsunami', 'Bubble Shooter 2', 'Barbie™ Fashion Closet', 'Candy Crush Jelly Saga', 'Hill Climb Racing', 'Gardenscapes', 'Marble - Temple Quest', 'Shooting King', 'Zombie Catchers', 'Minion Rush: Despicable Me Official Game', 'Farm Heroes Saga', 'Geometry Dash World', 'My Talking Angela', 'Cut the Rope FULL FREE', 'Sniper 3D Gun Shooter: Free Shooting Games - FPS', 'Cooking Fever', 'Toon Blast', 'Score! Hero', 'Toy Blast', 'Miraculous Ladybug & Cat Noir - The Official Game', 'Wordscapes', 'Garena Free Fire', 'Bowmasters', 'My Talking Tom', 'Jungle Marble Blast', 'Rider', 'Roll the Ball® - slide puzzle', 'Talking Tom Gold Run', 'Pixel Art: Color by Number Game', 'Dream League Soccer 2018', 'Fruits Bomb', 'Traffic Racer', 'Hill Climb Racing 2', 'Knife Hit', 'Block Craft 3D: Building Simulator Games For Free', 'Farm Fruit Pop: Party Time', 'Love Balls', 'Hungry Shark Evolution', 'Piano Tiles 2™', 'Pokémon GO', 'Paint Hit', 'Snake VS Block', 'Rolly Vortex', 'Woody Puzzle', 'Stack Jump', 'Color by Number – New Coloring Book', 'The Cube', 'Extreme Car Driving Simulator', 'Bricks n Balls', 'The Fish Master!', 'Color Road', 'Draw In', 'PLANK!', 'Looper!', 'Trivia Crack', 'Will it Crush?', 'Tomb of the Mask', 'Baseball Boy!', 'PUBG MOBILE', 'Episode - Choose Your Story', 'Hello Stars', 'Run Sausage Run!', 'Tank Stars', 'Castle Clash: Heroes of the Empire US', 'Hole.io', 'Mini Golf King - Multiplayer Game', 'Flip the Gun - Simulator Game', 'Mad Skills BMX 2', 'MMX Hill Dash 2 – Offroad Truck, Car & Bike Racing', 'Word Link', 'Last Day on Earth: Survival', 'MARVEL Strike Force', 'Partymasters - Fun Idle Game', 'Harry Potter: Hogwarts Mystery', 'Offroad Outlaws', 'Grim Soul: Dark Fantasy Survival', 'DRAGON BALL LEGENDS', 'Disney Heroes: Battle Mode', 'Homescapes', 'New YAHTZEE® With Buddies Dice Game', 'Word Crossy - A crossword game', 'MLB TAP SPORTS BASEBALL 2018', 'Hero Hunters', \"Cooking Madness - A Chef's Restaurant Games\", 'Ice Crush 2018 - A new Puzzle Matching Adventure', 'TerraGenesis - Space Colony', 'Merge Dragons!', 'SHADOWGUN LEGENDS', 'RULES OF SURVIVAL', 'Mafia City', 'Cash, Inc. Money Clicker Game & Business Adventure', 'Dino War: Rise of Beasts', 'Tokyo Ghoul: Dark War', 'Last Shelter: Survival', 'Guns of Glory', 'Lineage 2: Revolution', 'Final Fantasy XV: A New Empire', \"Girls' Frontline\", 'Chapters: Interactive Stories', 'Honkai Impact 3rd', 'Master of Eternity(MOE)', 'The Game of Life', 'Clue', 'The Room: Old Sins', 'The Escapists', 'Farming Simulator 18', 'RollerCoaster Tycoon® Classic', 'Call of Duty:Black Ops Zombies', 'Star Wars ™: DIRTY', 'Monument Valley 2', 'Angry Birds 2', 'Fallout Shelter', 'The Sims™ FreePlay', 'Best Fiends - Free Puzzle Game', 'MARVEL Contest of Champions', 'Jurassic World™ Alive', 'Choices: Stories You Play', 'Solitaire TriPeaks', 'The Walking Dead: Road to Survival', 'Hustle Castle: Fantasy Kingdom', 'Might & Magic: Elemental Guardians', 'Game of Thrones: Conquest™', 'Love Nikki-Dress UP Queen', 'Summoners War', 'FINAL FANTASY BRAVE EXVIUS', 'Idle Heroes', 'Fate/Grand Order (English)', 'Lords Mobile: Battle of the Empires - Strategy RPG', 'War and Order', 'Dungeon Hunter Champions: Epic Online Action RPG', 'Yes day', 'Jewels Star: OZ adventure', 'Sweet Fruit Candy', 'Shoot Bubble - Fruit Splash', 'Doodle Jump', 'Crossy Road', 'Swamp Attack', 'Earn to Die 2', 'Hungry Shark World', 'Dude Perfect 2', 'Shadow Fight 2', \"Alto's Adventure\", 'DEER HUNTER 2018', 'DEAD TARGET: FPS Zombie Apocalypse Survival Games', 'Cover Fire: offline shooting games for free', 'Anger of stick 5 : zombie', 'CATS: Crash Arena Turbo Stars', 'Soul Knight', 'Major Mayhem', 'DINO HUNTER: DEADLY SHORES', 'Strawberry Shortcake BerryRush', 'Extreme Match', 'Power Rangers Dino Charge', 'Zombie Hunter: Post Apocalypse Survival Games', 'Agar.io', 'Battlelands Royale', 'Once Upon a Tower', 'TEKKEN™', 'diep.io', 'Arrow.io', 'BEYBLADE BURST app', 'Dragon Hills', 'Bus Rush: Subway Edition', 'DC Super Hero Girls™', 'Tiny Archers', 'Metal Soldiers 2', 'Runner 3d like', 'War Robots', 'Dinosaur Simulator: Dino World', 'GUNSHIP BATTLE: Helicopter 3D', 'Quiz: Logo game', 'Jewels Legend - Match 3 Puzzle', 'Bubble Shooter Genies', 'Blossom Blast Saga', 'Candy Bomb', 'Gems or jewels ?', 'Power Pop Bubbles', 'Jewels classic Prince', 'Fruit Block - Puzzle Legend', 'Bubble Shooter Space', '1LINE – One Line with One Touch', 'Stick War: Legacy', 'Marble Woka Woka 2018 - Bubble Shooter Match 3', 'Super Jabber Jump 3', 'Rush', 'Jetpack Joyride', 'Racing in Car 2', 'Dog Run - Pet Dog Simulator', 'Jewels Crush- Match 3 Puzzle', 'Coloring & Learn', 'Mahjong', 'Super ABC! Learning games for kids! Preschool apps', 'Toy Pop Cubes', 'Educational Games 4 Kids', 'Candy Pop Story', 'Candy Smash', 'Happy Fruits Bomb - Cube Blast', 'Princess Adventures Puzzles', 'Kids Educational Game 3 Free', 'Puzzle Kids - Animals Shapes and Jigsaw Puzzles', 'Baby Panda Care', 'Kids Educational :All in One', 'Number Counting games for toddler preschool kids', 'Toca Kitchen 2', 'PJ Masks: Moonlight Heroes', 'Learn To Draw Glow Flower', 'No. Color - Color by Number, Number Coloring', 'Draw.ly - Color by Number Pixel Art Coloring', 'Baby puzzles', 'Garden Fruit Legend', 'Candy Day', 'Learn To Draw Glow Princess', 'ABC Kids - Tracing & Phonics', 'Barbie Magical Fashion', 'Piano Kids - Music & Songs', 'Farming Simulator 14', 'Educational Games for Kids', 'Fruit Boom', 'Hot Wheels: Race Off', 'Baby Tiger Care - My Cute Virtual Pet Friend', 'Strawberry Shortcake Ice Cream Island', 'Rhythm Patrol', 'Kiddopia - Preschool Learning Games', 'Toca Mystery House', 'DisneyNOW – TV Shows & Games', 'Papumba Academy - Fun Learning For Kids', 'Drawing for Kids Learning Games for Toddlers age 3', 'Baby Panda’s Juice Shop', 'Dr. Panda Restaurant 3', 'LEGO® Friends: Heartlake Rush', 'Baby ABC in box! Kids alphabet games for toddlers!', 'Henry Danger Crime Warp', 'Thomas & Friends: Race On!', 'Super School: Educational Kids Games & Rhymes', 'Fruit Cube Blast', 'Toddler Kids Puzzles PUZZINGO', 'Happy Street', 'Intellijoy Early Learning Academy', 'Dr. Panda Town: Vacation', 'Leo and Tig', 'School of Dragons', 'Fuzzy Seasons: Animal Forest', 'Montessori Preschool', 'Kids Corner: Interactive Tales and Games for kids', 'Cutie Cubies', 'My Little Princess : Stores', 'Sago Mini Big City', 'Pinkalicious Party', 'Moana Island Life', 'Basketball FRVR - Shoot the Hoop and Slam Dunk!', 'My Oasis - Calming and Relaxing Idle Clicker Game', 'My Little Pony Rainbow Runners', 'Extreme Racing 2 - Real driving RC cars game!', 'Cars: Lightning League', 'Little Panda Run', \"Snoopy's Town Tale - City Building Simulator\", 'Car Racing game for Kids - Beepzz Dogs 🐕', 'Pony Friends 🦄 - Beepzz racing game for kids', 'LEGO® Juniors Create & Cruise', 'Xtreme Racing 2018 - Jeep & 4x4 off road simulator', 'Thomas & Friends: Go Go Thomas', 'Ninja Dash - Ronin Jump RPG', 'Paw Patrol by ShuffleCards', 'Plants vs. Zombies™ Heroes', 'Transformers Rescue Bots: Disaster Dash', 'PAC-MAN Pop', 'L.O.L. Surprise Ball Pop', 'Little Fire Station', 'Ice Cream Jump', 'Disney Magic Kingdoms: Build Your Own Magical Park', 'Turbo FAST', 'My Little Pony: Harmony Quest', 'Transformers Rescue Bots: Hero Adventures', 'Robots Vs Zombies: Transform To Race And Fight', 'Equestria Girls', 'Disney Crossy Road', 'Touch Racing 2 - Mini RC Race', 'Doctor Pets', 'Supermarket – Game for Kids', 'Supermarket Manager: Cashier Simulator Kids Games', 'Kids Animals Jigsaw Puzzles 😄', 'Inside Out Thought Bubbles', 'Monster High™', 'Cute Pet Puppies', 'Frozen Free Fall', 'Monster High™ Minis Mania', 'Shopkins World!', 'Monica Toy TV', 'Toy Guitar with songs for kids', 'Endless Numbers', 'Toddler Learning Games - Little Kids Games', 'Sworkit Kids - Fitness Meets Fun', 'Earth to Luna! Watch and Play', 'Nancy Drew Codes and Clues', 'Masha and the Bear Child Games', 'codeSpark Academy & The Foos', 'Toca Builders', 'LEGO® Friends', 'My Little Work – Garage', 'Alizay, pirate girl', 'Word Search Games in english', 'Chess Free', 'Tic Tac Toe', 'Dominos Game ✔️', 'Checkers ✔️', 'Crazy Colors: Bubbles Matching', 'Chess for Kids - Play & Learn', 'Block Puzzle : Night in Egypt', 'Mosaic puzzles', 'Chess School for Beginners', 'RISK: Global Domination', 'Pino chess', 'Chess PRO Free', 'Children Educational Game Full', 'All-in-One Mahjong 3 FREE', 'Hactar Go', 'All-in-One Mahjong 3', 'World Racers family board game', 'SweetLand — Family Board Game', 'Steam: Rails to Riches', 'Whoowasit? - Best kids game!', 'Lanterns: The Harvest Festival', 'Tsuro - The Game of the Path', 'THE aMAZEing Labyrinth', 'Chess and Mate', 'Kids Balloon Pop Game Free 🎈', 'Sounds for Toddlers FREE', 'Elmo Calls by Sesame Street', 'Sago Mini Friends', 'Tee and Mo Bath Time Free', 'Bita and the Animals - Pelos Ares', 'TO-FU Oh!SUSHI', 'DreamWorks Friends', 'Avokiddo Emotions', 'Nighty Night Circus', 'Sago Mini Babies', \"Dr. Panda & Toto's Treehouse\", 'Fun Kid Racing - Motocross', 'Barbie Life™', 'Palace Pets in Whisker Haven', 'Sweet Baby Girl - Dream House and Play Time', 'Hello Kitty Lunchbox', 'Sweet Baby Girl Newborn Baby', \"COOKING MAMA Let's Cook!\", 'Ever After High™ Charmed Style', 'Fun Kid Racing', 'Learn to Read with Tommy Turtle', 'Mad Libs', 'ABCmouse.com', 'My Little Pony Celebration', 'Thomas & Friends: Delivery', 'Nasty Goats', 'Starfall Free & Member', 'Animal Jam - Play Wild!', 'Video Editor', 'Real Racing 3', 'Minecraft', 'Card Wars - Adventure Time', 'Monash Uni Low FODMAP Diet', 'iBP Blood Pressure', 'Pedi STAT', 'ASCCP Mobile', 'Journal Club: Medicine', 'Paramedic Protocol Provider', 'MommyMeds', 'Medical ID - In Case of Emergency (ICE)', 'Human Anatomy Atlas 2018: Complete 3D Human Body', 'Essential Anatomy 3', 'Vargo Anesthesia Mega App', 'EMT Review Plus', 'Muscle Trigger Point Anatomy', '2017 EMRA Antibiotic Guide', 'ASRA Coags', 'IBM Micromedex Drug Info', 'Diabetes & Diet Tracker', 'VeinSeek', 'Block Buddy', 'Super Hearing Secret Voices Recorder PRO', 'EMT Study - NREMT Test Prep', 'Calcium Pro', 'Arrhythmias and Dysrhythmias', 'EMT PASS', 'Pocket Lab Values', 'Medical terms (OFFLINE)', 'Cardiac diagnosis (heart rate, arrhythmia)', 'ERres- Emergency Medicine', 'FHR 5-Tier 2.0', 'AnatomyMapp', 'OptoDrum', 'Migraine, Headache Diary HeadApp Pro', 'Blood Pressure Companion', 'Visual Anatomy 2', 'Muscle Premium - Human Anatomy, Kinesiology, Bones', 'CCHT PREP', 'Paramedic Meds', 'Advanced Comprehension Therapy', 'OmniMedix Medical Calculator', 'Breathing Zone', 'Lab Values + Medical Reference', 'Recognise Foot', 'Anti Mosquito simulation', 'Pain Tracker & Diary', 'Menstrual Calendar Premium', 'Whist - Tinnitus Relief', 'Critical Care Paramedic Review', 'With Helper Pro Pill Reminder', 'Manage My Pain Pro', 'End Anxiety Pro - Stress, Panic Attack Help', 'Acupuncture Assistant', 'Number Therapy', 'InfantRisk Center HCP', 'EMT Tutor NREMT-B Study Guide', 'Hospitalist Handbook', 'PTA Content Master', 'Navi Radiography Pro', 'Nursing Care Plan NANDA Tables', 'A Manual of Acupuncture', 'palmPEDi: Pediatric Tape', 'GoodRx Drug Prices and Coupons', 'MyChart', 'FollowMyHealth®', 'CareZone', 'Ovia Pregnancy Tracker & Baby Countdown Calendar', 'Teladoc Member', 'myAir™ for Air10™ by ResMed', 'Blood Pressure', 'Pregnancy Week By Week', 'Doctor On Demand', 'BioLife Plasma Services', 'OneTouch Reveal', 'To', 'Ovia Fertility Tracker & Ovulation Calculator', 'Anthem Anywhere', 'Blood Donor', 'My Calendar - Period Tracker', 'Youper - AI Therapy', 'Zocdoc: Find Doctors & Book Appointments', '1800 Contacts - Lens Store', 'Blood Pressure Log - MyDiary', 'PulsePoint Respond', 'Ovia Parenting & Baby Development Tracker', 'MyQuest for Patients', 'OptumRx', 'CVS Caremark', \"fred's Pharmacy\", 'Ada - Your Health Guide', 'mySugr: the blood sugar tracker made just for you', 'ClearCareGo Caregiver', 'Pregnancy Calculator and Tracker app', 'All Mental disorders', 'DreamMapper', 'ScriptSave WellRx Rx Discounts', 'Delta Dental', 'Drugs.com Medication Guide', 'MoodSpace', 'Pill Identifier and Drug list', 'HealtheLife', 'SonicCloud: Hearing App', 'Migraine Buddy - The Migraine and Headache tracker', 'LabCorp | Patient', 'Anatomy Learning - 3D Atlas', 'Super Hearing Super Ear Amplifier', 'Moodpath - Depression & Anxiety Test', 'Teach Me Anatomy', 'Baritastic - Bariatric Tracker', 'Brilliant Distinctions®', 'Mayo Clinic', '98point6', 'Epocrates Plus', 'MDLIVE: Talk to a Doctor 24/7', 'Free Blood Pressure', 'Super Ear', 'VitusVet: Pet Health Care App', 'Banfield Pet Health Tracker', 'Dexcom G6', 'Nurse Grid', 'Castlight Mobile', 'Sanford Guide:Antimicrobial Rx', \"Davis's Drug Guide for Nurses\", 'live Point', 'Tarascon Pharmacopoeia', 'Official NBSTSA CST Exam Prep', 'EMT-B Pocket Prep', '5-Minute Clinical Consult', 'Diabetes:M', 'Pzizz - Sleep, Nap, Focus', 'HESI A2 Pocket Prep', 'Johns Hopkins Guides ABX...', 'FP Notebook', '5 Minute Clinical Consult 2019 - #1 for 25 years', 'Open Sesame - Touch Free Control', \"Davis's Drug Guide\", 'Deep Sleep and Relax Hypnosis', 'Christella VoiceUp', 'Language Therapy: Aphasia', 'Complete Anatomy for Android', 'GlassesOff', 'Free Hypnosis', 'e-Anatomy', 'Registered Dietitian Pocket Prep', 'Paramedic Pocket Prep', '5 Minute Veterinary Consult: Canine & Feline', 'Wide address pocket prep', 'Nursing Central', 'Tinnitus Alleviator', 'PMHNP-BC Pocket Prep', 'Dialysis of Drugs', 'abeoCoder', 'Saunders Comprehensive Review NCLEX-PN Examination', 'LTC AS Legal', 'Lippincott Nursing Advisor', 'Official NBSTSA CSFA Exam Prep', 'Dosecast - Medication Reminder', 'Visualmed', 'ABG Master', 'OrthoFlow', 'Be the Expert in Phlebotomy - Professional Nursing', 'JH Blood Pressure Monitor', 'Sway Medical', 'Exposure Ed', 'Nucleus Smart', 'Penn State Health OnDemand', 'Breastfeeding Tracker Baby Log', 'Lego Ninjago Wallpaper', 'RT 516 VET', 'EXOGEN Connects (US)', 'Full Code - Emergency Medicine Simulation', 'Maricopa AH', 'Dare EMS Protocols', 'Pediatric Emergency Guide', 'Weill Cornell Medicine', 'Doctors Care', 'PCOS Guide - Fight PCOS naturally', 'EVA - Menstrual calendar and fertility', 'Hello Face', 'Cochrane Library', 'Labs on Demand', 'Diabetes Testing', 'GGDE: Prevent & Beat Depression Symptoms', 'Dermatology Atlas (Colored & Illustrative)', 'Jaylex', 'Tablet Reminder', 'Clinical Pharmacology', 'Galaxies of Hope', 'Smartshading AI', 'KBA-EZ Health Guide', 'FoothillsVet', 'Eversense', 'PrimeDelivery', \"You're an Anime\", 'Anatomy & Physiology Vocabulary Exam Review App', 'Drug Calculator', 'HACH Cares', 'WAH 247', 'CT Scan Cross Sectional Anatomy', 'VetCode', 'ear super hearing', 'Traditional Chinese Medicine Fangfang Liangfang Daquan - Practical and ancient Chinese medicine and old prescriptions for the treatment of various incurable diseases', 'COPD GOLD 2017', 'Summit Medical Video Visits', 'ExtendedCare Virtual Care Room', 'Lord Fairfax EMS Council', 'MyWoundDoctor - Provider', 'NCLEX Multi-topic Nursing Exam Review-Quiz & notes', 'Warfarin Dose Calculator', 'Renesas PMA', 'Pediatric Nursing', 'Interpret Chest X-Ray With 100 Cases', 'Basics of Orthopaedics', '4 Paws PH', 'high cholesterol levels', 'Thyroid Nodules', 'Training course: Learn Nursing', 'Familyfirst Messenger', '14thStreetVet', 'Clinic Doctor EHr', 'OMD Protocols', 'Anthem BC Anywhere', 'My Cancer Coach', 'IHSS Help', 'mobileRx Pharmacy', 'BURST Professionals', 'LactMed', 'Blue CareOnDemand', 'HHS', 'Every disease has a drug without internet', 'PulsePoint AED', 'Deaf Interpreter', 'High Blood Pressure Symptoms', 'MedStar eVisit', 'Blood Pressure(BP) Diary', 'REDCap Mobile App', 'VITAS Hospice Referral App for Healthcare Pros', 'AAFP', 'Airway Ex - Intubate. Anesthetize. Train.', 'myvi by', '420 BZ Budeze Delivery', 'Fever Meter', 'Super Ear Super Hearing', 'Blood Pressure Monitor', 'BELONG Beating Cancer Together', 'BP Journal - Blood Pressure Diary', 'TelaDoc', 'Blood Pressure - Stay Healthy', 'ConnectLine', 'Club', 'Zen Leaf', 'Homeopathic Medicine Finder', 'Patient Portal', 'Nemours CareConnect', 'tökr', 'Low Blood Pressure Symptoms', 'PatientPORTAL by InteliChart', 'Hypertension High blood pressure', 'Fever Care', 'Facebook', 'Instagram', 'Facebook Lite', 'Messages, Text and Video Chat for Messenger', 'Tumblr', 'All Social Networks', 'Snapchat', 'Social network all in one 2018', 'Pinterest', 'TextNow - free text + calls', 'Google+', 'The Messenger App', 'Messenger Pro', 'Free Messages, Video, Chat,Text for Messenger Plus', 'Telegram X', 'The Video Messenger App', 'Jodel - The Hyperlocal App', 'Who Viewed My Facebook Profile - Stalkers Visitors', 'Hide Something - Photo, Video', 'Love Sticker', 'Web Browser & Fast Explorer', 'LiveMe - Video chat, new friends, and make money', 'VidStatus app - Status Videos & Status Downloader', 'Love Images', 'Web Browser ( Fast & Secure Web Explorer)', 'SPARK - Live random video chat & meet new people', 'Golden telegram', 'Amino: Communities and Chats', 'Facebook Local', 'Meet – Talk to Strangers Using Random Video Chat', 'MobilePatrol Public Safety App', '💘 WhatsLov: Smileys of love, stickers and GIF', 'Phone Tracker : Family Locator', 'HTC Social Plugin - Facebook', 'Periscope - Live Video', 'Quora', 'Kate Mobile for VK', 'Family GPS tracker KidControl + GPS by SMS Locator', 'LinkedIn', 'Moment', 'Text Me: Text Free, Call Free, Second Phone Number', 'Meetup', 'Text Free: WiFi Calling App', 'Badoo - Free Chat & Dating App', 'Text free - Free Text + Call', 'textPlus: Free Text & Calls', 'Free phone calls, free texting SMS on free number', 'Tango - Live Video Broadcast', 'MeetMe: Chat & Meet New People', 'Tagged - Meet, Chat & Dating', 'ooVoo Video Calls, Messaging & Stories', 'SayHi Chat, Meet New People', 'Whisper', 'Tapatalk - 100,000+ Forums', 'Blogger', \"Bloglovin'\", 'Blogaway for Android (Blogger)', 'TwitCasting Live', 'Stream - Live Video Community', 'YouNow: Live Stream Video Chat', 'Mirrativ: Live Stream Any App', 'Nextdoor - Local neighborhood news & classifieds', 'SKOUT - Meet, Chat, Go Live', 'Banjo', 'We Heart It', 'Timehop', 'Frontback - Social Photos', 'Path', 'Couple - Relationship App', 'POF Free Dating App', 'LOVOO', 'Jaumo Dating, Flirt & Live Video', 'Patook - make platonic friends', 'Zello PTT Walkie Talkie', 'magicApp Calling & Messaging', 'Dating App, Flirt & Chat : W-Match', 'uCiC- Videos and Photos on demand', 'Mico- Stranger Chat Random video Chat, Live, Meet', 'Waplog - Free Chat, Dating App, Meet Singles', 'Amazon for Tablets', 'Wish - Shopping Made Fun', 'OfferUp - Buy. Sell. Offer Up', 'Shopee - No. 1 Online Shopping', 'Shopee: No.1 Online Shopping', 'Kroger', 'AliExpress - Smarter Shopping, Better Living', 'Walmart', 'eBay: Buy & Sell this Summer - Discover Deals Now!', 'letgo: Buy & Sell Used Stuff, Cars & Real Estate', 'Amazon Shopping', 'Lazada - Online Shopping & Deals', 'OLX - Buy and Sell', 'The wall', 'Flipp - Weekly Shopping', 'Shrimp skin shopping: spend less, buy better', 'Lotte Home Shopping LOTTE Homeshopping', 'Horn, free country requirements', 'Jiji.ng', 'GS SHOP', 'The birth', 'CJmall', 'Home & Shopping - Only in apps. 10% off + 10% off', 'EHS Dongsen Shopping', 'bigbasket - online grocery', 'Bukalapak - Buy and Sell Online', 'Life market', 'Jabong Online Shopping App', 'Family Dollar', 'Jumia online shopping', 'Mercado Libre: Find your favorite brands', 'Carousell: Snap-Sell, Chat-Buy', 'Blibli.com Online Shopping', 'Club Factory Everything, Unbeaten Price', 'Real Estate, Car, Shopping and Others', 'ZALORA Fashion Shopping', 'Magazine Luiza Online Shopping', \"ROMWE - Women's Fashion\", 'Buscapé - Offers and discounts', 'Myntra Online Shopping App', '11st', 'Coupang', 'Wemep - Special price representative (special / shopping / shopping app / coupon / shipping)', 'Target - now with Cartwheel', 'Flipkart Online Shopping App', \"Sam's Club: Wholesale Shopping & Instant Savings\", 'Chilindo', 'Rossmann PL', 'Jingdong - pick good things, go to Jingdong', 'CheckPoints 🏆 Rewards App', 'Extreme Coupon Finder', 'SnipSnap Coupon App', 'Checkout 51: Grocery coupons', 'Coupon Sherpa', 'Gyft - Mobile Gift Card Wallet', 'SavingStar - Grocery Coupons', 'The Coupons App', 'Shopkick: Free Gift Cards, Shop Rewards & Deals', 'Key Ring: Cards Coupon & Sales', 'Ibotta: Cash Back Savings, Rewards & Coupons App', 'RetailMeNot - Coupons, Deals & Discount Shopping', 'Groupon - Shop Deals, Discounts & Coupons', \"Kohl's: Scan, Shop, Pay & Save\", 'Stocard - Rewards Cards Wallet', 'Nike', 'Poshmark - Buy & Sell Fashion', 'Mercari: The Selling App', 'Blidz - Hunt Free Deals On Trending Items!', 'Shopular: Coupons, Weekly Ads & Shopping Deals', 'LivingSocial - Local Deals', 'Coupons.com – Grocery Coupons & Cash Back Savings', 'Ebates: Cash Back, Coupons, Rewards & Savings', 'FidMe Loyalty Cards & Deals at Grocery Supermarket', 'Ratings by Consumer Reports', 'HauteLook', 'Nordstrom', \"Modcloth – Unique Indie Women's Fashion & Style\", 'Fancy', 'Twice: Buy, Sell Clothing', 'Slice: Package Tracker', 'LightInTheBox Online Shopping', 'Best Buy', \"JackThreads: Men's Shopping\", 'zulily - Shop Daily Deals in Fashion and Home', 'MiniInTheBox Online Shopping', 'Zappos – Shoe shopping made simple', 'Urban Outfitters', 'Tophatter - 90 Second Auctions', 'Shopfully - Weekly Ads & Deals', 'Slickdeals: Coupons & Shopping', 'Wanelo Shopping', 'Etsy: Handmade & Vintage Goods', 'ASOS', 'Overstock – Home Decor, Furniture Shopping', 'Find&Save - Local Shopping', 'Receipt Hog - Receipts to Cash', 'ShopSavvy Barcode & QR Scanner', 'Savory - Deals,Freebies,Sales', 'Newegg Mobile', 'REI – Shop Outdoor Gear', 'The Home Depot', 'Boxed Wholesale', 'La La-Shop Designer Brands Street', 'TouchNote: Cards & Gifts', 'Shutterfly: Free Prints, Photo Books, Cards, Gifts', 'FreePrints – Free Photos Delivered', 'Groovebook Photo Books & Gifts', 'Moony Lab - Print Photos, Books & Magnets ™', 'LALALAB prints your photos, photobooks and magnets', 'Snapfish', 'Google Photos', 'Motorola Camera', 'HD Camera - Best Cam with filters & panorama', 'Face Filter, Selfie Editor - Sweet Camera', 'LightX Photo Editor & Photo Effects', 'Sweet Snap - live filter, Selfie photo edit', 'Adobe Photoshop Express:Photo Editor Collage Maker', 'HD Camera - Quick Snap Photo & Video', 'B612 - Beauty & Filter Camera', 'Waterfall Photo Frames', 'Photo frame', 'Huji Cam', 'Unicorn Photo', 'HD Camera', 'Makeup Editor -Beauty Photo Editor & Selfie Camera', 'Makeup Photo Editor: Makeup Camera & Makeup Editor', 'Moto Photo Editor', 'InstaBeauty -Makeup Selfie Cam', 'Garden Photo Frames - Garden Photo Editor', 'Photo Frame', 'Camera360 Lite - Selfie Camera', 'Selfie Camera - Photo Editor & Filter & Sticker', 'Sweet Snap Lite - live filter, Selfie photo editor', 'Selfie Camera: Beauty Camera, Photo Editor,Collage', 'Night Photo Frame', 'YouCam Makeup - Magic Selfie Makeovers', 'Selfie Photo Editor', 'BeautyPlus - Easy Photo Editor & Selfie Camera', 'ASUS Gallery', 'My Photo Keyboard', 'Kids Photo Frames', 'Pencil Photo Sketch-Sketching Drawing Photo Editor', 'Pretty Makeup, Beauty Photo Editor & Snappy Camera', 'Photo Collage - Layout Editor', 'DSLR Camera Hd Ultra Professional', 'Snap Cat Face Camera', 'Silent Camera [High Quality]', 'Sweet Camera - Selfie Filters, Beauty Camera', 'Photo Frames', 'Sweet Selfie - selfie camera, beauty cam, photo edit', 'Candy selfie - photo editor, live filter camera', 'YouCam Perfect - Selfie Photo Editor', 'Open Camera', 'Beauty Makeup – Photo Makeover', 'Blur Image Background Editor (Blur Photo Editor)', 'Muzy - Share photos & collages', 'QuickPic - Photo Gallery with Google Drive Support', 'Flickr', 'Camera for Android', 'Photo Editor Selfie Camera Filter & Mirror Image', 'Photo Mixer', 'Photo Editor-', 'Cymera Camera- Photo Editor, Filter,Collage,Layout', 'Wondershare PowerCam', 'love', 'LINE Camera - Photo editor', 'InstaSize Photo Filters & Collage Editor', 'KVAD Camera +: Selfie, Photo Filter, Grids', 'Candy Camera - selfie, beauty camera, photo editor', 'Photo Editor', 'Camera51 - a smarter camera', 'InstaCam - Camera for Selfie', 'Phogy, 3D Camera', 'Sweet Camera', 'Camera360: Selfie Photo Editor with Funny Sticker', 'RetroSelfie - Selfie Editor', 'Mega Photo', 'Blur Image Background', 'MIX by Camera360', 'Facetune - For Free', 'SuperPhoto - Effects & Filters', 'Camera FV-5 Lite', 'HD Camera Ultra', 'Cameringo Lite. Filters Camera', 'Camera ZOOM FX - FREE', 'HD Camera Pro for Android', 'HD Camera for Android', 'GoPro (formerly Capture)', 'Photo Editor Pro', 'Beauty Makeup Snappy Collage Photo Editor - Lidow', 'Samsung SMART CAMERA App', 'Square InPic - Photo Editor & Collage Maker', 'High-Speed Camera (GIF,Burst)', 'Camera MX - Free Photo & Video Camera', 'Lapse It • Time Lapse • Pro', 'EyeEm - Camera & Photo Filter', 'Retrica', 'VSCO', 'Camera FV-5', 'PhotoWonder: Pro Beauty Photo Editor Collage Maker', 'Photo Effects Pro', 'No Crop & Square for Instagram', 'Picture Grid Builder', 'Photo Studio', 'FilterGrid - Cam&Photo Editor', 'Mirror Photo:Editor Collage (HD)', 'Pic Stitch - #1 Collage Maker', 'PhotoDirector Photo Editor App', 'Pic Collage - Photo Editor', 'Photo Editor by Aviary', 'Video Editor Music,Cut,No Crop', 'Pixlr – Free Photo Editor', 'Photo Collage Maker', 'PicsArt Photo Studio: Collage Maker & Pic Editor', 'Photo Collage Editor', 'Color Touch Effects', 'Z Camera - Photo Editor, Beauty Selfie, Collage', 'PhotoGrid: Video & Pic Collage Maker, Photo Editor', 'Pixgram- video photo slideshow', 'Fotor Photo Editor - Photo Collage & Photo Effects', 'Snapseed', 'Font Studio- Photo Texts Image', 'Add Text To Photo', 'Phonto - Text on Photos', 'Collage&Add Stickers papelook', 'Photo Collage - InstaMag', 'Meitu – Beauty Cam, Easy Photo Editor', 'ESPN', 'Free Sports TV', 'LiveScore: Live Sport Updates', 'MLB At Bat', 'NFL', 'theScore: Live Sports Scores, News, Stats & Videos', 'Onefootball - Soccer Scores', 'Cristiano Ronaldo Wallpaper', 'FIFA - Tournaments, Soccer News & Live Scores', 'Futbol24', 'kicker football news', 'Football Live Scores', 'Pro 2018 - Series A and B', 'BeSoccer - Soccer Live Score', 'Sport.pl LIVE', 'FotMob - Live Soccer Scores', 'Yahoo Fantasy Sports - #1 Rated Fantasy App', 'CBS Sports App - Scores, News, Stats & Watch Live', 'The Team - Live Sport: football, tennis, rugby ..', 'MARCA - Sports Leader Diary', 'Sahadan Live Scores', 'BBC Sport', 'Foot Mercato: transfers, results, news, live', 'All Football - Latest News & Videos', 'Premier League - Official App', 'Eurosport', 'beIN SPORTS TR', 'ESPN Fantasy Sports', 'All Football GO- Live Score, Games', 'Top Mercato: football news', 'GollerCepte Live Score', 'Championat', 'Bleacher Report: sports news, scores, & highlights', 'Hovercraft Racer', 'World Cup 2018', 'GollerCepte 1903', 'League18', 'Speed Boat Racing', 'La Liga - Spanish Soccer League Official', 'Lionel Messi Wallpapers', 'Goal Live Scores', 'The 5th Stand', 'NUsport', 'U + professional baseball', 'Mackolik Live Results', 'Mercato foot by Maxifoot', 'MLB Ballpark', 'MUTV - Manchester United TV', 'Hole19: Golf GPS App, Rangefinder & Scorecard', 'WatchESPN', 'CBS Sports Fantasy', 'NBC Sports', 'NBC Sports Gold', 'UFC', 'Telemundo Deportes - Live', 'SwingAid - Level up Golf', 'Golf Channel', 'The Rules of Golf', 'GolfNow: Tee Time Deals at Golf Courses, Golf GPS', 'Golf GPS by SwingxSwing', 'Zepp Golf Swing Analyzer', 'Live Golf Scores - US & European Golf', 'Golfshot: Golf GPS + Tee Times', 'PGA TOUR LIVE', 'Golf GPS Rangefinder: Golf Pad', 'Mobitee GPS Golf Free', 'GolfLogix GPS + Putt Breaks', 'Golfshot Plus: Golf GPS', 'PGA TOUR', 'FanDuel: Daily Fantasy Sports', 'DraftKings - Daily Fantasy Sports', 'Fantasy Football Manager (FPL)', 'Fantasy Football', 'US Open Tennis Championships 2018', 'Live Tennis Rankings / LTR', 'Tennis Livescore Widget', 'Tennis Temple - Live Scores', 'The Championships, Wimbledon 2018', 'Tennis 24 - tennis live scores', 'Yahoo Sports - scores, stats, news, & highlights', 'Tennis News and Scores', 'MSN Sports - Scores & Schedule', 'FOX Sports: Live Streaming, Scores & News', 'Sports Alerts - NFL edition', 'NCAA March Madness Live', 'SportsManias Fantasy Team News', 'Thuuz Sports', 'NCAA Sports', '850 Sports News Digest', '365Scores - Live Scores', 'Cricbuzz - Live Cricket Scores & News', 'Fantasy Football & NFL News', 'NBA', 'NHL', 'NASCAR MOBILE', 'Univision Deportes: Liga MX, MLS, Fútbol Live', 'Real Basketball', 'Expedia Hotels, Flights & Car Rental Travel Deals', 'trivago: Hotels & Travel', 'Hopper - Watch & Book Flights', 'TripIt: Travel Organizer', 'Trip by Skyscanner - City & Travel Guide', 'CityMaps2Go Plan Trips Travel Guide Offline Maps', 'KAYAK Flights, Hotels & Cars', 'Skyscanner', 'World Travel Guide by Triposo', 'Hotels.com: Book Hotel Rooms & Find Vacation Deals', 'Booking.com Travel Deals', 'Hostelworld: Hostels & Cheap Hotels Travel App', 'Google Trips - Travel Planner', 'TripAdvisor Hotels Flights Restaurants Attractions', 'Airbnb', 'Maps - Navigate & Explore', 'GPS Map Free', 'Offline Maps & Navigation', 'Google Earth', 'GasBuddy: Find Cheap Gas', 'Southwest Airlines', 'AT&T Navigator: Maps, Traffic', 'VZ Navigator', 'KakaoMap - Map / Navigation', 'Google Street View', 'AirAsia', 'Goibibo - Flight Hotel Bus Car IRCTC Booking App', 'Allegiant', 'Amtrak', 'JAL (Domestic and international flights)', 'Flight & Hotel Booking App - ixigo', 'VZ Navigator for Tablets', 'HSL - Tickets, route planner and information', 'Wisepilot for XPERIA™', 'VZ Navigator for Galaxy S4', 'MAIN', 'Yoriza Pension - travel, lodging, pension, camping, caravan, pool villas accommodation discount', 'Foursquare Swarm: Check In', 'PagesJaunes - local search', 'Flightradar24 Flight Tracker', 'Yatra - Flights, Hotels, Bus, Trains & Cabs', 'SNCF', 'Fly Delta', 'Despegar.com Hotels and Flights', 'Navigation Plus', '2GIS: directory & navigator', 'Poynt', 'Gaode Map', 'Priceline Hotel Deals, Rental Cars & Flights', 'TravelPirates', 'Free Radar Detector', 'American Airlines', 'Where to travel - ticket. hotel. train ticket. car ticket. travel. tickets', 'United Airlines', 'NTES', 'Where is my Train : Indian Railway & PNR Status', 'MakeMyTrip-Flight Hotel Bus Cab IRCTC Rail Booking', 'Restaurant Finder', 'Zagat', 'Gormey: Find Best Restaurants', 'Find Dining Restaurant Finder', 'Urbanspoon Restaurant Reviews', 'Yelp: Food, Shopping, Services Nearby', 'Qatar Airways', 'Hipmunk Hotels & Flights', 'Skiplagged — Exclusive Flights & Hotels', 'CWT To Go', 'British Airways', 'Cheap Flights & Hotels momondo', 'CheapTickets – Hotels, Flights & Travel Deals', 'JetBlue', 'Flights', 'The Emirates App', 'Cheapflights – Flight Search', 'KLM - Royal Dutch Airlines', 'Orbitz - Hotels, Flights & Package Deals', 'Lufthansa', 'easyJet: Travel App', 'IndiGo', 'LateRooms: Find Hotel Deals', 'Choice Hotels', 'Couchsurfing Travel App', 'Hotwire Hotel & Car Rental App', 'HOTEL DEALS', 'HomeAway Vacation Rentals', 'IHG®: Hotel Deals & Rewards', 'SPG: Starwood Hotels & Resorts', 'HotelTonight: Book amazing deals at great hotels', 'Hotels Combined - Cheap deals', 'Agoda – Hotel Booking Deals', 'Turo - Better Than Car Rental', 'Ascape VR: 360° Virtual Travel', 'Cheap hotel deals and discounts — Hotellook', 'GPS Status & Toolbox', 'Airport + Flight Tracker Radar', 'Scout GPS Navigation & Meet Up', 'Street Panorama View', 'Geo Tracker - GPS tracker', 'DreamTrips', 'Navmii GPS USA (Navfree)', 'Sygic Truck GPS Navigation', 'Moto File Manager', 'Google', 'Google Translate', 'Moto Display', 'Motorola Alert', 'Motorola Assist', 'Cache Cleaner-DU Speed Booster (booster & cleaner)', 'Moto Suggestions ™', 'Moto Voice', 'Device Help', 'Account Manager', 'myMetro', 'File Manager', 'My Telcel', 'Calculator - free calculator, multi calculator app', 'ASUS Sound Recorder', 'iWnn IME for Nexus', 'Samsung Max - Data Savings & Privacy Protection', 'Android TV Remote Service', 'ZenUI Help', 'Calculator - free calculator ,multi calculator app', 'SHAREit - Transfer & Share', 'ZenUI Keyboard – Emoji, Theme', 'Files Go by Google: Free up space on your phone', 'SD card backup', 'Nokia mobile support', 'File Manager -- Take Command of Your Files Easily', 'Samsung Calculator', 'Clear', 'Phone', 'HTC Lock Screen', 'Gboard - the Google Keyboard', 'Google Korean Input', 'AT&T Smart Wi-Fi', 'Google app for Android TV', 'Sound Recorder: Recorder & Voice Changer Free', 'Remote Link (PC Remote)', 'HTC Sense Input', 'Share Music & Transfer Files - Xender', 'App vault', 'TouchPal Keyboard for vivo', 'Google Assistant Go', 'My love', 'DuraSpeed', 'HTC Sense Input-LV', 'HTC Sense Input-CA', 'HTC Sense Input-AR', 'Digital Alarm Clock', 'Alarm Clock Free', 'Puzzle Alarm Clock ⏰', 'Alarm Clock', \"I Can't Wake Up! Alarm Clock\", 'High-Powered Flashlight', 'Brightest Flashlight - LED Light', 'LED Flashlight', 'Tiny Flashlight + LED', 'Flashlight & LED Torch', 'Color Flashlight', 'Flashlight', 'CM Flashlight (Compass, SOS)', 'Flashlight HD LED', 'Flashlight - Torch LED Light', 'Super Flashlight + LED', 'Brightest LED Flashlight', 'Brightest Flashlight Free ®', 'Fraction Calculator Plus Free', 'Calculator Plus Free', 'CALCU™ Stylish Calculator Free', 'Mobi Calculator free & AD free!', 'Calculator with Percent (Free)', 'Graphing Calculator', 'Unit Converter', 'Calculator ++', 'MyScript Calculator', 'ConvertPad - Unit Converter', 'Unit Converter Pro', 'Classic Calculator', 'Scientific Calculator Free', 'weight conversion calculator', 'Age Calculator', 'EzCalculator', 'SuperVPN Free VPN Client', 'Hideman VPN', 'Fast Secure VPN', 'Free & Premium VPN - FinchVPN', 'Hotspot Shield Free VPN Proxy & Wi-Fi Security', 'OpenVPN Connect – Fast & Safe SSL VPN Client', 'VPN - Fast, Secure & Unlimited WiFi with VyprVPN', 'FREEDOME VPN Unlimited anonymous Wifi Security', 'SurfEasy Secure Android VPN', 'TunnelBear VPN', 'VPN Free - Betternet Hotspot VPN & Private Browser', 'Smart Keyboard Trial', 'Emoji keyboard - Cute Emoticons, GIF, Stickers', 'GO Keyboard - Cute Emojis, Themes and GIFs', 'Google Handwriting Input', 'Wifi Analyzer', 'Network Signal Info', 'Speedtest by Ookla', 'osmino Wi-Fi: free WiFi', 'WiFi Overview 360', 'Speedcheck', 'Internet Speed Meter Lite', 'Wifi Inspector', 'WiFi Automatic', 'NETGEAR WiFi Analytics', 'Keypad Lock Screen', 'photo keypad lockscreen', 'CM Locker - Security Lockscreen', 'Solo Locker (DIY Locker)', 'Lock Screen', 'ZERO Lock Screen', 'AppLock - Fingerprint', 'Applock', 'Smart AppLock (App Protect)', 'Screen Off and Lock', 'Screen Lock', 'Nova Launcher', 'Funny Ringtones', 'ZEDGE™ Ringtones & Wallpapers', 'XOS - Launcher,Theme,Wallpaper', '3D Live Neon Weed Launcher', 'Evie Launcher', 'Golden Launcher', 'Launcher', 'CM Launcher 3D - Theme, Wallpapers, Efficient', '4K Wallpapers and Ultra HD Backgrounds', 'OnePlus Launcher', 'Birds Sounds Ringtones & Wallpapers', 'Funny Alarm Clock Ringtones', 'ZenUI Launcher', 'Color Call - Caller Screen, LED Flash', 'New Launcher 2018', 'Diamond Zipper Lock Screen', 'Emoji Keyboard - Cute Emoji,GIF, Sticker, Emoticon', '3D Blue Glass Water Keyboard Theme', 'Backgrounds (HD Wallpapers)', 'Smart Launcher 5', 'New 2018 Keyboard', 'APUS Launcher - Theme, Wallpaper, Hide Apps', 'ZenUI Themes – Stylish Themes', 'Keyboard - wallpapers , photos', 'Lovely Cute Pink Kitty Cat Keyboard Theme', 'Apex Launcher', 'Microsoft Launcher', 'Goku Wallpaper Art', 'Door Lock Screen', 'Yandex Browser with Protect', 'Cute wallpapers & kawaii backgrounds images', 'ASUS Cover for ZenFone 2', 'Hola Launcher- Theme,Wallpaper', 'OnePlus Icon Pack - Square', 'Live 3D Neon Blue Love Heart Keyboard Theme', 'Pink Diamond Princess Keyboard Theme', 'Wallpapers HD, 4K Backgrounds', 'Photo Lock App - Hide Pictures & Videos', 'Romantic Love Photo Frames', 'Colorful Glitter Neon Butterfly Keyboard Theme', 'OnePlus Icon Pack', 'Water Garden Live Wallpaper', 'Water Droplets Keyboard Theme', 'FUN Keyboard – Emoji Keyboard, Sticker,Theme & GIF', 'Freeme Launcher—Stylish Theme', 'Ringtones & Wallpapers for Me', 'Ringtone Maker', 'Retro Clock Widget', 'Zooper Widget', 'Beautiful Widgets Pro', 'Beautiful Widgets Free', 'HD Widgets', 'DashClock Widget', 'Fancy Widgets', 'Kairo XP (for HD Widgets)', 'icon wallpaper dressup💞CocoPPa', 'The real aquarium - HD', 'Best Wallpapers QHD', 'Dog Licks Screen Wallpaper', 'Waterfall Live Wallpaper', 'Galaxy Live Wallpaper', 'Northern Lights FREE (Aurora)', 'Flowers Live Wallpaper', 'Petals 3D live wallpaper', 'Galactic Core Free Wallpaper', 'LINE Launcher', 'Asteroids 3D live wallpaper', 'Sun Rise Free Live Wallpaper', 'Wallpapers HD', 'Tiger Live Wallpaper', 'Backgrounds HD (Wallpapers)', 'Pink Roses Live Wallpaper', 'Butterfly Live Wallpaper', 'Koi Free Live Wallpaper', 'Wallpaper', 'Wolves Live Wallpaper', 'Horses Live Wallpaper', 'Tropical Beach Live Wallpaper', 'Glowing Flowers Live Wallpaper', 'Dolphins Live Wallpaper', 'Buzz Launcher-Smart&Free Theme', 'Yandex.Shell (Launcher+Dialer)', 'ADW Launcher 2', 'BIG Launcher', 'Smart Launcher Pro 3', 'iKeyboard - emoji, emoticons', 'Simple Neon Blue Future Tech Keyboard Theme', 'ai.type Free Emoji Keyboard', 'GO Keyboard - Emoticon keyboard, Free Theme, GIF', 'TouchPal Purple Butterfly Theme', '2018Emoji Keyboard 😂 Emoticons Lite -sticker&gif', 'Lavender Emoji Keyboard Theme', 'Microsoft Word', 'All-In-One Toolbox: Cleaner, Booster, App Manager', 'Adobe Acrobat Reader', 'AVG Cleaner – Speed, Battery & Memory Booster', 'Google Drive', 'QR Scanner & Barcode Scanner 2018', 'Chrome Beta', 'Microsoft Outlook', 'Google PDF Viewer', 'Microsoft Excel', 'My Claro Peru', 'Power Booster - Junk Cleaner & CPU Cooler & Boost', 'Google Assistant', 'Microsoft OneDrive', 'Calculator - unit converter', 'Microsoft OneNote', 'Metro name iD', 'Google Keep', 'Archos File Manager', 'ES File Explorer File Manager', 'ASUS SuperNote', 'HTC File Manager', 'MyMTN', 'Dropbox', 'ASUS Quick Memo', 'HTC Calendar', 'Google Calendar', 'Google Docs', 'ASUS Calling Screen', 'lifebox', 'Yandex.Disk', 'Content Transfer', 'Evernote – Organizer, Planner for Notes & Memos', 'HTC Mail', 'Advanced Task Killer', 'MyVodafone (India) - Online Recharge & Pay Bills', 'Microsoft PowerPoint', 'Microsoft Translator', 'My Airtel-Online Recharge, Pay Bill, Wallet, UPI', 'Samsung Notes', 'Do It Later: Tasks & To-Dos', 'Verizon Cloud', 'myAT&T', 'SwiftKey Keyboard', \"Hacker's Keyboard\", 'MEGA', 'Security & Privacy', '7 Weeks - Habit & Goal Tracker', 'Loop - Habit Tracker', 'TickTick: To Do List with Reminder, Day Planner', 'Keeper: Free Password Manager & Secure Vault', 'Pushbullet - SMS on PC', 'Wunderlist: To-Do List & Tasks', 'Planner Pro-Personal Organizer', 'Todoist: To-do lists for task management & errands', 'Cozi Family Organizer', 'IFTTT', 'Any.do: To-do list, Calendar, Reminders & Planner', 'Trello', 'Easy Voice Recorder', 'Dashlane Free Password Manager', 'CM FILE MANAGER HD', 'Solid Explorer Classic', 'File Browser by Astro (File Manager)', 'File Explorer', 'The Maner', 'AndroZip™ FREE File Manager', 'Solid Explorer File Manager', 'Smart File Manager', 'Google Sheets', 'Polaris Office - Word, Docs, Sheets, Slide, PDF', 'WPS Office - Word, Docs, PDF, Note, Slide & Sheet', 'Google Slides', 'ColorNote Notepad Notes', 'Note Everything', 'Simple Notepad', 'Keep My Notes - Notepad & Memo', 'Sticky Note + : Sync Notes', 'Notepad', 'Squid - Take Notes & Markup PDFs', 'Ultimate Notepad', 'Notepad & To do list', 'JotterPad - Writer, Screenplay, Novel', 'Planning Center Services', 'Calendar+ Schedule Planner App', 'Today Calendar 2017', 'To-Do Calendar Planner', 'New Calendar', 'Calendar Widget Month + Agenda', 'DigiCal Calendar Agenda', 'Time Recording - Timesheet App', 'Jorte Calendar & Organizer', 'Business Calendar 2', 'aCalendar - Android Phone', 'aCalendar+ Calendar & Tasks', 'G Cloud Backup', 'Unclouded - Cloud Manager', 'Amazon Drive', 'SugarSync', 'pCloud: Free Cloud Storage', 'MediaFire', 'Cloud Print', 'Baby Names', 'My baby Piano', 'Zoo For Preschool Kids 3-9 Years', 'My baby Game (Balloon POP!)', 'Arabic Alphabets', 'Learn the letters and words', 'Development of the child up to a year', \"Favorite children's songs\", \"Ali Baba's Farm Tutorial Kids Games\", 'Baby Panda Learns Shapes', 'Learning English for children', 'Mozart Baby Sleep', 'Kids Videos', 'My baby firework', \"We learn children's verses in kindergarten\", 'Baby Food - Homemade Recipes', 'My baby Phone', 'Baby Sleep: White noise lullabies for newborns', 'Arabic Chat - Chat', 'BookBaby - Baby Development', 'Kids Craft Ideas', 'Child Growth Tracking', 'Family Album Mitene: Private Photo & Video Sharing', 'Family GPS Tracker and Chat + Baby Monitor Online', \"Educational Children's Songs\", 'How do I take care of my child?', 'Baby Name Together', 'White Noise for Baby', 'Favorite Soviet cartoons', \"The first year of a baby's life\", 'Safe365 – Cell Phone GPS Locator For Your Family', 'Listen to the story~The Story of the Fairy Tales', 'Amazon FreeTime – Kids’ Videos, Books, & TV shows', \"Kids Fang - Infant Videos, Children's Songs, Fairy Tales, Lullaby Collections\", 'PPS Online', 'Johny Johny Yes Papa Nursery Rhyme - offline Video', 'Latest Emmanuella Comedy Video', 'Baby Care & Tracker', 'Urban Limo Taxi Simulator', 'Rainbow - Journal & Activities', 'Classical music for baby', 'How do I care about my child?', 'My Child from eDziecko.pl', 'Baby Panda Musical Genius', 'Baby Monitor', 'Daniel Tiger for Parents', 'Voice Tables - no internet', 'Vegetable Fun', \"It's open.\", \"Children's Stories 2018 - The Lion Come Lion\", 'Feed Baby - Baby Tracker', 'The Weather Channel: Rain Forecast & Storm Alerts', 'Weather forecast', 'AccuWeather: Daily Forecast & Live Weather Reports', 'Live Weather Pro', 'Weather by WeatherBug: Forecast, Radar & Alerts', 'weather - weather forecast', 'MyRadar NOAA Weather Radar', 'SMHI Weather', 'Free live weather on screen', 'Weather Radar Widget', 'Weather –Simple weather forecast', 'Weather Crave', 'Klara weather', 'Yahoo Weather', 'Real time Weather Forecast', 'METEO FRANCE', 'APE Weather ( Live Forecast)', 'Live Weather & Daily Local Weather Forecast', 'Weather', 'Rainfall radar - weather', 'Yahoo! Weather for SH Forecast for understanding the approach of rain clouds Free', 'The Weather Network', \"Klart.se - Sweden's best weather\", 'GO Weather - Widget, Theme, Wallpaper, Efficient', 'Info BMKG', 'Weather From DMI/YR', 'wetter.com - Weather and Radar', 'Storm Radar: Tornado Tracker & Hurricane Alerts', 'Yandex.Weather', 'Local Weather Forecast & Visual Widget', 'Wetter by t-online.de', 'HTC Weather', 'Weather Live Pro', \"AEMET's time\", 'New 2018 Weather App & Widget', 'Météociel', 'Weather by eltiempo.es', 'Climatempo Lite - 15 day weather forecast', 'ForecaWeather', 'YouTube', 'All Video Downloader 2018', 'Video Downloader', 'HD Video Player', 'Iqiyi (for tablet)', 'Motorola FM Radio', 'Video Player All Format', 'Motorola Gallery', 'Free TV series', 'Video Player All Format for Android', 'VLC for Android', 'Code', 'Vote for', 'XX HD Video downloader-Free Video Downloader', 'OBJECTIVE', 'Music - Mp3 Player', 'HD Movie Video Player', 'YouCut - Video Editor & Video Maker, No Watermark', 'Video Editor,Crop Video,Movie Video,Music,Effects', 'YouTube Studio', 'video player for android', 'Vigo Video', 'Google Play Movies & TV', 'HTC Service － DLNA', 'VPlayer', 'MiniMovie - Free Video and Slideshow Editor', 'Samsung Video Library', 'OnePlus Gallery', 'LIKE – Magic Video Maker & Community', 'HTC Service—Video Player', 'Play Tube', 'Droid Zap by Motorola', 'video player', 'G Guide Program Guide (SOFTBANK EMOBILE WILLCOM version)', 'Video.Guru - Video Maker', 'HTC Gallery', 'PowerDirector Video Editor App: 4K, Slow Mo & More', 'Cartoon Network App', 'MX Player', 'Video Status', 'Video Wallpaper Show', 'SVT Play', 'BluTV', 'Tencent Video - Supporting the whole network', 'Casper Ssinema', 'amazer - Global Kpop Video Community', 'Omlet Arcade - Stream, Meet, Play', 'VUE: video editor & camcorder', 'Fox News – Breaking News, Live Video & News Alerts', 'NEW - Read Newspaper, News 24h', 'BaBe + - Indonesian News', 'daily News', 'BBC News', 'Free TV Shows App:News, TV Series, Episode, Movies', 'News24', 'Le Monde, the continuous news', 'Wireless news', 'CNN Breaking US & World News', 'Gnoche entertainment news · sports news is also free', 'BaBe - Read News', 'Nigeria News NAIJ.com', 'detikcom - Latest & Most Complete News', 'Dailyhunt (Newshunt) - Latest News, Viral Videos', 'BaBe Lite - Read Quota Saving News', 'ARY NEWS URDU', 'Bengali Newspaper - The first L.', 'Read- Latest News, Information, Gossip and Politics', 'Reddit: Social News, Trending Memes & Funny Videos', 'BBC Persian | BBC Farsi News', 'Google News', 'Opera News - Trending news and videos', 'Topbuzz: Breaking News, Videos & Funny GIFs', 'Twitter', 'Pulse Nabd - World News, Urgent', 'Asahi Shimbun Digital', 'Breaking News, Local news, Attacks and Alerts Free', 'WE', 'Sky News', 'Microsoft News', 'Onet - news, weather, sport', 'Vietnam Today - Read online newspapers, the hottest news 24h', 'Apple Daily Apple News', 'The Report, Fox, Breitbart - Conservative News', 'РИА Новости', 'Tencent News', 'ARY NEWS', 'Kurio - Read the Latest News', 'Daily Mail Online', 'Flipboard: News For Our Time', 'Loop - Caribbean Local News', 'AD - News, Sports, Region & Entertainment', 'Podcast Addict', 'Podcast Republic - Podcast Player & Radio Player', 'Podcast App: Free & Offline Podcasts by Player FM', 'Spreaker Podcast Radio', 'BeyondPod Podcast Manager', 'Dezeen Magazine RSS Reader', 'issuu - Read Magazines, Catalogs, Newspapers.', 'BuzzFeed: News, Tasty, Quizzes', 'Fast News', 'LA Times: Your California News', 'The Washington Post Classic', 'Chicago Tribune', 'USA TODAY', 'World Newspapers', 'The Wall Street Journal: Business & Market News', 'Financial Times', 'The Guardian', 'NYTimes - Latest News', 'Digg', 'News360: Personalized News', 'RT News (Russia Today)', 'NPR News', 'Reuters News', 'Bloomberg: Market & Financial News', 'Haystack TV: Local & World News - Free', 'ABC News - US & World News', 'NBC News', 'Sync for reddit', 'AP Mobile - Breaking News', 'HuffPost - News', 'News Republic', 'Newsroom: News Worth Sharing', 'SmartNews: Breaking News Headlines', 'Updates for Samsung - Android Update Versions', 'AC - Tips & News for Android™', 'CBS News', 'NPR One', 'JailBase - Arrests + Mugshots', 'Pocket', 'AOL - News, Mail & Video', 'BaconReader for Reddit', 'Waze - GPS, Maps, Traffic Alerts & Live Navigation', 'T map (te map, T map, navigation)', 'MapQuest: Directions, Maps, GPS & Navigation', 'Yahoo! transit guide free timetable, operation information, transfer search', '乗換NAVITIME\\u3000Timetable & Route Search in Japan Tokyo', 'Transit: Real-Time Transit App', 'Mapy.cz - Cycling & Hiking offline maps', 'Uber', 'GPS Navigation & Offline Maps Sygic', 'Map and Router Badge', 'Yandex.Transport', 'Air Traffic', 'Speed Cameras Radar', 'Atlan3D Navigation: Korea navigator', 'Compass', 'Mappy - Plan, route comparison, GPS', 'Gps Route Finder', 'My Location: GPS Maps, Share & Save Places', 'Yanosik: \"antyradar\", traffic jams, navigation, camera', 'NAVITIME - Map & Transfer Navi', 'Sygic Car Navigation', 'Czech Public Transport IDOS', 'Karta GPS - Offline Navigation', 'Circle ratio', 'Soviet Military Maps Free', 'Truck Car Navi by Navitime Large size car, traffic jam, traffic closure, live camera, typhoon / precipitation map', 'Sentin Information Map', 'Snapp', 'GPS Speedometer and Odometer', 'GPS Traffic Speedcam Route Planner by ViaMichelin', 'Trucker Path – Truck Stops & Weigh Stations', 'Map Coordinates', 'Grab Driver', 'SBB Mobile', 'GPS Speedometer, Distance Meter', 'Blitzer.de', 'GPS Speedometer - Trip Meter - Altimeter', 'Radarbot Free: Speed Camera Detector & Speedometer', 'FindShip', 'ÖBB Scotty', 'Subway Terminator: Smarter Subway', 'Alopec - Online Shipping System', 'Yandex.Trains', 'NAVITIME Bus Transit JAPAN', 'hum app', 'Moovit: Bus Time & Train Time Live Info', 'Dynavix - Navigation, Maps, Traffic data & Cameras', 'National Rail Enquiries', 'ixigo Cabs-Compare & Book Taxi', 'Maps & GPS Navigation — OsmAnd', 'aa', 'A Call From Santa Claus!', 'Rope Hero Return of a Legend', 'A Word A Day', 'Draw a Stickman: EPIC 2 Free', 'Akinator', 'Dog Sim Online: Raise a Family', 'Color by Number - Draw Sandbox Pixel Art', 'A+ Mobile', 'Build a Bridge!', 'UNO ™ & Friends', 'Find a Way: Addictive Puzzle', 'CompTIA A+ Pocket Prep', 'Comptia A+ 220-901 & 220-902', 'Create A Superhero HD', 'Azar', '4 in a Row', 'Super Mario Run', 'STARDOM: THE A-LIST', 'LokLok: Draw on a Lock Screen', 'The Tribez: Build a Village', 'Photo Warp', 'CompTIA Exam Training', 'Magisto Video Editor & Maker', 'Glow Hockey', 'Asphalt 8: Airborne', 'Basketball Stars', \"Lep's World 2 🍀🍀\", 'Wolfify - Be a Werewolf', 'Law of Creation: A Playable Manga', 'Real City Car Driver', 'Rolling Sky', 'Gymnastics Superstar - Spin your way to gold!', 'Fake Call - Fake Caller ID', 'SuperCity: Build a Story', '4 in a row', 'Four In A Line Free', 'Like A Boss', 'AutoCAD - DWG Viewer & Editor', 'Hungry Hearts Diner: A Tale of Star-Crossed Souls', 'Dragon Sim Online: Be A Dragon', 'Fortune City - A Finance App', 'Draw A Stickman', 'Be A Legend: Soccer', 'Bible', 'Cat Sim Online: Play with Cats', 'Four In A Line', 'Tik Tok - including musical.ly', 'Disney Magic Timer by Oral-B', 'B-Messenger Video Chat', 'Bestie - Camera360 Selfie', 'B', 'BIGO LIVE - Live Stream', 'B-BLE(BLE4.0 Scan)', 'Cardi B Piano Game', 'ADS-B Driver', 'MORTAL KOMBAT X', 'B-17 Flying Fortress WWII LWP', '► MultiCraft ― Free Miner! 👍', 'B.GOOD', 'B-Dubs®', 'Oral-B App', 'Smart Launcher theme b. gold', 'Next Launcher 3D Theme Hit-B', 'Pixel Gun 3D: Survival shooter & Battle Royale', 'B-52 Spirits of Glory Deluxe', 'Servers Ultimate Pack B', 'Air Transat CinePlus B', 'Perfect Piano', 'Hay Day', 'B-Grade Renegade', 'CARDI B WALLPAPERS', 'Plan B', 'Block! Hexa Puzzle™', 'B Tiff Viewer', 'Cardi B Wallpaper', 'A & B Taxi', 'Cardi B HD Wallpapers Lock Screen', 'CURSUM B', 'Learn C [NEW]', 'Mobile C [ C/C++ Compiler ]', 'Critical Ops', 'C4droid - C/C++ compiler & IDE', 'CL Mobile - Classifieds for Craigslist', 'C Locker Pro', 'C Programs and Reference', 'C Launcher: Themes, Wallpapers, DIY, Smart, Clean', 'C Programming Zone', 'C Offline Tutorial', 'Neon Glow C - Icon Pack', 'All C Programs', 'Clean Master- Space Cleaner & Antivirus', 'C by GE', 'CPlus for Craigslist - Officially Licensed', 'Alt-C', 'C-SPAN Radio', 'Bridge-C - Get More Storage', 'Community by C Space', 'My C Spire', 'learn c in hindi', 'Learn C Programming (Examples) (OFFLINE)', 'C Programming - Learn Code, Theory & Discuss', 'Expert C Programming - Learn C Coding Easily', 'codeEazy - C/C++/JAVA', 'Batmobile™ R/C Controller', 'C Pattern Programs Free', 'C Programs Handbook', 'C Functions', 'Learn C# - .Net - C Sharp Programming Tutorial App', 'Learn Basic C - For Beginners', 'C Prowess', '101 C Programming Problems', 'Let us C - Example Programs', 'C Examples', 'C BOOK-C PROGRAMS', '100+ C Programs', 'Dubsmash', 'Discord - Chat for Gamers', 'Hitman Sniper', 'FRONTLINE COMMANDO: D-DAY', 'Fruit Ninja®', 'DU Recorder – Screen Recorder, Video Editor, Live', 'Beach Buggy Blitz', 'Vector', 'Dr. Driving', 'D Day World War II Commando Survival Shooting', 'Geometry Dash Meltdown', 'Koi Live Wallpaper', 'KineMaster – Pro Video Editor', 'Block City Wars + skins export', 'Bike Race Free - Top Motorcycle Racing Games', 'Dance School Stories - Dance Dreams Come True', '3D Bowling', 'Mind Games Pro', 'Z Ringtones PREMIUM 2018', 'Smash Hit', 'Bad Piggies', 'Temple Run', 'Broken Screen Prank', 'Screen Lock - with Fingerprint Simulator', 'Tuner - gStrings Free', 'Car Parking Game 3D - Real City Driving Challenge', 'E!', 'E! News', \"Chuck E.'s Skate Universe\", 'Eventbrite - Discover popular events & nearby fun', 'Eternium', 'E-cigarette for free', 'Moto LED for Moto X & E [Root]', 'Mobile Security & Antivirus', 'Lookout Security & Antivirus', 'World History Quick e-Book', 'Greeting Cards & Wishes', 'Maps & GPS Navigation OsmAnd+', 'theScore esports', 'EX File Explorer File Manager', 'Aab e Hayat Full Novel', 'EBookDroid - PDF & DJVU Reader', 'E-NUM', 'Aldiko Book Reader', 'Synd e-Passbook', 'Video Downloader for Facebook', 'F-Stop Gallery Pro', 'Offroad Pickup Truck F', 'F-Stop Gallery', 'Talking Tom Cat 2', 'FlashLight F.Light', 'F-Secure SENSE', 'Super Car F. Mod for MCPE', 'F-Secure KEY Password manager', 'Inputting Plus: Ctrl + Z/F/C/V', 'CTRL-F - Search the real world', 'F-Secure SAFE', 'MHD F-Series', 'F-Secure AV Test', 'F-Secure Mobile Security', \"f'east\", 'Dumb Ways to Die 2: The Games', 'Speech Therapy: F', 'HumorCast - Authentic Weather', 'F & M Mobile Banking', 'F', 'RPG End of Aspiration F', 'F-Sim Space Shuttle', 'Weather Live', 'Norwegian For Kids & Babies F', 'R+F PULSE', 'F-Secure Freedome for Business', 'F-1 watchface by Delta', 'f.lux (preview, root-only)', 'F Length Sim (no Ads)', 'Arto: f.infrared photo', 'Convert degree Celsius to Fahrenheit or °F to °C', 'F-Gas Solutions', 'Gangstar Vegas - mafia game', 'Offroad Car G', 'Google Now Launcher', 'Rolling G Sky', 'G-Switch 2', 'G-Switch 3', 'G Cloud Apps Backup Key * root', 'Share G - Images Sharing - Wallpapers App', 'Next Launcher 3D Theme Hit-G', 'Wrestling Revolution 3D', 'G-Playlists', 'G-Switch', 'Offroad G-Class 2018', 'G-SHOCK+', 'Ramfer - CNC Lathe G-code Tool', 'G-Force Driving Assistant', 'My G:', 'G-SHOCK Connected', 'Go', 'G-Homa', 'G-NetTrack Pro', 'G Theme 2 for LG V30, LG G6', 'Speedometer with G-FORCE meter', 'A41 WatchFace for Android Wear Smart Watch', 'Radial-G : Infinity', 'G-NetReport Pro', 'Dialer theme G Black Gold', 'G-REMOTE', 'Car G-Force Meter', 'G-NetWiFi Pro', 'HSPA+ Tweaker (3G booster)', 'Offroad Car H', 'Guns - Shot Sounds', 'HPlus', 'Geometry Dash Lite', 'DNS Changer - BEST (Gprs/Edge/3G/H/H+/4G)', 'H*nest Meditation', 'Car Driving Simulator Drift', 'Deaf - Hearing chat device H', 'صور حرف H', 'H Band 2.0', 'H!LooK - Dating', 'H-Connect', 'most expensive app (H)', 'AntennaPict β', 'Elkhart County 4-H Fair', 'H letter images', 'H Band', 'The World Ends With You', 'MJX H', 'tinyCam Monitor FREE', 'H-Kakashi - theme Xperia™', 'RC City Police Heavy Traffic Racer', 'Alphabet \"H\" Passcode Lock Screen', 'Ohio State Fair 4-H', 'Larry H Miller Automotive', 'Add-On: Alcatel (h)', 'My Android Device S/W & H/W', 'ADMIRALTY H-Note', 'Force LTE Only', 'Ulysse Speedometer Pro', 'Talking Ginger', 'D+H Reaction Wall', 'Motorbike Driving Simulator 3D', 'Helix', 'Mobile Number Tracker', 'I am Nose Doctor -Save my Nose', 'What was I in my Past Life', 'How Old am I?', 'I Screen Dialer', \"Where's My Water? Free\", 'How Do I Look', 'Solitaire!', 'iGun Pro -The Original Gun App', \"I'm Ping Pong King :)\", 'LINE I Love Coffee', 'Instachat 😜', 'Fame Boom for Real Followers, Likes', 'NinJump', 'FollowMeter for Instagram', 'I LOVE PASTA', 'Talking Tom Cat', 'Fidget Spinner', 'J Touch', 'J-Novel Club', 'J - Style Pro', 'Cook Baked Lasagna', \"Tom's Love Letters\", 'The J-Notes: Jazz News', 'Mali J', 'J-UFO', 'Cut the Rope GOLD', 'The Voice, sing and connect', 'J. Cole Rapper Wallpaper HD', 'Keyboard for Sony Xperia J', 'J Alvarej Moji', 'Harris J Lyrics', 'Smart TV Remote', 'J.ME Fly', 'J Balvin Piano Tiles', 'Guess the song of J Balvin', 'J-Stars Victory VS Guide', '2048 BTS J Hope KPop Puzzle Game', 'J. Polep Plus Mobile', 'J. Cole Albums (2007-2017)', 'J Dark Ice Substratum Theme', 'BTS J-Hope Wallpaper KPOP Fans HD', 'BTS j-hope LINE Launcher theme', 'BTS J-Hope Wallpaper HD for KPOP Fans', 'Kik', 'K Health', 'CIRCLE K', 'K-@ Mail Pro - Email App', 'K-@ Mail - Email App', 'Keepsafe Photo Vault: Hide Private Photos & Videos', 'KIM KARDASHIAN: HOLLYWOOD', 'Sight Words Pre-K to Grade-3', '[Substratum] K-Manager for K-Klock', 'KDRAMA Amino for K-Drama Fans', 'K keyboard - Myanmar', 'Zapzapmath: K-6 Math Games', 'KPOP Amino for K-Pop Entertainment', 'K.MOJI', 'K-Chiing VPN (Free)', 'Preschool All-In-One', 'OST)', 'Kpop Music Quiz (K-pop Game)', 'Radio K - KUOM', 'Math Games for Pre-K - Grade 4', 'Speech Therapy: K', 'K-Otic Universe', 'Magic Tiles - TWICE Edition (K-Pop)', 'CASE K-12 Math English Science', 'Mermaid Princess Pre K Games', 'K-App Mitarbeiter Galeria Kaufhof', 'Niche: College, K-12, and Neighborhood Search', 'K-Spapp, the K-Space app', 'Math Quiz Free: Grades K,1,2,3', 'K-9 Material (unofficial)', 'Discovery K!ds Play! Español', 'Magic Tiles - Blackpink Edition (K-Pop)', 'Wallpapers Bus Scania Irizar K', 'Anna.K Tarot', 'K-pop Music', 'Daily K-Talk', 'Korean Dungeon: K-Word 1000', \"Lep's World 🍀\", 'L.POINT - 엘포인트 [ 포인트, 멤버십, 적립, 사용, 모바일 카드, 쿠폰, 롯데]', 'SpongeBob Diner Dash', 'Messenger L SMS, MMS', 'Tom Loves Angela', 'EXO-L', 'Lie Detector', 'EXO-L Amino for EXO Fans', 'Calculator L', 'My Teacher - Classroom Play', 'Emoji Android L Keyboard', 'Lollipop Keyboard L Pro', \"French to English Speaking - Apprendre l' Anglais\", 'Ant Smasher by Best Cool & Fun Games', 'Cheating Tom 3 - Genius School', 'Clock L', 'Dialer theme Droid L', 'SPEED L', 'Lie Detector Test Prank', 'Xbox', 'Je Parle ANGLAIS - Apprendre l’anglais Audio cours', 'Mobizen Screen Recorder - Record, Capture, Edit', 'Mobizen Screen Recorder for SAMSUNG', 'MapleStory M', 'M-Files', 'M Launcher -Marshmallow 6.0', 'Mobizen Screen Recorder for LG - Record, Capture', 'MakeupPlus - Your Own Virtual Makeup Artist', 'M3-X5-X6-M-İ3-İ8 RACİNG 2018', '360-M Flight', 'M-acceleration 3D Car Racing', 'm>notes notepad', 'M+', 'Super Hero M Craft Run', 'M-Sight Pro', \"💎 I'm rich\", \"Don't Hug Me I'm So Scared\", 'GTS-M', 'M star Dialer', \"I'm Rich - Trump Edition\", 'Free WiFi Connect', 'M Notifier for M Launcher', 'M Theme - Dark Green Icon Pack', 'm-Faisaa', 'm:go BiH', 'Libre Scan (Diabetes:M addon)', 'm.ride - your motorcycle app', \"Rope'n'Fly 4\", 'N Launcher: Nougat Theme', 'Dino in City-Dinosaur N Police', 'N Launcher Pro - Nougat 7.0', 'Cops N Robbers - FPS Mini Game', 'Cops N Robbers 2', \"Hands 'n Guns Simulator\", 'Hide N Seek : Mini Game', 'N Launcher - Nougat 7.0', \"Cook'n Recipe App\", \"Rope'n'Fly 3 - Dusk Till Dawn\", 'Tap N Pay', 'N-Com Wizard', \"Drag'n'Boom\", \"Traps n' Gemstones\", \"Shop 'n Save\", 'Dual N-Back - Brain game', 'N Files - File Manager & Explorer', \"Guns'n'Glory Zombies Premium\", 'Cops N Robbers', \"Guns'n'Glory Premium\", \"Madagascar Surf n' Slides Free\", \"Guns'n'Glory\", \"Ghosts'n Goblins MOBILE\", 'Mopar Drag N Brag', \"Read Unlimitedly! Kids'n Books\", 'Dark Infusion Substratum Theme for Android N & O', \"Fantastic Chefs: Match 'n Cook\", \"Guns'n'Glory Heroes Premium\", \"Eat'n Park\", 'Draw N Guess Multiplayer', 'Car Parking Crane N Drifting', \"Lock 'n' Roll Pro - Ad Free\", \"Rock N' Cash Casino Slots -Free Vegas Slot Games\", 'Age of Conquest: N. America', \"Sketch 'n' go\", \"Guns'n'Glory WW2 Premium\", 'Rock n Roll Music Quiz Game', \"Cook 'n Learn Smart Kitchen\", \"Jump'N'Shoot Attack\", \"Ghouls'n Ghosts MOBILE\", 'N-Back', \"Oddworld: New 'n' Tasty\", 'Knights N Squires', 'Planet O - Icon Pack', 'The Noise-O-Meter', 'O Launcher 8.0 for Android™ O Oreo Launcher', 'Opera Mini browser beta', 'Stand O’Food® (Full)', 'WiFi-o-Matic', 'Detect-O-Gromit (D.O.G 2)', 'O Shopping', 'Obbligo o Verità? PRO', 'AC Remote for O General - NOW FREE', \"O'Route Orienteering\", 'Drink-O-Tron The Drinking Game', 'Multiling O Keyboard + emoji', 'Google I/O 2018', 'Prime Key for Nougat Launcher& O Launcher &KitKat', 'OO Launcher for Android O 8.0 Oreo™ Launcher', \"Band O'Clock\", 'O Launcher', 'Verdad o Reto', 'Pixlr-o-matic', 'O-Level Past Papers & Solution (up to 2017)', 'O Multiple - App Cloner, Duals APP, tarallel', 'The Maze Runner', 'Psiphon Pro - The Internet Freedom VPN', 'P Icon Pack for Pixel', 'Android P | Xperia™ Theme 4800+ icons', 'Android P Home KLWP', 'P-Home for KLWP', '[substratum] Vacuum: P', 'Super P Launcher for Android P 9.0 launcher, theme', 'pixiv', '[Sub/EMUI] P Pro - EMUI 8.1/8.0/5.X Theme', 'Pacify Exceed (Android P) - Theme for Xperia™', 'Theme Android P Design for LG V30', 'Pistachio Launcher for Android P 9.0', 'Theme Android P for LG G7 & V35', 'Volume Slider Like Android P Volume Control', 'Pacify (Android P theme) - Theme for Xperia™', 'P Launcher for Android™ 9.0', 'PixelLab - Text on pictures', 'Popsicle Launcher for Android P 9.0 launcher', 'Theme Android P Black design for LG V30', 'P Launcher Theme For Android™ 9.0', 'Theme Android P Black for LG G7 & V35', 'P Theme for Android™ P 9.0 Style Launcher', 'Android P 9.0', 'Pureness Pacify (Android P) - Theme for Xperia™', 'Android P Wallpapers', 'P XPERIA Theme™ | Design For SONY 🎨', 'Parallel Space - Multiple accounts & Two face', 'Theme for New Android P', 'P9 Launcher - Android™ 9.0 P Launcher Style', 'Android P Style Icon Pack', 'Android P Stock Wallpapers', 'G-Pix [Android P] Dark EMUI 8/5 THEME', 'G-Pix [Android P] EMUI 8/5 THEME', 'Android-P Mono Grey EMUI 8/5 Theme', 'P XPERIA Theme™ | PURPLE - Design For SONY 🎨', 'Materialistic P Wallpapers', 'Android P Rotation', 'P XPERIA Theme™ | INDIGO - Design For SONY 🎨', 'Android P Launcher 9.0 launcher', 'Pixel Oreo/P Dark White AMOLED UI - Icon Pack', 'pretty Easy privacy p≡p', 'P Icon Pack', 'Pi Dark [substratum]', 'Q Alerts: QAnon Drop Notifications, Research +++', 'The Q - Live Trivia Game Network', 'Fossil Q', 'Q', 'Official QR Code® Reader \"Q\"', 'Q Cat Live Wallpaper', 'Q MINDshare Mobile', 'Fossil Q Legacy', 'Offroad Car Q', 'Q*bert: Rebooted', 'Gun Shoot War Q', 'FaceQ', 'Q Actions - Digital Assistant', 'Q Link Wireless Zone', 'Q Avatar (Avatar Maker)', 'Q downloader : download your social media videos', 'Q Avatar Pro', 'Q-See Plus', 'Q Wunder', 'Q-See QC View', 'Leica Q', 'Q Remote Control', 'Q-Ticketing', 'DJMAX TECHNIKA Q - Music Game', 'myQ', 'QR Code Reader', 'ICQ — Video Calls & Chat Messenger', 'Q Operator', 'Q Call', 'Q-slope', 'Q-Tech Companion App', 'Q Mobile Banking', 'Q Quiz SK', 'Big Q Car Service', 'Q-See QT View', 'DataCamp - Learn R, Python & SQL', 'R Language Reference Guide', 'Run R Script - Online Statistical Data Analysis', 'R Programming Language', 'R Programming', 'R. Physics Puzzle Game', 'R Instructor', 'GT-R R35 Drift Simulator', 'Offroad Pickup Truck R', 'Learn R Programming Full', 'R Programming Tutorial', 'R Programing Offline Tutorial', 'Learn R Language Easy Way', '.R', 'R-TYPE II', 'Guide for R Programming', 'R Programming Solution', 'Learn R - Programming Concepts', 'Learn R Programming', 'Car Parking Nissan GT-R R35 Simulator', 'R Quick Reference Big Data', 'Learn R Programming Free EBook', 'RMEduS - 음성인식을 활용한 R 프로그래밍 실습 시스템', 'R Programming Language (Paperset 2) MCQ Quiz', 'R-net for Android', 'R File Manager', 'R-TYPE', 'R Studio', 'Day R Premium', 'Join R, Community Engagement', 'R Bank', 'Elemental Knights R Platinum', 'Wonder5 Masters R', 'Neon-R (Red)', 'Mat|r viewer', \"R. Lee Ermey's Official Sound\", 'Tutorials for R Programming Offline', 'R Programming Language (Paperset 1) MCQ Quiz', 'S Launcher for Galaxy TouchWiz', '360 Security - Free Antivirus, Booster, Cleaner', 'S Player - Lightest and Most Powerful Video Player', 'Offroad Pickup Truck S', 'S Launcher Pro for Galaxy', 'Type S LED', 'S Note', 'S Photo Editor - Collage Maker , Photo Collage', 'Stupid Zombies', 'S’more - Earn Cash Rewards', 'PitchBlack S - Samsung Substratum Theme “For Oreo”', 'Samsung Smart Switch Mobile', 'S S9 Launcher - Galaxy S8/S9 Launcher, theme, cool', \"Five Nights at Freddy's 2 Demo\", 'Crime Wars S. Andreas', 'S Pen Keeper', 'SH Script Runner', 'City Taxi Driver sim 2016: Cab simulator Game-s', 'Shopping List S PRO', 'Tinder', 'T-Mobile', 'Dino T-Rex', 'AT&T U-verse', 'AT&T Messages for Tablet', 'T Uploader', 'T-Mobile DIGITS', 'AT&T Digital Life', 'DIRECTV Remote App', 'AT&T Smart Limits℠', 'T-Mobile Tuesdays', 'AT&T Mobile Transfer', 'T-Mobile Content Transfer', 'T-Mobile Visual Voicemail', \"I Can't Wake Up!\", 'AT&T FamilyMap®', 'T-Mobile® FamilyMode™', 'Portable Wi-Fi hotspot', 'AT&T Call Protect', \"Don't Starve: Pocket Edition\", \"Please, Don't Touch Anything\", 'AT&T DriveMode', 'The T Factor', \"Please Don't Touch Anything 3D\", \"Don't Panic with Andrew J.\", \"Don't touch my phone\", \"Don't Starve: Shipwrecked\", \"Ludo - Don't get angry\", 'Jurassic Life: T Rex Simulator', 'T-Mobile SyncUP DRIVE', 'T-shirt design - Snaptee', 'MBTA GPS - Track the T', 'T. Rowe Price Personal® App', 'Můj T-Mobile Business', 'U by BB&T', 'U LIVE – Video Chat & Stream', 'U - Webinars, Meetings & Messenger', 'Hollywood U: Rising Stars', 'U-Dictionary: Best English Learning Dictionary', 'Ustream', 'ENCHANT U', '/u/app', 'Kicker U', 'U-Haul', 'Vienna U-Bahn', 'Kicker U Lite', 'U-Scan', 'Octo U: Your driving companion', 'I Love U Theme&Emoji Keyboard', 'Channel U', 'Parallel U - App Cloner, Duals APP, tarallel', 'U Pull It Auto Dismantler', 'Wii U Simulator', 'U Camera : Phone 6s OS 9 style', 'U get - Wireless Speed Test', 'U Guard', 'DRC Sim - Wii U Gamepad', 'See U - Random video chat, video chat', '[verify-U] VideoIdent', 'What U See', 'U Assist - Screen Mirroring & Sharing App', 'U+Box', 'Wi u Emulator', 'Waiting For U Launcher Theme', 'U of I Community Credit Union', 'U-Report', 'Meet U - Get Friends for Snapchat, Kik & Instagram', 'U-Craft Mobile', 'Alarmy (Sleep If U Can) - Pro', 'U-Disco', 'SAY-U', 'Be U Salons Hair-Beauty Deals In Delhi & Bangalore', 'U-48 Submarine Commander Free', 'Berlin Subway – BVG U-Bahn & S-Bahn map and routes', 'Remote For ATT U-verse TV - NOW FREE', 'Pocket U ASW', 'V LIVE - Star Live App', 'Identity V', 'VMate', 'V Made', 'Grand Theft Auto V: The Manual', 'V for Voodoo', 'Sin City Crime Simulator V - Gangster', 'The Gang Sniper V. Pocket Edition.', 'Vimeo', 'All Video Downloader', 'Vault-Hide SMS,Pics & Videos,App Lock,Cloud backup', 'VidPlay', 'HD Video Downloader : 2018 Best video mate', 'V-CUBE Seminar Mobile', 'VivaVideo - Video Editor & Photo Movie', 'Mod GTA V for MCPE', 'Vi Trainer', 'San Andreas: Gang Crime V', 'The Grand Bike V', 'V.360° Camera', 'FINAL FANTASY V', 'BTS V LINE Launcher theme', 'VideoShow-Video Editor, Video Maker, Beauty Camera', 'FORD V SERIES CALC - NO LIMIT', 'VMate Lite - Funny Short Videos Social Network', 'Mirk V Launcher Theme', 'Mike V: Skateboard Party PRO', 'The grand theft V Wallpaper', 'V Bucks ProTips New', 'Cheats for GTA V', 'V for Vampire - Free', 'Get Free V-bucks_fortnite Hints', 'V BTS Wallpaper', 'v-view', 'Mental Hospital V', 'Grand Stickman Cover V', 'Cheat Codes for GTA V', 'DRAGON QUEST V', 'Easy V-Bux free', 'BTS V Kim Taehyung Wallpapers Kpop HD New', 'W Pro - Weather Forecast & Animated Weather Maps', 'W - Weather Forecast & Animated Radar Maps', 'W-History Standalone', 'Words With Friends Classic', 'Fantasy Squad W', 'Weather & Clock Widget for Android', 'W Box VMS', 'W Box VMS HD', 'Ace Screen Recorder w facecam', 'WIFI WPS WPA TESTER', 'Flashlight Free w/ compass', 'App Lock: Locker w/ fingerprint, Parental Control', 'IRS W-9 form', 'Open in WhatsApp (click to chat)', 'B & W Filter for Photo Editor Pro', 'WowBox', 'Zaatar w Zeit', 'WPSApp', 'WhatsCall Free Global Phone Call App & Cheap Calls', 'Dictionary - WordWeb', 'Profile w/o crop for Telegram', 'weather HD', 'Draw Something Classic', 'X-VPN - Free Unlimited VPN Proxy', 'X Launcher: With OS11 Style Theme & Control Center', 'Phone X Launcher, OS 11 iLauncher & Control Center', 'Lock Screen Phone X Style OS 11', 'Nose Doctor X: Booger Mania', 'Control Center iOS 11 - Phone X Control Panel', 'X Browser', 'X Launcher Pro: PhoneX Theme, OS11 Control Center', 'X-plore File Manager', 'Flashlight X', 'iSwipe Phone X', 'X Launcher Pro - IOS Style Theme & Control Center', 'X Home Bar - Free', '[ROOT] X Privacy Installer', 'Extreme X Ray Robot Stunts', 'Xray Scanner Prank', 'X Launcher Prime: With OS Style Theme & No Ads', 'The X-Files: Deep State - Hidden Object Adventure', 'Theme for Iphone X Plus', 'Casino X - Free Online Slots', 'X-WOLF', 'Light X - Icon Pack', 'X-Plane 10 Flight Simulator', 'Anime X Wallpaper', 'NEW Theme for Phone X', 'X-Plane to GPS', 'Control Center iOS 11 - Phone X notifications', 'iLocker X - iOS11 Lockscreen with HD Wallpapers', 'iLauncher OS 12 Pro - Phone X', 'Hero Fighter X', 'Slendrina X', 'X Back - Icon Pack', 'Guide (for X-MEN)', 'Decibel X PRO - Sound Meter dBA, Noise Detector', 'Flight Simulator X 2016 Free', 'Robocar X Ray', 'Space X: Sky Wars of Air Force', 'OS-X EMUI 4/5/8 THEME', 'Flexiroam X', 'X-ray scanner simulator', 'X Construction', 'X Home Bar - Home Bar Gesture Pro', 'PLAYBULB X', 'X-Wing Squadron Builder', 'YouTube TV - Watch & Record Live TV', 'JW Caleb y Sofia', 'Boomerang Make and Race', 'Talking Tom & Ben News', 'Vegas Crime Simulator', \"PewDiePie's Tuber Simulator\", 'Real Gangster Crime', 'Antivirus & Mobile Security', 'Flashlight Ultimate', 'Gangster Town', 'Rope Hero 3', 'Avast Mobile Security 2018 - Antivirus & App Lock', 'NQ Mobile Security & Antivirus', 'yHomework - Math Solver', 'GO Launcher - 3D parallax Themes & HD Wallpapers', 'Z Origins - (Z The Game)', 'ZArchiver', 'Zapya - File Transfer, Sharing', 'Experiment Z - Zombie', 'War Z 2', 'Last Empire - War Z: Strategy', 'Z Day: Hearts of Heroes', 'Z Champions', 'CPU-Z', 'WithstandZ - Zombie Survival!', 'Empire Z: Endless War', 'Zombie War Z : Hero Survival Rules', 'DRAGON BALL Z DOKKAN BATTLE', 'Moto Z Market', 'Cube Z (Pixel Zombies)', 'Z War-Zombie Modern Combat', 'Z App', 'GALAK-Z: Variant Mobile', 'Z City', 'Space Z 🌏 🚀Icon Pack Theme', 'Reload: The Z-Team', 'Rage Z: Multiplayer Zombie FPS Online Shooter', 'Pixel Z Gunner 3D - Battle Survival Fps', 'Saiyan Z: Super SSJ Ultimate Combat', 'Mini DAYZ: Zombie Survival', 'Z-Empire: Dead Strike', 'Free Z Glass GO Keyboard Theme', 'Zombie Avengers:(Dreamsky)Stickman War Z', 'Z Camera', 'ZArchiver Donate', 'Cardio Z', 'GO SMS Pro Z Glass Theme EX', 'Route Z', 'Z PIVOT', 'Dragon X Adventure: Warrior Z', 'Ultimate Fighter Z', 'Theme eXp - Black Z Light', 'Toy Battle Z', 'Wave Z Live Wallpaper', '30 Day Ab Challenge', 'Angry Birds Blast', 'ab', 'Ultimate Ab & Core Workouts', 'Angry Birds Evolution', 'Angry Birds Match', 'Angry Birds POP Bubble Shooter', 'Abs Workout - Burn Belly Fat with No Equipment', '6 Pack Promise - Ultimate Abs', 'AB Repeat Player', 'Abs, Core & Back Workout Challenge', 'AB Mobile App', 'Daily Ab Workout', 'Angry Birds Epic RPG', 'A-B repeater', 'Daily Ab Workout - Core & Abs Fitness Exercises', 'Abs workout 7 minutes', 'Angry Birds Friends', '30 Day Ab Challenge FREE', 'AB Blast Match 3', 'AB Click2Shop', 'Math games for kids : times tables - AB Math', 'AB Crush Match 3', 'ABS Workout - Belly workout, 30 days AB', 'AB Match', 'Math games for kids : times tables training', '7 minute abs workout - Daily Ab Workout', 'AB Anywhere Mobile Banking', '5 Minute Ab Workouts', 'Angry Birds Go!', 'AB Screen Recorder', 'Six Pack Abs Photo Editor', 'Best Blood Type AB: Food Diet & Personality', 'Angry Birds Star Wars', '30 Day AB Challenge - Lumowell', 'Ab Workouts', 'Ab Workouts - Ab Generator', 'Chatime AB Rewards', 'Abs workout - 21 Day Fitness Challenge', \"Ladies' Ab Workout FREE\", '30-Day Ab Challenge Tracker', 'Universal AC Remote Control', 'AC Freedom', 'Smart Air Conditioner', \"Assassin's Creed Identity\", 'AC Remote Control', 'Air conditioner remote control', 'Smart-AC Universal Remote Free', 'AC REMOTE UNIVERSAL-PRO', 'Kenmore Smart AC', 'AC WIFI', 'A/C Air Conditioner Remote', 'Smart Air Conditioner(CAC)', 'Carrier Air Conditioner', 'AC Troubleshooter', 'TOSHIBA Smart AC', 'Trane Interactive Smart AC', 'AC remote control mobile', 'AC Air condition Troubleshoot,Repair,Maintenance', 'AC Remote for Haier - NOW FREE', 'Air Conditioner Maintenance', 'AC Remote for Daikin - NOW FREE', 'A/C Universal Remote Control', 'AC Remote for LG - NOW FREE', 'Plug-in app (System AC)', 'LG AC Smart Diagnosis', 'AC Remote for Midea - NOW FREE', 'Ac remote control', 'A/C REFRIGERANT CAPACITY', 'Remote Control For All AC - Universal Remote', 'All Type Ac Repair & Services', 'AC Remote Control Simulator', 'Mi Remote controller - for TV, STB, AC and more', 'AcDisplay', 'AC Mobile Control', 'AC Remote For LG', 'Universal AC Remote Control Simulator', 'Hi-Smart AC', 'AC Remote for Sharp - NOW FREE', 'AC Remote for Samsung - NOW FREE', 'Pocket AC', 'AC Remote for Carrier - NOW FREE', 'AC & TV, DVD, Set Top Box - Remote control IR', 'ac remote control', 'Free Adblocker Browser - Adblock & Popup Blocker', 'Ad Detect Plugin - Handy Tool', 'AppBrain Ad Detector', 'AD - Nieuws, Sport, Regio & Entertainment', 'Flud (Ad free)', 'AdClear Ad blocker for Samsung', 'Adblock Browser for Android', 'Adguard Content Blocker', 'tTorrent - ad free', 'cronometer (ad free)', 'Ad Detector', 'Adblock Plus for Samsung Internet - Browse safe.', 'MyRadar NOAA Weather Radar Ad Free', 'Safe Notes - Secure Ad-free notepad', 'Adblock Fast', 'FVD Ad-Free', '2000 AD Comics and Judge Dredd', 'Anti Adware', 'Ad Blocker Turbo - Adblocker Browser', 'Weather & Radar Pro - Ad-Free', 'ONScripter Plus (Ad Free)', 'Vpn Hosts (ad blocker & no root & support ipv6 )', 'Google AdSense', 'Ad-free Triangle Solver', 'Ez Screen Recorder (no ad)', 'Best Applock - Locker & No Ads', 'Local Services ads by Google', 'Ad Block REMOVER - NEED ROOT', 'WhatsFake Pro (Ad free)', 'Photo Compress 2.0 - Ad Free', 'Ad Removal: thereisonlywe', 'Brave Browser: Fast AdBlocker', 'Solitaire: Decked Out Ad Free', 'WeatherClear - Ad-free Weather, Minute forecast', 'Ad Remove Plugin for App2SD', 'Digital Clock : Simple, Tiny, Ad-free Desk Clock.', 'RAM Cleanup Ad-Free Option', 'Emo Ads Blocker Browser', 'Bing Ads', 'My baby firework (Remove ad)', 'Apps Ads Detector', 'TIMBER AD FILTER - Very useful ad block app', 'Alchemy Classic Ad Free', 'Easy Hotspot Ad Free', 'AE + Aerie: Jeans, Dresses, Swimsuits & Bralettes', 'Adobe Premiere Clip', 'Shortcuts for After Effects', 'AE Sudoku', 'ESS Mobile for AE', 'AE Jewels 2: Island Adventures', 'AE Bubble:Offline Bubble Games', 'AE Basketball', 'AE Bingo: Offline Bingo Games', 'AE Jewels', 'AE Spider Solitaire', 'AE Coin Mania : Arcade Fun', 'AE Roundy POP', 'Mupen64+AE FREE (N64 Emulator)', 'Mupen64Plus AE (N64 Emulator)', 'AE Lucky Fishing', 'AE Video Poker', 'AE Solitaire', 'AE Archer', 'AE Blackjack', 'AE Gun Ball: arcade ball games', 'AE Order', 'TV.AE', 'AE 3D MOTOR :Racing Games Free', 'AE Garage', 'AE Bulletins', 'AE GTO Racing', 'AE 3D Moto 3', 'AE FreeCell', 'AE City Jump', 'AE Angry Chef', 'Ae Allah na Dai (Rasa)', 'Dashboard AE', 'FilmoraGo - Free Video Editor', 'Event Manager - AllEvents.in', 'Nasihat - Chalo ae Pyaara', 'AE Master Moto', 'Brica BPRO5 AE', 'AE Manager', 'AE Air Hockey', 'Connect.ae - Local Search UAE', 'AE Fishing Hunter', 'ActionDirector Video Editor - Edit Videos Fast', 'Ivanti AE Agent', 'AE Checkout Plugin', 'NewTek NDI', 'AfterFocus', 'AF Link', 'AF Hydro', 'Gunship III Vietnam People AF', 'AF Comics Reader - Free', 'Flim Af Somali Hindi Fanproj', 'DSLR camera - Auto Focus and Blur Professional', 'AF-STROKE (FREE)', 'Hesab.af - Send money in Afghanistan', 'AppFinder by AppTap', 'iFunny :)', 'Toppen af Danmark', 'AF-STROKE', 'i-share AF/KLM (AFKL ishare)', 'Bazar.af', 'DSLR Blur Camera Auto Focus', 'Ariana News AF', 'AF Legendary 2017', 'AR effect', 'ASUS PixelMaster Camera', 'AzadBazar.af', 'easyFocus', 'AF Nutrition - Integratori', 'Blur Image - DSLR focus effect', 'Tafsiir Quraan MP3 Af Soomaali Quraanka Kariimka', 'Camera Pro', 'Rоhi.af', 'HD Camera - silent shutter', 'AF Our Time to Shine', 'A Better Camera', 'Auto Dslr Photo Effect : Auto Focus Effect', '9GAG: Funny Gifs, Pics, Memes & Videos for IGTV', 'AF Johannesburg', 'PhotoScan by Google Photos', 'Gun Strike Shoot', '50000 Free eBooks & Free AudioBooks', 'AppLock', 'King of Avalon: Dragon Warfare', \"What's Up\", 'Afterlight', 'Blurfoto : Auto blur photo background & DSLR focus', 'Blur', 'AG Contacts, Premium edition', 'Ag PhD Field Guide', 'AG Drive 3D', 'Apps for SportsBєtting.ag - Bitcoin Welcome here!', 'AG Contacts, Lite edition', 'Ag Weather Tools', 'Trimble Ag Mobile', 'Ag Tools', 'Ag PhD Deficiencies', 'AG Screen Recorder', 'SOLEM AG', 'AG Subway Simulator Mobile', 'AG Subway Simulator Lite', 'Elim AG', 'EZ Ag Mobile', 'AG Subway Simulator Pro', 'BRL AG', 'Oklahoma Ag Co-op Council', 'AG Fast Service Automotive', 'Ag PhD Soils', 'All States Ag Parts', 'VR AG Racing for Cardboard', 'Safe Ag Systems™', 'Ag PhD Planting Population Calculator', 'Ag Trucking Mobile App', 'Lakeside AG Moultrie', 'Ag Guardian', 'Wind & Weather Meter for Ag', 'Ag Across America', 'Border Ag & Energy', 'Ag-Pro Companies', 'My Ag Report', 'Alabama Ag Credit Ag Banking', 'AG EMS Tour', 'Mix Tank – Tank Mixing Ag App', 'Eternal Light AG', 'AG test', 'West Central Ag', 'Platincoin Wallet - PLC Group AG', 'Tri-Ag (WV) FCU', 'Ag PhD Soybean Diseases', 'United Ag Cooperative', 'Ag Valley Cooperative', \"Michael's AG Sound Board\", 'Ag-Power', 'Fertilizer Removal By Crop', 'AG Track', 'Denis Brogniart - AH !', 'Freeland AH', 'MD PAWS AH', 'AH Connect (Adventist Health)', 'Woodland AH', 'Mukwonago AH', 'Angelcare AH', 'WoW AH Tracker', 'AH Kollection for KLWP', 'Chenoweth AH', 'Sayers AH', 'Claus Paws AH', 'Denis Brogniart - AH 2 !', 'Ah! Cutie', 'AH Alarm Panel', 'Arrowhead AH App', 'Ah! Monster', 'Kimbrough AH', 'The Ah Yeah! Button', \"Bee'ah Employee App\", 'Clarksburg AH', 'WAH AH', 'Prestige AH', 'San Dimas AH', 'Ah Bailar', 'Ebenezer AH', 'Boston AH', 'AH-1 Viper Cobra Ops - helicopter flight simulator', 'Ah !', 'Kay AH GA', 'Bayview Hill AH', 'Hilltop AH', 'Ah Ha Block', 'AH Lake Villa', 'Ferguson AH', \"be'ah\", 'Ah! Bird', 'Downers Grove AH', 'AH! Soundboard', 'Sherbourne AH', 'Cathy AH', 'Monticello AH', 'Brandon Lakes AH', 'Forest Crossing AH', 'Ah! Coins', 'Mitchell AH', 'AH of Rocky Hill', 'Replika', 'Ai illustrator viewer', 'Real AI', 'The Artificial Intelligence Project (A.I. Chat)', 'Virtual Assistant DataBot: Artificial Intelligence', 'ALPHA - Artificial Intelligence', 'Artificial Intelligence', 'Orbita AI — Exciting mobile puzzles & riddles', 'SMS AI Bot', 'ChatBot AI Talking Girl', 'Ai File Viewer', 'ParaTek Ai Speech generator', 'Extreme- Personal Voice Assistant', 'AI Face Beauty Analysis - IntelliFace (Free)', 'Robin - AI Voice Assistant', 'Learn Artificial Intelligence', 'AI Benchmark', 'AI Today : Artificial Intelligence News & AI 101', 'Tomo A.i. Pet Chat Bot', 'Puck AI Personal Assistant Robot', 'Builder (by Engineer.ai)', 'Chat With Artificial Intelligence', 'Friday: Smart Personal Assistant', 'Picai - Smart AI Camera', 'Virtual Eye AI', 'Lyra Virtual Assistant', '2048(AI)', 'ai robot keyboard', 'AI with Python Tutorial', 'ai.Bot Box', 'Adobe Illustrator Draw', 'FaceApp', 'Message AI - Write Better Messages (Free)', 'ChatBolo - AI Chatbot Online', 'Artificial intelligence', 'MiAI (Artificial Intelligence) Assistant', 'AI Draw | Art Filter for Selfie', 'Turbo AI™ - Personal assistant', 'Message AI - Write Better Messages', 'AI Image Recognizer (beta)', 'AI Sight', 'Jarvis artificial intelligent', 'Age of AI: War Strategy', 'DREAM-e: Dream Analysis A.I.', 'AJ Jump: Animal Jam Kangaroos!', 'AJ Academy: Amazing Animals', 'Dash Tag - Fun Endless Runner!', 'Jamaa Amino for Animal Jam', 'Tunnel Town', 'AJ+ Beta', 'AJ Cam', 'AJ Reminders', 'tournaments and more.aj.2', 'Club Penguin Island', 'Aj. Vallbona', 'AJ Official', 'AJ Bell Youinvest', \"Hey AJ! It's Saturday!\", 'Selfie With Champion AJ Style', 'Baby Game Animal Jam Free', 'AJ Concept Group App', 'Blackjack aj Poker', 'Bonza Poly Art - Tenkyu Animal Jam for Kids', 'A.J. Styles HD Wallpapers 2018', 'AJ Player', 'AJ RETAILS', \"Hey AJ! It's Bedtime!\", 'AJ AUTO', 'AJ Percent Off Calculator', 'AJ Nails Supply', 'Aj.Petra', \"AJ Men's Grooming\", 'Watch Face Swiss AJ-6', 'AJ Rafael Music Lyrics', 'AJ Styles HD Wallpapers', 'AJ and Alyssa', 'A.J. Green Wallpapers 4 Fans', 'AJ Gray Icon Pack', 'AJ Styles Wallpaper 2018 - AJ Styles HD Wallpaper', 'A-J Media Vault', 'AJ Gray Dark Icon Pack', 'Little Pets Animal Guardians', 'AJ-COMICS', 'AJ Blue Icon Pack', 'AJ Tracey Music and Lyrics', 'AJ Turquoise Dark Icon Pack', 'AJ렌터카 법인 카셰어링', 'My Wild Pet: Online Animal Sim', 'AJ Rafael Music Lessons', 'AJ Orange Icon Pack', 'AJ Wallpapers', 'Aj Di Awaaz', 'How it works: AK-74N', 'AK-47: Simulator and Shooting', 'AK-47 Simulation and Info', 'AK-47 Sounds', 'AK 47 Live Wallpaper', 'Puppy Shooting an AK-47: Platformer Zombie Game', 'AK Interactive', 'AK-47 sounds', 'Wallpapers AK 47 Guns', 'AK 47 Assault Rifle Wallpapers', 'AK-47 Assault Rifle', 'Crisis Action: 2018 NO.1 FPS', 'AK 47 Guns Wallpaper', 'AK-47 3D', 'Book of AK-47', 'Weapon stripping 3D', 'AK-47 Assult Rifle: Gun Shooting Simulator Game', 'Ak-47 Wallpapers 2018', 'Wallpapers New AK 47 Assault Rifle Guns Arms', 'Weapon AK-74 Live Wallpaper', 'Shoot M-16 vs AK-47 : realistic weapon simulator', 'Counter Terrorist Attack', 'AK47 Assault Rifle', 'Wallpapers AK 74M', 'Weapons simulator AK-47', 'Wallpapers AK 12', 'AK 47 Lock Screen', 'Gun AK 47', 'AK Blackjack', 'Jigsaw Puzzles AK 74M', 'AK-47 guns Sounds', 'AK Phone', 'AK Booster', 'GUN ZOMBIE', 'Ak Parti Yardım Toplama', 'AK Lodi Films', 'Gun Mod: Guns in Minecraft PE', 'Kymco AK 550', 'AK Math Coach', 'Shoot Strike War Fire', 'AL.com', 'University of Alabama', 'Alabama Gameday Live', 'AL.com: Alabama Football News', 'Alabama Road Trips', 'Alabama DMV Permit Test - AL', 'Al-Quran (Free)', 'Official AL Fishing & Hunting', 'Al Quran (Tafsir & by Word)', 'Al-Moazin Lite (Prayer Times)', 'Al Quran Indonesia', \"Al'Quran Bahasa Indonesia\", 'Al Quran Al karim', 'Al jazeera TV', 'Al Jazeera English', 'Al-Muhaffiz', 'Al Quran Audio (Full 30 Juz)', 'Quran for All (Al-Huda Int.)', 'AL Voice Recorder', 'Ayat - Al Quran', 'Quran Juz-30 - Mahad al Zahra', 'Al Quran : EAlim - Translations & MP3 Offline', 'Al Mayadeen', 'Al-Quran Al-Muallim', \"We're Working Out - Al Kavadlo\", 'Al-Quran 30 Juz free copies', 'Koran Read &MP3 30 Juz Offline', 'Al Quran MP3 - Quran Reading®', \"Al'Quran Bahasa Indonesia PRO\", 'Hafizi Quran 15 lines per page', 'Al-Quran Ahmad Saud Offline', '12 Step Meditations & Sober Prayers AA NA AL-ANON', 'Quran for Android', 'Al Quran Free - القرآن (Islam)', 'Taha Al Junaid Quran Mp3', 'Surah Al-Waqiah', 'Muslim Pro - Prayer Times, Azan, Quran & Qibla', 'Hisnul Al Muslim - Hisn Invocations & Adhkaar', 'I am rich', 'I AM RICH', 'I am Rich Plus', 'I am rich VIP', 'I Am Rich Premium', 'I am extremely Rich', 'I am Rich!', 'I am rich(premium)', 'I am Rich Person', 'I am Rich Premium Plus', 'I Am Rich Pro', 'I Am Innocent', 'I am rich (Most expensive app)', 'i am rich', 'I Am Rich', 'I am Bread', 'Where Am I At?', 'I am Rich', 'Where Am I? GPS Loc', 'I am Millionaire - Richest guy in the town', 'Coast To Coast AM Insider', 'I AM RICH PRO PLUS', 'Where Am I?', 'I Am Wizard', 'What Am I? - Brain Teasers', 'Who am I? (Biblical)', 'DWWW 774 Ultimate AM Radio', 'Anno: Build an Empire', \"Vikings: an Archer's Journey\", 'Trell: An app for Explorers | Best Wanderlust App', 'Virtual Families 2', 'My Emma :)', 'League of Gamers - Be an E-Sports Legend!', 'Draw a Stickman: EPIC Free', 'My Horse', 'My Boo - Your Virtual Pet Game', 'Create apps fast with beautiful design and no code', 'THE KING OF FIGHTERS-A 2012(F)', 'Diary with lock password', 'Fast like a Fox', 'Scoompa Video - Slideshow Maker and Video Editor', 'Girls Craft: Exploration', 'The PCH App', 'Legend - Animate Text in Video', 'Resume Builder Free, 5 Minute CV Maker & Templates', 'AO Surgery Reference', 'ao', 'AO/OTA Fracture Classification', 'AO Player', 'Ao Oni2', 'A. O. Smith', 'AO-EVENT', 'Arena of Valor: 5v5 Arena Game', 'PlacarTv Futebol Ao Vivo', 'Virtual lover', 'The Hunt for the Lost Treasure', 'Attack the Light', 'Princess Closet : Otome games free dating sim', 'Gravidez ao Vivo', 'PES 2018 PRO EVOLUTION SOCCER', 'Mobile Legends: Bang Bang', 'Heroes of Order & Chaos', 'Kill Shot Bravo: Sniper FPS', 'Tennis Champion 3D - Online Sports Game', 'Carnivores: Dinosaur Hunter', 'High School Simulator 2017', 'Hopeless Land: Fight for Survival', 'SofaScore Live Score', 'Virtual Cigarette Smoking (prank)', 'Scanning body and undressing people', 'Ultimate Tennis', 'Legion of Heroes', 'Soccer Star 2018 Top Leagues · MLS Soccer Games', 'Heroes Arena', 'virtual lover 3D', 'Range Master: Sniper Academy', 'FC Barcelona Official App', 'Can Your Pet? : Returns - Teen', 'GUYZ - Gay Chat & Gay Dating', 'Bubbu – My Virtual Pet', '3D Tennis', 'Start the Hunt for the Lost Treasure', 'Treasure Hunt Hidden Objects Adventure Game', 'Scanning under clothes (prank)', 'WGT Golf Game by Topgolf', '3D Holograms Joke', 'Weaphones™ Gun Sim Free Vol 1', 'Hidden Objects Treasure Hunt Adventure Games', 'Live Camera Viewer ★ World Webcam & IP Cam Streams', 'Body scanner (prank)', 'AP ENPS Mobile', 'AP® Guide', 'WiFi Access Point (hotspot)', 'AP Mobile', 'AP Manager', 'AP App for Android™', 'Access Point Finder', 'AP English Language: Practice Tests and Flashcards', 'AP Mobile 104', 'AP Planner', 'Access Point Browser', 'AP Installer', 'Access Point Proximity', 'Study AP World History', 'UniFi', 'Ap Video Downloader for fb New 2018', 'AP Government Review', 'ap,wifi testing,iperf,ping,android,Bluetooth,tcp', 'HotSpot Tethering Free/WiFi AP', 'AP Chemistry Prep: Practice Tests and Flashcards', 'AP Flashcards', 'AP World History: Practice Tests and Flashcards', 'Access Point Names', 'AP Biology Prep: Practice Tests, Flashcards', 'AP Biology Study Guide + Quiz', '500 AP World History Questions', 'AP Themes for Kustom/KLWP', 'AP Physics 1 Prep: Practice Tests and Flashcards', 'Fate GO Ap Counter', 'iScore5 AP Psych', 'Glanceable Ap Watch Face', 'AP Psychology Prep: Practice Tests and Flashcards', 'meStudying: AP English Lit', 'APN Settings', 'AEE AP', 'AP Math & Computer Science', 'AP Series Solution Pro', 'AP Statistics Prep: Practice Tests and Flashcards', 'eChallan Andhra Pradesh (AP)', 'AP Art History Flashcards', 'True Skate', 'AP European History: Practice Tests and Flashcards', 'AdventureQuest 3D MMO', 'AdventureQuest Dragons', 'AQ: First Contact', 'Battle Gems (AdventureQuest)', 'Undead Assault', 'AQ Service', 'AQ wisdom +', 'AQ SMS Notify', 'AQ Math Facts', 'Adventure Quest World Mobile Quiz', 'Aqw&3d Design Notes Manager', 'AQ Aspergers Test', 'Guess the Class 🔥 AQW', 'AQ Ria Retail', 'Accounting Quiz (AQ) Malaysia', 'AQ Guards', \"Wowkwis aq Ka'qaquj\", 'AQ Coach', 'AQ Dentals', '中国語 AQリスニング', 'ClanHQ', 'QuickShortcutMaker', 'Iron Blade', 'QR Droid', 'QR BARCODE SCANNER', 'Dungeon Boss – Strategy RPG', 'Questland: Turn Based RPG', 'Order & Chaos 2: 3D MMO RPG', 'Dungeon Quest', 'Dungeon Hunter 5 – Action RPG', 'Grow Stone Online : 2d pixel RPG, MMORPG game', 'Evil Apples: A Dirty Card Game', 'Megatramp - a Story of Success!', 'Knightfall™ AR', 'Ghost Snap AR Horror Survival', 'The Walking Dead: Our World', 'Snaappy – 3D fun AR core communication platform', 'Sketchfab', 'Ingress', 'My Tamagotchi Forever', 'Egg, Inc.', 'Flat Pack', 'Crayola Color Blaster', 'Guns of Boom - Online Shooter', 'Guns Royale - Multiplayer Blocky Battle Royale', 'Build.com - Shop Home Improvement & Expert Advice', 'Wayfair - Shop All Things Home', 'Stack It AR', 'ARuler - AR Ruler app, Measure tools', 'SNOW - AR Camera', 'Monster Park AR - Jurassic Dinosaurs in Real World', 'AR Remote Car', 'Solar System AR ( ARCore )', 'Super AR', 'Spacecraft AR', 'Assemblr - Create 3D Models (Sandbox AR)', 'MCRAFT AR - EDITOR', 'Jenga® AR', 'Nightenfell: Shared AR', 'Portal AR - Step Into Scotland', 'Arcraft - AR Sandbox', 'Augment - 3D Augmented Reality', 'Satellite AR', 'Figment AR', 'AR Tank Battle', 'AR Dragon Pet', 'Paint Space AR', 'Just a Line - Draw Anywhere, with AR', 'AR Toybox - Augmented Reality Demos', 'Mind Map AR, Augmented Reality ARCore Mind Mapping', '【Miku AR Camera】Mikuture', 'AR Toys: Playground Sandbox | Remote Car', 'Summer Camp Island AR', 'AR Sport Cars', 'AS - News and sports results.', 'MARCA - Diario Líder Deportivo', 'AS - Diario online deportivo. Fútbol, motor y más', 'SleepCloud Backup for Sleep as Android', 'AS Guía de las Ligas 2017-2018', 'Sleep as Android Unlock', 'Sleep as Android Gear Addon', 'Sleep as Android Garmin Addon', 'Sleep as Android: Sleep cycle tracker, smart alarm', 'Sonic the Hedgehog™ Classic', 'The Aether: Life as a God', 'CAPTCHA Pack for Sleep as Android', 'Pacific Navy Fighter C.E. (AS)', 'Lullaby Add-on for Sleep as Android', 'Sleep as Microsoft Band Add-On', 'Ear Agent: Super Hearing', 'Ninja Turtles: Legends', 'Timely Alarm Clock', 'PDF Viewer & Book Reader', 'My OldBoy! Free - GBC Emulator', 'My Boy! Free - GBA Emulator', 'Samsung Health', 'WiFi Baby Monitor - NannyCam', 'Maleficent Free Fall', 'Star Wars™: Force Arena', 'Alarm Clock Plus★', 'Image 2 Wallpaper', 'PS4 Second Screen', 'Alarm Clock: Stopwatch & Timer', 'SAMURAI vs ZOMBIES DEFENSE', 'Seen', 'Ringdroid', 'Twilight: Blue light filter', 'AT&T THANKS®', 'Galaxy at War Online', 'Kingdoms at War: Hardcore PVP', \"Five Nights at Freddy's 4 Demo\", \"Five Nights at Freddy's 3 Demo\", 'Fandom: Five Nights at Freddys', 'Nights at Cube Pizzeria 3D – 2', 'World at War: WW2 Strategy MMO', 'Five Tries At Love Dating Sim', 'Rivals at War: 2084', 'Multiple Videos at Same Time', \"Five Nights at Freddy's 2\", 'Coloring Book at Five Nights', 'Rivals at War: Firefight', 'Five nights at Minecraft', \"Five Nights at Freddy's\", 'Nights at Cube Pizzeria 3D – 3', '7 Nights at Pixel Pizzeria - 2', 'Nights at Slender Pizzeria 3D', 'DIRECTV', \"One Night at Golden Freddy's\", 'DIRECTV for Tablets', 'Nights at Cube Pizzeria 3D – 4', 'Five Nights at Neighbor House', 'Asylum Night Shift - Five Nights Survival', \"Five Nights at Freddy's: SL\", 'Two Nights at jumpscare', 'Five Nights at Pizzeria', 'Block Battles: Heroes at War - Multiplayer PVP', \"Five Nights at Freddy's 4\", \"Five Nights at Flappy's\", '5 Nights at Cube Pizzeria City', \"Five Nights at Freddy's 3\", 'Undertale AU Amino', 'au', 'Audiobooks from Audible', 'Au Mobile: Audition Chính Hiệu', 'AU Mobile Indonesia', 'Au Bon Pain', 'Au Pair Legend', 'Super Dancer', 'AU Results - AU COE Corner', 'view.com.au - Buy, Rent or Research Real Estate', 'Au Weather Free', 'BringGo AU & NZ', 'AU Spark', 'Rugby AU', 'Learners Test Free: AU Driver Knowledge Test (DKT)', 'Au-allstar for KR', 'STUCOR - AU', 'loans.com.au Smart Money', 'AU Students Zone (Result 2016)', 'Top #5 Bσσkie in AU', 'AU Results 2017 Auzone', 'Au Pair', 'AU Call Blocker - Block Unwanted Calls Texts 2018', 'realcommercial.com.au', 'Powershop AU', 'Australia Newspapers - AU News Apps', 'news.com.au', 'Media Sosial TNI AU', 'Dance On Mobile', 'Super Dancer VN', 'Alerte au gogol', 'Neuvaine au Saint-Esprit', 'Neuvaines et prières au Coeur Sacré de Jésus', 'SMS Au revoir', 'allhomes.com.au', 'Jobs in Canada - Emplois au Canada', 'Predator Calls for Hunting AU', 'Romance et Mystères au Lycée', 'Au Rubis les bijoutiers', 'Love Dance', 'mon guide au bank populaire -infos et instructions', 'Avatar Musik', \"Job'Of - Emploi au Cameroun\", 'Mali 7 - Actualités au Mali', 'Gâteau au yaourt', 'AVG AntiVirus 2018 for Android Security', 'AV Tools', 'Total AV', '日本AV历史', 'AV Buddy Free', 'AV HD Video Player', 'AV Tools Pro', 'Avakin Life - 3D virtual world', 'AV-IPTV', 'HD Video Player (wmv,avi,mp4,flv,av,mpg,mkv)2017', 'Baby Monitor AV', 'HD Video Player - Video & MP3 Player | AV Player |', 'Remote for Onkyo AV Receivers & Smart TV/Blu-Ray', 'LG AV REMOTE', 'App Seguridad AV Villas', 'Gogo Vision (Biz Av)', 'Ai-Ball AV Recorder', 'AV Phone', 'Norton Security and Antivirus', 'AV Pro Voice Changer', 'Remote For Pioneer AV Receivers and Blu-Ray', 'AV Phonetics', 'AV MAX', 'Kaspersky Mobile Antivirus: AppLock & Web Security', 'Mobile Security: Antivirus, Web Scan & App Lock', 'MyAV Remote for Denon & Marantz AV Receivers', 'EML UPnP-AV Control Point', \"Kinot & Eichah for Tisha B'Av\", 'Samsung TV AV Guide 2016', 'Professional AV Solution & Products information', 'AV High School District', 'Bitdefender Antivirus Free', \"Kinot Tisha'a Be'av - Ashkenaz\", \"AV Anthony's\", 'Avast Cleanup & Boost, Phone Cleaner, Optimizer', 'AW - free video calls and chat', 'Aw Restaurant', 'Nougat Android 7 Launcher : AW', 'AW Screen Recorder No Root', 'A&W Restaurants', 'Add Watermark Free', 'AW Tozer Devotionals - Daily', 'AW Toolbox', 'Analog Clock AW Plus-7', 'Analog Clock AW-7', 'MediBeat for AW - Android (1)', 'Armored Warfare: Assault', 'Watch AW-7', 'AW TeamUp', 'Auction Wars : Storage King', 'AW Training', 'Digital Clock AW-7', 'Analog and Digital Clock AW-7', 'AW Connect', 'Analog Clock AW-7 PRO', 'AW Reader: news & apps [Dutch]', 'AW', 'AW CAMERA', 'AW Browser with Chrome Custom Tabs', 'Analog and Digital Clock AW-7PRO', 'AW Radio', 'Roman Clock AW-7', 'Square Analog Clock AW-7', 'iSniper 3D Arctic Warfare', 'AirWatch Agent', 'Handbreit by a.w.niemeyer', 'Tozer Devotional -Series 1', 'Modern Action Commando 3D', 'HCP Anywhere', 'Call of Duty®: Heroes', 'Ultimate Watch 2 watch face', 'Amber Weather', 'Advanced Warfare Guns', 'AirWatch Inbox', 'News.aw', 'Pujie Black Watch Face for Android Wear OS', 'Bits Watch Face', 'The Pursuit of God', 'Food-Aw - Order Food Online in Aruba', 'F05WatchFace for Android Wear', 'ByssWeather for Wear OS', 'AW - Le News di AndroidWorld', 'Anime Expo 2018', 'Adventure Xpress', 'AXE.IO - Brutal Survival Battleground', 'Dynamics AX', 'AX Player -Nougat Video Player', 'Armani Exchange Connected', 'Axe Champ', 'AX Battery Saver', 'Axe Champ Hit', 'Axe Champion', 'Vikings Stickman Axe Fighting', 'AX Video Player', 'Katalogen.ax', 'Axe', 'Axetatic - Axe Throwing Game', 'Axe Champs! Wars', 'Tips Microsoft Dynamics Ax', 'Axe Knight', 'AX Timesheets App for Dynamics', 'Axxess AX-DSP', 'AX Window', 'Axxess Updater', 'The Vikings', 'Axe Spinner', 'INTERACTIVE CALCULUS PRO', 'Knife&Axe Throwing', 'Stickman and Axe', 'Axe Throw: Flip Champ Axes Champion Throwing Games', 'Q7 SmartWatch', 'Workflow Approvals App AX 2012', 'Tips & Tricks Dynamics AX 365', 'Axe Man', 'AX Watch for WatchMaker', 'Throw Knife', 'Dead Zombie Evil Killer:Axe', 'INTERACTIVE CALCULUS FOR MATHS AND PHYSICS', 'AX-PIC Pedidos', 'AX!OM', 'Zlax.io Zombs Luv Ax', 'AX Selfie', 'Ax 3 Domaines', 'Clash of Axe: Flippy Lumberjack Action X', 'Flippy Axe : Flip The Knife & Axe Simulator', 'Axe Clicker', 'Cyborg AX-001', 'Axe Wallpaper', 'Woodman Deluxe', 'Ay', 'A-Y Collection', 'AY Sing', 'Ay Up', 'AY Recorder - Screen Recorder, Live, Video Editor', '¡Ay Caramba!', 'Ay Sabz Gunbad Waly', 'Ay Yıldız - Xperia Live Theme', '25 Mins Ako ay may lobo Etc Pinoy Kid Song Offline', 'camera zoom moon', 'Ako ay may lobo Pinoy Kid Song Offline', 'Ay Yıldız Analog Saat', 'Ay Telekom Oim', 'Holy Quran Mehmet Emin Ay', 'Ay Yıldız Duvar Kağıtları', 'Ay Hasnain k Nana Milad Naat', 'Mehmet Emin Ay İlahileri', '¡Ay Metro!', 'AY Oakmont', 'YAKALA AY', 'Lunar Calendar', 'Pinoy Kid Song Ako ay may Lobo', 'Lunar Calendar Lite', 'Ay Mohabbat Teri Khatir Novel', 'AY Recruitment', 'Quran Khmer Offline AY', 'Ay Yıldız Keyboard', 'AY EMLAK', 'Ay Vamos - PJ. Balvin - Piano', 'Ay Peruk', 'Sun & Moon AR Locator', 'Display Phone Screen On TV', 'San Andreas Crime Stories', 'Masha and The Bear', 'Miami crime simulator', 'Strange Hero: Future Battle', 'Gangster Town: Vice District', 'iMediaShare – Photos & Music', 'Earth & Moon in HD Gyro 3D Parallax Live Wallpaper', 'Mad Day - Truck Distance Game', 'AZ Screen Recorder - No Root', 'AZ Browser. Private & Download', 'AZ Lottery Players Club', 'AZ Plugin 2 (newest)', 'Kids A-Z', 'AZ Camera - Manual Pro Cam', 'A-Z App Store', 'AZ Screen Recorder pro', 'Permit Test AZ Arizona MVD DOT', 'AZ PLAYER HD', 'Long Realty AZ Home Search', 'NB|AZ Mobile Banking', 'Movie Downloader Torrent : Az Torrent', 'A-Z Screen Recorder -', 'AZ Immune Related AEManagement', 'Alphabet A-Z', 'AZ Rockets', 'NB|AZ Business Mobile Banking', 'Az Content', 'Catalyst AZ', 'Casino AZ/Talking Stick Resort', 'Graffiti Letters (A-Z)', 'GPS.AZ', 'First Credit Union (AZ) Mobile', 'Arizona Mobile', 'AZ Mobile Gizmo', 'Az Video Status', 'Arizona Statutes, ARS (AZ Law)', 'Explore Sedona & Northern AZ', 'Arizona DMV Permit Test - AZ', 'Oxford A-Z of English Usage', 'Cures A-Z', 'AZ Practice Test & Questions', 'Arizona Trail', 'Ultrasound A-Z', 'A-Z Punjabi Songs & Music Videos 2018', 'Barista Coffee Dictionary A-Z', 'Phoenix and Arizona Cameras', 'AZ REMOTE CONTROL', 'Greater London A-Z 2016', 'Ba Financial Calculator plus', 'Financial Calculator BA Chien.', 'BA4You', 'BA Pro Financial Calculator', 'BA Calculator', 'ba', 'Ra Ga Ba', 'Experience BA', 'Ba Cristi', 'Ba ba black sheep offline Video', 'BA SALES', 'Goody.ba', 'BA Status', 'Alif Ba Ta Bullseye', 'BA Accesible', 'Learn alif ba ta', 'Learn Quran with Elif Ba', 'Arabic Alif Ba Ta For Kids', 'Arabic Alphabet Alif Ba Ta Wooden Blocks', \"Let's Learn Alif Ba Ta\", 'Sufara.ba', 'Elif Ba - Learn The Holy Quran', 'Instant Ba-dum-tss', 'Ba Zi Fortune', 'BA VPN - Free Unlimited VPN', 'Ba dum tss - Rimshot widget', 'Alif Ba Ta Song - Arabic Kids', 'Fitness Dance for Zum.ba Workout Exercise', 'Cafe.ba', '058.ba', 'Loreal - BA Makeup', 'PROFESSOR SEE-BA LINGUAGENS E SUAS TECNOLOGIAS', 'Poteau BA', 'Elif Ba Oyunu', 'Ain Arabic Kids Alif Ba ta', 'Bedouin Rivals', 'Klix.ba', 'PBA® Bowling Challenge', 'Avios for Android', 'Banana Kong', 'BA 3 Banjarmasin', 'Elifba Quran Learning Game', 'Space Shooter : Galaxy Attack', 'Hunt Buddy BC', 'Survival Mobile:10,000 BC', 'iHunter BC', 'iFish BC', 'BC Connect', 'Ice Crush 10.000 B.C.', 'BC Navigator', 'BC Lotto Check', 'BC Liquor Stores', 'BC MVA Fines', 'British Columbia Transit Info', 'BC Hospital Wait Times', 'Town of Princeton, BC', 'Explore British Columbia - BC Travel Guide', 'Bridge Constructor Stunts FREE', \"BC's Pizza\", 'Baby Connect (activity log)', 'BC Wildfire', 'BC Slots - The Lost Reels FREE', 'BC Mobile Intro - Americas', 'Car Driving Theory Test BC', 'Truck Driving Test Class 3 BC', 'BC Highways - Road Conditions', 'BC Camera', 'BC iptv player', 'Business Calendar Pro', 'Victoria, BC | Tour City', 'BC Wildflowers', 'Bc Vod', 'BC Hockey', 'Outdoor Movies BC', 'British Columbia Tourist Places (Guide)', 'British Columbia License', 'BC browser', 'PPCNP-BC Pocket Prep', 'AP Calculus BC Practice Test', 'BackCountry Navigator TOPO GPS PRO', 'BC Pizza', 'Railroad Radio Vancouver BC', 'AP Calculus BC: Practice Tests and Flashcards', 'Aura Hair Group BC', 'Bridge Constructor Playground FREE', 'BDCast - Bangla Live TV,Radio', \"bd's Mongolian Grill\", 'BD Briight: Your Diabetes Personal Assistant', 'Jagobd - Bangla TV(Official)', 'Business Dictionary', 'BD Data Plan (3G & 4G)', 'বাংলা টিভি প্রো BD Bangla TV', 'BD tools', 'BD Provider App', 'Izneo, Read Manga, Comics & BD', 'BD Radio TV Free List', 'BD Simplist Through Their Eyes', 'BD Online News', 'BD Bank Interest', 'BD Earn Pro', 'Comics Reader', 'Upohar BD', 'Electricity Bill Calculator BD', 'BD Fishpedia', 'BD Attendance', 'BD All Sim Offer', 'BD TYCOON', 'BD Sports Box & TV', 'Tour BD (Bahir Dar Map)', 'BD Field Force', 'BD CRICKET LIVE', 'BD All Results', 'BD Online Passport Application', 'BD Internet Packages (Updated)', 'Live Radio BD', 'iCard BD Plus', 'BD Dialer', 'Youboox - Livres, BD et magazines', 'BANGLA TV 3G/4G', 'Earn Money BD', \"BD Hospital's\", 'Rabbithole', 'Educationboard Results BD', 'BD Online Shop', 'Remote for Samsung TV & BluRay Players (Read Desc)', 'Vehicle Case Checker BD', 'Remote for Sony TV & Sony Blu-Ray Players MyAV', 'Remote for Panasonic TV+BD+AVR', 'Exam Result BD', 'BD Live Call', 'Helping BD', 'Best Browser BD social networking', 'Traffic signs BD', 'BD Internet Package Activator', 'be Produbanco', 'Millionaire : Who want to be?', 'Photo Editor by BeFunky', 'Be My Eyes - Helping the blind', 'Be My Princess: PARTY', 'Movement BE', 'Be Stronger', 'Be My Love Animated Keyboard', 'Be My Princess 2', 'Millionaire Quiz Free: Be Rich', 'Be the Manager 2018 - Football Strategy', 'Be like Me - Hay Nhu Toi', 'Be Fabulous PHOTO BOOTH', 'RadarNow!', 'Be My Princess', 'Fat No More - Be the Biggest Loser in the Gym!', 'Be Like Bill - Maker', 'Top Eleven 2018 - Be a Soccer Manager', 'Free GPS Navigation', 'Be the Manager 2016 (football)', 'Hair Salon - Fun Games', 'Adobe Photoshop Fix', 'Make your Be Like Bill', 'Be like Bill Generator', 'Be you GO Launcher Theme', 'Star Girl - Fashion, Makeup & Dress Up', 'Be Like Bro - Compilation', 'YAY - TBH', 'The Sims™ Mobile', 'Find My Friends', 'Beauty Idol: Fashion Queen', 'Unseen - No Last Seen', 'OK K.O.! Lakewood Plaza Turbo', 'Hard Time (Prison Sim)', 'She Will Be Loved Lyrics', 'Battlefield™ Companion', 'Wolf of the BF:Commando MOBILE', 'BF at Sea Refueled', 'BF Movies Fun', 'BF Browser by Betfilter - Stop Gambling Today!', 'My BF App', 'Funny videos for whatsapp', 'BF games', 'BF 3d Wallpapers', 'Hot Bhojpuri Video songs', 'Bullet Force', 'GF - BF Chat Stories - Hindi English Convesation', 'BF Scale Health Fitness Tool', 'BF-Calc', 'BF 4 Guns', 'My Virtual Boyfriend', 'Sexy Hot Detector Prank', 'BF Combat: Genesis', 'Women\"s Health Tips(Breast,Face,Body,weight lose)', 'Combat BF: Black Ops 3', 'BF Beautiful Nature', 'BF 3d Images', 'Jigsaw Puzzles Bus Scania BF', 'BF 3d View Wallpapers', 'Hot Bhojpuri Video Song 2018 - Free Movies', 'Body Scanner xray Real Camera Prank Entertaintment', 'BF Frontline City', 'Bf Light', 'Droid PRoCon BF3', 'BF Abstract 3d Pictures', 'CE BF', 'Freedom Christian BF', 'Random Love (BF)', 'BeFunky Photo Editor Pro', 'Virtual Boyfriend Chat', 'BF Family user', 'Talking Boyfriend', 'Faketalk - Chatbot', 'XXX DISTILLERY', 'Cute Questions BF', 'BG Score', 'BG Advisor™', 'BG Products', 'BG LINKED (BGLINKED)', 'BG Monitor Diabetes', 'BG Monitor Diabetes Pro', 'HTC Sense Input-BG', 'Photo BG Changer', 'BG TV App', 'BG BRIDAL GALLERY', 'HTC Sense Input - BG', 'BG Editor', 'BG Sports News', 'Board Game Stats: Play tracking for tabletop games', 'Bg TV Online', 'PhotoLayers〜Superimpose,Eraser', 'Zdravei.BG', 'BG+Phone Backup', 'BGKontakti London BG Kontakti', 'ReactNative BG Geolocation', 'BG TV Stations', 'BG video - floating video - background video', 'BG TV Program', 'BG Cable TV', 'BG Middle East', 'Blender BG - Photo Blend With Background', 'BG MUSIC PLAYER - MUSIC PLAYER', 'Sommelier.BG', 'BG Future School', 'Cordova BG Geolocation', 'Simple Photo BG Changer', 'BGKontakti Bayern BG Kontakti', 'BGKontakti Vienna BG Kontakti', 'CARS.bg', 'bgtime.tv', 'BG Torneos', 'YourTube Video Views BG', 'BG Television', 'Cъновник BG', 'Auto Background Changer', 'Block Gun 3D: Call of Destiny', 'BG Remover & Eraser Pro', 'BG Metro - Red voznje', 'BG Cricket', 'BG Guide', 'Bg Radios - Bulgarian radio stations online', 'Micro.bg Cloud POS System', 'BG-FLEET', 'trip.bg', 'Dete.bg', 'BLOOD & GLORY: IMMORTALS', 'Change photo background', 'Es-Bg Offline Voice Translator', \"Baldur's Gate: Enhanced Edition\", 'Shadow Fight 2 Special Edition', 'ePazar.bg', 'Revita.bg', 'Background Eraser', 'ePay.bg', 'Top Novini BG', 'Block Gun 3D: Ghost Ops', 'Music for Youtube - Tube Music BG, Red+', 'Bg+ Call Blocker', 'BG Blurry HD Wallpapers', 'Background Changer & Eraser', 'Stolica.bg', 'Cut Out : Background Eraser and background changer', 'Photo Background Changer 2018 - Blur Background', 'BGCN TV', 'ScorePal', 'Backgammon NJ for Android', 'BG Burger', 'JOBS.bg', 'CSCS BG (в български)', 'LEGO ® Batman: Beyond Gotham', 'Blood Glucose Tracker', \"Baldur's Gate II\", 'Rento - Dice Board Game Online', 'Learn Bulgarian Free', 'N+ News Bulgaria', 'Remix Second Hand', 'Ultimate Background Eraser', 'OnTrack Diabetes', 'ALL-IN-ONE PACKAGE TRACKING', 'Survival Run with Bear Grylls', 'VIP Backgammon Free : Play Backgammon Online', 'Grabo.bg', 'BusyBox Pro', 'GEM™', 'Diabetes Connect', 'B&H Photo Video Pro Audio', 'BH by Kinomap', 'BH Cosmetics', 'BH Bikes Premium', 'B&H Kids AR', 'BH Bikes GPS Locator', 'BH Patrole', 'CINEMA.BH', 'DSLR Photography Training apps', 'Radio Belo Horizonte', 'BH Online', 'Belo Horizonte Map offline', 'Bh Public School', 'BH Mission Playbook', 'BH INVEST', 'Comunidad BH', 'VIVA BH', 'Discípulos em BH', 'Barbers.BH', 'BH - Fitness & Nutrition', 'Lexus Tech BH Service Pro', 'Photo Editor - BPhoto', 'BH Challenge - Museum of the Jewish People', \"B'H BURGER HEIM\", 'B y H Niños ES', 'ZUL - Rotativo Digital BH', 'Coomotaxi BH', 'BH Mail', 'FitConsole', 'Run on Earth', 'BH Rocking', 'Battleheart Legacy', 'Treadmill Workouts Free (P)', 'ZiraatBank BH', 'Digital Tourist BH Itinerary', 'BH Táxi', 'BH Connect', 'Out of Bounds BH Demo', 'EduNAV.BH', 'BH Açaí', 'BH Recepti', 'Bi en Línea', 'Gayvox - Gay Lesbian Bi Dating', 'Microsoft Power BI–Business data analytics', 'BI Mobile Banking', 'BI News', 'BI SmartLINK', 'BI-LO', 'Bitmoji – Your Personal Emoji', 'Sisense Mobile BI', 'Starg - Gay, Same Sex, Bi', 'Propel BI APP', 'BI Office', 'BI-LO Rx', 'BI APP', 'Oracle BI Mobile', 'Bi-Tank Ads Free', 'bi-Cube Mobile Token', 'Business Intelligence & Data', 'BI Mobile', 'Grindr - Gay chat', 'Zoho Reports - Mobile BI', 'Power BI Ultimate Orientation', 'Pool Billiards Classic - bi a', 'Lesbian Chat & Dating - SPICY', 'Bi-Tank', 'happn – Local dating app', 'Dictionary.com: Find Definitions for English Words', 'MinT BI', 'BI Barcode Scanner', 'Learn English Vocabulary - 6,000 Words', 'Zalo – Video Call', 'Bible KJV', 'All Language Translator', 'Bike Rivals', 'Bingo Party - Free Bingo Games', 'Little Big City 2', \"BJ's Wholesale Club\", 'BJ’s Mobile App', \"BJ's Express Scan\", \"BJ's Bingo & Gaming Casino\", 'BJ-UFO', 'BJ Bridge Pro 2018', 'BJ Bridge Free (2018)', 'BJ & Jamie', 'The Daily BJ', 'BJ-FPV', 'BJ Bridge Acol Beginner 2018', 'BJ Memo Widget', 'BJ Grand Salon Mobile App', 'BJ Bridge Standard American 2018', 'BJ Strategy Tester', 'Eating Show - Food BJ', 'Virtual DJ Sound Mixer', 'Cards Casino:Video Poker & BJ', 'DJ Music Pad', 'BJ-DRONE', 'Real Casino:Slot,Keno,BJ,Poker', 'AfreecaTV', 'BJ - Confidential', 'Basic Strategy Training BJ 21', 'HON. B.J. ACS COLLEGE ALE', 'One Launcher', 'BJ Toys', 'Alumni BJ', '뽕티비 - 개인방송, 인터넷방송, BJ방송', 'BJ card game blackjack', 'BMH-BJ Congregation', \"BJ's Community SoundBoard\", 'Real DJ Simulator', 'BJ TIKET', 'BLACKJACK!', 'Blackjack Verite Drills', 'BJ Foods', 'Blackjack', '3D DJ – DJ Mixer 2018', 'BJ Adams', 'Phonics Puzzles', 'Spider grinder in screen funny', 'BJJ Roadmap by Stephan Kesting', 'KISW 99.9 FM SEATTLE', 'BlackJack -21 Casino Card Game', 'Metal Detector Pro 2015', 'BlackJack 21 Pro', '24 megapixel hd camera', 'Ultimate BlackJack 3D FREE', 'BURGER KING® App', 'BURGER KING® MOBILE APP', 'BK Chat', 'BURGER KING® Puerto Rico', 'Free Coupons for Burger King', 'BK Manager', 'Power Widget', 'BK Murli Offline April 2017', 'Read it easy for BK', 'BK Video Status', 'bk Group Mobile', 'SLANGY-Perfect BK World Theme', 'BK Formula Calculator 2', 'Service Disabler', 'BK Photography', 'Keyboard Theme Dusk BK Purple', 'Coupons for Burger King', 'BK Formula Calculator', 'VK', 'Korean English Translator', 'Dr Bk Sachin bhai', 'Audio Murli Glossary For BK', 'SKIN BK', 'BK Traffic Control cum Chart', 'Hungry Girl Diet Bk. Companion', 'Daily Murli Saar Widget', 'BK Suraj bhai', 'BK Shivani Videos', 'BK News Channel', 'BK Dinos', 'Make a burger king', 'King Burger Dash', 'Official Madhuban Murli', \"Baba Yaad Hai?(BK's)\", 'Bk Bee Sales Manager', 'Burger King Foot Lettuce', 'BK Arogyam Task Track', 'BK murli today (Mobile Murli) - Gyan', 'Capital Bk Mobile Business Dep', 'BK Travel Solutions', 'BK Murli Dictionary (H to E)', 'Bk Usha behn', 'BkEmu - BK-0010/11M emulator', 'BK Gold App', 'Of the wall Arapaho bk', 'Burger King Italia', 'Red Embrace (BL/Yaoi Game)', 'Blood Domination - BL Game', 'Yaoi Ooku: Distorted Love', 'Yaoi Novels - Shounen ai Book&fiction', 'Cerulean Heart', 'BL 女性向け恋愛ゲーム◆俺プリクロス', 'WebComics', 'Lezhin Comics - Daily Releases', 'Heirs & Graces', 'BL Driver', 'Gaydorado', 'Chess of Blades (BL/Yaoi Game) (No VA)', 'TappyToon Comics & Webtoons', 'SecondSecret ‐「恋を読む」BLノベルゲーム‐', 'Lust in Terror Manor - The Truth Unveiled | Otome', 'BL 女性向け恋愛ゲーム◆ごくメン', 'あなカレ【BL】無料ゲーム', 'K-Rain BL', '감성학원 BL 첫사랑', 'Chess of Blades (Demo)', 'BL Flowers Digital', 'BL 1-Click Camera - Free', 'Manga Books', 'BL 1-Click Camera', 'OTOME of Ikemen cafe', 'BL info', 'BL File Explorer', 'BL IP-Camera', 'BL Carrier', 'Skill Tree - BL Pre Sequel', 'BL Holo Theme', 'BL Portfolio', 'Skywatch BL', 'B-L Animal Hospital', 'BL Banking DES', 'BL ONLINE PERSONAL TRAINING', 'BL Community Icon Pack', 'BL Mobile Banking', 'MEGA MAN MOBILE', 'BL Taxi', 'BL!TZ - Endless', 'AC-BL', 'BL-ED: From BLUE to RED', 'B L Enterprises', 'BL PowerPoint Remote', 'BL Kennedy Theme', 'Teen Patti by BL Games', 'bm offers', 'B.M.Snowboard Free', 'BM Wallet', 'BM Online OEC Verification', 'Business Mitra (BM)', 'Bm', 'Basket Manager 2018 Pro', 'bm Wallet', 'BatControl Pro', 'Myjob@BM', 'DMR BrandMeister Tool', 'Borneo Bible, BM Bible', 'Basket Manager 2018 Free', 'MOD Black for BM', 'Basket Manager 2017 Free', 'BM Box', 'BM SPM Practice', 'BM FlexCheck', 'TuenMun BM', 'bm-Events', 'Poop Tracker - Toilet Log', 'B&M Stores', 'BM CRM', 'Mobilight-BM', 'iFORA BM', 'Basket Manager 2016 Free', 'BM Pharmacy', 'postit.bm', 'orderin.bm', 'BM Assets', 'BM Interventi', 'BM Tahmin: Ücretsiz İddaa Tahminleri', 'RIV-BM FPV', 'BM Physiotherapy Clinic', 'BBMoji - Your personalized BBM Stickers', 'Dormi - Baby Monitor', 'På sporet ABC (BM)', 'BAMMS for BM 1Park', 'Bet Master Pro Soccer Predictions', 'MbH BM', 'Basket Manager 2016 Pro', 'Anime Mod for BM', 'BAMMS for BM SQ', 'BM speed test', 'Word Hunt', 'Basket Manager 2017 Pro', 'BN Más Cerca de Usted', 'Radio BN', 'My College Bookstore', 'NOOK Audiobooks', 'BN PERKS™', 'BNCR Token Celular', 'BN Mi Banco', 'BN Pro BlueICS-b HD Text', 'BN Whitening Shoppe Ph', 'BN Pro ArialXL Legacy Text', 'Sam.BN Pro', 'BN Pro PercentXL-b Neon HD Txt', 'BN Bank Mobilbank', 'BN Pro Play-b HD Text', '[BN] Blitz', 'BN Pro LcdD Legacy Text', 'BN Pro RobotoXL-b HD Text', 'Browsery by Barnes & Noble', 'BN Pro ArialXL-b HD Text', '2017 BN SM Sales Conference', 'BN Inscript Improved Input keyboard', 'BN Pro Percent White HD Text', 'RTVBN', 'BN Pro White HD Text', 'BN Pro Roboto-b Neon HD Text', 'BN Pro LcdD HD Text', 'BN Pro LcdD-b HD Text', 'BN Pro Solid Battery-White', 'BN Pro Battery Level-White', 'BN MALLORCA Radio', 'Calendars (En, Bn, Ar)', 'BN Habitat - Property Experts - Buy | Sell | Rent', 'BN Pro Play HD Text', 'Yuzu eReader', 'BN Pro RobotoXL HD Text', 'New York Mysteries (Full)', 'BN Pro ArialXL-b Neon HD Text', 'BN Pro Black Text', 'BN Pro BlueICS HD Text', 'The Legacy (Full)', 'BN Pro Arial Legacy Text', 'BN Pro Black Text on White', 'BN Pro White Text', 'Sam.BN', 'Bangla Calendar 1425: (EN-BN-AR) Holiday', 'BN DB1 App', 'BN Inscript Improved Keyboard', 'Skip-Bo™', 'Skip-Bo™ Free', 'Beck & Bo: Toddler First Words', 'Bubble Bo-Bo', 'Boom Beach', 'Red Ball 4', \"Bo's Bedtime Story\", 'Skater Boy', 'Sic Bo', 'FX LITE BO', 'Casual Sic Bo (骰寶)', 'Sic Bo Online! Free Casino', 'Dr.Dice - Sic bo analyzer', \"Bo's Matching Game\", 'Hambo', 'Sic Bo Rave', 'Thai Sic Bo', \"Bo's Dinnertime Story\", 'BOO! - Next Generation Messenger', 'Socle Commun BO du 23-04-2015', 'Wishbone - Compare Anything', 'Bee.Bo', \"Bo's School Day\", 'Bounce Classic', 'Habbo - Virtual World', 'Bomber Friends', 'Sic Bo (Tai Xiu) - Multiplayer Casino', 'Power Spheres by BoBoiBoy', 'Bo Aung Din', 'Township', 'Go-Go-Goat! Free Game', 'BPme - Mobile Fuel Payment & BP Driver Rewards app', 'My BP Lab', 'BP World Energy', 'BP and Sugar Test Prank', 'iFORA BP', 'MbH BP', 'Cardio Journal — Blood Pressure Log', 'Blood Pressure Info', 'Monitor My BP', 'MedM Blood Pressure', 'Diabetes, Blood Pressure, Health Tracker App', 'Blood Pressure(BP) Report Lite', 'bp e-store', 'Wireless BP', 'BP Tracker', 'BP Log lite', 'MI-BP', 'BP Service', 'BP-Tech', 'Blood Pressure Log - bpresso.com', 'Blood Pressure Diary', 'High Blood Pressure', 'Simple Blood Pressure log', 'BP Tracker-Symptoms & Solution', 'Compas BP Store', 'Blood Pressure Tracker', 'Hypertension Hi blood pressure', 'BP Scanner Prank', 'Deep Breathe BP', 'bpresso PRO', 'BP Toolbox', 'bp Magazine for Bipolar', 'Blood Pressure - Heartcare', 'UM BP Track', 'BP Assist', 'BP Fitness Lead Scanner', 'Blood pressure', 'BQ Camera', 'BQ Services', 'BQ-መጽሐፍ ቅዱሳዊ ጥያቄዎች', 'Brilliant Quotes: Life, Love, Family & Motivation', 'BQ Scan', 'Add-On: bq (a)', 'BQ Partners', 'gardening ideas flower diy', 'Software Update', 'RoboPad', 'Add-On: bq (c)', 'BQ Llicència', 'Wherever BQ', 'Bono’s Pit Bar-B-Q', 'Add-On: bq (b)', 'bq magazine', 'Bill Miller Bar-B-Q Store Ops', 'BQ Scanner', 'Bar-B-Q Rib House', 'Gold Wallpapers', '[Substratum] M5 Theme', 'Zowi App', 'Bar-B-Q Recipes', 'System Update Free', 'Bar BQ Tonight Dublin', \"Woody's Bar-B-Q\", 'Launcher Oreo 8.1', 'Theme for Android 7.0', 'Free antivirus and VPN', \"Jimbo's Pit Bar B-Q\", 'RoboPad++', 'IKEA Store', 'Simple Gallery', 'Pick-a-Paint', \"Miller's Bar B-Q\", 'BAR-B-Q Recipes', 'Left vs Right: Brain Training', 'Bar BQ Night Middlesbrough', 'BQ Wings', 'Bible Quizzer - The App for Bible Quizzers', 'Texas Bar-B-Q Rewards', \"4-T's Bar-BQ & Catering\", 'Zetup, print in one click', 'Baskin-Robbins', 'Infinity Dungeon VIP', 'Carros Rebaixados BR', 'BR', 'Bleacher Report Live', 'QR Code Pro', 'BR Video Player', 'Br. Parking - Busy road Parking 3D 2018', 'Br video editing', 'B R Telco FCU Mobile Banking', 'BR Chat Bot', 'Br Browser', 'TV Guide BR Gold', 'Dr B R Ambedkar (Jai Bhim)', 'Tv Br News', 'Br Shafi', 'Dr. B.R.Ambedkar', 'cronometra-br', 'Táxi Nacional BR', 'Texas HoldEm Poker Deluxe (BR)', 'BR Classified', 'Top BR Chaya Songs', 'Companion for Fortnite & Fortnite Battle Royale', 'Mu Mobile BR', 'Cube BR LWP simple', 'Brick Breaker BR', 'Mu Elite BR', 'BR Series', 'Loteria BR', 'Vidroid.com.br', 'CJ - BR MEMES', 'CINE BR', 'Vlogger Go Viral - Tuber Game', 'Next Portuguese(BR) Langpack', 'BR Ambedkar Biography & Quotes', 'B R COACHINGS', 'B. R. Ambedkar Jayanti SMS', 'Black Commando | Special Ops | FPS Shooting', 'GearBest Online Shopping', 'iPlayIT for YouTube VR Player', 'True Skateboarding Ride Skateboard Game Freestyle', 'Bullshit! (Free)', 'BSPlayer FREE', 'Bullshite!', 'Block Strike', 'Loved by King Bs', 'BombSquad Remote', 'BSPlayer', 'BS CS IT & SE', 'BSPlayer ARMv7 VFP CPU support', 'Marked by King Bs', 'COMSATS BOOK STORE FOR BS(CS)', 'BS-Mobile', 'BS Meter (Ad Supported)', 'BS Calendar / Patro / पात्रो', 'Simulator Brawl Box for BS', 'BS Generator', 'BS Match Maker Premium', 'BS Films', 'BS Tractor', 'BS player remote', 'BibApp TU BS', 'King of B.S.', 'BS Chopper', 'BS Play', 'B@dL!bs Lite', 'BS Battery+', 'ATC Unico BS', 'Revista BS', 'BS MAPS', 'Beauty Rental Shop', 'BS Where Am I', 'Bsc Agri Notes', 'Love Signal: D-Mate', 'BSC IT', 'BS TRACK CLIENT', 'Kiosko BS', 'Sleeping Delivery', \"BS Detector - Diss 'n' Gauges\", 'CABLE SIZE CALCULATOR BS 7671', 'Corporate B.S. Generator', 'Banco Sabadell App. Your mobile bank', 'Strætó.is', 'VOLT DROP CALCULATOR BS 7671', 'BSc Ag Entrance Preparation', '17th Edition Cable Sizer', 'Black Survival', 'Black Social', 'BTNotification', 'Little Magnet BT', 'BT Notifier', 'Little Magnet BT Pro', 'Bt Notifier -Smartwatch notice', 'BT One Voice mobile access', 'BT One Mobile secure access', 'BT Communicator', 'BT One Voice anywhere', 'BT Find Address for Bluetooth', 'BT Camera', 'BT Messenger', 'BT One Phone Mobile App', 'BitTorrent®- Torrent Downloads', 'SW-100.tch by Callstel', 'BT App', 'BT MeetMe with Dolby Voice', 'ProGrade BT', 'BT Share It', 'Bluetooth Auto Connect', 'Wifi BT Scanner', 'Ultimate Control BT', 'BT Controller', 'BT Church', 'Mediatek SmartDevice', 'LG BT Reader Plus', 'BT Mobile', 'MagicLight BT', 'Bluetooth Control BT->uC FREE', 'B.T.', 'Autool BT-BOX', 'BT Remote (SPP) for Bluetooth', 'BT Satmeter', 'Battery Notifier Pro BT', 'BT Panorama', 'Battery Notifier BT Free', 'BT Dating -Find your match, help cupid, be social', 'BT (Usage Interne)', 'BT Position Sender - Bluetooth Position Sender', 'Aegis BT', 'BT Master', 'OSRAM BT Control', 'Vip视频免费看-BT磁力搜索', 'AudioBT: BT audio GPS/SMS/Text', 'Jabbla BT', 'BT Speed', 'USB BT Wi-Fi Color Terminal Modem', 'SenseView BT Zephyr Sensor', 'Bu the Baby Bunny - Cute pet care game', 'Boston University Alumni', 'BU Bus Tracker', 'kick the buddy', 'BU Bookstore', 'BU Study', 'BU Dental GoGoldman', 'Bu Hangi Uygulama ?', 'BU Questrom Launch', 'sustainability@BU', 'BU School of Public Health', 'BU Mobile', 'Barisal University App-BU Face', 'Pu - Cute giant panda bear, baby pet care game', \"BU Students' Rep. Council\", 'On a Bu Pour Vous OBPV', 'BU Calculator', 'BU Beauty Rooms', 'Bu Hangi Firma?', 'BU Syllabus', 'Bu Hangi Ünlü?', 'Bu Nedir ?', 'BU Bison Nation', 'Kim Bu Youtuber?', 'BU HANGİ ŞARKI ? - 2018', 'BU Library', 'SkyTest BU/GU Lite', 'BU Alsace', 'Bu Hangi Oyun ?', 'Catholic La Bu Zo Kam', 'Bu Hangi Youtuber ?', 'Nedir Bu ?', 'Bu Hangi Film ?', 'Khrifa Hla Bu (Solfa)', 'Bu Hangi Dizi ?', 'Kristian Hla Bu', 'SA HLA BU', 'Bubble Witch 2 Saga', 'Büfe BU', 'BV Mobile Apps', 'BV', 'Bacterial Vaginosis', 'Bacterial Vaginosis 🇺🇸', 'Bacterial Vaginosis Symptoms & Treatment', 'Bacteria Vaginosis', 'Hilverda De Boer B.V. App', 'BV Smart', 'BV Forest', 'Bacterial Vaginosis Symptoms', 'BV Sridhara Maharaj', 'BV Aventure', 'Bacterial vaginosis Treatment - Sexual disease', 'BV Link', 'Bacterial Vaginosis Treatment', 'BV Bombers', 'Schulman B.V.', 'BV MAAp', 'BV Taxi - Driver', 'BV Taxi Sudan', 'van Gennip Textiles BV', 'bacterial vaginosis', 'PIO bv App', 'Meu Cartão BV', 'BV Rando', 'Kovax Europe B.V.', 'StartPage Private Search', 'DHV accountancy BV', 'BV Frankfurt inside', 'BV Teknisk App', 'TomTom GPS Navigation Traffic', 'OLX Uganda Sell Buy Cellphones', 'Feel Performer', 'Smashy Road: Arena', 'My Budget Book', 'VictronConnect', 'BV Productions', 'Allsetra B.V.', 'PIO bv Transport App', 'Philips Hue', 'Evolution: Battle for Utopia', 'Home Remedies for Bacterial Infections', 'Best Western To Go', 'BW-Go', 'BW Smart', 'Watch Face BW Inter', 'BW-Go Free', 'BlitzWolf Shutter - BW Shutter', 'Black & White Camera - Lovely BW', 'BW-Joseki', 'BW-DGS plugin', 'BW App', 'Learn SAP BW', 'Next Launcher 3D Theme Stun-BW', 'Standard Chartered Mobile (BW)', 'BW Mobilbanking für Smartphone und Tablet', 'BW COMPANY FINDER', 'BW Taxi', 'BW-GnuGo', 'BW SmartLife', 'Bw Events', 'Learn SAP BW on HANA', 'Analog BW - Camera filter effect foto film retouch', 'BW Ultra', 'BW-IVMS', 'BW Wallpaper', 'Skull Widget BW', 'BW Map mobile', 'Bell and Wyson Camera BW Pix +', 'Best Western e-Concierge Hotel', 'BlackCam Pro - B&W Camera', 'SAP BW Tutorial', 'Kromium BW Theme for NEXT', 'IP address BW', 'Color Changer Pro [root]', 'Fantasy theme dark bw black building', 'Keyboard Theme Gate Flat BW', 'BW Switch', 'Tutorials for SAP BW Offline', 'BL Essentials BW Icon Pack', 'Hypocam', 'Hitman GO', 'BW Fuhlenbrock', 'BW eServices', 'B&W Photo Filter Editor', 'BW t&t', 'EBook For SAP BW ON HANA Learning Free', 'BX Memo', 'Bixby Button Remapper - bxActions Pro / Coffee', 'Bixby Button Remapper - bxActions', 'Bitcoin BX Thailand', 'Bx Thailand Alert (Bitcoin)', 'bX Hot Articles by Ex Libris', 'Bitcoin BX Thailand PRO', 'Bitcoin Bx (Thailand)', 'Bx-WiFi-GI', 'BX Mobile TMC for SAP B1', 'BX Thailand - Crypto Tracking & Analyse Bitcoin', 'BxPort - Bitcoin Bx (Thailand)', 'Bx Access 4d', 'bX Thailand Simple Market Price and Alert', 'QR & Barcode Scanner BX PRO', 'BX Diff - Crypto Coins Checker', 'bitcoin exchange bx thailand', 'CSHS BX', 'Bitcoin & Cryptocurrency - Bx', 'Benefit Extras Mobile App', 'Kick Axe Bx', 'Car Driving Simulator Citroen', 'LEDSHOWTW', 'C3-C4-PİCASSO-ELYSEE RACİNG', 'Water Surfer Floating BMX Bicycle Rider Racing', 'Driving Cars Simulator Citroen', 'RC Monster Truck - Offroad Driving Simulator', 'Tiny Call Confirm', 'Casa de Bolsa Bx+ Móvil', 'Super Jabber Jump', 'Commando Adventure Assassin', 'Limbo PC Emulator QEMU ARM x86', 'Lollipop Launcher Plus', 'Crypto Tracker by BitScreener', 'City Builder 2016: County Mall', 'Fists For Fighting (Fx3)', 'Train driving simulator', 'Roulette Advisor LITE', 'Mini Motor Racing WRT', 'BMX Boy Bike Stunt Rider Game', 'CoinMarketApp - CryptoCurrency Portfolio, News,ICO', 'Best Friends Dress Up & Makeup', 'World of Warriors: Duel', 'Trinomial Factoring Wizard', 'Driving Zone', 'Bitcoin Ticker Widget', 'Quadratic Equation Solver with Steps and Graphs', 'Car Race by Fun Games For Free', 'Adult Color By Number Book: Number Coloring Pages', 'Glitter Color By Number - Glitter Number Coloring', 'Sandbox - Color by Number Coloring Pages', 'Sandbox Art-Sandbox Color by Number Coloring Pages', 'One Today by Google', 'Art Pixel Coloring. Color by Number.', 'Color By Number - Sandbox Pixel Coloring Book', 'PixelDot - Color by Number Sandbox Pixel Art', 'Slot Machines by IGG', 'PixPanda - Color by Number Pixel Art Coloring Book', 'Sandbox Number Coloring Book Art - Color By Number', 'Adult Color by Number Book - Paint Mandala Pages', 'No.Color – Color by Number', 'PixBox Coloring - Color by number Sandbox', '3D Color by Number: Voxel, Unicorn, Pixel Art 3D', 'Pixelmania - Color by number & create pixel art', 'Valentines love color by number-Pixel art coloring', 'Rized ‼️ Color By Number & Pixel Coloring Book', 'Pixyfy: coloring by number coloring book', 'Draw Color by Number - Sandbox Pixel Art', 'Project Fi by Google', 'Tattoo Color By Number Draw Book Page Pixel Art', 'SegPlay Mobile Paint by Number', 'Paint By Number', 'Color by Disney', 'Bingo by IGG: Top Bingo+Slots!', 'Painting By Numbers', '3D Color by Number with Voxels', 'Butterfly Pixel Art - coloring by number', 'Best Hairstyles step by step', 'Halloween Sandbox Number Coloring- Color By Number', 'Fiesta by Tango - Find, Meet and Make New Friends', 'Poly Art: Paint by Sticker, Color by Number Puzzle', 'Pixel art pro-Sand box,paint by number,number draw', 'Color by Number: Pixel Art', 'FunnyPixels - Color by number Sandbox', 'Color By Numbers - Art Game for Kids and Adults', 'Voxel - 3D Color by Number & Pixel Coloring Book', 'No.Diamond – Colors by Number', 'BZ Reminder', 'B.Z. Live-Ticker', 'Weather BZ', 'BZ Reminder PRO', 'BZ Bingo', 'Evasion.bz', 'BZ Berner Zeitung E-Paper', 'BZ-Smart', 'BZ Zombie VR', 'BZ Conferencing', 'GITZ.bz', 'Berner Zeitung', 'BZ Fingers', 'Dragon B.Z Wallpapers', 'bz Basellandschaftliche News', 'BZ Langenthaler Tagblatt E-Paper', '24/7 BZ Reis', 'BZ Delivery', 'Badische Zeitung', 'Dragon BZ Wallpapers HD', 'bz Baselland E-Paper', 'BZ Dealer', 'BZ Vesper-App', 'BZ-Digital', 'Dragon BZ Super Wallpapers', 'BZ Berner Oberländer', 'bz Basel E-Paper', 'Südtirol2Go', 'TFO BZ Lessons', 'BZ Langenthaler Tagblatt', 'City Driving Jeep Mania: Parking Passion 2018', 'Sniper Gun Shot 3D: Impossible Missions', 'ePN Cashback AliExpress', 'Elite Commando Shooting War', 'Restaurantführer Südbaden', 'bz Basel News', 'Contractor City Construction - Heavy Logistics', 'Park Limousine: Realistic Limo Parking Simulator', 'Animal Hunting: Sniper Shooting', 'WISE- MOBILE PORTAL', 'Inwestor mobile', 'BZ Straußenführer', 'Putzmeister Experts', 'Filmi Gaane', 'Bubble', 'iBiznes24 mobile', 'CA Service Management', 'CA Mobile Authenticator', 'CA Latam Partners', 'CA Mobile OTP', 'CA Lottery Official App', 'CA Technologies', 'CA Case Management', 'CA UIM Mobile', 'CA Clarity Mobile Time Manager', 'CA Auth ID', 'Patchcord.ca Inc. App Launcher', 'CA Speakers Free', \"CA World '17\", 'CA DMV', 'Save.ca', 'California Cop Assist CA Cop', 'CA Laws 2018 (California Laws and Codes)', 'California Cameras - Traffic', 'CA Speakers', 'Register.ca Mobile', 'CB Radio Chat - for friends!', 'Truck Chat & CB for Truckers', 'CB Frequencies FREE!', 'CB On Mobile', 'CB Frequencies', 'Virtual Walkie Talkie', 'CB Outdoors', 'Viking CB Radios', 'Frequencies Free', 'CB-Mobile Banking', 'CBRadioTab', 'CB SMART LIFE', 'CB Bank Mobile Banking', 'CB Martial Arts', 'C.B. Shop', 'CB Underground', 'CB Background - Free HD Wallpaper Images', 'CB NFC Pendant', 'WRLP CB Repeater', 'CB Fit', 'Minwa HA ( C.B )', 'Channel 19', 'Citizens Bank - CB Mobile', 'CB Mobile Access', 'CB VIDEO VISION', 'CB Hair Png - New Hair Png For CB Editing', 'CB STARS', 'CB Mobile', 'C B Patel Health Club', 'CB Trader', 'CB TV', 'Football-CB GO Clock Theme', 'CB SmartCAR Monitor', 'CB News', 'CB Pay', 'CB Mobile GA', 'CB Register', 'Cádiz CB Gades', 'CB Land', 'Cb browser', 'CB Edits PNG & CB Backgrounds', 'CB Mobile Biz', 'Antenna Tool Premium', 'Antenna Tool', 'CB Heroes', 'Frequencies', 'Creative Destruction', 'CD Library', 'Sonic CD Classic', 'ARK: Survival Evolved', 'APagri CD', 'Design innovation CD Cassette', 'DIY Crafts Cds', 'CD Events', 'PRIMATURE.CD', \"CD Roma's\", 'CD Ready', 'INTERKINOIS.CD', 'CD Live - Club del Deportista', 'Bootable Methods(USB-CD-DVD)', 'Creative CD Letter Holder', 'CD CHOICE TUBE', 'My Movies Pro - Movie & TV Collection Library', 'CD View Lite', 'CD - Teach me ABC English L1', 'Best Design CD Ideas', 'CD Carpe Diem App', 'Yazdani Cd Center EllahAbad Official App', 'CD JUANITO', 'CD Music', 'DIY cd rom ideas', 'Easy DIY CD Craft Ideas', 'Disc Label Print', 'Kiosque CD', 'CD-Zing', 'Nero AirBurn', 'CD COMET', 'DIY Recycled CD Wall Art', 'CD View', 'US 115th CD', 'Билеты ПДД CD 2019 PRO', 'STADE.CD', 'OBJECTIFINFOS.CD', 'DIY CD Craft Ideas', 'РееI Smart Remote MP3 CD Player', 'CD Padel Mora', 'Diligan CD VR', 'CD Supply', 'Music Collector Inventory Organizer UPC Discogs', 'CE on the go', 'CE Map - Interactive Conan Exiles Map', 'CE Broker', 'CE Smart', 'PAC-MAN CE DX', 'CEHQ - CE Credits for Nurses', 'Theatre of the Absurd CE(Full)', 'CE SmartApp.com', 'OE TRACKER CE Attendance App', 'Professor Online SEDUC-CE', 'ABAI CE Scanner', 'C-E Federal Credit Union', 'TI-84 CE Graphing Calculator Manual TI 84', 'Ultra CE calculator', 'Shiver: Moonlit Grove CE', 'Beast of Lycan Isle CE', 'QUI EST CE ?', 'Volvo CE Insider', 'Grim Tales: The Wishes CE', 'AC CE BJT Actorial', 'MCQ CE IT', 'Placement Tips for BE (CE/IT)', 'NetApp CE', 'Depths of Betrayal CE (Full)', 'Merck CE', 'CE-STRONG', 'Magana Jari ce Littafi Na Uku : Part 3 of 3', 'CCleaner', \"Qu'est ce qui est jaune et qui attend ?\", 'CE-SETRAM l’Appli', 'CE KISIO', 'Terminal Emulator for Android', 'Ceasa CE', 'CE Genius Nurses Edition', 'CE HPJM 69', 'CE SODEXO PASS FRANCE', 'CE AH VLJ', 'Pregnancy Tracker & Countdown to Baby Due Date', 'ACCEPT CE MARKING', 'CE AR LOG', 'CE Airbus', 'Führerschein Klasse CE, LKW 2018', 'CE Intelligence', 'CrossFire: Legends', 'CF.lumen', 'CF-Bench Pro', 'CF SHOP!', 'CF Life', 'CF-Bench', 'CF Appreciation', 'Unity CF', 'Next Launcher 3D Bold-CF Theme', 'Overcomers CF - GA', 'Themes DAF CF 85 Trucks', 'CF Chat: Connecting Friends', 'CF Invest', 'Team CF', 'iOBD2-CF', 'CF PD', 'Themes DAF CF Trucks', 'CF Calculator', 'CF Climb', 'Squeezy CF', 'Wallpapers DAF CF Trucks', 'Wallpapers DAF CF 85 Trucks', 'CF', 'Wallpapers Truck DAF CF', 'CF cal', 'CF GeneE', 'Themes DAF CF 85', 'CF SPOT', 'CF Talenti', 'Villarreal CF Wallpapers 4 Fans', 'Thrive CF', 'Special Forces Group 2', 'Valencia CF Wallpapers 4 Fans', 'Cacique CF', 'CF Townsville', 'CF Church', 'CF Etowah', 'Cystic Fibrosis Symptoms, Doctors & Treatments', 'Málaga CF Wallpapers 4 Fans', 'Cluster CF', 'CF Themis', 'Imperium CF', 'Azulones Getafe CF Fans', 'CF Riga', 'Casa CF', 'CampGladiator', 'CG Creative Sets: 2D/3D Artist', 'Motocross Motorbike Simulator Offroad', 'CG Daily News', 'CG - Calendars Add-On', 'CG Fit Scale', 'All Info about Cg', 'cg guruji', 'CG Yojna & Jansampark', 'Offline Jízdní řády CG Transit', 'CG Prints', 'CG Job Alerts', 'CG - Conference Call Add-On', 'Somos CG', 'CG Samanya Gyan', 'CG Smart', 'CG Freelancer', 'CG Wallpapers', 'Best CG Backgrounds', 'CG Districts', 'Amazing CG Backgrounds', 'CG BILASPUR CARNIVAL', 'Chat Anónimo Gratis Español CG', 'CG Shikshak Mitan', 'CG 3D Model Viewer: view 3D models interactively', 'CG Wizard', 'CG FM', 'ASCP® CG Exam Flashcards 2018', 'Best CG views', 'Bhunaksha CG', 'My CG', 'Best CG Photography', 'BF CG View Wallpapers', 'CG Sanyukt Bharti Pariksha 2018', 'Betting Tips / Sports Tips by CG Tipster', 'CG Shikshak', 'CG Vidhansabha Chunav 2018', 'gps tracker cg', 'CG Backgrounds', 'CG - Chemistry free', 'CG Jobs', 'music (CG)', 'CG Patwari Exam', 'Naidunia: MP News & CG News', 'BF CG Abstract Pictures', 'Bhuiyan Land Records Chhattisgarh (CG)', 'CG JOKES - Copy & Share', 'Ultimate Public Campgrounds (Over 37,100 in US&CA)', '20 minutes (CH)', 'OurHome – chores, rewards, groceries and calendar', 'Weather Data CH', 'Dots puzzle', 'CH info', 'Dive-Store.ch', 'FAV KWGT', \"Flo's CH Boss Timer\", '20 Minuten (CH)', 'Reading Race 1b: sh, ch words', 'Calvary.ch App', \"autolina.ch has over 120'000 cars on offer.\", 'Speech Therapy: CH', 'Digi-TV.ch', 'retteMi.ch', 'Chrome Canary (Unstable)', 'ch-mm Dict', 'boattheory.ch Full 2018', 'waut.ch!', 'search.ch', 'homegate.ch', 'tutti.ch - Free Classifieds', 'autoricardo.ch – vehicles', 'Legit Check App by Ch Daniel', 'Threema', 'Battery HD Pro', 'DRAGON QUEST IV', 'swissinfo.ch', 'Automagic * Automation', 'FlashLight HD LED Pro', 'Students.ch', 'CH Kadels', 'Sermon on Proverbs CH Spurgeon', 'Pixxy KWGT', 'ricardo.ch', 'usgang.ch', 'Startupticker.ch News, Events', 'ci', 'Green Build - An unofficial Travis CI client', 'mySharpBranded CI Test', 'Valmet CI Tool', 'CI Remote for Go', 'myNaida CI', 'CI MOBI', 'Paris ci la Sortie du Métro', 'Supply Travis-CI POC', 'CI 174 Gray Icon Pack', 'CI Crew', \"Pharmacy CI - Pharmacies de garde Côte d'Ivoire\", 'CI Staff App', 'IQ Test', '1st Fed CI Mobile Banking', 'Thistletown CI', 'All-night drugstore CI & Price', 'CI Dictionary', 'RGN CI-Control', 'CI Time', 'CI View', 'Ci - Logistics Group', 'CI Attendance', 'Annonces.ci', 'C I Patel School', 'CI Screwed - Icon Pack', 'CI Stream', 'Majestic Cinema CI', 'Bonjour 2017 Abidjan CI ❤❤❤❤❤', 'Pharmacie de Garde CI et Prix', 'CI Capital - Dynamic', 'Chicken Invaders 3', 'CI SA', 'Mesure CI', 'Trovami se ci riesci', 'CircleCI Viewer', 'SimCity BuildIt', 'Nur təfsiri 1-ci cild', 'Test de Inteligencia CI', 'Calculate My IQ', 'South Park: Phone Destroyer™', 'CI CAFETERIAS UBER', 'Mizanul-Hikmət 2-ci cild', 'CI On The Go', 'CJ SO COOL', 'CJ Fitness', 'CJ: Strike Back', 'The Grand Wars: San Andreas', 'CJ Fallon eBook Reader', 'Grand Theft Auto: San Andreas', 'CJ Gospel Hour', \"CJ's Tire & Automotive\", 'CJ Camcorder', 'The Grand Way', \"CJ'S TIRE AND AUTO INC.\", 'CJ Browser - Fast & Private', 'CJ WOW SHOP', 'Gold Teeth Photo Editor', 'CJ VLC HD Remote (+ Stream)', 'CJ DVD Rentals', 'San Andreas City : Auto Theft Car gangster', 'Miami Crime Vice Town', 'CJ Poker Odds Calculator', 'Commission Manager', 'CJ Apps', 'The CJ Rubric', 'Pekalongan CJ', \"CJ's Coffee Cafe\", 'Gangster City Auto Theft', 'China Town Auto Theft 2', 'Codes for GTA San Andreas', \"CJ Wilson's ZoomZoomnation\", 'C J Academy', 'Grand Gangsters 3D', 'Sir C J New Primary School', 'Gang Wars of San Andreas', 'CJ the REALTOR', 'CJ Infinity', 'CJ IT ApS', 'CJ Auto école', 'Sin City Hero : Crime Simulator of Vegas', 'Courier Journal', 'FANDOM for: GTA', 'San Andreas Crime City Gangster 3D', 'Zombie Death Shooter', 'Project Grand Auto Town Sandbox Beta', 'Company Kitchen', 'Calvin Klein – US Store', 'CK FFXIV Companion', 'Can Knockdown', 'Calvin Klein Petite Dresses', 'Louis CK', 'CK-12: Practice Math & Science', 'CK 初一 十五', 'CK Eorzea Timepiece', 'F*ck This Game', '211:CK', 'CONTRACT KILLER: ZOMBIES (NR)', 'ck-modelcars Shop', 'Brainf*ck Interpreter', 'ck-modelcars-UK Shop', 'CK Multimedia - Gaming Accessories', 'CK SKILLZ', 'CK-12 Physics Simulations', 'CKZ ORIGINS', '211:CK Lite', 'CK Life', 'USMLE Step 2 CK Flashcards', 'CK Employee Portal', 'FML F*ck my life + widget', 'USMLE Step 2 CK Cards Lite', 'Company Kitchen Inventory', 'Tic Tac CK', 'CK Pharmacies', 'INFAMY RO', 'CK Call NEW', 'Ck Coif', 'CONTRACT KILLER: ZOMBIES', 'CK Shop', 'FlexBook', 'Can Knockdown 3', 'Fu*** Weather (Funny Weather)', 'OB-GYN USMLE Stp2 CK 300 Q & A', 'CK Active', 'USMLE CK Clinical Knowledge Flashcards 2018 Ed', 'Night Camera Blur Effect', 'Camera V7 24 Megapixel', 'CL Mobile Pro - Classifieds for Craigslist', 'cloudLibrary', 'CL Reader for Craigslist(For sale, jobs, rental..)', 'CL Pro App for Craigslist', 'CL 2NE1 Wallpaper KPOP Fans HD', 'CL 2ne1 Wallpaper KPOP HD Best', 'FREE CHATS C.L.', 'CL 2ne1 Wallpaper KPOP UHD Fans', 'CL REPL', 'CL Pro Client for Craigslist', 'DAILY: Free Classifieds App for Android', 'App for Craigslist Pro - Buy & Sell Postings', 'Pro App for Craigslist', 'Car Search For Craigslist CL Free', 'CL Clock', 'Old: CL-150', 'CL Keyboard - Myanmar Keyboard (No Ads)', 'Clash of Kings : The King Of Fighters version', 'Cl-app!', 'CL Notifier', 'Leica CL', 'cPro Marketplace: Buy. Sell. Rent. Date. Jobs.', 'Postings (Craigslist Search App)', 'New CL 2ne1 Wallpaper KPOP live', 'CL 2ne1 Wallpaper KPOP Fans All', 'CL-Phlebotomist', 'New: CL-150', 'Battle of Zombies: Clans War', 'CL-Customer Care', 'CL Pebble Apps', 'MPS CL', 'Turnotronik CL', 'CL e-bank', 'E2CR CL', 'Wallpapers Mercedes Benz CL', 'Color CL', 'CL Strength', 'CL-App', 'Security Master - Antivirus, VPN, AppLock, Booster', 'CM Launcher 3D Pro💎', 'Clean Master Lite - For Low-End Phone', 'CM Security Open VPN - Free, fast unlimited proxy', 'CM Security Lite - Antivirus', 'CM Transfer - Share any files with friends nearby', 'CM Apps', 'CM AppLock', 'Ruler(cm, inch)', 'AppLock - Fingerprint Unlock', 'CM Launcher Default Theme', 'Battery Doctor-Battery Life Saver & Battery Cooler', 'Inch/cm/Foot Conversion', 'Speed Booster - Ram, Battery & Game Speed Booster', 'CM FILE MANAGER', 'Technology CM Locker Theme', 'Swift Dark CM / CM13 Theme', 'Melior NUI - Material CM Theme', 'Height Converter feet-inch cm', 'CM Secure Browser (Authorized)', '📏 Smart Ruler ↔️ cm/inch measuring for homework!', 'Ruler cm', 'Length Converter: convert mm,cm,m, feet,yard,mile', 'CM AppLock Fingerprint 2018', 'm, cm, mm to yard, feet, inch converter tool', 'Speed Car CM Locker Theme', 'Calculator CM', 'Inches to cm conversion', 'Vintage Flower CM Locker Theme', 'Centimeter Ruler', 'CM S Pen Add-on(ROOT)', 'My Style CM 13 Theme', 'Ruler & Area Measurement (cm, inch)', 'Inches to Centimeters', 'cm, mm to inch, feet converter tool', 'City light CM Locker Theme', 'Speed Test - WiFi / Cellular speed test', 'CM FILE MANAGER Pro', 'cm to inches | centimeters to inches conversion', 'OMEGA Black UI Theme - CM 12+', 'In to cm', 'CN Summer Challenge', 'Teen Titans GO Figure!', 'CN Superstar Soccer: Goal!!!', 'Teeny Titans - Teen Titans Go!', \"CN Sayin' - Cartoon Network\", 'Cartoon Network Match Land', 'Card Wars Kingdom', \"Wrecker's Revenge - Gumball\", 'Super Slime Blitz - Gumball', 'Blamburger - Clarence', 'Free Fur All – We Bare Bears', 'Sky Streaker - Gumball', 'Just A Regular Arcade', 'Soundtrack Attack', '[adult swim]', 'Ben 10: Alien Experience', 'MagiMobile – Mighty Magiswords', 'Dreamland Arcade - Steven Universe', 'Surely You Quest - Magiswords', 'Adventure Time Run', 'Glitch Fixers: Powerpuff Girls', 'StirFry Stunts - We Bare Bears', 'Burrito Bash – We Bare Bears', 'Boomerang', 'We Bare Bears Match3 Repairs', 'Champions and Challengers - Adventure Time', 'Ski Safari: Adventure Time', 'Block Survival Craft:The Story', \"What's Up, Snoopy? - Peanuts\", 'Rockstars of Ooo', 'Pokémon TV', 'Angelo Rules - Crazy day', 'Flipped Out! - Powerpuff Girls', 'Adventure Time Game Wizard', 'Best Park in the Universe', 'Formula Cartoon All Stars', 'Multicraft Miner Exploration', 'CN TV Canal 3 - Cable Netword', 'CN Resident', 'Little Lovely Dentist', 'Foods Co', 'AND CO', 'Tetrobot and Co.', 'Wuwu & Co.', 'Dots & Co: A Puzzle Adventure', 'AppClose - The #1 FREE Co-Parenting App', 'Co-op CRS', 'Co Checker', 'VCalendar - VenkatRama and Co', 'Feeder.co', 'Co-op Connections', 'mail.co.uk Mail', 'Aquarium Co-Op Podcast', 'MobileBiz Co - Cloud Invoice', 'Supermarket Cashier Kids Games', 'Co-op Taxi', 'Alex & Co Quiz', 'Them Bombs: co-op board game play with 2-4 friends', 'REI Co-op Mastercard', 'Websites.co.in Instant Website', 'Co-op Credit Union on the Go', 'Hashtags For Likes.co', 'Chinese Chess ( Xiangqi Free )', 'Krypton by krypt.co', 'Chinese Chess / Co Tuong', 'Fayr - Co-Parenting Simplified', 'Co-Dependents Anonymous', 'Sprig by CO-OP', 'Good&Co: Career match tests', 'Central Bank and Trust Co.', 'Soo Co-op Mobile Banking', 'Co-Optima Mobile', 'SharedCare™ Co-parenting', 'Holl & Co Barbers', 'Call of Mini™ Zombies 2', 'Grenada Co-operative Bank', 'Dungeon Legends - PvP Action MMO RPG Co-op Games', 'CO CASE Events', 'Permit Test CO Colorado DMV', 'Chinese Chess 3D Online (Xiangqi, 象棋, co tuong)', '2-Player Co-op Zombie Shoot', 'Camping and Co - Camping in Europe', 'Remote | Fire TV | Android TV | KODI | CetusPlay', 'Comboios de Portugal', 'CP Dialer', 'CP Federal Mobile', 'Cestovné poriadky CP', 'CP Channel', 'CP Clicker', 'Evolution CP & IV Calculator for pokemon', 'CP Creepypasta', 'Hercules CP Mobile', 'Cerebral Palsy', 'Speak quietly: Autism, CP', 'CP RACING 2 FREE', 'CP-Care Mobile', 'CP ToolBox', 'Talking Pictures: Autism, CP', 'CP HAPPS - Pittsburgh Events', 'Poke Genie - Safe IV Calculator', 'IV Calc CP Calculator Toolkit', 'CP Plus Showcase', 'CP Calculator', 'iTooch Mathématiques CP', 'gCMOB', 'CP Connect 2.0', 'Evolution CP', 'IV Go（get IV for Pokemon）', 'CP Smart Check List', 'Ditto CP Calculator GO', 'Foothills CP', 'CP Installer App', 'CP Trivia', 'CP Ready', 'CP Surprise', 'Evolve CP Calc. for PokemonGo', 'CP Cloud', 'GO CP Evolution Calculator', 'ClanPlay: Community and Tools for Gamers', 'CP Calculator - Poke Go Calc', 'Contents Provider(C.P.)Explorer', 'Cp Calculator for Evolution:GO', 'Calcy IV', 'CP Brown English-Telugu Dictionary', 'CP Parquet', 'CP evolution calculator Pokemo', 'C.P. CERVANTES (TOBARRA)', 'Sporting CP Keyboard Theme', 'Meu Calendário CP', 'Crusaders Quest', 'CQ Hotels', 'CQ', 'Curio Quest', 'CQ-Mobile', 'CQ Key', 'Sabbath School 4', 'CQ Mobile', 'Cardinal Quest 2', 'CQ-Alert', 'SDA Collegiate Quarterly', 'CQ SIGNAL PRO 5', 'CQ: Lost In Transmission', 'HR Team CQ Region Ed Qld', 'Roll Call News', 'UFO-CQ', 'CQ ESPM', 'SHUTTLLS CQ - Connect Ride Go', 'QRZ Assistant', 'Palavras la cq', 'CQ Ukraine', 'Pocket Prefix Plus', 'CQ Electrical Group', '10 WPM Amateur ham radio CW Morse code trainer', 'Sabbath School', 'Gunship Modern Combat 3D', 'Gun Simulator - Gun Games', 'ClanManagerTT2', 'Christian Questions Podcast', 'Sniper Killer Shooter', '25WPM Amateur ham radio Koch CW Morse code trainer', 'QST', 'Cypress College Library', 'Create My App', 'Snowboard Racing Free Fun Game', 'theCut', 'الفاتحون Conquerors', 'Toughest Game Ever 2', 'RIDE ZERO', 'CricQuick', 'Next Island: Dino Village', 'iReadMe', 'Global Shop', 'Webmail web mobile app', 'QC', 'Traffic Info and Traffic Alert', 'Color Quartets', 'Ham Radio Prefixes', 'Battle Result Predictor for CR', 'Deck Advisor for CR', 'Card Creator for CR', 'CR & CoC Private Server - Clash Barbarians PRO', 'Deck Analyzer for CR', 'Chest Simulator for Clash Royale', 'Clash Soundboard For CR & COC', 'Quiz for Clash Royale™', 'CR Blue Icon Pack', 'Chest Calculator for CR', 'Ultimate Calculator for CR', 'DCUO|CR Calculator Pro', 'Servidor Privado CR y CoC - Royale Servers PRO', 'Stats CR Clan for Clash Royale', 'Ultimate Clash Royale Tracker', 'Chest Opener for CR - The Circle Game', 'Deck Simulator for CR', 'Stats Royale for Clash Royale', 'Counter Deck Calculator for CR', 'CR Calculator', 'Servidor Privado de CR y CoC - Light Royale', 'Helper for Clash Royale (All-in-1)', 'CR Fans: Mazos, Clanes y Grupos', 'DCUO|CR Calculator Lite', 'CR -Call Recorder', 'CR Best Decks', 'CR Family', 'CR Monitor', 'JavaScript Editor CR', 'Jetting for Honda CR dirt bike', 'CR-Red', 'Deck Shop for Clash Royale', 'Royale Tournaments', 'Deck Builder & Analyzer for CR', 'Chest Tracker for Clash Royale', 'Jeppesen CR Flight Computer', 'Cr Aviation Academy', 'The ClubHouse CR', 'CR-V Service Manual', 'Java Editor CR', 'XML Editor CR', 'Evolution Marketing CR', 'CR Tracker for Chests', 'CR Magazine', 'Ultimate Chest Tracker', 'CamScanner - Phone PDF Creator', 'Critical Strike CS: Counter Terrorist Online FPS', 'CamScanner (License)', 'Assault Line CS Online Fps Go', 'Standoff 2', 'Counter Online FPS Game', 'CS Customizer', 'Combat Strike CS 🔫 Counter Terrorist Attack FPS💣', 'CS-Touch', 'Ultimate Quiz for CS:GO - Skins | Cases | Players', 'Аim Training for CS', 'Sniper Traning for CS GO', 'NetClient CS', 'CS Guns Shoot', 'Asiimov Skin - CS GO Icon Pack', 'CS Interview Questions (TechQ)', 'Your rank CS:GO', 'Guide for CS:GO', 'CS Interview FAQs', 'CS', 'Mobile CS', 'Mobile CS:GO', 'Counter Terrorist Gun Strike CS: Special Forces', 'C.S. Lewis Daily Quotes', 'CS go bomb simulator', 'Shooter Sniper CS - FPS Games', 'CS16Client', 'CS Browser | #1 & BEST BROWSER', 'Counter Attack - Multiplayer FPS', 'DU CS Lectures - Learn to Code for Free', \"What's Your CS:GO rank?\", 'CS Browser Beta', 'Helper for CS:GO', 'My Nexus for CS:S & CS:GO', 'CS & IT Interview Questions', 'GATE 21 years CS Papers(2011-2018 Solved)', 'Map Callouts for CS:GO', 'GATE CS Engineering 2019 Exam Prep App', 'Case Simulator Hero for CS:GO', 'CA CS Network', 'Smokes for CS:GO', 'Grenade Practice for CS:GO', 'Quiz CS:GO players', 'Puzzle for CS:GO', 'Bomb and Nade Timer for CS:GO', 'Smokes Guide for CS:GO', 'Philips IQon Spectral CT Fundamentals.', 'RadRevision: Anatomy on CT', 'Radiology CT Anatomy', 'CT Scan Viewer 3D', 'Learn CT Scan Of Head', 'CT Abdomen Pelvis', 'CT Neck', 'CT Scan Generations', 'Emergency Brain CT', 'CT Prepares', 'CT Abdomen', 'CT Brain Interpretation', 'CT-Guide & Positioning', 'CT Sessions', 'CT - DTC Lookup', 'POCKET ATLAS OF CT HEAD', 'Interactive CT & MRI Anat.Lite', 'CT POSITIONING', 'CT Cervical Spine', 'Trauma CT Head Rules', 'CT Head Basic Interpretation', 'CT MyChiroTown Mobile', 'CT Lottery', 'Permit Test Connecticut CT DMV', 'POCKET BOOK CT ABDOMEN', 'I AM C.T.', 'Solar CT PV System Power', 'CARDIAC CT TECHNIQUE', 'TUTORIAL CT SCAN CARDIAC', 'HEAD TRAUMA CT EVALUATION', 'Simpli CT', 'Remote CT - Smart Remote', 'CT-REMOTE', 'CT CONNECT', 'CT-ART 4.0 (Chess Tactics 1200-2400 ELO)', 'CT-Stream Player', 'CT Pulmonary Angiography', 'Results for CT Lottery', 'Abdominal CT Sectional Walker', 'Interactive CT and MRI Anatomy', 'Dine In CT - Food Delivery', 'CT Checkout', 'CT and XR Dose Calculator', 'Chest CT Sectional Walker', 'Radiological Anatomy For FRCR1', 'Radiology CT Viewer', 'POCKET ATLAS CARDIAC MRI AND CT', 'CU: UPI Payments, Chat & Call', 'CU of Colorado Mobile Banking', 'Tech CU Mobile Banking', 'My CU - Caucasus University', 'Service CU Mobile Banking', 'Redwood CU v3.1.0', 'Cyprus CU Mobile Banking', 'BayPort CU Mobile Banking', 'CU SoCal Mobile Banking', 'Tropical Financial CU', 'Travis CU', 'Commonwealth CU Go Mobile', 'Public Service CU Mobile', 'Freedom CU', 'Meritrust CU Mobile Banking', 'Nusenda CU– Mobile Banking', 'Lake Michigan CU Mobile', 'Maps CU', 'Family Savings CU Mobile', 'FORUM Credit Union CU Online', 'Educators CU Mobile Banking', 'Space Coast CU Mobile', 'First Tech Federal CU', 'Southland CU', 'Tech CU Card Manager', 'Numerica CU', 'Red River CU', 'Firefighters First CU', 'MYCU TX Mobile Banking', 'Amazing Fart Sounds', 'Navigator PRO - GPS Navigation with Offline Maps', 'My Vodafone (GR)', 'HTC Transfer Tool', 'Planet of Cubes Survival Craft', 'Moto Rider', 'Crazy Wheels', 'Free Resume App', 'CV Engineer - Free Resume Maker & CV Templates', 'CV Examples 2018', 'Curriculum Vitae', 'Free resume builder CV maker templates PDF formats', 'Resume Builder - Free CV Maker & Premium Templates', 'Easy Cv maker 2018', 'Resume PDF Maker / CV Builder', 'Resume & CV Creator by Desygner', 'CV S ( CV Editor - Resume )', 'CV Formats 2018', 'CV Maker Pro', 'Free CV Creator', 'Job CV Maker-Portfolio Maker , Resume Maker', 'Resume Builder and CV maker app', 'HOW TO WRITE A CV', 'CV EXAMPLES', 'Cv maker / Job cv maker', 'Resume Builder Free, CV Maker & Resume Templates', 'Free Professional Resume Builder, CV, Cover Letter', 'Resume Free', 'How to Write CV', 'Super Resume Builder Pro, CV', 'Free Resume Builder – CV Maker', 'Resume App', 'CV Builder', 'Curriculum Vitae - Resume CV', 'Resume Maker:Free CV Maker,Templates Builder', 'Resume Builder / CV Maker & Templates', 'CV maker for Job Applications and Resume Maker', 'CV Templates 2018', 'Job CV Maker & Portfolio Maker', 'CV Maker for Job Applications:Photo Resume Builder', 'CV Creator', 'Resume ( CV Editor )', 'CV Maker', 'Resume Maker - Creator', 'CV Builder for Smart Resumes', 'CV-RECORD Pro', 'CV-Library Job Search', 'CV Samples 2018', 'CV (Curriculum Vitae / Resume) Maker', 'Easy Resume Builder, Resume help, Curriculum vitae', 'Resume / CV', 'VisualCV Resume Builder', 'Resume Maker / CV creator & Templates', 'Resume Builder - Curriculum Vitae & Resume Maker', 'The CW TV app', 'CW TV', 'The CW TN app 2018', 'Archie Comics', '2 Amateur ham radio CW Morse code practice keys TX', 'All Star Of CW', 'Cartoon Wars: Blade', 'FANDOM: Arrow and The Flash', 'CW Beacon for Ham Radio', 'IZ2UUF Morse Koch CW', 'Morse Decoder for Ham Radio', 'C W Browser', 'Canon CameraWindow', 'Saiyan Of CW', 'CW Studio ®', '20WPM Amateur ham radio Koch CW Morse code trainer', 'CW Bluetooth SPP', 'Morse Trainer for Ham Radio', 'Free CW TN Videos 2018', 'The Church at CW', 'CW Mobile', 'Freeform – Stream Full Episodes, Movies, & Live TV', 'CW BLE Peripheral Simulator', 'Morse Machine for Ham Radio', 'Pocket RxTx Pro', 'Morse Player', 'FXNOW: Movies, Shows & Live TV', 'My CW', 'CW Ringtone (Morse Code generator)', '30WPM Amateur ham radio Koch CW Morse code trainer', 'Learn CW', 'DC All Access', 'Koch Morse Trainer Pro', 'Morse Code Reader', 'CW Nuclear', 'Pocket RxTx Free', 'CW Deposit', 'Hallmark Channel Everywhere', 'Morse Player Free', 'News 8 San Diego', 'Learn Morse Code - G0HYN Learn Morse', 'SYFY', 'Morse Notifier Free', 'AMC', 'Cartoon Wars 3', 'ABC – Live TV & Full Episodes', 'Oracle CX Cloud Mobile', 'CX-10WiFi', 'CX-OF', 'cx-32wifi', 'CX-17WIFI', 'Cathay Pacific', 'Cx File Explorer', 'cx-33wifi', 'CX-WiFi720P', 'CX-60', 'ACTIVEON CX & CX GOLD', 'CX North America', 'CX-10DS', 'CX-37', 'Avaya CX', 'TI-Nspire CX Calculator Manual', 'CX_WiFiUFO', 'CX watcher', 'Theme For Techno Camon CX', 'CX-95WIFI', 'Theme for Tecno Camon CX / C8', 'CX Carrier Lite', 'Oración CX', 'CX-40', 'Cx Wize', 'Ring', 'Racing CX', 'cx advance call blocker', 'CX Ram Booster', 'CX-42', 'CX Capture', 'CONNECT: The Mobile CX Summit', 'Hyundai CX Conference', 'CX-41', 'CX Monthly Tech News', 'CXmodel-ufo', 'CX Summit', 'Secret Codes For Android', 'Absolute RC Heli Simulator', 'WiFi FPV', 'CX Elevated', 'go41cx', 'FlexRelease CX', 'Ambient CX', 'QuestionPro - CX', 'CX Network', 'CY Security Antivirus Cleaner', 'Freecell CY', 'Cytus II', 'Cy-Reader', 'Cy-Fair FCU Mobile Banking', 'Cytus', 'Cy-Ranch', 'Recycling Cy', 'CY Konum', 'CY.SEND Online Top Up', 'ABTO CY-ET1', 'CY:ME - real time gps tracker', 'Alpha Bank CY', 'Cy Messenger', 'Amadeus GR & CY', \"Igitabo cy'Indirimbo\", 'Doctor Finder CY', 'Eshopcy.com.cy', 'NOMISMA.com.cy by FMW', 'Cy-Fair VFD EMS Protocols', 'EUROBANK CY', 'Cy-Fair Christian Church', 'Mediabox CY', 'Capitalnews.com.cy', 'Shadowverse CCG', 'CY Digital Net', 'Cy-Fair Houston Chamber', 'StudentLife.com.cy', 'Phone Clean Best Speed Booster', 'VAT check CY', \"Cy's Elma Pharmacy\", 'CY Spray nozzle', 'LOCX Applock Lock Apps & Photo', 'Cymath - Math Problem Solver', 'Rewards', 'Army of Heroes', 'BibleRead En Cy Zh Yue', 'Math Solver', 'SuperBikers 2', 'Cyprus Bus Companion', 'Cyprus Police', 'foody Cyprus - online ordering', 'Death Dragon Knights RPG', 'Bank Of Cyprus', 'Map of Cyprus offline', 'McDelivery Cyprus', 'CZ-USA', 'CZ File Manager', 'Security Camera CZ', 'Šmelina .cz inzeráty inzerce', 'Alzashop.com', 'KFC CZ', 'Skylink Live TV CZ', 'CZ-70 (CZ-50) pistol explained', 'CZ-52 pistol explained', 'CZ-27 pistol explained', 'Online TV CZ/SK PRO', 'Rande.cz', 'Breweries (CZ/SK)', 'reality.cz', 'CZ-45 pistol explained', 'CZ-Help', 'Hlášenírozhlasu.cz', 'signály.cz', 'CZ-Cyberon Voice Commander', 'Pistolet CZ-70 CZ-50 expliqué', 'CZ-38 (vz 38) pistol explained', 'HTC Sense Input - CZ', 'WebCams', 'Wallpapers CZ 75 85', 'SMS Sender - sluzba.cz', 'Novinky.cz', 'Wallpaper.cz', 'Strava.cz', 'CZ Kompas', 'Modlitební knížka CZ', 'Reksio cz. 1', 'MYTO CZ', 'PLAYzone.cz', 'Tools & Mi Band', 'RoutePlan.cz', 'TeeTime.cz', 'What is my IP address', 'Windguru Lite', 'Vira.cz Widget', 'Da Fit', 'The House of Da Vinci', 'Dan the Man: Action Platformer', 'Ghost Detector', 'Master for Minecraft(Pocket Edition)-Mod Launcher', 'King of Math', 'Translate: text & voice translator', \"The Zueira's Voice\", 'Battery Calibration', 'FVD - Free Video Downloader', 'Thuglife Video Maker', 'MadLipz', 'Soccer FC', 'Visage Lab – face retouch', 'Geometry Dash SubZero', 'Escaping the Prison', 'Quiz TRUE or FALSE', 'Glam Doll Salon - Chic Fashion', 'Siren Ringtones', 'Peppa Pig: Party Time', 'Download Manager for Android', 'The Visitor', 'Just Dance Now', 'DB Navigator', 'SQLite DB Reader', 'DB Browser', 'Sound Meter', 'db.Mobil App', 'DB Streckenagent', 'dB: Sound Meter Pro', 'Movie DB', 'dB Sound Level Meter', 'DB Sound Meter: Measure Noise Level- Decibel Meter', 'DB Welt - Die Zeitung der DB', 'Check DB Benchmark', 'ACCDB MDB DB Manager Pro - Editor for MS Access', 'Scale Models DB', 'DB Train Simulator', 'DB Tools', 'dB Meter - measure sound & noise level in Decibel', 'DB LINK RGB', 'DB BAHN', 'DB Manager', '10,000 Quotes DB (Premium)', 'Guide for DB Xenoverse', 'DB Transport', 'DB Stay Connected', 'DB FahrtProfi', 'DB TOS - Pocket Helper', 'ReDNAKET DB Normalization Tool', 'Guide for DB Xenoverse 2', 'DB Customer Connect', 'Patron DB', 'DB Event App', 'DB HOME', 'Bowers & Wilkins DB Subwoofers', 'Guide for IMS DB', 'DB Busradar NRW', 'DB Pickles', 'DB for Fallout Shelter', 'LC-DB', 'dB Sound Meter', 'DB for Hustle Castle', 'DB Ultra Saiyan Battle', 'Preferences Manager and SQLite DB Viewer', 'LC-DB-LITE', 'db Meter - sound level meter with data logging', 'Hamburg Transit - Offline HVV DB times and plans', 'SW-DB', 'DC Legends: Battle for Justice', 'Injustice 2', 'Injustice: Gods Among Us', 'FANDOM for: DC', 'LEGO Batman: DC Super Heroes', 'Ultimate DC Challenge', 'LEGO® DC Mighty Micros', 'Justice League Action Run', 'Marvel and DC Wallpapers', 'DC Comics Amino', 'Comics', 'Quiz DC', 'Batman: Gotham’s Most Wanted!', 'Superheroes, Marvel, DC, Comics, TV, Movies News', 'Choose SuperHero Quize Marvel | DC', 'MARVEL Avengers Academy', 'DC Universe Quiz', 'DC HSEMA', 'DC Universe Online Map', 'DC Public Library', 'Vote 4 DC', 'Villains vs Superheroes', 'DC Rider', 'Power Rangers: Legacy Wars', 'MARVEL Future Fight', 'DC Metro Transit - Free', 'DC N COMPANY ENTERTAINMENT RADIO!', 'Results for DC Lottery', 'FOX 5 DC', 'Pepsi Cards DC', \"Driver Permit Test Prep DC DMV Driver's License Ed\", 'Robin - DC Movie Collection', 'DC-014', 'D.C. Driving/Walking Tours', 'Painting Lulu DC Super Friends', 'DC Metro', 'DC Trails-Hop On Hop Off Tours', 'DC Metro Transit', 'AC DC Power Monitor', 'McClatchy DC Bureau', 'AutoScout24 - used car finder', 'WEB.DE Mail', 'Your Freedom VPN Client', 'Dictionary', 'Bokeh (Background defocus)', 'Speed Camera Radar', 'WDAMAGE: Car Crash Engine', 'Coloring Book for Me & Mandala', 'APUS File Manager (Explorer)', 'Offroad Police Car DE', 'Easy Language Translator', 'Word Search multilingual', 'Love Collage - Photo Editor', 'Heavy Bus Simulator', 'Love Fonts for FlipFont', 'Piano Free - Keyboard with Magic Tiles Music Games', 'Escape the Prison Room', 'Bike Racing 3D', 'Satellite Director', 'Truck Driver Cargo', 'Anime Love Story Games: ✨Shadowtime✨', 'Checkers', 'Scratch Logo Quiz. Challenging brain puzzle', 'Myth Defense 2: DF', 'df', 'DF Squid', 'Myth Defense 2: DF Platinum', 'DF 司機', 'DF@realtime', 'DF Night Selfies', 'DF Coaching', 'Digital Falak', 'The Divine Feminine App: the DF App', 'Guide to Nikon Df', 'DF BugMeNot', 'DF-CAM', 'DF Tracker', 'Guia Bike DF', 'Rádio DF FM', 'Noticias DF', 'DF Glue Board', 'DF-Server Mobile', 'DF-View', 'MexiRoomies - roomies, mexico, df, apt, house room', 'DF Wall Plus – Droid Firewall', 'Diario Financiero', 'Digital FM Brasília DF', 'DF SmartPlus', 'Red Transporte DF', 'ElejaOnline DF', 'ProconLegis-DF', 'Técnico Legislativo Câmara Legislativa DF', 'Cargo de Praça PM DF', 'Consultar Infracciones de Transito DF y Mexico', 'Droidbug BusyBox Advance PRO', 'México City D.F News', 'PDF Reader – PDF Editor 2018', 'Fix Error Google Playstore', 'df-Vegetable', 'Aproveita DF', 'EVENTOS DF', 'Citymapper - Transit Navigation', 'Rádio Sol Nascente DF', 'Diseño de columnas NTC - RSEE 2017', 'Dollar General - Digital Coupons, Ads And More', 'DG Coupon', 'Penny Finder', 'DG - Digital Coupons - Free Coupon and Discount', 'DG Surveyor', 'DG Smart life', 'Krazy Coupon Lady', 'DG UPnP Player Free', 'Penny Puss', 'DG Mobile', 'Go Go Coupons - Free Coupon and Discount', 'ZombieVital DG', 'DJ Electro Mix Pad', 'DG Screen Recorder', 'DG Report Reminder', 'DG Video Editor', 'The DG Buddy', 'Roland DG Mobile Panel', 'Destroy Gunners Σ', 'DG-App', 'Can I pack that? - DG App', 'DG Phone Call Task Switcher', 'DG Fitness', 'Sharaf DG', 'DG Card', 'Coupon Mob - Discount Coupons', 'DG Users', 'DG Cars', 'Free coupons and vouchers', 'DG Hair', 'DG Xplained', 'DG OFF - 100% Free Coupons & Deals', 'Digoo·Cloud', 'DG Monitor', 'DG ग्राम / Digital Gram Panchayat', 'DG TV', 'Daily Horoscope', 'DHgate-Shop Wholesale Prices', \"DH Texas Poker - Texas Hold'em\", 'DEER HUNTER CLASSIC', 'DEER HUNTER RELOADED', 'DH Pineapple Poker OFC', 'DH UFO', 'Galaxy Defense', 'Call of Mini™ Dino Hunter', 'Castle Defense 2', 'Dungeon Rush', 'Bike Mayhem Free', 'Treasure Defense', 'Car Crash III Beam DH Real Damage Simulator 2018', 'The Lost Lands:DH Lite', 'DH-UFO', 'Daddyhunt: Gay Dating', 'DH Karaoke', 'Tiny Defense', 'Toys Defense: Horror Land', 'D-H Pharmacy', 'DEER HUNTER CHALLENGE', 'Kingdom in Chaos', 'Desperate Housewives: The Game', 'Dinosaur War', 'DH News', 'Bike Unchained', 'DH Mariage', 'Bike 3D Configurator', 'Castle Defense : Invasion', 'Defender', 'Avenger Legends', 'DrivingTest', 'D. H. Lawrence Poems FREE', 'Texas HoldEm Poker Deluxe', 'Wallpapers DH 4K', 'DH-Security Camera', 'Deck Heroes: Legacy', 'Shred! Downhill Mountainbiking', 'Pocket Heroes', 'DiskDigger photo recovery', 'Meme Generator Free', 'Stop Smoking - EasyQuit free', 'FIFA Soccer', 'Archery Physics Objects Destruction Apple shooter', 'Story Saver for Instagram', 'Cameringo+ Filters Camera', 'Cooking in the Kitchen', 'Automatic Call Recorder', 'Fancy Pants Adventures', 'Boomerang from Instagram', 'Shopee: No.1 Belanja Online', \"Lep's World 3 🍀🍀🍀\", 'Robbery Bob', 'Video Downloader - for Instagram Repost App', 'Nyan Cat: Lost In Space', 'HOLLA Live: Meet New People via Random Video Chat', 'Quik – Free Video Editor for photos, clips, music', 'Euro Truck Driver (Simulator)', 'DJ Mix Effects Simulator', '3D DJ – Music Mixer with Virtual DJ', 'Virtual DJ Mixer', 'Mix Virtual DJ 2018', 'Resources For Virtual DJ', 'DK 15 Minute Language Course', 'DK Readers', 'Eyewitness Travel Phrase Book', 'DK Quiz', 'DK Virtual Reality', 'Bilingual Dictionary Audio App', 'Super DK vs Kong Brother Advanced Free Classic', 'English for Everyone', 'DK Live - Sports Play by Play', 'DK Eyewitness Audio Walks', 'DK Pittsburgh Sports', 'LineStar For DK', 'Visuelles Wörterbuch Audio-App', 'Fodbold DK Pro', '10 Minutes a Day Times Tables', 'dk Verk', 'e-Boks.dk', 'Account Class-11 Solutions (D K Goel)', 'Dating.dk', 'S-Home DK', 'DK Primrose for KLWP', 'DK Online', 'Account Class-12 Solutions (D K Goel) Vol-1', 'Salah Widget (DK+Malmo)', 'PK and DK Audio App', 'dk', 'HDWallpaper DK', 'Account Class-12 Solutions (D K Goel) Vol-2', 'DK Browser', 'Discovery K!ds Play!', 'cluster.dk', 'Transport DK', 'DK Childcare Centers', 'Gokarting.dk', 'DK Murali', 'DK TEL Dialer', 'DK Studio Barbershop', 'Dr. D.K. Olukoya Sermons', 'GirlTalk.dk', 'NY mobilbank DK - Danske Bank', 'Dr D K Olukoya', 'DK Hair Design', 'Advanced Download Manager Pro', 'Advanced Download Manager', 'GetThemAll Any File Downloader', 'Downloader & Private Browser', 'Download All Files', 'Download Manager Pro FREE', 'Download Accelerator Plus', 'Download Manager', 'Download Video Free', 'Fast Download Manager', 'DL Hughley', 'Turbo Download Manager (and Browser)', 'D.L. Evans Bank Mobile Banking', 'The DL Hughley Show', 'Download Blazer', 'DL Image Manager', 'Download Manager For Android Free', 'FrostWire: Torrent Downloader & Music Player', 'Turbo Downloader', 'Trimble DL', 'Insave-Download for Instagram', '+Download 4 Instagram Twitter', 'Advanced Download Manager Holo', 'G-Download Manager', 'DL Calculator', 'Inst Download - Video & Photo', 'Vuze Torrent Downloader', 'IDM Internet Download Manager', 'TorrDroid - Torrent Downloader', 'Download Manager - File & Video', 'AndStream - Streaming Download', 'DM Me - Chat', 'DM Screen', 'DM for IG 😘 - Image & Video Saver for Instagram', 'DM for WhatsApp', 'Fifth Edition DM Tools', 'DM Talk New', 'DM airdisk', 'Diabetes mellitus (DM) from zero to hero', 'Auto DM for Twitter 🔥', 'DM HiDisk', 'DM EVOLUTION', 'Daily DM', 'Dungeons and Dragons DM Tools', 'DM - The Offical Messaging App', 'DM airdisk Pro', 'Convert Coordinates DM to DMS', 'DM security - Dragon Mobile', 'DM 24/7', 'DM Storage (for twitter)', 'DM Transfers Dalaman Transfers', 'DM Tracker', 'DM Tuning', 'DM Die Roller 9000', 'DM Magazine', 'DM הפקות', 'DM TrackMan', 'Aster DM Healthcare', 'Fake Chat (Direct Message)', 'Interactive NPC DM Tool', 'DM Buddy » Learn Digital Marketing', 'DM Accounting and Payroll', 'Basketball Dynasty Manager 16', 'DM Collection', 'DM AirDisk HDD', 'DM AirDisk NAS', \"Shaggy's DM Assistant\", 'Otto DM', 'DM Adventure', 'Ramdor DM Mobile', 'Disciple Maker’s (DM) Lab', 'Ultimate DM', 'DN', 'DN eAvis', 'DN Sync', 'DN Reader', 'DN Managed Mobility App', 'e-DN - den digitala tidningen från Dagens Nyheter', 'MultiPicture Live Wallpaper dn', 'DN Blog', 'Dagens Nyheter', 'DN Events', 'DN.VR', 'DN - Diário de Notícias', 'DN Employee', 'DN Advanced Service Coder', 'DN Premium Hookah Lounge', 'PlayMotiv dn edition', 'Cossack Dictionary (DN)', 'DN Calculators', 'DN Diamonds', 'DN Prasad', 'Writing Wizard Premium - Handwriting', 'DN Driver', 'D.N. College Meerut', 'DN Radio FM', 'Sverige Tidningar', 'Svenska Dagbladet', 'Dragon Nest M', 'Downtown Mafia: Gang Wars (Mobster Game) Free', 'DN Snacks', 'Guardian Hunter: SuperBrawlRPG', 'Sweden Newspapers', 'ES Remote', 'MC.Fitting', 'Destiny Ninja Shall we date otome games love story', 'Day Night Live Wallpaper (All)', 'CritDice - Dice Roller', 'Cursive Writing Wizard - Handwriting', 'Free Poker Games : Downtown Casino - Texas Holdem', 'WFVS 2018 | WhatApp Full Video Status & Downloader', 'Maher EL Mouaikly - Offline', 'Darkness Rises', 'NARUTO X BORUTO NINJA VOLTAGE', 'Sword Art Online: Integral Factor', 'Mahalaxmi Dindarshika 2018', 'Microsoft To-Do: List, Task & Reminder', 'PDF Reader - Scan、Edit & Share', 'To Do List', 'File Viewer for Android', 'do', 'Does not Commute', 'To Do Reminder with Alarm', 'wikiHow: how to do anything', 'Ike - To-Do List, Task List', 'Kung Fu Do Fighting', 'My Effectiveness: To do, Tasks', 'Do it (Tomorrow)', 'Do Not Disturb', 'To-Do List Widget', 'NoteToDo. Notes. To do list', 'Memory Helper - To do list, Notepad, Notes, Memo', '2Do - Reminders, To-do List & Notes', 'Notes : Colorful Notepad Note,To Do,Reminder,Memo', 'Time Planner - Schedule, To-Do List, Time Tracker', 'MyLifeOrganized: To-Do List', 'Cal - Google Calendar + Widget', 'Clean My House – Chore To Do List, Task Scheduler', 'Goal Meter: Goal Tracker, Habit Changer,To-Do List', 'To-do list', 'Do Not Crash', 'Do I Snore or Grind', 'How well do you know me?', 'EasyNote Notepad | To Do List', 'Adobe Fill & Sign: Easy PDF Form Filler', 'DO YOU KNOW THE WAY Soundboard', 'Endless Ducker', 'Dude Perfect', \"that's lit\", 'All Type DP', 'Dp For WhatsApp', 'DP and Status for WhatsApp 2018', 'DP Editor', 'DP & Status', 'Dp for girls', 'DP Maker', 'Download Instant DP (Full HD)', 'Square DP For Whatsapp', 'Profile pictures for WhatsApp', 'DP and Status', 'Dp For Whatsapp', 'DP & Status for Whatsapp 2018', 'DP Creator for WhatsApp', 'Dp For FB', 'Best DP and Status (Daily Updates Photos)', 'Magical Insta DP', 'Profile Pictures and DP for Whatsapp', 'All Types DP & Status Maker', 'DP Photo Editor', 'Status For WhatsApp DP - pro', 'Marathi DP - status and message,jokes,Video app', 'Cute Images for Whatsapp', 'Profile Pictures - Best DP Status', 'Best DP and Status - All Type DP & Status', 'Dp for Facebook', 'Fifa World Cup 2018: Photo Frame Editor & DP Maker', 'DP and Status Images | All Latest Status 2018', 'Best DP and Status', '100000+ Messages - DP, Status, Jokes & GIF 2018', 'Instant DP Downloader for Instagram', 'DP Display Pictures Life Quotes Motivational GM', 'Latest DP and Status Pro 2018', 'Best DP And Video Status 2018 For Whatsapp', 'Qeek for Instagram - Zoom profile insta DP', 'DP Battle', 'Faceoff DP Battle App', 'Insta Square Profile DP', 'Name Art DP - Focus n Filter Text 2018', 'DP Status 2017', 'DQ Texas', 'DQ Events', 'Dash Quest Heroes', 'Coupons for Dairy Queen', 'DRAGON QUEST VIII', 'ODTMobile v4', 'DRAGON QUEST III', 'LightMeter (noAds)', 'DRAGON QUEST', 'DRAGON QUEST II', 'DRAGON QUEST VI', 'DQT GPS', 'DQ Akses', 'Discovery Insure', 'Taco Bell', 'LightMeter Free', 'CHRONO TRIGGER (Upgrade Ver.)', 'ODTMobile', 'Whataburger', 'FINAL FANTASY DIMENSIONS', \"Arby's\", 'RPG Dragon Lapis', 'Find Fast Food', 'Jungle book-The Great Escape', 'Bunny Skater', 'DQSalmaan - A fan made App', \"Culver's\", 'World Webcams', 'The Walking Zombie: Dead City', 'Monster Fishing 2018', 'Call Blocker & Blacklist', 'Dulquer Salmaan HD Wallpapers', 'IHOP®', 'myGrow', 'Dr. Parking 4', 'Dr. Driving 2', 'Anti-virus Dr.Web Light', 'dr.fone - Recovery & Transfer wirelessly & Backup', 'Dr. Truck Driver : Real Truck Simulator 3D', 'Dr. Cares - Pet Rescue 911 🐶', 'Dr. Panda Town', 'Dr. Parker : Parking Simulator', 'Dr. Parker : Real car parking simulation', 'Dr. Battery - Fast Charger - Super Cleaner 2018', 'Dr. Safety - Antivirus, Booster, Cleaner, AppLock', 'DR TV', 'Real Car Dr Parking Master: Parking Games 2018', 'Doctor Kids', 'Dr. Rocket', 'Dr. Muscle', 'Dr. Dominoes', 'Dr. Sudoku', 'Dr.Web Security Space', 'Dr. Unblock', 'Dr. Gomoku', 'Dr. Panda Farm', 'DR.MEEP', 'Dr. Panda Art Class', \"Dr. Panda's Swimming Pool\", 'Dr. Pixel: Pill mania Classic', 'Dr. Chess', 'Super Dr. Parking 3D', 'Dr Dre - Beatmaker', \"Dr. Cares - Amy's Pet Clinic 🐈 🐕\", 'Dr. Splorchy Presents Space Heroes', 'Pet Vet Dr - Animals Hospital', 'Dr.Android Repair Master 2017', 'DR CONTROL', 'Dr Driving Racer', 'Dr. McDougall Mobile Cookbook', \"Dr. Seuss's ABC\", 'Dr. Booster - Boost Game Speed', 'Dr. Panda Hospital', 'Dr. Panda Café Freemium', 'Dr. Panda Ice Cream Truck Free', \"Dr. Doug's Tips\", 'Dr. 2048', 'Dr. Panda Restaurant 2', 'Dr. Panda Supermarket', 'Dr. Shogi', \"DR Sebi's Alkaline List\", 'DraStic DS Emulator', 'NDS Emulator - For Android 6', 'Free DS Emulator', 'nds4droid', 'MegaNDS (NDS Emulator)', 'DS file', 'DS finder', 'DS get', 'DS cloud', 'DS photo', 'DS video', 'DS note', 'DS cam', 'DS router', 'EmuBox - Fast Retro Emulator', 'Synology Drive', 'DS Creator 2.0', 'DS App Manager', 'Simple x3DS Emulator - BETA', 'DS Helpdesk Plus', 'DS', 'Ability DS UNO', 'DS Connector 2.0', 'DS Barometer - Altimeter and Weather Information', 'DS Companion', 'DS-L4 Viewer', 'DS Tower Defence', 'DS-Admin', 'NDS-controller', 'DS-11 form', 'SmartCircle Remote DS', 'RetroArch', 'DS Speedometer & Odometer', 'MegaN64 (N64 Emulator)', 'DS-20000S', 'DS Vision', 'Learn DS [BETA]', 'Deep Sleep Battery Saver Pro', 'DS - xR', 'DS-Students', 'DS Thermometer', 'PhotoFrame for Synology DS', 'Deep Sleep Battery Saver', 'Draft Simulator for FUT 18', 'DS Flashlight', 'DS-82 form', 'dt Pro', 'DT', 'DT Manager', 'Real Sheet ∞: Pathfinder + DT', 'DT-CAM', 'DT Fieldlink', 'DT Driving Test Theory', 'DT Smart', 'Truck Simulator DT 3D', 'DT Baby Cam', 'Bloons TD 5', 'WPBS-DT', 'ReadyOp DT', 'Soccer Manager 2018', 'Online Soccer Manager (OSM)', 'DT-VR', 'Dt Tracking', 'DT Simple Interval Timer', 'DT Health', 'DT CLOTHINGS', 'PAY DT', 'Test Application DT 02', \"Eat Right Diet (by Dt Shreya's Family Diet Clinic)\", 'DT Practice', 'Dt. Jyothi Srinivas', 'DT future1 cam', 'DT Freight', 'Johor DT Lock Screen', 'PES CLUB MANAGER', 'Riptide GP: Renegade', 'Wheelie Challenge', 'DT NO.I', 'DT Technologies', 'DTPay', '\"i DT\" Fútbol. Todos Somos Técnicos.', 'MasterDT', 'Top Soccer Manager', 'The Secret Daily Teachings', 'Spring flowers theme couleurs d t space', 'Soccer Board Tactics', 'Dirt Trackin Sprint Cars', 'senior easy phone', 'dt.se', 'WhatsVPN - Unlimited Free VPN', 'du app', 'DU Battery Saver - Battery Charger & Battery Life', 'DU Antivirus Security - Applock & Privacy Guard', 'DU Cleaner – Memory cleaner & clean phone cache', 'DU Launcher - Boost Your Phone', 'DU Security', 'DU Privacy-hide apps、sms、file', 'DU Browser Mini(Small&Fast)', 'Caller ID & Call Block - DU Caller', 'Lock Screen - DU Locker & Lock screen wallpaper', 'du View', 'DU Emoji Keyboard（Simeji）', 'DU GIF Maker: GIF Maker, Video to GIF & GIF Editor', 'DU Flashlight - Brightest LED & Flashlight Free', 'Upgrade for Android DU Master', 'Modern: DU Launcher Theme', 'Weather Forecast Pro', 'Night: DU Launcher Theme', 'DU Collage Maker - Photo Collage & Grid & Layout', 'Du Chinese – Mandarin Lessons', 'Portes du Soleil', 'Sword of Chaos - Lame du Chaos', 'Hadith du jour', 'Bible du Semeur-BDS (French)', 'La citadelle du musulman', 'Voyance du pyromancien', 'Clean My Android', 'Citation du Jour - Motivation', 'La Poupée du Voyant', 'Star Chart', 'APUS Booster - Space Cleaner & Booster', 'Officiel du SCRABBLE LAROUSSE', 'Proverbes du monde', 'GO Security－AntiVirus, AppLock, Booster', 'iSmart DV', 'dv Prompter', 'Sports DV', 'Live DV', 'Mini DV', 'DV-2019 Results', 'AKASO DV', 'DV-LOTTERY 2019 REGISTRATION', 'Selfie DV', 'DV-4036 by Somikon', 'DV 2019 Entry Guide', 'Touch DV', 'Porch DV', 'DV 2019 - EDV Photo & Form', 'SDV Cam', 'XDV', 'WiFi Action Camera', 'DV Car Service', 'DV Lottery Photo', 'DV Lottery Photo Tool', 'iCam - Webcam Video Streaming', 'DV KING 4K', 'Wifi Action Camera', 'US DV Lottery 2020 Apply', 'DV-2019 PHOTO TOOL', 'DV ASSIST', '4K Ultra Camera', 'DV Lottery Simulator', 'U.S.A DV Lottery Process', 'DV Statistics', 'DV 2018 Winners Guide', 'MelifeCam-M', 'DV-2019 UK/British', 'GoPlus Cam', 'GoAction', 'DV Portfolio', 'DV Youth', 'DV KING', 'DV - Digito Verificador', 'DV Web Design Tips', 'DENVER ACTION CAM 3', '4K VIDEO PLAYER ULTRA HD', 'US DV Lottery 2019', 'BlueDV AMBE', 'Hotel Insanity', 'SportCAM', 'SportLook', 'DW - Breaking World News', 'DW Learn German - A1, A2, B1 and placement test', 'DW Mobile', 'DW Spectrum™ IPVMS Mobile', 'DW Amharic by AudioNow Digital', 'DW VMAX', 'News: DW Español', 'DW Contacts & Phone & Dialer', 'DW', 'DW Arabic By dw-arab.com', 'DW Espanol', 'News :DW Bangali', 'Learn German: Die Bienenretter', 'News: DW Hausa', 'DW Spectrum™ IP VMS', 'DW Audio', 'DW Contacts widget', 'DW فارسی By dw-arab.com', 'German Listening', 'Deaf World DW', 'DW Event', 'DW Witness', 'Fahrschule DW', 'Downvids Helper - One touch DW', 'DW Tech Tools', 'DW Security', 'News: RFI Hausa', 'ZAK DW', 'DW Contacts Wear', 'Hausa Radio', 'Digi Dex for DW Next Order @PS4', 'DW Timer', 'DW Streaming', 'RETRO Shocked DW-6000', 'VMAX IP Plus Mobile Client', 'Rose Gold DW Watch Theme', 'DW Maps', 'DW Uninstall Applications', 'Bodyworks DW', 'DW Cleaner', 'DW Missed call cleaner patch', 'Swahili Radio', 'Black Classic DW Watch Theme', 'White Classic Petite Watch Theme for DW', 'D.W Bien Être', 'DX', 'Direct Express®', 'Retro City Rampage DX', 'KeePass DX', 'PORTABLE SOCCER DX', 'Across Age DX', 'ZOOKEEPER DX TouchEdition', 'Ham DX Cluster & Spots Finder', 'KeePass DX Pro', 'DX Alerts', 'Piczle Lines DX', 'PORTABLE SOCCER DX Lite', 'DX Spots Free', '3DAnimeGirl DX DreamPortrait KAWAII Girl DressUp', 'Bubble Shooter DX', 'DX Alert', 'Age of Procreation DX', 'Chronolink DX', 'DX Simulation for OOO Dx Belt', 'Differential Dx Free', 'Tricky Bike Stunt Rider DX', 'DX Gashacon Sword for Ex-Aid Henshin', 'DX Simulation Belt for Build henshin', 'Active Soccer 2 DX', 'DX Simulation for Kabuto Henshin Belt 2018', 'DX Simulation for Decade Henshin Belt 2018', 'Elemental Galaxy Dx - Match3', 'DX Simulation for Double Dx Henshin Belt 2018', 'Mircules DX Cluster Lite', 'DX Simulation Belt for Decade henshin', 'Chronolink DX Lite', 'Shoot! DX - lights for FREE', 'Bubble Shooter DX AdFree', 'Human Dx', \"Santa's Monster Shootout DX\", 'DX Glow - Clock Widget', 'iCluster - The DX-Cluster database', 'MBU DX Cluster', 'Dress Up RagazzA13 DX', 'Cloud DX Connected Health', 'DX Simulation for X-aid Dx Belt', 'Unstoppaball DX', 'Differential Dx', 'Sokoban Land DX', 'Multiple Sclerosis Dx & Mgmt.', 'Dx Ludo', 'My Dy Dice - 3D Dice Roller', 'Dy So Exam', 'edp re:dy', 'Dr. D. Y. Patil Vidyapeeth GBS', 'edp re:dy smarthome', 'KPS CHAUHAN DY/DX', 'DY Fitness', 'dy n fly', 'Cnady Selfie : You Can Dy Snap Camera', 'junainfo.dy.fi', 'DY TECHNICAL GYAN', 'JONACK (D Story Teller)', 'American Sniper City Fight Shooting Assassin', 'Guardians of Ancora', 'Train Sim Pro', 'Displaying You VR', 'Cute Dolphin Keyboard', 'Truck Transport Raw Material', 'Hidden Camera Detector', 'DYPhyzio-Physiology Forum', 'Street Skater 3D', 'DYPSOET', 'Triceratops - Dino Robot', 'Differential Equations Steps', 'Dz Dinars Numbers to letters', 'dz NEWS Algerie', 'Siyaha Dz', 'CCP DZ : Fill out a check | Number in letters DZD', 'DZ Puzzle', 'DZ Mobile Market', '3G DZ Configuration', '3G/4G Config Dz', 'Drugs Dz - Algeria', 'amm dz', 'IRIS : Customer Service - DZ Algeria', 'Numbers Into Words', 'Dz kayas', 'Météo Algérie DZ', 'DZ Popup Video Player', 'DZ PROMOS - Promotions & Sale Alerts in Algeria', 'JNews DZ - Algerian Newspapers', 'DZ-JOKER', 'Super ball DZ', 'Ouedkniss', 'Files To SD Card Pro', 'News Dz', 'My Ooredoo Algeria', 'Currency Exchange DZ', 'PHARMAGUIDE (DZ)', 'لعبة تقدر تربح DZ', 'DEM DZ', 'chat dz', 'Devise Dz', 'BAC DZ Questionnaire', 'Ludo Dz', 'ONEC DZ', 'Agent HQ for The Division', 'DZ Urgences', 'infirmiers', 'DZ sim', 'Tuberculose Dz', 'DZ Fly Algérie Horaire Vols', '3G to 4G Converter - Simulator', 'dekoreko-dz', 'ChangeDA - Cours du DZD sur le marché parallèle', 'dz press', 'Tunisian Dinar: Exchange rate', 'love sms good morning', 'Dz Camera', 'quran-DZ', 'DZ Blagues', 'DZ Register', 'EA SPORTS UFC®', 'NBA LIVE Mobile Basketball', 'Need for Speed™ No Limits', 'Madden NFL Football', 'EA SPORTS™ FIFA 18 Companion', 'The Simpsons™: Tapped Out', 'Plants vs. Zombies™ 2', 'Star Wars™: Galaxy of Heroes', 'Dungeon Keeper', 'Lost Journey (Dreamsky)', 'TETRIS', 'Bejeweled Classic', 'NBA JAM by EA SPORTS™', 'EA Plus', 'TETRIS Blitz', 'POGO Games', 'SW Battlefront Companion', 'Bejeweled Blitz', 'Peggle Blast', 'Heroes of Dragon Age', 'SCRABBLE', 'Asphalt Xtreme: Rally Racing', 'FIFA 16 Soccer', 'League of Stickman 2018- Ninja Arena PVP(Dreamsky)', 'Modern Combat 5: eSports FPS', 'Bejeweled Stars: Free Match 3', 'Mass Effect: Andromeda APEX HQ', 'Mirror’s Edge™ Companion', 'Stickman Legends: Shadow Wars', 'MLB Perfect Inning 2018', 'Gear.Club - True Racing', 'Plants vs. Zombies™ Watch Face', 'Real Football', 'Typical EA Game', 'EB Mobile', 'EB Events', 'i am EB', 'EB-Link', 'Debra Care Conference', 'Exchange Bank - EB Mobile', 'TANGEDCO Mobile App (Official)', 'EB-TV', 'Free E B Garamond Cool Font', 'EB Kit', 'Epson iProjection', 'TN e Sevai TN EB Bill Patta Citta EC Birth All Hub', 'EB Scanner', 'TNEB Bill Online Payment (Tamil)', 'EB Demo for Android', 'eBay Kleinanzeigen for Germany', 'Mental Hospital:EB 2 Lite', 'EB Annual Meetings', 'UP EB Bill Payment & Details', 'EB-Banking (ersetzt)', 'Tamilnadu EB Online Payment', 'Online Kerala EB Bill Pay', 'EB Remote Deposit', 'EB-Chat – For my Events', 'বাংলাflix', 'EB Experience', 'TNEB Quick Pay Easy', 'TNEB', 'TNEB Bill Checker / TNEB Bill Status', 'Skin Disease', 'Schlaumeier', 'Bihar Land Records - RoR and EB Quick Pay', 'TNEB Reading', 'Eb & flow Yoga Studio', 'Audiowalk EB', 'RPG ブレイジング ソウルズ アクセレイト', 'Tamilnadu Electricity Info', 'Punjab Online - Land Records • EB Bill Pay • RC/DL', 'energyly (TNEB,BESCOM,MH,DL..)', 'Paraglider Dashboard', 'Goodbox - Mega App', 'Exército Brasileiro', 'EB Cash Collections', 'TN Electricity (TNEB)', 'Electrician Calculator Pro', 'Call Blocker - Blacklist, SMS Blocker', '英漢字典 EC Dictionary', 'EC - AP & Telangana', 'TN EC Online New', 'TN Patta, Chitta, EC', 'TN Patta Chitta EC Info', 'EC music dictionary', 'EC Security', 'TN Patta Citta & EC', 'EC - Encumbrance Search - telangana state', 'Ec Solutions Mobile', 'Encumbrance Certificate - (Obsolete)', 'My Handbook : EE, EC, EI, E&T, EEE, EECS', 'ec-Work', 'ec.tv', 'EC-HRV test', 'EC MANAGER', 'Barry EC', 'New Holland Agriculture T5 EC', 'tv-ec', 'EC Taximeter', 'Walk Freely (Ec Shlire)', 'EC Apps List', 'AP Stamps and Registration', 'EC Calgary', 'Victoria EC', 'EC SPORTS', 'ECナビ×シュフー', 'EC Designer 2.0', 'Arrayanes EC', 'EC Reps', 'EC QR', 'EC Tax', 'EC Fairgrounds', 'CompactiMa EC pH Calibration', 'Kiamichi EC', 'EC Games Datecs', 'TN Patta /Chitta /EC New', 'HOLSTON EC', 'FILL EC', 'Marítimo EC', 'EC-Contractors', 'GATE Syllabus for EC 2018 & Notifications', 'EC Sampler', 'EC Mover', 'SCS eC', 'My EF', 'EF Mentor: Words', 'EF Smart English for Phone', 'My EF Center', 'EF Mentor: Sounds', 'EF English Live Business', 'EF Classroom', 'EF English Live for phone', 'EF Smart English', 'EF English Live Business Tablet', 'EF English Live for tablets', 'EF Parеnts', 'EF Teacher', 'English Bite', 'EF/VR – VR Tours of EF Schools', 'EF Events', 'EF Go Ahead Tour Companion', 'EF Summits', 'EF Sidekick', 'EF-myHR', 'EF Spelling Bee', 'Education First FCU Mobile', 'Travelmoji', 'EF Forms', 'EFAmbassador', 'Agenda EF', 'EF App', 'EF Lens Simulator', 'EF Coach', 'e-Docente EI/anos iniciais EF', 'EF Universe: Endless Battle', '[EF]ShoutBox', 'EF Catalogues · Kataloge', 'EF Staff', 'EF Academy', 'EF First', 'Financial Calculator Pro EF', 'Carrier Landings Pro', 'EF Calculator', 'EF Utilities', 'EF Financial Control Free', 'أحداث وحقائق | خبر عاجل في اخبار العالم', 'Diário Escola Mestres EF', 'EF Jumper', 'StudyLock - Education First', 'E.F.JUVENTUD MADRID', 'English Conversation Courses', 'eG Monitor', 'E.G. Chess Free', 'EG SIM CARD (EGSIMCARD, 이지심카드)', 'EG-Boost', 'EG Mantenimiento', 'EG CrossPad - ASPECT4', 'EG CrossPad', 'EG Player', 'Bee Mobile EG', 'EG', 'E.G. Chess', 'EG SIM CARD (EGSIMCARD)', 'EG Retail', 'EG Movi', 'EG Groups', 'EG Way Life', 'EG Tax Service', 'Energenie EG-PM1W Setup Wizard', 'qEG APP / Química EG SRL', 'EG Classroom Decimals™', 'EGW Writings 2', 'Alipay', 'EG | Explore Folegandros', 'EGW Writings', 'Bible with EGW Comments', 'Eg Call', 'EG India', 'Fashion Pony Girls Dress Up Makeup Game', 'My Little Pony AR Guide', 'MY LITTLE PONY: Magic Princess', 'Equestria Girl Snapchat Addict', 'L.A. Crime Stories 2 Mad City Crime', 'LA Stories 4 New Order Sandbox 2018', 'SDA Sabbath School Quarterly', 'Sirens Fashion Style Game', 'Equestria Amino for MLP', 'Propertyfinder', 'L.A. Crime Stories Mad City Crime', 'My Little Pony: Story Creator', 'Pocket Little Pony', 'Dance Magic Fashion Style Games', 'Inventory & Barcode scanner & WIFI scanner', 'MLP Colouring Adventures', 'Fashion Girls Dress up Makeup', 'Home Pony 2', 'Eh Volevi!', 'VITEK EH DVR Viewer (Pro)', 'Eh Bee Wallpapers HD', 'EH!', 'Me-eh', 'Arogyam EH', 'Betul Ke Bohong Eh?', 'EH National Mobile Banking', 'EH Autolink', 'Eh Amego!', 'Eh Plus English Application', 'EH kontrollrakendus', 'Fit the Fat 2', 'My Theme Park: RollerCoaster & Water Park Tycoon', 'Doomsday Preppers™', 'TAXI DRIVER', 'Crazy Doctor', 'MazeMilitia Classic Multiplayer Shooting Game', 'Endress+Hauser Operations', 'ZOMBIE RIPPER', 'Soldiers of Glory: Modern War', 'Driving School 3D 2017', 'Retro Camera', 'Horror Hospital', 'Ludo Family Dice Game', 'Mad Skills Motocross', 'Masterchef Cooking Games: Fun Restaurant & Kitchen', 'US Army Training Courses Game', 'Pineapple Pen', 'Instant Buttons: The Best Soundboard', 'Guess The Emoji', 'Camping RV Caravan Parking 3D', 'Grand Bat Superhero Flying Assault Rescue Mission', 'Zombie Frontier', 'eHub', 'Voice Changer', 'Heart Surgery Emergency Doctor', 'RUN JUMP RUN-fun games for free', '100 Doors of Revenge', 'Lie Detector Prank', 'Virtual Mother Surgery Doctor : Emergency Hospital', 'Princess Palace: Royal Pony', 'EI Mobile', 'TAMAGO', 'Ei Electronics AudioLINK', 'Ei Samay - Bengali News Paper', 'Vital Tones EI Pro', 'EI HabitTracker', 'NEMA ei', 'ei', 'the Egg - crack the egg', 'Yeled EI', 'EI SmartMiles', 'Code on the egg', 'Sensenuts eI', 'EI!', 'EI App 1', 'EI Calculator', 'Verdant EI', 'Tamago egg', 'Ei-ij Spelling Dutch', 'Esporte Interativo - Notícias e Resultados Ao Vivo', \"Let's Poke The Egg\", 'Egg', 'ei Calc', 'Disaster Will Strike', 'Egg: clicker', 'Egg for Pou', 'EI App 2', 'Survival: Prison Escape', 'Crack the blue angry birds egg', 'Tamago Tap Clicker Egg', 'Tap The Easter Egg!', 'Esporte Interativo Plus', 'EI国际', 'Egg Baby', 'Surprise Eggs', 'Crack Attack', 'Aaj Bangla: ei samay er khobor', 'Break the Egg', 'Kolkata News:Anandbazar Patrika,ei samay&AllRating', 'PJ Masks: HQ', 'Ei Somoy & Dainik Sangbad & Statesman (PDF)', 'TAMAGO Monsters Returns', 'EJ.by', 'EJ Elite Prospects League', 'Super Sport Car Simulator', 'EJ Insight', 'Ambulance Rescue Simulator 17', 'EJ Trívia Game', 'Bad Piggies HD', 'EJ messenger', 'Traffic Sniper Counter Attack', 'Rope Superhero Unlimited', 'Painel EJ SSH - INTERNET GRÁTIS', 'EJ Ecuador', 'Ej-buy', 'Extreme Super Car Driving 3D', 'Footej Camera', 'Sport Car Simulator', 'Fast Racing Car Simulator', 'Silence Premium Do Not Disturb', 'パーリーゲイツ公式通販｜EJ STYLE（イージェイスタイル）', 'Beach Head Shooting Assault', 'Stickman Warriors Heroes 2', 'Dead Target Zombie Shooting US Sniper Killer Squad', 'Learn Music Notes', 'Luxury Car Simulator', 'Dubai Racing', 'Office Bike Racing Simulator', 'Pregnant Mom Surgery Newborn Twins Baby Birth Care', 'Pet Beauty Salon', 'Booking Revolution', 'Nights Keeper (do not disturb)', 'Farming Simulator 16', 'Lily & Leo - Crazy Circus Day', 'WIZARD Card Game', 'Period Tracker, Pregnancy Calculator & Calendar 🌸', 'Fake Call From Wengie Prank', 'Robot Fighting Games™ - Real Boxing Champions 3D', 'Ghost Hunting camera', 'Santa Panda Bubble Christmas', 'TeamWard – live help for LoL', '3D Metal Piano Keys Keyboard Theme', 'OffRoad US Army Train Driving Simulator', 'Do Not Disturb! 2 - Challenge Your Prank Skills!', 'WiFi Tether Router', 'Local weather Forecast', 'Kiss Me! Lip Kissing Test', 'Smoke Effect Name Art Maker-Avatar Text Art Editor', 'ek tuhi', 'Master E.K', 'EK Platinum', 'EK Bailey Preaching Conference', 'Ek Maratha', 'Ek Onkar', 'Racing Moto', 'Pyaar Ek Dhoka hai Game - Anti Valentines', 'Pyaar Ek Dhoka', 'Ek Biladi Jadi Video Song', 'Duaa Ek Ibaadat', 'Ek Onkar Mantras', 'Alex Fuel Calculator for EK', 'Ringtones Of Ek Onkar', 'EK Carevec', 'Ek Kahani Aisi Bhi Season 2 - The Horror Story', 'Ek Bander Ne Kholi Dukan', 'Hum Ek Hain 2.02', 'Ek Kahani Aisi Bhi Season 3 - The Horror Story', 'Ek IRA', 'Sanu Ek Pal Chain - Raid', 'Sai Baba - Sabka Malik Ek', 'Ek Vote', 'Asha Ek Hope - ALS/ MND', 'Meslek Lisesi YGS Ek Puan', 'Airplane Pilot Car Transporter', 'Mahila Vashikaran(Ek rat me)-Hindi', 'Ek Kauwa Pyasa Tha', 'Train Racing Games 3D 2 Player', 'Video Maker with Photo and Music', 'SIM Card Info', 'Toilet Ek Prem Katha Songs Lyrics in Hindi', 'Ek Do Teen Song Videos - Baaghi 2 Video Songs', 'Sanu Ek Pal Chain Song Videos - RAID Movie Songs', 'Ek Qissa He Quran Se (Qurani Waqiyat)', 'Lyrics of Ek Paheli Leela', 'Ek-yatri: Travel where you Belong', 'Exiled Kingdoms RPG', 'Sabka Malik Ek Sai', 'Voice Lock Screen', 'Shabad Gurubani Punjabi mp3 free - Ek Onkar Satnam', 'Bus Driver 3D: Hill Station', 'Extreme Motorbike Jump 3D', 'el', 'El Pollo Loco - Loco Rewards', 'El Chavo', 'EL AL Flights', 'DreamStream By EL AL', 'Learn English with El Chavo.', 'Learn Math with el Chavo', 'El Nuevo Día', 'EL NORTE', 'El Nueve', 'El Laberinto del Demonio 3D', 'Monastery of El Escorial', 'Learn to code with el Chavo', 'El Falı', 'El Laberinto del Demonio 2', 'TV Local El Salvador', 'Tigo Money El Salvador', 'Hangman', 'Explora con el Chavo', 'El Dorado App', 'Adivina el cantante de Trap y Reggaeton', 'The translator', 'Fernanfloo', 'Weather 14 Days', 'The dollar in mexico', 'Real Madrid App', 'OWLIE BOO', 'Trazado de tuberia El Tubero', 'Adivina el Emoji', 'The Holy Rosary', 'Western Union US - Send Money Transfers Quickly', 'Maps, GPS Navigation & Directions, Street View', 'Red Hands – 2-Player Games', 'Narcos: Cartel Wars', \"Get 'Em\", 'EM Launcher for EMUI', 'Live Hold’em Pro Poker - Free Casino Games', 'Beach Shoot Em Up: Head Hunter', \"Connect'Em\", \"Stick 'Em Up 2 Starter Edition\", 'Shoot`Em Down: Shooting game', 'Texas Hold’em Poker + | Social', \"PlayTexas Hold'em Poker Free\", 'EM Launcher Pro', \"HAWK – Force of an Arcade Shooter. Shoot 'em up\", 'Shoot Em Down Free', \"Texas Hold'em Poker\", 'Nuke Em All', \"Poker Equity Calculator Pro for No Limit Hold'em\", \"Poker Live! 3D Texas Hold'em\", \"Fun Texas Hold'em Poker\", 'Elevator Simulator Lift EM ALL', 'Dragonplay™ Poker Texas Holdem', 'Punch em', 'Zynga Poker – Texas Holdem', 'Boyaa Poker (En) – Social Texas Hold’em', 'World Series of Poker – WSOP Free Texas Holdem', \"Connect'Em Halloween\", 'Texas Holdem Poker Pro', 'Rage Fight of Streets - Beat Em Up Game', \"HANGAME Casino - Baccarat & Texas Hold'em\", 'PokerStars Play: Free Texas Holdem Poker Game', \"Yoong: Kick 'Em Up!\", 'Texas Holdem Poker', 'Instabridge - Free WiFi Passwords and Hotspots', 'Big Fish Casino – Play Slots & Vegas Games', 'Em Fuga Brasil', 'LocaToWeb - Live GPS tracking', 'TRANSFORMERS: Forged to Fight', 'Texas Holdem & Omaha Poker: Pokerist', 'Governor of Poker 2 - OFFLINE POKER GAME', 'Squadron - Bullet Hell Shooter', 'Telemundo Deportes - En Vivo', 'Holy Knight EN', 'Hello English: Learn English', 'English in a Month Free', 'Words With Friends – Play Free', 'FRANCE 24', 'JW Library', 'Learn Body Parts in English', 'ai.type keyboard Plus + Emoji', 'Learn English Daily', 'Orfox: Tor Browser for Android', 'NewsDog - Latest News, Breaking News, Local News', 'Keyboard ManMan', 'RightNow English Conversation', 'HTC Sense Input - EN', 'Classic Words Solo', 'Ginger Keyboard - Emoji, GIFs, Themes & Games', 'English Audio Books - Librivox', 'Learn Top 300 English Words', 'Univision Deportes: Liga MX, MLS, Fútbol En Vivo', 'English Hindi Dictionary', 'English to Hindi Dictionary', 'EO.TRADE - Coin sale', 'EO Network', 'The EO Bar', 'EO Mumbai', 'EO Global', 'EO SouthAsia', 'EO RAIPUR', 'EO Forum', 'EO Events', 'EO KOREA', 'EO App. SelfCompassion to you', 'EO GSEA', 'EO Guide', 'EO SA Benefits', 'FAST EO', '23rd QM BDE EO', 'EO Bijbel Open', 'EO LAC', 'EO Hub', 'Kenny e o Cupcake', 'EO', '4Eternity EO', 'Masha and the Bear', 'Free games: Masha and the Bear', 'Masha and the Bear- House Cleaning Games for Girls', 'EO Hotels', 'Masha and the Bear - Hair Salon and MakeUp Games', 'Masha and Bear: Cooking Dash', 'Masha and the Bear: Evolution', 'Cryptocurrency Trading - How To Trade Crypto', 'Masha and the Bear. Games for kids', 'Masha and The Bear Jam Day Match 3 games for kids', \"Where's My Water?\", 'O Céu e o Inferno', 'Urban Car Simulator', 'Masha and the Bear: House Cleaning Games for Girls', 'Masha and The Bear Puzzle Game', 'Masha and the Bear. Educational Games', 'Bluetooth Pair', 'Sports Car Driving Simulator 2018', 'Masha and the Bear: Good Night!', 'Masha and the Bear: Climb Racing and Car Games', 'Out There Chronicles - Ep. 1', 'EP FCU', 'EP Home Energy Hub', 'EP', 'EP Spotter', 'EP Mobile', 'EP RSS Reader', 'Out There Chronicles - Ep. 2', 'EP Cloud', 'eP Scanner', 'EP McGuffey Primer', 'EP Church Annapolis', 'EP Horlogerie', 'ep-liggare - Elektronisk personalliggare', 'EP Calipers', 'EP Radio', 'EP Joaillerie', 'Tester EP', 'The Great Wobo Escape Ep. 1', 'The Visitor: Ep.2 - Sleepover Slaughter', 'Superbrothers Sword & Sworcery', 'EP Lab Digest', 'EP Research Service', 'eP Finder', 'EP Music', 'EP Coding', 'EP Kalkulator el. energije', 'The Great Wobo Escape Ep.1', 'The Visitor: Ep.1 - Kitty Cat Carnage', 'EP Cook Book', 'Dr.Slender Ep 1 Guide (Eng)', 'Decay: The Mare - Ep.1 (Trial)', 'EP Search and Find', \"What's Your Story?™ ft Charmed\", 'EP Gem Hunter', 'EP Chain Reaction', 'Gate Of Death Ep: 1', 'EP Mobil', 'Sonic 4™ Episode I', 'Naruto Shippuden - Watch Free!', 'Lean EQ', 'Operate Now: Hospital', 'Multi Surgery ER Emergency Hospital : Doctor Game', 'ER Surgery Simulator', 'Dentist Surgery ER Emergency Doctor Hospital Games', 'Eye Transplant : ER Emergency Hospital', 'Lifeguard Beach Rescue ER Emergency Hospital Games', 'Hospital ER Emergency Heart Surgery: Doctor Games', 'Superhero Doctor 2 -ER Surgery', 'ER', 'Noot-Noot-er!', 'Doctor X - ER On Wheels', 'Foot Surgery Hospital Simulator: ER Doctor Games', 'ER Heart Surgery - Emergency Simulator Game', 'Pregnant Mom ER Emergency Doctor Hospital Games', 'Doctr – ER wait times in Canada', 'Plastic Surgery Surgeon Simulator Er Doctor Games', 'Shoulder Surgery ER Emergency Doctor Game', 'Superhero Doctor 3 ER Surgery', 'Mom Doctor ER Emergency Family Game', 'ER Blood Draw Doctor & Surgeon', 'ER Emergency Hospital - Brain, Knee, Eye Surgery', 'Super Doctor 1-Pregnant Mom ER Surgery Simulator', 'Multi Surgery Hospital Pro: Virtual Doctor ER Game', 'Clumsy Santa ER Surgery', 'Little Eye Surgery Simulator - ER Doctor Game', 'Spinal Cord Surgery Doctor: Operation ER surgery', 'ER Neck Surgery: Hospital Christmas Emergency', 'Super Doctor 2 - My Newborn Baby ER Injection', 'Virtual Brain Surgery Simulator : Kid ER Emergency', 'Crazy ER Open Heart Surgery Simulator', 'ER Injection Simulator: Blood Test Doctor Hospital', 'Kids Doctor ER Emergency Rescue Kids Hospital Game', 'Heart Surgery Doctor - ER Emergency Game', 'Virtual Mom Surgery Doctor : ER Emergency Hospital', 'ER Doctor Kids Emergency Room', 'ER Assist', 'Blood Injection : ER Emergency Doctor ER injection', \"Lead'er\", 'Doctor Games For Girls - Hospital ER', 'Open Heart Surgery Hospital ER: Crazy Doctor Sim', 'Hand Doctor Games ER Surgery Simulator', 'Get SMART ER/LA Opioids', 'ER Doctor City Emergency - Surgery City Doc FREE', 'ER Hospital Simulator', 'DMC ER Now', 'Nose Surgery ER Simulator Lite', 'FAHREDDİN er-RÂZİ TEFSİRİ', 'Cardinal Glennon ER Reference', 'Scanner Radio - Fire and Police Scanner', \"Fill 'er Up\", 'SnakeBite911 ER', 'Ankle Surgery ER Emergency', 'Voxer Walkie Talkie Messenger', 'ES File Explorer/Manager PRO', 'ES Task Manager (Task Killer )', 'ES Audio Player ( Shortcut )', 'ES Disk Analyzer - Storage Space', 'ES App Locker', 'ES Chromecast plugin', 'ES Material Theme for Pro', 'ES Holo Theme for Pro', 'ES File Explorer', 'ES Dark Theme for free', 'ES Classic Theme', 'ES Themes -- Classic Theme', 'ES Holo Theme', 'ES File Explorer & Manager, Locker Xplorer 2018', 'ES Summer Chill Theme for Free', 'Furrion ES Control', 'OpenGL ES Extensions - The OpenGL Utility', 'File Ex - ES File Explorer', 'OpenGL ES CapsViewer', 'ES-IPTV', 'OpenGL-ES Info', 'Dr. ES PV Calculator', 'ES File Explorer & File Manager 2018', 'HTC Sense Input - ES', '2019 Tricks Es File Explores', 'ES Billing System (Offline App)', 'ES Anywhere', 'YEBIS OpenGL ES 3.0 Tech Demo', 'RAR', 'Advanced calculator fx 991 es plus & 991 ms plus', 'ES Solar', 'File Manager by Xiaomi: release file storage space', 'ESLock File Recovery Lite', 'Castle Clash: Epic Empire ES', '¿Es Vegan?', 'ES-1', 'School scientific calculator fx 500 es plus 500 ms', 'Esto Es Guerra TVN', 'Economic Times : Market News', 'ET Markets : NSE & BSE India', 'ET Telecom from Economic Times', 'Égalité et Réconciliation', 'Economic Times : Market News Go Edition', 'Hymnes et Louanges', 'Lire avec Sami et Julie', \"Lettre et demande d'emploi\", 'MAPS.ME – Offline Map and Travel Navigation', 'Recettes Faciles et Rapides', 'Blagues et Histoires Drôles', 'Lettre de motivation et CV', 'Anime et Manga Amino en Français', 'Google Arts & Culture', 'Photo Lab Picture Editor: face effects, art frames', 'Empires and Allies', 'Beauty and the Beast', 'Hornet - Gay Social Network', 'Learn Italian with MosaLingua', 'iTranslate Translator & Dictionary', 'Oggy', 'MomentCam Cartoons & Stickers', 'News by The Times of India Newspaper - Latest News', 'Pocket Mortys', 'Ideal Weight, BMI Calculator', 'Epson iPrint', 'Voice changer with effects', 'Fitness & Bodybuilding', 'A+ Gallery - Photos & Videos', 'EU Mobile Money', 'European Union Simulator', 'EU Charter', 'EU Council', 'EU Flags Free Live Wallpaper', 'myLPG.eu', 'YouCamp EU', 'EU Economy', 'Flag of European Union', 'EU Data Protection', 'Flag Of European Union LWP', 'European Union Flag LWP', 'Council Voting Calculator', 'EU Flags Live Wallpaper', 'EU FTL Calculator', 'The EU Relocation Programme', 'Passenger rights', 'EU Mobile Money Partenaire Commercial', 'Eurostat Country Profiles', 'EU in the World', 'My EU', 'Invasion: Defend EU', 'R-EU-READY', 'taxi.eu', 'CVRIA', 'Speed Racing Ultimate 2', 'EU Flag Live Wallpaper', 'TAXLANDIA', 'European Solidarity Corps', 'Have your say on Europe', 'EU CBRNE Glossary', 'Doorstep EU', 'EURES - Your Job in Europe', 'Autoroute.EU', 'Invasive Alien Species Europe', 'Countries of the European Union (Quiz)', 'EU Exit poll', 'Schengen/EU App', 'I Know Stuff', 'EU WHO War', 'Lazionews.eu', 'Brexit EU', 'Eu sou Rico', 'EU Life Explorer', 'E.U. Trademark Search Tool', 'EU VAT Checker', 'Dotti EU', 'EU RCD Guide', 'daskal.eu', 'Intra- and extra-EU trade data', 'Programi podrške EU', 'EU FP7 Adventure', 'GastroHunter.EU', 'EU IP Codes', 'Eu Sou Rico', 'MOTOBAZAR EU', 'TattooSupplies.eu', 'IF YOU TO EU PEGO', 'VAT Checker for EU company', 'Inbox.eu', 'CALIOPE EU: Air Quality', 'Konferencija.eu', 'Reisedealz.eu', 'Going Abroad', 'EU GDPR RiskCalc', 'EU Whoiswho', 'EU Brazil Green Business Forum', 'EU-Schwerbehinderung', 'SK Bosnia Online EU Teplice', 'Campervan.Guide Pro', 'Qserve EU MDR First Aid', \"I'm Rich/Eu sou Rico/أنا غني/我很有錢\", 'TrainPal EU- Book German Train Tickets', 'NativeScript Developer Day EU', 'EU FP7 SAM', 'Rail Planner Eurail/Interrail', 'eu sou franky', 'Tasker', 'efootwear.eu - online store', 'ChargeHub - Find EV & Tesla Charging Stations', 'PlugShare', 'NEXTCHARGE - Charging Stations', 'NissanConnect® EV & Services', 'EV Connect', 'HondaLink EV', 'EV Stations Hawaii', 'Emerge EV App (eBike App)', 'EV Trip Optimizer for Tesla', 'JuiceNet - Smart EV Charging', 'Zap-Map: EV charging points UK', 'EV Charging', 'Simple EV Calc', 'CHOSEN - EV Smart Charger', 'Electric Car Charging Points: Ev charger Stations', 'ELMO EV Charging', 'Bolt - EV Charging Service', 'To-U - free EV public charging', 'Light Meter - EV', 'Mas Akıllı Ev', 'EV Finder', 'SpeedApp EV', 'EV Real Estate Search', 'Ev Dizayn', 'Power Plug EV charger', 'Builder Craft: House Building & Exploration', \"Texas Hold'em EV Calculator\", 'Bird - Enjoy The Ride', 'AÖF Ev İdaresi 1. Sınıf', 'EV Bon Dictionary', 'German Vocabulary Trainer', 'REV Robotic Enhance Vehicles', 'myChevrolet', 'Electric Car Taxi Driver: NY City Cab Taxi Games', 'EV Calculator', 'Home Decoration Game', 'EvAk Smart Home', 'PokeType - Dex', 'Survival Forest : Survivor Home Builder', 'Room Creator Interior Design', 'Doll House Design & Decoration 2: Girls House Game', 'Lux Home Decorating Room Games', 'eCooltra: scooter sharing. Share electric scooters', 'Design Home', 'E.W. James & Sons', 'EW Manager', 'PeopleTV - Watch Celebrity News', 'ew-Magazin', 'EW PDF', 'EW Gate', 'E W Bookkeeping & Accountancy', 'News 5 Cleveland', 'EW Login', 'Water Surfer Racing In Moto', 'EW Handbook', 'Mee-EW', 'EW Widgets for Zooper', 'Ew, the small alien', 'The List', 'EW MOTION THERAPY', 'European War 6: 1804', 'XCOM®: Enemy Within', 'EW Neuron Scan', 'ABC15 Arizona', 'NATIVE ENTERTAINMENT MAGAZINE - ISSUE # 1', 'Mobile Strike', 'European War 5:Empire', 'KMTV 3 News Now', 'Rescue Robots Survival Games', 'Raytheon F-16 EW 360 VR', 'Pregnant Emergency Surgery', 'Eddsworld Amino', 'TMJ4.com - WTMJ-TV Milwaukee', 'Storm Shield', 'EdiRange', 'TRANSFORMERS: Earth Wars', 'Beard Live Camera Photo Editor', 'WPTV 5 West Palm Beach', 'No Pimple - Fun games', 'WKBW 7 Eyewitness News', 'OMG Gross Zit - Date Nightmare', 'Garden Fever - Free!', 'GO SMS PRO EMOJI PLUGIN', 'Bike Race - Bike Blast Rush', 'Subway Simulator 3D', 'XCOM: TBG', 'ETERNITY WARRIORS 2', 'XE Currency', 'Deus Ex GO', 'ADWLauncher 1 EX', 'XE Currency Pro', 'GO Launcher EX UI5.0 theme', 'Device Info Ex Live Wallpaper', 'GO Weather EX Theme White', 'Advanced EX for HYUNDAI', 'MIUI Style GO Weather EX', 'Remote EX for NISSAN', 'Ex Explorer : Dual view exproler / file manager', 'Get Over Your Ex', 'Advanced EX for MITSUBISHI', 'Advanced EX for KIA', 'Money Manager Ex for Android', 'Advanced EX for NISSAN', 'Advanced EX for FIAT', 'Advanced EX for RENAULT', 'EX File Explorer File Manage Pro', 'Aurum Blade EX', 'SCI-Ex', 'Papyrus Ex', 'GLASS GO Launcher EX Theme', 'Moonlight GO Weather EX', 'My Ex Girlfriend Comes Back', 'An Elite Warrior Ex', 'Gods Wars Ex : Vampire', 'BakaReader EX', 'Snes9x EX+', 'X your Ex - Break Up Treatment', 'Ex Quotes', 'GO Contacts EX Black & Grey', 'CYANOGEN GO Launcher EX Theme', 'Ex Service Taxis', 'Rejoin Your Ex', 'S.O.L : Stone of Life EX', 'How To Get Your Ex Back Fast', 'ExDialer PRO Key', 'Volume Control Ex', 'Virtual Dice EX', 'Black Theme Go Launcher EX', 'EY Events', 'EY GlobalOne', 'EY Team Connect', 'EY eMentor', 'EY Conferences', 'EY Africa', 'EY TaxChat', 'EY Expenses', 'EY Tax Briefing', 'EY Digital Direct', 'EY India Tax Insights', 'EY Forensics', 'EY India CFO Insights', 'EY Digital Tax AR', 'EY Divest', 'EY ATL Fuel Calculator', 'Fuel Calculator for EY', 'EY Digi India Personal Tax', 'EY Catalyst Reader', 'Pink Guy - Ey B0ss', 'EY Staff ENTERTAINER', 'EY EMEIA Diversity & Inclusion', 'Ey Sey Storytime រឿងនិទានតាឥសី', 'EY Football', 'Eyes - The Scary Horror Game Adventure', 'Amleen Ey', 'EY Events Switzerland', 'EY TaxLaw NL', 'EY-Parthenon', 'EY Belgium Inhouse Day 2018', 'Tenh Ey', 'EY Oil & Gas', 'Coupe Adhémar EY 2017', '哈哈姆特不EY', 'Adhenarcos - Coupe Adhemar EY 2018', 'Third Eye', 'Sudoku Master', 'Jungle Monkey Run', \"Hey That's Pretty Good!\", 'Everbridge', 'I am Dentist - Save my Teeth', 'Best Auto Call Recorder Free', 'EyPools', 'Etihad Airways', 'Beach Volleyball 3D', 'Organizer', 'EZ Video Download for Facebook', 'EZCast – Cast Media to TV', 'EZ Cleaner - Booster Optimizer', 'EZ PZ RPG', 'EZ Receipts', 'EZ Thanks', 'EZ Inspections', 'EZ-ELD Update', 'EZ Display', 'EZ Web Video Cast | Chromecast', 'ez Share Android app', 'EZ File Manager(Root Explorer)', 'EZ Launcher', 'EZ-SEE', 'EZ-ELD Driver App (Free)', 'Ez Mirror Match', 'EZ Notes Lite', 'EZ Bluetooth', 'Dream EZ', 'Ez Texting', 'EZ TV Player', 'EZ-GUI Ground Station', 'Ez iCam', 'E-Z App™ Train Control', 'EZ App Installer', 'EZ Clock & Weather Widget', 'EZ Pass', 'EZ Usenet for Easynews®', 'EZ View', 'EZ TAG Express', 'EZ Wifi Notification', 'EZ-VPNGate', 'EZ Switch Widget', 'EZ-Builder Mobile', 'EZ LED', 'F&M Bank - EZ Banking', 'My EZ-Link Mobile', 'EZ Financial Calculator', 'EZ Quran', 'EZ Screenshot', 'EZ Utilities Extension', 'EZ-Placard - Free Placard Calculator', 'EZ game screen recorder with audio 1080P', 'FA Player Essentials', 'HTC Sense Input - FA', 'FEABIE: Feedees, BBW, BHM & FA', 'Test Server SMS FA', 'Facebook Face to Face Events', 'FA Part 1 & 2 Past Papers Solved Free – Offline', 'CNY Slots : Gong Xi Fa Cai 发财机', 'Il Coccodrillo Come Fa', 'Hertfordshire FA', 'Farsi Keyboard', 'Golden HoYeah Slots - Real Casino Slots', 'Dio Fa Cose', 'FaFaFa™ Gold Casino: Free slot machines', 'Messenger Messenger', 'F.A Sumon songs', 'NCLEX-RN Q&A FLASH CARDS - FA Davis', 'LEADS FA', 'All AJK Board Matric Fa Fsc Results', 'Heart of Vegas™ Slots – Free Slot Casino Games', 'Authy 2-Factor Authentication', 'Facejjang', 'Block Puzzle - Wood Legend', 'Soccer 2018', 'Flash Light on Call & SMS', 'Fart sound pranks', 'Facebook Creator', 'Swift for Facebook Lite', 'Friendly for Facebook', 'Mini for fb lite', 'Faster for Facebook Lite', 'Who Viewed My FB Profile', 'Puffin for Facebook', 'Lite for Facebook Messenger', 'Profile Tracker - Who Viewed My Facebook Profile', 'Who viewed my fb profile pro★★', 'Video Downloader For FB: Save FB Videos 2018', 'Pink Color for Facebook', 'Messenger', 'Stickers for Imo, fb, whatsapp', 'Downloader plus for FB', 'Cover Camera for FB', 'MB Notifications for FB (Free)', 'MultiMessage for FB Messenger', 'Messenger Kids – Safer Messaging and Video Chat', 'FB Live', 'Phoenix - Facebook & Messenger', 'Faster Social for Facebook', 'Check Your Visitors on FB ?', 'Videos downloader for Facebook:fast fb video saver', 'Stickers for Facebook', 'Video Download For FB', 'Video Downloader for FB : Video Download with Link', 'Video Downloader for FB', 'FB Photographie', 'Lite Messenger for Facebook Lite', 'Download Facebook Photo Albums', 'Mini for Facebook lite', 'FB Advanced Search', 'funny Image Comments for FB', 'IDM for Facebook ★ Downloader', 'Unlimited Group Links - Whatsapp, FB, Telegram', 'EasyLive - FB Live Helper', 'HD VideoDownlaoder For Fb : XXVideo Downloader', 'Barca News - app for Barcelona FC Fans', 'FC Barcelona Fantasy Manager: Real football mobile', 'Classic FC 64 IN 1', 'FC Barcelona Official Keyboard', 'Barcelona Live 2018—Goals & News for Barca FC Fans', 'Barcelona News - Sportfusion', 'Barcelona Calendar', 'Barca News - FC Barcelona, World Foot & Transfers', 'FC Bayern Munich', 'FC BARCELONA EVENTS', 'Cambridge English FC', 'Barcelona Live - Goal Score & News for Barca Fans', 'Seattle Sounders FC', 'FCB Connect - FC Barcelona', '1. FC Köln App', 'File Commander - File Manager/Explorer', 'FC Porto', 'Fulham FC', 'Barcelona FC Noticias Live', 'Chelsea FC Official Keyboard', 'Burnley FC', 'Atlanta United FC', 'Barcelona Wallpaper HD', 'Sydney FC Official App', 'Birmingham City FC', 'FC Browser - Focus Privacy Browser', 'My AEK - Official ΑΕΚ FC app', 'FC Parking', 'Noticias FC Barcelona', 'Toronto FC', 'Middlesbrough FC Official', 'Galaxian(FC)', 'FC Red Bull Salzburg App', 'FC Zenit official Android app', 'Fan App for Portsmouth FC', 'Latest Barcelona News 24h', 'Mobile FC', 'FirstCry Baby & Kids Shopping, Fashion & Parenting', 'Fan App for Reading FC', 'Deportivo Toluca FC', 'Underdog FC', 'Las Vegas Lights FC', 'APOEL FC', 'FD Shift Calendar Widget', 'Bank FD Interest Calculator', 'FD VR Video Player - (Stored)', 'FD Mobile', 'Formula DRIFT', 'FD VR - Virtual 3D Web Browser', 'FD Community FCU Mobile', 'Female Daily', 'FD VR - Virtual App Launcher', 'FD VR Player - for 360 Youtube', 'FD VR Store -VR Games and Apps', 'Policy And FD Manager', 'FD VR - Virtual Reality Camera', 'Sports Lite', 'FD VR Theater - for Youtube VR', 'Story Time FD', 'FD Calculator | Term Deposit | Fixed Deposit', 'FD CANNECT', 'Financial Calculator India', 'FD Calculator (EMI, SIP, RD & Loan Eligilibility)', 'FD VR Cardboard Featured 360 Videos', 'EMI, FD, RD - Bank Calculator', 'FD VR Player - for Youtube 3D', 'RD/FD Calculator', 'FD VR Music Videos - MTV Pop and Rap in 360', 'FD VR - Virtual Photo Gallery', 'Fix Deposit Calculator (FD)', 'FD Interest Calculator', 'Deposit Calculator FD & RD', 'FD Fotografia', 'Banking Calculator', 'FD e-paper', 'FD Fitness', 'EMI/FD/RD/PV/IRR/BEP/EOQ Calc', 'EMI Calculator | FD Calculator | RD calculator', 'LineStar for FanDuel', 'HD Video Download for Facebook', 'Fire Emblem Heroes', 'Santa Fe FCU Mobile Banking', 'FE Connect', 'FE Civil Engineering Exam Prep', 'FE CREDIT - TET VUI', 'FE Mechanical Engineering Prep', 'FE Mobile', 'Comunidad De Fe Minitries', 'FE Other Disciplines Engineering Exam Prep', 'FE EN ACCIÓN RADIO', 'FE Electric & Comp Engineering', 'Caprock Santa Fe Credit Union', 'FE Chemical Engineering Exam Prep', 'Santa Fe Map and Walks', 'FE IP', 'Safe Santa Fe', 'Santa Fe New Mexican e-Edition', 'L!FE Premium Training', 'Theme for Galaxy Note FE Launcher | Live Wallpaper', 'Theme for Galaxy Note FE', 'Note FE Theme And Launcher For Samsung Galaxy', 'FE CPS', 'La Fe de Jesus', 'Santa Fe Indian Market', 'FE Connect Fhoton', 'Repair Hyundai Santa Fe', 'La Fe de Jesús', 'Santa Fe Espresso & News', 'Santa Fe Sentry', 'Santa Fe Thrive', 'FE Connect Drive-Tech', 'FE Mix - Jokes - Status - Wallpaper', 'Frases Cristianas de Esperanza y Fe', 'Theme for Samsung Galaxy Note FE', 'Santa Fe VIP Tours', 'Santa Fe App', 'Curso Básico y Avanzado la Fe de Jesús Audio-Texto', 'Ríos de Fe', 'Theme For Galaxy Note FE', 'Le Fe de Jesus', 'FG Mobile', 'FG Wallet', 'Burn Your Fat With Me! FG', 'FG On-The-Go', 'FG Autumn Photo Puzzle', 'Radio FG Paris Underground', 'FG Radio - Radios de France', 'FG SPINNER', 'FG Finder', 'FG. Chic - House Lounge Musique - Radios de France', 'BROTHER IN WARS: GUNNER CITY WARLORDS', 'Angry Birds Space HD', 'Survival Prison Escape v2: Free Action Game', 'FG VOC', 'Police Car Driver', 'Modern Sniper Strike: Best Commando Action 2k18', 'Moto Fighter 3D', 'FG Rockstar', 'BMX Boy', 'Crazy Bike attack Racing New: motorcycle racing', 'POLARIS 2MFG', 'Gun Disassembly 2', 'Fields of Battle', 'Family Guy The Quest for Stuff', 'Ambulance Simulator 3D', 'Leghe Fantagazzetta', 'Police Car Driving Sim', 'Toy Attack', 'Field Goal Tournament', 'Ghost In Photo', 'Disney Princess Palace Pets', 'Police VAZ LADA Simulator', 'Scary Video Maker', 'SnowMobile Parking Adventure', 'PBS KIDS Games', 'Zombie Sniper 3D III', \"Family Guy- Another Freakin' Mobile Game\", 'FH WiFiCam', 'HD Themes Volvo FH Trucks', 'Familial Hypercholesterolaemia', 'Familial Hypercholesterolaemia Handbook', 'Themes Volvo FH 16 Trucks', 'FH Calculator', 'Top Themes Volvo FH Trucks', 'Top Puzzles Volvo FH Trucks', 'Wallpapers Volvo FH 16 Trucks', 'Puzzles Volvo FH 16 Trucks', 'Jigsaw Volvo FH 16 Trucks', 'Shoot Hunter-Gun Killer', 'studentsLife by FH Kärnten', 'FH® Cost Lookup / FH® CCSalud', 'FH Kufstein App', 'FH App', 'HD Wallpapers Volvo FH Trucks', 'Jigsaw Puzzles Volvo FH Truck Game', 'Themes Volvo FH Trucks', 'FH School', 'FH Wallet', 'FH Dortmund FB4', 'Fast Motorcycle Driver 2016', 'Wallpapers Volvo FH Truck', 'HD Jigsaw Volvo FH Trucks', 'Jigsaw Puzzles Volvo FH Trucks', 'Angry Shark 2016', 'First Hawaiian Bank Mobile', 'FH CODE', 'Strike! Ten Pin Bowling', 'IKORO FH App Rosenheim', 'My Truck', 'Talking Tom Bubble Shooter', 'Forgotten Hill: Fall', 'Forgotten Hill Mementoes', 'EHiN-FH conferenceapp', 'BTK-FH Online Campus', 'Talking Husky Dog', 'Bubble Bird Rescue', 'Forgotten Hill: Surgery', 'Real Airplane Flight Simulator: Pilot Games', 'Dolphin and fish coloring book', 'Carpooling FH Hagenberg', 'Forgotten Hill: Puppeteer', 'Airplane Fly Hawaii', 'FiSwitch', 'Signal Info', 'Signal Spy - Monitor Signal Strength & Data Usage', 'Wi-Fi Auto-connect', 'Smart Wi-Fi Hotspot PRO', 'Talkie - Wi-Fi Calling, Chats, File Sharing', 'Portable Wi-Fi hotspot Premium', 'Avast Wi-Fi Finder', 'Police Field Interview FI Card', 'LG Hi-Fi Plus Manager', 'WeFi - Free Fast WiFi Connect & Find Wi-Fi Map', 'Talkie Pro - Wi-Fi Calling, Chats, File Sharing', 'Safe Wi-Fi', '[root] Pry-Fi', 'Sat-Fi', 'WiFi Monitor Pro - analyzer of Wi-Fi networks', 'Candy simply-Fi', 'SCI-FI UI', 'Wi-Fi Rabbit Unlock Key', 'Wi-Fi settings shortcut', 'Wi-Fi Master', 'Micro Fi', 'fi', 'Portable Wi-Fi hotspot Free', 'Wi-Fi Networks', 'FI CFL', 'Tassa.fi Finland', 'TownWiFi | Wi-Fi Everywhere', 'Jazz Wi-Fi', 'Xposed Wi-Fi-Pwd', 'Sat-Fi Voice', 'Wi-Fi Visualizer', 'Lennox iComfort Wi-Fi', 'Sci-Fi Sounds and Ringtones', 'Sci Fi Sounds', 'Free Wi-fi HotspoT', 'FJ 4x4 Cruiser Offroad Driving', 'FJ 4x4 Cruiser Snow Driving', 'Wallpapers Toyota FJ Cruiser', 'New Wallpapers Toyota FJ Cruiser Theme', 'FJ Final Join , Circles Game', 'HD Wallpaper - Toyota FJ Cruiser', 'FJ Drive: Mercedes-Benz Lease', 'Driving n Parking School 2017', 'FJ WiFi HDD', 'Offroad Cruiser', 'HD Themes Toyota Cruiser 70', 'Toyota Cruisers & Trucks Mag', '4 x4 Offroad SUV 3D Truck Simulator Driving 2017', 'Cake Shop - Kids Cooking', 'HD Themes Toyota Cruiser 60', 'HD Themes Toyota Cruiser70', 'HD Themes Toyota Cruiser 80', 'HD Themes Toyota Cruiser 50', 'OFF-ROAD SIMULATOR 4x4 : REAL', 'HD Themes Toyota Cruiser 100VX', 'HD Themes Toyota Cruiser 200', 'HD Themes Toyota Cruiser 40', 'Offroad 4x4 Car Driving', 'Motocross Beach Jumping 3D', 'Offroad drive : 4x4 driving game', 'Hair saloon - Spa salon', 'Rope Hero: Vice Town', 'Drive 4x4 Luxury SUV Jeep', 'PIP Selfie Camera Photo Editor', 'FJ-link', 'Motocross Mayhem', 'Funny Jokes', 'Flight Simulator: Fly Plane 3D', 'Motocross Fun Simulator', 'Dino Defends king 3 – Dinosaur T rex Hunter Games', 'Fast Notes FJ', 'FJ Toolkit', 'Block Gun 3D: Haunted Hollow', 'Art of F J Taylor', 'Driving Suv Toyota Car Simulator', 'Navy Gunner Shoot War 3D', 'Drift Legends', 'FK', 'FK (FlightKid)', 'FK Sūduva Marijampolė', 'Fairy Kingdom: World of Magic and Farming', 'FK Željezničar', 'FK Oleksandria', 'FK CLASSIC FOR YOU', 'FK Sileks', 'Kernel Manager for Franco Kernel ✨', 'Qarabağ FK', 'FK Sloboda Tuzla', 'FK Jelgava', 'FK Vojvodina', 'FK Liepaja', 'FK Teplice', 'FK Sarajevo', 'FK Vardar', 'Ray Financial Calculator Pro', 'FK Bregalnica Štip', 'FK Mladost Lucani', 'FK Radnicki Nis', 'FK Dukla Prague', 'FK Rad', 'FK Jablonec', 'FK Senica', 'FK Vozdovac', 'Toy Truck Rally 3D', 'FK Mladá Boleslav', 'FK Macva Sabac', 'FK Crvena zvezda', 'FK Events', 'PRO MX MOTOCROSS 2', 'FK Jonava', 'FK Željezničar Izzy', 'FK Čukarički', 'Austria Wien FK - Fussball - Inoffizielle App', 'FK Železiarne Podbrezová', 'FK Viktoria Žižkov', 'FK Zemun', 'FK Atlantas', 'FK Spartak Subotica', 'FK Dedinje BGD', 'FK Fotbal Třinec', 'FK Crvena Zvezda Izzy', 'FK Utenis Utena', 'Crazy Freekick', 'FL State Parks Guide', 'FL SW Fishing Regulations', 'Permit Test FL Florida DHSMV', 'FL Lottery Results', 'Florida DMV Permit Test -Fl', 'Lottery Results: Florida', 'Scratch-Off Guide for FL Lotto', 'Charlotte County, FL', 'Results for FL Lottery', 'Check Lottery Tickets - Florida', 'Fish|Hunt FL', 'Florida 511', 'Florida Storms', 'FL Racing Manager 2018 Lite', 'Florida Tides & Weather', 'FL Tax-Verify', 'FL House', 'FL Racing Manager 2015 Pro', 'Lottery Driver- Florida Result', 'Florida Travel Guide', 'The Florida Trail Guide', 'Florida - Pocket Brainbook', 'Lottery Ticket Checker - Florida Results & Lotto', 'Florida Statutes (FL Code)', 'Discovery Church Florida', 'FL Racing Manager 2018 Pro', 'Florida Driver License Test', 'Free Florida DMV Test 2018', 'Canvas FL', 'Florida Lottery Results', 'Florida Cooling Supply HVAC', 'Restaurant Inspections - FL', 'Florida Keys', 'South Florida AA Meetings', 'Florida Travel Guide - TOURIAS', 'Florida State Gameday', 'FL Bankers', 'Fort Myers FL', 'News-Journal-Daytona Beach, FL', 'Florida map', 'Trinity Church Deltona, FL', 'FL Drone 2', 'Beacon Baptist Jupiter, FL', 'Clearwater, FL - weather and more', 'University of Florida', 'Ocala Star Banner, FL', 'Alachua County Sheriff FL', 'Lotto Results - Mega Millions Powerball Lottery US', 'Jax Sheriff (FL)', 'Results for FL Lottery (Florida)', 'Hidden Object Florida Vacation Adventure Fun Game', 'WFLA News Channel 8 - Tampa FL', 'Florida Beach Wallpapers HD', 'MY GULFPORT FL', 'My MLS App', 'Employ Florida Mobile', 'St. Petersburg, FL - weather and more', 'LifePoint Church - FL', \"WSVN • South Florida's Source for Weather\", 'PriorityONE Credit Union of Fl', 'Florida Wildflowers', 'Florida Blue', 'ORLANDO FLORIDA MAP', 'Florida Tech Mobile', 'Florida Offline Road Map', 'Florida Map offline', 'The Ledger - Lakeland, Florida', 'FRONTLINE COMMANDO', 'Gainesville Florida Police Department', 'Gainesville Bus Tracker', 'Florida Today', 'Florida HSMV Driver License', 'WSVN - 7 News Miami', 'WICShopper', 'First Federal Bank of Florida', 'South Florida MLS', 'Football Manager Mobile 2018', 'FN Cam', 'How it Works: FN SCAR assault rifle', 'FN pistol Model 1906 explained', 'FN pistol model 1903 explained', 'FutureNet your social app', 'Jigsaw Puzzles FN FAL Light Automatic Rifle', 'Wallpapers FN Herstal FNP 9', 'Ninja FN Button', 'Wallpapers FN SCAR H', 'Wallpapers FN F2000', 'Wallpapers FN Five seven', 'FN', 'Wallpapers FN FAL Light Automatic Rifle', 'The FN \"Baby\" pistol explained', 'FN FAL rifle explained', 'F N Bail Bonds', 'The FN HP pistol explained', 'SB · FN 1870 Mobile Banking', 'PIP-Camera FN Photo Effect', 'Bullet - FN Theme', 'FN model 1900 pistol explained', 'Pistolet FN GP35 expliqué', 'FN Web Radio', 'Gun Builder ELITE', 'FNH Payment Info', 'Magnum 3.0 Gun Custom SImulator', 'Pistolet FN 1906 expliqué', 'Circle Colors Pack-FN Theme', 'Calculator Fn', 'Pint - FN Theme', 'HAL-9000 - FN Theme', 'Solitaire+', 'Fresh News', 'Future Cloud', 'Fruit Ninja Classic', 'Hunting Safari 3D', 'Gun Club Armory', 'Ethical Hacking', 'Armed Cam Gun Pack', 'Zombie Defense', 'Fo File Manager', 'Alarm.fo – choose your info', 'FO Bixby', 'Pin-fo', 'MARKET FO', 'FO OP St-Nazaire', 'FO SODEXO', 'FO RCBT', 'FO Interim', 'Mu.F.O.', 'FO PSA Sept-Fons', 'FO BOULANGER', 'FO AIRBUS TLSE', 'F-O-Meter', 'Theme fo Oppo A30 Wallpaper & Icon', 'Fo Fo Fish', 'FO STELIA Méaulte', 'RRIMS FO', 'Neon Blue Gaming Wallpaper&Theme fo Lenovo K8 Note', 'Photo Editor Collage Maker Pro', 'Custos F.O.', 'FO AIRBUS Nantes', 'Stylish Fonts', '4x4 Jeep Racer', 'Lalafo Pulsuz Elanlar', 'My Earthquake Alerts - US & Worldwide Earthquakes', 'FunForMobile Ringtones & Chat', 'Free Slideshow Maker & Video Editor', 'Frontline Terrorist Battle Shoot: Free FPS Shooter', 'BankNordik', 'Sona - Nær við allastaðni', \"Mad Dash Fo' Cash\", 'Launcher Theme for LG K10 2018', 'Mobile Kick', 'English To Shona Dictionary', 'Posta App', 'Thumbnail Maker', 'Fon WiFi App – WiFi Connect', 'MOD-MASTER for Minecraft PE (Pocket Edition) Free', 'MX Player Codec (ARMv7)', 'FeaturePoints: Free Gift Cards', 'Draw with FP sDraw', 'FP Click sound changer', 'FP Connect', 'FP VoiceBot', 'FP-safe', 'FP Legacy', 'Race Manager FP', 'FreedomPop Messaging Phone/SIM', 'PhotoFunia', 'Fingerprint Quick Action', 'GKPB FP Online Church', 'FP BW LCD View', 'FP Markets', 'FP Boss', 'FP Opgaver', 'FP Charging Daydream', 'FP Live', 'FP Runner', 'Finger Scanner Gestures', 'FP Market', 'FP FCU', 'SCM FPS Status', 'Hondata Mobile', 'FreedomPop Friends for Free Data', 'Fisher-Price® Smart Connect™', 'Fingerprint Lock Screen Prank', 'FP NFC Rewrite', 'Fast Tract Diet', 'Greek Bible FP (Audio)', 'The FP Shield', 'FP Разбитый дисплей', 'FP Transportation', 'Chat For Strangers - Video Chat', 'FreedomPop Diagnostics', 'NFP 2018', 'FQ Magazine', 'Modern Counter Terrorist FPS Shoot', 'FQ METER', 'FQ Load Board for Transporters', 'FQ India', 'Miss FQ', 'FQ - Football Quiz', 'Monster Ride Pro', 'BEBONCOOL GAMEPAD V1.0', 'Union League', 'Fortune Quest: Savior', 'Modern Counter 3: FPS Multiplayers battlegro 3', 'Modern Strike Online', 'Trine 2: Complete Story', 'Modern Counter Terror Attack – Shooting Game', 'Big Hunter', 'sugar, sugar', 'ChopAssistant', 'Modern Counter Global Strike 3D', 'Fountain Live Wallpaper HD – Dubai Wallpaper 3D', 'Modern Counter Global Strike 3D V2', 'HipChat - beta version', 'Winter Wonderland', 'Soccer Clubs Logo Quiz', 'Sid Story', 'PopStar', 'Reindeer VPN - Proxy VPN', 'Inf VPN - Global Proxy & Unlimited Free WIFI VPN', 'Fuel Rewards® program', 'Word Search Tab 1 FR', 'Fr Daoud Lamei', 'FR Roster', 'Fr Ignacio Outreach', 'FR: My Famous Lover', 'Fatal Raid - No.1 Mobile FPS', 'Poker Pro.Fr', 'Scoreboard FR', 'SnakeBite911 FR', 'My FR App', 'lesparticuliers.fr', 'Castle Clash: RPG War and Strategy FR', 'Fr Lupupa Sermons', 'FR Plus 1.6', 'Fr Agnel Pune', 'DICT.fr Mobile', 'FR: My Secret Pets! ', 'Golden Dictionary (FR-AR)', 'FieldBi FR Offline', 'HTC Sense Input - FR', 'Gold Quote - Gold.fr', 'Fanfic-FR', 'Fr. Daoud Lamei', 'Poop FR', 'PLMGSS FR', 'List iptv FR', 'Cardio-FR', 'Naruto & Boruto FR', 'Frim: get new friends on local chat rooms', 'Fr Agnel Ambarnath', 'Manga-FR - Anime Vostfr', 'Bulgarian French Dictionary Fr', 'News Minecraft.fr', 'payermonstationnement.fr', 'FR Tides', 'Chemin (fr)', 'FR Calculator', 'FR Forms', 'Sya9a Maroc - FR', 'Fr. Mike Schmitz Audio Teachings', 'Parkinson Exercices FR', 'The SCP Foundation DB fr nn5n', 'iHoroscope - 2018 Daily Horoscope & Astrology']\n",
      "\n",
      "\n",
      "Apps with duplicate entries: {'Quick PDF Scanner + OCR FREE': 2, 'Box': 2, 'Google My Business': 2, 'ZOOM Cloud Meetings': 1, 'join.me - Simple Meetings': 2, 'Zenefits': 1, 'Google Ads': 2, 'Slack': 2, 'FreshBooks Classic': 1, 'Insightly CRM': 1, 'QuickBooks Accounting: Invoicing & Expenses': 2, 'HipChat - Chat Built for Teams': 1, 'Xero Accounting Software': 1, 'MailChimp - Email, Marketing Automation': 1, 'Crew - Free Messaging and Scheduling': 1, 'Asana: organize team projects': 1, 'Google Analytics': 1, 'AdWords Express': 1, 'Accounting App - Zoho Books': 1, 'Invoice & Time Tracking - Zoho': 1, 'Invoice 2go — Professional Invoices and Estimates': 1, 'SignEasy | Sign and Fill PDF and other Documents': 1, 'Genius Scan - PDF Scanner': 1, 'Tiny Scanner - PDF Scanner App': 1, 'Fast Scanner : Free PDF Scan': 1, 'Mobile Doc Scanner (MDScan) Lite': 1, 'TurboScan: scan documents and receipts in PDF': 1, 'Tiny Scanner Pro: PDF Doc Scan': 1, 'Docs To Go™ Free Office Suite': 1, 'OfficeSuite : Free Office + PDF Editor': 1, 'WhatsApp Messenger': 2, 'Messenger – Text and Video Chat for Free': 2, 'imo free video calls and chat': 3, 'Viber Messenger': 4, 'Hangouts': 3, 'WeChat': 3, 'Telegram': 2, 'Who': 1, 'Google Voice': 2, 'Android Messages': 1, 'Firefox Focus: The privacy browser': 2, 'Google Allo': 2, 'Google Chrome: Fast & Secure': 2, 'Firefox Browser fast & private': 2, 'Puffin Web Browser': 2, 'Opera Browser: Fast and Secure': 2, 'Opera Mini - fast web browser': 2, 'UC Browser Mini -Tiny Fast Private & Secure': 2, 'UC Browser - Fast Download Private & Secure': 2, 'Calls & Text by Mo+': 1, 'Call Blocker': 1, 'Gmail': 2, 'Yahoo Mail – Stay Organized': 2, 'free video calls and chat': 2, 'Skype - free IM & video calls': 2, 'Glide - Video Chat Messenger': 1, 'Talkray - Free Calls & Texts': 1, 'LINE: Free Calls & Messages': 2, 'KakaoTalk: Free Calls & Text': 2, 'OkCupid Dating': 2, 'CMB Free Dating App': 1, 'Hily: Dating, Chat, Match, Meet & Hook up': 2, 'Hinge: Dating & Relationships': 1, 'BBW Dating & Plus Size Chat': 2, 'Casual Dating & Adult Singles - Joyride': 1, 'EliteSingles – Dating for Single Professionals': 1, 'Clover Dating App': 1, 'Moco - Chat, Meet People': 2, 'Hot or Not - Find someone right now': 2, 'Just She - Top Lesbian Dating': 2, 'Once - Quality Matches Every day': 1, 'Sudy – Meet Elite & Rich Single': 1, 'muzmatch: Muslim & Arab Singles, Marriage & Dating': 2, 'Chispa, the Dating App for Latino, Latina Singles': 1, 'Blendr - Chat, Flirt & Meet': 1, 'Find Real Love — YouLove Premium Dating': 1, 'Cougar Dating Life : Date Older Women Sugar Mummy': 1, 'stranger chat - anonymous chat': 1, 'Millionaire Match: Rich Singles Dating App': 1, 'Dating for 50 plus Mature Singles – FINALLY': 1, 'Moco+ - Chat, Meet People': 1, 'Chat Rooms, Avatars, Date - Galaxy': 1, 'FastMeet: Chat, Dating, Love': 1, 'Christian Dating For Free App': 1, 'Meet24 - Love, Chat, Singles': 1, 'Black White Interracial Dating - Interracial Match': 1, 'Gay Sugar Daddy Dating & Hookup – Sudy Gay': 1, 'Adult Dirty Emojis': 2, 'Hide App, Private Dating, Safe Chat - PrivacyHider': 1, 'Meet4U - Chat, Love, Singles!': 1, '95Live -SG#1 Live Streaming App': 1, 'O-Star': 2, 'Random Video Chat': 1, 'Black People Meet Singles Date': 1, 'Howlr': 1, 'Free Dating & Flirt Chat - Choice of Love': 1, 'Cardi B Live Stream Video Chat - Prank': 1, 'Chat Kids - Chat Room For Kids': 1, 'Transenger – Ts Dating and Chat for Free': 1, 'BBW Dating & Curvy Singles Chat- LargeFriends': 1, 'MouseMingle': 1, 'FlirtChat - ♥Free Dating/Flirting App♥': 1, 'Live Talk - Free Text and Video Chat': 1, 'Free Cam Girls - Live Webcam': 1, 'Random Video Chat App With Strangers': 1, 'Live Girls Talk - Free Video Chat': 1, 'Girls Live Chat - Free Text & Video Chat': 1, 'Free Dating App - Meet Local Singles - Flirt Chat': 1, 'iPair-Meet, Chat, Dating': 1, 'Free Dating Hook Up Messenger': 1, 'Free Dating App - YoCutie - Flirt, Chat & Meet': 1, 'Khan Academy': 2, 'TED': 3, 'Lumosity: #1 Brain Games & Cognitive Training App': 1, 'Udemy - Online Courses': 2, 'Duolingo: Learn Languages Free': 6, 'Quizlet: Learn Languages & Vocab with Flashcards': 3, 'Coursera: Online courses': 1, 'Udacity - Lifelong Learning': 1, 'edX - Online Courses by Harvard, MIT & more': 1, 'Lynda - Online Training Videos': 1, 'Learn languages, grammar & vocabulary with Memrise': 3, 'Brilliant': 1, 'Babbel – Learn Languages': 3, 'Rosetta Stone: Learn to Speak & Read New Languages': 3, 'Learn English with Wlingua': 1, 'Google Classroom': 2, 'Learn 50 languages': 1, 'Mango Languages: Lovable Language Courses': 1, 'busuu: Learn Languages - Spanish, English & More': 3, 'My Class Schedule: Timetable': 1, 'Socratic - Math Answers & Homework Help': 1, 'ClassDojo': 2, 'HelloTalk — Chat, Speak & Learn Foreign Languages': 1, 'Movies by Flixster, with Rotten Tomatoes': 2, 'IMDb Movies & TV': 2, 'Netflix': 4, 'Tubi TV - Free Movies & TV': 2, 'Crunchyroll - Everything Anime': 2, 'STARZ': 2, 'Crackle - Free TV & Movies': 2, 'CBS - Full Episodes & Live TV': 1, 'Nick': 5, 'Hulu: Stream TV, Movies & more': 3, 'FOX NOW - On Demand & Live TV': 2, 'The CW': 3, 'HISTORY: Watch TV Show Full Episodes & Specials': 2, 'HBO NOW: Stream TV & Movies': 3, 'A&E - Watch Full Episodes of TV Shows': 3, 'VH1': 2, 'Lifetime - Watch Full Episodes & Original Movies': 2, 'BET NOW - Watch Shows': 2, 'Food Network': 2, 'Viki: Asian TV Dramas & Movies': 2, 'Univision NOW - Live TV and On Demand': 1, 'SHOWTIME': 1, 'MTV': 1, 'Comedy Central': 1, 'FOX': 1, 'Telemundo Now': 1, 'Fandango Movies - Times + Tickets': 1, 'Google Pay': 3, 'Wells Fargo Daily Change': 1, 'Credit Karma': 2, 'Robinhood - Investing, No Fees': 1, 'Digit Save Money Automatically': 1, 'Acorns - Invest Spare Change': 1, 'Money Lover: Expense Tracker, Budget Planner': 1, 'Mint: Budget, Bills, Finance': 2, 'Simple - Better Banking': 1, 'PayPal': 1, 'Wells Fargo Mobile': 1, 'Capital One® Mobile': 1, 'Grubhub: Food Delivery': 1, 'Postmates Food Delivery: Order Eats & Alcohol': 1, \"Domino's Pizza USA\": 1, 'Chick-fil-A': 2, 'Zomato - Restaurant Finder and Food Delivery App': 1, 'Run with Map My Run': 2, 'Weight Loss Running by Verv': 2, 'Nike+ Run Club': 3, 'Runtastic Running App & Mile Tracker': 2, '8fit Workouts & Meal Planner': 1, 'Daily Yoga - Yoga Fitness Plans': 2, 'Pocket Yoga': 1, 'Calorie Counter - MyFitnessPal': 4, 'Seven - 7 Minute Workout Training Challenge': 1, 'Weight Watchers Mobile': 2, 'Walk with Map My Walk': 1, 'Workout Trainer: fitness coach': 1, 'Nike Training Club - Workouts & Fitness Plans': 2, 'Fitbit Coach': 1, 'Endomondo - Running & Walking': 1, 'Runkeeper - GPS Track Run Walk': 1, 'Lose It! - Calorie Counter': 2, 'Calorie Counter - MyNetDiary': 1, '10 Best Foods for You': 1, 'MyPlate Calorie Tracker': 1, 'Weight Loss Tracker - RecStyle': 1, 'Calorie Counter by FatSecret': 1, 'Calorie Counter - Macros': 1, 'My Diet Diary Calorie Counter': 1, 'Lark - 24/7 Health Coach': 1, 'Calorie Counter & Diet Tracker': 1, 'MealLogger-Photo Food Journal': 1, 'Health and Nutrition Guide': 1, 'Food Calorie Calculator': 1, 'Relax Meditation: Sleep with Sleep Sounds': 1, 'Meditation Music - Relax, Yoga': 1, '21-Day Meditation Experience': 1, 'Fabulous: Motivate Me! Meditate, Relax, Sleep': 1, 'Calm - Meditate, Sleep, Relax': 1, 'Relax Melodies: Sleep Sounds': 1, 'Simple Habit Meditation': 1, 'Headspace: Meditation & Mindfulness': 1, 'Houzz Interior Design Ideas': 3, 'Mortgage by Zillow: Calculator & Rates': 1, 'Redfin Real Estate': 1, 'Apartment List: Housing, Apt, and Property Rentals': 1, 'Realtor.com Real Estate: Homes for Sale and Rent': 1, 'Trulia Real Estate & Rentals': 1, 'Zillow: Find Houses for Sale & Apartments for Rent': 1, 'Apartments & Rentals - Zillow': 1, 'Trulia Rent Apartments & Homes': 1, 'Apartments.com Rental Search': 1, 'Vaniday - Beauty Booking App': 1, 'StyleSeat': 1, 'JOANN - Crafts & Coupons': 1, 'Fashion in Vogue': 2, 'Wheretoget: Shop in style': 1, 'My Dressing - Fashion closet': 1, 'Chictopia': 1, 'Scarf Fashion Designer': 1, 'Zara': 1, 'Subway Surfers': 5, 'ROBLOX': 8, 'Pou': 3, '8 Ball Pool': 6, 'Clash of Clans': 3, 'Candy Crush Saga': 6, 'Plants vs. Zombies FREE': 4, 'My Talking Angela': 3, 'Bubble Shooter': 5, 'Word Search': 3, 'Candy Crush Soda Saga': 2, 'Fishdom': 2, 'Block Puzzle': 3, 'Clash Royale': 3, 'Sniper 3D Gun Shooter: Free Shooting Games - FPS': 5, 'Granny': 4, 'Galaxy Attack: Alien Shooter': 2, 'Angry Birds Rio': 3, 'Zombie Catchers': 5, 'Zombie Hunter King': 3, 'Temple Run 2': 5, 'Zombie Tsunami': 4, 'Farm Heroes Saga': 4, 'Super Jim Jump - pixel 3d': 2, 'slither.io': 5, 'Angry Birds Classic': 4, 'Flow Free': 4, 'Helix Jump': 5, 'Toon Blast': 2, 'Kick the Buddy': 3, 'Magic Tiles 3': 3, 'Bowmasters': 5, 'Wordscapes': 3, 'Block Craft 3D: Building Simulator Games For Free': 2, 'PUBG MOBILE': 3, 'DRAGON BALL LEGENDS': 3, 'Harry Potter: Hogwarts Mystery': 1, 'MARVEL Strike Force': 2, 'Merge Dragons!': 1, 'Honkai Impact 3rd': 1, 'Toy Blast': 1, 'Homescapes': 1, 'Cooking Fever': 1, 'Gardenscapes': 1, 'Score! Hero': 2, 'Dream League Soccer 2018': 2, 'Fruits Bomb': 1, 'Talking Tom Gold Run': 3, 'My Talking Tom': 2, 'Hill Climb Racing': 3, 'Pixel Art: Color by Number Game': 2, 'Rider': 1, 'Garena Free Fire': 3, 'Miraculous Ladybug & Cat Noir - The Official Game': 2, 'Solitaire': 2, 'Traffic Racer': 1, 'Earn to Die 2': 1, 'Bubble Shooter 2': 1, 'Candy Crush Jelly Saga': 1, 'Cut the Rope FULL FREE': 2, 'Jewels Star: OZ adventure': 1, 'Hungry Shark Evolution': 2, 'Best Fiends - Free Puzzle Game': 1, 'Hill Climb Racing 2': 1, 'Swamp Attack': 1, 'Block Puzzle Classic Legend !': 1, 'DEAD TARGET: FPS Zombie Apocalypse Survival Games': 1, 'YouTube Kids': 3, 'Candy Bomb': 1, 'Princess Coloring Book': 1, 'Hello Kitty Nail Salon': 1, 'Dog Run - Pet Dog Simulator': 2, 'Coloring book moana': 1, 'Barbie™ Fashion Closet': 1, 'Minion Rush: Despicable Me Official Game': 3, 'No.Draw - Colors by Number 2018': 1, 'Super ABC! Learning games for kids! Preschool apps': 1, 'PJ Masks: Moonlight Heroes': 2, 'Hot Wheels: Race Off': 1, 'Farming Simulator 14': 1, 'Mcqueen Coloring pages': 1, 'Monster Truck Driver & Racing': 1, 'Strawberry Shortcake BerryRush': 2, 'DC Super Hero Girls™': 3, 'Toca Kitchen 2': 2, 'Disney Magic Kingdoms: Build Your Own Magical Park': 1, 'Toca Life: City': 1, 'Papumba Academy - Fun Learning For Kids': 2, 'Kids Balloon Pop Game Free 🎈': 1, 'Sounds for Toddlers FREE': 1, 'Elmo Calls by Sesame Street': 2, 'Sago Mini Friends': 2, 'Tee and Mo Bath Time Free': 1, 'Bita and the Animals - Pelos Ares': 1, 'TO-FU Oh!SUSHI': 1, 'DreamWorks Friends': 1, 'Avokiddo Emotions': 1, 'Nighty Night Circus': 1, 'Sago Mini Babies': 1, \"Dr. Panda & Toto's Treehouse\": 2, 'PlayKids - Educational cartoons and games for kids': 1, 'Baby Panda Care': 1, 'Monster High™': 1, 'Shopkins World!': 1, 'DisneyNOW – TV Shows & Games': 2, 'Equestria Girls': 2, 'Frozen Free Fall': 2, 'Thomas & Friends: Race On!': 1, 'Inside Out Thought Bubbles': 1, 'School of Dragons': 1, 'Peak – Brain Games & Training': 1, 'Period Tracker': 1, 'Vargo Anesthesia Mega App': 1, 'Monash Uni Low FODMAP Diet': 1, 'mySugr: the blood sugar tracker made just for you': 2, 'Human Anatomy Atlas 2018: Complete 3D Human Body': 2, 'ASCCP Mobile': 1, 'Paramedic Protocol Provider': 1, '2017 EMRA Antibiotic Guide': 1, 'Essential Anatomy 3': 1, 'EMT PASS': 1, 'Block Buddy': 1, 'EMT Review Plus': 1, 'Journal Club: Medicine': 1, 'Pedi STAT': 1, 'AnatomyMapp': 1, 'Diabetes & Diet Tracker': 1, 'A Manual of Acupuncture': 1, 'PTA Content Master': 1, 'Muscle Premium - Human Anatomy, Kinesiology, Bones': 1, 'Cardiac diagnosis (heart rate, arrhythmia)': 2, 'Medical ID - In Case of Emergency (ICE)': 1, 'IBM Micromedex Drug Info': 1, 'Advanced Comprehension Therapy': 1, 'Hospitalist Handbook': 1, 'Teladoc Member': 1, 'Ada - Your Health Guide': 1, 'Ovia Fertility Tracker & Ovulation Calculator': 1, 'Youper - AI Therapy': 2, 'MoodSpace': 1, 'Super Hearing Super Ear Amplifier': 1, 'Penn State Health OnDemand': 1, 'ScriptSave WellRx Rx Discounts': 1, 'Free Blood Pressure': 2, 'All Mental disorders': 1, 'Nurse Grid': 1, 'JH Blood Pressure Monitor': 1, 'Blood Pressure': 2, 'RT 516 VET': 1, 'Anthem Anywhere': 1, 'Sway Medical': 1, \"fred's Pharmacy\": 1, 'Breastfeeding Tracker Baby Log': 1, 'Banfield Pet Health Tracker': 1, '1800 Contacts - Lens Store': 1, 'TextNow - free text + calls': 1, 'Tumblr': 2, 'Snapchat': 3, 'Instagram': 3, 'Periscope - Live Video': 2, 'Pinterest': 2, 'MeetMe: Chat & Meet New People': 4, 'ooVoo Video Calls, Messaging & Stories': 1, 'LinkedIn': 1, 'Tango - Live Video Broadcast': 1, 'SayHi Chat, Meet New People': 2, 'Tapatalk - 100,000+ Forums': 1, 'Badoo - Free Chat & Dating App': 3, 'Nextdoor - Local neighborhood news & classifieds': 1, 'Meetup': 3, 'Text Free: WiFi Calling App': 2, 'textPlus: Free Text & Calls': 1, 'POF Free Dating App': 2, 'Tagged - Meet, Chat & Dating': 1, 'LOVOO': 1, 'SKOUT - Meet, Chat, Go Live': 1, 'Jaumo Dating, Flirt & Live Video': 1, 'Couple - Relationship App': 1, 'Wish - Shopping Made Fun': 4, 'SnipSnap Coupon App': 1, 'Extreme Coupon Finder': 2, 'Checkout 51: Grocery coupons': 2, 'The Coupons App': 3, 'RetailMeNot - Coupons, Deals & Discount Shopping': 2, 'Groupon - Shop Deals, Discounts & Coupons': 3, 'Stocard - Rewards Cards Wallet': 1, 'eBay: Buy & Sell this Summer - Discover Deals Now!': 4, 'Gyft - Mobile Gift Card Wallet': 2, 'Shopkick: Free Gift Cards, Shop Rewards & Deals': 1, 'Shopular: Coupons, Weekly Ads & Shopping Deals': 1, 'Carousell: Snap-Sell, Chat-Buy': 1, 'Walmart': 1, 'Ibotta: Cash Back Savings, Rewards & Coupons App': 1, 'AliExpress - Smarter Shopping, Better Living': 3, 'LivingSocial - Local Deals': 2, 'Amazon Shopping': 2, 'Poshmark - Buy & Sell Fashion': 1, 'Target - now with Cartwheel': 2, 'ZALORA Fashion Shopping': 1, 'Fancy': 2, \"Modcloth – Unique Indie Women's Fashion & Style\": 1, \"JackThreads: Men's Shopping\": 2, 'Zappos – Shoe shopping made simple': 1, 'Wanelo Shopping': 1, 'Etsy: Handmade & Vintage Goods': 1, 'Slickdeals: Coupons & Shopping': 2, 'ASOS': 1, 'Google Photos': 3, 'Shutterfly: Free Prints, Photo Books, Cards, Gifts': 3, 'InstaBeauty -Makeup Selfie Cam': 1, 'B612 - Beauty & Filter Camera': 2, 'BeautyPlus - Easy Photo Editor & Selfie Camera': 4, 'YouCam Perfect - Selfie Photo Editor': 2, 'Muzy - Share photos & collages': 1, 'QuickPic - Photo Gallery with Google Drive Support': 2, 'Flickr': 1, 'Open Camera': 2, 'Camera for Android': 2, 'Cymera Camera- Photo Editor, Filter,Collage,Layout': 3, 'Candy Camera - selfie, beauty camera, photo editor': 2, 'Camera360: Selfie Photo Editor with Funny Sticker': 2, 'Facetune - For Free': 2, 'Photo Editor Selfie Camera Filter & Mirror Image': 1, 'HD Camera for Android': 1, 'Photo Editor Pro': 1, 'YouCam Makeup - Magic Selfie Makeovers': 1, 'Photo Editor-': 1, 'Photo Editor': 1, 'Adobe Photoshop Express:Photo Editor Collage Maker': 1, 'InstaSize Photo Filters & Collage Editor': 1, 'CBS Sports App - Scores, News, Stats & Watch Live': 7, 'Yahoo Fantasy Sports - #1 Rated Fantasy App': 4, 'ESPN': 6, 'NFL': 2, 'Bleacher Report: sports news, scores, & highlights': 5, 'ESPN Fantasy Sports': 3, 'theScore: Live Sports Scores, News, Stats & Videos': 4, 'MLB At Bat': 4, 'WatchESPN': 3, 'Hole19: Golf GPS App, Rangefinder & Scorecard': 1, 'CBS Sports Fantasy': 1, 'Yahoo Sports - scores, stats, news, & highlights': 2, 'FotMob - Live Soccer Scores': 1, 'US Open Tennis Championships 2018': 1, 'FIFA - Tournaments, Soccer News & Live Scores': 1, 'Golfshot: Golf GPS + Tee Times': 1, 'BBC Sport': 1, 'MLB Ballpark': 1, 'FOX Sports: Live Streaming, Scores & News': 1, 'Fantasy Football': 1, 'PGA TOUR': 1, 'UFC': 1, 'trivago: Hotels & Travel': 2, 'Expedia Hotels, Flights & Car Rental Travel Deals': 3, 'TripAdvisor Hotels Flights Restaurants Attractions': 4, 'Skyscanner': 4, 'Booking.com Travel Deals': 2, 'Priceline Hotel Deals, Rental Cars & Flights': 2, 'United Airlines': 1, 'Southwest Airlines': 1, 'Hopper - Watch & Book Flights': 1, 'Fly Delta': 1, 'KAYAK Flights, Hotels & Cars': 2, 'American Airlines': 2, 'Orbitz - Hotels, Flights & Package Deals': 1, 'Hotels.com: Book Hotel Rooms & Find Vacation Deals': 1, 'Hostelworld: Hostels & Cheap Hotels Travel App': 1, 'Airbnb': 1, 'HotelTonight: Book amazing deals at great hotels': 2, 'Maps - Navigate & Explore': 2, 'Google Street View': 1, 'Calculator': 1, 'Gboard - the Google Keyboard': 2, 'ZEDGE™ Ringtones & Wallpapers': 3, 'Nova Launcher': 1, 'Apex Launcher': 2, 'Smart Launcher 5': 1, 'Google Keep': 3, 'Evernote – Organizer, Planner for Notes & Memos': 3, 'ES File Explorer File Manager': 2, 'Microsoft Word': 2, 'Google Drive': 3, 'Adobe Acrobat Reader': 2, 'Google PDF Viewer': 2, 'Microsoft Excel': 1, 'Google Docs': 2, 'Microsoft PowerPoint': 1, 'Microsoft OneNote': 2, 'Google Calendar': 2, 'Wunderlist: To-Do List & Tasks': 2, 'Any.do: To-do list, Calendar, Reminders & Planner': 2, 'Todoist: To-do lists for task management & errands': 2, 'Planner Pro-Personal Organizer': 1, 'Microsoft OneDrive': 1, 'Dropbox': 2, 'MX Player': 2, 'Video Editor': 2, 'Google News': 3, 'Flipboard: News For Our Time': 2, 'BBC News': 2, 'Fox News – Breaking News, Live Video & News Alerts': 2, 'USA TODAY': 2, 'CNN Breaking US & World News': 2, 'Twitter': 2, 'NPR News': 1, 'Haystack TV: Local & World News - Free': 1, 'ABC News - US & World News': 1, 'NBC News': 1, 'The Wall Street Journal: Business & Market News': 1, 'NYTimes - Latest News': 2, 'Newsroom: News Worth Sharing': 1, 'BuzzFeed: News, Tasty, Quizzes': 1, 'Flashlight': 1, 'Agar.io': 1, 'LEGO® Juniors Create & Cruise': 1, 'Google Translate': 1, 'Pokémon GO': 1, 'PAC-MAN': 1, 'Colorfy: Coloring Book for Adults - Free': 1, 'YouTube': 1, \"Alto's Adventure\": 1, 'Facebook': 1, 'VPN Free - Betternet Hotspot VPN & Private Browser': 1, 'EMT Tutor NREMT-B Study Guide': 1, 'EMT-B Pocket Prep': 1, 'Diary with lock': 1, 'C Programming': 1, 'CppDroid - C/C++ IDE': 1, 'Learn C++': 1, 'Google Duo - High Quality Video Calls': 1, 'Crossy Road': 1, 'E*TRADE Mobile': 1, 'WWE': 1, 'Amazon Kindle': 1, 'Microsoft Edge': 1, 'Microsoft Outlook': 1, 'Ebook Reader': 1, 'Flipkart Online Shopping App': 1, 'Facebook Lite': 1, 'Messenger Lite: Free Calls & Messages': 1, 'imo beta free calls and text': 1, 'Geometry Dash World': 1, 'Google+': 1, 'Google': 1, 'G Cloud Backup': 1, 'H&M': 1, 'H TV': 1, 'Talking Ben the Dog': 1, 'Sonic Dash': 1, 'Talkatone: Free Texts, Calls & Phone Number': 1, 'Textgram - write on photos': 1, 'Jetpack Joyride': 1, 'Anger of stick 5 : zombie': 1, 'Turbo FAST': 1, 'K PLUS': 1, 'PowerDirector Video Editor App: 4K, Slow Mo & More': 1, 'Fuzzy Numbers: Pre-K Number Foundation': 1, 'LiveMe - Video chat, new friends, and make money': 1, 'letgo: Buy & Sell Used Stuff, Cars & Real Estate': 1, 'Love Balls': 1, 'Last Day on Earth: Survival': 1, 'Minecraft': 1, 'MEGA': 1, 'I’m Expecting - Pregnancy App': 1, 'Diabetes:M': 1, 'PicsArt Photo Studio: Collage Maker & Pic Editor': 1, 'Quora': 1, 'SHAREit - Transfer & Share': 1, 'Topbuzz: Breaking News, Videos & Funny GIFs': 1, 'Twitch: Livestream Multiplayer Games & Esports': 1, 'myAT&T': 1, 'Truecaller: Caller ID, SMS spam blocking & Dialer': 1, 'Showtime Anytime': 1, 'Uber': 1, 'VLC for Android': 1, 'Vigo Video': 1, 'Wattpad 📖 Free Books': 1, 'Waze - GPS, Maps, Traffic Alerts & Live Navigation': 1, 'Dating App, Flirt & Chat : W-Match': 1, 'WPS Office - Word, Docs, PDF, Note, Slide & Sheet': 1, 'LINE WEBTOON - Free Comics': 1, 'WhatsApp Business': 1, 'We Heart It': 1, 'Telegram X': 1, 'Share Music & Transfer Files - Xender': 1, 'Yandex Browser with Protect': 1, 'YouTube Studio': 1, 'PBS KIDS Video': 1, 'YouTube Gaming': 1, 'GO Keyboard - Emoticon keyboard, Free Theme, GIF': 1, 'Zello PTT Walkie Talkie': 1, 'Z Camera - Photo Editor, Beauty Selfie, Collage': 1, 'Six Pack in 30 Days - Abs Workout': 1, 'Angry Birds 2': 1, 'AC - Tips & News for Android™': 1, 'CM Browser - Ad Blocker , Fast Download , Privacy': 1, 'Mobi Calculator free & AD free!': 1, 'Flipp - Weekly Shopping': 1, 'Camera FV-5 Lite': 1, 'All Football - Latest News & Videos': 1, 'Maricopa AH': 1, 'Animal Jam - Play Wild!': 1, 'RULES OF SURVIVAL': 1, 'Amazon for Tablets': 1, 'Final Fantasy XV: A New Empire': 1, 'The Sims™ FreePlay': 1, 'Text free - Free Text + Call': 1, '365Scores - Live Scores': 1, 'DINO HUNTER: DEADLY SHORES': 1, 'AP Mobile - Breaking News': 1, 'Reuters News': 1, 'AccuWeather: Daily Forecast & Live Weather Reports': 1, 'Moovit: Bus Time & Train Time Live Info': 1, 'Jurassic World™ Alive': 1, 'Overstock – Home Decor, Furniture Shopping': 1, 'Choices: Stories You Play': 1, 'Runtastic Sleep Better: Sleep Cycle & Smart Alarm': 1, 'Ringtone Maker': 1, 'Plants vs. Zombies™ Heroes': 1, 'CM FILE MANAGER HD': 1, 'realestate.com.au - Buy, Rent & Sell Property': 1, 'Video Player All Format': 1, 'DEER HUNTER 2018': 1, 'Google Play Games': 1, 'ai.type Free Emoji Keyboard': 1, 'Manga AZ - Manga Comic Reader': 1, 'British Airways': 1, 'Anthem BC Anywhere': 1, 'Transit: Real-Time Transit App': 1, 'PMHNP-BC Pocket Prep': 1, 'Backgrounds HD (Wallpapers)': 1, 'Blur Image Background': 1, 'Newegg Mobile': 1, 'English Dictionary - Offline': 1, 'English Grammar Test': 1, 'Daily Manga - Comic & Webtoon': 1, 'BBM - Free Calls & Messages': 1, 'BeyondMenu Food Delivery': 1, 'NOOK: Read eBooks & Magazines': 1, 'NOOK App for NOOK Devices': 1, 'HBO GO: Stream with TV Package': 1, 'No Crop & Square for Instagram': 1, 'Hungry Shark World': 1, 'iBP Blood Pressure': 1, 'Blood Pressure Log - MyDiary': 1, 'Blood Pressure(BP) Diary': 1, 'BP Journal - Blood Pressure Diary': 1, 'Blood Pressure Monitor': 1, 'Blood Pressure Companion': 1, 'High Blood Pressure Symptoms': 1, 'QR Scanner & Barcode Scanner 2018': 1, 'Camera FV-5': 1, 'Camera MX - Free Photo & Video Camera': 1, 'Cardboard': 1, 'Maps & GPS Navigation — OsmAnd': 1, 'Beautiful Widgets Pro': 1, 'Beautiful Widgets Free': 1, 'HD Widgets': 1, 'Color by Number – New Coloring Book': 1, 'Photo Editor by Aviary': 1, 'UNICORN - Color By Number & Pixel Art Coloring': 1, '420 BZ Budeze Delivery': 1, 'BZWBK24 mobile': 1, 'Zoosk Dating App: Meet Singles': 1, 'Cricbuzz - Live Cricket Scores & News': 1, 'Cheapflights – Flight Search': 1, 'Chrome Beta': 1, 'Chrome Dev': 1, 'CJmall': 1, 'Castle Clash: Heroes of the Empire US': 1, 'CM Launcher 3D - Theme, Wallpapers, Efficient': 1, 'CM Locker - Security Lockscreen': 1, 'CM Flashlight (Compass, SOS)': 1, 'Ruler': 1, 'Cartoon Network App': 1, 'LEGO® TV': 1, 'Brit + Co': 1, 'CT Scan Cross Sectional Anatomy': 1, 'Shadow Fight 2': 1, 'Curriculum vitae App CV Builder Free Resume Maker': 1, 'CW Seed': 1, 'Camera360 Lite - Selfie Camera': 1, 'Mapy.cz - Cycling & Hiking offline maps': 1, 'Face Filter, Selfie Editor - Sweet Camera': 1, 'Metal Soldiers 2': 1, \"COOKING MAMA Let's Cook!\": 1, 'Run Sausage Run!': 1, 'Knife Hit': 1, 'DC Comics': 1, 'MARVEL Contest of Champions': 1, 'wetter.com - Weather and Radar': 1, 'CallApp: Caller ID, Blocker & Phone Call Recorder': 1, 'LINE Camera - Photo editor': 1, 'Racing in Car 2': 1, 'Dungeon Hunter Champions: Epic Online Action RPG': 1, 'Red Bull TV: Live Sports, Music & Entertainment': 1, 'Idle Heroes': 1, 'Free phone calls, free texting SMS on free number': 1, 'Phone Tracker : Family Locator': 1, 'My Photo Keyboard': 1, 'Whoscall - Caller ID & Block': 1, 'Google Sheets': 1, 'Video Downloader': 1, 'Notepad & To do list': 1, 'Polaris Office - Word, Docs, Sheets, Slide, PDF': 1, 'Do It Later: Tasks & To-Dos': 1, 'To-Do Calendar Planner': 1, 'TickTick: To Do List with Reminder, Day Planner': 1, 'ColorNote Notepad Notes': 1, 'Dude Perfect 2': 1, 'Dairy Queen': 1, 'SONIC Drive-In': 1, \"McDonald's\": 1, 'Wendy’s – Food and Offers': 1, \"Dunkin' Donuts\": 1, 'SUBWAY®': 1, 'Panera Bread': 1, 'Starbucks': 1, 'Cache Cleaner-DU Speed Booster (booster & cleaner)': 1, 'DU Browser—Browse fast & fun': 1, 'Real Racing 3': 1, 'My Little Pony Celebration': 1, 'My Little Pony: Harmony Quest': 1, 'The Emirates App': 1, 'Phogy, 3D Camera': 1, 'Weather by eltiempo.es': 1, 'The Game of Life': 1, 'Spanish English Translator': 1, \"Game for KIDS: KIDS match'em\": 1, 'Dictionary - Merriam-Webster': 1, 'Edmodo': 1, 'Chess Free': 1, 'Oxford Dictionary of English : Free': 1, 'Masha and the Bear Child Games': 1, 'Episode - Choose Your Story': 1, 'The NBC App - Watch Live TV and Full Episodes': 1, 'Moto File Manager': 1, 'Moneycontrol – Stocks, Sensex, Mutual Funds, IPO': 1, 'CNBC: Breaking Business News & Live Market Data': 1, 'Google Earth': 1, 'Amino: Communities and Chats': 1, 'Hangouts Dialer - Call Phones': 1, 'Offline Maps & Navigation': 1, 'Strawberry Shortcake Ice Cream Island': 1, 'Home Workout - No Equipment': 1, 'Home Security Camera WardenCam - reuse old phones': 1, 'Web Browser for Android': 1, 'Airway Ex - Intubate. Anesthetize. Train.': 1, 'FilterGrid - Cam&Photo Editor': 1, 'Messages, Text and Video Chat for Messenger': 1, 'All Social Networks': 1, 'Premier League - Official App': 1, 'Fallout Shelter': 1, 'Facebook Pages Manager': 1, 'Facebook Ads Manager': 1, 'Who Viewed My Facebook Profile - Stalkers Visitors': 1, 'The 5th Stand': 1, 'osmino Wi-Fi: free WiFi': 1, 'Fun Kid Racing - Motocross': 1, 'Podcast App: Free & Offline Podcasts by Player FM': 1, 'Motorola FM Radio': 1, 'FarmersOnly Dating': 1, 'FP Notebook': 1, 'AAFP': 1}\n",
      "\n",
      "\n",
      "Number of unique apps: 9658\n",
      "\n",
      "\n",
      "Number of apps with duplicate entries: 798\n",
      "\n",
      "\n",
      "Number of duplicates to remove: 1181\n"
     ]
    }
   ],
   "source": [
    "duplicate_apps = {}\n",
    "unique_apps = []\n",
    "\n",
    "for app in google_data[1:]:\n",
    "  name = app[0]\n",
    "  \n",
    "  if name not in unique_apps: \n",
    "    unique_apps.append(name)\n",
    "  else:\n",
    "    if name not in duplicate_apps:\n",
    "      duplicate_apps[name] = 1\n",
    "    else:\n",
    "      duplicate_apps[name] += 1\n",
    "    \n",
    "print(f\"Unique apps: {unique_apps}\")\n",
    "print(\"\\n\")\n",
    "print(f\"Apps with duplicate entries: {duplicate_apps}\")\n",
    "print(\"\\n\")\n",
    "print(\"Number of unique apps: \" + str(len(unique_apps)))\n",
    "print(\"\\n\")\n",
    "print(\"Number of apps with duplicate entries: \" + str(len(duplicate_apps)))\n",
    "print(\"\\n\")\n",
    "print(\"Number of duplicates to remove: \" + str(sum(duplicate_apps.values())))"
   ]
  },
  {
   "cell_type": "markdown",
   "id": "ef59fc66",
   "metadata": {},
   "source": [
    "Based on our criterion for removing duplicate entries (*removing all duplicates with fewer total reviews*), we can create a dictionary `max_reviews` to store app names as keys with the apps highest number of reviews stored as the value for each app. The length of this dictionary matches the expected number of unique apps found above."
   ]
  },
  {
   "cell_type": "code",
   "execution_count": 17,
   "id": "fa0914d3",
   "metadata": {},
   "outputs": [
    {
     "name": "stdout",
     "output_type": "stream",
     "text": [
      "9658\n"
     ]
    }
   ],
   "source": [
    "max_reviews = {}\n",
    "\n",
    "for app in google_data[1:]:\n",
    "  name = app[0]\n",
    "  n_reviews = float(app[3])\n",
    "  \n",
    "  if name in max_reviews and max_reviews[name] < n_reviews:\n",
    "    max_reviews[name] = n_reviews\n",
    "  elif name not in max_reviews:\n",
    "    max_reviews[name] = n_reviews\n",
    "    \n",
    "print(len(max_reviews))"
   ]
  },
  {
   "cell_type": "markdown",
   "id": "47a8157d",
   "metadata": {},
   "source": [
    "We can use this `max_reviews` dictionary to create a cleaned dataset where all duplicate entries have been removed to leave only the entries with the greatest number of user reviews. \n",
    "\n",
    "We create two empty lists `android_data_cleaned` to store the app data with no duplicates and an `already_added` list to track the app names that have already been added to the cleaned dataset. For each app in the original `google_data` dataset (with header omitted), we assign the name of the app as `name` and number of reviews for the app as `n_reviews`. If the app is not present in the `already_added` list AND has the same number of reviews as the entry with the maximum number (stored in the `max_reviews` dictionary created above) then the row for that app will be appended to the `android_data_cleaned` list and the app name will be added to the `already_added` list to ensure no duplicate entries can be stored. \n",
    "\n",
    "We then verify that the expected number of datapoints are present in the final cleaned list (9,658)."
   ]
  },
  {
   "cell_type": "code",
   "execution_count": 18,
   "id": "6df0885d",
   "metadata": {},
   "outputs": [
    {
     "name": "stdout",
     "output_type": "stream",
     "text": [
      "Number of apps after cleaning: 9658\n",
      "\n",
      "\n",
      "First 3 rows of cleaned dataset: \n",
      " [['Photo Editor & Candy Camera & Grid & ScrapBook', 'ART_AND_DESIGN', '4.1', '159', '19M', '10,000+', 'Free', '0', 'Everyone', 'Art & Design', 'January 7, 2018', '1.0.0', '4.0.3 and up'], ['U Launcher Lite – FREE Live Cool Themes, Hide Apps', 'ART_AND_DESIGN', '4.7', '87510', '8.7M', '5,000,000+', 'Free', '0', 'Everyone', 'Art & Design', 'August 1, 2018', '1.2.4', '4.0.3 and up'], ['Sketch - Draw & Paint', 'ART_AND_DESIGN', '4.5', '215644', '25M', '50,000,000+', 'Free', '0', 'Teen', 'Art & Design', 'June 8, 2018', 'Varies with device', '4.2 and up']]\n"
     ]
    }
   ],
   "source": [
    "android_data_cleaned = []\n",
    "already_added = []\n",
    "\n",
    "for app in google_data[1:]:\n",
    "  name = app[0]\n",
    "  n_reviews = float(app[3])\n",
    "  \n",
    "  if name not in already_added and float(max_reviews[name]) == n_reviews:\n",
    "    android_data_cleaned.append(app)\n",
    "    already_added.append(name)\n",
    "    \n",
    "print(\"Number of apps after cleaning: \" + str(len(android_data_cleaned)))\n",
    "print(\"\\n\")\n",
    "print(f\"First 3 rows of cleaned dataset: \\n {android_data_cleaned[:3]}\")"
   ]
  },
  {
   "cell_type": "markdown",
   "id": "117c5998",
   "metadata": {},
   "source": [
    "### Removal of Non-English apps\n",
    "As we are only interested in insights about apps designed for an English-speaking audience, we can remove any apps with names that indicate they are not designed for English-speakers. Both datasets contain apps that fall into this criteria, and since we are not interested in these apps, we can remove them from the datasets.\n",
    "\n",
    "To do this, we can use the built-in `ord()` function to return the Unicode code point of characters in app-names. Numbers corresponding to the most common English characters in text are in the range 0-127 according to the ASCII system (American Standard Code for Information Interchange). Based on this range, we can define a function to detect whether a character belongs to the set of common English characters or not."
   ]
  },
  {
   "cell_type": "code",
   "execution_count": 19,
   "id": "b9a1bdcf",
   "metadata": {},
   "outputs": [
    {
     "name": "stdout",
     "output_type": "stream",
     "text": [
      "True\n",
      "False\n",
      "False\n",
      "False\n"
     ]
    }
   ],
   "source": [
    "def is_common_english(string):\n",
    "  for char in string:\n",
    "    if ord(char) > 127:\n",
    "      return False\n",
    "  return True\n",
    "\n",
    "print(is_common_english(\"Instagram\"))\n",
    "print(is_common_english(\"爱奇艺PPS -《欢乐颂2》电视剧热播\"))\n",
    "print(is_common_english(\"Docs To Go™ Free Office Suite\"))\n",
    "print(is_common_english(\"Instachat 😜\"))"
   ]
  },
  {
   "cell_type": "markdown",
   "id": "f7f99fc2",
   "metadata": {},
   "source": [
    "To improve the quality of our function, we can add an additional check such that if there are more than 3 characters that fall outside of the ASCII range, then the function will return False. This will minimise the likelihood of wrongly identifying English apps as non-English. The filter is not perfect, with English apps containing more than 3 non-ASCII characters being wrongly assigned. \n",
    "\n",
    "For our purposes, this is an acceptable level of data loss (since very few English apps are likely to have more than 3 non-ASCII characters).\n",
    "\n",
    "A count variable is assigned as 0 outside of the loop, and for every character in the input string, if the character falls outside of the allowed ASCII range, +1 is added to the count. If the count is greater than 3, the string is deemed non-English otherwise, it is deemed to be English."
   ]
  },
  {
   "cell_type": "code",
   "execution_count": 20,
   "id": "58a2c9d0",
   "metadata": {},
   "outputs": [
    {
     "name": "stdout",
     "output_type": "stream",
     "text": [
      "True\n",
      "False\n",
      "True\n",
      "True\n"
     ]
    }
   ],
   "source": [
    "def is_common_english(string):\n",
    "  count = 0\n",
    "  \n",
    "  for char in string:\n",
    "    if ord(char) > 127:\n",
    "      count += 1\n",
    "  \n",
    "  if count > 3:\n",
    "    return False\n",
    "  else:\n",
    "    return True\n",
    "\n",
    "print(is_common_english(\"Instagram\"))\n",
    "print(is_common_english(\"爱奇艺PPS -《欢乐颂2》电视剧热播\"))\n",
    "print(is_common_english(\"Docs To Go™ Free Office Suite\"))\n",
    "print(is_common_english(\"Instachat 😜\"))"
   ]
  },
  {
   "cell_type": "markdown",
   "id": "54a5facc",
   "metadata": {},
   "source": [
    "The `is_common_english()` function is used to filter the App Store and Google Play datasets, creating new nested lists for both datasets (`english_apple_data_cleaned` and `english_android_data_cleaned`) which contain only apps designed for English speaking audiences. \n",
    "\n",
    "This is done by looping over the apps in both datasets and appending each app's data to the list of english apps if the `is_common_english()` returns true for the name of the app. If the `is_common_english()` returns false, the app name is appended to the non_english app name list. A sample of the non_english app name lists is printed to help verify the identified apps are indeed not designed for English speakers."
   ]
  },
  {
   "cell_type": "code",
   "execution_count": 21,
   "id": "eea2f2aa",
   "metadata": {},
   "outputs": [
    {
     "name": "stdout",
     "output_type": "stream",
     "text": [
      "Number of English apps in App Store dataset: 6183\n",
      "\n",
      "\n",
      "Number of non-English apps removed from the App Store dataset: 1014\n",
      "\n",
      "\n",
      "Sample of non-English apps from the App Store dataset: ['爱奇艺PPS -《欢乐颂2》电视剧热播', '聚力视频HD-人民的名义,跨界歌王全网热播', '优酷视频', '网易新闻 - 精选好内容，算出你的兴趣', '淘宝 - 随时随地，想淘就淘', '搜狐视频HD-欢乐颂2 全网首播', '阴阳师-全区互通现世集结', '百度贴吧-全球最大兴趣交友社区', '百度网盘', '爱奇艺HD -《欢乐颂2》电视剧热播', '乐视视频HD-白鹿原,欢乐颂,奔跑吧全网热播', '万年历-值得信赖的日历黄历查询工具', '新浪新闻-阅读最新时事热门头条资讯视频', '喜马拉雅FM（听书社区）电台有声小说相声英语', '央视影音-海量央视内容高清直播']\n",
      "\n",
      "\n",
      "-----------------------------------------------------------------------------------------------------------------------------------------------------------------------------------------------------------------------------------------------------------------------------------------------------------------------------------------------------------------------------------------------------------------------------------------------------------------------------------------------------------------------------------\n",
      "\n",
      "\n",
      "Number of English apps in Google Play dataset: 9613\n",
      "\n",
      "\n",
      "Number of non-English apps removed from the cleaned Google Play dataset: 45\n",
      "\n",
      "\n",
      "Sample of non-English apps from the Google Play dataset: ['Flame - درب عقلك يوميا', 'သိင်္ Astrology - Min Thein Kha BayDin', 'РИА Новости', 'صور حرف H', 'L.POINT - 엘포인트 [ 포인트, 멤버십, 적립, 사용, 모바일 카드, 쿠폰, 롯데]', 'RMEduS - 음성인식을 활용한 R 프로그래밍 실습 시스템', 'AJ렌터카 법인 카셰어링', 'Al Quran Free - القرآن (Islam)', '中国語 AQリスニング', '日本AV历史', 'Ay Yıldız Duvar Kağıtları', 'বাংলা টিভি প্রো BD Bangla TV', 'Cъновник BG', 'CSCS BG (в български)', '뽕티비 - 개인방송, 인터넷방송, BJ방송']\n"
     ]
    }
   ],
   "source": [
    "english_apple_data_cleaned = []\n",
    "non_english_apple_apps = []\n",
    "\n",
    "english_android_data_cleaned = []\n",
    "non_english_android_apps = []\n",
    "\n",
    "for app in apple_data[1:]:\n",
    "  name = app[1]\n",
    "  if is_common_english(name):\n",
    "    english_apple_data_cleaned.append(app)\n",
    "  else:\n",
    "    non_english_apple_apps.append(name)\n",
    "    \n",
    "for app in android_data_cleaned:\n",
    "  name = app[0]\n",
    "  if is_common_english(name):\n",
    "    english_android_data_cleaned.append(app)\n",
    "  else:\n",
    "    non_english_android_apps.append(name)\n",
    "  \n",
    "line_break = \"-\" * 515  \n",
    " \n",
    "print(\"Number of English apps in App Store dataset: \" + str(len(english_apple_data_cleaned)))\n",
    "print(\"\\n\")\n",
    "print(\"Number of non-English apps removed from the App Store dataset: \" + str(len(non_english_apple_apps)))\n",
    "print(\"\\n\")\n",
    "print(\"Sample of non-English apps from the App Store dataset: \" + str(non_english_apple_apps[:15]))\n",
    "print(\"\\n\")\n",
    "print(line_break)\n",
    "print(\"\\n\")\n",
    "print(\"Number of English apps in Google Play dataset: \" + str(len(english_android_data_cleaned)))\n",
    "print(\"\\n\")\n",
    "print(\"Number of non-English apps removed from the cleaned Google Play dataset: \" + str(len(non_english_android_apps)))\n",
    "print(\"\\n\")\n",
    "print(\"Sample of non-English apps from the Google Play dataset: \" + str(non_english_android_apps[:15]))\n",
    "\n"
   ]
  },
  {
   "cell_type": "code",
   "execution_count": null,
   "id": "45dce226",
   "metadata": {},
   "outputs": [
    {
     "name": "stdout",
     "output_type": "stream",
     "text": [
      "First 3 rows of the cleaned App Store dataset: \n",
      "\n",
      "['284882215', 'Facebook', '389879808', 'USD', '0.0', '2974676', '212', '3.5', '3.5', '95.0', '4+', 'Social Networking', '37', '1', '29', '1']\n",
      "\n",
      "\n",
      "['389801252', 'Instagram', '113954816', 'USD', '0.0', '2161558', '1289', '4.5', '4.0', '10.23', '12+', 'Photo & Video', '37', '0', '29', '1']\n",
      "\n",
      "\n",
      "['529479190', 'Clash of Clans', '116476928', 'USD', '0.0', '2130805', '579', '4.5', '4.5', '9.24.12', '9+', 'Games', '38', '5', '18', '1']\n",
      "\n",
      "\n",
      "Number of rows: 6183\n",
      "Number of columns: 16\n",
      "-----------------------------------------------------------------------------------------------------------------------------------------------------------------------------------------------------------------------------------------------------------------------------------------------------------------------------------------------------------------------------------------------------------------------------------------------------------------------------------------------------------------------------------\n",
      "First 3 rows of the cleaned Google Play dataset: \n",
      "\n",
      "['Photo Editor & Candy Camera & Grid & ScrapBook', 'ART_AND_DESIGN', '4.1', '159', '19M', '10,000+', 'Free', '0', 'Everyone', 'Art & Design', 'January 7, 2018', '1.0.0', '4.0.3 and up']\n",
      "\n",
      "\n",
      "['U Launcher Lite – FREE Live Cool Themes, Hide Apps', 'ART_AND_DESIGN', '4.7', '87510', '8.7M', '5,000,000+', 'Free', '0', 'Everyone', 'Art & Design', 'August 1, 2018', '1.2.4', '4.0.3 and up']\n",
      "\n",
      "\n",
      "['Sketch - Draw & Paint', 'ART_AND_DESIGN', '4.5', '215644', '25M', '50,000,000+', 'Free', '0', 'Teen', 'Art & Design', 'June 8, 2018', 'Varies with device', '4.2 and up']\n",
      "\n",
      "\n",
      "Number of rows: 9613\n",
      "Number of columns: 13\n"
     ]
    }
   ],
   "source": [
    "print(\"First 3 rows of the cleaned App Store dataset: \\n\")\n",
    "explore_data(english_apple_data_cleaned, 0, 3, show_rows_and_columns=True, header=False)\n",
    "print(line_break)\n",
    "print(\"First 3 rows of the cleaned Google Play dataset: \\n\")\n",
    "explore_data(english_android_data_cleaned, 0, 3, show_rows_and_columns=True, header=False)"
   ]
  },
  {
   "cell_type": "markdown",
   "id": "86df1121",
   "metadata": {},
   "source": [
    "This cleaning process has left us with 6,183 unique App Store apps and 9,613 unique Android apps. "
   ]
  },
  {
   "cell_type": "markdown",
   "id": "685704dd",
   "metadata": {},
   "source": [
    "### Isolating Free Apps\n",
    "As mentioned in the introduction, the company is only interested in building apps which are *Free* to download and install, so we need to filter the cleaned data up to this point such that only free apps remain for our analysis.\n",
    "\n",
    "To do this, we initialise two more lists to hold the free english iOS apps and the free english Android apps, looping through the `english_apple_data_cleaned` and `english_android_data_cleaned` datasets to extract the apps that are free into each list."
   ]
  },
  {
   "cell_type": "code",
   "execution_count": 27,
   "id": "e66664bd",
   "metadata": {},
   "outputs": [
    {
     "name": "stdout",
     "output_type": "stream",
     "text": [
      "Number of free English apps in the App Store dataset: 3222\n",
      "\n",
      "\n",
      "Number of paid English apps in the App Store dataset: 2961\n",
      "\n",
      "\n",
      "Number of free English apps in the Google Play dataset: 8863\n",
      "\n",
      "\n",
      "Number of paid English apps in the Google Play dataset: 750\n"
     ]
    }
   ],
   "source": [
    "free_english_apple_data_cleaned = []\n",
    "paid_english_apple_data_cleaned = []\n",
    "\n",
    "for app in english_apple_data_cleaned:\n",
    "  price = app[4]\n",
    "  if price == \"0.0\":\n",
    "    free_english_apple_data_cleaned.append(app)\n",
    "  else:\n",
    "    paid_english_apple_data_cleaned.append(app)\n",
    "    \n",
    "free_english_android_data_cleaned = []\n",
    "paid_english_android_data_cleaned = []\n",
    "\n",
    "for app in english_android_data_cleaned:\n",
    "  price = app[7]\n",
    "  if price == \"0\":\n",
    "    free_english_android_data_cleaned.append(app)\n",
    "  else:\n",
    "    paid_english_android_data_cleaned.append(app)\n",
    "    \n",
    "print(\"Number of free English apps in the App Store dataset: \" + str(len(free_english_apple_data_cleaned)))\n",
    "print(\"\\n\")\n",
    "print(\"Number of paid English apps in the App Store dataset: \" + str(len(paid_english_apple_data_cleaned)))\n",
    "print(\"\\n\")\n",
    "print(\"Number of free English apps in the Google Play dataset: \" + str(len(free_english_android_data_cleaned)))\n",
    "print(\"\\n\")\n",
    "print(\"Number of paid English apps in the Google Play dataset: \" + str(len(paid_english_android_data_cleaned)))"
   ]
  },
  {
   "cell_type": "code",
   "execution_count": 23,
   "id": "d6e0d2d4",
   "metadata": {},
   "outputs": [
    {
     "name": "stdout",
     "output_type": "stream",
     "text": [
      "['284882215', 'Facebook', '389879808', 'USD', '0.0', '2974676', '212', '3.5', '3.5', '95.0', '4+', 'Social Networking', '37', '1', '29', '1']\n",
      "\n",
      "\n",
      "['389801252', 'Instagram', '113954816', 'USD', '0.0', '2161558', '1289', '4.5', '4.0', '10.23', '12+', 'Photo & Video', '37', '0', '29', '1']\n",
      "\n",
      "\n",
      "['529479190', 'Clash of Clans', '116476928', 'USD', '0.0', '2130805', '579', '4.5', '4.5', '9.24.12', '9+', 'Games', '38', '5', '18', '1']\n",
      "\n",
      "\n",
      "Number of rows: 3222\n",
      "Number of columns: 16\n",
      "-----------------------------------------------------------------------------------------------------------------------------------------------------------------------------------------------------------------------------------------------------------------------------------------------------------------------------------------------------------------------------------------------------------------------------------------------------------------------------------------------------------------------------------\n",
      "['Photo Editor & Candy Camera & Grid & ScrapBook', 'ART_AND_DESIGN', '4.1', '159', '19M', '10,000+', 'Free', '0', 'Everyone', 'Art & Design', 'January 7, 2018', '1.0.0', '4.0.3 and up']\n",
      "\n",
      "\n",
      "['U Launcher Lite – FREE Live Cool Themes, Hide Apps', 'ART_AND_DESIGN', '4.7', '87510', '8.7M', '5,000,000+', 'Free', '0', 'Everyone', 'Art & Design', 'August 1, 2018', '1.2.4', '4.0.3 and up']\n",
      "\n",
      "\n",
      "['Sketch - Draw & Paint', 'ART_AND_DESIGN', '4.5', '215644', '25M', '50,000,000+', 'Free', '0', 'Teen', 'Art & Design', 'June 8, 2018', 'Varies with device', '4.2 and up']\n",
      "\n",
      "\n",
      "Number of rows: 8863\n",
      "Number of columns: 13\n"
     ]
    }
   ],
   "source": [
    "explore_data(free_english_apple_data_cleaned, 0, 3, show_rows_and_columns=True, header=False)\n",
    "print(line_break)\n",
    "explore_data(free_english_android_data_cleaned, 0, 3, show_rows_and_columns=True, header=False)"
   ]
  },
  {
   "cell_type": "markdown",
   "id": "d2110182",
   "metadata": {},
   "source": [
    "After filtering to ensure all of the apps are free, we are left with 3,222 iOS apps and 8,863 Android apps for our analysis."
   ]
  },
  {
   "cell_type": "markdown",
   "id": "ecf91886",
   "metadata": {},
   "source": [
    "## Analysis: Profitable App Profiles\n",
    "\n",
    "To minimize risk and overhead, the company suggests a **validation strategy** for an app idea:\n",
    "\n",
    ">1. Build a minimal Android version of the app and add it to the Google Play market.\n",
    ">\n",
    ">2. If the app receieves a good response from users, further develop the app.\n",
    ">\n",
    ">3. If the app is profitable after the first 6-month period, build an iOS version of the app and add it to the Apple App Store.\n",
    "\n",
    "\n",
    "Since the end goal is to add apps to both marketplaces, we need to identify app profiles that are likely to be successful in both markets. \n",
    "\n",
    "#### We can begin our analysis by determining the most common genres for each marketplace.\n",
    "\n",
    "We first define a `freq_table()` function with parameters `dataset` (a list of lists), `column` (the column number) and  a kwarg `percentage` which is set to False by default. The function generates a dictionary with keys that correspond to all unique datapoints in the specified column. The value of each of the keys in the dictionary is an integer value representing the number of occurences of the key in the specified column (*i.e.,* the frequency). \n",
    "\n",
    "If the `percentage` kwarg is set to true, the frequency values will be converted into percentages.\n"
   ]
  },
  {
   "cell_type": "code",
   "execution_count": 54,
   "id": "8c667427",
   "metadata": {},
   "outputs": [
    {
     "data": {
      "text/plain": [
       "{'Social Networking': '3.29%',\n",
       " 'Photo & Video': '4.97%',\n",
       " 'Games': '58.16%',\n",
       " 'Music': '2.05%',\n",
       " 'Reference': '0.56%',\n",
       " 'Health & Fitness': '2.02%',\n",
       " 'Weather': '0.87%',\n",
       " 'Utilities': '2.51%',\n",
       " 'Travel': '1.24%',\n",
       " 'Shopping': '2.61%',\n",
       " 'News': '1.33%',\n",
       " 'Navigation': '0.19%',\n",
       " 'Lifestyle': '1.58%',\n",
       " 'Entertainment': '7.88%',\n",
       " 'Food & Drink': '0.81%',\n",
       " 'Sports': '2.14%',\n",
       " 'Book': '0.43%',\n",
       " 'Finance': '1.12%',\n",
       " 'Education': '3.66%',\n",
       " 'Productivity': '1.74%',\n",
       " 'Business': '0.53%',\n",
       " 'Catalogs': '0.12%',\n",
       " 'Medical': '0.19%'}"
      ]
     },
     "execution_count": 54,
     "metadata": {},
     "output_type": "execute_result"
    }
   ],
   "source": [
    "def freq_table(dataset, column, percentage=False):\n",
    "  frequency_table = {}\n",
    "  for row in dataset:\n",
    "    value = row[column]\n",
    "    if value in frequency_table:\n",
    "      frequency_table[value] += 1\n",
    "    else:\n",
    "      frequency_table[value] = 1\n",
    "      \n",
    "  if percentage:\n",
    "    total_frequency = sum(frequency_table.values())\n",
    "    for key in frequency_table:\n",
    "      frequency_table[key] = str(round((frequency_table[key] / total_frequency) * 100, 2)) + \"%\"\n",
    "      \n",
    "  return frequency_table\n",
    "\n",
    "freq_table(free_english_apple_data_cleaned, column=11, percentage=True) \n",
    "# generates a frequency table for the prime_genre column in the App Store dataset, listing the results as a percentage of the total number of apps"
   ]
  },
  {
   "cell_type": "markdown",
   "id": "116a5b55",
   "metadata": {},
   "source": [
    "To improve the clarity of the `freq_table()` output, we define another function `display_table()` to display the same results as the `freq_table()` function in descending order. Since dictionaries are not ordered, we must convert the data structure into another type that can be sorted.\n",
    "\n",
    "To do this, we first initiate the `table` variable which is the frequency table produced for a given dataset, column and percentage (True/False) followed by a `table_display` list. We then write a for loop to iterate over the keys of `table` dictionary, creating a value-key tuple pair for every key:value pair in the `table` dictionary. These tuple pairs are then appended to the `table_display` list. \n",
    "\n",
    "If the percentage parameter is assigned to False, the `table_display` list is sorted (using the `sorted()` function). This list consists of tuples as elements in the form `(value, key)`, meaning the sorted function will order the elements with the largest value to the smallest value (since the `reverse` parameter is set to True). We then print `key : value` for each entry in the `table_sorted` variable to give the desired result.\n",
    "\n",
    "The same logic applies if the percentage parameter is assigned to False, except the values in the `table` dictionary must first be converted to floats (and have the `%` character removed) such that the values can be sorted numerically to give the desired output."
   ]
  },
  {
   "cell_type": "code",
   "execution_count": 76,
   "id": "74f630b6",
   "metadata": {},
   "outputs": [],
   "source": [
    "def display_table(dataset, column, percentage):\n",
    "    table = freq_table(dataset, column, percentage)\n",
    "    table_display = []\n",
    "    \n",
    "    for key in table:\n",
    "        key_val_as_tuple = (table[key], key)\n",
    "        table_display.append(key_val_as_tuple)\n",
    "    \n",
    "    if not percentage:\n",
    "            table_sorted = sorted(table_display, reverse = True)\n",
    "            for entry in table_sorted:\n",
    "                print(entry[1], ':', entry[0])\n",
    "                \n",
    "    else:   # the else clause runs if percentage = True. the logic is the same as above, except the values are converted to floats and stripped of the \"%\" character to be sorted numerically. \n",
    "        table_display = []\n",
    "        \n",
    "        for key in table:\n",
    "            key_val_as_tuple = (float(table[key].strip(\"%\")), key)\n",
    "            table_display.append(key_val_as_tuple)\n",
    "            table_sorted = sorted(table_display, reverse = True)\n",
    "            \n",
    "        for entry in table_sorted:\n",
    "            print(entry[1], ':', str(entry[0]) + \"%\")\n"
   ]
  },
  {
   "cell_type": "markdown",
   "id": "72d45e49",
   "metadata": {},
   "source": [
    "#### App Store: Most Common Genres"
   ]
  },
  {
   "cell_type": "code",
   "execution_count": null,
   "id": "0023024b",
   "metadata": {},
   "outputs": [
    {
     "name": "stdout",
     "output_type": "stream",
     "text": [
      "Games : 1874\n",
      "Entertainment : 254\n",
      "Photo & Video : 160\n",
      "Education : 118\n",
      "Social Networking : 106\n",
      "Shopping : 84\n",
      "Utilities : 81\n",
      "Sports : 69\n",
      "Music : 66\n",
      "Health & Fitness : 65\n",
      "Productivity : 56\n",
      "Lifestyle : 51\n",
      "News : 43\n",
      "Travel : 40\n",
      "Finance : 36\n",
      "Weather : 28\n",
      "Food & Drink : 26\n",
      "Reference : 18\n",
      "Business : 17\n",
      "Book : 14\n",
      "Navigation : 6\n",
      "Medical : 6\n",
      "Catalogs : 4\n"
     ]
    }
   ],
   "source": [
    "free_english_apple_genres_frequencies = display_table(free_english_apple_data_cleaned, column=11, percentage=False) # generates a frequency table for the prime_genre column in the App Store dataset"
   ]
  },
  {
   "cell_type": "code",
   "execution_count": null,
   "id": "f54ae53e",
   "metadata": {},
   "outputs": [
    {
     "name": "stdout",
     "output_type": "stream",
     "text": [
      "Games : 58.16%\n",
      "Entertainment : 7.88%\n",
      "Photo & Video : 4.97%\n",
      "Education : 3.66%\n",
      "Social Networking : 3.29%\n",
      "Shopping : 2.61%\n",
      "Utilities : 2.51%\n",
      "Sports : 2.14%\n",
      "Music : 2.05%\n",
      "Health & Fitness : 2.02%\n",
      "Productivity : 1.74%\n",
      "Lifestyle : 1.58%\n",
      "News : 1.33%\n",
      "Travel : 1.24%\n",
      "Finance : 1.12%\n",
      "Weather : 0.87%\n",
      "Food & Drink : 0.81%\n",
      "Reference : 0.56%\n",
      "Business : 0.53%\n",
      "Book : 0.43%\n",
      "Navigation : 0.19%\n",
      "Medical : 0.19%\n",
      "Catalogs : 0.12%\n"
     ]
    }
   ],
   "source": [
    "free_english_apple_genre_percentages = display_table(free_english_apple_data_cleaned, column=11, percentage=True) # generates a percentage breakdown for the prime_genre column in the App Store dataset"
   ]
  },
  {
   "cell_type": "markdown",
   "id": "7bec3aa0",
   "metadata": {},
   "source": [
    "Among **Free English Apps** on the App Store, over half of all apps in this subset (58.16%) fall into the gaming genre. Entertainment apps are close to 8%, followed by Photo & Video apps which are just under 5%. Only 3.66% of apps are designed for Education, followed by Social Networking apps, making up only 3.29% of the Free English app market.\n",
    "\n",
    "The general impression this breakdown provides is that Free English apps on the App Store are dominated by apps designed for gaming and entertainment rather than apps designed for practical purposes/utility (such as education, shopping, productivity, lifestyle). \n",
    "\n",
    "This does not necessarily mean that apps falling into these largest genres also have the greatest number of users however. We do not have any insight into the number of users within each genre (we will probe into this more deeply below)."
   ]
  },
  {
   "cell_type": "markdown",
   "id": "6efa72f9",
   "metadata": {},
   "source": [
    "#### Google Play Store: Most Common Categories"
   ]
  },
  {
   "cell_type": "code",
   "execution_count": null,
   "id": "db18af15",
   "metadata": {},
   "outputs": [
    {
     "name": "stdout",
     "output_type": "stream",
     "text": [
      "FAMILY : 1675\n",
      "GAME : 862\n",
      "TOOLS : 750\n",
      "BUSINESS : 407\n",
      "LIFESTYLE : 346\n",
      "PRODUCTIVITY : 345\n",
      "FINANCE : 328\n",
      "MEDICAL : 313\n",
      "SPORTS : 301\n",
      "PERSONALIZATION : 294\n",
      "COMMUNICATION : 287\n",
      "HEALTH_AND_FITNESS : 273\n",
      "PHOTOGRAPHY : 261\n",
      "NEWS_AND_MAGAZINES : 248\n",
      "SOCIAL : 236\n",
      "TRAVEL_AND_LOCAL : 207\n",
      "SHOPPING : 199\n",
      "BOOKS_AND_REFERENCE : 190\n",
      "DATING : 165\n",
      "VIDEO_PLAYERS : 159\n",
      "MAPS_AND_NAVIGATION : 124\n",
      "FOOD_AND_DRINK : 110\n",
      "EDUCATION : 103\n",
      "ENTERTAINMENT : 85\n",
      "LIBRARIES_AND_DEMO : 83\n",
      "AUTO_AND_VEHICLES : 82\n",
      "HOUSE_AND_HOME : 73\n",
      "WEATHER : 71\n",
      "EVENTS : 63\n",
      "PARENTING : 58\n",
      "ART_AND_DESIGN : 57\n",
      "COMICS : 55\n",
      "BEAUTY : 53\n"
     ]
    }
   ],
   "source": [
    "free_english_android_category_frequencies = display_table(free_english_android_data_cleaned, column=1, percentage=False) # generates a frequency table for the Category column in the Google Play dataset"
   ]
  },
  {
   "cell_type": "code",
   "execution_count": null,
   "id": "092644ec",
   "metadata": {},
   "outputs": [
    {
     "name": "stdout",
     "output_type": "stream",
     "text": [
      "FAMILY : 18.9%\n",
      "GAME : 9.73%\n",
      "TOOLS : 8.46%\n",
      "BUSINESS : 4.59%\n",
      "LIFESTYLE : 3.9%\n",
      "PRODUCTIVITY : 3.89%\n",
      "FINANCE : 3.7%\n",
      "MEDICAL : 3.53%\n",
      "SPORTS : 3.4%\n",
      "PERSONALIZATION : 3.32%\n",
      "COMMUNICATION : 3.24%\n",
      "HEALTH_AND_FITNESS : 3.08%\n",
      "PHOTOGRAPHY : 2.94%\n",
      "NEWS_AND_MAGAZINES : 2.8%\n",
      "SOCIAL : 2.66%\n",
      "TRAVEL_AND_LOCAL : 2.34%\n",
      "SHOPPING : 2.25%\n",
      "BOOKS_AND_REFERENCE : 2.14%\n",
      "DATING : 1.86%\n",
      "VIDEO_PLAYERS : 1.79%\n",
      "MAPS_AND_NAVIGATION : 1.4%\n",
      "FOOD_AND_DRINK : 1.24%\n",
      "EDUCATION : 1.16%\n",
      "ENTERTAINMENT : 0.96%\n",
      "LIBRARIES_AND_DEMO : 0.94%\n",
      "AUTO_AND_VEHICLES : 0.93%\n",
      "HOUSE_AND_HOME : 0.82%\n",
      "WEATHER : 0.8%\n",
      "EVENTS : 0.71%\n",
      "PARENTING : 0.65%\n",
      "ART_AND_DESIGN : 0.64%\n",
      "COMICS : 0.62%\n",
      "BEAUTY : 0.6%\n"
     ]
    }
   ],
   "source": [
    "free_english_android_category_percentages = display_table(free_english_android_data_cleaned, column=1, percentage=True) # generates a percentage breakdown for the Category column in the Google Play dataset"
   ]
  },
  {
   "cell_type": "markdown",
   "id": "d7a4e9d3",
   "metadata": {},
   "source": [
    "The landscape of the **Free English apps** on the Google Play marketplace seems notably different than the App Store. There are fewer apps designed for fun (Games, Entertaiment etc.) with a larger proportion designed for practical purposes (Tools, Business, Lifestyle, Productivity). The largest categories include `FAMILY` and `GAME`, making up just over one quarter of all Free English apps analysed (28.63%). \n",
    "\n",
    "Investigating more deeply into the types of apps with the `FAMILY` category, we note that the majority are games designed for young children (see code cell below), meaning around a quarter of all Free English apps in the sample fall into the gaming genre.\n",
    "\n",
    "Even so, it is still interesting to note that practical apps do seem to have a better representation on the Google Play store than the apps featured in the App Store dataset."
   ]
  },
  {
   "cell_type": "code",
   "execution_count": 84,
   "id": "68de875c",
   "metadata": {},
   "outputs": [
    {
     "data": {
      "text/plain": [
       "['Jewels Crush- Match 3 Puzzle',\n",
       " 'Coloring & Learn',\n",
       " 'Mahjong',\n",
       " 'Super ABC! Learning games for kids! Preschool apps',\n",
       " 'Toy Pop Cubes',\n",
       " 'Educational Games 4 Kids',\n",
       " 'Candy Pop Story',\n",
       " 'Princess Coloring Book',\n",
       " 'Hello Kitty Nail Salon',\n",
       " 'Candy Smash',\n",
       " 'Happy Fruits Bomb - Cube Blast',\n",
       " 'Princess Adventures Puzzles',\n",
       " 'Kids Educational Game 3 Free',\n",
       " 'Puzzle Kids - Animals Shapes and Jigsaw Puzzles',\n",
       " 'Coloring book moana',\n",
       " 'Baby Panda Care',\n",
       " 'Kids Educational :All in One',\n",
       " 'Number Counting games for toddler preschool kids',\n",
       " 'Learn To Draw Glow Flower',\n",
       " 'No. Color - Color by Number, Number Coloring',\n",
       " 'Draw.ly - Color by Number Pixel Art Coloring',\n",
       " 'Baby puzzles',\n",
       " 'Garden Fruit Legend',\n",
       " 'Barbie™ Fashion Closet',\n",
       " 'Candy Day']"
      ]
     },
     "execution_count": 84,
     "metadata": {},
     "output_type": "execute_result"
    }
   ],
   "source": [
    "android_family_apps = []\n",
    "\n",
    "for app in free_english_android_data_cleaned:\n",
    "  app_name = app[0]\n",
    "  category = app[1]\n",
    "  if category == \"FAMILY\":\n",
    "    android_family_apps.append(app_name)\n",
    "\n",
    "android_family_apps[:25]"
   ]
  },
  {
   "cell_type": "markdown",
   "id": "38ee3df5",
   "metadata": {},
   "source": [
    "#### Google Play Store: Most Common Genres"
   ]
  },
  {
   "cell_type": "code",
   "execution_count": null,
   "id": "95b0ab6d",
   "metadata": {},
   "outputs": [
    {
     "name": "stdout",
     "output_type": "stream",
     "text": [
      "Tools : 749\n",
      "Entertainment : 538\n",
      "Education : 474\n",
      "Business : 407\n",
      "Productivity : 345\n",
      "Lifestyle : 345\n",
      "Finance : 328\n",
      "Medical : 313\n",
      "Sports : 307\n",
      "Personalization : 294\n",
      "Communication : 287\n",
      "Action : 275\n",
      "Health & Fitness : 273\n",
      "Photography : 261\n",
      "News & Magazines : 248\n",
      "Social : 236\n",
      "Travel & Local : 206\n",
      "Shopping : 199\n",
      "Books & Reference : 190\n",
      "Simulation : 181\n",
      "Dating : 165\n",
      "Arcade : 164\n",
      "Video Players & Editors : 157\n",
      "Casual : 156\n",
      "Maps & Navigation : 124\n",
      "Food & Drink : 110\n",
      "Puzzle : 100\n",
      "Racing : 88\n",
      "Role Playing : 83\n",
      "Libraries & Demo : 83\n",
      "Auto & Vehicles : 82\n",
      "Strategy : 80\n",
      "House & Home : 73\n",
      "Weather : 71\n",
      "Events : 63\n",
      "Adventure : 60\n",
      "Comics : 54\n",
      "Beauty : 53\n",
      "Art & Design : 53\n",
      "Parenting : 44\n",
      "Card : 40\n",
      "Casino : 38\n",
      "Trivia : 37\n",
      "Educational;Education : 35\n",
      "Board : 34\n",
      "Educational : 33\n",
      "Education;Education : 30\n",
      "Word : 23\n",
      "Casual;Pretend Play : 21\n",
      "Music : 18\n",
      "Racing;Action & Adventure : 15\n",
      "Puzzle;Brain Games : 15\n",
      "Entertainment;Music & Video : 15\n",
      "Casual;Brain Games : 12\n",
      "Casual;Action & Adventure : 12\n",
      "Arcade;Action & Adventure : 11\n",
      "Action;Action & Adventure : 9\n",
      "Educational;Pretend Play : 8\n",
      "Simulation;Action & Adventure : 7\n",
      "Parenting;Education : 7\n",
      "Entertainment;Brain Games : 7\n",
      "Board;Brain Games : 7\n",
      "Parenting;Music & Video : 6\n",
      "Educational;Brain Games : 6\n",
      "Casual;Creativity : 6\n",
      "Art & Design;Creativity : 6\n",
      "Education;Pretend Play : 5\n",
      "Role Playing;Pretend Play : 4\n",
      "Education;Creativity : 4\n",
      "Role Playing;Action & Adventure : 3\n",
      "Puzzle;Action & Adventure : 3\n",
      "Entertainment;Creativity : 3\n",
      "Entertainment;Action & Adventure : 3\n",
      "Educational;Creativity : 3\n",
      "Educational;Action & Adventure : 3\n",
      "Education;Music & Video : 3\n",
      "Education;Brain Games : 3\n",
      "Education;Action & Adventure : 3\n",
      "Adventure;Action & Adventure : 3\n",
      "Video Players & Editors;Music & Video : 2\n",
      "Sports;Action & Adventure : 2\n",
      "Simulation;Pretend Play : 2\n",
      "Puzzle;Creativity : 2\n",
      "Music;Music & Video : 2\n",
      "Entertainment;Pretend Play : 2\n",
      "Casual;Education : 2\n",
      "Board;Action & Adventure : 2\n",
      "Video Players & Editors;Creativity : 1\n",
      "Trivia;Education : 1\n",
      "Travel & Local;Action & Adventure : 1\n",
      "Tools;Education : 1\n",
      "Strategy;Education : 1\n",
      "Strategy;Creativity : 1\n",
      "Strategy;Action & Adventure : 1\n",
      "Simulation;Education : 1\n",
      "Role Playing;Brain Games : 1\n",
      "Racing;Pretend Play : 1\n",
      "Puzzle;Education : 1\n",
      "Parenting;Brain Games : 1\n",
      "Music & Audio;Music & Video : 1\n",
      "Lifestyle;Pretend Play : 1\n",
      "Lifestyle;Education : 1\n",
      "Health & Fitness;Education : 1\n",
      "Health & Fitness;Action & Adventure : 1\n",
      "Entertainment;Education : 1\n",
      "Communication;Creativity : 1\n",
      "Comics;Creativity : 1\n",
      "Casual;Music & Video : 1\n",
      "Card;Action & Adventure : 1\n",
      "Books & Reference;Education : 1\n",
      "Art & Design;Pretend Play : 1\n",
      "Art & Design;Action & Adventure : 1\n",
      "Arcade;Pretend Play : 1\n",
      "Adventure;Education : 1\n"
     ]
    }
   ],
   "source": [
    "free_english_android_genres_frequencies = display_table(free_english_android_data_cleaned, column=9, percentage=False) # generates a frequency table for the Genres column in the Google Play dataset"
   ]
  },
  {
   "cell_type": "code",
   "execution_count": 82,
   "id": "e046767b",
   "metadata": {},
   "outputs": [
    {
     "name": "stdout",
     "output_type": "stream",
     "text": [
      "Tools : 8.45%\n",
      "Entertainment : 6.07%\n",
      "Education : 5.35%\n",
      "Business : 4.59%\n",
      "Productivity : 3.89%\n",
      "Lifestyle : 3.89%\n",
      "Finance : 3.7%\n",
      "Medical : 3.53%\n",
      "Sports : 3.46%\n",
      "Personalization : 3.32%\n",
      "Communication : 3.24%\n",
      "Action : 3.1%\n",
      "Health & Fitness : 3.08%\n",
      "Photography : 2.94%\n",
      "News & Magazines : 2.8%\n",
      "Social : 2.66%\n",
      "Travel & Local : 2.32%\n",
      "Shopping : 2.25%\n",
      "Books & Reference : 2.14%\n",
      "Simulation : 2.04%\n",
      "Dating : 1.86%\n",
      "Arcade : 1.85%\n",
      "Video Players & Editors : 1.77%\n",
      "Casual : 1.76%\n",
      "Maps & Navigation : 1.4%\n",
      "Food & Drink : 1.24%\n",
      "Puzzle : 1.13%\n",
      "Racing : 0.99%\n",
      "Role Playing : 0.94%\n",
      "Libraries & Demo : 0.94%\n",
      "Auto & Vehicles : 0.93%\n",
      "Strategy : 0.9%\n",
      "House & Home : 0.82%\n",
      "Weather : 0.8%\n",
      "Events : 0.71%\n",
      "Adventure : 0.68%\n",
      "Comics : 0.61%\n",
      "Beauty : 0.6%\n",
      "Art & Design : 0.6%\n",
      "Parenting : 0.5%\n",
      "Card : 0.45%\n",
      "Casino : 0.43%\n",
      "Trivia : 0.42%\n",
      "Educational;Education : 0.39%\n",
      "Board : 0.38%\n",
      "Educational : 0.37%\n",
      "Education;Education : 0.34%\n",
      "Word : 0.26%\n",
      "Casual;Pretend Play : 0.24%\n",
      "Music : 0.2%\n",
      "Racing;Action & Adventure : 0.17%\n",
      "Puzzle;Brain Games : 0.17%\n",
      "Entertainment;Music & Video : 0.17%\n",
      "Casual;Brain Games : 0.14%\n",
      "Casual;Action & Adventure : 0.14%\n",
      "Arcade;Action & Adventure : 0.12%\n",
      "Action;Action & Adventure : 0.1%\n",
      "Educational;Pretend Play : 0.09%\n",
      "Simulation;Action & Adventure : 0.08%\n",
      "Parenting;Education : 0.08%\n",
      "Entertainment;Brain Games : 0.08%\n",
      "Board;Brain Games : 0.08%\n",
      "Parenting;Music & Video : 0.07%\n",
      "Educational;Brain Games : 0.07%\n",
      "Casual;Creativity : 0.07%\n",
      "Art & Design;Creativity : 0.07%\n",
      "Education;Pretend Play : 0.06%\n",
      "Role Playing;Pretend Play : 0.05%\n",
      "Education;Creativity : 0.05%\n",
      "Role Playing;Action & Adventure : 0.03%\n",
      "Puzzle;Action & Adventure : 0.03%\n",
      "Entertainment;Creativity : 0.03%\n",
      "Entertainment;Action & Adventure : 0.03%\n",
      "Educational;Creativity : 0.03%\n",
      "Educational;Action & Adventure : 0.03%\n",
      "Education;Music & Video : 0.03%\n",
      "Education;Brain Games : 0.03%\n",
      "Education;Action & Adventure : 0.03%\n",
      "Adventure;Action & Adventure : 0.03%\n",
      "Video Players & Editors;Music & Video : 0.02%\n",
      "Sports;Action & Adventure : 0.02%\n",
      "Simulation;Pretend Play : 0.02%\n",
      "Puzzle;Creativity : 0.02%\n",
      "Music;Music & Video : 0.02%\n",
      "Entertainment;Pretend Play : 0.02%\n",
      "Casual;Education : 0.02%\n",
      "Board;Action & Adventure : 0.02%\n",
      "Video Players & Editors;Creativity : 0.01%\n",
      "Trivia;Education : 0.01%\n",
      "Travel & Local;Action & Adventure : 0.01%\n",
      "Tools;Education : 0.01%\n",
      "Strategy;Education : 0.01%\n",
      "Strategy;Creativity : 0.01%\n",
      "Strategy;Action & Adventure : 0.01%\n",
      "Simulation;Education : 0.01%\n",
      "Role Playing;Brain Games : 0.01%\n",
      "Racing;Pretend Play : 0.01%\n",
      "Puzzle;Education : 0.01%\n",
      "Parenting;Brain Games : 0.01%\n",
      "Music & Audio;Music & Video : 0.01%\n",
      "Lifestyle;Pretend Play : 0.01%\n",
      "Lifestyle;Education : 0.01%\n",
      "Health & Fitness;Education : 0.01%\n",
      "Health & Fitness;Action & Adventure : 0.01%\n",
      "Entertainment;Education : 0.01%\n",
      "Communication;Creativity : 0.01%\n",
      "Comics;Creativity : 0.01%\n",
      "Casual;Music & Video : 0.01%\n",
      "Card;Action & Adventure : 0.01%\n",
      "Books & Reference;Education : 0.01%\n",
      "Art & Design;Pretend Play : 0.01%\n",
      "Art & Design;Action & Adventure : 0.01%\n",
      "Arcade;Pretend Play : 0.01%\n",
      "Adventure;Education : 0.01%\n"
     ]
    }
   ],
   "source": [
    "free_english_android_genres_percentages = display_table(free_english_android_data_cleaned, column=9, percentage=True)"
   ]
  },
  {
   "cell_type": "markdown",
   "id": "e2e89737",
   "metadata": {},
   "source": [
    "Comparing the results of the `Genres` column to the `Catgeory` column within the Google Play dataset, we note that the `Genres` column is more granular, containing more categories. The exact difference between the two is not obvious, but the most common genres in the `Genres` column seem to generally align with the most common categories listed above from the `Categories` column. Since we are only interested in insights at a higher level, we can just focus on the `Category` column as this is more coarse (i.e., less granular).\n",
    "\n",
    "We can now turn our attention to analysing the most popular apps by genre on both marketplaces."
   ]
  },
  {
   "cell_type": "markdown",
   "id": "70c2a7da",
   "metadata": {},
   "source": [
    "### Most Popular Apps by Genre on the App Store\n",
    "One route we can take to determine what genres have the largest user base is to calculate the average number of installs for each app genre. We can use the `Installs` column when working with the Google Play dataset, but this information is not readily available for the App Store data.\n",
    "\n",
    "As a workaround, we can use the total number of user ratings (`rating_count_tot`) as a proxy."
   ]
  },
  {
   "cell_type": "code",
   "execution_count": 88,
   "id": "c82b1f6d",
   "metadata": {},
   "outputs": [
    {
     "name": "stdout",
     "output_type": "stream",
     "text": [
      "Social Networking : 71548.35\n",
      "Photo & Video : 28441.54\n",
      "Games : 22788.67\n",
      "Music : 57326.53\n",
      "Reference : 74942.11\n",
      "Health & Fitness : 23298.02\n",
      "Weather : 52279.89\n",
      "Utilities : 18684.46\n",
      "Travel : 28243.8\n",
      "Shopping : 26919.69\n",
      "News : 21248.02\n",
      "Navigation : 86090.33\n",
      "Lifestyle : 16485.76\n",
      "Entertainment : 14029.83\n",
      "Food & Drink : 33333.92\n",
      "Sports : 23008.9\n",
      "Book : 39758.5\n",
      "Finance : 31467.94\n",
      "Education : 7003.98\n",
      "Productivity : 21028.41\n",
      "Business : 7491.12\n",
      "Catalogs : 4004.0\n",
      "Medical : 612.0\n"
     ]
    }
   ],
   "source": [
    "free_english_apple_genres_frequencies = freq_table(free_english_apple_data_cleaned, column=11, percentage=False)\n",
    "\n",
    "for genre in free_english_apple_genres_frequencies:\n",
    "  total = 0\n",
    "  len_genre = 0\n",
    "  for app in free_english_apple_data_cleaned:\n",
    "    genre_app = app[11]\n",
    "    if genre_app == genre:\n",
    "      n_ratings = float(app[5])\n",
    "      total += n_ratings\n",
    "      len_genre += 1\n",
    "      \n",
    "  avg_n_ratings = round(total / len_genre, 2)\n",
    "  print(genre, ':', avg_n_ratings)"
   ]
  },
  {
   "cell_type": "markdown",
   "id": "46187bce",
   "metadata": {},
   "source": [
    "On average, navigation apps have the greatest average number of user ratings. The average is heavily influenced by Waze and Google Maps, which almost have half a million reviews together. Considering the median is preferable to negate the influence of these extreme values. \n",
    "\n",
    "A median of just under 8,200 ratings is still relatively **large** for a genre as a whole, so there could be some potential here. It is worth noting however that there are only 5 datapoints for this genre over the entire dataset, so it is difficult to confidently state the median value of 8,200 is representative of the true average if this was repeated with a larger sample size. \n",
    "\n",
    ">Even so, it could still be worth looking into for the company as the market is definitely not oversaturated in this genre!"
   ]
  },
  {
   "cell_type": "code",
   "execution_count": 99,
   "id": "64d0daf3",
   "metadata": {},
   "outputs": [
    {
     "name": "stdout",
     "output_type": "stream",
     "text": [
      "Waze - GPS Navigation, Maps & Real-time Traffic : 345046\n",
      "Google Maps - Navigation & Transit : 154911\n",
      "Geocaching® : 12811\n",
      "CoPilot GPS – Car Navigation & Offline Maps : 3582\n",
      "ImmobilienScout24: Real Estate Search in Germany : 187\n",
      "Railway Route Search : 5\n",
      "\n",
      "\n",
      "Median: 8196.5\n"
     ]
    }
   ],
   "source": [
    "for app in free_english_apple_data_cleaned:\n",
    "  if app[11] == \"Navigation\":\n",
    "    print(app[1], ':', app[5])\n",
    "\n",
    "print(\"\\n\")    \n",
    "print(\"Median: \" + str((12811+3582)/2))"
   ]
  },
  {
   "cell_type": "markdown",
   "id": "c782ebd5",
   "metadata": {},
   "source": [
    "The Social Networking genre is similarly challenging to break into as the highest rated networking apps (Facebook, Pinterest, Skype, Messenger, etc.) disproportionately drive up the mean total user ratings. \n",
    "\n",
    "If we take the median for the Social Networking genre, we have a smaller middling value of 4,199 total ratings. The market is also far more saturated in this particular genre, so we can expect a Social Networking app to be a lot more challenging to make work.\n",
    "\n",
    "A similar story applies to other big genres like the Music genre (Pandora, Spotify and Shazam all significantly skew the average). We could remove the extremely popular apps within each genre for a more balanced picture, but this level of detail can be implemented at a later date."
   ]
  },
  {
   "cell_type": "code",
   "execution_count": null,
   "id": "3bdc6bc3",
   "metadata": {},
   "outputs": [
    {
     "name": "stdout",
     "output_type": "stream",
     "text": [
      "Facebook : 2974676\n",
      "Pinterest : 1061624\n",
      "Skype for iPhone : 373519\n",
      "Messenger : 351466\n",
      "Tumblr : 334293\n",
      "WhatsApp Messenger : 287589\n",
      "Kik : 260965\n",
      "ooVoo – Free Video Call, Text and Voice : 177501\n",
      "TextNow - Unlimited Text + Calls : 164963\n",
      "Viber Messenger – Text & Call : 164249\n",
      "Followers - Social Analytics For Instagram : 112778\n",
      "MeetMe - Chat and Meet New People : 97072\n",
      "We Heart It - Fashion, wallpapers, quotes, tattoos : 90414\n",
      "InsTrack for Instagram - Analytics Plus More : 85535\n",
      "Tango - Free Video Call, Voice and Chat : 75412\n",
      "LinkedIn : 71856\n",
      "Match™ - #1 Dating App. : 60659\n",
      "Skype for iPad : 60163\n",
      "POF - Best Dating App for Conversations : 52642\n",
      "Timehop : 49510\n",
      "Find My Family, Friends & iPhone - Life360 Locator : 43877\n",
      "Whisper - Share, Express, Meet : 39819\n",
      "Hangouts : 36404\n",
      "LINE PLAY - Your Avatar World : 34677\n",
      "WeChat : 34584\n",
      "Badoo - Meet New People, Chat, Socialize. : 34428\n",
      "Followers + for Instagram - Follower Analytics : 28633\n",
      "GroupMe : 28260\n",
      "Marco Polo Video Walkie Talkie : 27662\n",
      "Miitomo : 23965\n",
      "SimSimi : 23530\n",
      "Grindr - Gay and same sex guys chat, meet and date : 23201\n",
      "Wishbone - Compare Anything : 20649\n",
      "imo video calls and chat : 18841\n",
      "After School - Funny Anonymous School News : 18482\n",
      "Quick Reposter - Repost, Regram and Reshare Photos : 17694\n",
      "Weibo HD : 16772\n",
      "Repost for Instagram : 15185\n",
      "Live.me – Live Video Chat & Make Friends Nearby : 14724\n",
      "Nextdoor : 14402\n",
      "Followers Analytics for Instagram - InstaReport : 13914\n",
      "YouNow: Live Stream Video Chat : 12079\n",
      "FollowMeter for Instagram - Followers Tracking : 11976\n",
      "LINE : 11437\n",
      "eHarmony™ Dating App - Meet Singles : 11124\n",
      "Discord - Chat for Gamers : 9152\n",
      "QQ : 9109\n",
      "Telegram Messenger : 7573\n",
      "Weibo : 7265\n",
      "Periscope - Live Video Streaming Around the World : 6062\n",
      "Chat for Whatsapp - iPad Version : 5060\n",
      "QQ HD : 5058\n",
      "Followers Analysis Tool For Instagram App Free : 4253\n",
      "live.ly - live video streaming : 4145\n",
      "Houseparty - Group Video Chat : 3991\n",
      "SOMA Messenger : 3232\n",
      "Monkey : 3060\n",
      "Down To Lunch : 2535\n",
      "Flinch - Video Chat Staring Contest : 2134\n",
      "Highrise - Your Avatar Community : 2011\n",
      "LOVOO - Dating Chat : 1985\n",
      "PlayStation®Messages : 1918\n",
      "BOO! - Video chat camera with filters & stickers : 1805\n",
      "Qzone : 1649\n",
      "Chatous - Chat with new people : 1609\n",
      "Kiwi - Q&A : 1538\n",
      "GhostCodes - a discovery app for Snapchat : 1313\n",
      "Jodel : 1193\n",
      "FireChat : 1037\n",
      "Google Duo - simple video calling : 1033\n",
      "Fiesta by Tango - Chat & Meet New People : 885\n",
      "Google Allo — smart messaging : 862\n",
      "Peach — share vividly : 727\n",
      "Hey! VINA - Where Women Meet New Friends : 719\n",
      "Battlefield™ Companion : 689\n",
      "All Devices for WhatsApp - Messenger for iPad : 682\n",
      "Chat for Pokemon Go - GoChat : 500\n",
      "IAmNaughty – Dating App to Meet New People Online : 463\n",
      "Qzone HD : 458\n",
      "Zenly - Locate your friends in realtime : 427\n",
      "League of Legends Friends : 420\n",
      "豆瓣 : 407\n",
      "Candid - Speak Your Mind Freely : 398\n",
      "知乎 : 397\n",
      "Selfeo : 366\n",
      "Fake-A-Location Free ™ : 354\n",
      "Popcorn Buzz - Free Group Calls : 281\n",
      "Fam — Group video calling for iMessage : 279\n",
      "QQ International : 274\n",
      "Ameba : 269\n",
      "SoundCloud Pulse: for creators : 240\n",
      "Tantan : 235\n",
      "Cougar Dating & Life Style App for Mature Women : 213\n",
      "Rawr Messenger - Dab your chat : 180\n",
      "WhenToPost: Best Time to Post Photos for Instagram : 158\n",
      "Inke—Broadcast an amazing life : 147\n",
      "Mustknow - anonymous video Q&A : 53\n",
      "CTFxCmoji : 39\n",
      "Lobi : 36\n",
      "Chain: Collaborate On MyVideo Story/Group Video : 35\n",
      "botman - Real time video chat : 7\n",
      "BestieBox : 0\n",
      "MATCH ON LINE chat : 0\n",
      "niconico ch : 0\n",
      "LINE BLOG : 0\n",
      "bit-tube - Live Stream Video Chat : 0\n",
      "\n",
      "\n",
      "Number of social networking apps: 106\n",
      "Median: 4199.0\n"
     ]
    }
   ],
   "source": [
    "social_networking_apple_apps = []\n",
    "for app in free_english_apple_data_cleaned:\n",
    "  if app[11] == \"Social Networking\":\n",
    "    social_networking_apple_apps.append(app)\n",
    "    print(app[1], ':', app[5])\n",
    "\n",
    "print(\"\\n\")    \n",
    "print(\"Number of social networking apps: \" + str(len(social_networking_apple_apps)))\n",
    "print(\"Median: \" + str((4253+4145)/2))"
   ]
  },
  {
   "cell_type": "markdown",
   "id": "58c84387",
   "metadata": {},
   "source": [
    "Reference apps have a mean number of ratings of 74,942 - though this is skewed upwards by the Bible and Dictionary.com apps. There does seem to be some potential in this genre however, with a median of 6,614 ratings. It is also not an overly saturated market, with only 18 apps falling within this category.\n",
    "\n",
    "One avenue to explore could be to take a popular book and build this into an app, adding additional features beyond the raw digital book. This could be along the lines of providing the user with daily quotes from the book, an audio version of the book or integrated study materials (e.g., quizzes, flash cards, an annotation feature) if the book is a text commonly studied as part of a school course/university course etc. \n",
    "\n",
    "We could also integrate extra features such as an in-built dictionary/pronunciation guide, include user stats (such as reading speed), include reminders to read for a specified amount of time each day and so on.\n",
    "\n",
    "This idea does seem to be somewhat promising, especially considering that the App Store has a large emphasis on gaming and 'for-fun' style apps. To give us the best chance at success, the app should ideally not be launched into a saturated genre and offer features that break-the-mould of the apps within that genre."
   ]
  },
  {
   "cell_type": "code",
   "execution_count": 121,
   "id": "f7e69bac",
   "metadata": {},
   "outputs": [
    {
     "name": "stdout",
     "output_type": "stream",
     "text": [
      "Bible : 985920\n",
      "Dictionary.com Dictionary & Thesaurus : 200047\n",
      "Dictionary.com Dictionary & Thesaurus for iPad : 54175\n",
      "Google Translate : 26786\n",
      "Muslim Pro: Ramadan 2017 Prayer Times, Azan, Quran : 18418\n",
      "New Furniture Mods - Pocket Wiki & Game Tools for Minecraft PC Edition : 17588\n",
      "Merriam-Webster Dictionary : 16849\n",
      "Night Sky : 12122\n",
      "City Maps for Minecraft PE - The Best Maps for Minecraft Pocket Edition (MCPE) : 8535\n",
      "LUCKY BLOCK MOD ™ for Minecraft PC Edition - The Best Pocket Wiki & Mods Installer Tools : 4693\n",
      "GUNS MODS for Minecraft PC Edition - Mods Tools : 1497\n",
      "Guides for Pokémon GO - Pokemon GO News and Cheats : 826\n",
      "WWDC : 762\n",
      "Horror Maps for Minecraft PE - Download The Scariest Maps for Minecraft Pocket Edition (MCPE) Free : 718\n",
      "VPN Express : 14\n",
      "Real Bike Traffic Rider Virtual Reality Glasses : 8\n",
      "教えて!goo : 0\n",
      "Jishokun-Japanese English Dictionary & Translator : 0\n",
      "\n",
      "\n",
      "Number of reference apps: 18\n",
      "Median: 6614.0\n"
     ]
    }
   ],
   "source": [
    "reference_apple_apps = []\n",
    "for app in free_english_apple_data_cleaned:\n",
    "  if app[11] == \"Reference\":\n",
    "    reference_apple_apps.append(app)\n",
    "    print(app[1], ':', app[5])\n",
    "\n",
    "print(\"\\n\")    \n",
    "print(\"Number of reference apps: \" + str(len(reference_apple_apps)))\n",
    "print(\"Median: \" + str((8535+4693)/2))"
   ]
  },
  {
   "cell_type": "markdown",
   "id": "0a605750",
   "metadata": {},
   "source": [
    "Some other genres that appear to be large include `Food & Drink`, `Weather` and `Finance`. \n",
    "\n",
    "These genres are not likely to be of interest to us:\n",
    "\n",
    "* `Food & Drink`: Starbucks, Dunkin' Donuts, McDonald's, ... Making a popular app in this genre would require a vast amount of work and domain knowledge outside of the scope of a start-up app developing company.\n",
    "\n",
    "* `Weather`: people generally do not spend much time in-app and there are alternatives in the market that will not present the user with any ads. There is no good reason to believe building a weather app with in-app ads would do better than competitors on the market.\n",
    "\n",
    "* `Finance`: these apps involve personal banking, bill payment, money transfers and so on. This would require domain knowledge outside of the scope of the company."
   ]
  },
  {
   "cell_type": "markdown",
   "id": "2437f049",
   "metadata": {},
   "source": [
    "### Most Popular Apps by Genre on the Google Play Store\n",
    "\n",
    "As was mentioned above, we have a `Installs` column within the Google Play dataset, so we can get a more accurate picture of app popularity."
   ]
  },
  {
   "cell_type": "code",
   "execution_count": 122,
   "id": "a38cd273",
   "metadata": {},
   "outputs": [
    {
     "name": "stdout",
     "output_type": "stream",
     "text": [
      "1,000,000+ : 15.73%\n",
      "100,000+ : 11.55%\n",
      "10,000,000+ : 10.55%\n",
      "10,000+ : 10.2%\n",
      "1,000+ : 8.39%\n",
      "100+ : 6.92%\n",
      "5,000,000+ : 6.83%\n",
      "500,000+ : 5.56%\n",
      "50,000+ : 4.77%\n",
      "5,000+ : 4.51%\n",
      "10+ : 3.54%\n",
      "500+ : 3.25%\n",
      "50,000,000+ : 2.3%\n",
      "100,000,000+ : 2.13%\n",
      "50+ : 1.92%\n",
      "5+ : 0.79%\n",
      "1+ : 0.51%\n",
      "500,000,000+ : 0.27%\n",
      "1,000,000,000+ : 0.23%\n",
      "0+ : 0.05%\n"
     ]
    }
   ],
   "source": [
    "display_table(free_english_android_data_cleaned, column=5, percentage=True)"
   ]
  },
  {
   "cell_type": "markdown",
   "id": "e122aa14",
   "metadata": {},
   "source": [
    "Unfortunately, we lose some precision in the numbers as the install numbers are grouped over a wide range. An app falling into the 100,000+ install range could have installs ranging from anywhere between 100,000 to 999,999 - we cannot know. We can still use this data as we are interested moreso in the bigger picture."
   ]
  },
  {
   "cell_type": "markdown",
   "id": "2d2f4474",
   "metadata": {},
   "source": [
    "In the same manner as we calculated the average total ratings of the genres for the App Store, we do the same for the `Category` column of the Google Play dataset. We handle the imprecision noted above by converting an app with, say, 100,000+ installs to 100,000. To do this, we replace the \",\" and \"+\" characters from the `Installs` strings and convert the data type to a float to perform arithmetic operations to find the mean."
   ]
  },
  {
   "cell_type": "code",
   "execution_count": 130,
   "id": "fa396d4a",
   "metadata": {},
   "outputs": [
    {
     "name": "stdout",
     "output_type": "stream",
     "text": [
      "ART_AND_DESIGN : 1986335.09\n",
      "AUTO_AND_VEHICLES : 647317.82\n",
      "BEAUTY : 513151.89\n",
      "BOOKS_AND_REFERENCE : 8767811.89\n",
      "BUSINESS : 1712290.15\n",
      "COMICS : 817657.27\n",
      "COMMUNICATION : 38456119.17\n",
      "DATING : 854028.83\n",
      "EDUCATION : 1833495.15\n",
      "ENTERTAINMENT : 11640705.88\n",
      "EVENTS : 253542.22\n",
      "FINANCE : 1387692.48\n",
      "FOOD_AND_DRINK : 1924897.74\n",
      "HEALTH_AND_FITNESS : 4188821.99\n",
      "HOUSE_AND_HOME : 1331540.56\n",
      "LIBRARIES_AND_DEMO : 638503.73\n",
      "LIFESTYLE : 1437816.27\n",
      "GAME : 15588015.6\n",
      "FAMILY : 3697848.17\n",
      "MEDICAL : 120550.62\n",
      "SOCIAL : 23253652.13\n",
      "SHOPPING : 7036877.31\n",
      "PHOTOGRAPHY : 17840110.4\n",
      "SPORTS : 3638640.14\n",
      "TRAVEL_AND_LOCAL : 13984077.71\n",
      "TOOLS : 10801391.3\n",
      "PERSONALIZATION : 5201482.61\n",
      "PRODUCTIVITY : 16787331.34\n",
      "PARENTING : 542603.62\n",
      "WEATHER : 5074486.2\n",
      "VIDEO_PLAYERS : 24727872.45\n",
      "NEWS_AND_MAGAZINES : 9549178.47\n",
      "MAPS_AND_NAVIGATION : 4056941.77\n"
     ]
    }
   ],
   "source": [
    "free_english_android_category_frequencies = freq_table(free_english_android_data_cleaned, column=1, percentage=False)\n",
    "\n",
    "for category in free_english_android_category_frequencies:\n",
    "  total = 0\n",
    "  len_category = 0\n",
    "  for app in free_english_android_data_cleaned:\n",
    "    category_app = app[1]\n",
    "    if category_app == category:\n",
    "      n_installs = app[5]\n",
    "      n_installs = n_installs.replace(\",\", \"\")\n",
    "      n_installs = n_installs.replace(\"+\", \"\")\n",
    "      n_installs = float(n_installs)\n",
    "      total += n_installs\n",
    "      len_category += 1\n",
    "      \n",
    "  avg_n_ratings = round(total / len_category, 2)\n",
    "  print(category, ':', avg_n_ratings)"
   ]
  },
  {
   "cell_type": "markdown",
   "id": "9a7f2012",
   "metadata": {},
   "source": [
    "On average, of the Free English apps on the Google Play store, `Communications` apps have the greatest number of installs (38,456,119). This number is heavily skewed upwards by a select few apps (WhatsApp, Messenger, Skype, Google Chrome, Gmail, Hangouts, ...). If we removed all apps with over 100 million installs, the average would drop by roughly 10 times (to around 3-4 million installs)."
   ]
  },
  {
   "cell_type": "code",
   "execution_count": 133,
   "id": "0a908682",
   "metadata": {},
   "outputs": [
    {
     "name": "stdout",
     "output_type": "stream",
     "text": [
      "WhatsApp Messenger : 1,000,000,000+\n",
      "Google Duo - High Quality Video Calls : 500,000,000+\n",
      "Messenger – Text and Video Chat for Free : 1,000,000,000+\n",
      "imo free video calls and chat : 500,000,000+\n",
      "Skype - free IM & video calls : 1,000,000,000+\n",
      "LINE: Free Calls & Messages : 500,000,000+\n",
      "Google Chrome: Fast & Secure : 1,000,000,000+\n",
      "UC Browser - Fast Download Private & Secure : 500,000,000+\n",
      "Gmail : 1,000,000,000+\n",
      "Hangouts : 1,000,000,000+\n",
      "Viber Messenger : 500,000,000+\n"
     ]
    }
   ],
   "source": [
    "for app in free_english_android_data_cleaned:\n",
    "  if app[1] == \"COMMUNICATION\" and (app[5] == \"1,000,000,000+\" or app[5] == \"500,000,000+\"):\n",
    "    print(app[0], ':', app[5])"
   ]
  },
  {
   "cell_type": "markdown",
   "id": "286712cc",
   "metadata": {},
   "source": [
    "It is a similar story for the `VIDEO_PLAYERS` category at 24,727,872 installs. The market is dominated by giants such as YouTube, Google Play Movies & TV and MX Player. "
   ]
  },
  {
   "cell_type": "code",
   "execution_count": 134,
   "id": "d5a5d66a",
   "metadata": {},
   "outputs": [
    {
     "name": "stdout",
     "output_type": "stream",
     "text": [
      "YouTube : 1,000,000,000+\n",
      "Google Play Movies & TV : 1,000,000,000+\n",
      "MX Player : 500,000,000+\n"
     ]
    }
   ],
   "source": [
    "for app in free_english_android_data_cleaned:\n",
    "  if app[1] == \"VIDEO_PLAYERS\" and (app[5] == \"1,000,000,000+\" or app[5] == \"500,000,000+\"):\n",
    "    print(app[0], ':', app[5])"
   ]
  },
  {
   "cell_type": "markdown",
   "id": "69a0a138",
   "metadata": {},
   "source": [
    "The pattern is repeated for other categories including `SOCIAL`, `PHOTOGRAPHY` and `PRODUCTIVITY`, all having skewed averages due to the extreme number of installations of app giants in these genres. The main concern is that these markets are saturated and it will be very challenging to see success when up against the big titans.\n",
    "\n",
    "The `GAME` genre is popular, but as expected, is quite oversaturated."
   ]
  },
  {
   "cell_type": "code",
   "execution_count": 135,
   "id": "5a3a299d",
   "metadata": {},
   "outputs": [
    {
     "name": "stdout",
     "output_type": "stream",
     "text": [
      "Sonic Dash : 100,000,000+\n",
      "PAC-MAN : 100,000,000+\n",
      "Roll the Ball® - slide puzzle : 100,000,000+\n",
      "Piano Tiles 2™ : 100,000,000+\n",
      "Pokémon GO : 100,000,000+\n",
      "Extreme Car Driving Simulator : 100,000,000+\n",
      "Trivia Crack : 100,000,000+\n",
      "Angry Birds 2 : 100,000,000+\n",
      "Candy Crush Saga : 500,000,000+\n",
      "8 Ball Pool : 100,000,000+\n",
      "Subway Surfers : 1,000,000,000+\n",
      "Candy Crush Soda Saga : 100,000,000+\n",
      "Clash Royale : 100,000,000+\n",
      "Clash of Clans : 100,000,000+\n",
      "Plants vs. Zombies FREE : 100,000,000+\n",
      "Pou : 500,000,000+\n",
      "Flow Free : 100,000,000+\n",
      "My Talking Angela : 100,000,000+\n",
      "slither.io : 100,000,000+\n",
      "Cooking Fever : 100,000,000+\n",
      "Yes day : 100,000,000+\n",
      "Score! Hero : 100,000,000+\n",
      "Dream League Soccer 2018 : 100,000,000+\n",
      "My Talking Tom : 500,000,000+\n",
      "Sniper 3D Gun Shooter: Free Shooting Games - FPS : 100,000,000+\n",
      "Zombie Tsunami : 100,000,000+\n",
      "Helix Jump : 100,000,000+\n",
      "Crossy Road : 100,000,000+\n",
      "Temple Run 2 : 500,000,000+\n",
      "Talking Tom Gold Run : 100,000,000+\n",
      "Agar.io : 100,000,000+\n",
      "Bus Rush: Subway Edition : 100,000,000+\n",
      "Traffic Racer : 100,000,000+\n",
      "Hill Climb Racing : 100,000,000+\n",
      "Angry Birds Rio : 100,000,000+\n",
      "Cut the Rope FULL FREE : 100,000,000+\n",
      "Hungry Shark Evolution : 100,000,000+\n",
      "Angry Birds Classic : 100,000,000+\n",
      "Hill Climb Racing 2 : 100,000,000+\n",
      "Jetpack Joyride : 100,000,000+\n",
      "Super Mario Run : 100,000,000+\n",
      "Glow Hockey : 100,000,000+\n",
      "Asphalt 8: Airborne : 100,000,000+\n",
      "Lep's World 2 🍀🍀 : 100,000,000+\n",
      "Fruit Ninja® : 100,000,000+\n",
      "Vector : 100,000,000+\n",
      "Dr. Driving : 100,000,000+\n",
      "Bike Race Free - Top Motorcycle Racing Games : 100,000,000+\n",
      "Smash Hit : 100,000,000+\n",
      "Temple Run : 100,000,000+\n",
      "Geometry Dash Lite : 100,000,000+\n",
      "Ant Smasher by Best Cool & Fun Games : 100,000,000+\n",
      "Angry Birds Star Wars : 100,000,000+\n",
      "Mobile Legends: Bang Bang : 100,000,000+\n",
      "Banana Kong : 100,000,000+\n",
      "Skater Boy : 100,000,000+\n",
      "Shadow Fight 2 : 100,000,000+\n",
      "Modern Combat 5: eSports FPS : 100,000,000+\n",
      "Garena Free Fire : 100,000,000+\n"
     ]
    }
   ],
   "source": [
    "for app in free_english_android_data_cleaned:\n",
    "  if app[1] == \"GAME\" and (app[5] == \"1,000,000,000+\" or app[5] == \"500,000,000+\" or app[5] == \"100,000,000+\"):\n",
    "    print(app[0], ':', app[5])"
   ]
  },
  {
   "cell_type": "markdown",
   "id": "adf3e940",
   "metadata": {},
   "source": [
    "The `BOOKS_AND_REFERENCE` genre is also relatively popular (8,767,812 installs) and as a stand-out candidate from the App Store dataset, is definitely worth looking into."
   ]
  },
  {
   "cell_type": "code",
   "execution_count": null,
   "id": "2db1ee25",
   "metadata": {},
   "outputs": [
    {
     "name": "stdout",
     "output_type": "stream",
     "text": [
      "E-Book Read - Read Book for free : 50,000+\n",
      "Download free book with green book : 100,000+\n",
      "Wikipedia : 10,000,000+\n",
      "Cool Reader : 10,000,000+\n",
      "Free Panda Radio Music : 100,000+\n",
      "Book store : 1,000,000+\n",
      "FBReader: Favorite Book Reader : 10,000,000+\n",
      "English Grammar Complete Handbook : 500,000+\n",
      "Free Books - Spirit Fanfiction and Stories : 1,000,000+\n",
      "Google Play Books : 1,000,000,000+\n",
      "AlReader -any text book reader : 5,000,000+\n",
      "Offline English Dictionary : 100,000+\n",
      "Offline: English to Tagalog Dictionary : 500,000+\n",
      "FamilySearch Tree : 1,000,000+\n",
      "Cloud of Books : 1,000,000+\n",
      "Recipes of Prophetic Medicine for free : 500,000+\n",
      "ReadEra – free ebook reader : 1,000,000+\n",
      "Anonymous caller detection : 10,000+\n",
      "Ebook Reader : 5,000,000+\n",
      "Litnet - E-books : 100,000+\n",
      "Read books online : 5,000,000+\n",
      "English to Urdu Dictionary : 500,000+\n",
      "eBoox: book reader fb2 epub zip : 1,000,000+\n",
      "English Persian Dictionary : 500,000+\n",
      "Flybook : 500,000+\n",
      "All Maths Formulas : 1,000,000+\n",
      "Ancestry : 5,000,000+\n",
      "HTC Help : 10,000,000+\n",
      "English translation from Bengali : 100,000+\n",
      "Pdf Book Download - Read Pdf Book : 100,000+\n",
      "Free Book Reader : 100,000+\n",
      "eBoox new: Reader for fb2 epub zip books : 50,000+\n",
      "Only 30 days in English, the guideline is guaranteed : 500,000+\n",
      "Moon+ Reader : 10,000,000+\n",
      "SH-02J Owner's Manual (Android 8.0) : 50,000+\n",
      "English-Myanmar Dictionary : 1,000,000+\n",
      "Golden Dictionary (EN-AR) : 1,000,000+\n",
      "All Language Translator Free : 1,000,000+\n",
      "Azpen eReader : 500,000+\n",
      "URBANO V 02 instruction manual : 100,000+\n",
      "Bible : 100,000,000+\n",
      "C Programs and Reference : 50,000+\n",
      "C Offline Tutorial : 1,000+\n",
      "C Programs Handbook : 50,000+\n",
      "Amazon Kindle : 100,000,000+\n",
      "Aab e Hayat Full Novel : 100,000+\n",
      "Aldiko Book Reader : 10,000,000+\n",
      "Google I/O 2018 : 500,000+\n",
      "R Language Reference Guide : 10,000+\n",
      "Learn R Programming Full : 5,000+\n",
      "R Programing Offline Tutorial : 1,000+\n",
      "Guide for R Programming : 5+\n",
      "Learn R Programming : 10+\n",
      "R Quick Reference Big Data : 1,000+\n",
      "V Made : 100,000+\n",
      "Wattpad 📖 Free Books : 100,000,000+\n",
      "Dictionary - WordWeb : 5,000,000+\n",
      "Guide (for X-MEN) : 100,000+\n",
      "AC Air condition Troubleshoot,Repair,Maintenance : 5,000+\n",
      "AE Bulletins : 1,000+\n",
      "Ae Allah na Dai (Rasa) : 10,000+\n",
      "50000 Free eBooks & Free AudioBooks : 5,000,000+\n",
      "Ag PhD Field Guide : 10,000+\n",
      "Ag PhD Deficiencies : 10,000+\n",
      "Ag PhD Planting Population Calculator : 1,000+\n",
      "Ag PhD Soybean Diseases : 1,000+\n",
      "Fertilizer Removal By Crop : 50,000+\n",
      "A-J Media Vault : 50+\n",
      "Al-Quran (Free) : 10,000,000+\n",
      "Al Quran (Tafsir & by Word) : 500,000+\n",
      "Al Quran Indonesia : 10,000,000+\n",
      "Al'Quran Bahasa Indonesia : 10,000,000+\n",
      "Al Quran Al karim : 1,000,000+\n",
      "Al-Muhaffiz : 50,000+\n",
      "Al Quran : EAlim - Translations & MP3 Offline : 5,000,000+\n",
      "Al-Quran 30 Juz free copies : 500,000+\n",
      "Koran Read &MP3 30 Juz Offline : 1,000,000+\n",
      "Hafizi Quran 15 lines per page : 1,000,000+\n",
      "Quran for Android : 10,000,000+\n",
      "Surah Al-Waqiah : 100,000+\n",
      "Hisnul Al Muslim - Hisn Invocations & Adhkaar : 100,000+\n",
      "Satellite AR : 1,000,000+\n",
      "Audiobooks from Audible : 100,000,000+\n",
      "Kinot & Eichah for Tisha B'Av : 10,000+\n",
      "AW Tozer Devotionals - Daily : 5,000+\n",
      "Tozer Devotional -Series 1 : 1,000+\n",
      "The Pursuit of God : 1,000+\n",
      "AY Sing : 5,000+\n",
      "Ay Hasnain k Nana Milad Naat : 10,000+\n",
      "Ay Mohabbat Teri Khatir Novel : 10,000+\n",
      "Arizona Statutes, ARS (AZ Law) : 1,000+\n",
      "Oxford A-Z of English Usage : 1,000,000+\n",
      "BD Fishpedia : 1,000+\n",
      "BD All Sim Offer : 10,000+\n",
      "Youboox - Livres, BD et magazines : 500,000+\n",
      "B&H Kids AR : 10,000+\n",
      "B y H Niños ES : 5,000+\n",
      "Dictionary.com: Find Definitions for English Words : 10,000,000+\n",
      "English Dictionary - Offline : 10,000,000+\n",
      "Bible KJV : 5,000,000+\n",
      "Borneo Bible, BM Bible : 10,000+\n",
      "MOD Black for BM : 100+\n",
      "BM Box : 1,000+\n",
      "Anime Mod for BM : 100+\n",
      "NOOK: Read eBooks & Magazines : 10,000,000+\n",
      "NOOK Audiobooks : 500,000+\n",
      "NOOK App for NOOK Devices : 500,000+\n",
      "Browsery by Barnes & Noble : 5,000+\n",
      "bp e-store : 1,000+\n",
      "Brilliant Quotes: Life, Love, Family & Motivation : 1,000,000+\n",
      "BR Ambedkar Biography & Quotes : 10,000+\n",
      "BU Alsace : 100+\n",
      "Catholic La Bu Zo Kam : 500+\n",
      "Khrifa Hla Bu (Solfa) : 10+\n",
      "Kristian Hla Bu : 10,000+\n",
      "SA HLA BU : 1,000+\n",
      "Learn SAP BW : 500+\n",
      "Learn SAP BW on HANA : 500+\n",
      "CA Laws 2018 (California Laws and Codes) : 5,000+\n",
      "Bootable Methods(USB-CD-DVD) : 10,000+\n",
      "cloudLibrary : 100,000+\n",
      "SDA Collegiate Quarterly : 500+\n",
      "Sabbath School : 100,000+\n",
      "Cypress College Library : 100+\n",
      "Stats Royale for Clash Royale : 1,000,000+\n",
      "GATE 21 years CS Papers(2011-2018 Solved) : 50+\n",
      "Learn CT Scan Of Head : 5,000+\n",
      "Easy Cv maker 2018 : 10,000+\n",
      "How to Write CV : 100,000+\n",
      "CW Nuclear : 1,000+\n",
      "CY Spray nozzle : 10+\n",
      "BibleRead En Cy Zh Yue : 5+\n",
      "CZ-Help : 5+\n",
      "Modlitební knížka CZ : 500+\n",
      "Guide for DB Xenoverse : 10,000+\n",
      "Guide for DB Xenoverse 2 : 10,000+\n",
      "Guide for IMS DB : 10+\n",
      "DC HSEMA : 5,000+\n",
      "DC Public Library : 1,000+\n",
      "Painting Lulu DC Super Friends : 1,000+\n",
      "Dictionary : 10,000,000+\n",
      "Fix Error Google Playstore : 1,000+\n",
      "D. H. Lawrence Poems FREE : 1,000+\n",
      "Bilingual Dictionary Audio App : 5,000+\n",
      "DM Screen : 10,000+\n",
      "wikiHow: how to do anything : 1,000,000+\n",
      "Dr. Doug's Tips : 1,000+\n",
      "Bible du Semeur-BDS (French) : 50,000+\n",
      "La citadelle du musulman : 50,000+\n",
      "DV 2019 Entry Guide : 10,000+\n",
      "DV 2019 - EDV Photo & Form : 50,000+\n",
      "DV 2018 Winners Guide : 1,000+\n",
      "EB Annual Meetings : 1,000+\n",
      "EC - AP & Telangana : 5,000+\n",
      "TN Patta Citta & EC : 10,000+\n",
      "AP Stamps and Registration : 10,000+\n",
      "CompactiMa EC pH Calibration : 100+\n",
      "EGW Writings 2 : 100,000+\n",
      "EGW Writings : 1,000,000+\n",
      "Bible with EGW Comments : 100,000+\n",
      "My Little Pony AR Guide : 1,000,000+\n",
      "SDA Sabbath School Quarterly : 500,000+\n",
      "Duaa Ek Ibaadat : 5,000+\n",
      "Spanish English Translator : 10,000,000+\n",
      "Dictionary - Merriam-Webster : 10,000,000+\n",
      "JW Library : 10,000,000+\n",
      "Oxford Dictionary of English : Free : 10,000,000+\n",
      "English Hindi Dictionary : 10,000,000+\n",
      "English to Hindi Dictionary : 5,000,000+\n",
      "EP Research Service : 1,000+\n",
      "Hymnes et Louanges : 100,000+\n",
      "EU Charter : 1,000+\n",
      "EU Data Protection : 1,000+\n",
      "EU IP Codes : 100+\n",
      "EW PDF : 5+\n",
      "BakaReader EX : 100,000+\n",
      "EZ Quran : 50,000+\n",
      "FA Part 1 & 2 Past Papers Solved Free – Offline : 5,000+\n",
      "La Fe de Jesus : 1,000+\n",
      "La Fe de Jesús : 500+\n",
      "Le Fe de Jesus : 500+\n",
      "Florida - Pocket Brainbook : 1,000+\n",
      "Florida Statutes (FL Code) : 1,000+\n",
      "English To Shona Dictionary : 10,000+\n",
      "Greek Bible FP (Audio) : 1,000+\n",
      "Golden Dictionary (FR-AR) : 500,000+\n",
      "Fanfic-FR : 5,000+\n",
      "Bulgarian French Dictionary Fr : 10,000+\n",
      "Chemin (fr) : 1,000+\n",
      "The SCP Foundation DB fr nn5n : 1,000+\n",
      "\n",
      "\n",
      "Number of books and reference apps: 190\n"
     ]
    }
   ],
   "source": [
    "books_and_reference_apps = []\n",
    "for app in free_english_android_data_cleaned:\n",
    "  if app[1] == \"BOOKS_AND_REFERENCE\":\n",
    "    books_and_reference_apps.append(app)\n",
    "    print(app[0], ':', app[5])\n",
    "    \n",
    "print(\"\\n\")\n",
    "print(\"Number of books and reference apps: \" + str(len(books_and_reference_apps)))"
   ]
  },
  {
   "cell_type": "code",
   "execution_count": 141,
   "id": "fbf38cf7",
   "metadata": {},
   "outputs": [
    {
     "name": "stdout",
     "output_type": "stream",
     "text": [
      "Google Play Books : 1,000,000,000+\n",
      "Bible : 100,000,000+\n",
      "Amazon Kindle : 100,000,000+\n",
      "Wattpad 📖 Free Books : 100,000,000+\n",
      "Audiobooks from Audible : 100,000,000+\n"
     ]
    }
   ],
   "source": [
    "for app in free_english_android_data_cleaned:\n",
    "  if app[1] == \"BOOKS_AND_REFERENCE\" and (app[5] == \"1,000,000,000+\" or app[5] == \"500,000,000+\" or app[5] == \"100,000,000+\"):\n",
    "    print(app[0], ':', app[5])"
   ]
  },
  {
   "cell_type": "markdown",
   "id": "65bd04cf",
   "metadata": {},
   "source": [
    "Only a small number of very popular apps skew the average, so this market does show some potential. \n",
    "\n",
    "We can look into the types of apps that lie in the middle range for installs (say 1,000,000 to 50,000,000):"
   ]
  },
  {
   "cell_type": "code",
   "execution_count": 142,
   "id": "570a8ada",
   "metadata": {},
   "outputs": [
    {
     "name": "stdout",
     "output_type": "stream",
     "text": [
      "Wikipedia : 10,000,000+\n",
      "Cool Reader : 10,000,000+\n",
      "Book store : 1,000,000+\n",
      "FBReader: Favorite Book Reader : 10,000,000+\n",
      "Free Books - Spirit Fanfiction and Stories : 1,000,000+\n",
      "AlReader -any text book reader : 5,000,000+\n",
      "FamilySearch Tree : 1,000,000+\n",
      "Cloud of Books : 1,000,000+\n",
      "ReadEra – free ebook reader : 1,000,000+\n",
      "Ebook Reader : 5,000,000+\n",
      "Read books online : 5,000,000+\n",
      "eBoox: book reader fb2 epub zip : 1,000,000+\n",
      "All Maths Formulas : 1,000,000+\n",
      "Ancestry : 5,000,000+\n",
      "HTC Help : 10,000,000+\n",
      "Moon+ Reader : 10,000,000+\n",
      "English-Myanmar Dictionary : 1,000,000+\n",
      "Golden Dictionary (EN-AR) : 1,000,000+\n",
      "All Language Translator Free : 1,000,000+\n",
      "Aldiko Book Reader : 10,000,000+\n",
      "Dictionary - WordWeb : 5,000,000+\n",
      "50000 Free eBooks & Free AudioBooks : 5,000,000+\n",
      "Al-Quran (Free) : 10,000,000+\n",
      "Al Quran Indonesia : 10,000,000+\n",
      "Al'Quran Bahasa Indonesia : 10,000,000+\n",
      "Al Quran Al karim : 1,000,000+\n",
      "Al Quran : EAlim - Translations & MP3 Offline : 5,000,000+\n",
      "Koran Read &MP3 30 Juz Offline : 1,000,000+\n",
      "Hafizi Quran 15 lines per page : 1,000,000+\n",
      "Quran for Android : 10,000,000+\n",
      "Satellite AR : 1,000,000+\n",
      "Oxford A-Z of English Usage : 1,000,000+\n",
      "Dictionary.com: Find Definitions for English Words : 10,000,000+\n",
      "English Dictionary - Offline : 10,000,000+\n",
      "Bible KJV : 5,000,000+\n",
      "NOOK: Read eBooks & Magazines : 10,000,000+\n",
      "Brilliant Quotes: Life, Love, Family & Motivation : 1,000,000+\n",
      "Stats Royale for Clash Royale : 1,000,000+\n",
      "Dictionary : 10,000,000+\n",
      "wikiHow: how to do anything : 1,000,000+\n",
      "EGW Writings : 1,000,000+\n",
      "My Little Pony AR Guide : 1,000,000+\n",
      "Spanish English Translator : 10,000,000+\n",
      "Dictionary - Merriam-Webster : 10,000,000+\n",
      "JW Library : 10,000,000+\n",
      "Oxford Dictionary of English : Free : 10,000,000+\n",
      "English Hindi Dictionary : 10,000,000+\n",
      "English to Hindi Dictionary : 5,000,000+\n"
     ]
    }
   ],
   "source": [
    "for app in free_english_android_data_cleaned:\n",
    "  if app[1] == \"BOOKS_AND_REFERENCE\" and (app[5] == \"50,000,000+\" or app[5] == \"10,000,000+\" or app[5] == \"5,000,000+\" or app[5] == \"1,000,000+\"):\n",
    "    print(app[0], ':', app[5])"
   ]
  },
  {
   "cell_type": "markdown",
   "id": "edab3994",
   "metadata": {},
   "source": [
    "The category seems to be dominated by software for processing and reading ebooks, as well as various collections of libraries and dictionaries. If venturing down this category of app, we should not build apps that need to directly compete with these subcategories of app as it will make it more challenging to succeed.\n",
    "\n",
    "There are also many apps built around a highly popular book (such as the Qu'ran), which supports the initial idea discussed in the App Store analysis section above. A potential profitable app could come in the form of taking a more recent popular book and building it into an app with additional features to enhance the user experience. This aligns quite nicely with the landscapes of both the App Store and Google Play marketplaces."
   ]
  }
 ],
 "metadata": {
  "kernelspec": {
   "display_name": "Python 3",
   "language": "python",
   "name": "python3"
  },
  "language_info": {
   "codemirror_mode": {
    "name": "ipython",
    "version": 3
   },
   "file_extension": ".py",
   "mimetype": "text/x-python",
   "name": "python",
   "nbconvert_exporter": "python",
   "pygments_lexer": "ipython3",
   "version": "3.12.5"
  }
 },
 "nbformat": 4,
 "nbformat_minor": 5
}
